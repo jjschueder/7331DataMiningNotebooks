{
 "cells": [
  {
   "cell_type": "markdown",
   "metadata": {
    "colab_type": "text",
    "id": "view-in-github"
   },
   "source": [
    "<a href=\"https://colab.research.google.com/github/jjschueder/7331DataMiningNotebooks/blob/master/lab1/LAB01-DataMining-Joe%20Copy.ipynb\" target=\"_parent\"><img src=\"https://colab.research.google.com/assets/colab-badge.svg\" alt=\"Open In Colab\"/></a>"
   ]
  },
  {
   "cell_type": "markdown",
   "metadata": {
    "colab_type": "text",
    "id": "xOfxcWSajDqP"
   },
   "source": [
    "# Assignment 1"
   ]
  },
  {
   "cell_type": "markdown",
   "metadata": {
    "colab_type": "text",
    "id": "tgb7l65KjDqT"
   },
   "source": [
    " ### Team:  \n",
    "Joseph Schueder,\n",
    "Armando Vela,\n",
    "Daniel Clark,\n",
    "Jeff Washburn"
   ]
  },
  {
   "cell_type": "markdown",
   "metadata": {
    "colab_type": "text",
    "id": "iIykmxBCrcM7"
   },
   "source": [
    "### Load Python Packages"
   ]
  },
  {
   "cell_type": "code",
   "execution_count": 0,
   "metadata": {
    "colab": {},
    "colab_type": "code",
    "id": "nbe-oTWwjDqb"
   },
   "outputs": [],
   "source": [
    "# Import necessary python packages\n",
    "try:\n",
    "    from collections import abc as collections_abc\n",
    "except ImportError:  # Python 2.7\n",
    "    import collections as collections_abc\n",
    "\n",
    "    import copy\n",
    "import functools\n",
    "import gzip\n",
    "import io\n",
    "import itertools\n",
    "import json\n",
    "import math\n",
    "import os\n",
    "import tempfile\n",
    "import uuid\n",
    "import warnings\n",
    "import numpy as np # linear algebra\n",
    "import pandas as pd # data processing, CSV file I/O (e.g. pd.read_csv)\n",
    "import seaborn as sns\n",
    "import numpy as np\n",
    "#import altair as alt\n",
    "import matplotlib.pyplot as plt\n",
    "import re\n",
    "import warnings\n",
    "warnings.simplefilter('ignore', DeprecationWarning)\n",
    "\n",
    "# Imports the Google Cloud client library\n",
    "#from google.cloud import storage\n",
    "from google.oauth2 import service_account\n",
    "from google.cloud import bigquery"
   ]
  },
  {
   "cell_type": "markdown",
   "metadata": {
    "colab_type": "text",
    "id": "8VzJsCilrxi_"
   },
   "source": [
    "### Load Data from github\n",
    "\n",
    "We will be querying the 2019 data and subsetting a random sample of 400,000 rows within the 2 million sales that happened that year for our analysis"
   ]
  },
  {
   "cell_type": "code",
   "execution_count": 10,
   "metadata": {
    "colab": {
     "base_uri": "https://localhost:8080/",
     "height": 428
    },
    "colab_type": "code",
    "executionInfo": {
     "elapsed": 6432,
     "status": "ok",
     "timestamp": 1580095902979,
     "user": {
      "displayName": "Jeff Washburn",
      "photoUrl": "https://lh3.googleusercontent.com/a-/AAuE7mCZnpDDHijaFkdp96nYmzxP8PJ2LzYBGI7ZZdHqiA=s64",
      "userId": "04758382731983255309"
     },
     "user_tz": 360
    },
    "id": "AN-ug53fjDqq",
    "outputId": "6c01aa66-a37d-4ad2-bc75-cb99dffd6d9f"
   },
   "outputs": [
    {
     "data": {
      "text/html": [
       "<div>\n",
       "<style scoped>\n",
       "    .dataframe tbody tr th:only-of-type {\n",
       "        vertical-align: middle;\n",
       "    }\n",
       "\n",
       "    .dataframe tbody tr th {\n",
       "        vertical-align: top;\n",
       "    }\n",
       "\n",
       "    .dataframe thead th {\n",
       "        text-align: right;\n",
       "    }\n",
       "</style>\n",
       "<table border=\"1\" class=\"dataframe\">\n",
       "  <thead>\n",
       "    <tr style=\"text-align: right;\">\n",
       "      <th></th>\n",
       "      <th>invoice_and_item_number</th>\n",
       "      <th>date</th>\n",
       "      <th>store_number</th>\n",
       "      <th>store_name</th>\n",
       "      <th>address</th>\n",
       "      <th>city</th>\n",
       "      <th>zip_code</th>\n",
       "      <th>store_location</th>\n",
       "      <th>county_number</th>\n",
       "      <th>county</th>\n",
       "      <th>category</th>\n",
       "      <th>category_name</th>\n",
       "      <th>vendor_number</th>\n",
       "      <th>vendor_name</th>\n",
       "      <th>item_number</th>\n",
       "      <th>item_description</th>\n",
       "      <th>pack</th>\n",
       "      <th>bottle_volume_ml</th>\n",
       "      <th>state_bottle_cost</th>\n",
       "      <th>state_bottle_retail</th>\n",
       "      <th>bottles_sold</th>\n",
       "      <th>sale_dollars</th>\n",
       "      <th>volume_sold_liters</th>\n",
       "      <th>volume_sold_gallons</th>\n",
       "    </tr>\n",
       "  </thead>\n",
       "  <tbody>\n",
       "    <tr>\n",
       "      <th>0</th>\n",
       "      <td>INV-23084400002</td>\n",
       "      <td>2019-11-07</td>\n",
       "      <td>3869</td>\n",
       "      <td>Bootleggin' Barzini's Fin</td>\n",
       "      <td>412  1st Ave</td>\n",
       "      <td>Coralville</td>\n",
       "      <td>52241.0</td>\n",
       "      <td>POINT (-91.565517 41.672672)</td>\n",
       "      <td>52.0</td>\n",
       "      <td>JOHNSON</td>\n",
       "      <td>1092100.0</td>\n",
       "      <td>Imported Distilled Spirit Specialty</td>\n",
       "      <td>293</td>\n",
       "      <td>JINRO AMERICA INC</td>\n",
       "      <td>989215</td>\n",
       "      <td>Jinro Chamisul Grapefruit Soju</td>\n",
       "      <td>20</td>\n",
       "      <td>375</td>\n",
       "      <td>3.85</td>\n",
       "      <td>5.78</td>\n",
       "      <td>20</td>\n",
       "      <td>115.60</td>\n",
       "      <td>7.50</td>\n",
       "      <td>1.98</td>\n",
       "    </tr>\n",
       "    <tr>\n",
       "      <th>1</th>\n",
       "      <td>INV-23282200001</td>\n",
       "      <td>2019-11-18</td>\n",
       "      <td>4617</td>\n",
       "      <td>Lickety Liquor</td>\n",
       "      <td>2501 HUBBELL AVE</td>\n",
       "      <td>Des Moines</td>\n",
       "      <td>50317.0</td>\n",
       "      <td>POINT (-93.570489 41.607817)</td>\n",
       "      <td>77.0</td>\n",
       "      <td>POLK</td>\n",
       "      <td>1091300.0</td>\n",
       "      <td>Neutral Grain Spirits Flavored</td>\n",
       "      <td>346</td>\n",
       "      <td>OLE SMOKY DISTILLERY LLC</td>\n",
       "      <td>86739</td>\n",
       "      <td>Ole Smoky Apple Pie Moonshine 70prf Mini</td>\n",
       "      <td>8</td>\n",
       "      <td>50</td>\n",
       "      <td>8.75</td>\n",
       "      <td>13.13</td>\n",
       "      <td>1</td>\n",
       "      <td>13.13</td>\n",
       "      <td>0.05</td>\n",
       "      <td>0.01</td>\n",
       "    </tr>\n",
       "    <tr>\n",
       "      <th>2</th>\n",
       "      <td>INV-19435800130</td>\n",
       "      <td>2019-05-17</td>\n",
       "      <td>2560</td>\n",
       "      <td>Hy-Vee Food Store / Marion</td>\n",
       "      <td>3600 Business Hwy 151 East</td>\n",
       "      <td>Marion</td>\n",
       "      <td>52302.0</td>\n",
       "      <td>NaN</td>\n",
       "      <td>57.0</td>\n",
       "      <td>LINN</td>\n",
       "      <td>1042100.0</td>\n",
       "      <td>Imported Dry Gins</td>\n",
       "      <td>35</td>\n",
       "      <td>BACARDI USA INC</td>\n",
       "      <td>28233</td>\n",
       "      <td>Bombay Sapphire Gin</td>\n",
       "      <td>12</td>\n",
       "      <td>1000</td>\n",
       "      <td>16.50</td>\n",
       "      <td>24.75</td>\n",
       "      <td>6</td>\n",
       "      <td>148.50</td>\n",
       "      <td>6.00</td>\n",
       "      <td>1.58</td>\n",
       "    </tr>\n",
       "    <tr>\n",
       "      <th>3</th>\n",
       "      <td>INV-23454200002</td>\n",
       "      <td>2019-11-25</td>\n",
       "      <td>2614</td>\n",
       "      <td>Hy-Vee #3 Food &amp; Drugstore / Davenport</td>\n",
       "      <td>1823 E Kimberly Rd</td>\n",
       "      <td>Davenport</td>\n",
       "      <td>52807.0</td>\n",
       "      <td>POINT (-90.548919 41.55678100000001)</td>\n",
       "      <td>82.0</td>\n",
       "      <td>SCOTT</td>\n",
       "      <td>1011300.0</td>\n",
       "      <td>Single Barrel Bourbon Whiskies</td>\n",
       "      <td>184</td>\n",
       "      <td>FOUR ROSES DISTILLERY</td>\n",
       "      <td>18350</td>\n",
       "      <td>Four Roses Single Barrel</td>\n",
       "      <td>6</td>\n",
       "      <td>750</td>\n",
       "      <td>21.17</td>\n",
       "      <td>31.76</td>\n",
       "      <td>24</td>\n",
       "      <td>762.24</td>\n",
       "      <td>18.00</td>\n",
       "      <td>4.75</td>\n",
       "    </tr>\n",
       "    <tr>\n",
       "      <th>4</th>\n",
       "      <td>INV-23541200001</td>\n",
       "      <td>2019-11-27</td>\n",
       "      <td>2629</td>\n",
       "      <td>Hy-Vee Food Store #2 / Council Bluffs</td>\n",
       "      <td>1745 Madison Ave</td>\n",
       "      <td>Council Bluffs</td>\n",
       "      <td>51503.0</td>\n",
       "      <td>POINT (-95.825137 41.242732)</td>\n",
       "      <td>78.0</td>\n",
       "      <td>POTTAWATTA</td>\n",
       "      <td>1901200.0</td>\n",
       "      <td>Special Order Items</td>\n",
       "      <td>285</td>\n",
       "      <td>Charles Jacquin Et Cie</td>\n",
       "      <td>902291</td>\n",
       "      <td>SOOH Bartenders Bananas Over You</td>\n",
       "      <td>6</td>\n",
       "      <td>1750</td>\n",
       "      <td>9.31</td>\n",
       "      <td>13.97</td>\n",
       "      <td>12</td>\n",
       "      <td>167.64</td>\n",
       "      <td>21.00</td>\n",
       "      <td>5.54</td>\n",
       "    </tr>\n",
       "  </tbody>\n",
       "</table>\n",
       "</div>"
      ],
      "text/plain": [
       "  invoice_and_item_number        date  ...  volume_sold_liters volume_sold_gallons\n",
       "0         INV-23084400002  2019-11-07  ...                7.50                1.98\n",
       "1         INV-23282200001  2019-11-18  ...                0.05                0.01\n",
       "2         INV-19435800130  2019-05-17  ...                6.00                1.58\n",
       "3         INV-23454200002  2019-11-25  ...               18.00                4.75\n",
       "4         INV-23541200001  2019-11-27  ...               21.00                5.54\n",
       "\n",
       "[5 rows x 24 columns]"
      ]
     },
     "execution_count": 10,
     "metadata": {
      "tags": []
     },
     "output_type": "execute_result"
    }
   ],
   "source": [
    "# Read csv from disk\n",
    "#df =  pd.read_csv(r'/Users/jjschued/Documents/Github/7331DataMiningNotebooks/lab1/iowa_subset_2019_400k_random_rows.csv', nrows = 100000)\n",
    "#df =  pd.read_csv(r'/Users/danielclark/Desktop/SMU/data_mining/7331DataMiningNotebooks/lab1/iowa_subset_2019_400k_random_rows.csv', nrows = 50000)\n",
    "\n",
    "# read csv from github directly\n",
    "url_dataset = 'https://github.com/jjschueder/7331DataMiningNotebooks/blob/master/lab1/iowa_subset_2019_400k_random_rows.csv?raw=true'\n",
    "#df = pd.read_csv(url_dataset, nrows=50000)\n",
    "df = pd.read_csv(url_dataset)\n",
    "\n",
    "# verify data read in\n",
    "df.head(5)"
   ]
  },
  {
   "cell_type": "markdown",
   "metadata": {
    "colab_type": "text",
    "id": "WynDvfV4zEzj"
   },
   "source": [
    "### Columns and Descriptions\n",
    "Below are the 24 columns found in the data set along with description of each."
   ]
  },
  {
   "cell_type": "code",
   "execution_count": 11,
   "metadata": {
    "colab": {
     "base_uri": "https://localhost:8080/",
     "height": 510
    },
    "colab_type": "code",
    "executionInfo": {
     "elapsed": 6586,
     "status": "ok",
     "timestamp": 1580095903139,
     "user": {
      "displayName": "Jeff Washburn",
      "photoUrl": "https://lh3.googleusercontent.com/a-/AAuE7mCZnpDDHijaFkdp96nYmzxP8PJ2LzYBGI7ZZdHqiA=s64",
      "userId": "04758382731983255309"
     },
     "user_tz": 360
    },
    "id": "3ooA9j-SsWrR",
    "outputId": "eb0c4c41-f121-4ce4-8ef4-1cda3f236ac8"
   },
   "outputs": [
    {
     "name": "stdout",
     "output_type": "stream",
     "text": [
      "<class 'pandas.core.frame.DataFrame'>\n",
      "RangeIndex: 400000 entries, 0 to 399999\n",
      "Data columns (total 24 columns):\n",
      "invoice_and_item_number    400000 non-null object\n",
      "date                       400000 non-null object\n",
      "store_number               400000 non-null int64\n",
      "store_name                 400000 non-null object\n",
      "address                    399215 non-null object\n",
      "city                       399215 non-null object\n",
      "zip_code                   399215 non-null float64\n",
      "store_location             362936 non-null object\n",
      "county_number              399215 non-null float64\n",
      "county                     399215 non-null object\n",
      "category                   398960 non-null float64\n",
      "category_name              398960 non-null object\n",
      "vendor_number              400000 non-null int64\n",
      "vendor_name                400000 non-null object\n",
      "item_number                400000 non-null int64\n",
      "item_description           400000 non-null object\n",
      "pack                       400000 non-null int64\n",
      "bottle_volume_ml           400000 non-null int64\n",
      "state_bottle_cost          400000 non-null float64\n",
      "state_bottle_retail        400000 non-null float64\n",
      "bottles_sold               400000 non-null int64\n",
      "sale_dollars               400000 non-null float64\n",
      "volume_sold_liters         400000 non-null float64\n",
      "volume_sold_gallons        400000 non-null float64\n",
      "dtypes: float64(8), int64(6), object(10)\n",
      "memory usage: 73.2+ MB\n"
     ]
    }
   ],
   "source": [
    "df.info()"
   ]
  },
  {
   "cell_type": "markdown",
   "metadata": {
    "colab_type": "text",
    "id": "-qW1-cqvzf2p"
   },
   "source": [
    "Detailed Description of each field - referenced from the [data.iowa.gov](https://data.iowa.gov/Sales-Distribution/Iowa-Liquor-Sales/m3tr-qhgy) site that describes the dataset\n",
    "\n",
    "*   invoice_and_item_number (text) - Invoice and item associated with the liquor order.  This is unique identifier \n",
    "*   date (date) - Date of when the order was placed\n",
    "*   store_number (int) - Unique number assigned to the retail store that placed the order\n",
    "*   store_name (text) - Name of the retail store that placed the order\n",
    "*   address (text) - Address of the retail store that placed the order\n",
    "*   city (text) - City of the retail store that placed the order\n",
    "*   zip_code (float) - Zip code of the retail store that placed the order\n",
    "*   store_location (text) - Lat/Long of retail store that placed the order\n",
    "*   county_number (float) - Iowa county number for which the retail store that placed the order resides\n",
    "*   county (text) - County name for which the retail store is located that placed the order\n",
    "*   category (float) - Category code for the liquor that was ordered\n",
    "*   category_name (text) - Category of the liquor that was ordered\n",
    "*   vendor_number (int) - The vendor number of the company for the brand of liquor ordered \n",
    "*   vendor_name (text) - The vendor name of the company for the brand of liquor ordered\n",
    "*   item_number (int) - Item number for individual liquor product ordered\n",
    "*   item_description (text) - Description of the liquor item ordered\n",
    "*   pack (int) - The number of bottles in a case for the liquor ordered\n",
    "*   bottle_volume_ml (int) - Volume of each liquor bottle ordered in milliliters\n",
    "*   state_bottle_cost (float) - The amount that Alcoholic Beverages Division paid for each bottle of liquor ordered\n",
    "*   state_bottle_retail (float) - The amount the store paid for each bottle of liquor ordered\n",
    "*   bottles_sold (int) - Number of bottles of liquor ordered by the retail store\n",
    "*   sale_dollars (float) - Total cost of liquor ordered (bottles_sold * state_bottle_retail)\n",
    "*   volume_sold_liters (float) - Total volume of liquor ordered in liters (bottle_volume_ml * bottles_sold / 1000)\n",
    "*   volume_sold_gallons (float) - Total volume of liquor ordered in gallons (bottle_volume_ml * bottles_sold / 3785.411784)\n",
    "\n",
    "\n",
    "\n"
   ]
  },
  {
   "cell_type": "markdown",
   "metadata": {
    "colab_type": "text",
    "id": "0Pqwl1tXjDqZ"
   },
   "source": [
    "## Data Quality  \n",
    "Verify data quality: Explain any missing values, duplicate data, and outliers. Are those mistakes? How do you deal with these problems? Give justifications for your methods.\n",
    "\n",
    "Running a df.columns.values function, confirms the 24 features that we referenced in our Data understanding phase. This now allows us to move forward with our data cleaning. "
   ]
  },
  {
   "cell_type": "code",
   "execution_count": 12,
   "metadata": {
    "colab": {
     "base_uri": "https://localhost:8080/",
     "height": 136
    },
    "colab_type": "code",
    "executionInfo": {
     "elapsed": 6590,
     "status": "ok",
     "timestamp": 1580095903150,
     "user": {
      "displayName": "Jeff Washburn",
      "photoUrl": "https://lh3.googleusercontent.com/a-/AAuE7mCZnpDDHijaFkdp96nYmzxP8PJ2LzYBGI7ZZdHqiA=s64",
      "userId": "04758382731983255309"
     },
     "user_tz": 360
    },
    "id": "J6jgiMesjDq8",
    "outputId": "cd675db3-7dc2-40cb-c047-f84b4ff6225a"
   },
   "outputs": [
    {
     "data": {
      "text/plain": [
       "array(['invoice_and_item_number', 'date', 'store_number', 'store_name',\n",
       "       'address', 'city', 'zip_code', 'store_location', 'county_number',\n",
       "       'county', 'category', 'category_name', 'vendor_number',\n",
       "       'vendor_name', 'item_number', 'item_description', 'pack',\n",
       "       'bottle_volume_ml', 'state_bottle_cost', 'state_bottle_retail',\n",
       "       'bottles_sold', 'sale_dollars', 'volume_sold_liters',\n",
       "       'volume_sold_gallons'], dtype=object)"
      ]
     },
     "execution_count": 12,
     "metadata": {
      "tags": []
     },
     "output_type": "execute_result"
    }
   ],
   "source": [
    "df.columns.values"
   ]
  },
  {
   "cell_type": "markdown",
   "metadata": {
    "colab_type": "text",
    "id": "vNmrMEbljDrD"
   },
   "source": [
    "### Data Cleaning\n",
    "\n",
    "In our data cleaning step, we need to perform a few specific data cleaning operations to:\n",
    "1.   Convert our features to the correct continuous, ordinal and categorical features.\n",
    "  * Replace the values for pack, bottle_volume_ml, store_number, store_name, address, city, zip_code, county_number, county, category, category_name, vendor_number, vendor_name, item_number and item_description into categorical variables so they register as a non-null object in our model\n",
    "\n",
    "2.   Address the missing values\n",
    "  *   The data has a few fields that are missing data. These missing values primarily are centered around location related information and liquor categorization. Some cleanup will be done by referencing external sources with store name and item description to infer address information. \n",
    "  *   Replace all \"?\", which our dataset denotes as null, into \"-1\" values (not strings). From here, we will convert state_bottle_cost, state_bottle_retail, sale_dollars, volume_sold_liters, and volume_sold_gallons into continuous variables so they register as floats.\n",
    "\n",
    "3.  Check on duplicates.  \n",
    "4.  Create a category that simplifies our alcohol categories to specific genres like whiskey, vodka, tequila, etc.\n",
    "5.   Categorize our store locations into a few easily discernible buckets.\n",
    "6.   Create a month and date column for opportunities to time and date analysis.\n",
    "7.   Convert the variable \"bottles_sold\" into ordinal features so they register as an integer value in our models  \n",
    "8. Identify outliers and normalize them so that they don't skew our analysis and models.\n",
    "\n",
    "Using a df.types function helps to verify this. "
   ]
  },
  {
   "cell_type": "code",
   "execution_count": 13,
   "metadata": {
    "colab": {
     "base_uri": "https://localhost:8080/",
     "height": 442
    },
    "colab_type": "code",
    "executionInfo": {
     "elapsed": 6585,
     "status": "ok",
     "timestamp": 1580095903152,
     "user": {
      "displayName": "Jeff Washburn",
      "photoUrl": "https://lh3.googleusercontent.com/a-/AAuE7mCZnpDDHijaFkdp96nYmzxP8PJ2LzYBGI7ZZdHqiA=s64",
      "userId": "04758382731983255309"
     },
     "user_tz": 360
    },
    "id": "20oVQQRhjDrG",
    "outputId": "c628886b-44ee-4db8-e5c9-e8b36d711d7f"
   },
   "outputs": [
    {
     "data": {
      "text/plain": [
       "invoice_and_item_number     object\n",
       "date                        object\n",
       "store_number                 int64\n",
       "store_name                  object\n",
       "address                     object\n",
       "city                        object\n",
       "zip_code                   float64\n",
       "store_location              object\n",
       "county_number              float64\n",
       "county                      object\n",
       "category                   float64\n",
       "category_name               object\n",
       "vendor_number                int64\n",
       "vendor_name                 object\n",
       "item_number                  int64\n",
       "item_description            object\n",
       "pack                         int64\n",
       "bottle_volume_ml             int64\n",
       "state_bottle_cost          float64\n",
       "state_bottle_retail        float64\n",
       "bottles_sold                 int64\n",
       "sale_dollars               float64\n",
       "volume_sold_liters         float64\n",
       "volume_sold_gallons        float64\n",
       "dtype: object"
      ]
     },
     "execution_count": 13,
     "metadata": {
      "tags": []
     },
     "output_type": "execute_result"
    }
   ],
   "source": [
    "df.dtypes"
   ]
  },
  {
   "cell_type": "markdown",
   "metadata": {
    "colab_type": "text",
    "id": "JOs6ROqH7odu"
   },
   "source": [
    "The following will do some cleanup on values and categorize store, category, and dates into more summarized values"
   ]
  },
  {
   "cell_type": "code",
   "execution_count": 0,
   "metadata": {
    "colab": {},
    "colab_type": "code",
    "id": "-sRVYJlX5EfZ"
   },
   "outputs": [],
   "source": [
    "df_corr = df.copy()"
   ]
  },
  {
   "cell_type": "code",
   "execution_count": 119,
   "metadata": {
    "colab": {
     "base_uri": "https://localhost:8080/",
     "height": 462
    },
    "colab_type": "code",
    "executionInfo": {
     "elapsed": 247798,
     "status": "ok",
     "timestamp": 1580096145773,
     "user": {
      "displayName": "Jeff Washburn",
      "photoUrl": "https://lh3.googleusercontent.com/a-/AAuE7mCZnpDDHijaFkdp96nYmzxP8PJ2LzYBGI7ZZdHqiA=s64",
      "userId": "04758382731983255309"
     },
     "user_tz": 360
    },
    "id": "CU3cnnJP5Efl",
    "outputId": "1af9e332-7ebc-4339-e4ec-9567d50b608e"
   },
   "outputs": [
    {
     "data": {
      "text/html": [
       "<div>\n",
       "<style scoped>\n",
       "    .dataframe tbody tr th:only-of-type {\n",
       "        vertical-align: middle;\n",
       "    }\n",
       "\n",
       "    .dataframe tbody tr th {\n",
       "        vertical-align: top;\n",
       "    }\n",
       "\n",
       "    .dataframe thead th {\n",
       "        text-align: right;\n",
       "    }\n",
       "</style>\n",
       "<table border=\"1\" class=\"dataframe\">\n",
       "  <thead>\n",
       "    <tr style=\"text-align: right;\">\n",
       "      <th></th>\n",
       "      <th>invoice_and_item_number</th>\n",
       "      <th>date</th>\n",
       "      <th>store_number</th>\n",
       "      <th>store_name</th>\n",
       "      <th>address</th>\n",
       "      <th>city</th>\n",
       "      <th>zip_code</th>\n",
       "      <th>store_location</th>\n",
       "      <th>county_number</th>\n",
       "      <th>county</th>\n",
       "      <th>category</th>\n",
       "      <th>category_name</th>\n",
       "      <th>vendor_number</th>\n",
       "      <th>vendor_name</th>\n",
       "      <th>item_number</th>\n",
       "      <th>item_description</th>\n",
       "      <th>pack</th>\n",
       "      <th>bottle_volume_ml</th>\n",
       "      <th>state_bottle_cost</th>\n",
       "      <th>state_bottle_retail</th>\n",
       "      <th>bottles_sold</th>\n",
       "      <th>sale_dollars</th>\n",
       "      <th>volume_sold_liters</th>\n",
       "      <th>volume_sold_gallons</th>\n",
       "      <th>liquor_category</th>\n",
       "      <th>store_parent</th>\n",
       "      <th>month</th>\n",
       "      <th>year</th>\n",
       "      <th>monthyear</th>\n",
       "      <th>sale_dollars_trans</th>\n",
       "      <th>cost_per_liter</th>\n",
       "      <th>cost_per_liter_trans</th>\n",
       "      <th>state_bottle_cost_trans</th>\n",
       "      <th>bottles_sold_trans</th>\n",
       "      <th>volume_sold_liters_trans</th>\n",
       "      <th>grossmargin</th>\n",
       "    </tr>\n",
       "  </thead>\n",
       "  <tbody>\n",
       "    <tr>\n",
       "      <th>0</th>\n",
       "      <td>INV-23084400002</td>\n",
       "      <td>2019-11-07</td>\n",
       "      <td>3869</td>\n",
       "      <td>BOOTLEGGIN' BARZINI'S FIN</td>\n",
       "      <td>412  1st Ave</td>\n",
       "      <td>Coralville</td>\n",
       "      <td>52241</td>\n",
       "      <td>POINT (-91.565517 41.672672)</td>\n",
       "      <td>52</td>\n",
       "      <td>JOHNSON</td>\n",
       "      <td>1.0921e+06</td>\n",
       "      <td>IMPORTED DISTILLED SPIRIT SPECIALTY</td>\n",
       "      <td>293</td>\n",
       "      <td>JINRO AMERICA INC</td>\n",
       "      <td>989215</td>\n",
       "      <td>JINRO CHAMISUL GRAPEFRUIT SOJU</td>\n",
       "      <td>20</td>\n",
       "      <td>375</td>\n",
       "      <td>3.85</td>\n",
       "      <td>5.78</td>\n",
       "      <td>20.0</td>\n",
       "      <td>115.60</td>\n",
       "      <td>7.50</td>\n",
       "      <td>1.98</td>\n",
       "      <td>Other</td>\n",
       "      <td>Other</td>\n",
       "      <td>Nov</td>\n",
       "      <td>2019</td>\n",
       "      <td>Nov-2019</td>\n",
       "      <td>4.750136</td>\n",
       "      <td>15.413333</td>\n",
       "      <td>2.735233</td>\n",
       "      <td>1.348073</td>\n",
       "      <td>2.995732</td>\n",
       "      <td>2.014903</td>\n",
       "      <td>0.333910</td>\n",
       "    </tr>\n",
       "    <tr>\n",
       "      <th>1</th>\n",
       "      <td>INV-23282200001</td>\n",
       "      <td>2019-11-18</td>\n",
       "      <td>4617</td>\n",
       "      <td>LICKETY LIQUOR</td>\n",
       "      <td>2501 HUBBELL AVE</td>\n",
       "      <td>Des Moines</td>\n",
       "      <td>50317</td>\n",
       "      <td>POINT (-93.570489 41.607817)</td>\n",
       "      <td>77</td>\n",
       "      <td>POLK</td>\n",
       "      <td>1.0913e+06</td>\n",
       "      <td>NEUTRAL GRAIN SPIRITS FLAVORED</td>\n",
       "      <td>346</td>\n",
       "      <td>OLE SMOKY DISTILLERY LLC</td>\n",
       "      <td>86739</td>\n",
       "      <td>OLE SMOKY APPLE PIE MOONSHINE 70PRF MINI</td>\n",
       "      <td>8</td>\n",
       "      <td>50</td>\n",
       "      <td>8.75</td>\n",
       "      <td>13.13</td>\n",
       "      <td>1.0</td>\n",
       "      <td>13.13</td>\n",
       "      <td>0.05</td>\n",
       "      <td>0.01</td>\n",
       "      <td>Other</td>\n",
       "      <td>Other</td>\n",
       "      <td>Nov</td>\n",
       "      <td>2019</td>\n",
       "      <td>Nov-2019</td>\n",
       "      <td>2.574900</td>\n",
       "      <td>262.600000</td>\n",
       "      <td>5.570632</td>\n",
       "      <td>2.169054</td>\n",
       "      <td>0.000000</td>\n",
       "      <td>-2.995732</td>\n",
       "      <td>0.333587</td>\n",
       "    </tr>\n",
       "    <tr>\n",
       "      <th>2</th>\n",
       "      <td>INV-19435800130</td>\n",
       "      <td>2019-05-17</td>\n",
       "      <td>2560</td>\n",
       "      <td>HY-VEE FOOD STORE / MARION</td>\n",
       "      <td>3600 Business Hwy 151 East</td>\n",
       "      <td>Marion</td>\n",
       "      <td>52302</td>\n",
       "      <td>blank</td>\n",
       "      <td>57</td>\n",
       "      <td>LINN</td>\n",
       "      <td>1.0421e+06</td>\n",
       "      <td>IMPORTED DRY GINS</td>\n",
       "      <td>35</td>\n",
       "      <td>BACARDI USA INC</td>\n",
       "      <td>28233</td>\n",
       "      <td>BOMBAY SAPPHIRE GIN</td>\n",
       "      <td>12</td>\n",
       "      <td>1000</td>\n",
       "      <td>16.50</td>\n",
       "      <td>24.75</td>\n",
       "      <td>6.0</td>\n",
       "      <td>148.50</td>\n",
       "      <td>6.00</td>\n",
       "      <td>1.58</td>\n",
       "      <td>GIN</td>\n",
       "      <td>Hy-Vee</td>\n",
       "      <td>May</td>\n",
       "      <td>2019</td>\n",
       "      <td>May-2019</td>\n",
       "      <td>5.000585</td>\n",
       "      <td>24.750000</td>\n",
       "      <td>3.208825</td>\n",
       "      <td>2.803360</td>\n",
       "      <td>1.791759</td>\n",
       "      <td>1.791759</td>\n",
       "      <td>0.333333</td>\n",
       "    </tr>\n",
       "    <tr>\n",
       "      <th>3</th>\n",
       "      <td>INV-23454200002</td>\n",
       "      <td>2019-11-25</td>\n",
       "      <td>2614</td>\n",
       "      <td>HY-VEE #3 FOOD &amp; DRUGSTORE / DAVENPORT</td>\n",
       "      <td>1823 E Kimberly Rd</td>\n",
       "      <td>Davenport</td>\n",
       "      <td>52807</td>\n",
       "      <td>POINT (-90.548919 41.55678100000001)</td>\n",
       "      <td>82</td>\n",
       "      <td>SCOTT</td>\n",
       "      <td>1.0113e+06</td>\n",
       "      <td>SINGLE BARREL BOURBON WHISKIES</td>\n",
       "      <td>184</td>\n",
       "      <td>FOUR ROSES DISTILLERY</td>\n",
       "      <td>18350</td>\n",
       "      <td>FOUR ROSES SINGLE BARREL</td>\n",
       "      <td>6</td>\n",
       "      <td>750</td>\n",
       "      <td>21.17</td>\n",
       "      <td>31.76</td>\n",
       "      <td>24.0</td>\n",
       "      <td>762.24</td>\n",
       "      <td>18.00</td>\n",
       "      <td>4.75</td>\n",
       "      <td>WHISKY</td>\n",
       "      <td>Hy-Vee</td>\n",
       "      <td>Nov</td>\n",
       "      <td>2019</td>\n",
       "      <td>Nov-2019</td>\n",
       "      <td>6.636261</td>\n",
       "      <td>42.346667</td>\n",
       "      <td>3.745890</td>\n",
       "      <td>3.052585</td>\n",
       "      <td>3.178054</td>\n",
       "      <td>2.890372</td>\n",
       "      <td>0.333438</td>\n",
       "    </tr>\n",
       "    <tr>\n",
       "      <th>4</th>\n",
       "      <td>INV-23541200001</td>\n",
       "      <td>2019-11-27</td>\n",
       "      <td>2629</td>\n",
       "      <td>HY-VEE FOOD STORE #2 / COUNCIL BLUFFS</td>\n",
       "      <td>1745 Madison Ave</td>\n",
       "      <td>Council Bluffs</td>\n",
       "      <td>51503</td>\n",
       "      <td>POINT (-95.825137 41.242732)</td>\n",
       "      <td>78</td>\n",
       "      <td>POTTAWATTA</td>\n",
       "      <td>1.9012e+06</td>\n",
       "      <td>SPECIAL ORDER ITEMS</td>\n",
       "      <td>285</td>\n",
       "      <td>Charles Jacquin Et Cie</td>\n",
       "      <td>902291</td>\n",
       "      <td>SOOH BARTENDERS BANANAS OVER YOU</td>\n",
       "      <td>6</td>\n",
       "      <td>1750</td>\n",
       "      <td>9.31</td>\n",
       "      <td>13.97</td>\n",
       "      <td>12.0</td>\n",
       "      <td>167.64</td>\n",
       "      <td>21.00</td>\n",
       "      <td>5.54</td>\n",
       "      <td>Other</td>\n",
       "      <td>Hy-Vee</td>\n",
       "      <td>Nov</td>\n",
       "      <td>2019</td>\n",
       "      <td>Nov-2019</td>\n",
       "      <td>5.121819</td>\n",
       "      <td>7.982857</td>\n",
       "      <td>2.077296</td>\n",
       "      <td>2.231089</td>\n",
       "      <td>2.484907</td>\n",
       "      <td>3.044522</td>\n",
       "      <td>0.333572</td>\n",
       "    </tr>\n",
       "  </tbody>\n",
       "</table>\n",
       "</div>"
      ],
      "text/plain": [
       "  invoice_and_item_number        date  ... volume_sold_liters_trans grossmargin\n",
       "0         INV-23084400002  2019-11-07  ...                 2.014903    0.333910\n",
       "1         INV-23282200001  2019-11-18  ...                -2.995732    0.333587\n",
       "2         INV-19435800130  2019-05-17  ...                 1.791759    0.333333\n",
       "3         INV-23454200002  2019-11-25  ...                 2.890372    0.333438\n",
       "4         INV-23541200001  2019-11-27  ...                 3.044522    0.333572\n",
       "\n",
       "[5 rows x 36 columns]"
      ]
     },
     "execution_count": 119,
     "metadata": {
      "tags": []
     },
     "output_type": "execute_result"
    }
   ],
   "source": [
    "df_corr.head()"
   ]
  },
  {
   "cell_type": "code",
   "execution_count": 120,
   "metadata": {
    "colab": {
     "base_uri": "https://localhost:8080/",
     "height": 534
    },
    "colab_type": "code",
    "executionInfo": {
     "elapsed": 247793,
     "status": "ok",
     "timestamp": 1580096145774,
     "user": {
      "displayName": "Jeff Washburn",
      "photoUrl": "https://lh3.googleusercontent.com/a-/AAuE7mCZnpDDHijaFkdp96nYmzxP8PJ2LzYBGI7ZZdHqiA=s64",
      "userId": "04758382731983255309"
     },
     "user_tz": 360
    },
    "id": "00iACfhI5Efm",
    "outputId": "d5ebc9b7-798d-4040-d4f0-37ba80428bbb"
   },
   "outputs": [
    {
     "data": {
      "text/html": [
       "<div>\n",
       "<style scoped>\n",
       "    .dataframe tbody tr th:only-of-type {\n",
       "        vertical-align: middle;\n",
       "    }\n",
       "\n",
       "    .dataframe tbody tr th {\n",
       "        vertical-align: top;\n",
       "    }\n",
       "\n",
       "    .dataframe thead th {\n",
       "        text-align: right;\n",
       "    }\n",
       "</style>\n",
       "<table border=\"1\" class=\"dataframe\">\n",
       "  <thead>\n",
       "    <tr style=\"text-align: right;\">\n",
       "      <th></th>\n",
       "      <th>pack</th>\n",
       "      <th>bottle_volume_ml</th>\n",
       "      <th>state_bottle_cost</th>\n",
       "      <th>state_bottle_retail</th>\n",
       "      <th>bottles_sold</th>\n",
       "      <th>sale_dollars</th>\n",
       "      <th>volume_sold_liters</th>\n",
       "      <th>volume_sold_gallons</th>\n",
       "      <th>sale_dollars_trans</th>\n",
       "      <th>cost_per_liter</th>\n",
       "      <th>cost_per_liter_trans</th>\n",
       "      <th>state_bottle_cost_trans</th>\n",
       "      <th>bottles_sold_trans</th>\n",
       "      <th>volume_sold_liters_trans</th>\n",
       "      <th>grossmargin</th>\n",
       "    </tr>\n",
       "  </thead>\n",
       "  <tbody>\n",
       "    <tr>\n",
       "      <th>pack</th>\n",
       "      <td>1.000000</td>\n",
       "      <td>0.583376</td>\n",
       "      <td>0.396909</td>\n",
       "      <td>0.396613</td>\n",
       "      <td>0.197974</td>\n",
       "      <td>0.044329</td>\n",
       "      <td>0.045399</td>\n",
       "      <td>0.045420</td>\n",
       "      <td>0.149088</td>\n",
       "      <td>0.111411</td>\n",
       "      <td>0.031250</td>\n",
       "      <td>0.659579</td>\n",
       "      <td>0.285858</td>\n",
       "      <td>0.097873</td>\n",
       "      <td>0.029256</td>\n",
       "    </tr>\n",
       "    <tr>\n",
       "      <th>bottle_volume_ml</th>\n",
       "      <td>0.583376</td>\n",
       "      <td>1.000000</td>\n",
       "      <td>0.257163</td>\n",
       "      <td>0.256866</td>\n",
       "      <td>0.050324</td>\n",
       "      <td>0.070925</td>\n",
       "      <td>0.116995</td>\n",
       "      <td>0.117054</td>\n",
       "      <td>0.244269</td>\n",
       "      <td>0.282219</td>\n",
       "      <td>0.487253</td>\n",
       "      <td>0.406372</td>\n",
       "      <td>0.026219</td>\n",
       "      <td>0.490400</td>\n",
       "      <td>0.015925</td>\n",
       "    </tr>\n",
       "    <tr>\n",
       "      <th>state_bottle_cost</th>\n",
       "      <td>0.396909</td>\n",
       "      <td>0.257163</td>\n",
       "      <td>1.000000</td>\n",
       "      <td>0.998987</td>\n",
       "      <td>0.094551</td>\n",
       "      <td>0.093317</td>\n",
       "      <td>0.008615</td>\n",
       "      <td>0.008617</td>\n",
       "      <td>0.274887</td>\n",
       "      <td>0.298577</td>\n",
       "      <td>0.491705</td>\n",
       "      <td>0.824341</td>\n",
       "      <td>0.269951</td>\n",
       "      <td>0.085615</td>\n",
       "      <td>0.021261</td>\n",
       "    </tr>\n",
       "    <tr>\n",
       "      <th>state_bottle_retail</th>\n",
       "      <td>0.396613</td>\n",
       "      <td>0.256866</td>\n",
       "      <td>0.998987</td>\n",
       "      <td>1.000000</td>\n",
       "      <td>0.094477</td>\n",
       "      <td>0.093215</td>\n",
       "      <td>0.008620</td>\n",
       "      <td>0.008622</td>\n",
       "      <td>0.274663</td>\n",
       "      <td>0.298243</td>\n",
       "      <td>0.491232</td>\n",
       "      <td>0.823560</td>\n",
       "      <td>0.269661</td>\n",
       "      <td>0.085501</td>\n",
       "      <td>0.005495</td>\n",
       "    </tr>\n",
       "    <tr>\n",
       "      <th>bottles_sold</th>\n",
       "      <td>0.197974</td>\n",
       "      <td>0.050324</td>\n",
       "      <td>0.094551</td>\n",
       "      <td>0.094477</td>\n",
       "      <td>1.000000</td>\n",
       "      <td>0.806402</td>\n",
       "      <td>0.852826</td>\n",
       "      <td>0.852826</td>\n",
       "      <td>0.419954</td>\n",
       "      <td>0.048674</td>\n",
       "      <td>0.083678</td>\n",
       "      <td>0.172085</td>\n",
       "      <td>0.526076</td>\n",
       "      <td>0.380934</td>\n",
       "      <td>0.004968</td>\n",
       "    </tr>\n",
       "    <tr>\n",
       "      <th>sale_dollars</th>\n",
       "      <td>0.044329</td>\n",
       "      <td>0.070925</td>\n",
       "      <td>0.093317</td>\n",
       "      <td>0.093215</td>\n",
       "      <td>0.806402</td>\n",
       "      <td>1.000000</td>\n",
       "      <td>0.859482</td>\n",
       "      <td>0.859482</td>\n",
       "      <td>0.474039</td>\n",
       "      <td>0.013155</td>\n",
       "      <td>0.017666</td>\n",
       "      <td>0.109463</td>\n",
       "      <td>0.394611</td>\n",
       "      <td>0.361270</td>\n",
       "      <td>0.002498</td>\n",
       "    </tr>\n",
       "    <tr>\n",
       "      <th>volume_sold_liters</th>\n",
       "      <td>0.045399</td>\n",
       "      <td>0.116995</td>\n",
       "      <td>0.008615</td>\n",
       "      <td>0.008620</td>\n",
       "      <td>0.852826</td>\n",
       "      <td>0.859482</td>\n",
       "      <td>1.000000</td>\n",
       "      <td>1.000000</td>\n",
       "      <td>0.371699</td>\n",
       "      <td>0.047608</td>\n",
       "      <td>0.098178</td>\n",
       "      <td>0.007940</td>\n",
       "      <td>0.360519</td>\n",
       "      <td>0.351944</td>\n",
       "      <td>0.000039</td>\n",
       "    </tr>\n",
       "    <tr>\n",
       "      <th>volume_sold_gallons</th>\n",
       "      <td>0.045420</td>\n",
       "      <td>0.117054</td>\n",
       "      <td>0.008617</td>\n",
       "      <td>0.008622</td>\n",
       "      <td>0.852826</td>\n",
       "      <td>0.859482</td>\n",
       "      <td>1.000000</td>\n",
       "      <td>1.000000</td>\n",
       "      <td>0.371718</td>\n",
       "      <td>0.047615</td>\n",
       "      <td>0.098212</td>\n",
       "      <td>0.007950</td>\n",
       "      <td>0.360531</td>\n",
       "      <td>0.351980</td>\n",
       "      <td>0.000039</td>\n",
       "    </tr>\n",
       "    <tr>\n",
       "      <th>sale_dollars_trans</th>\n",
       "      <td>0.149088</td>\n",
       "      <td>0.244269</td>\n",
       "      <td>0.274887</td>\n",
       "      <td>0.274663</td>\n",
       "      <td>0.419954</td>\n",
       "      <td>0.474039</td>\n",
       "      <td>0.371699</td>\n",
       "      <td>0.371718</td>\n",
       "      <td>1.000000</td>\n",
       "      <td>0.042377</td>\n",
       "      <td>0.008465</td>\n",
       "      <td>0.308425</td>\n",
       "      <td>0.781589</td>\n",
       "      <td>0.790142</td>\n",
       "      <td>0.006441</td>\n",
       "    </tr>\n",
       "    <tr>\n",
       "      <th>cost_per_liter</th>\n",
       "      <td>0.111411</td>\n",
       "      <td>0.282219</td>\n",
       "      <td>0.298577</td>\n",
       "      <td>0.298243</td>\n",
       "      <td>0.048674</td>\n",
       "      <td>0.013155</td>\n",
       "      <td>0.047608</td>\n",
       "      <td>0.047615</td>\n",
       "      <td>0.042377</td>\n",
       "      <td>1.000000</td>\n",
       "      <td>0.691285</td>\n",
       "      <td>0.220768</td>\n",
       "      <td>0.186546</td>\n",
       "      <td>0.456984</td>\n",
       "      <td>0.006487</td>\n",
       "    </tr>\n",
       "    <tr>\n",
       "      <th>cost_per_liter_trans</th>\n",
       "      <td>0.031250</td>\n",
       "      <td>0.487253</td>\n",
       "      <td>0.491705</td>\n",
       "      <td>0.491232</td>\n",
       "      <td>0.083678</td>\n",
       "      <td>0.017666</td>\n",
       "      <td>0.098178</td>\n",
       "      <td>0.098212</td>\n",
       "      <td>0.008465</td>\n",
       "      <td>0.691285</td>\n",
       "      <td>1.000000</td>\n",
       "      <td>0.465470</td>\n",
       "      <td>0.313803</td>\n",
       "      <td>0.619590</td>\n",
       "      <td>0.014498</td>\n",
       "    </tr>\n",
       "    <tr>\n",
       "      <th>state_bottle_cost_trans</th>\n",
       "      <td>0.659579</td>\n",
       "      <td>0.406372</td>\n",
       "      <td>0.824341</td>\n",
       "      <td>0.823560</td>\n",
       "      <td>0.172085</td>\n",
       "      <td>0.109463</td>\n",
       "      <td>0.007940</td>\n",
       "      <td>0.007950</td>\n",
       "      <td>0.308425</td>\n",
       "      <td>0.220768</td>\n",
       "      <td>0.465470</td>\n",
       "      <td>1.000000</td>\n",
       "      <td>0.352067</td>\n",
       "      <td>0.043208</td>\n",
       "      <td>0.033451</td>\n",
       "    </tr>\n",
       "    <tr>\n",
       "      <th>bottles_sold_trans</th>\n",
       "      <td>0.285858</td>\n",
       "      <td>0.026219</td>\n",
       "      <td>0.269951</td>\n",
       "      <td>0.269661</td>\n",
       "      <td>0.526076</td>\n",
       "      <td>0.394611</td>\n",
       "      <td>0.360519</td>\n",
       "      <td>0.360531</td>\n",
       "      <td>0.781589</td>\n",
       "      <td>0.186546</td>\n",
       "      <td>0.313803</td>\n",
       "      <td>0.352067</td>\n",
       "      <td>1.000000</td>\n",
       "      <td>0.805856</td>\n",
       "      <td>0.015356</td>\n",
       "    </tr>\n",
       "    <tr>\n",
       "      <th>volume_sold_liters_trans</th>\n",
       "      <td>0.097873</td>\n",
       "      <td>0.490400</td>\n",
       "      <td>0.085615</td>\n",
       "      <td>0.085501</td>\n",
       "      <td>0.380934</td>\n",
       "      <td>0.361270</td>\n",
       "      <td>0.351944</td>\n",
       "      <td>0.351980</td>\n",
       "      <td>0.790142</td>\n",
       "      <td>0.456984</td>\n",
       "      <td>0.619590</td>\n",
       "      <td>0.043208</td>\n",
       "      <td>0.805856</td>\n",
       "      <td>1.000000</td>\n",
       "      <td>0.003830</td>\n",
       "    </tr>\n",
       "    <tr>\n",
       "      <th>grossmargin</th>\n",
       "      <td>0.029256</td>\n",
       "      <td>0.015925</td>\n",
       "      <td>0.021261</td>\n",
       "      <td>0.005495</td>\n",
       "      <td>0.004968</td>\n",
       "      <td>0.002498</td>\n",
       "      <td>0.000039</td>\n",
       "      <td>0.000039</td>\n",
       "      <td>0.006441</td>\n",
       "      <td>0.006487</td>\n",
       "      <td>0.014498</td>\n",
       "      <td>0.033451</td>\n",
       "      <td>0.015356</td>\n",
       "      <td>0.003830</td>\n",
       "      <td>1.000000</td>\n",
       "    </tr>\n",
       "  </tbody>\n",
       "</table>\n",
       "</div>"
      ],
      "text/plain": [
       "                              pack  ...  grossmargin\n",
       "pack                      1.000000  ...     0.029256\n",
       "bottle_volume_ml          0.583376  ...     0.015925\n",
       "state_bottle_cost         0.396909  ...     0.021261\n",
       "state_bottle_retail       0.396613  ...     0.005495\n",
       "bottles_sold              0.197974  ...     0.004968\n",
       "sale_dollars              0.044329  ...     0.002498\n",
       "volume_sold_liters        0.045399  ...     0.000039\n",
       "volume_sold_gallons       0.045420  ...     0.000039\n",
       "sale_dollars_trans        0.149088  ...     0.006441\n",
       "cost_per_liter            0.111411  ...     0.006487\n",
       "cost_per_liter_trans      0.031250  ...     0.014498\n",
       "state_bottle_cost_trans   0.659579  ...     0.033451\n",
       "bottles_sold_trans        0.285858  ...     0.015356\n",
       "volume_sold_liters_trans  0.097873  ...     0.003830\n",
       "grossmargin               0.029256  ...     1.000000\n",
       "\n",
       "[15 rows x 15 columns]"
      ]
     },
     "execution_count": 120,
     "metadata": {
      "tags": []
     },
     "output_type": "execute_result"
    }
   ],
   "source": [
    "\n",
    "# Create correlation matrix\n",
    "corr_matrix = df_corr.corr().abs()\n",
    "corr_matrix"
   ]
  },
  {
   "cell_type": "code",
   "execution_count": 0,
   "metadata": {
    "colab": {},
    "colab_type": "code",
    "id": "0D6IH9iU5Efo"
   },
   "outputs": [],
   "source": [
    "upper = corr_matrix.where(np.triu(np.ones(corr_matrix.shape), k=1).astype(np.bool))\n",
    "\n",
    "# Select upper triangle of correlation matrix\n",
    "upper = corr_matrix.where(np.triu(np.ones(corr_matrix.shape), k=1).astype(np.bool))\n",
    "\n",
    "# Find index of feature columns with correlation greater than 0.95\n",
    "to_drop = [column for column in upper.columns if any(upper[column] > 0.95)]\n",
    "\n",
    "# courtesy of https://chrisalbon.com/machine_learning/feature_selection/drop_highly_correlated_features/"
   ]
  },
  {
   "cell_type": "code",
   "execution_count": 122,
   "metadata": {
    "colab": {
     "base_uri": "https://localhost:8080/",
     "height": 34
    },
    "colab_type": "code",
    "executionInfo": {
     "elapsed": 247776,
     "status": "ok",
     "timestamp": 1580096145777,
     "user": {
      "displayName": "Jeff Washburn",
      "photoUrl": "https://lh3.googleusercontent.com/a-/AAuE7mCZnpDDHijaFkdp96nYmzxP8PJ2LzYBGI7ZZdHqiA=s64",
      "userId": "04758382731983255309"
     },
     "user_tz": 360
    },
    "id": "ekMnenpX5Efs",
    "outputId": "0d4d7400-82ca-498b-a2bb-6d204373f643"
   },
   "outputs": [
    {
     "data": {
      "text/plain": [
       "['state_bottle_retail', 'volume_sold_gallons']"
      ]
     },
     "execution_count": 122,
     "metadata": {
      "tags": []
     },
     "output_type": "execute_result"
    }
   ],
   "source": [
    "to_drop"
   ]
  },
  {
   "cell_type": "markdown",
   "metadata": {
    "colab_type": "text",
    "id": "euFQv5HU5Efv"
   },
   "source": [
    "Looking at our correlation matrix, we can see which measures meet our criteria of removing features that have a greater than 95% correlation. As the predictability of one feature will determine another, which will cause us to want to do a dimensionality reduction. \n",
    "In our case, we are going to remove state_bottle_retail as it correlates highly with state_bottle_cost, as well as volume_sold_gallons as it correlates perfectly with volume_sold_liters."
   ]
  },
  {
   "cell_type": "code",
   "execution_count": 0,
   "metadata": {
    "colab": {},
    "colab_type": "code",
    "id": "5_PKuOOr5Efv"
   },
   "outputs": [],
   "source": [
    "# Drop features \n",
    "df_corr = df_corr.drop(df_corr[to_drop], axis=1)"
   ]
  },
  {
   "cell_type": "markdown",
   "metadata": {
    "colab_type": "text",
    "id": "em7qXL875Ef1"
   },
   "source": [
    "### Feature Reduction using PCA and LDA\n",
    "PCA  \n",
    "To run a PCA analysis, we will want to first remove some of the highly correlated variables which may throw off our analysis. This will mean we should run a correlation plot and set our correlation threshold to 0.95, which we will remove variables if exceeded. \n",
    "\n",
    "First, lets take a look at our Seaborn plot that we will use to run principal component analysis. To get started, we will want to create dummies for each of our categories of alcohol, so that we have a single binary under Whiskey as the sale was a whiskey drink (1) or it was not (0)"
   ]
  },
  {
   "cell_type": "code",
   "execution_count": 0,
   "metadata": {
    "colab": {},
    "colab_type": "code",
    "id": "8_XjsXjR5Ef4"
   },
   "outputs": [],
   "source": [
    "df_corr2 = pd.get_dummies(df['liquor_category'], drop_first=False)\n",
    "\n",
    "df_corr = pd.concat([df_corr, df_corr2], axis = 1, sort=False)\n",
    "\n"
   ]
  },
  {
   "cell_type": "code",
   "execution_count": 125,
   "metadata": {
    "colab": {
     "base_uri": "https://localhost:8080/",
     "height": 224
    },
    "colab_type": "code",
    "executionInfo": {
     "elapsed": 248776,
     "status": "ok",
     "timestamp": 1580096146808,
     "user": {
      "displayName": "Jeff Washburn",
      "photoUrl": "https://lh3.googleusercontent.com/a-/AAuE7mCZnpDDHijaFkdp96nYmzxP8PJ2LzYBGI7ZZdHqiA=s64",
      "userId": "04758382731983255309"
     },
     "user_tz": 360
    },
    "id": "6_JtFvSq5Ef5",
    "outputId": "def73437-1d90-4714-cbde-aee89be490ba"
   },
   "outputs": [
    {
     "name": "stderr",
     "output_type": "stream",
     "text": [
      "/usr/local/lib/python3.6/dist-packages/sklearn/utils/validation.py:760: DataConversionWarning: A column-vector y was passed when a 1d array was expected. Please change the shape of y to (n_samples, ), for example using ravel().\n",
      "  y = column_or_1d(y, warn=True)\n",
      "/usr/local/lib/python3.6/dist-packages/sklearn/discriminant_analysis.py:463: ChangedBehaviorWarning: n_components cannot be larger than min(n_features, n_classes - 1). Using min(n_features, n_classes - 1) = min(6, 2 - 1) = 1 components.\n",
      "  ChangedBehaviorWarning)\n",
      "/usr/local/lib/python3.6/dist-packages/sklearn/discriminant_analysis.py:469: FutureWarning: In version 0.23, setting n_components > min(n_features, n_classes - 1) will raise a ValueError. You should set n_components to None (default), or a value smaller or equal to min(n_features, n_classes - 1).\n",
      "  warnings.warn(future_msg, FutureWarning)\n"
     ]
    },
    {
     "name": "stdout",
     "output_type": "stream",
     "text": [
      "pca: [[-8.76772443e-03  9.99901289e-01  3.74780890e-03 -3.38111153e-03\n",
      "   4.65116586e-04  9.73881295e-03]\n",
      " [ 1.24510277e-02 -5.35907991e-03 -8.40892784e-03  6.24229067e-01\n",
      "   7.24862636e-03  7.81044859e-01]]\n",
      "lda: [[-0.00589082 -0.00095126  0.13870644 -0.00166674  0.04170408  0.00042601]]\n"
     ]
    }
   ],
   "source": [
    "# now let's use PCA, and LDA to find the two \"best\" dimensions of this data\n",
    "# these are linear transforms to help project the features into something more understandable\n",
    "\n",
    "from sklearn.decomposition import PCA\n",
    "from sklearn.discriminant_analysis import LinearDiscriminantAnalysis as LDA\n",
    "\n",
    "#drop the response variable from x\n",
    "# one hot encoding to category\n",
    "features = ['pack', 'bottle_volume_ml', 'state_bottle_cost', 'bottles_sold', 'sale_dollars_trans', 'volume_sold_liters']\n",
    "\n",
    "X = df_corr.loc[:, features].values\n",
    "# run this second line below which compiles all the features that i want to use to predict category, or the column we want to predict\n",
    "#X = X.drop (category, inplace = True)\n",
    "y = df_corr.loc[:, ['WHISKY']].values\n",
    "#target_names = df_corr.store_parent_names\n",
    "\n",
    "pca = PCA(n_components=2)\n",
    "X_pca = pca.fit(X).transform(X) # fit data and then transform it\n",
    "\n",
    "lda = LDA(n_components=2)\n",
    "X_lda = lda.fit(X, y).transform(X) # fit data and then transform it\n",
    "\n",
    "# print the components\n",
    "\n",
    "print ('pca:', pca.components_)\n",
    "print ('lda:', lda.scalings_.T)"
   ]
  },
  {
   "cell_type": "markdown",
   "metadata": {
    "colab_type": "text",
    "id": "Mas915a25Ef7"
   },
   "source": [
    "Now what we did here was isolate our categorical variable \"Whiskey\" and fit a PCA and LDA model using the continuous variables remaining in the set. Using this, our model will be able to advise on how much we can explain variance using the different principal components. \n",
    "Scaling it in this way allows our model to utilize and compare all variables on the same plane. "
   ]
  },
  {
   "cell_type": "code",
   "execution_count": 126,
   "metadata": {
    "colab": {
     "base_uri": "https://localhost:8080/",
     "height": 297
    },
    "colab_type": "code",
    "executionInfo": {
     "elapsed": 248763,
     "status": "ok",
     "timestamp": 1580096146809,
     "user": {
      "displayName": "Jeff Washburn",
      "photoUrl": "https://lh3.googleusercontent.com/a-/AAuE7mCZnpDDHijaFkdp96nYmzxP8PJ2LzYBGI7ZZdHqiA=s64",
      "userId": "04758382731983255309"
     },
     "user_tz": 360
    },
    "id": "PpoY348h5Ef8",
    "outputId": "5dd7de8c-b916-41ac-a313-752ba206a69e"
   },
   "outputs": [
    {
     "data": {
      "text/html": [
       "<div>\n",
       "<style scoped>\n",
       "    .dataframe tbody tr th:only-of-type {\n",
       "        vertical-align: middle;\n",
       "    }\n",
       "\n",
       "    .dataframe tbody tr th {\n",
       "        vertical-align: top;\n",
       "    }\n",
       "\n",
       "    .dataframe thead th {\n",
       "        text-align: right;\n",
       "    }\n",
       "</style>\n",
       "<table border=\"1\" class=\"dataframe\">\n",
       "  <thead>\n",
       "    <tr style=\"text-align: right;\">\n",
       "      <th></th>\n",
       "      <th>principal component 1</th>\n",
       "      <th>principal component 2</th>\n",
       "    </tr>\n",
       "  </thead>\n",
       "  <tbody>\n",
       "    <tr>\n",
       "      <th>count</th>\n",
       "      <td>4.000000e+05</td>\n",
       "      <td>4.000000e+05</td>\n",
       "    </tr>\n",
       "    <tr>\n",
       "      <th>mean</th>\n",
       "      <td>2.130926e-11</td>\n",
       "      <td>1.473875e-12</td>\n",
       "    </tr>\n",
       "    <tr>\n",
       "      <th>std</th>\n",
       "      <td>5.578664e+02</td>\n",
       "      <td>5.748631e+01</td>\n",
       "    </tr>\n",
       "    <tr>\n",
       "      <th>min</th>\n",
       "      <td>-9.352922e+02</td>\n",
       "      <td>-3.959859e+01</td>\n",
       "    </tr>\n",
       "    <tr>\n",
       "      <th>25%</th>\n",
       "      <td>-2.101569e+02</td>\n",
       "      <td>-1.185425e+01</td>\n",
       "    </tr>\n",
       "    <tr>\n",
       "      <th>50%</th>\n",
       "      <td>-2.100968e+02</td>\n",
       "      <td>-9.353322e+00</td>\n",
       "    </tr>\n",
       "    <tr>\n",
       "      <th>75%</th>\n",
       "      <td>7.898191e+02</td>\n",
       "      <td>-1.319139e+00</td>\n",
       "    </tr>\n",
       "    <tr>\n",
       "      <th>max</th>\n",
       "      <td>5.040052e+03</td>\n",
       "      <td>7.504936e+03</td>\n",
       "    </tr>\n",
       "  </tbody>\n",
       "</table>\n",
       "</div>"
      ],
      "text/plain": [
       "       principal component 1  principal component 2\n",
       "count           4.000000e+05           4.000000e+05\n",
       "mean            2.130926e-11           1.473875e-12\n",
       "std             5.578664e+02           5.748631e+01\n",
       "min            -9.352922e+02          -3.959859e+01\n",
       "25%            -2.101569e+02          -1.185425e+01\n",
       "50%            -2.100968e+02          -9.353322e+00\n",
       "75%             7.898191e+02          -1.319139e+00\n",
       "max             5.040052e+03           7.504936e+03"
      ]
     },
     "execution_count": 126,
     "metadata": {
      "tags": []
     },
     "output_type": "execute_result"
    }
   ],
   "source": [
    "principalDf = pd.DataFrame(data = X_pca\n",
    "             , columns = ['principal component 1', 'principal component 2'])\n",
    "\n",
    "principalDf.describe()"
   ]
  },
  {
   "cell_type": "markdown",
   "metadata": {
    "colab_type": "text",
    "id": "WMSsyY8N5Ef-"
   },
   "source": [
    "Creating a dataframe of our principal components, we can see that there is quite a range in the values we have, from the negatives to the positives, with also a strong standard deviation. \n",
    "The mean principal component is nearly off the scale due to the effect of outliers. "
   ]
  },
  {
   "cell_type": "code",
   "execution_count": 127,
   "metadata": {
    "colab": {
     "base_uri": "https://localhost:8080/",
     "height": 204
    },
    "colab_type": "code",
    "executionInfo": {
     "elapsed": 248758,
     "status": "ok",
     "timestamp": 1580096146810,
     "user": {
      "displayName": "Jeff Washburn",
      "photoUrl": "https://lh3.googleusercontent.com/a-/AAuE7mCZnpDDHijaFkdp96nYmzxP8PJ2LzYBGI7ZZdHqiA=s64",
      "userId": "04758382731983255309"
     },
     "user_tz": 360
    },
    "id": "KGoVUc4E5Ef-",
    "outputId": "d92b569d-5991-4fc4-ebf3-71caa8d3974f"
   },
   "outputs": [
    {
     "data": {
      "text/html": [
       "<div>\n",
       "<style scoped>\n",
       "    .dataframe tbody tr th:only-of-type {\n",
       "        vertical-align: middle;\n",
       "    }\n",
       "\n",
       "    .dataframe tbody tr th {\n",
       "        vertical-align: top;\n",
       "    }\n",
       "\n",
       "    .dataframe thead th {\n",
       "        text-align: right;\n",
       "    }\n",
       "</style>\n",
       "<table border=\"1\" class=\"dataframe\">\n",
       "  <thead>\n",
       "    <tr style=\"text-align: right;\">\n",
       "      <th></th>\n",
       "      <th>principal component 1</th>\n",
       "      <th>principal component 2</th>\n",
       "      <th>WHISKY</th>\n",
       "    </tr>\n",
       "  </thead>\n",
       "  <tbody>\n",
       "    <tr>\n",
       "      <th>0</th>\n",
       "      <td>-585.208120</td>\n",
       "      <td>4.613021</td>\n",
       "      <td>0</td>\n",
       "    </tr>\n",
       "    <tr>\n",
       "      <th>1</th>\n",
       "      <td>-910.061786</td>\n",
       "      <td>-11.530798</td>\n",
       "      <td>0</td>\n",
       "    </tr>\n",
       "    <tr>\n",
       "      <th>2</th>\n",
       "      <td>39.880582</td>\n",
       "      <td>-8.851344</td>\n",
       "      <td>0</td>\n",
       "    </tr>\n",
       "    <tr>\n",
       "      <th>3</th>\n",
       "      <td>-209.967866</td>\n",
       "      <td>12.994968</td>\n",
       "      <td>1</td>\n",
       "    </tr>\n",
       "    <tr>\n",
       "      <th>4</th>\n",
       "      <td>789.958060</td>\n",
       "      <td>2.577026</td>\n",
       "      <td>0</td>\n",
       "    </tr>\n",
       "  </tbody>\n",
       "</table>\n",
       "</div>"
      ],
      "text/plain": [
       "   principal component 1  principal component 2  WHISKY\n",
       "0            -585.208120               4.613021       0\n",
       "1            -910.061786             -11.530798       0\n",
       "2              39.880582              -8.851344       0\n",
       "3            -209.967866              12.994968       1\n",
       "4             789.958060               2.577026       0"
      ]
     },
     "execution_count": 127,
     "metadata": {
      "tags": []
     },
     "output_type": "execute_result"
    }
   ],
   "source": [
    "finalDf = pd.concat([principalDf, df_corr[['WHISKY']]], axis = 1)\n",
    "\n",
    "finalDf.head()"
   ]
  },
  {
   "cell_type": "code",
   "execution_count": 128,
   "metadata": {
    "colab": {
     "base_uri": "https://localhost:8080/",
     "height": 634
    },
    "colab_type": "code",
    "executionInfo": {
     "elapsed": 256926,
     "status": "ok",
     "timestamp": 1580096154986,
     "user": {
      "displayName": "Jeff Washburn",
      "photoUrl": "https://lh3.googleusercontent.com/a-/AAuE7mCZnpDDHijaFkdp96nYmzxP8PJ2LzYBGI7ZZdHqiA=s64",
      "userId": "04758382731983255309"
     },
     "user_tz": 360
    },
    "id": "WkYsmLNM5EgA",
    "outputId": "96fef835-5c3f-4cb0-c65f-642ab054fffd",
    "scrolled": true
   },
   "outputs": [
    {
     "data": {
      "image/png": "[encoded data removed]",
      "text/plain": [
       "<Figure size 720x720 with 1 Axes>"
      ]
     },
     "metadata": {
      "tags": []
     },
     "output_type": "display_data"
    }
   ],
   "source": [
    "fig = plt.figure(figsize = (10,10))\n",
    "ax = fig.add_subplot(1,1,1) \n",
    "ax.set_xlabel('Principal Component 1', fontsize = 15)\n",
    "ax.set_ylabel('Principal Component 2', fontsize = 15)\n",
    "ax.set_title('2 component PCA', fontsize = 20)\n",
    "targets = ['Whiskey', 'Not Whiskey']\n",
    "colors = ['r', 'g', 'b']\n",
    "for target, color in zip(targets,colors):\n",
    "    indicesToKeep = finalDf['WHISKY'] == 0\n",
    "    ax.scatter(finalDf.loc[indicesToKeep, 'principal component 1']\n",
    "               , finalDf.loc[indicesToKeep, 'principal component 2']\n",
    "               , c = color\n",
    "               , s = 40)\n",
    "ax.legend(targets)\n",
    "ax.grid()"
   ]
  },
  {
   "cell_type": "markdown",
   "metadata": {
    "colab_type": "text",
    "id": "Q5O6IxeL5EgE"
   },
   "source": [
    "Looking at the plot we graphed, we can see the effect of outliers and the fact that non/whiskeys have quite a presence in our chart. \n",
    "Our explained variance ratio below shows that we can explain 97% of the variance with one principal component, and less than 3% with the second principal component."
   ]
  },
  {
   "cell_type": "code",
   "execution_count": 129,
   "metadata": {
    "colab": {
     "base_uri": "https://localhost:8080/",
     "height": 34
    },
    "colab_type": "code",
    "executionInfo": {
     "elapsed": 256923,
     "status": "ok",
     "timestamp": 1580096154989,
     "user": {
      "displayName": "Jeff Washburn",
      "photoUrl": "https://lh3.googleusercontent.com/a-/AAuE7mCZnpDDHijaFkdp96nYmzxP8PJ2LzYBGI7ZZdHqiA=s64",
      "userId": "04758382731983255309"
     },
     "user_tz": 360
    },
    "id": "8OytcxnA5EgG",
    "outputId": "64c676a8-453c-44ac-ad61-adb2a602aa41"
   },
   "outputs": [
    {
     "data": {
      "text/plain": [
       "array([0.98843761, 0.01049585])"
      ]
     },
     "execution_count": 129,
     "metadata": {
      "tags": []
     },
     "output_type": "execute_result"
    }
   ],
   "source": [
    "pca.explained_variance_ratio_"
   ]
  },
  {
   "cell_type": "code",
   "execution_count": 130,
   "metadata": {
    "colab": {
     "base_uri": "https://localhost:8080/",
     "height": 238
    },
    "colab_type": "code",
    "executionInfo": {
     "elapsed": 256919,
     "status": "ok",
     "timestamp": 1580096154990,
     "user": {
      "displayName": "Jeff Washburn",
      "photoUrl": "https://lh3.googleusercontent.com/a-/AAuE7mCZnpDDHijaFkdp96nYmzxP8PJ2LzYBGI7ZZdHqiA=s64",
      "userId": "04758382731983255309"
     },
     "user_tz": 360
    },
    "id": "lk9VZJYX5EgI",
    "outputId": "c9ee4fcd-0b67-494a-fcdb-dfcee30f6e32"
   },
   "outputs": [
    {
     "name": "stderr",
     "output_type": "stream",
     "text": [
      "/usr/local/lib/python3.6/dist-packages/pandas/core/series.py:856: RuntimeWarning: invalid value encountered in log\n",
      "  result = getattr(ufunc, method)(*inputs, **kwargs)\n"
     ]
    },
    {
     "data": {
      "text/html": [
       "<div>\n",
       "<style scoped>\n",
       "    .dataframe tbody tr th:only-of-type {\n",
       "        vertical-align: middle;\n",
       "    }\n",
       "\n",
       "    .dataframe tbody tr th {\n",
       "        vertical-align: top;\n",
       "    }\n",
       "\n",
       "    .dataframe thead th {\n",
       "        text-align: right;\n",
       "    }\n",
       "</style>\n",
       "<table border=\"1\" class=\"dataframe\">\n",
       "  <thead>\n",
       "    <tr style=\"text-align: right;\">\n",
       "      <th></th>\n",
       "      <th>principal component 1</th>\n",
       "      <th>principal component 2</th>\n",
       "      <th>WHISKY</th>\n",
       "      <th>principal component 1 trans</th>\n",
       "      <th>principal component 2 trans</th>\n",
       "    </tr>\n",
       "  </thead>\n",
       "  <tbody>\n",
       "    <tr>\n",
       "      <th>0</th>\n",
       "      <td>-585.208120</td>\n",
       "      <td>4.613021</td>\n",
       "      <td>0</td>\n",
       "      <td>NaN</td>\n",
       "      <td>1.528883</td>\n",
       "    </tr>\n",
       "    <tr>\n",
       "      <th>1</th>\n",
       "      <td>-910.061786</td>\n",
       "      <td>-11.530798</td>\n",
       "      <td>0</td>\n",
       "      <td>NaN</td>\n",
       "      <td>NaN</td>\n",
       "    </tr>\n",
       "    <tr>\n",
       "      <th>2</th>\n",
       "      <td>39.880582</td>\n",
       "      <td>-8.851344</td>\n",
       "      <td>0</td>\n",
       "      <td>3.68589</td>\n",
       "      <td>NaN</td>\n",
       "    </tr>\n",
       "    <tr>\n",
       "      <th>3</th>\n",
       "      <td>-209.967866</td>\n",
       "      <td>12.994968</td>\n",
       "      <td>1</td>\n",
       "      <td>NaN</td>\n",
       "      <td>2.564562</td>\n",
       "    </tr>\n",
       "    <tr>\n",
       "      <th>4</th>\n",
       "      <td>789.958060</td>\n",
       "      <td>2.577026</td>\n",
       "      <td>0</td>\n",
       "      <td>6.67198</td>\n",
       "      <td>0.946636</td>\n",
       "    </tr>\n",
       "  </tbody>\n",
       "</table>\n",
       "</div>"
      ],
      "text/plain": [
       "   principal component 1  ...  principal component 2 trans\n",
       "0            -585.208120  ...                     1.528883\n",
       "1            -910.061786  ...                          NaN\n",
       "2              39.880582  ...                          NaN\n",
       "3            -209.967866  ...                     2.564562\n",
       "4             789.958060  ...                     0.946636\n",
       "\n",
       "[5 rows x 5 columns]"
      ]
     },
     "execution_count": 130,
     "metadata": {
      "tags": []
     },
     "output_type": "execute_result"
    }
   ],
   "source": [
    "#lets transform our outliers to make them easier to read. \n",
    "\n",
    "finalDf2 = finalDf\n",
    "\n",
    "finalDf2['principal component 1 trans'] = np.log(finalDf['principal component 1'])\n",
    "finalDf2['principal component 2 trans'] = np.log(finalDf['principal component 2'])\n",
    "\n",
    "finalDf2.head()"
   ]
  },
  {
   "cell_type": "code",
   "execution_count": 131,
   "metadata": {
    "colab": {
     "base_uri": "https://localhost:8080/",
     "height": 634
    },
    "colab_type": "code",
    "executionInfo": {
     "elapsed": 258008,
     "status": "ok",
     "timestamp": 1580096156108,
     "user": {
      "displayName": "Jeff Washburn",
      "photoUrl": "https://lh3.googleusercontent.com/a-/AAuE7mCZnpDDHijaFkdp96nYmzxP8PJ2LzYBGI7ZZdHqiA=s64",
      "userId": "04758382731983255309"
     },
     "user_tz": 360
    },
    "id": "5pxZqVRO5EgL",
    "outputId": "63567c7f-b58a-42c6-b3be-57353ab63b74"
   },
   "outputs": [
    {
     "data": {
      "image/png": "[encoded data removed]",
      "text/plain": [
       "<Figure size 720x720 with 1 Axes>"
      ]
     },
     "metadata": {
      "tags": []
     },
     "output_type": "display_data"
    }
   ],
   "source": [
    "fig = plt.figure(figsize = (10,10))\n",
    "ax = fig.add_subplot(1,1,1) \n",
    "ax.set_xlabel('Principal Component 1', fontsize = 15)\n",
    "ax.set_ylabel('Principal Component 2', fontsize = 15)\n",
    "ax.set_title('2 component PCA', fontsize = 20)\n",
    "targets = ['Whiskey', 'Not Whiskey']\n",
    "colors = ['r', 'g', 'b']\n",
    "for target, color in zip(targets,colors):\n",
    "    indicesToKeep = finalDf2['WHISKY'] == 1\n",
    "    ax.scatter(finalDf2.loc[indicesToKeep, 'principal component 1 trans']\n",
    "               , finalDf2.loc[indicesToKeep, 'principal component 2 trans']\n",
    "               , c = color\n",
    "               , s = 40)\n",
    "ax.legend(targets)\n",
    "ax.grid()"
   ]
  }
 ],
 "metadata": {
  "colab": {
   "collapsed_sections": [
    "24YU-KPljDwC",
    "eezSJdUbX8md",
    "oi7ieVxOZdeq"
   ],
   "name": "msds7331_clark_schueder_vela_washburn.ipynb",
   "provenance": [],
   "toc_visible": true
  },
  "kernelspec": {
   "display_name": "Python 3",
   "language": "python",
   "name": "python3"
  },
  "language_info": {
   "codemirror_mode": {
    "name": "ipython",
    "version": 3
   },
   "file_extension": ".py",
   "mimetype": "text/x-python",
   "name": "python",
   "nbconvert_exporter": "python",
   "pygments_lexer": "ipython3",
   "version": "3.7.1"
  }
 },
 "nbformat": 4,
 "nbformat_minor": 1
}
