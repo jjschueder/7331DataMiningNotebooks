{
  "nbformat": 4,
  "nbformat_minor": 0,
  "metadata": {
    "colab": {
      "name": "Lab3_Daniel_Jeff_Armando_Joe.ipynb",
      "provenance": [],
      "collapsed_sections": [],
      "toc_visible": true,
      "authorship_tag": "ABX9TyPPBcM9eOqK/gAysSZGwcMA",
      "include_colab_link": true
    },
    "kernelspec": {
      "name": "python3",
      "display_name": "Python 3"
    }
  },
  "cells": [
    {
      "cell_type": "markdown",
      "metadata": {
        "id": "view-in-github",
        "colab_type": "text"
      },
      "source": [
        "<a href=\"https://colab.research.google.com/github/jjschueder/7331DataMiningNotebooks/blob/master/lab3/Lab3_Daniel_Jeff_Armando_Joe.ipynb\" target=\"_parent\"><img src=\"https://colab.research.google.com/assets/colab-badge.svg\" alt=\"Open In Colab\"/></a>"
      ]
    },
    {
      "cell_type": "markdown",
      "metadata": {
        "id": "_ulvqQ_BeNdT",
        "colab_type": "text"
      },
      "source": [
        "#**Data Mining 7331 - Spring 2020**"
      ]
    },
    {
      "cell_type": "markdown",
      "metadata": {
        "id": "okMFqheqf3sa",
        "colab_type": "text"
      },
      "source": [
        "## Lab 3 -  Clustering, Association Rules, or Recommenders \n",
        "\n",
        "#### Daniel Clark, Joe Schueder, Jeff Washburn, Armando Vela"
      ]
    },
    {
      "cell_type": "markdown",
      "metadata": {
        "id": "QvVBRUFaUX4O",
        "colab_type": "text"
      },
      "source": [
        "Final Team Project\n",
        "CRISP-DM Capstone: Association Rule Mining, Clustering, or Collaborative Filtering  \n",
        "In the final assignment for this course, you will be using one of three different analysis methods:  \n",
        "• Option A: Use clustering on an unlabeled dataset to provide insight or features  \n",
        "• Option B: Use transaction data for mining associations rules  \n",
        "• Option C: Use collaborative filtering to build a custom recommendation system\n",
        "Your choice of dataset will largely determine the task that you are trying to achieve, though the\n",
        "dataset does not need to change from your previous tasks.  \n",
        "• For example, you might choose to use clustering on your data as a preprocessing step that  \n",
        "extracts different features. Then you can use those features to build a classifier and analyze\n",
        "its performance in terms of accuracy (precision, recall) and speed.  \n",
        "• Alternatively, you might choose a completely different dataset and perform rule mining or\n",
        "build a recommendation system.\n",
        "Dataset Selection and Toolkits\n",
        "As before, you need to choose a dataset that is not small. It might be massive in terms of the\n",
        "number of attributes (or transactions), classes (or items, users, etc.) or whatever is appropriate\n",
        "for the task you are performing. Note that scikit-learn can be used for clustering analysis, but not\n",
        "for Association Rule Mining (you should use R) or collaborative filtering (you should use\n",
        "graphlabcreate from Dato). Both can be run using Jupyter notebooks as shown in lecture.  \n",
        "• One example of a recommendation dataset is the movie lens rating data:\n",
        "http://grouplens.org/ datasets/movielens/  \n",
        "• Some examples of association rule mining datasets: http://fimi.ua.ac.be/data/\n",
        "Write a report covering in detail all the steps of the project. The results need to be reproducible\n",
        "using only this report. Describe all assumptions you make and include all code you use in the\n",
        "Jupyter notebook or as supplemental functions. Follow the CRISP-DM framework in your\n",
        "analysis (you are performing all of the CRISP-DM outline).  \n",
        "This report is worth 20% of the final grade. "
      ]
    },
    {
      "cell_type": "markdown",
      "metadata": {
        "id": "Pn-BG9OZUIrA",
        "colab_type": "text"
      },
      "source": [
        "## Business Understanding (10 points total).\n",
        "\n"
      ]
    },
    {
      "cell_type": "markdown",
      "metadata": {
        "id": "-5qVCcMiVnJ9",
        "colab_type": "text"
      },
      "source": [
        "Describe the purpose of the data set you selected (i.e., why was this data\n",
        "collected in the first place?). How will you measure the effectiveness of a good algorithm?\n",
        "Why does your chosen validation method make sense for this specific dataset and the\n",
        "stakeholders needs?"
      ]
    },
    {
      "cell_type": "markdown",
      "metadata": {
        "id": "PXl2Sd_vUyRS",
        "colab_type": "text"
      },
      "source": [
        "## Data Understanding (20 points total)\n"
      ]
    },
    {
      "cell_type": "markdown",
      "metadata": {
        "id": "fY2s2HiiWPyx",
        "colab_type": "text"
      },
      "source": [
        "Describe the meaning and type of data (scale, values, etc.) for each attribute in\n",
        "the data file. Verify data quality: Are there missing values? Duplicate data? Outliers? Are\n",
        "those mistakes? How do you deal with these problems?"
      ]
    },
    {
      "cell_type": "markdown",
      "metadata": {
        "id": "ki1tKmoWWTjd",
        "colab_type": "text"
      },
      "source": [
        "### Describe the meaning and type of data(10)"
      ]
    },
    {
      "cell_type": "markdown",
      "metadata": {
        "id": "KSNj43YoV4wS",
        "colab_type": "text"
      },
      "source": [
        "Describe the meaning and type of data (scale, values, etc.) for each attribute in the data file. Verify data quality: Are there missing values? Duplicate data? Outliers? Are those mistakes? How do you deal with these problems?"
      ]
    },
    {
      "cell_type": "markdown",
      "metadata": {
        "id": "PP78rFZEV2kw",
        "colab_type": "text"
      },
      "source": [
        "### Visualize any important attributes appropriately(10)"
      ]
    },
    {
      "cell_type": "markdown",
      "metadata": {
        "id": "jPL_ghRlU4fr",
        "colab_type": "text"
      },
      "source": [
        "Visualize the any important attributes appropriately. Important: Provide an\n",
        "interpretation for any charts or graphs.\n"
      ]
    },
    {
      "cell_type": "markdown",
      "metadata": {
        "id": "Lvy2NHIzfLKC",
        "colab_type": "text"
      },
      "source": [
        "## Modeling and Evaluation Option A: Cluster Analysis (50 points total)\n",
        "\n"
      ]
    },
    {
      "cell_type": "markdown",
      "metadata": {
        "id": "otgTzzjjfM-M",
        "colab_type": "text"
      },
      "source": [
        "Different tasks will require different evaluation methods. Be as thorough as possible when\n",
        "analyzing the data you have chosen and use visualizations of the results to explain the\n",
        "performance and expected outcomes whenever possible. Guide the reader through your\n",
        "analysis with plenty of discussion of the results. Each option is broken down by:"
      ]
    },
    {
      "cell_type": "markdown",
      "metadata": {
        "id": "akc0GQ-GU9sM",
        "colab_type": "text"
      },
      "source": [
        "### Train and adjust parameters (10 Points)\n",
        "• Train: Perform cluster analysis using several clustering methods (adjust parameters).  \n",
        "    "
      ]
    },
    {
      "cell_type": "markdown",
      "metadata": {
        "id": "4lxQVjmhVBgn",
        "colab_type": "text"
      },
      "source": [
        "### Evaluate and Compare (10 Points)\n",
        "• Eval: Use internal and/or external validation measures to describe and compare the\n",
        "clusterings and the clusters— how did you determine a suitable number of clusters for each\n",
        "method?  \n"
      ]
    },
    {
      "cell_type": "markdown",
      "metadata": {
        "id": "pY6DKoWDVERA",
        "colab_type": "text"
      },
      "source": [
        "### Visualize Results (10 Points)\n",
        "• Visualize: Use tables/visualization to discuss the found results. Explain each visualization in\n",
        "detail.  \n"
      ]
    },
    {
      "cell_type": "markdown",
      "metadata": {
        "id": "eA4km17QVHiQ",
        "colab_type": "text"
      },
      "source": [
        "### Summarize the Ramifications (20 Points)\n",
        "• Summarize: Describe your results. What findings are the most interesting and why"
      ]
    },
    {
      "cell_type": "markdown",
      "metadata": {
        "id": "5MLbWLnGhRy5",
        "colab_type": "text"
      },
      "source": [
        "Option B: Association Rule Mining    \n",
        "• Train: Create frequent itemsets and association rules (adjust parameters).  \n",
        "• Eval: Use several measures for evaluating how interesting different rules are.  \n",
        "• Visualize: Use tables/visualization to discuss the found results.  \n",
        "• Summarize: Describe your results. What findings are the most compelling and why?    \n",
        "Option C: Collaborative Filtering     \n",
        "• Train: Create user-item matrices or item-item matrices using collaborative filtering (adjust\n",
        "parameters).  \n",
        "• Eval: Determine performance of the recommendations using different performance\n",
        "measures (explain the ramifications of each measure). \n",
        "MSDS 7331 Course Overview & Schedule 29  \n",
        "• Visualize: Use tables/visualization to discuss the found results. Explain each visualization in\n",
        "detail.      "
      ]
    },
    {
      "cell_type": "markdown",
      "metadata": {
        "id": "R_4fOaBVVa8f",
        "colab_type": "text"
      },
      "source": [
        "## Deployment (10 points total)\n",
        "\n"
      ]
    },
    {
      "cell_type": "markdown",
      "metadata": {
        "id": "v31EybaCXOmE",
        "colab_type": "text"
      },
      "source": [
        "Be critical of your performance and tell the reader how you current model might be usable by\n",
        "other parties.  \n",
        "• Did you achieve your goals? If not, can you reign in the utility of your modeling?  \n",
        "• How useful is your model for interested parties (i.e., the companies or organizations that\n",
        "might want to use it)?  \n",
        "• How would you deploy your model for interested parties?  \n",
        "• What other data should be collected?  \n",
        "• How often would the model need to be updated, etc.?  "
      ]
    },
    {
      "cell_type": "markdown",
      "metadata": {
        "id": "td0rKRIbVdEC",
        "colab_type": "text"
      },
      "source": [
        "## Exceptional Work (10 points total)\n"
      ]
    },
    {
      "cell_type": "markdown",
      "metadata": {
        "id": "4z2VwzHEXU2N",
        "colab_type": "text"
      },
      "source": [
        "You have free reign to provide additional analyses or combine analyses"
      ]
    }
  ]
}