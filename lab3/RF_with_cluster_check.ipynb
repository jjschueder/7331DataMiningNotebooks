{
  "nbformat": 4,
  "nbformat_minor": 0,
  "metadata": {
    "colab": {
      "name": "RF with cluster check.ipynb",
      "provenance": [],
      "collapsed_sections": [],
      "authorship_tag": "ABX9TyPuWrpaHD/Js2lWrv97f+1n",
      "include_colab_link": true
    },
    "kernelspec": {
      "name": "python3",
      "display_name": "Python 3"
    }
  },
  "cells": [
    {
      "cell_type": "markdown",
      "metadata": {
        "id": "view-in-github",
        "colab_type": "text"
      },
      "source": [
        "<a href=\"https://colab.research.google.com/github/jjschueder/7331DataMiningNotebooks/blob/master/lab3/RF_with_cluster_check.ipynb\" target=\"_parent\"><img src=\"https://colab.research.google.com/assets/colab-badge.svg\" alt=\"Open In Colab\"/></a>"
      ]
    },
    {
      "cell_type": "code",
      "metadata": {
        "id": "h0B6AQ27DH1u",
        "colab_type": "code",
        "colab": {}
      },
      "source": [
        "import warnings\n",
        "warnings.filterwarnings('ignore')"
      ],
      "execution_count": 0,
      "outputs": []
    },
    {
      "cell_type": "markdown",
      "metadata": {
        "id": "DrDbqFOj-VCf",
        "colab_type": "text"
      },
      "source": [
        "#Lab 3 - Clustering, Association Rules, or Recommenders - Classification Evaluation after adding Clustering Feature\n",
        "Daniel Clark, Joe Schueder, Jeff Washburn, Armando Vela"
      ]
    },
    {
      "cell_type": "markdown",
      "metadata": {
        "id": "KsLwaxVA-inC",
        "colab_type": "text"
      },
      "source": [
        "Import CSV file that was exported from teh lab3 clustering notebook.\n",
        "https://github.com/jjschueder/7331DataMiningNotebooks/blob/master/lab3/Lab3_Daniel_Jeff_Armando_Joe_final_v7.ipynb"
      ]
    },
    {
      "cell_type": "code",
      "metadata": {
        "id": "CQrokG3lnQUW",
        "colab_type": "code",
        "outputId": "6b6f2085-3f19-4c86-88d0-a1f0dbf89726",
        "colab": {
          "base_uri": "https://localhost:8080/",
          "height": 122
        }
      },
      "source": [
        "\n",
        "import pandas as pd\n",
        "from google.colab import drive\n",
        "drive.mount('/content/drive/')\n",
        "data = pd.read_csv(\"/content/drive/My Drive/ColabNotebooks/tnsefmergedf.csv\", nrows = 40000)\n"
      ],
      "execution_count": 3,
      "outputs": [
        {
          "output_type": "stream",
          "text": [
            "Go to this URL in a browser: https://accounts.google.com/o/oauth2/auth?client_id=947318989803-6bn6qk8qdgf4n4g3pfee6491hc0brc4i.apps.googleusercontent.com&redirect_uri=urn%3aietf%3awg%3aoauth%3a2.0%3aoob&response_type=code&scope=email%20https%3a%2f%2fwww.googleapis.com%2fauth%2fdocs.test%20https%3a%2f%2fwww.googleapis.com%2fauth%2fdrive%20https%3a%2f%2fwww.googleapis.com%2fauth%2fdrive.photos.readonly%20https%3a%2f%2fwww.googleapis.com%2fauth%2fpeopleapi.readonly\n",
            "\n",
            "Enter your authorization code:\n",
            "··········\n",
            "Mounted at /content/drive/\n"
          ],
          "name": "stdout"
        }
      ]
    },
    {
      "cell_type": "markdown",
      "metadata": {
        "id": "UKOskJnA-u20",
        "colab_type": "text"
      },
      "source": [
        "Load in model parameters for a Random Forest moedel that was previously determined to be the best classification of the alcohol data in lab2.\n",
        "\n",
        "https://github.com/jjschueder/7331DataMiningNotebooks/blob/master/lab2/Lab2_Daniel_Jeff_Armando_Joe(Final).ipynb\n",
        "\n",
        "The model has these parameters which was optimized through a grid search.  \n",
        "\n",
        "RandomForestClassifier(bootstrap=True, ccp_alpha=0.0, class_weight=None,  \n",
        "                       criterion='gini', max_depth=20, max_features='auto',  \n",
        "                       max_leaf_nodes=None, max_samples=None,  \n",
        "                       min_impurity_decrease=0.0, min_impurity_split=None,  \n",
        "                       min_samples_leaf=1, min_samples_split=2,  \n",
        "                       min_weight_fraction_leaf=0.0, n_estimators=500,  \n",
        "                       n_jobs=None, oob_score=False, random_state=101,  \n",
        "                       verbose=0, warm_start=False)  "
      ]
    },
    {
      "cell_type": "code",
      "metadata": {
        "id": "E4YVuvEenqTW",
        "colab_type": "code",
        "colab": {}
      },
      "source": [
        "url_rfmodel = '/content/drive/My Drive/ColabNotebooks/rfmodelbasecluster.joblib'\n",
        "#exporting model to drive\n",
        "from joblib import dump, load\n",
        "#dump(clf, url_rfmodel)\n",
        "\n",
        "#importing model to new model name\n",
        "clf = load(url_rfmodel)"
      ],
      "execution_count": 0,
      "outputs": []
    },
    {
      "cell_type": "code",
      "metadata": {
        "id": "W66-HVV7n0m2",
        "colab_type": "code",
        "outputId": "86d54e54-72b1-43b8-9b0d-676b179841c6",
        "colab": {
          "base_uri": "https://localhost:8080/",
          "height": 881
        }
      },
      "source": [
        "data"
      ],
      "execution_count": 5,
      "outputs": [
        {
          "output_type": "execute_result",
          "data": {
            "text/html": [
              "<div>\n",
              "<style scoped>\n",
              "    .dataframe tbody tr th:only-of-type {\n",
              "        vertical-align: middle;\n",
              "    }\n",
              "\n",
              "    .dataframe tbody tr th {\n",
              "        vertical-align: top;\n",
              "    }\n",
              "\n",
              "    .dataframe thead th {\n",
              "        text-align: right;\n",
              "    }\n",
              "</style>\n",
              "<table border=\"1\" class=\"dataframe\">\n",
              "  <thead>\n",
              "    <tr style=\"text-align: right;\">\n",
              "      <th></th>\n",
              "      <th>Unnamed: 0</th>\n",
              "      <th>Unnamed: 0.1</th>\n",
              "      <th>invoice_and_item_number</th>\n",
              "      <th>date</th>\n",
              "      <th>store_number</th>\n",
              "      <th>store_name</th>\n",
              "      <th>address</th>\n",
              "      <th>city</th>\n",
              "      <th>zip_code</th>\n",
              "      <th>store_location</th>\n",
              "      <th>county_number</th>\n",
              "      <th>county</th>\n",
              "      <th>category</th>\n",
              "      <th>category_name</th>\n",
              "      <th>vendor_number</th>\n",
              "      <th>vendor_name</th>\n",
              "      <th>item_number</th>\n",
              "      <th>item_description</th>\n",
              "      <th>pack</th>\n",
              "      <th>bottle_volume_ml</th>\n",
              "      <th>state_bottle_cost</th>\n",
              "      <th>state_bottle_retail</th>\n",
              "      <th>bottles_sold</th>\n",
              "      <th>sale_dollars</th>\n",
              "      <th>volume_sold_liters</th>\n",
              "      <th>volume_sold_gallons</th>\n",
              "      <th>counter</th>\n",
              "      <th>liquor_category</th>\n",
              "      <th>store_parent</th>\n",
              "      <th>month</th>\n",
              "      <th>year</th>\n",
              "      <th>monthyear</th>\n",
              "      <th>sale_dollars_trans</th>\n",
              "      <th>cost_per_liter</th>\n",
              "      <th>cost_per_liter_trans</th>\n",
              "      <th>state_bottle_cost_trans</th>\n",
              "      <th>bottles_sold_trans</th>\n",
              "      <th>volume_sold_liters_trans</th>\n",
              "      <th>id_label</th>\n",
              "      <th>profit</th>\n",
              "      <th>profit_trans</th>\n",
              "      <th>totalcost</th>\n",
              "      <th>totalcost_trans</th>\n",
              "      <th>revenue</th>\n",
              "      <th>revenue_trans</th>\n",
              "      <th>bottle_volume_ml_trans</th>\n",
              "      <th>pack_trans</th>\n",
              "      <th>Cluster_Label</th>\n",
              "    </tr>\n",
              "  </thead>\n",
              "  <tbody>\n",
              "    <tr>\n",
              "      <th>0</th>\n",
              "      <td>0</td>\n",
              "      <td>0</td>\n",
              "      <td>INV-23084400002</td>\n",
              "      <td>2019-11-07</td>\n",
              "      <td>3869</td>\n",
              "      <td>BOOTLEGGIN' BARZINI'S FIN</td>\n",
              "      <td>412  1st Ave</td>\n",
              "      <td>Coralville</td>\n",
              "      <td>52241.0</td>\n",
              "      <td>POINT (-91.565517 41.672672)</td>\n",
              "      <td>52.0</td>\n",
              "      <td>JOHNSON</td>\n",
              "      <td>1092100.0</td>\n",
              "      <td>IMPORTED DISTILLED SPIRIT SPECIALTY</td>\n",
              "      <td>293</td>\n",
              "      <td>JINRO AMERICA INC</td>\n",
              "      <td>989215</td>\n",
              "      <td>JINRO CHAMISUL GRAPEFRUIT SOJU</td>\n",
              "      <td>20</td>\n",
              "      <td>375</td>\n",
              "      <td>3.85</td>\n",
              "      <td>5.78</td>\n",
              "      <td>20.0</td>\n",
              "      <td>115.60</td>\n",
              "      <td>7.50</td>\n",
              "      <td>1.98</td>\n",
              "      <td>1.0</td>\n",
              "      <td>Other</td>\n",
              "      <td>Other</td>\n",
              "      <td>Nov</td>\n",
              "      <td>2019</td>\n",
              "      <td>Nov-2019</td>\n",
              "      <td>4.750136</td>\n",
              "      <td>15.413333</td>\n",
              "      <td>2.735233</td>\n",
              "      <td>1.348073</td>\n",
              "      <td>2.995732</td>\n",
              "      <td>2.014903</td>\n",
              "      <td>1</td>\n",
              "      <td>38.60</td>\n",
              "      <td>3.653252</td>\n",
              "      <td>77.00</td>\n",
              "      <td>4.343805</td>\n",
              "      <td>115.60</td>\n",
              "      <td>4.750136</td>\n",
              "      <td>5.926926</td>\n",
              "      <td>2.995732</td>\n",
              "      <td>0</td>\n",
              "    </tr>\n",
              "    <tr>\n",
              "      <th>1</th>\n",
              "      <td>1</td>\n",
              "      <td>1</td>\n",
              "      <td>INV-23282200001</td>\n",
              "      <td>2019-11-18</td>\n",
              "      <td>4617</td>\n",
              "      <td>LICKETY LIQUOR</td>\n",
              "      <td>2501 HUBBELL AVE</td>\n",
              "      <td>Des Moines</td>\n",
              "      <td>50317.0</td>\n",
              "      <td>POINT (-93.570489 41.607817)</td>\n",
              "      <td>77.0</td>\n",
              "      <td>POLK</td>\n",
              "      <td>1091300.0</td>\n",
              "      <td>NEUTRAL GRAIN SPIRITS FLAVORED</td>\n",
              "      <td>346</td>\n",
              "      <td>OLE SMOKY DISTILLERY LLC</td>\n",
              "      <td>86739</td>\n",
              "      <td>OLE SMOKY APPLE PIE MOONSHINE 70PRF MINI</td>\n",
              "      <td>8</td>\n",
              "      <td>50</td>\n",
              "      <td>8.75</td>\n",
              "      <td>13.13</td>\n",
              "      <td>1.0</td>\n",
              "      <td>13.13</td>\n",
              "      <td>0.05</td>\n",
              "      <td>0.01</td>\n",
              "      <td>1.0</td>\n",
              "      <td>Other</td>\n",
              "      <td>Other</td>\n",
              "      <td>Nov</td>\n",
              "      <td>2019</td>\n",
              "      <td>Nov-2019</td>\n",
              "      <td>2.574900</td>\n",
              "      <td>262.600000</td>\n",
              "      <td>5.570632</td>\n",
              "      <td>2.169054</td>\n",
              "      <td>0.000000</td>\n",
              "      <td>-2.995732</td>\n",
              "      <td>1</td>\n",
              "      <td>4.38</td>\n",
              "      <td>1.477049</td>\n",
              "      <td>8.75</td>\n",
              "      <td>2.169054</td>\n",
              "      <td>13.13</td>\n",
              "      <td>2.574900</td>\n",
              "      <td>3.912023</td>\n",
              "      <td>2.079442</td>\n",
              "      <td>1</td>\n",
              "    </tr>\n",
              "    <tr>\n",
              "      <th>2</th>\n",
              "      <td>2</td>\n",
              "      <td>2</td>\n",
              "      <td>INV-19435800130</td>\n",
              "      <td>2019-05-17</td>\n",
              "      <td>2560</td>\n",
              "      <td>HY-VEE FOOD STORE / MARION</td>\n",
              "      <td>3600 Business Hwy 151 East</td>\n",
              "      <td>Marion</td>\n",
              "      <td>52302.0</td>\n",
              "      <td>blank</td>\n",
              "      <td>57.0</td>\n",
              "      <td>LINN</td>\n",
              "      <td>1042100.0</td>\n",
              "      <td>IMPORTED DRY GINS</td>\n",
              "      <td>35</td>\n",
              "      <td>BACARDI USA INC</td>\n",
              "      <td>28233</td>\n",
              "      <td>BOMBAY SAPPHIRE GIN</td>\n",
              "      <td>12</td>\n",
              "      <td>1000</td>\n",
              "      <td>16.50</td>\n",
              "      <td>24.75</td>\n",
              "      <td>6.0</td>\n",
              "      <td>148.50</td>\n",
              "      <td>6.00</td>\n",
              "      <td>1.58</td>\n",
              "      <td>1.0</td>\n",
              "      <td>GIN</td>\n",
              "      <td>Hy-Vee</td>\n",
              "      <td>May</td>\n",
              "      <td>2019</td>\n",
              "      <td>May-2019</td>\n",
              "      <td>5.000585</td>\n",
              "      <td>24.750000</td>\n",
              "      <td>3.208825</td>\n",
              "      <td>2.803360</td>\n",
              "      <td>1.791759</td>\n",
              "      <td>1.791759</td>\n",
              "      <td>2</td>\n",
              "      <td>49.50</td>\n",
              "      <td>3.901973</td>\n",
              "      <td>99.00</td>\n",
              "      <td>4.595120</td>\n",
              "      <td>148.50</td>\n",
              "      <td>5.000585</td>\n",
              "      <td>6.907755</td>\n",
              "      <td>2.484907</td>\n",
              "      <td>2</td>\n",
              "    </tr>\n",
              "    <tr>\n",
              "      <th>3</th>\n",
              "      <td>3</td>\n",
              "      <td>3</td>\n",
              "      <td>INV-23454200002</td>\n",
              "      <td>2019-11-25</td>\n",
              "      <td>2614</td>\n",
              "      <td>HY-VEE #3 FOOD &amp; DRUGSTORE / DAVENPORT</td>\n",
              "      <td>1823 E Kimberly Rd</td>\n",
              "      <td>Davenport</td>\n",
              "      <td>52807.0</td>\n",
              "      <td>POINT (-90.548919 41.55678100000001)</td>\n",
              "      <td>82.0</td>\n",
              "      <td>SCOTT</td>\n",
              "      <td>1011300.0</td>\n",
              "      <td>SINGLE BARREL BOURBON WHISKIES</td>\n",
              "      <td>184</td>\n",
              "      <td>FOUR ROSES DISTILLERY</td>\n",
              "      <td>18350</td>\n",
              "      <td>FOUR ROSES SINGLE BARREL</td>\n",
              "      <td>6</td>\n",
              "      <td>750</td>\n",
              "      <td>21.17</td>\n",
              "      <td>31.76</td>\n",
              "      <td>24.0</td>\n",
              "      <td>762.24</td>\n",
              "      <td>18.00</td>\n",
              "      <td>4.75</td>\n",
              "      <td>1.0</td>\n",
              "      <td>WHISKY</td>\n",
              "      <td>Hy-Vee</td>\n",
              "      <td>Nov</td>\n",
              "      <td>2019</td>\n",
              "      <td>Nov-2019</td>\n",
              "      <td>6.636261</td>\n",
              "      <td>42.346667</td>\n",
              "      <td>3.745890</td>\n",
              "      <td>3.052585</td>\n",
              "      <td>3.178054</td>\n",
              "      <td>2.890372</td>\n",
              "      <td>3</td>\n",
              "      <td>254.16</td>\n",
              "      <td>5.537964</td>\n",
              "      <td>508.08</td>\n",
              "      <td>6.230639</td>\n",
              "      <td>762.24</td>\n",
              "      <td>6.636261</td>\n",
              "      <td>6.620073</td>\n",
              "      <td>1.791759</td>\n",
              "      <td>3</td>\n",
              "    </tr>\n",
              "    <tr>\n",
              "      <th>4</th>\n",
              "      <td>4</td>\n",
              "      <td>4</td>\n",
              "      <td>INV-23541200001</td>\n",
              "      <td>2019-11-27</td>\n",
              "      <td>2629</td>\n",
              "      <td>HY-VEE FOOD STORE #2 / COUNCIL BLUFFS</td>\n",
              "      <td>1745 Madison Ave</td>\n",
              "      <td>Council Bluffs</td>\n",
              "      <td>51503.0</td>\n",
              "      <td>POINT (-95.825137 41.242732)</td>\n",
              "      <td>78.0</td>\n",
              "      <td>POTTAWATTA</td>\n",
              "      <td>1901200.0</td>\n",
              "      <td>SPECIAL ORDER ITEMS</td>\n",
              "      <td>285</td>\n",
              "      <td>Charles Jacquin Et Cie</td>\n",
              "      <td>902291</td>\n",
              "      <td>SOOH BARTENDERS BANANAS OVER YOU</td>\n",
              "      <td>6</td>\n",
              "      <td>1750</td>\n",
              "      <td>9.31</td>\n",
              "      <td>13.97</td>\n",
              "      <td>12.0</td>\n",
              "      <td>167.64</td>\n",
              "      <td>21.00</td>\n",
              "      <td>5.54</td>\n",
              "      <td>1.0</td>\n",
              "      <td>Other</td>\n",
              "      <td>Hy-Vee</td>\n",
              "      <td>Nov</td>\n",
              "      <td>2019</td>\n",
              "      <td>Nov-2019</td>\n",
              "      <td>5.121819</td>\n",
              "      <td>7.982857</td>\n",
              "      <td>2.077296</td>\n",
              "      <td>2.231089</td>\n",
              "      <td>2.484907</td>\n",
              "      <td>3.044522</td>\n",
              "      <td>1</td>\n",
              "      <td>55.92</td>\n",
              "      <td>4.023922</td>\n",
              "      <td>111.72</td>\n",
              "      <td>4.715996</td>\n",
              "      <td>167.64</td>\n",
              "      <td>5.121819</td>\n",
              "      <td>7.467371</td>\n",
              "      <td>1.791759</td>\n",
              "      <td>4</td>\n",
              "    </tr>\n",
              "    <tr>\n",
              "      <th>...</th>\n",
              "      <td>...</td>\n",
              "      <td>...</td>\n",
              "      <td>...</td>\n",
              "      <td>...</td>\n",
              "      <td>...</td>\n",
              "      <td>...</td>\n",
              "      <td>...</td>\n",
              "      <td>...</td>\n",
              "      <td>...</td>\n",
              "      <td>...</td>\n",
              "      <td>...</td>\n",
              "      <td>...</td>\n",
              "      <td>...</td>\n",
              "      <td>...</td>\n",
              "      <td>...</td>\n",
              "      <td>...</td>\n",
              "      <td>...</td>\n",
              "      <td>...</td>\n",
              "      <td>...</td>\n",
              "      <td>...</td>\n",
              "      <td>...</td>\n",
              "      <td>...</td>\n",
              "      <td>...</td>\n",
              "      <td>...</td>\n",
              "      <td>...</td>\n",
              "      <td>...</td>\n",
              "      <td>...</td>\n",
              "      <td>...</td>\n",
              "      <td>...</td>\n",
              "      <td>...</td>\n",
              "      <td>...</td>\n",
              "      <td>...</td>\n",
              "      <td>...</td>\n",
              "      <td>...</td>\n",
              "      <td>...</td>\n",
              "      <td>...</td>\n",
              "      <td>...</td>\n",
              "      <td>...</td>\n",
              "      <td>...</td>\n",
              "      <td>...</td>\n",
              "      <td>...</td>\n",
              "      <td>...</td>\n",
              "      <td>...</td>\n",
              "      <td>...</td>\n",
              "      <td>...</td>\n",
              "      <td>...</td>\n",
              "      <td>...</td>\n",
              "      <td>...</td>\n",
              "    </tr>\n",
              "    <tr>\n",
              "      <th>39995</th>\n",
              "      <td>39995</td>\n",
              "      <td>39995</td>\n",
              "      <td>INV-19064600027</td>\n",
              "      <td>2019-04-30</td>\n",
              "      <td>4097</td>\n",
              "      <td>SCHLESWIG FOODS AND SPIRITS</td>\n",
              "      <td>108  2nd St</td>\n",
              "      <td>Schleswig</td>\n",
              "      <td>51461.0</td>\n",
              "      <td>POINT (-95.436648 42.165983)</td>\n",
              "      <td>24.0</td>\n",
              "      <td>CRAWFORD</td>\n",
              "      <td>1.0816e+06</td>\n",
              "      <td>WHISKEY LIQUEUR</td>\n",
              "      <td>421</td>\n",
              "      <td>SAZERAC COMPANY  INC</td>\n",
              "      <td>86887</td>\n",
              "      <td>SOUTHERN COMFORT</td>\n",
              "      <td>12</td>\n",
              "      <td>1000</td>\n",
              "      <td>12.97</td>\n",
              "      <td>19.46</td>\n",
              "      <td>2.0</td>\n",
              "      <td>38.92</td>\n",
              "      <td>2.00</td>\n",
              "      <td>0.52</td>\n",
              "      <td>1.0</td>\n",
              "      <td>LIQUEUR</td>\n",
              "      <td>Other</td>\n",
              "      <td>Apr</td>\n",
              "      <td>2019</td>\n",
              "      <td>Apr-2019</td>\n",
              "      <td>3.661508</td>\n",
              "      <td>19.460000</td>\n",
              "      <td>2.968361</td>\n",
              "      <td>2.562639</td>\n",
              "      <td>0.693147</td>\n",
              "      <td>0.693147</td>\n",
              "      <td>5</td>\n",
              "      <td>12.98</td>\n",
              "      <td>2.563410</td>\n",
              "      <td>25.94</td>\n",
              "      <td>3.255786</td>\n",
              "      <td>38.92</td>\n",
              "      <td>3.661508</td>\n",
              "      <td>6.907755</td>\n",
              "      <td>2.484907</td>\n",
              "      <td>703</td>\n",
              "    </tr>\n",
              "    <tr>\n",
              "      <th>39996</th>\n",
              "      <td>39996</td>\n",
              "      <td>39996</td>\n",
              "      <td>INV-21943100003</td>\n",
              "      <td>2019-09-17</td>\n",
              "      <td>4638</td>\n",
              "      <td>GD XPRESS / DAVENPORT</td>\n",
              "      <td>4607 N Pine St</td>\n",
              "      <td>Davenport</td>\n",
              "      <td>52804.0</td>\n",
              "      <td>blank</td>\n",
              "      <td>82.0</td>\n",
              "      <td>SCOTT</td>\n",
              "      <td>1.0816e+06</td>\n",
              "      <td>WHISKEY LIQUEUR</td>\n",
              "      <td>421</td>\n",
              "      <td>SAZERAC COMPANY  INC</td>\n",
              "      <td>86883</td>\n",
              "      <td>SOUTHERN COMFORT</td>\n",
              "      <td>48</td>\n",
              "      <td>200</td>\n",
              "      <td>2.64</td>\n",
              "      <td>3.96</td>\n",
              "      <td>48.0</td>\n",
              "      <td>190.08</td>\n",
              "      <td>9.60</td>\n",
              "      <td>2.53</td>\n",
              "      <td>1.0</td>\n",
              "      <td>LIQUEUR</td>\n",
              "      <td>Other</td>\n",
              "      <td>Sep</td>\n",
              "      <td>2019</td>\n",
              "      <td>Sep-2019</td>\n",
              "      <td>5.247445</td>\n",
              "      <td>19.800000</td>\n",
              "      <td>2.985682</td>\n",
              "      <td>0.970779</td>\n",
              "      <td>3.871201</td>\n",
              "      <td>2.261763</td>\n",
              "      <td>5</td>\n",
              "      <td>63.36</td>\n",
              "      <td>4.148833</td>\n",
              "      <td>126.72</td>\n",
              "      <td>4.841980</td>\n",
              "      <td>190.08</td>\n",
              "      <td>5.247445</td>\n",
              "      <td>5.298317</td>\n",
              "      <td>3.871201</td>\n",
              "      <td>185</td>\n",
              "    </tr>\n",
              "    <tr>\n",
              "      <th>39997</th>\n",
              "      <td>39997</td>\n",
              "      <td>39997</td>\n",
              "      <td>INV-22120200011</td>\n",
              "      <td>2019-09-24</td>\n",
              "      <td>5083</td>\n",
              "      <td>CENTRAL MART</td>\n",
              "      <td>1203, Tri View Ave</td>\n",
              "      <td>Sioux City</td>\n",
              "      <td>51104.0</td>\n",
              "      <td>POINT (-96.422992 42.494265)</td>\n",
              "      <td>97.0</td>\n",
              "      <td>WOODBURY</td>\n",
              "      <td>1.0816e+06</td>\n",
              "      <td>WHISKEY LIQUEUR</td>\n",
              "      <td>259</td>\n",
              "      <td>Heaven Hill Brands</td>\n",
              "      <td>27453</td>\n",
              "      <td>CINERATOR MINI</td>\n",
              "      <td>12</td>\n",
              "      <td>50</td>\n",
              "      <td>4.25</td>\n",
              "      <td>6.38</td>\n",
              "      <td>3.0</td>\n",
              "      <td>19.14</td>\n",
              "      <td>0.15</td>\n",
              "      <td>0.03</td>\n",
              "      <td>1.0</td>\n",
              "      <td>LIQUEUR</td>\n",
              "      <td>Other</td>\n",
              "      <td>Sep</td>\n",
              "      <td>2019</td>\n",
              "      <td>Sep-2019</td>\n",
              "      <td>2.951780</td>\n",
              "      <td>127.600000</td>\n",
              "      <td>4.848900</td>\n",
              "      <td>1.446919</td>\n",
              "      <td>1.098612</td>\n",
              "      <td>-1.897120</td>\n",
              "      <td>5</td>\n",
              "      <td>6.39</td>\n",
              "      <td>1.854734</td>\n",
              "      <td>12.75</td>\n",
              "      <td>2.545531</td>\n",
              "      <td>19.14</td>\n",
              "      <td>2.951780</td>\n",
              "      <td>3.912023</td>\n",
              "      <td>2.484907</td>\n",
              "      <td>-1</td>\n",
              "    </tr>\n",
              "    <tr>\n",
              "      <th>39998</th>\n",
              "      <td>39998</td>\n",
              "      <td>39998</td>\n",
              "      <td>INV-22255100109</td>\n",
              "      <td>2019-10-01</td>\n",
              "      <td>2513</td>\n",
              "      <td>HY-VEE FOOD STORE #2 / IOWA CITY</td>\n",
              "      <td>812  S 1st Ave</td>\n",
              "      <td>Iowa City</td>\n",
              "      <td>52240.0</td>\n",
              "      <td>blank</td>\n",
              "      <td>52.0</td>\n",
              "      <td>JOHNSON</td>\n",
              "      <td>1.0816e+06</td>\n",
              "      <td>WHISKEY LIQUEUR</td>\n",
              "      <td>421</td>\n",
              "      <td>SAZERAC COMPANY  INC</td>\n",
              "      <td>64863</td>\n",
              "      <td>FIREBALL CINNAMON WHISKEY</td>\n",
              "      <td>48</td>\n",
              "      <td>200</td>\n",
              "      <td>2.50</td>\n",
              "      <td>3.75</td>\n",
              "      <td>32.0</td>\n",
              "      <td>120.00</td>\n",
              "      <td>6.40</td>\n",
              "      <td>1.69</td>\n",
              "      <td>1.0</td>\n",
              "      <td>LIQUEUR</td>\n",
              "      <td>Hy-Vee</td>\n",
              "      <td>Oct</td>\n",
              "      <td>2019</td>\n",
              "      <td>Oct-2019</td>\n",
              "      <td>4.787492</td>\n",
              "      <td>18.750000</td>\n",
              "      <td>2.931194</td>\n",
              "      <td>0.916291</td>\n",
              "      <td>3.465736</td>\n",
              "      <td>1.856298</td>\n",
              "      <td>5</td>\n",
              "      <td>40.00</td>\n",
              "      <td>3.688879</td>\n",
              "      <td>80.00</td>\n",
              "      <td>4.382027</td>\n",
              "      <td>120.00</td>\n",
              "      <td>4.787492</td>\n",
              "      <td>5.298317</td>\n",
              "      <td>3.871201</td>\n",
              "      <td>411</td>\n",
              "    </tr>\n",
              "    <tr>\n",
              "      <th>39999</th>\n",
              "      <td>39999</td>\n",
              "      <td>39999</td>\n",
              "      <td>INV-22343400003</td>\n",
              "      <td>2019-10-07</td>\n",
              "      <td>2626</td>\n",
              "      <td>HY-VEE DRUGSTORE / UNIVERSITY / DSM</td>\n",
              "      <td>4100 University Ave</td>\n",
              "      <td>Des Moines</td>\n",
              "      <td>50311.0</td>\n",
              "      <td>POINT (-93.673222 41.600361)</td>\n",
              "      <td>77.0</td>\n",
              "      <td>POLK</td>\n",
              "      <td>1.0816e+06</td>\n",
              "      <td>WHISKEY LIQUEUR</td>\n",
              "      <td>259</td>\n",
              "      <td>Heaven Hill Brands</td>\n",
              "      <td>27453</td>\n",
              "      <td>CINERATOR MINI</td>\n",
              "      <td>12</td>\n",
              "      <td>50</td>\n",
              "      <td>4.25</td>\n",
              "      <td>6.38</td>\n",
              "      <td>120.0</td>\n",
              "      <td>765.60</td>\n",
              "      <td>6.00</td>\n",
              "      <td>1.58</td>\n",
              "      <td>1.0</td>\n",
              "      <td>LIQUEUR</td>\n",
              "      <td>Hy-Vee</td>\n",
              "      <td>Oct</td>\n",
              "      <td>2019</td>\n",
              "      <td>Oct-2019</td>\n",
              "      <td>6.640660</td>\n",
              "      <td>127.600000</td>\n",
              "      <td>4.848900</td>\n",
              "      <td>1.446919</td>\n",
              "      <td>4.787492</td>\n",
              "      <td>1.791759</td>\n",
              "      <td>5</td>\n",
              "      <td>255.60</td>\n",
              "      <td>5.543614</td>\n",
              "      <td>510.00</td>\n",
              "      <td>6.234411</td>\n",
              "      <td>765.60</td>\n",
              "      <td>6.640660</td>\n",
              "      <td>3.912023</td>\n",
              "      <td>2.484907</td>\n",
              "      <td>1340</td>\n",
              "    </tr>\n",
              "  </tbody>\n",
              "</table>\n",
              "<p>40000 rows × 48 columns</p>\n",
              "</div>"
            ],
            "text/plain": [
              "       Unnamed: 0  Unnamed: 0.1  ... pack_trans Cluster_Label\n",
              "0               0             0  ...   2.995732             0\n",
              "1               1             1  ...   2.079442             1\n",
              "2               2             2  ...   2.484907             2\n",
              "3               3             3  ...   1.791759             3\n",
              "4               4             4  ...   1.791759             4\n",
              "...           ...           ...  ...        ...           ...\n",
              "39995       39995         39995  ...   2.484907           703\n",
              "39996       39996         39996  ...   3.871201           185\n",
              "39997       39997         39997  ...   2.484907            -1\n",
              "39998       39998         39998  ...   3.871201           411\n",
              "39999       39999         39999  ...   2.484907          1340\n",
              "\n",
              "[40000 rows x 48 columns]"
            ]
          },
          "metadata": {
            "tags": []
          },
          "execution_count": 5
        }
      ]
    },
    {
      "cell_type": "markdown",
      "metadata": {
        "id": "mJyMs7KS_ncW",
        "colab_type": "text"
      },
      "source": [
        "Define and prepare your class variables. Use proper variable representations (int, float, one-hot, etc.). Use pre-processing methods (as needed) for dimensionality reduction, scaling, etc. Remove variables that are not needed/useful for the analysis.\n",
        "\n",
        "We obtained a dataset on Iowa Liquor Sales from Google Bigquery. The aim of recording the data set is for the state to track alcohol and liquor sales from wholesalers and retailers from the year 2012 through 2019. You can see some Exploratory Data Analysis of this dataset below:\n",
        "\n",
        "Feature have previously been chosen in lab1, the purpose here to use those variables with the addtion of the cluster label to improve classification.   \n",
        "https://github.com/jjschueder/7331DataMiningNotebooks/blob/master/lab1/msds7331_clark_schueder_vela_washburn.ipynb"
      ]
    },
    {
      "cell_type": "code",
      "metadata": {
        "id": "85Q__-wSoW8g",
        "colab_type": "code",
        "outputId": "47251c34-bf3d-4632-f004-04f155bd846d",
        "colab": {
          "base_uri": "https://localhost:8080/",
          "height": 51
        }
      },
      "source": [
        "\n",
        "%%time\n",
        "from sklearn.neighbors import KNeighborsClassifier\n",
        "from sklearn.model_selection import StratifiedKFold\n",
        "from sklearn.preprocessing import StandardScaler\n",
        "import numpy as np\n",
        "from sklearn import metrics as mt\n",
        "\n",
        "cv = StratifiedKFold(n_splits=10)\n",
        "\n",
        "features = ['sale_dollars_trans', 'cost_per_liter_trans', \n",
        "       'state_bottle_cost_trans', 'bottles_sold_trans',\n",
        "       'volume_sold_liters_trans', 'pack_trans', 'bottle_volume_ml_trans',\n",
        "       'profit_trans', 'totalcost_trans', 'revenue_trans', 'Cluster_Label']\n",
        "\n",
        "X2 = data[features].copy()\n",
        "\n",
        "scaler = StandardScaler()\n",
        "scaler.fit(X2)\n",
        "\n",
        "#This makes our model's coefficients take on the same scale for accurate feature importance analysis\n",
        "#Notice we scaled the data before the cross validation\n",
        "X = scaler.transform(X2)\n",
        "\n",
        "Y= data[['id_label']].copy()\n",
        "Y2 = Y.values\n",
        "\n",
        "#Divide data into test and training splits\n",
        "from sklearn.model_selection import ShuffleSplit\n",
        "#cv = ShuffleSplit(n_splits=10, test_size=0.20, random_state=0)"
      ],
      "execution_count": 6,
      "outputs": [
        {
          "output_type": "stream",
          "text": [
            "CPU times: user 14.8 ms, sys: 0 ns, total: 14.8 ms\n",
            "Wall time: 15.9 ms\n"
          ],
          "name": "stdout"
        }
      ]
    },
    {
      "cell_type": "markdown",
      "metadata": {
        "id": "0BAe3845BQbj",
        "colab_type": "text"
      },
      "source": [
        "Now that we built our cross validation and assigned Xs and Ys, we will now work to create our training set and test set using SMOTE to balance our classifiers. Training size was 80% of our data and the test size was 20%."
      ]
    },
    {
      "cell_type": "code",
      "metadata": {
        "id": "9Zlnrym-oTBZ",
        "colab_type": "code",
        "colab": {}
      },
      "source": [
        "from sklearn import metrics as mt\n",
        "from sklearn.model_selection import train_test_split, GridSearchCV, KFold, TimeSeriesSplit, StratifiedShuffleSplit\n",
        "# train and test split before resampling\n",
        "X1_train, X1_test, y1_train, y1_test = train_test_split(X, Y, test_size = 0.2, random_state = 101)"
      ],
      "execution_count": 0,
      "outputs": []
    },
    {
      "cell_type": "code",
      "metadata": {
        "id": "GinaJSl2qzSW",
        "colab_type": "code",
        "outputId": "11a9e297-5f8e-44ce-90c5-bc12f38cf86c",
        "colab": {
          "base_uri": "https://localhost:8080/",
          "height": 153
        }
      },
      "source": [
        "clf"
      ],
      "execution_count": 8,
      "outputs": [
        {
          "output_type": "execute_result",
          "data": {
            "text/plain": [
              "RandomForestClassifier(bootstrap=True, ccp_alpha=0.0, class_weight=None,\n",
              "                       criterion='gini', max_depth=20, max_features='auto',\n",
              "                       max_leaf_nodes=None, max_samples=None,\n",
              "                       min_impurity_decrease=0.0, min_impurity_split=None,\n",
              "                       min_samples_leaf=1, min_samples_split=2,\n",
              "                       min_weight_fraction_leaf=0.0, n_estimators=500,\n",
              "                       n_jobs=None, oob_score=False, random_state=101,\n",
              "                       verbose=0, warm_start=False)"
            ]
          },
          "metadata": {
            "tags": []
          },
          "execution_count": 8
        }
      ]
    },
    {
      "cell_type": "markdown",
      "metadata": {
        "id": "QvnAJ_kQBgL8",
        "colab_type": "text"
      },
      "source": [
        "Running through each iteration of our kfold, we can see that our accuracy score ranges from 0.43 to 0.83."
      ]
    },
    {
      "cell_type": "code",
      "metadata": {
        "id": "OR2kaSxmo-0T",
        "colab_type": "code",
        "outputId": "fd5ff0a7-8081-4777-d98e-197ad2084589",
        "colab": {
          "base_uri": "https://localhost:8080/",
          "height": 34
        }
      },
      "source": [
        "from sklearn.model_selection import cross_val_score\n",
        "\n",
        "RF_accuracy = cross_val_score(clf, X, y=Y2, cv=cv)\n",
        "RF_acc=RF_accuracy.mean()\n",
        "print('Average RF accuracy score is : {}' .format(RF_acc))"
      ],
      "execution_count": 12,
      "outputs": [
        {
          "output_type": "stream",
          "text": [
            "Average RF accuracy score is : 0.651925\n"
          ],
          "name": "stdout"
        }
      ]
    },
    {
      "cell_type": "code",
      "metadata": {
        "id": "mMF0XDJlybSX",
        "colab_type": "code",
        "outputId": "ff919553-79a2-492c-d501-277e25a0c734",
        "colab": {
          "base_uri": "https://localhost:8080/",
          "height": 51
        }
      },
      "source": [
        "RF_accuracy"
      ],
      "execution_count": 13,
      "outputs": [
        {
          "output_type": "execute_result",
          "data": {
            "text/plain": [
              "array([0.65775, 0.822  , 0.76925, 0.46575, 0.73575, 0.696  , 0.63525,\n",
              "       0.7285 , 0.57775, 0.43125])"
            ]
          },
          "metadata": {
            "tags": []
          },
          "execution_count": 13
        }
      ]
    },
    {
      "cell_type": "markdown",
      "metadata": {
        "id": "Ihi7o_2cCBAR",
        "colab_type": "text"
      },
      "source": [
        "Accuracy and confusion matrix scores match pretty closely with prior model without cluster feature. "
      ]
    },
    {
      "cell_type": "code",
      "metadata": {
        "id": "-21oTg_jvp7E",
        "colab_type": "code",
        "outputId": "34fcac90-3309-4285-be78-e1980643c621",
        "colab": {
          "base_uri": "https://localhost:8080/",
          "height": 1000
        }
      },
      "source": [
        " for fold, (train_index, test_index) in enumerate(cv.split(X,Y2)):\n",
        "     X_train = X[train_index]    \n",
        "     y_train = Y2[train_index]  # Based on your code, you might need a ravel call here, but I would look into how you're generating your y\n",
        "     X_test = X[test_index]\n",
        "     y_test = Y2[test_index]  # See comment on ravel and  y_train\n",
        "     clf.fit(X_train, y_train)\n",
        "     y_pred = clf.predict(X_test)\n",
        "     acc = mt.accuracy_score(y_test,y_pred)\n",
        "     conf = mt.confusion_matrix(y_test,y_pred)\n",
        "     print(\"====Iteration\",fold,\" ====\")\n",
        "     print(\"accuracy\", acc )\n",
        "     print(\"confusion matrix\\n\",conf)"
      ],
      "execution_count": 14,
      "outputs": [
        {
          "output_type": "stream",
          "text": [
            "====Iteration 0  ====\n",
            "accuracy 0.65775\n",
            "confusion matrix\n",
            " [[ 131    2   13    3   29   42   18    1    0]\n",
            " [   3  145    2    0    1   21    0    0    0]\n",
            " [  38   57  684    1   14  107    3    0    0]\n",
            " [  25    1   71   87   33   11   56    1    0]\n",
            " [  56   47   24    0  213  168   28    0    0]\n",
            " [  33    4   20    6   11 1209   28    0    0]\n",
            " [  53   26  187   10   50   65  161    0    0]\n",
            " [   0    0    0    0    0    0    0    0    0]\n",
            " [   0    0    0    0    0    0    0    0    1]]\n",
            "====Iteration 1  ====\n",
            "accuracy 0.822\n",
            "confusion matrix\n",
            " [[ 113    5   70    1   18   22   10    0    0]\n",
            " [   1  113   15    1   15   27    0    0    0]\n",
            " [  16   22  844    2    4    2   14    0    0]\n",
            " [   0    0    0  274    1    7    3    0    0]\n",
            " [   1    0    2    0  400   82   40   11    0]\n",
            " [   4    0    5    0   19 1269   14    0    0]\n",
            " [  39    6   43   26  136   28  274    0    0]\n",
            " [   0    0    0    0    0    0    0    0    0]\n",
            " [   0    0    0    0    0    0    0    0    1]]\n",
            "====Iteration 2  ====\n",
            "accuracy 0.76925\n",
            "confusion matrix\n",
            " [[ 122    0   64   12   11   21    9    0]\n",
            " [   2  101   16    0   41   10    1    0]\n",
            " [  49   15  813    0    1    1   24    2]\n",
            " [   0    0    0  282    0    3    0    0]\n",
            " [  23   33    6    1  317  144   12    0]\n",
            " [  21    4    0   15   47 1210   14    0]\n",
            " [  67    0    7   97   17  133  231    0]\n",
            " [   0    0    0    0    0    0    0    1]]\n",
            "====Iteration 3  ====\n",
            "accuracy 0.46575\n",
            "confusion matrix\n",
            " [[ 46  14  84   1  23  57  14   0   0]\n",
            " [ 13  83  25   1  19  27   3   0   0]\n",
            " [ 31   3 841   2   1   2  25   0   0]\n",
            " [  0   0  11 232   8  31   3   0   0]\n",
            " [ 12  33  23   0  62 390  16   0   0]\n",
            " [741   0   4  10  55 177 324   0   0]\n",
            " [  4   0  19   5  33  69 421   0   0]\n",
            " [  1   0   0   0   0   0   0   0   0]\n",
            " [  0   0   0   0   0   0   0   0   1]]\n",
            "====Iteration 4  ====\n",
            "accuracy 0.73575\n",
            "confusion matrix\n",
            " [[ 98  23  84   3   8   3  20   0   0   0]\n",
            " [  1 134   1   0   0  34   1   0   0   0]\n",
            " [ 47  15 824   1   1   7   9   0   1   0]\n",
            " [  0   0   0 285   0   0   0   0   0   0]\n",
            " [ 36   6  23   1 415  24  31   0   0   0]\n",
            " [119   5  29  10  90 809 246   0   0   3]\n",
            " [  8   0  17   1  42 106 377   0   0   0]\n",
            " [  0   0   0   0   1   0   0   0   0   0]\n",
            " [  0   0   0   0   0   0   0   0   1   0]\n",
            " [  0   0   0   0   0   0   0   0   0   0]]\n",
            "====Iteration 5  ====\n",
            "accuracy 0.696\n",
            "confusion matrix\n",
            " [[ 150    3   42    4   14   13   13    0]\n",
            " [   0   73   24    0   42   32    0    0]\n",
            " [  62   40  593    0    3  173   34    0]\n",
            " [  16    0   50  163    0   50    6    0]\n",
            " [  29    3  155    1  264   34   50    0]\n",
            " [  11    4    1    2   17 1258   18    0]\n",
            " [   3    0   64    0   77  126  281    0]\n",
            " [   0    0    0    0    0    0    0    2]]\n",
            "====Iteration 6  ====\n",
            "accuracy 0.63525\n",
            "confusion matrix\n",
            " [[ 120   11   72    0    3   12   20    0]\n",
            " [   2   69   23    0   50   24    4    0]\n",
            " [  41   48  544    0   32   92  148    0]\n",
            " [  60   35    6   48   24   77   35    0]\n",
            " [  82   12   46    0  202  156   38    0]\n",
            " [   6   32   34    4  123 1052   60    0]\n",
            " [   5    0    0    0   27   15  504    0]\n",
            " [   0    0    0    0    0    0    0    2]]\n",
            "====Iteration 7  ====\n",
            "accuracy 0.7285\n",
            "confusion matrix\n",
            " [[ 124    0    7   20    1   40   46    0    0]\n",
            " [  27  118   21    1    0    4    1    0    0]\n",
            " [  21   73  633   43   13   69   52    0    0]\n",
            " [   1    0    0  282    0    3    0    0    0]\n",
            " [  37    6   58   30  121  273   11    0    0]\n",
            " [   2   31   18    4    8 1247    1    0    0]\n",
            " [   9    0   94    0   50   11  387    0    0]\n",
            " [   0    0    0    0    0    0    0    1    0]\n",
            " [   0    0    0    0    0    0    0    0    1]]\n",
            "====Iteration 8  ====\n",
            "accuracy 0.57775\n",
            "confusion matrix\n",
            " [[187   0   1   6   0   7  37   0   0]\n",
            " [ 15  73  38   1  20  16   9   0   0]\n",
            " [ 50  65 510 111  64  16  88   0   0]\n",
            " [ 20   0   0 224   2  20  20   0   0]\n",
            " [  0   5   2   1 486   7  35   0   0]\n",
            " [ 37 220 151  24 304 487  87   0   0]\n",
            " [166   0   1   9   1  33 342   0   0]\n",
            " [  0   0   0   0   0   0   0   1   0]\n",
            " [  0   0   0   0   0   0   0   0   1]]\n",
            "====Iteration 9  ====\n",
            "accuracy 0.43125\n",
            "confusion matrix\n",
            " [[ 66   0  14  31   1  94  32   0   0]\n",
            " [ 27  10  71   5  34   8  17   0   0]\n",
            " [124   0 575   0   7 116  82   0   0]\n",
            " [  9   0   1 107  13 156   0   0   0]\n",
            " [  0   0   0   1 477  15  43   0   0]\n",
            " [ 76  80 832   9 102 145  66   0   0]\n",
            " [134   0   5   9   5  55 344   0   0]\n",
            " [  0   0   0   0   0   0   0   1   0]\n",
            " [  1   0   0   0   0   0   0   0   0]]\n"
          ],
          "name": "stdout"
        }
      ]
    },
    {
      "cell_type": "markdown",
      "metadata": {
        "id": "Tw_wXYYfB424",
        "colab_type": "text"
      },
      "source": [
        "Our precision, recall and F1 scores are very high, which suggest we have a strong model, but not stronger than previously."
      ]
    },
    {
      "cell_type": "code",
      "metadata": {
        "id": "0HXOOsDJtF6n",
        "colab_type": "code",
        "colab": {}
      },
      "source": [
        "clf.fit(X1_train, y1_train)\n",
        "y_pred = clf.predict(X1_test)\n",
        "conf = mt.confusion_matrix(y1_test,y_pred)"
      ],
      "execution_count": 0,
      "outputs": []
    },
    {
      "cell_type": "code",
      "metadata": {
        "id": "yvp8Z65Vxeap",
        "colab_type": "code",
        "outputId": "289f2f0a-ca58-4708-a022-e6f3cf60e9f9",
        "colab": {
          "base_uri": "https://localhost:8080/",
          "height": 68
        }
      },
      "source": [
        "from sklearn.metrics import f1_score\n",
        "from sklearn.metrics import precision_score\n",
        "from sklearn.metrics import recall_score\n",
        "print(\"Precision Score is: {}\" .format(precision_score(y1_test,y_pred, average='weighted')))\n",
        "print(\"Recall Score is: {}\" .format(recall_score(y1_test,y_pred, average='weighted')))\n",
        "print(\"F1 Score is: {}\" .format(f1_score(y1_test,y_pred, average='weighted')))"
      ],
      "execution_count": 18,
      "outputs": [
        {
          "output_type": "stream",
          "text": [
            "Precision Score is: 0.920466114002605\n",
            "Recall Score is: 0.921125\n",
            "F1 Score is: 0.9206220499197816\n"
          ],
          "name": "stdout"
        }
      ]
    },
    {
      "cell_type": "code",
      "metadata": {
        "id": "WsivPdWLu8p5",
        "colab_type": "code",
        "colab": {}
      },
      "source": [
        "import numpy as np\n",
        "import matplotlib.pyplot as plt\n",
        "import seaborn as sns\n",
        "from sklearn.metrics import classification_report, confusion_matrix\n",
        "# source of code: https://medium.com/@dtuk81/confusion-matrix-visualization-fc31e3f30fea\n",
        "def make_confusion_matrix(cf,\n",
        "                          group_names=None,\n",
        "                          categories='auto',\n",
        "                          count=True,\n",
        "                          percent=True,\n",
        "                          cbar=True,\n",
        "                          xyticks=True,\n",
        "                          xyplotlabels=True,\n",
        "                          sum_stats=True,\n",
        "                          figsize=None,\n",
        "                          cmap='Blues',\n",
        "                          title=None):\n",
        "    '''\n",
        "    This function will make a pretty plot of an sklearn Confusion Matrix cm using a Seaborn heatmap visualization.\n",
        "    Arguments\n",
        "    ---------\n",
        "    cf:            confusion matrix to be passed in\n",
        "    group_names:   List of strings that represent the labels row by row to be shown in each square.\n",
        "    categories:    List of strings containing the categories to be displayed on the x,y axis. Default is 'auto'\n",
        "    count:         If True, show the raw number in the confusion matrix. Default is True.\n",
        "    normalize:     If True, show the proportions for each category. Default is True.\n",
        "    cbar:          If True, show the color bar. The cbar values are based off the values in the confusion matrix.\n",
        "                   Default is True.\n",
        "    xyticks:       If True, show x and y ticks. Default is True.\n",
        "    xyplotlabels:  If True, show 'True Label' and 'Predicted Label' on the figure. Default is True.\n",
        "    sum_stats:     If True, display summary statistics below the figure. Default is True.\n",
        "    figsize:       Tuple representing the figure size. Default will be the matplotlib rcParams value.\n",
        "    cmap:          Colormap of the values displayed from matplotlib.pyplot.cm. Default is 'Blues'\n",
        "                   See http://matplotlib.org/examples/color/colormaps_reference.html\n",
        "                   \n",
        "    title:         Title for the heatmap. Default is None.\n",
        "    '''\n",
        "\n",
        "\n",
        "    # CODE TO GENERATE TEXT INSIDE EACH SQUARE\n",
        "    blanks = ['' for i in range(cf.size)]\n",
        "\n",
        "    if group_names and len(group_names)==cf.size:\n",
        "        group_labels = [\"{}\\n\".format(value) for value in group_names]\n",
        "    else:\n",
        "        group_labels = blanks\n",
        "\n",
        "    if count:\n",
        "        group_counts = [\"{0:0.0f}\\n\".format(value) for value in cf.flatten()]\n",
        "    else:\n",
        "        group_counts = blanks\n",
        "\n",
        "    if percent:\n",
        "        group_percentages = [\"{0:.2%}\".format(value) for value in cf.flatten()/np.sum(cf)]\n",
        "    else:\n",
        "        group_percentages = blanks\n",
        "\n",
        "    box_labels = [f\"{v1}{v2}{v3}\".strip() for v1, v2, v3 in zip(group_labels,group_counts,group_percentages)]\n",
        "    box_labels = np.asarray(box_labels).reshape(cf.shape[0],cf.shape[1])\n",
        "\n",
        "\n",
        "    # CODE TO GENERATE SUMMARY STATISTICS & TEXT FOR SUMMARY STATS\n",
        "    if sum_stats:\n",
        "        #Accuracy is sum of diagonal divided by total observations\n",
        "        accuracy  = np.trace(cf) / float(np.sum(cf))\n",
        "\n",
        "        #if it is a binary confusion matrix, show some more stats\n",
        "        if len(cf)==2:\n",
        "            #Metrics for Binary Confusion Matrices\n",
        "            precision = cf[1,1] / sum(cf[:,1])\n",
        "            recall    = cf[1,1] / sum(cf[1,:])\n",
        "            f1_score  = 2*precision*recall / (precision + recall)\n",
        "            stats_text = \"\\n\\nAccuracy={:0.3f}\\nPrecision={:0.3f}\\nRecall={:0.3f}\\nF1 Score={:0.3f}\".format(\n",
        "                accuracy,precision,recall,f1_score)\n",
        "        else:\n",
        "            stats_text = \"\\n\\nAccuracy={:0.3f}\".format(accuracy)\n",
        "    else:\n",
        "        stats_text = \"\"\n",
        "\n",
        "\n",
        "    # SET FIGURE PARAMETERS ACCORDING TO OTHER ARGUMENTS\n",
        "    if figsize==None:\n",
        "        #Get default figure size if not set\n",
        "        figsize = plt.rcParams.get('figure.figsize')\n",
        "\n",
        "    if xyticks==False:\n",
        "        #Do not show categories if xyticks is False\n",
        "        categories=False\n",
        "\n",
        "\n",
        "    # MAKE THE HEATMAP VISUALIZATION\n",
        "    plt.figure(figsize=figsize)\n",
        "    sns.heatmap(cf,annot=box_labels,fmt=\"\",cmap=cmap,cbar=cbar,xticklabels=categories,yticklabels=categories)\n",
        "\n",
        "    if xyplotlabels:\n",
        "        plt.ylabel('True label')\n",
        "        plt.xlabel('Predicted label' + stats_text)\n",
        "    else:\n",
        "        plt.xlabel(stats_text)\n",
        "    \n",
        "    if title:\n",
        "        plt.title(title)\n"
      ],
      "execution_count": 0,
      "outputs": []
    },
    {
      "cell_type": "code",
      "metadata": {
        "id": "8nj3gwslud7e",
        "colab_type": "code",
        "outputId": "4e21a399-d9d0-4c0e-e38b-5fe06dd2d799",
        "colab": {
          "base_uri": "https://localhost:8080/",
          "height": 591
        }
      },
      "source": [
        "#Import scikit-learn metrics module for accuracy calculation\n",
        "from sklearn import metrics\n",
        "# Model Accuracy, how often is the classifier correct?\n",
        "print(\"Accuracy:\",metrics.accuracy_score(y1_test,y_pred))\n",
        "matrix = confusion_matrix(y1_test,y_pred)\n",
        "make_confusion_matrix(matrix, figsize=(12,9), cbar=False)"
      ],
      "execution_count": 20,
      "outputs": [
        {
          "output_type": "stream",
          "text": [
            "Accuracy: 0.921125\n"
          ],
          "name": "stdout"
        },
        {
          "output_type": "display_data",
          "data": {
            "image/png": "[encoded data removed]",
            "text/plain": [
              "<Figure size 864x648 with 1 Axes>"
            ]
          },
          "metadata": {
            "tags": [],
            "needs_background": "light"
          }
        }
      ]
    },
    {
      "cell_type": "code",
      "metadata": {
        "id": "nKGMJD5D0ogK",
        "colab_type": "code",
        "colab": {}
      },
      "source": [
        "def per_class_accuracy(ytrue,yhat):\n",
        "    conf = mt.confusion_matrix(ytrue,yhat)\n",
        "    norm_conf = conf.astype('float') / conf.sum(axis=1)[:, np.newaxis]\n",
        "    return np.diag(norm_conf)"
      ],
      "execution_count": 0,
      "outputs": []
    },
    {
      "cell_type": "code",
      "metadata": {
        "id": "xKzHbkfsz-kF",
        "colab_type": "code",
        "outputId": "a913cd24-fab2-4887-9d6d-29200ee8eb42",
        "colab": {
          "base_uri": "https://localhost:8080/",
          "height": 295
        }
      },
      "source": [
        "totalacc = 0\n",
        "totalprec = 0\n",
        "totalrec= 0\n",
        "totalf1  = 0\n",
        "listx = []\n",
        "perclasslist = []\n",
        "for fold, (train_index, test_index) in enumerate(cv.split(X,Y2)):\n",
        "     X_train = X[train_index]    \n",
        "     y_train = Y2[train_index]  # Based on your code, you might need a ravel call here, but I would look into how you're generating your y\n",
        "     X_test = X[test_index]\n",
        "     y_test = Y2[test_index]  # See comment on ravel and  y_train\n",
        "#     sm = SMOTE(random_state=101)\n",
        "#     X_train_oversampled, y_train_oversampled = sm.fit_sample(X_train, y_train)\n",
        "     clf.fit(X_train, y_train) \n",
        "     y_pred = clf.predict(X_test)\n",
        "     acc = mt.accuracy_score(y_test,y_pred)\n",
        "     prec = precision_score(y_test, y_pred, average='weighted')\n",
        "     rec = recall_score(y_test, y_pred, average='weighted')\n",
        "     f1 = f1_score(y_test, y_pred, average='weighted')\n",
        "     perclassaccuracy = per_class_accuracy(y_test,y_pred)\n",
        "     perclasslist.append(perclassaccuracy.tolist())\n",
        "     totalacc += acc\n",
        "     totalprec += prec\n",
        "     totalrec += rec\n",
        "     totalf1 += f1\n",
        "     conf = mt.confusion_matrix(y_test,y_pred)\n",
        "#     print(\"Sum: \", totalacc, \"Current: \", acc,\"Per Class\",perclassaccuracy,\"\\n\")\n",
        "\n",
        "\n",
        "avgaccuracy = 100*totalacc / cv.n_splits\n",
        "avgprec = 100*totalprec / cv.n_splits\n",
        "avgrec = 100*totalrec / cv.n_splits\n",
        "avgf1 = 100*totalf1 / cv.n_splits\n",
        " \n",
        "\n",
        "listx.append((\"Model 2\", \"Random Forest\", avgaccuracy, avgprec, avgrec, avgf1))\n",
        "\n",
        "perclassdf = []\n",
        "perclassdf = pd.DataFrame(perclasslist)\n",
        "#perclassdf = perclassdf.transpose()\n",
        "#perclassdf\n",
        "\n",
        "perclassavg = perclassdf.mean(axis = 0) \n",
        "#perclassavg\n",
        "\n",
        "plt.bar(range(len(perclassavg)), perclassavg)\n",
        "plt.xlabel('Class value (one per category)')\n",
        "plt.ylabel('Accuracy within class')\n",
        "#plt.title(title+\", Total Acc=%.1f\"%(totalaccuracy))\n",
        "plt.title(\"Random Forest Avg Acc=%.1f\"%(avgaccuracy))\n",
        "plt.grid()\n",
        "plt.ylim([0,1])\n",
        "plt.show()"
      ],
      "execution_count": 22,
      "outputs": [
        {
          "output_type": "display_data",
          "data": {
            "image/png": "[encoded data removed]",
            "text/plain": [
              "<Figure size 432x288 with 1 Axes>"
            ]
          },
          "metadata": {
            "tags": [],
            "needs_background": "light"
          }
        }
      ]
    },
    {
      "cell_type": "markdown",
      "metadata": {
        "id": "OQZUWbWDCeQu",
        "colab_type": "text"
      },
      "source": [
        "We cand see that accuracy by liquor class is similiar to prior predicitons."
      ]
    },
    {
      "cell_type": "code",
      "metadata": {
        "id": "mdMo4CmM0RhT",
        "colab_type": "code",
        "outputId": "dbe962ae-9ab9-4751-9b1c-9a820a161549",
        "colab": {
          "base_uri": "https://localhost:8080/",
          "height": 119
        }
      },
      "source": [
        "listx"
      ],
      "execution_count": 23,
      "outputs": [
        {
          "output_type": "execute_result",
          "data": {
            "text/plain": [
              "[('Model 2',\n",
              "  'Random Forest',\n",
              "  65.19250000000001,\n",
              "  66.2888940471183,\n",
              "  65.19250000000001,\n",
              "  63.88509642776014)]"
            ]
          },
          "metadata": {
            "tags": []
          },
          "execution_count": 23
        }
      ]
    },
    {
      "cell_type": "code",
      "metadata": {
        "id": "6QIV6PAI1IXU",
        "colab_type": "code",
        "outputId": "f05d5fba-2678-4087-be2b-aa400ce0318b",
        "colab": {
          "base_uri": "https://localhost:8080/",
          "height": 80
        }
      },
      "source": [
        "dfobj = pd.DataFrame(listx, columns = ['Model Number', 'Model','Accuracy' , 'Precision', 'Recall', 'F1'], index=['0', '1', '2'])\n",
        "dfobj.head(1)"
      ],
      "execution_count": 27,
      "outputs": [
        {
          "output_type": "execute_result",
          "data": {
            "text/html": [
              "<div>\n",
              "<style scoped>\n",
              "    .dataframe tbody tr th:only-of-type {\n",
              "        vertical-align: middle;\n",
              "    }\n",
              "\n",
              "    .dataframe tbody tr th {\n",
              "        vertical-align: top;\n",
              "    }\n",
              "\n",
              "    .dataframe thead th {\n",
              "        text-align: right;\n",
              "    }\n",
              "</style>\n",
              "<table border=\"1\" class=\"dataframe\">\n",
              "  <thead>\n",
              "    <tr style=\"text-align: right;\">\n",
              "      <th></th>\n",
              "      <th>Model Number</th>\n",
              "      <th>Model</th>\n",
              "      <th>Accuracy</th>\n",
              "      <th>Precision</th>\n",
              "      <th>Recall</th>\n",
              "      <th>F1</th>\n",
              "    </tr>\n",
              "  </thead>\n",
              "  <tbody>\n",
              "    <tr>\n",
              "      <th>0</th>\n",
              "      <td>Model 2</td>\n",
              "      <td>Random Forest</td>\n",
              "      <td>65.1925</td>\n",
              "      <td>66.288894</td>\n",
              "      <td>65.1925</td>\n",
              "      <td>63.885096</td>\n",
              "    </tr>\n",
              "  </tbody>\n",
              "</table>\n",
              "</div>"
            ],
            "text/plain": [
              "  Model Number          Model  Accuracy  Precision   Recall         F1\n",
              "0      Model 2  Random Forest   65.1925  66.288894  65.1925  63.885096"
            ]
          },
          "metadata": {
            "tags": []
          },
          "execution_count": 27
        }
      ]
    },
    {
      "cell_type": "code",
      "metadata": {
        "id": "Oc6DnDn12lDP",
        "colab_type": "code",
        "outputId": "fad02982-9a6f-43e5-bcca-3c50ad7adfa3",
        "colab": {
          "base_uri": "https://localhost:8080/",
          "height": 34
        }
      },
      "source": [
        "ylist = Y['id_label'].values.astype('int64')\n",
        "ylist\n",
        "ylist.shape"
      ],
      "execution_count": 28,
      "outputs": [
        {
          "output_type": "execute_result",
          "data": {
            "text/plain": [
              "(40000,)"
            ]
          },
          "metadata": {
            "tags": []
          },
          "execution_count": 28
        }
      ]
    },
    {
      "cell_type": "code",
      "metadata": {
        "id": "GSHOtExU2iPD",
        "colab_type": "code",
        "colab": {}
      },
      "source": [
        "from sklearn.preprocessing import label_binarize\n",
        "ybinary = label_binarize(ylist, classes=[1, 2, 3, 4, 5, 6, 7])\n",
        "n_classes = ybinary.shape[1]\n",
        "X_train4, X_test4, y_train4, y_test4 = train_test_split(X,ybinary, test_size=0.2) # 70% training and 30% test"
      ],
      "execution_count": 0,
      "outputs": []
    },
    {
      "cell_type": "code",
      "metadata": {
        "id": "WBWxjsmt2yc0",
        "colab_type": "code",
        "colab": {}
      },
      "source": [
        "from sklearn.metrics import accuracy_score, confusion_matrix, roc_auc_score, auc, roc_curve"
      ],
      "execution_count": 0,
      "outputs": []
    },
    {
      "cell_type": "code",
      "metadata": {
        "id": "YAg7EtRN30eu",
        "colab_type": "code",
        "colab": {}
      },
      "source": [
        "from sklearn.ensemble import GradientBoostingClassifier,GradientBoostingRegressor,AdaBoostClassifier,RandomForestClassifier, BaggingClassifier"
      ],
      "execution_count": 0,
      "outputs": []
    },
    {
      "cell_type": "code",
      "metadata": {
        "id": "LL0X5zf53Xzf",
        "colab_type": "code",
        "outputId": "5bd2549a-d04d-45bd-8c6b-b8c195b899e1",
        "colab": {
          "base_uri": "https://localhost:8080/",
          "height": 51
        }
      },
      "source": [
        "%%time\n",
        "from sklearn.multiclass import OneVsRestClassifier\n",
        "from sklearn.model_selection import cross_val_predict\n",
        "# Learn to predict each class against the other\n",
        "rfclassifiercv = OneVsRestClassifier(RandomForestClassifier(bootstrap=True, ccp_alpha=0.0, class_weight=None,\n",
        "                       criterion='gini', max_depth=20, max_features='auto',\n",
        "                       max_leaf_nodes=None, max_samples=None,\n",
        "                       min_impurity_decrease=0.0, min_impurity_split=None,\n",
        "                       min_samples_leaf=1, min_samples_split=2,\n",
        "                       min_weight_fraction_leaf=0.0, n_estimators=500,\n",
        "                       n_jobs=None, oob_score=False, random_state=101,\n",
        "                       verbose=0, warm_start=False))\n",
        "rfbinarymodel = rfclassifiercv.fit(X_train4, y_train4)\n",
        "rfbinaryscore = rfclassifiercv.predict(X_test4)\n",
        "y_score = cross_val_predict(rfclassifiercv, X, ybinary, cv=10 ,method='predict_proba')"
      ],
      "execution_count": 32,
      "outputs": [
        {
          "output_type": "stream",
          "text": [
            "CPU times: user 24min 56s, sys: 8.9 s, total: 25min 5s\n",
            "Wall time: 25min 8s\n"
          ],
          "name": "stdout"
        }
      ]
    },
    {
      "cell_type": "code",
      "metadata": {
        "id": "8ywMeLYT2YOb",
        "colab_type": "code",
        "outputId": "41323255-119d-4ca6-9342-8dc1139d361b",
        "colab": {
          "base_uri": "https://localhost:8080/",
          "height": 295
        }
      },
      "source": [
        "#X1_train, X1_test, y1_train, y1_test\n",
        "#y_score = classifier.fit(X_train3, y_train3).decision_function(X_test3)\n",
        "# Compute ROC curve and ROC area for each class\n",
        "fpr = dict()\n",
        "tpr = dict()\n",
        "roc_auc = dict()\n",
        "for i in range(n_classes):\n",
        "    fpr[i], tpr[i], _ = roc_curve(ybinary[:, i], y_score[:, i])\n",
        "    roc_auc[i] = auc(fpr[i], tpr[i])\n",
        "\n",
        "# Compute micro-average ROC curve and ROC area\n",
        "fpr[\"micro\"], tpr[\"micro\"], _ = roc_curve(ybinary.ravel(), y_score.ravel())\n",
        "roc_auc[\"micro\"] = auc(fpr[\"micro\"], tpr[\"micro\"])\n",
        "#Plot of a ROC curve for a specific class\n",
        "\n",
        "plt.figure()\n",
        "lw = 2\n",
        "plt.plot(fpr[2], tpr[2], color='darkorange',\n",
        "         lw=lw, label='ROC curve (area = %0.2f)' % roc_auc[3])\n",
        "plt.plot([0, 1], [0, 1], color='navy', lw=lw, linestyle='--')\n",
        "plt.xlim([0.0, 1.0])\n",
        "plt.ylim([0.0, 1.05])\n",
        "plt.xlabel('False Positive Rate')\n",
        "plt.ylabel('True Positive Rate')\n",
        "plt.title('Receiver operating characteristic Whiskey')\n",
        "plt.legend(loc=\"lower right\")\n",
        "plt.show()"
      ],
      "execution_count": 33,
      "outputs": [
        {
          "output_type": "display_data",
          "data": {
            "image/png": "[encoded data removed]",
            "text/plain": [
              "<Figure size 432x288 with 1 Axes>"
            ]
          },
          "metadata": {
            "tags": [],
            "needs_background": "light"
          }
        }
      ]
    },
    {
      "cell_type": "markdown",
      "metadata": {
        "id": "fWboA9ynCpL7",
        "colab_type": "text"
      },
      "source": [
        "Looking at the average value ROC curve, we can see this model has the same  area under the curve."
      ]
    },
    {
      "cell_type": "code",
      "metadata": {
        "id": "xAdf24CY1T7J",
        "colab_type": "code",
        "outputId": "a3394e48-1271-46e5-fd21-9f788617d84c",
        "colab": {
          "base_uri": "https://localhost:8080/",
          "height": 295
        }
      },
      "source": [
        "roc_list =[]\n",
        "from scipy import interp\n",
        "from itertools import cycle\n",
        "# First aggregate all false positive rates\n",
        "all_fpr = np.unique(np.concatenate([fpr[i] for i in range(n_classes)]))\n",
        "\n",
        "# Then interpolate all ROC curves at this points\n",
        "mean_tpr = np.zeros_like(all_fpr)\n",
        "for i in range(n_classes):\n",
        "    mean_tpr += interp(all_fpr, fpr[i], tpr[i])\n",
        "\n",
        "# Finally average it and compute AUC\n",
        "mean_tpr /= n_classes\n",
        "\n",
        "fpr[\"macro\"] = all_fpr\n",
        "tpr[\"macro\"] = mean_tpr\n",
        "roc_auc[\"macro\"] = auc(fpr[\"macro\"], tpr[\"macro\"])\n",
        "roc_list.append((\"Model 2\", \"RF\", roc_auc[\"macro\"],fpr[\"macro\"],tpr[\"macro\"]))\n",
        "# Plot all ROC curves\n",
        "plt.figure()\n",
        "plt.plot(fpr[\"micro\"], tpr[\"micro\"],\n",
        "         label='micro-average ROC curve (area = {0:0.2f})'\n",
        "               ''.format(roc_auc[\"micro\"]),\n",
        "         color='deeppink', linestyle=':', linewidth=4)\n",
        "\n",
        "plt.plot(fpr[\"macro\"], tpr[\"macro\"],\n",
        "         label='macro-average ROC curve (area = {0:0.2f})'\n",
        "               ''.format(roc_auc[\"macro\"]),\n",
        "         color='navy', linestyle=':', linewidth=4)\n",
        "\n",
        "colors = cycle(['aqua', 'darkorange', 'cornflowerblue'])\n",
        "for i, color in zip(range(n_classes), colors):\n",
        "    plt.plot(fpr[i], tpr[i], color=color, lw=lw,\n",
        "             label='ROC curve of class {0} (area = {1:0.2f})'\n",
        "             ''.format(i, roc_auc[i]))\n",
        "\n",
        "plt.plot([0, 1], [0, 1], 'k--', lw=lw)\n",
        "plt.xlim([0.0, 1.0])\n",
        "plt.ylim([0.0, 1.05])\n",
        "plt.xlabel('False Positive Rate')\n",
        "plt.ylabel('True Positive Rate')\n",
        "plt.title('Some extension of Receiver operating characteristic to multi-class')\n",
        "plt.legend(loc=\"lower right\")\n",
        "plt.rcParams[\"figure.figsize\"] = (10,10)\n",
        "plt.show()"
      ],
      "execution_count": 34,
      "outputs": [
        {
          "output_type": "display_data",
          "data": {
            "image/png": "[encoded data removed]",
            "text/plain": [
              "<Figure size 432x288 with 1 Axes>"
            ]
          },
          "metadata": {
            "tags": [],
            "needs_background": "light"
          }
        }
      ]
    },
    {
      "cell_type": "markdown",
      "metadata": {
        "id": "ncWVD-6XC2W9",
        "colab_type": "text"
      },
      "source": [
        "With an ROC curve of the classes, we can see the random forest was pretty accurate in predicting each of the classes, with a positive outcome on each curve."
      ]
    },
    {
      "cell_type": "markdown",
      "metadata": {
        "id": "jYgYF-GtC5tA",
        "colab_type": "text"
      },
      "source": [
        "All the meausres together is much the same as from lab2."
      ]
    },
    {
      "cell_type": "code",
      "metadata": {
        "id": "axw7Wny11QA0",
        "colab_type": "code",
        "outputId": "ca04116c-0452-497f-a62d-fe30a406db75",
        "colab": {
          "base_uri": "https://localhost:8080/",
          "height": 80
        }
      },
      "source": [
        "dfroc = pd.DataFrame(roc_list, columns = ['Model Number', 'Model', 'ROC', \"fpr\", \"tpr\"], index=['0', '1', '2'])\n",
        "dfroc.head(1)"
      ],
      "execution_count": 36,
      "outputs": [
        {
          "output_type": "execute_result",
          "data": {
            "text/html": [
              "<div>\n",
              "<style scoped>\n",
              "    .dataframe tbody tr th:only-of-type {\n",
              "        vertical-align: middle;\n",
              "    }\n",
              "\n",
              "    .dataframe tbody tr th {\n",
              "        vertical-align: top;\n",
              "    }\n",
              "\n",
              "    .dataframe thead th {\n",
              "        text-align: right;\n",
              "    }\n",
              "</style>\n",
              "<table border=\"1\" class=\"dataframe\">\n",
              "  <thead>\n",
              "    <tr style=\"text-align: right;\">\n",
              "      <th></th>\n",
              "      <th>Model Number</th>\n",
              "      <th>Model</th>\n",
              "      <th>ROC</th>\n",
              "      <th>fpr</th>\n",
              "      <th>tpr</th>\n",
              "    </tr>\n",
              "  </thead>\n",
              "  <tbody>\n",
              "    <tr>\n",
              "      <th>0</th>\n",
              "      <td>Model 2</td>\n",
              "      <td>RF</td>\n",
              "      <td>0.740644</td>\n",
              "      <td>[0.0, 2.6920074299405065e-05, 5.31716913915031...</td>\n",
              "      <td>[0.012487679641767235, 0.01529822203608446, 0....</td>\n",
              "    </tr>\n",
              "  </tbody>\n",
              "</table>\n",
              "</div>"
            ],
            "text/plain": [
              "  Model Number  ...                                                tpr\n",
              "0      Model 2  ...  [0.012487679641767235, 0.01529822203608446, 0....\n",
              "\n",
              "[1 rows x 5 columns]"
            ]
          },
          "metadata": {
            "tags": []
          },
          "execution_count": 36
        }
      ]
    }
  ]
}