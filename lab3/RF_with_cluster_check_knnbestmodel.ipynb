{
  "nbformat": 4,
  "nbformat_minor": 0,
  "metadata": {
    "colab": {
      "name": "RF with cluster check.ipynb",
      "provenance": [],
      "collapsed_sections": [],
      "authorship_tag": "ABX9TyPEvYqjUmf3iTt0Qm/5PKEC",
      "include_colab_link": true
    },
    "kernelspec": {
      "name": "python3",
      "display_name": "Python 3"
    }
  },
  "cells": [
    {
      "cell_type": "markdown",
      "metadata": {
        "id": "view-in-github",
        "colab_type": "text"
      },
      "source": [
        "<a href=\"https://colab.research.google.com/github/jjschueder/7331DataMiningNotebooks/blob/master/lab3/RF_with_cluster_check_knnbestmodel.ipynb\" target=\"_parent\"><img src=\"https://colab.research.google.com/assets/colab-badge.svg\" alt=\"Open In Colab\"/></a>"
      ]
    },
    {
      "cell_type": "code",
      "metadata": {
        "id": "h0B6AQ27DH1u",
        "colab_type": "code",
        "colab": {}
      },
      "source": [
        "import warnings\n",
        "warnings.filterwarnings('ignore')"
      ],
      "execution_count": 0,
      "outputs": []
    },
    {
      "cell_type": "markdown",
      "metadata": {
        "id": "DrDbqFOj-VCf",
        "colab_type": "text"
      },
      "source": [
        "#Lab 3 - Clustering, Association Rules, or Recommenders - Classification Evaluation after adding Clustering Feature\n",
        "Daniel Clark, Joe Schueder, Jeff Washburn, Armando Vela"
      ]
    },
    {
      "cell_type": "markdown",
      "metadata": {
        "id": "KsLwaxVA-inC",
        "colab_type": "text"
      },
      "source": [
        "Import CSV file that was exported from the lab3 clustering notebook.\n",
        "https://github.com/jjschueder/7331DataMiningNotebooks/blob/master/lab3/Lab3_Daniel_Jeff_Armando_Joe_final_v7.ipynb"
      ]
    },
    {
      "cell_type": "code",
      "metadata": {
        "id": "CQrokG3lnQUW",
        "colab_type": "code",
        "outputId": "99073b7d-c44c-4ba0-b969-137fac167cec",
        "colab": {
          "base_uri": "https://localhost:8080/",
          "height": 34
        }
      },
      "source": [
        "\n",
        "import pandas as pd\n",
        "from google.colab import drive\n",
        "drive.mount('/content/drive/')\n",
        "data = pd.read_csv(\"/content/drive/My Drive/ColabNotebooks/knnmergedf.csv\")\n"
      ],
      "execution_count": 38,
      "outputs": [
        {
          "output_type": "stream",
          "text": [
            "Drive already mounted at /content/drive/; to attempt to forcibly remount, call drive.mount(\"/content/drive/\", force_remount=True).\n"
          ],
          "name": "stdout"
        }
      ]
    },
    {
      "cell_type": "markdown",
      "metadata": {
        "id": "UKOskJnA-u20",
        "colab_type": "text"
      },
      "source": [
        "Load in model parameters for a Random Forest moedel that was previously determined to be the best classification of the alcohol data in lab2.\n",
        "\n",
        "https://github.com/jjschueder/7331DataMiningNotebooks/blob/master/lab2/Lab2_Daniel_Jeff_Armando_Joe(Final).ipynb\n",
        "\n",
        "The model has these parameters which was optimized through a grid search.  \n",
        "\n",
        "RandomForestClassifier(bootstrap=True, ccp_alpha=0.0, class_weight=None,  \n",
        "                       criterion='gini', max_depth=20, max_features='auto',  \n",
        "                       max_leaf_nodes=None, max_samples=None,  \n",
        "                       min_impurity_decrease=0.0, min_impurity_split=None,  \n",
        "                       min_samples_leaf=1, min_samples_split=2,  \n",
        "                       min_weight_fraction_leaf=0.0, n_estimators=500,  \n",
        "                       n_jobs=None, oob_score=False, random_state=101,  \n",
        "                       verbose=0, warm_start=False)  "
      ]
    },
    {
      "cell_type": "code",
      "metadata": {
        "id": "E4YVuvEenqTW",
        "colab_type": "code",
        "colab": {}
      },
      "source": [
        "url_rfmodel = '/content/drive/My Drive/ColabNotebooks/rfmodelbasecluster.joblib'\n",
        "#exporting model to drive\n",
        "from joblib import dump, load\n",
        "#dump(clf, url_rfmodel)\n",
        "\n",
        "#importing model to new model name\n",
        "clf = load(url_rfmodel)"
      ],
      "execution_count": 0,
      "outputs": []
    },
    {
      "cell_type": "code",
      "metadata": {
        "id": "W66-HVV7n0m2",
        "colab_type": "code",
        "outputId": "fc3dd459-0c4a-4faf-8542-f8c53dfb8b89",
        "colab": {
          "base_uri": "https://localhost:8080/",
          "height": 456
        }
      },
      "source": [
        "data"
      ],
      "execution_count": 40,
      "outputs": [
        {
          "output_type": "execute_result",
          "data": {
            "text/html": [
              "<div>\n",
              "<style scoped>\n",
              "    .dataframe tbody tr th:only-of-type {\n",
              "        vertical-align: middle;\n",
              "    }\n",
              "\n",
              "    .dataframe tbody tr th {\n",
              "        vertical-align: top;\n",
              "    }\n",
              "\n",
              "    .dataframe thead th {\n",
              "        text-align: right;\n",
              "    }\n",
              "</style>\n",
              "<table border=\"1\" class=\"dataframe\">\n",
              "  <thead>\n",
              "    <tr style=\"text-align: right;\">\n",
              "      <th></th>\n",
              "      <th>Unnamed: 0</th>\n",
              "      <th>sale_dollars_trans</th>\n",
              "      <th>cost_per_liter_trans</th>\n",
              "      <th>state_bottle_cost_trans</th>\n",
              "      <th>bottles_sold_trans</th>\n",
              "      <th>volume_sold_liters_trans</th>\n",
              "      <th>pack_trans</th>\n",
              "      <th>bottle_volume_ml_trans</th>\n",
              "      <th>profit_trans</th>\n",
              "      <th>totalcost_trans</th>\n",
              "      <th>revenue_trans</th>\n",
              "      <th>id_label</th>\n",
              "      <th>Cluster_Label</th>\n",
              "    </tr>\n",
              "  </thead>\n",
              "  <tbody>\n",
              "    <tr>\n",
              "      <th>0</th>\n",
              "      <td>0</td>\n",
              "      <td>4.750136</td>\n",
              "      <td>2.735233</td>\n",
              "      <td>1.348073</td>\n",
              "      <td>2.995732</td>\n",
              "      <td>2.014903</td>\n",
              "      <td>2.995732</td>\n",
              "      <td>5.926926</td>\n",
              "      <td>3.653252</td>\n",
              "      <td>4.343805</td>\n",
              "      <td>4.750136</td>\n",
              "      <td>1</td>\n",
              "      <td>6</td>\n",
              "    </tr>\n",
              "    <tr>\n",
              "      <th>1</th>\n",
              "      <td>1</td>\n",
              "      <td>2.574900</td>\n",
              "      <td>5.570632</td>\n",
              "      <td>2.169054</td>\n",
              "      <td>0.000000</td>\n",
              "      <td>-2.995732</td>\n",
              "      <td>2.079442</td>\n",
              "      <td>3.912023</td>\n",
              "      <td>1.477049</td>\n",
              "      <td>2.169054</td>\n",
              "      <td>2.574900</td>\n",
              "      <td>1</td>\n",
              "      <td>6</td>\n",
              "    </tr>\n",
              "    <tr>\n",
              "      <th>2</th>\n",
              "      <td>2</td>\n",
              "      <td>5.000585</td>\n",
              "      <td>3.208825</td>\n",
              "      <td>2.803360</td>\n",
              "      <td>1.791759</td>\n",
              "      <td>1.791759</td>\n",
              "      <td>2.484907</td>\n",
              "      <td>6.907755</td>\n",
              "      <td>3.901973</td>\n",
              "      <td>4.595120</td>\n",
              "      <td>5.000585</td>\n",
              "      <td>2</td>\n",
              "      <td>5</td>\n",
              "    </tr>\n",
              "    <tr>\n",
              "      <th>3</th>\n",
              "      <td>3</td>\n",
              "      <td>6.636261</td>\n",
              "      <td>3.745890</td>\n",
              "      <td>3.052585</td>\n",
              "      <td>3.178054</td>\n",
              "      <td>2.890372</td>\n",
              "      <td>1.791759</td>\n",
              "      <td>6.620073</td>\n",
              "      <td>5.537964</td>\n",
              "      <td>6.230639</td>\n",
              "      <td>6.636261</td>\n",
              "      <td>3</td>\n",
              "      <td>6</td>\n",
              "    </tr>\n",
              "    <tr>\n",
              "      <th>4</th>\n",
              "      <td>4</td>\n",
              "      <td>5.121819</td>\n",
              "      <td>2.077296</td>\n",
              "      <td>2.231089</td>\n",
              "      <td>2.484907</td>\n",
              "      <td>3.044522</td>\n",
              "      <td>1.791759</td>\n",
              "      <td>7.467371</td>\n",
              "      <td>4.023922</td>\n",
              "      <td>4.715996</td>\n",
              "      <td>5.121819</td>\n",
              "      <td>1</td>\n",
              "      <td>6</td>\n",
              "    </tr>\n",
              "    <tr>\n",
              "      <th>...</th>\n",
              "      <td>...</td>\n",
              "      <td>...</td>\n",
              "      <td>...</td>\n",
              "      <td>...</td>\n",
              "      <td>...</td>\n",
              "      <td>...</td>\n",
              "      <td>...</td>\n",
              "      <td>...</td>\n",
              "      <td>...</td>\n",
              "      <td>...</td>\n",
              "      <td>...</td>\n",
              "      <td>...</td>\n",
              "      <td>...</td>\n",
              "    </tr>\n",
              "    <tr>\n",
              "      <th>39978</th>\n",
              "      <td>39995</td>\n",
              "      <td>3.661508</td>\n",
              "      <td>2.968361</td>\n",
              "      <td>2.562639</td>\n",
              "      <td>0.693147</td>\n",
              "      <td>0.693147</td>\n",
              "      <td>2.484907</td>\n",
              "      <td>6.907755</td>\n",
              "      <td>2.563410</td>\n",
              "      <td>3.255786</td>\n",
              "      <td>3.661508</td>\n",
              "      <td>5</td>\n",
              "      <td>1</td>\n",
              "    </tr>\n",
              "    <tr>\n",
              "      <th>39979</th>\n",
              "      <td>39996</td>\n",
              "      <td>5.247445</td>\n",
              "      <td>2.985682</td>\n",
              "      <td>0.970779</td>\n",
              "      <td>3.871201</td>\n",
              "      <td>2.261763</td>\n",
              "      <td>3.871201</td>\n",
              "      <td>5.298317</td>\n",
              "      <td>4.148833</td>\n",
              "      <td>4.841980</td>\n",
              "      <td>5.247445</td>\n",
              "      <td>5</td>\n",
              "      <td>3</td>\n",
              "    </tr>\n",
              "    <tr>\n",
              "      <th>39980</th>\n",
              "      <td>39997</td>\n",
              "      <td>2.951780</td>\n",
              "      <td>4.848900</td>\n",
              "      <td>1.446919</td>\n",
              "      <td>1.098612</td>\n",
              "      <td>-1.897120</td>\n",
              "      <td>2.484907</td>\n",
              "      <td>3.912023</td>\n",
              "      <td>1.854734</td>\n",
              "      <td>2.545531</td>\n",
              "      <td>2.951780</td>\n",
              "      <td>5</td>\n",
              "      <td>3</td>\n",
              "    </tr>\n",
              "    <tr>\n",
              "      <th>39981</th>\n",
              "      <td>39998</td>\n",
              "      <td>4.787492</td>\n",
              "      <td>2.931194</td>\n",
              "      <td>0.916291</td>\n",
              "      <td>3.465736</td>\n",
              "      <td>1.856298</td>\n",
              "      <td>3.871201</td>\n",
              "      <td>5.298317</td>\n",
              "      <td>3.688879</td>\n",
              "      <td>4.382027</td>\n",
              "      <td>4.787492</td>\n",
              "      <td>5</td>\n",
              "      <td>3</td>\n",
              "    </tr>\n",
              "    <tr>\n",
              "      <th>39982</th>\n",
              "      <td>39999</td>\n",
              "      <td>6.640660</td>\n",
              "      <td>4.848900</td>\n",
              "      <td>1.446919</td>\n",
              "      <td>4.787492</td>\n",
              "      <td>1.791759</td>\n",
              "      <td>2.484907</td>\n",
              "      <td>3.912023</td>\n",
              "      <td>5.543614</td>\n",
              "      <td>6.234411</td>\n",
              "      <td>6.640660</td>\n",
              "      <td>5</td>\n",
              "      <td>0</td>\n",
              "    </tr>\n",
              "  </tbody>\n",
              "</table>\n",
              "<p>39983 rows × 13 columns</p>\n",
              "</div>"
            ],
            "text/plain": [
              "       Unnamed: 0  sale_dollars_trans  ...  id_label  Cluster_Label\n",
              "0               0            4.750136  ...         1              6\n",
              "1               1            2.574900  ...         1              6\n",
              "2               2            5.000585  ...         2              5\n",
              "3               3            6.636261  ...         3              6\n",
              "4               4            5.121819  ...         1              6\n",
              "...           ...                 ...  ...       ...            ...\n",
              "39978       39995            3.661508  ...         5              1\n",
              "39979       39996            5.247445  ...         5              3\n",
              "39980       39997            2.951780  ...         5              3\n",
              "39981       39998            4.787492  ...         5              3\n",
              "39982       39999            6.640660  ...         5              0\n",
              "\n",
              "[39983 rows x 13 columns]"
            ]
          },
          "metadata": {
            "tags": []
          },
          "execution_count": 40
        }
      ]
    },
    {
      "cell_type": "markdown",
      "metadata": {
        "id": "mJyMs7KS_ncW",
        "colab_type": "text"
      },
      "source": [
        "Define and prepare your class variables. Use proper variable representations (int, float, one-hot, etc.). Use pre-processing methods (as needed) for dimensionality reduction, scaling, etc. Remove variables that are not needed/useful for the analysis.\n",
        "\n",
        "We obtained a dataset on Iowa Liquor Sales from Google Bigquery. The aim of recording the data set is for the state to track alcohol and liquor sales from wholesalers and retailers from the year 2012 through 2019. You can see some Exploratory Data Analysis of this dataset below:\n",
        "\n",
        "Feature have previously been chosen in lab1, the purpose here to use those variables with the addtion of the cluster label to improve classification.   \n",
        "https://github.com/jjschueder/7331DataMiningNotebooks/blob/master/lab1/msds7331_clark_schueder_vela_washburn.ipynb"
      ]
    },
    {
      "cell_type": "code",
      "metadata": {
        "id": "85Q__-wSoW8g",
        "colab_type": "code",
        "outputId": "13a9c2e7-25ce-4cce-f38f-e9880f283bf9",
        "colab": {
          "base_uri": "https://localhost:8080/",
          "height": 51
        }
      },
      "source": [
        "\n",
        "%%time\n",
        "from sklearn.neighbors import KNeighborsClassifier\n",
        "from sklearn.model_selection import StratifiedKFold\n",
        "from sklearn.preprocessing import StandardScaler\n",
        "import numpy as np\n",
        "from sklearn import metrics as mt\n",
        "\n",
        "cv = StratifiedKFold(n_splits=10)\n",
        "\n",
        "features = ['sale_dollars_trans', 'cost_per_liter_trans', \n",
        "       'state_bottle_cost_trans', 'bottles_sold_trans',\n",
        "       'volume_sold_liters_trans', 'pack_trans', 'bottle_volume_ml_trans',\n",
        "       'profit_trans', 'totalcost_trans', 'revenue_trans', 'Cluster_Label']\n",
        "\n",
        "X2 = data[features].copy()\n",
        "\n",
        "scaler = StandardScaler()\n",
        "scaler.fit(X2)\n",
        "\n",
        "#This makes our model's coefficients take on the same scale for accurate feature importance analysis\n",
        "#Notice we scaled the data before the cross validation\n",
        "X = scaler.transform(X2)\n",
        "\n",
        "Y= data[['id_label']].copy()\n",
        "Y2 = Y.values\n",
        "\n",
        "#Divide data into test and training splits\n",
        "from sklearn.model_selection import ShuffleSplit\n",
        "#cv = ShuffleSplit(n_splits=10, test_size=0.20, random_state=0)"
      ],
      "execution_count": 41,
      "outputs": [
        {
          "output_type": "stream",
          "text": [
            "CPU times: user 17.4 ms, sys: 0 ns, total: 17.4 ms\n",
            "Wall time: 17.5 ms\n"
          ],
          "name": "stdout"
        }
      ]
    },
    {
      "cell_type": "markdown",
      "metadata": {
        "id": "0BAe3845BQbj",
        "colab_type": "text"
      },
      "source": [
        "Now that we built our cross validation and assigned Xs and Ys, we will now work to create our training set and test set using SMOTE to balance our classifiers. Training size was 80% of our data and the test size was 20%."
      ]
    },
    {
      "cell_type": "code",
      "metadata": {
        "id": "9Zlnrym-oTBZ",
        "colab_type": "code",
        "colab": {}
      },
      "source": [
        "from sklearn import metrics as mt\n",
        "from sklearn.model_selection import train_test_split, GridSearchCV, KFold, TimeSeriesSplit, StratifiedShuffleSplit\n",
        "# train and test split before resampling\n",
        "X1_train, X1_test, y1_train, y1_test = train_test_split(X, Y, test_size = 0.2, random_state = 101)"
      ],
      "execution_count": 0,
      "outputs": []
    },
    {
      "cell_type": "code",
      "metadata": {
        "id": "GinaJSl2qzSW",
        "colab_type": "code",
        "outputId": "00a47003-28a8-499e-8be7-d06882bc7377",
        "colab": {
          "base_uri": "https://localhost:8080/",
          "height": 153
        }
      },
      "source": [
        "clf"
      ],
      "execution_count": 43,
      "outputs": [
        {
          "output_type": "execute_result",
          "data": {
            "text/plain": [
              "RandomForestClassifier(bootstrap=True, ccp_alpha=0.0, class_weight=None,\n",
              "                       criterion='gini', max_depth=20, max_features='auto',\n",
              "                       max_leaf_nodes=None, max_samples=None,\n",
              "                       min_impurity_decrease=0.0, min_impurity_split=None,\n",
              "                       min_samples_leaf=1, min_samples_split=2,\n",
              "                       min_weight_fraction_leaf=0.0, n_estimators=500,\n",
              "                       n_jobs=None, oob_score=False, random_state=101,\n",
              "                       verbose=0, warm_start=False)"
            ]
          },
          "metadata": {
            "tags": []
          },
          "execution_count": 43
        }
      ]
    },
    {
      "cell_type": "markdown",
      "metadata": {
        "id": "QvnAJ_kQBgL8",
        "colab_type": "text"
      },
      "source": [
        "Running through each iteration of our kfold, we can see that our accuracy score ranges from 0.43 to 0.83."
      ]
    },
    {
      "cell_type": "code",
      "metadata": {
        "id": "OR2kaSxmo-0T",
        "colab_type": "code",
        "outputId": "a0a3ad42-3dfc-4c2f-dc59-63a453ea658f",
        "colab": {
          "base_uri": "https://localhost:8080/",
          "height": 34
        }
      },
      "source": [
        "from sklearn.model_selection import cross_val_score\n",
        "\n",
        "RF_accuracy = cross_val_score(clf, X, y=Y2, cv=cv)\n",
        "RF_acc=RF_accuracy.mean()\n",
        "print('Average RF accuracy score is : {}' .format(RF_acc))"
      ],
      "execution_count": 44,
      "outputs": [
        {
          "output_type": "stream",
          "text": [
            "Average RF accuracy score is : 0.6524698708443994\n"
          ],
          "name": "stdout"
        }
      ]
    },
    {
      "cell_type": "code",
      "metadata": {
        "id": "mMF0XDJlybSX",
        "colab_type": "code",
        "outputId": "b4010565-c15b-4b60-d7cf-021e39e1e5c0",
        "colab": {
          "base_uri": "https://localhost:8080/",
          "height": 51
        }
      },
      "source": [
        "RF_accuracy"
      ],
      "execution_count": 45,
      "outputs": [
        {
          "output_type": "execute_result",
          "data": {
            "text/plain": [
              "array([0.66541635, 0.82370593, 0.76544136, 0.45947974, 0.73261631,\n",
              "       0.6935968 , 0.63031516, 0.73286643, 0.57628814, 0.44497249])"
            ]
          },
          "metadata": {
            "tags": []
          },
          "execution_count": 45
        }
      ]
    },
    {
      "cell_type": "markdown",
      "metadata": {
        "id": "Ihi7o_2cCBAR",
        "colab_type": "text"
      },
      "source": [
        "Accuracy and confusion matrix scores match pretty closely with prior model without cluster feature. "
      ]
    },
    {
      "cell_type": "code",
      "metadata": {
        "id": "-21oTg_jvp7E",
        "colab_type": "code",
        "outputId": "332f0912-96ea-4f68-c024-41ee614d43a6",
        "colab": {
          "base_uri": "https://localhost:8080/",
          "height": 1000
        }
      },
      "source": [
        " for fold, (train_index, test_index) in enumerate(cv.split(X,Y2)):\n",
        "     X_train = X[train_index]    \n",
        "     y_train = Y2[train_index]  # Based on your code, you might need a ravel call here, but I would look into how you're generating your y\n",
        "     X_test = X[test_index]\n",
        "     y_test = Y2[test_index]  # See comment on ravel and  y_train\n",
        "     clf.fit(X_train, y_train)\n",
        "     y_pred = clf.predict(X_test)\n",
        "     acc = mt.accuracy_score(y_test,y_pred)\n",
        "     conf = mt.confusion_matrix(y_test,y_pred)\n",
        "     print(\"====Iteration\",fold,\" ====\")\n",
        "     print(\"accuracy\", acc )\n",
        "     print(\"confusion matrix\\n\",conf)"
      ],
      "execution_count": 46,
      "outputs": [
        {
          "output_type": "stream",
          "text": [
            "====Iteration 0  ====\n",
            "accuracy 0.6654163540885222\n",
            "confusion matrix\n",
            " [[ 138    2   16    3   27   34   19]\n",
            " [   0  142    2    0    4   24    0]\n",
            " [  40   56  682    1   14  108    3]\n",
            " [  24    1   71   87   34    9   59]\n",
            " [  56   42   26    0  225  159   28]\n",
            " [  36    3   11    6    9 1225   21]\n",
            " [  47   27  185   12   63   56  162]]\n",
            "====Iteration 1  ====\n",
            "accuracy 0.8237059264816204\n",
            "confusion matrix\n",
            " [[ 116    5   72    1   13   24    8]\n",
            " [   3  134   14    1    6   14    0]\n",
            " [  12   22  842    6    5    5   12]\n",
            " [   0    0    1  273    2    7    2]\n",
            " [   0    0    2   11  382   90   51]\n",
            " [   3    0    3    0   18 1277   10]\n",
            " [  41    4   40   24  135   38  270]]\n",
            "====Iteration 2  ====\n",
            "accuracy 0.765441360340085\n",
            "confusion matrix\n",
            " [[ 128    1   57   14   12   20    7]\n",
            " [   2   99   24    0   37    8    1]\n",
            " [  40   21  813    1    1    1   28]\n",
            " [   0    0    0  282    0    3    0]\n",
            " [  32   33    6    1  256  196   12]\n",
            " [  24    2    7    1   50 1214   13]\n",
            " [  76    0    9   97   16   85  269]]\n",
            "====Iteration 3  ====\n",
            "accuracy 0.45947973986993496\n",
            "confusion matrix\n",
            " [[ 41  11  68   3  26  60  30]\n",
            " [ 32  67  23   1  19  23   6]\n",
            " [ 25   7 831   3   2   5  32]\n",
            " [  0   0  11 235   5  31   3]\n",
            " [ 16  33  22   0  62 386  17]\n",
            " [754   0   4  10  51 183 309]\n",
            " [  2   0  20   6  30  75 418]]\n",
            "====Iteration 4  ====\n",
            "accuracy 0.7326163081540771\n",
            "confusion matrix\n",
            " [[ 97  19  88   5  14   2  14]\n",
            " [  1 147   1   0   0  21   1]\n",
            " [ 42  10 825   0   2   9  17]\n",
            " [  0   0   0 285   0   0   0]\n",
            " [ 43   6  23   1 404  24  35]\n",
            " [123   5  45  15  97 796 230]\n",
            " [  2   0  18   1  42 113 375]]\n",
            "====Iteration 5  ====\n",
            "accuracy 0.6935967983991996\n",
            "confusion matrix\n",
            " [[ 138    5   56    4   14   12   10]\n",
            " [   0   68   25    0   44   34    0]\n",
            " [  62   40  600    0    3  173   27]\n",
            " [  32    0   50  162    2   37    2]\n",
            " [  37    4  155    2  261   25   52]\n",
            " [   6    3    2    2   20 1264   14]\n",
            " [   7    0   62    0   76  126  280]]\n",
            "====Iteration 6  ====\n",
            "accuracy 0.6303151575787894\n",
            "confusion matrix\n",
            " [[ 120    7   72    0    4   16   19]\n",
            " [   1   64   24    0   52   25    6]\n",
            " [  45   48  504    0   65   92  151]\n",
            " [  63   35    6   48   28   74   31]\n",
            " [  82   11   60    0  229  114   40]\n",
            " [   4   30   42    4  123 1047   61]\n",
            " [   3    0    0    0   26   14  508]]\n",
            "====Iteration 7  ====\n",
            "accuracy 0.7328664332166083\n",
            "confusion matrix\n",
            " [[ 132    0    6   11    1   36   52]\n",
            " [   4  140   23    0    0    2    3]\n",
            " [  26   97  596   53   18   69   45]\n",
            " [   3    0    0  280    0    3    0]\n",
            " [  39    6   57   30  115  279   10]\n",
            " [   1   28    5    6    7 1263    1]\n",
            " [   8    0   86    0   48    5  404]]\n",
            "====Iteration 8  ====\n",
            "accuracy 0.576288144072036\n",
            "confusion matrix\n",
            " [[204   0   0   4   0   2  28]\n",
            " [ 12  76  39   0  19  13  13]\n",
            " [ 54  64 501 104  71  19  91]\n",
            " [ 18   0   0 226   2  18  22]\n",
            " [  0   5   2   1 484   6  38]\n",
            " [ 46 219 154  24 307 473  87]\n",
            " [166   0   1  10   1  34 340]]\n",
            "====Iteration 9  ====\n",
            "accuracy 0.4449724862431216\n",
            "confusion matrix\n",
            " [[ 63   0  14  30   1  96  34]\n",
            " [ 27  15  68   5  34  11  12]\n",
            " [123   0 580   0   5 116  80]\n",
            " [  9   0   0 103  13 161   0]\n",
            " [  0   0   0   1 488  16  31]\n",
            " [ 77  84 826   3 101 189  30]\n",
            " [122   0   4  12  13  60 341]]\n"
          ],
          "name": "stdout"
        }
      ]
    },
    {
      "cell_type": "markdown",
      "metadata": {
        "id": "Tw_wXYYfB424",
        "colab_type": "text"
      },
      "source": [
        "Our precision, recall and F1 scores are very high, which suggest we have a strong model, but not stronger than previously."
      ]
    },
    {
      "cell_type": "code",
      "metadata": {
        "id": "0HXOOsDJtF6n",
        "colab_type": "code",
        "colab": {}
      },
      "source": [
        "clf.fit(X1_train, y1_train)\n",
        "y_pred = clf.predict(X1_test)\n",
        "conf = mt.confusion_matrix(y1_test,y_pred)"
      ],
      "execution_count": 0,
      "outputs": []
    },
    {
      "cell_type": "code",
      "metadata": {
        "id": "yvp8Z65Vxeap",
        "colab_type": "code",
        "outputId": "aebe4610-9cc5-41c6-ee3c-08a72a4c2818",
        "colab": {
          "base_uri": "https://localhost:8080/",
          "height": 68
        }
      },
      "source": [
        "from sklearn.metrics import f1_score\n",
        "from sklearn.metrics import precision_score\n",
        "from sklearn.metrics import recall_score\n",
        "print(\"Precision Score is: {}\" .format(precision_score(y1_test,y_pred, average='weighted')))\n",
        "print(\"Recall Score is: {}\" .format(recall_score(y1_test,y_pred, average='weighted')))\n",
        "print(\"F1 Score is: {}\" .format(f1_score(y1_test,y_pred, average='weighted')))"
      ],
      "execution_count": 48,
      "outputs": [
        {
          "output_type": "stream",
          "text": [
            "Precision Score is: 0.9286648015323086\n",
            "Recall Score is: 0.9293485056896336\n",
            "F1 Score is: 0.9287287536418436\n"
          ],
          "name": "stdout"
        }
      ]
    },
    {
      "cell_type": "code",
      "metadata": {
        "id": "WsivPdWLu8p5",
        "colab_type": "code",
        "colab": {}
      },
      "source": [
        "import numpy as np\n",
        "import matplotlib.pyplot as plt\n",
        "import seaborn as sns\n",
        "from sklearn.metrics import classification_report, confusion_matrix\n",
        "# source of code: https://medium.com/@dtuk81/confusion-matrix-visualization-fc31e3f30fea\n",
        "def make_confusion_matrix(cf,\n",
        "                          group_names=None,\n",
        "                          categories='auto',\n",
        "                          count=True,\n",
        "                          percent=True,\n",
        "                          cbar=True,\n",
        "                          xyticks=True,\n",
        "                          xyplotlabels=True,\n",
        "                          sum_stats=True,\n",
        "                          figsize=None,\n",
        "                          cmap='Blues',\n",
        "                          title=None):\n",
        "    '''\n",
        "    This function will make a pretty plot of an sklearn Confusion Matrix cm using a Seaborn heatmap visualization.\n",
        "    Arguments\n",
        "    ---------\n",
        "    cf:            confusion matrix to be passed in\n",
        "    group_names:   List of strings that represent the labels row by row to be shown in each square.\n",
        "    categories:    List of strings containing the categories to be displayed on the x,y axis. Default is 'auto'\n",
        "    count:         If True, show the raw number in the confusion matrix. Default is True.\n",
        "    normalize:     If True, show the proportions for each category. Default is True.\n",
        "    cbar:          If True, show the color bar. The cbar values are based off the values in the confusion matrix.\n",
        "                   Default is True.\n",
        "    xyticks:       If True, show x and y ticks. Default is True.\n",
        "    xyplotlabels:  If True, show 'True Label' and 'Predicted Label' on the figure. Default is True.\n",
        "    sum_stats:     If True, display summary statistics below the figure. Default is True.\n",
        "    figsize:       Tuple representing the figure size. Default will be the matplotlib rcParams value.\n",
        "    cmap:          Colormap of the values displayed from matplotlib.pyplot.cm. Default is 'Blues'\n",
        "                   See http://matplotlib.org/examples/color/colormaps_reference.html\n",
        "                   \n",
        "    title:         Title for the heatmap. Default is None.\n",
        "    '''\n",
        "\n",
        "\n",
        "    # CODE TO GENERATE TEXT INSIDE EACH SQUARE\n",
        "    blanks = ['' for i in range(cf.size)]\n",
        "\n",
        "    if group_names and len(group_names)==cf.size:\n",
        "        group_labels = [\"{}\\n\".format(value) for value in group_names]\n",
        "    else:\n",
        "        group_labels = blanks\n",
        "\n",
        "    if count:\n",
        "        group_counts = [\"{0:0.0f}\\n\".format(value) for value in cf.flatten()]\n",
        "    else:\n",
        "        group_counts = blanks\n",
        "\n",
        "    if percent:\n",
        "        group_percentages = [\"{0:.2%}\".format(value) for value in cf.flatten()/np.sum(cf)]\n",
        "    else:\n",
        "        group_percentages = blanks\n",
        "\n",
        "    box_labels = [f\"{v1}{v2}{v3}\".strip() for v1, v2, v3 in zip(group_labels,group_counts,group_percentages)]\n",
        "    box_labels = np.asarray(box_labels).reshape(cf.shape[0],cf.shape[1])\n",
        "\n",
        "\n",
        "    # CODE TO GENERATE SUMMARY STATISTICS & TEXT FOR SUMMARY STATS\n",
        "    if sum_stats:\n",
        "        #Accuracy is sum of diagonal divided by total observations\n",
        "        accuracy  = np.trace(cf) / float(np.sum(cf))\n",
        "\n",
        "        #if it is a binary confusion matrix, show some more stats\n",
        "        if len(cf)==2:\n",
        "            #Metrics for Binary Confusion Matrices\n",
        "            precision = cf[1,1] / sum(cf[:,1])\n",
        "            recall    = cf[1,1] / sum(cf[1,:])\n",
        "            f1_score  = 2*precision*recall / (precision + recall)\n",
        "            stats_text = \"\\n\\nAccuracy={:0.3f}\\nPrecision={:0.3f}\\nRecall={:0.3f}\\nF1 Score={:0.3f}\".format(\n",
        "                accuracy,precision,recall,f1_score)\n",
        "        else:\n",
        "            stats_text = \"\\n\\nAccuracy={:0.3f}\".format(accuracy)\n",
        "    else:\n",
        "        stats_text = \"\"\n",
        "\n",
        "\n",
        "    # SET FIGURE PARAMETERS ACCORDING TO OTHER ARGUMENTS\n",
        "    if figsize==None:\n",
        "        #Get default figure size if not set\n",
        "        figsize = plt.rcParams.get('figure.figsize')\n",
        "\n",
        "    if xyticks==False:\n",
        "        #Do not show categories if xyticks is False\n",
        "        categories=False\n",
        "\n",
        "\n",
        "    # MAKE THE HEATMAP VISUALIZATION\n",
        "    plt.figure(figsize=figsize)\n",
        "    sns.heatmap(cf,annot=box_labels,fmt=\"\",cmap=cmap,cbar=cbar,xticklabels=categories,yticklabels=categories)\n",
        "\n",
        "    if xyplotlabels:\n",
        "        plt.ylabel('True label')\n",
        "        plt.xlabel('Predicted label' + stats_text)\n",
        "    else:\n",
        "        plt.xlabel(stats_text)\n",
        "    \n",
        "    if title:\n",
        "        plt.title(title)\n"
      ],
      "execution_count": 0,
      "outputs": []
    },
    {
      "cell_type": "code",
      "metadata": {
        "id": "8nj3gwslud7e",
        "colab_type": "code",
        "outputId": "a7d5cdb1-15cf-4833-8898-d093dd74b49a",
        "colab": {
          "base_uri": "https://localhost:8080/",
          "height": 591
        }
      },
      "source": [
        "#Import scikit-learn metrics module for accuracy calculation\n",
        "from sklearn import metrics\n",
        "# Model Accuracy, how often is the classifier correct?\n",
        "print(\"Accuracy:\",metrics.accuracy_score(y1_test,y_pred))\n",
        "matrix = confusion_matrix(y1_test,y_pred)\n",
        "make_confusion_matrix(matrix, figsize=(12,9), cbar=False)"
      ],
      "execution_count": 50,
      "outputs": [
        {
          "output_type": "stream",
          "text": [
            "Accuracy: 0.9293485056896336\n"
          ],
          "name": "stdout"
        },
        {
          "output_type": "display_data",
          "data": {
            "image/png": "[encoded data removed]",
            "text/plain": [
              "<Figure size 864x648 with 1 Axes>"
            ]
          },
          "metadata": {
            "tags": [],
            "needs_background": "light"
          }
        }
      ]
    },
    {
      "cell_type": "code",
      "metadata": {
        "id": "nKGMJD5D0ogK",
        "colab_type": "code",
        "colab": {}
      },
      "source": [
        "def per_class_accuracy(ytrue,yhat):\n",
        "    conf = mt.confusion_matrix(ytrue,yhat)\n",
        "    norm_conf = conf.astype('float') / conf.sum(axis=1)[:, np.newaxis]\n",
        "    return np.diag(norm_conf)"
      ],
      "execution_count": 0,
      "outputs": []
    },
    {
      "cell_type": "code",
      "metadata": {
        "id": "xKzHbkfsz-kF",
        "colab_type": "code",
        "outputId": "0b88d395-ee0f-4e40-97b3-ffa0843461c2",
        "colab": {
          "base_uri": "https://localhost:8080/",
          "height": 621
        }
      },
      "source": [
        "totalacc = 0\n",
        "totalprec = 0\n",
        "totalrec= 0\n",
        "totalf1  = 0\n",
        "listx = []\n",
        "perclasslist = []\n",
        "for fold, (train_index, test_index) in enumerate(cv.split(X,Y2)):\n",
        "     X_train = X[train_index]    \n",
        "     y_train = Y2[train_index]  # Based on your code, you might need a ravel call here, but I would look into how you're generating your y\n",
        "     X_test = X[test_index]\n",
        "     y_test = Y2[test_index]  # See comment on ravel and  y_train\n",
        "#     sm = SMOTE(random_state=101)\n",
        "#     X_train_oversampled, y_train_oversampled = sm.fit_sample(X_train, y_train)\n",
        "     clf.fit(X_train, y_train) \n",
        "     y_pred = clf.predict(X_test)\n",
        "     acc = mt.accuracy_score(y_test,y_pred)\n",
        "     prec = precision_score(y_test, y_pred, average='weighted')\n",
        "     rec = recall_score(y_test, y_pred, average='weighted')\n",
        "     f1 = f1_score(y_test, y_pred, average='weighted')\n",
        "     perclassaccuracy = per_class_accuracy(y_test,y_pred)\n",
        "     perclasslist.append(perclassaccuracy.tolist())\n",
        "     totalacc += acc\n",
        "     totalprec += prec\n",
        "     totalrec += rec\n",
        "     totalf1 += f1\n",
        "     conf = mt.confusion_matrix(y_test,y_pred)\n",
        "#     print(\"Sum: \", totalacc, \"Current: \", acc,\"Per Class\",perclassaccuracy,\"\\n\")\n",
        "\n",
        "\n",
        "avgaccuracy = 100*totalacc / cv.n_splits\n",
        "avgprec = 100*totalprec / cv.n_splits\n",
        "avgrec = 100*totalrec / cv.n_splits\n",
        "avgf1 = 100*totalf1 / cv.n_splits\n",
        " \n",
        "\n",
        "listx.append((\"Model 2\", \"Random Forest\", avgaccuracy, avgprec, avgrec, avgf1))\n",
        "\n",
        "perclassdf = []\n",
        "perclassdf = pd.DataFrame(perclasslist)\n",
        "#perclassdf = perclassdf.transpose()\n",
        "#perclassdf\n",
        "\n",
        "perclassavg = perclassdf.mean(axis = 0) \n",
        "#perclassavg\n",
        "\n",
        "plt.bar(range(len(perclassavg)), perclassavg)\n",
        "plt.xlabel('Class value (one per category)')\n",
        "plt.ylabel('Accuracy within class')\n",
        "#plt.title(title+\", Total Acc=%.1f\"%(totalaccuracy))\n",
        "plt.title(\"Random Forest Avg Acc=%.1f\"%(avgaccuracy))\n",
        "plt.grid()\n",
        "plt.ylim([0,1])\n",
        "plt.show()"
      ],
      "execution_count": 52,
      "outputs": [
        {
          "output_type": "display_data",
          "data": {
            "image/png": "[encoded data removed]",
            "text/plain": [
              "<Figure size 720x720 with 1 Axes>"
            ]
          },
          "metadata": {
            "tags": [],
            "needs_background": "light"
          }
        }
      ]
    },
    {
      "cell_type": "markdown",
      "metadata": {
        "id": "OQZUWbWDCeQu",
        "colab_type": "text"
      },
      "source": [
        "We cand see that accuracy by liquor class is similiar to prior predicitons."
      ]
    },
    {
      "cell_type": "code",
      "metadata": {
        "id": "mdMo4CmM0RhT",
        "colab_type": "code",
        "outputId": "8d310ab3-ec0b-4ac9-98d8-3202d886be84",
        "colab": {
          "base_uri": "https://localhost:8080/",
          "height": 119
        }
      },
      "source": [
        "listx"
      ],
      "execution_count": 53,
      "outputs": [
        {
          "output_type": "execute_result",
          "data": {
            "text/plain": [
              "[('Model 2',\n",
              "  'Random Forest',\n",
              "  65.24698708443995,\n",
              "  66.52122593943555,\n",
              "  65.24698708443995,\n",
              "  63.9843127529805)]"
            ]
          },
          "metadata": {
            "tags": []
          },
          "execution_count": 53
        }
      ]
    },
    {
      "cell_type": "code",
      "metadata": {
        "id": "6QIV6PAI1IXU",
        "colab_type": "code",
        "outputId": "19f206b0-369c-4346-cbb5-2db179e0f22e",
        "colab": {
          "base_uri": "https://localhost:8080/",
          "height": 80
        }
      },
      "source": [
        "dfobj = pd.DataFrame(listx, columns = ['Model Number', 'Model','Accuracy' , 'Precision', 'Recall', 'F1'], index=['0', '1', '2'])\n",
        "dfobj.head(1)"
      ],
      "execution_count": 54,
      "outputs": [
        {
          "output_type": "execute_result",
          "data": {
            "text/html": [
              "<div>\n",
              "<style scoped>\n",
              "    .dataframe tbody tr th:only-of-type {\n",
              "        vertical-align: middle;\n",
              "    }\n",
              "\n",
              "    .dataframe tbody tr th {\n",
              "        vertical-align: top;\n",
              "    }\n",
              "\n",
              "    .dataframe thead th {\n",
              "        text-align: right;\n",
              "    }\n",
              "</style>\n",
              "<table border=\"1\" class=\"dataframe\">\n",
              "  <thead>\n",
              "    <tr style=\"text-align: right;\">\n",
              "      <th></th>\n",
              "      <th>Model Number</th>\n",
              "      <th>Model</th>\n",
              "      <th>Accuracy</th>\n",
              "      <th>Precision</th>\n",
              "      <th>Recall</th>\n",
              "      <th>F1</th>\n",
              "    </tr>\n",
              "  </thead>\n",
              "  <tbody>\n",
              "    <tr>\n",
              "      <th>0</th>\n",
              "      <td>Model 2</td>\n",
              "      <td>Random Forest</td>\n",
              "      <td>65.246987</td>\n",
              "      <td>66.521226</td>\n",
              "      <td>65.246987</td>\n",
              "      <td>63.984313</td>\n",
              "    </tr>\n",
              "  </tbody>\n",
              "</table>\n",
              "</div>"
            ],
            "text/plain": [
              "  Model Number          Model   Accuracy  Precision     Recall         F1\n",
              "0      Model 2  Random Forest  65.246987  66.521226  65.246987  63.984313"
            ]
          },
          "metadata": {
            "tags": []
          },
          "execution_count": 54
        }
      ]
    },
    {
      "cell_type": "code",
      "metadata": {
        "id": "Oc6DnDn12lDP",
        "colab_type": "code",
        "outputId": "621dacb2-fa32-4012-e129-aba2de406221",
        "colab": {
          "base_uri": "https://localhost:8080/",
          "height": 34
        }
      },
      "source": [
        "ylist = Y['id_label'].values.astype('int64')\n",
        "ylist\n",
        "ylist.shape"
      ],
      "execution_count": 55,
      "outputs": [
        {
          "output_type": "execute_result",
          "data": {
            "text/plain": [
              "(39983,)"
            ]
          },
          "metadata": {
            "tags": []
          },
          "execution_count": 55
        }
      ]
    },
    {
      "cell_type": "code",
      "metadata": {
        "id": "GSHOtExU2iPD",
        "colab_type": "code",
        "colab": {}
      },
      "source": [
        "from sklearn.preprocessing import label_binarize\n",
        "ybinary = label_binarize(ylist, classes=[1, 2, 3, 4, 5, 6, 7])\n",
        "n_classes = ybinary.shape[1]\n",
        "X_train4, X_test4, y_train4, y_test4 = train_test_split(X,ybinary, test_size=0.2) # 70% training and 30% test"
      ],
      "execution_count": 0,
      "outputs": []
    },
    {
      "cell_type": "code",
      "metadata": {
        "id": "WBWxjsmt2yc0",
        "colab_type": "code",
        "colab": {}
      },
      "source": [
        "from sklearn.metrics import accuracy_score, confusion_matrix, roc_auc_score, auc, roc_curve"
      ],
      "execution_count": 0,
      "outputs": []
    },
    {
      "cell_type": "code",
      "metadata": {
        "id": "YAg7EtRN30eu",
        "colab_type": "code",
        "colab": {}
      },
      "source": [
        "from sklearn.ensemble import GradientBoostingClassifier,GradientBoostingRegressor,AdaBoostClassifier,RandomForestClassifier, BaggingClassifier"
      ],
      "execution_count": 0,
      "outputs": []
    },
    {
      "cell_type": "code",
      "metadata": {
        "id": "LL0X5zf53Xzf",
        "colab_type": "code",
        "colab": {}
      },
      "source": [
        "%%time\n",
        "from sklearn.multiclass import OneVsRestClassifier\n",
        "from sklearn.model_selection import cross_val_predict\n",
        "# Learn to predict each class against the other\n",
        "rfclassifiercv = OneVsRestClassifier(RandomForestClassifier(bootstrap=True, ccp_alpha=0.0, class_weight=None,\n",
        "                       criterion='gini', max_depth=20, max_features='auto',\n",
        "                       max_leaf_nodes=None, max_samples=None,\n",
        "                       min_impurity_decrease=0.0, min_impurity_split=None,\n",
        "                       min_samples_leaf=1, min_samples_split=2,\n",
        "                       min_weight_fraction_leaf=0.0, n_estimators=500,\n",
        "                       n_jobs=None, oob_score=False, random_state=101,\n",
        "                       verbose=0, warm_start=False))\n",
        "rfbinarymodel = rfclassifiercv.fit(X_train4, y_train4)\n",
        "rfbinaryscore = rfclassifiercv.predict(X_test4)\n",
        "y_score = cross_val_predict(rfclassifiercv, X, ybinary, cv=10 ,method='predict_proba')"
      ],
      "execution_count": 0,
      "outputs": []
    },
    {
      "cell_type": "code",
      "metadata": {
        "id": "8ywMeLYT2YOb",
        "colab_type": "code",
        "colab": {}
      },
      "source": [
        "#X1_train, X1_test, y1_train, y1_test\n",
        "#y_score = classifier.fit(X_train3, y_train3).decision_function(X_test3)\n",
        "# Compute ROC curve and ROC area for each class\n",
        "fpr = dict()\n",
        "tpr = dict()\n",
        "roc_auc = dict()\n",
        "for i in range(n_classes):\n",
        "    fpr[i], tpr[i], _ = roc_curve(ybinary[:, i], y_score[:, i])\n",
        "    roc_auc[i] = auc(fpr[i], tpr[i])\n",
        "\n",
        "# Compute micro-average ROC curve and ROC area\n",
        "fpr[\"micro\"], tpr[\"micro\"], _ = roc_curve(ybinary.ravel(), y_score.ravel())\n",
        "roc_auc[\"micro\"] = auc(fpr[\"micro\"], tpr[\"micro\"])\n",
        "#Plot of a ROC curve for a specific class\n",
        "\n",
        "plt.figure()\n",
        "lw = 2\n",
        "plt.plot(fpr[2], tpr[2], color='darkorange',\n",
        "         lw=lw, label='ROC curve (area = %0.2f)' % roc_auc[3])\n",
        "plt.plot([0, 1], [0, 1], color='navy', lw=lw, linestyle='--')\n",
        "plt.xlim([0.0, 1.0])\n",
        "plt.ylim([0.0, 1.05])\n",
        "plt.xlabel('False Positive Rate')\n",
        "plt.ylabel('True Positive Rate')\n",
        "plt.title('Receiver operating characteristic Whiskey')\n",
        "plt.legend(loc=\"lower right\")\n",
        "plt.show()"
      ],
      "execution_count": 0,
      "outputs": []
    },
    {
      "cell_type": "markdown",
      "metadata": {
        "id": "fWboA9ynCpL7",
        "colab_type": "text"
      },
      "source": [
        "Looking at the average value ROC curve, we can see this model has the same  area under the curve."
      ]
    },
    {
      "cell_type": "code",
      "metadata": {
        "id": "xAdf24CY1T7J",
        "colab_type": "code",
        "colab": {}
      },
      "source": [
        "roc_list =[]\n",
        "from scipy import interp\n",
        "from itertools import cycle\n",
        "# First aggregate all false positive rates\n",
        "all_fpr = np.unique(np.concatenate([fpr[i] for i in range(n_classes)]))\n",
        "\n",
        "# Then interpolate all ROC curves at this points\n",
        "mean_tpr = np.zeros_like(all_fpr)\n",
        "for i in range(n_classes):\n",
        "    mean_tpr += interp(all_fpr, fpr[i], tpr[i])\n",
        "\n",
        "# Finally average it and compute AUC\n",
        "mean_tpr /= n_classes\n",
        "\n",
        "fpr[\"macro\"] = all_fpr\n",
        "tpr[\"macro\"] = mean_tpr\n",
        "roc_auc[\"macro\"] = auc(fpr[\"macro\"], tpr[\"macro\"])\n",
        "roc_list.append((\"Model 2\", \"RF\", roc_auc[\"macro\"],fpr[\"macro\"],tpr[\"macro\"]))\n",
        "# Plot all ROC curves\n",
        "plt.figure()\n",
        "plt.plot(fpr[\"micro\"], tpr[\"micro\"],\n",
        "         label='micro-average ROC curve (area = {0:0.2f})'\n",
        "               ''.format(roc_auc[\"micro\"]),\n",
        "         color='deeppink', linestyle=':', linewidth=4)\n",
        "\n",
        "plt.plot(fpr[\"macro\"], tpr[\"macro\"],\n",
        "         label='macro-average ROC curve (area = {0:0.2f})'\n",
        "               ''.format(roc_auc[\"macro\"]),\n",
        "         color='navy', linestyle=':', linewidth=4)\n",
        "\n",
        "colors = cycle(['aqua', 'darkorange', 'cornflowerblue'])\n",
        "for i, color in zip(range(n_classes), colors):\n",
        "    plt.plot(fpr[i], tpr[i], color=color, lw=lw,\n",
        "             label='ROC curve of class {0} (area = {1:0.2f})'\n",
        "             ''.format(i, roc_auc[i]))\n",
        "\n",
        "plt.plot([0, 1], [0, 1], 'k--', lw=lw)\n",
        "plt.xlim([0.0, 1.0])\n",
        "plt.ylim([0.0, 1.05])\n",
        "plt.xlabel('False Positive Rate')\n",
        "plt.ylabel('True Positive Rate')\n",
        "plt.title('Some extension of Receiver operating characteristic to multi-class')\n",
        "plt.legend(loc=\"lower right\")\n",
        "plt.rcParams[\"figure.figsize\"] = (10,10)\n",
        "plt.show()"
      ],
      "execution_count": 0,
      "outputs": []
    },
    {
      "cell_type": "markdown",
      "metadata": {
        "id": "ncWVD-6XC2W9",
        "colab_type": "text"
      },
      "source": [
        "With an ROC curve of the classes, we can see the random forest was pretty accurate in predicting each of the classes, with a positive outcome on each curve."
      ]
    },
    {
      "cell_type": "markdown",
      "metadata": {
        "id": "jYgYF-GtC5tA",
        "colab_type": "text"
      },
      "source": [
        "All the meausres together is much the same as from lab2."
      ]
    },
    {
      "cell_type": "code",
      "metadata": {
        "id": "axw7Wny11QA0",
        "colab_type": "code",
        "colab": {}
      },
      "source": [
        "dfroc = pd.DataFrame(roc_list, columns = ['Model Number', 'Model', 'ROC', \"fpr\", \"tpr\"], index=['0', '1', '2'])\n",
        "dfroc.head(1)"
      ],
      "execution_count": 0,
      "outputs": []
    }
  ]
}