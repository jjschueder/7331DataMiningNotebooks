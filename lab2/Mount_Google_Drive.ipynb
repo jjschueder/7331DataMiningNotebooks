{
  "nbformat": 4,
  "nbformat_minor": 0,
  "metadata": {
    "colab": {
      "name": "Mount Google Drive.ipynb",
      "provenance": [],
      "collapsed_sections": [],
      "toc_visible": true,
      "mount_file_id": "1kKg1aTjMi-cezS34Fq-iD9yjaLaDdWJk",
      "authorship_tag": "ABX9TyO46NY3BQD3MZvXgcdVx+Tx",
      "include_colab_link": true
    },
    "kernelspec": {
      "name": "python3",
      "display_name": "Python 3"
    }
  },
  "cells": [
    {
      "cell_type": "markdown",
      "metadata": {
        "id": "view-in-github",
        "colab_type": "text"
      },
      "source": [
        "<a href=\"https://colab.research.google.com/github/jjschueder/7331DataMiningNotebooks/blob/master/lab2/Mount_Google_Drive.ipynb\" target=\"_parent\"><img src=\"https://colab.research.google.com/assets/colab-badge.svg\" alt=\"Open In Colab\"/></a>"
      ]
    },
    {
      "cell_type": "code",
      "metadata": {
        "id": "EsBZr2nAecV5",
        "colab_type": "code",
        "outputId": "d9bdc5ee-145f-45b0-918a-7063cc9f106d",
        "colab": {
          "base_uri": "https://localhost:8080/",
          "height": 34
        }
      },
      "source": [
        "from google.colab import drive\n",
        "drive.mount('/content/drive/')\n",
        "#My Drive/ColabNotebooks/')"
      ],
      "execution_count": 50,
      "outputs": [
        {
          "output_type": "stream",
          "text": [
            "Drive already mounted at /content/drive/; to attempt to forcibly remount, call drive.mount(\"/content/drive/\", force_remount=True).\n"
          ],
          "name": "stdout"
        }
      ]
    },
    {
      "cell_type": "code",
      "metadata": {
        "id": "Ep69t1d2nSeG",
        "colab_type": "code",
        "colab": {}
      },
      "source": [
        "#!ls \"/content/drive/My Drive\""
      ],
      "execution_count": 0,
      "outputs": []
    },
    {
      "cell_type": "code",
      "metadata": {
        "id": "vj7mVTnWndDT",
        "colab_type": "code",
        "outputId": "6c2c9a54-9bce-4279-903c-35b81b65f11e",
        "colab": {
          "base_uri": "https://localhost:8080/",
          "height": 319
        }
      },
      "source": [
        "!ls \"/content/drive/My Drive/ColabNotebooks/\""
      ],
      "execution_count": 52,
      "outputs": [
        {
          "output_type": "stream",
          "text": [
            "'Copy of Copy of Copy of LAB01-DataMining-Joe Copy.ipynb'\n",
            "'Copy of Copy of Lab2_Allen_V7.ipynb'\n",
            "'Copy of Copy of Lab2_DC (1).ipynb'\n",
            "'Copy of Copy of Lab2_DC (2).ipynb'\n",
            "'Copy of Copy of Lab2_DC.ipynb'\n",
            "'Copy of Joes version on sunday twelvethirty.ipynb'\n",
            "'Copy of Lab2_Allen_V7 (1).ipynb'\n",
            "'Copy of Lab2_Allen_V7.ipynb'\n",
            "'Copy of Lab2_DC.ipynb'\n",
            " df1hotmerge2.csv\n",
            "'Joe project 1.ipynb'\n",
            "'Joes version on sunday twelvethirty.ipynb'\n",
            "'LAB01-DataMining-Joe Copy.ipynb'\n",
            " liquorcats.csv\n",
            " rfmodel.joblib\n",
            " Untitled0.ipynb\n",
            " Untitled1.ipynb\n",
            " Untitled2.ipynb\n"
          ],
          "name": "stdout"
        }
      ]
    },
    {
      "cell_type": "code",
      "metadata": {
        "id": "ueDPg_x_p4lS",
        "colab_type": "code",
        "colab": {}
      },
      "source": [
        "#getting data from github\n",
        "#import pandas as pd\n",
        "#url_dataset = 'https://raw.githubusercontent.com/jjschueder/7331DataMiningNotebooks/master/Live%20Assignments/df1hotmerge2.csv'\n",
        "#data = pd.read_csv(url_dataset, nrows = 40000)\n",
        "#data.info()"
      ],
      "execution_count": 0,
      "outputs": []
    },
    {
      "cell_type": "code",
      "metadata": {
        "id": "n4A-nart9nWw",
        "colab_type": "code",
        "colab": {}
      },
      "source": [
        "#output data to google drive\n",
        "#url_dataset2 = '/content/drive/My Drive/ColabNotebooks/df1hotmerge2.csv'\n",
        "#data.to_csv(url_dataset2)"
      ],
      "execution_count": 0,
      "outputs": []
    },
    {
      "cell_type": "code",
      "metadata": {
        "id": "tXcShehe9xbv",
        "colab_type": "code",
        "colab": {
          "base_uri": "https://localhost:8080/",
          "height": 1000
        },
        "outputId": "7621c563-a97b-4f92-ab68-ec9c57116731"
      },
      "source": [
        "#import data from google drive\n",
        "url_dataset =  '/content/drive/My Drive/ColabNotebooks/df1hotmerge2.csv'\n",
        "data = pd.read_csv(url_dataset, nrows = 40000)\n",
        "data.info()"
      ],
      "execution_count": 72,
      "outputs": [
        {
          "output_type": "stream",
          "text": [
            "<class 'pandas.core.frame.DataFrame'>\n",
            "RangeIndex: 40000 entries, 0 to 39999\n",
            "Data columns (total 69 columns):\n",
            "Unnamed: 0                  40000 non-null int64\n",
            "Unnamed: 0.1                40000 non-null int64\n",
            "pack                        40000 non-null int64\n",
            "bottle_volume_ml            40000 non-null int64\n",
            "state_bottle_cost           40000 non-null float64\n",
            "state_bottle_retail         40000 non-null float64\n",
            "bottles_sold                40000 non-null int64\n",
            "sale_dollars                40000 non-null float64\n",
            "volume_sold_liters          40000 non-null float64\n",
            "volume_sold_gallons         40000 non-null float64\n",
            "counter                     40000 non-null int64\n",
            "liquor_category             40000 non-null object\n",
            "store_parent                40000 non-null object\n",
            "month                       40000 non-null object\n",
            "year                        40000 non-null int64\n",
            "monthyear                   40000 non-null object\n",
            "liquor_category_AMARETTO    40000 non-null int64\n",
            "liquor_category_BRANDY      40000 non-null int64\n",
            "liquor_category_GIN         40000 non-null int64\n",
            "liquor_category_LIQUEUR     40000 non-null int64\n",
            "liquor_category_Other       40000 non-null int64\n",
            "liquor_category_RUM         40000 non-null int64\n",
            "liquor_category_SCHNAPPS    40000 non-null int64\n",
            "liquor_category_TEQUILA     40000 non-null int64\n",
            "liquor_category_VODKA       40000 non-null int64\n",
            "liquor_category_WHISKY      40000 non-null int64\n",
            "store_parent_CVS            40000 non-null int64\n",
            "store_parent_Caseys         40000 non-null int64\n",
            "store_parent_Hy-Vee         40000 non-null int64\n",
            "store_parent_Kum&Go         40000 non-null int64\n",
            "store_parent_Other          40000 non-null int64\n",
            "store_parent_QuikTrip       40000 non-null int64\n",
            "store_parent_SamsClub       40000 non-null int64\n",
            "store_parent_SmokingJoes    40000 non-null int64\n",
            "store_parent_Target         40000 non-null int64\n",
            "store_parent_Wal-Mart       40000 non-null int64\n",
            "store_parent_Walgreens      40000 non-null int64\n",
            "month_Apr                   40000 non-null int64\n",
            "month_Aug                   40000 non-null int64\n",
            "month_Dec                   40000 non-null int64\n",
            "month_Feb                   40000 non-null int64\n",
            "month_Jan                   40000 non-null int64\n",
            "month_Jul                   40000 non-null int64\n",
            "month_Jun                   40000 non-null int64\n",
            "month_Mar                   40000 non-null int64\n",
            "month_May                   40000 non-null int64\n",
            "month_Nov                   40000 non-null int64\n",
            "month_Oct                   40000 non-null int64\n",
            "month_Sep                   40000 non-null int64\n",
            "year_2019                   40000 non-null int64\n",
            "monthyear_Apr-2019          40000 non-null int64\n",
            "monthyear_Aug-2019          40000 non-null int64\n",
            "monthyear_Dec-2019          40000 non-null int64\n",
            "monthyear_Feb-2019          40000 non-null int64\n",
            "monthyear_Jan-2019          40000 non-null int64\n",
            "monthyear_Jul-2019          40000 non-null int64\n",
            "monthyear_Jun-2019          40000 non-null int64\n",
            "monthyear_Mar-2019          40000 non-null int64\n",
            "monthyear_May-2019          40000 non-null int64\n",
            "monthyear_Nov-2019          40000 non-null int64\n",
            "monthyear_Oct-2019          40000 non-null int64\n",
            "monthyear_Sep-2019          40000 non-null int64\n",
            "sale_dollars_trans          40000 non-null float64\n",
            "cost_per_liter              40000 non-null float64\n",
            "cost_per_liter_trans        40000 non-null float64\n",
            "state_bottle_cost_trans     40000 non-null float64\n",
            "bottles_sold_trans          40000 non-null float64\n",
            "volume_sold_liters_trans    40000 non-null float64\n",
            "grossmargin                 40000 non-null float64\n",
            "dtypes: float64(12), int64(53), object(4)\n",
            "memory usage: 21.1+ MB\n"
          ],
          "name": "stdout"
        }
      ]
    },
    {
      "cell_type": "code",
      "metadata": {
        "id": "rZi2Wpd1rrF9",
        "colab_type": "code",
        "colab": {
          "base_uri": "https://localhost:8080/",
          "height": 249
        },
        "outputId": "73f197fd-cf70-4cba-a22c-348efe6f1f90"
      },
      "source": [
        "# Import all necessary libraries we will be using in our dataset\n",
        "\n",
        "import pandas as pd\n",
        "import numpy as np\n",
        "import matplotlib\n",
        "import matplotlib.pyplot as plt\n",
        "import seaborn as sns\n",
        "import math\n",
        "import re\n",
        "import sklearn\n",
        "import statistics\n",
        "import random\n",
        "\n",
        "from sklearn.feature_selection import SelectKBest, chi2, SelectPercentile, RFE, SelectFromModel\n",
        "\n",
        "from sklearn.preprocessing import StandardScaler, Binarizer\n",
        "\n",
        "from sklearn.linear_model import LogisticRegression, SGDClassifier\n",
        "from sklearn.svm import SVC, LinearSVC\n",
        "\n",
        "from sklearn.metrics import accuracy_score, confusion_matrix, roc_auc_score, auc, roc_curve\n",
        "from IPython.display import display, HTML\n",
        "\n",
        "from sklearn.pipeline import make_pipeline, Pipeline\n",
        "from sklearn.model_selection import train_test_split, GridSearchCV, KFold, TimeSeriesSplit, StratifiedShuffleSplit\n",
        "\n",
        "from sklearn.naive_bayes import MultinomialNB\n",
        "\n",
        "from sklearn.ensemble import GradientBoostingClassifier,GradientBoostingRegressor,AdaBoostClassifier,RandomForestClassifier, BaggingClassifier\n",
        "from sklearn.tree import DecisionTreeClassifier\n",
        "from sklearn.linear_model import LogisticRegression\n",
        "from sklearn.neighbors import KNeighborsClassifier\n",
        "\n",
        "%matplotlib inline\n",
        "\n",
        "matplotlib.style.use('ggplot')\n",
        "\n",
        "import warnings\n",
        "warnings.filterwarnings('ignore')\n",
        "print(data.shape)\n",
        "data.head()"
      ],
      "execution_count": 54,
      "outputs": [
        {
          "output_type": "stream",
          "text": [
            "(40000, 68)\n"
          ],
          "name": "stdout"
        },
        {
          "output_type": "execute_result",
          "data": {
            "text/html": [
              "<div>\n",
              "<style scoped>\n",
              "    .dataframe tbody tr th:only-of-type {\n",
              "        vertical-align: middle;\n",
              "    }\n",
              "\n",
              "    .dataframe tbody tr th {\n",
              "        vertical-align: top;\n",
              "    }\n",
              "\n",
              "    .dataframe thead th {\n",
              "        text-align: right;\n",
              "    }\n",
              "</style>\n",
              "<table border=\"1\" class=\"dataframe\">\n",
              "  <thead>\n",
              "    <tr style=\"text-align: right;\">\n",
              "      <th></th>\n",
              "      <th>Unnamed: 0</th>\n",
              "      <th>pack</th>\n",
              "      <th>bottle_volume_ml</th>\n",
              "      <th>state_bottle_cost</th>\n",
              "      <th>state_bottle_retail</th>\n",
              "      <th>bottles_sold</th>\n",
              "      <th>sale_dollars</th>\n",
              "      <th>volume_sold_liters</th>\n",
              "      <th>volume_sold_gallons</th>\n",
              "      <th>counter</th>\n",
              "      <th>liquor_category</th>\n",
              "      <th>store_parent</th>\n",
              "      <th>month</th>\n",
              "      <th>year</th>\n",
              "      <th>monthyear</th>\n",
              "      <th>liquor_category_AMARETTO</th>\n",
              "      <th>liquor_category_BRANDY</th>\n",
              "      <th>liquor_category_GIN</th>\n",
              "      <th>liquor_category_LIQUEUR</th>\n",
              "      <th>liquor_category_Other</th>\n",
              "      <th>liquor_category_RUM</th>\n",
              "      <th>liquor_category_SCHNAPPS</th>\n",
              "      <th>liquor_category_TEQUILA</th>\n",
              "      <th>liquor_category_VODKA</th>\n",
              "      <th>liquor_category_WHISKY</th>\n",
              "      <th>store_parent_CVS</th>\n",
              "      <th>store_parent_Caseys</th>\n",
              "      <th>store_parent_Hy-Vee</th>\n",
              "      <th>store_parent_Kum&amp;Go</th>\n",
              "      <th>store_parent_Other</th>\n",
              "      <th>store_parent_QuikTrip</th>\n",
              "      <th>store_parent_SamsClub</th>\n",
              "      <th>store_parent_SmokingJoes</th>\n",
              "      <th>store_parent_Target</th>\n",
              "      <th>store_parent_Wal-Mart</th>\n",
              "      <th>store_parent_Walgreens</th>\n",
              "      <th>month_Apr</th>\n",
              "      <th>month_Aug</th>\n",
              "      <th>month_Dec</th>\n",
              "      <th>month_Feb</th>\n",
              "      <th>month_Jan</th>\n",
              "      <th>month_Jul</th>\n",
              "      <th>month_Jun</th>\n",
              "      <th>month_Mar</th>\n",
              "      <th>month_May</th>\n",
              "      <th>month_Nov</th>\n",
              "      <th>month_Oct</th>\n",
              "      <th>month_Sep</th>\n",
              "      <th>year_2019</th>\n",
              "      <th>monthyear_Apr-2019</th>\n",
              "      <th>monthyear_Aug-2019</th>\n",
              "      <th>monthyear_Dec-2019</th>\n",
              "      <th>monthyear_Feb-2019</th>\n",
              "      <th>monthyear_Jan-2019</th>\n",
              "      <th>monthyear_Jul-2019</th>\n",
              "      <th>monthyear_Jun-2019</th>\n",
              "      <th>monthyear_Mar-2019</th>\n",
              "      <th>monthyear_May-2019</th>\n",
              "      <th>monthyear_Nov-2019</th>\n",
              "      <th>monthyear_Oct-2019</th>\n",
              "      <th>monthyear_Sep-2019</th>\n",
              "      <th>sale_dollars_trans</th>\n",
              "      <th>cost_per_liter</th>\n",
              "      <th>cost_per_liter_trans</th>\n",
              "      <th>state_bottle_cost_trans</th>\n",
              "      <th>bottles_sold_trans</th>\n",
              "      <th>volume_sold_liters_trans</th>\n",
              "      <th>grossmargin</th>\n",
              "    </tr>\n",
              "  </thead>\n",
              "  <tbody>\n",
              "    <tr>\n",
              "      <th>0</th>\n",
              "      <td>0</td>\n",
              "      <td>20</td>\n",
              "      <td>375</td>\n",
              "      <td>3.85</td>\n",
              "      <td>5.78</td>\n",
              "      <td>20</td>\n",
              "      <td>115.60</td>\n",
              "      <td>7.50</td>\n",
              "      <td>1.98</td>\n",
              "      <td>1</td>\n",
              "      <td>Other</td>\n",
              "      <td>Other</td>\n",
              "      <td>Nov</td>\n",
              "      <td>2019</td>\n",
              "      <td>Nov-19</td>\n",
              "      <td>0</td>\n",
              "      <td>0</td>\n",
              "      <td>0</td>\n",
              "      <td>0</td>\n",
              "      <td>1</td>\n",
              "      <td>0</td>\n",
              "      <td>0</td>\n",
              "      <td>0</td>\n",
              "      <td>0</td>\n",
              "      <td>0</td>\n",
              "      <td>0</td>\n",
              "      <td>0</td>\n",
              "      <td>0</td>\n",
              "      <td>0</td>\n",
              "      <td>1</td>\n",
              "      <td>0</td>\n",
              "      <td>0</td>\n",
              "      <td>0</td>\n",
              "      <td>0</td>\n",
              "      <td>0</td>\n",
              "      <td>0</td>\n",
              "      <td>0</td>\n",
              "      <td>0</td>\n",
              "      <td>0</td>\n",
              "      <td>0</td>\n",
              "      <td>0</td>\n",
              "      <td>0</td>\n",
              "      <td>0</td>\n",
              "      <td>0</td>\n",
              "      <td>0</td>\n",
              "      <td>1</td>\n",
              "      <td>0</td>\n",
              "      <td>0</td>\n",
              "      <td>1</td>\n",
              "      <td>0</td>\n",
              "      <td>0</td>\n",
              "      <td>0</td>\n",
              "      <td>0</td>\n",
              "      <td>0</td>\n",
              "      <td>0</td>\n",
              "      <td>0</td>\n",
              "      <td>0</td>\n",
              "      <td>0</td>\n",
              "      <td>1</td>\n",
              "      <td>0</td>\n",
              "      <td>0</td>\n",
              "      <td>4.750136</td>\n",
              "      <td>15.413333</td>\n",
              "      <td>2.735233</td>\n",
              "      <td>1.348073</td>\n",
              "      <td>2.995732</td>\n",
              "      <td>2.014903</td>\n",
              "      <td>0.333910</td>\n",
              "    </tr>\n",
              "    <tr>\n",
              "      <th>1</th>\n",
              "      <td>1</td>\n",
              "      <td>8</td>\n",
              "      <td>50</td>\n",
              "      <td>8.75</td>\n",
              "      <td>13.13</td>\n",
              "      <td>1</td>\n",
              "      <td>13.13</td>\n",
              "      <td>0.05</td>\n",
              "      <td>0.01</td>\n",
              "      <td>1</td>\n",
              "      <td>Other</td>\n",
              "      <td>Other</td>\n",
              "      <td>Nov</td>\n",
              "      <td>2019</td>\n",
              "      <td>Nov-19</td>\n",
              "      <td>0</td>\n",
              "      <td>0</td>\n",
              "      <td>0</td>\n",
              "      <td>0</td>\n",
              "      <td>1</td>\n",
              "      <td>0</td>\n",
              "      <td>0</td>\n",
              "      <td>0</td>\n",
              "      <td>0</td>\n",
              "      <td>0</td>\n",
              "      <td>0</td>\n",
              "      <td>0</td>\n",
              "      <td>0</td>\n",
              "      <td>0</td>\n",
              "      <td>1</td>\n",
              "      <td>0</td>\n",
              "      <td>0</td>\n",
              "      <td>0</td>\n",
              "      <td>0</td>\n",
              "      <td>0</td>\n",
              "      <td>0</td>\n",
              "      <td>0</td>\n",
              "      <td>0</td>\n",
              "      <td>0</td>\n",
              "      <td>0</td>\n",
              "      <td>0</td>\n",
              "      <td>0</td>\n",
              "      <td>0</td>\n",
              "      <td>0</td>\n",
              "      <td>0</td>\n",
              "      <td>1</td>\n",
              "      <td>0</td>\n",
              "      <td>0</td>\n",
              "      <td>1</td>\n",
              "      <td>0</td>\n",
              "      <td>0</td>\n",
              "      <td>0</td>\n",
              "      <td>0</td>\n",
              "      <td>0</td>\n",
              "      <td>0</td>\n",
              "      <td>0</td>\n",
              "      <td>0</td>\n",
              "      <td>0</td>\n",
              "      <td>1</td>\n",
              "      <td>0</td>\n",
              "      <td>0</td>\n",
              "      <td>2.574900</td>\n",
              "      <td>262.600000</td>\n",
              "      <td>5.570632</td>\n",
              "      <td>2.169054</td>\n",
              "      <td>0.000000</td>\n",
              "      <td>-2.995732</td>\n",
              "      <td>0.333587</td>\n",
              "    </tr>\n",
              "    <tr>\n",
              "      <th>2</th>\n",
              "      <td>2</td>\n",
              "      <td>12</td>\n",
              "      <td>1000</td>\n",
              "      <td>16.50</td>\n",
              "      <td>24.75</td>\n",
              "      <td>6</td>\n",
              "      <td>148.50</td>\n",
              "      <td>6.00</td>\n",
              "      <td>1.58</td>\n",
              "      <td>1</td>\n",
              "      <td>GIN</td>\n",
              "      <td>Hy-Vee</td>\n",
              "      <td>May</td>\n",
              "      <td>2019</td>\n",
              "      <td>May-19</td>\n",
              "      <td>0</td>\n",
              "      <td>0</td>\n",
              "      <td>1</td>\n",
              "      <td>0</td>\n",
              "      <td>0</td>\n",
              "      <td>0</td>\n",
              "      <td>0</td>\n",
              "      <td>0</td>\n",
              "      <td>0</td>\n",
              "      <td>0</td>\n",
              "      <td>0</td>\n",
              "      <td>0</td>\n",
              "      <td>1</td>\n",
              "      <td>0</td>\n",
              "      <td>0</td>\n",
              "      <td>0</td>\n",
              "      <td>0</td>\n",
              "      <td>0</td>\n",
              "      <td>0</td>\n",
              "      <td>0</td>\n",
              "      <td>0</td>\n",
              "      <td>0</td>\n",
              "      <td>0</td>\n",
              "      <td>0</td>\n",
              "      <td>0</td>\n",
              "      <td>0</td>\n",
              "      <td>0</td>\n",
              "      <td>0</td>\n",
              "      <td>0</td>\n",
              "      <td>1</td>\n",
              "      <td>0</td>\n",
              "      <td>0</td>\n",
              "      <td>0</td>\n",
              "      <td>1</td>\n",
              "      <td>0</td>\n",
              "      <td>0</td>\n",
              "      <td>0</td>\n",
              "      <td>0</td>\n",
              "      <td>0</td>\n",
              "      <td>0</td>\n",
              "      <td>0</td>\n",
              "      <td>0</td>\n",
              "      <td>1</td>\n",
              "      <td>0</td>\n",
              "      <td>0</td>\n",
              "      <td>0</td>\n",
              "      <td>5.000585</td>\n",
              "      <td>24.750000</td>\n",
              "      <td>3.208825</td>\n",
              "      <td>2.803360</td>\n",
              "      <td>1.791759</td>\n",
              "      <td>1.791759</td>\n",
              "      <td>0.333333</td>\n",
              "    </tr>\n",
              "    <tr>\n",
              "      <th>3</th>\n",
              "      <td>3</td>\n",
              "      <td>6</td>\n",
              "      <td>750</td>\n",
              "      <td>21.17</td>\n",
              "      <td>31.76</td>\n",
              "      <td>24</td>\n",
              "      <td>762.24</td>\n",
              "      <td>18.00</td>\n",
              "      <td>4.75</td>\n",
              "      <td>1</td>\n",
              "      <td>WHISKY</td>\n",
              "      <td>Hy-Vee</td>\n",
              "      <td>Nov</td>\n",
              "      <td>2019</td>\n",
              "      <td>Nov-19</td>\n",
              "      <td>0</td>\n",
              "      <td>0</td>\n",
              "      <td>0</td>\n",
              "      <td>0</td>\n",
              "      <td>0</td>\n",
              "      <td>0</td>\n",
              "      <td>0</td>\n",
              "      <td>0</td>\n",
              "      <td>0</td>\n",
              "      <td>1</td>\n",
              "      <td>0</td>\n",
              "      <td>0</td>\n",
              "      <td>1</td>\n",
              "      <td>0</td>\n",
              "      <td>0</td>\n",
              "      <td>0</td>\n",
              "      <td>0</td>\n",
              "      <td>0</td>\n",
              "      <td>0</td>\n",
              "      <td>0</td>\n",
              "      <td>0</td>\n",
              "      <td>0</td>\n",
              "      <td>0</td>\n",
              "      <td>0</td>\n",
              "      <td>0</td>\n",
              "      <td>0</td>\n",
              "      <td>0</td>\n",
              "      <td>0</td>\n",
              "      <td>0</td>\n",
              "      <td>0</td>\n",
              "      <td>1</td>\n",
              "      <td>0</td>\n",
              "      <td>0</td>\n",
              "      <td>1</td>\n",
              "      <td>0</td>\n",
              "      <td>0</td>\n",
              "      <td>0</td>\n",
              "      <td>0</td>\n",
              "      <td>0</td>\n",
              "      <td>0</td>\n",
              "      <td>0</td>\n",
              "      <td>0</td>\n",
              "      <td>0</td>\n",
              "      <td>1</td>\n",
              "      <td>0</td>\n",
              "      <td>0</td>\n",
              "      <td>6.636261</td>\n",
              "      <td>42.346667</td>\n",
              "      <td>3.745890</td>\n",
              "      <td>3.052585</td>\n",
              "      <td>3.178054</td>\n",
              "      <td>2.890372</td>\n",
              "      <td>0.333438</td>\n",
              "    </tr>\n",
              "    <tr>\n",
              "      <th>4</th>\n",
              "      <td>4</td>\n",
              "      <td>6</td>\n",
              "      <td>1750</td>\n",
              "      <td>9.31</td>\n",
              "      <td>13.97</td>\n",
              "      <td>12</td>\n",
              "      <td>167.64</td>\n",
              "      <td>21.00</td>\n",
              "      <td>5.54</td>\n",
              "      <td>1</td>\n",
              "      <td>Other</td>\n",
              "      <td>Hy-Vee</td>\n",
              "      <td>Nov</td>\n",
              "      <td>2019</td>\n",
              "      <td>Nov-19</td>\n",
              "      <td>0</td>\n",
              "      <td>0</td>\n",
              "      <td>0</td>\n",
              "      <td>0</td>\n",
              "      <td>1</td>\n",
              "      <td>0</td>\n",
              "      <td>0</td>\n",
              "      <td>0</td>\n",
              "      <td>0</td>\n",
              "      <td>0</td>\n",
              "      <td>0</td>\n",
              "      <td>0</td>\n",
              "      <td>1</td>\n",
              "      <td>0</td>\n",
              "      <td>0</td>\n",
              "      <td>0</td>\n",
              "      <td>0</td>\n",
              "      <td>0</td>\n",
              "      <td>0</td>\n",
              "      <td>0</td>\n",
              "      <td>0</td>\n",
              "      <td>0</td>\n",
              "      <td>0</td>\n",
              "      <td>0</td>\n",
              "      <td>0</td>\n",
              "      <td>0</td>\n",
              "      <td>0</td>\n",
              "      <td>0</td>\n",
              "      <td>0</td>\n",
              "      <td>0</td>\n",
              "      <td>1</td>\n",
              "      <td>0</td>\n",
              "      <td>0</td>\n",
              "      <td>1</td>\n",
              "      <td>0</td>\n",
              "      <td>0</td>\n",
              "      <td>0</td>\n",
              "      <td>0</td>\n",
              "      <td>0</td>\n",
              "      <td>0</td>\n",
              "      <td>0</td>\n",
              "      <td>0</td>\n",
              "      <td>0</td>\n",
              "      <td>1</td>\n",
              "      <td>0</td>\n",
              "      <td>0</td>\n",
              "      <td>5.121819</td>\n",
              "      <td>7.982857</td>\n",
              "      <td>2.077296</td>\n",
              "      <td>2.231089</td>\n",
              "      <td>2.484907</td>\n",
              "      <td>3.044522</td>\n",
              "      <td>0.333572</td>\n",
              "    </tr>\n",
              "  </tbody>\n",
              "</table>\n",
              "</div>"
            ],
            "text/plain": [
              "   Unnamed: 0  pack  ...  volume_sold_liters_trans  grossmargin\n",
              "0           0    20  ...                  2.014903     0.333910\n",
              "1           1     8  ...                 -2.995732     0.333587\n",
              "2           2    12  ...                  1.791759     0.333333\n",
              "3           3     6  ...                  2.890372     0.333438\n",
              "4           4     6  ...                  3.044522     0.333572\n",
              "\n",
              "[5 rows x 68 columns]"
            ]
          },
          "metadata": {
            "tags": []
          },
          "execution_count": 54
        }
      ]
    },
    {
      "cell_type": "code",
      "metadata": {
        "id": "-j-_a_dnrfRj",
        "colab_type": "code",
        "colab": {
          "base_uri": "https://localhost:8080/",
          "height": 185
        },
        "outputId": "23732c65-fe7d-473c-8d9b-64e6f31d7741"
      },
      "source": [
        "# Since we are predicting our liquor category type (opening to the entire list of categories and not just one), we can assign them a numerical value.\n",
        "\n",
        "print (data['liquor_category'].unique())\n",
        "\n",
        "\"\"\"df = pd.DataFrame({'col_1':[133,255,36,477,55,63]})\n",
        "d = {'1':'M', '2': 'C', '3':'a', '4':'f', '5':'r', '6':'s'}\n",
        "def ifef(col):\n",
        "    col = str(col)\n",
        "    return d[col[0]]\n",
        "\n",
        "df['id_label'] = df['col_1'].apply(ifef)\n",
        "print(df)\"\"\"\n",
        "\n",
        "d = {'O':'1', 'G': '2', 'W':'3', 'T':'4', 'L':'5', 'V':'6', 'R':'7', 'S': '8', 'A':'9', 'B':'10'}\n",
        "\n",
        "#data['id_label'] = data['liquor_category'].apply(ifef)\n",
        "\n",
        "data['id_label'] = data['liquor_category'].astype(str).str[0].map(d)\n",
        "\n",
        "print(data.head())"
      ],
      "execution_count": 56,
      "outputs": [
        {
          "output_type": "stream",
          "text": [
            "['Other' 'GIN' 'WHISKY' 'TEQUILA' 'LIQUEUR' 'VODKA' 'RUM' 'SCHNAPPS'\n",
            " 'AMARETTO' 'BRANDY']\n",
            "   Unnamed: 0  pack  ...  grossmargin  id_label\n",
            "0           0    20  ...     0.333910         1\n",
            "1           1     8  ...     0.333587         1\n",
            "2           2    12  ...     0.333333         2\n",
            "3           3     6  ...     0.333438         3\n",
            "4           4     6  ...     0.333572         1\n",
            "\n",
            "[5 rows x 69 columns]\n"
          ],
          "name": "stdout"
        }
      ]
    },
    {
      "cell_type": "code",
      "metadata": {
        "id": "m7mwjnrCrKXw",
        "colab_type": "code",
        "colab": {}
      },
      "source": [
        "# Create new variables using aggredate data on profit, total cost and revenue\n",
        "\n",
        "#do some calculations for cost and profit\n",
        "data['profit'] = data['state_bottle_retail']*data['bottles_sold'] - data['state_bottle_cost']* data['bottles_sold']\n",
        "data['profit_trans']= np.log(data['profit'])\n",
        "\n",
        "data['totalcost'] = data['state_bottle_cost']* data['bottles_sold']\n",
        "data['totalcost_trans']= np.log(data['totalcost'])\n",
        "\n",
        "data['revenue'] = data['state_bottle_retail']*data['bottles_sold']\n",
        "data['revenue_trans']= np.log(data['revenue'])\n",
        "\n",
        "data['bottle_volume_ml_trans']= np.log(data['bottle_volume_ml'])\n",
        "\n",
        "data['pack_trans']= np.log(data['pack'])"
      ],
      "execution_count": 0,
      "outputs": []
    },
    {
      "cell_type": "code",
      "metadata": {
        "id": "zXe8CX8GrCGw",
        "colab_type": "code",
        "colab": {
          "base_uri": "https://localhost:8080/",
          "height": 881
        },
        "outputId": "83e08309-6445-4b73-d4a4-067ec99a3853"
      },
      "source": [
        "# Since we transformed a number of continuous variables, we can drop them so that we are working directly on our normalized data\n",
        "\n",
        "\n",
        "# Remove unwanted columns, which include all the specific liquor categories, \n",
        "# except for liquor_category_WHISKY since that is what we want to classify on, along\n",
        "# with all the store_ attributes\n",
        "\"\"\"\n",
        "cat_vars=['counter', 'liquor_category', 'store_parent',\n",
        " 'month', 'year', 'monthyear', 'liquor_category_AMARETTO', 'liquor_category_BRANDY', 'liquor_category_GIN', \n",
        " 'liquor_category_LIQUEUR', 'liquor_category_Other', 'liquor_category_RUM', 'liquor_category_SCHNAPPS', \n",
        " 'liquor_category_TEQUILA', 'liquor_category_VODKA', 'month_Apr', 'month_Aug', 'month_Dec', 'month_Feb',\n",
        " 'month_Jan', 'month_Jul', 'month_Jun', 'month_Mar', 'month_May', 'month_Nov', 'month_Oct', 'month_Sep', \n",
        " 'store_parent_CVS', 'store_parent_Caseys', 'store_parent_Hy-Vee', 'store_parent_Kum&Go', \n",
        " 'store_parent_Other', 'store_parent_QuikTrip', 'store_parent_SamsClub', 'store_parent_SmokingJoes', \n",
        " 'store_parent_Target', 'store_parent_Wal-Mart', 'store_parent_Walgreens']\n",
        "data_vars=data.columns.values.tolist()\n",
        "to_keep=[i for i in data_vars if i not in cat_vars]\n",
        "\"\"\"\n",
        "#keep our transformed detail, along with the timing and store name detail\n",
        "\n",
        "to_keep=['sale_dollars_trans', 'cost_per_liter_trans',\n",
        "      'state_bottle_cost_trans', 'bottles_sold_trans',\n",
        "       'volume_sold_liters_trans','pack_trans', 'bottle_volume_ml_trans', \n",
        "       'profit_trans', 'totalcost_trans', 'revenue_trans', 'id_label']\n",
        "data_final=data[to_keep]\n",
        "data_final.columns.values\n",
        "\n",
        "#boxplot of all the variables\n",
        "plt.figure(figsize=(15, 15))\n",
        "ax = data_final.boxplot()\n",
        "#ax.set_yscale('log')\n",
        "\n",
        "print(data_final.shape)"
      ],
      "execution_count": 58,
      "outputs": [
        {
          "output_type": "stream",
          "text": [
            "(40000, 11)\n"
          ],
          "name": "stdout"
        },
        {
          "output_type": "display_data",
          "data": {
            "image/png": "[encoded data removed]",
            "text/plain": [
              "<Figure size 1080x1080 with 1 Axes>"
            ]
          },
          "metadata": {
            "tags": []
          }
        }
      ]
    },
    {
      "cell_type": "code",
      "metadata": {
        "id": "5pkAujw2qzkQ",
        "colab_type": "code",
        "colab": {
          "base_uri": "https://localhost:8080/",
          "height": 50
        },
        "outputId": "81375bf8-604c-40f0-f8aa-6b4c9021f25f"
      },
      "source": [
        "%%time\n",
        "from sklearn.neighbors import KNeighborsClassifier\n",
        "from sklearn.model_selection import StratifiedKFold\n",
        "from sklearn.preprocessing import StandardScaler\n",
        "import numpy as np\n",
        "from sklearn import metrics as mt\n",
        "\n",
        "cv = StratifiedKFold(n_splits=10)\n",
        "\n",
        "features = ['sale_dollars_trans', 'cost_per_liter_trans', \n",
        "       'state_bottle_cost_trans', 'bottles_sold_trans',\n",
        "       'volume_sold_liters_trans', 'pack_trans', 'bottle_volume_ml_trans',\n",
        "       'profit_trans', 'totalcost_trans', 'revenue_trans']\n",
        "\n",
        "X2 = data_final[features].copy()\n",
        "\n",
        "scaler = StandardScaler()\n",
        "scaler.fit(X2)\n",
        "\n",
        "#This makes our model's coefficients take on the same scale for accurate feature importance analysis\n",
        "#Notice we scaled the data before the cross validation\n",
        "X = scaler.transform(X2)\n",
        "\n",
        "Y= data_final[['id_label']].copy()\n",
        "Y2 = Y.values\n",
        "\n",
        "#Divide data into test and training splits\n",
        "from sklearn.model_selection import ShuffleSplit\n",
        "#cv = ShuffleSplit(n_splits=10, test_size=0.20, random_state=0)"
      ],
      "execution_count": 59,
      "outputs": [
        {
          "output_type": "stream",
          "text": [
            "CPU times: user 16.1 ms, sys: 1 ms, total: 17.1 ms\n",
            "Wall time: 16.5 ms\n"
          ],
          "name": "stdout"
        }
      ]
    },
    {
      "cell_type": "markdown",
      "metadata": {
        "id": "Srkaf6ovr6wr",
        "colab_type": "text"
      },
      "source": [
        "RandomForestClassifier(bootstrap=True, ccp_alpha=0.0, class_weight=None,\n",
        "                       criterion='gini', max_depth=20, max_features='auto',\n",
        "                       max_leaf_nodes=None, max_samples=None,\n",
        "                       min_impurity_decrease=0.0, min_impurity_split=None,\n",
        "                       min_samples_leaf=1, min_samples_split=2,\n",
        "                       min_weight_fraction_leaf=0.0, n_estimators=500,\n",
        "                       n_jobs=None, oob_score=False, random_state=101,\n",
        "                       verbose=0, warm_start=False)"
      ]
    },
    {
      "cell_type": "code",
      "metadata": {
        "id": "qCSd6XzNr90w",
        "colab_type": "code",
        "colab": {
          "base_uri": "https://localhost:8080/",
          "height": 50
        },
        "outputId": "32418be0-7cb6-45b5-b17b-a88133a8d0bb"
      },
      "source": [
        "%%time\n",
        "from sklearn.neighbors import KNeighborsClassifier\n",
        "from sklearn.model_selection import StratifiedKFold\n",
        "from sklearn.preprocessing import StandardScaler\n",
        "import numpy as np\n",
        "from sklearn import metrics as mt\n",
        "\n",
        "\n",
        "# create variables we are more familiar with\n",
        "# X will be our features\n",
        "X = data_final.loc[:, data_final.columns != 'id_label']\n",
        "# y will be our label, what we are trying to classify\n",
        "y = data_final.loc[:, data_final.columns == 'id_label']\n",
        "yhat = np.zeros(y.shape) # we will fill this with predictions\n",
        "\n",
        "# Import train_test_split function\n",
        "from sklearn.model_selection import train_test_split\n",
        "\n",
        "# Split dataset into training set and test set\n",
        "X_train, X_test, y_train, y_test = train_test_split(X,y, test_size=0.3) # 70% training and 30% test"
      ],
      "execution_count": 60,
      "outputs": [
        {
          "output_type": "stream",
          "text": [
            "CPU times: user 11.9 ms, sys: 34 µs, total: 11.9 ms\n",
            "Wall time: 11.3 ms\n"
          ],
          "name": "stdout"
        }
      ]
    },
    {
      "cell_type": "code",
      "metadata": {
        "id": "3La_5Lmm6DrH",
        "colab_type": "code",
        "colab": {
          "base_uri": "https://localhost:8080/",
          "height": 422
        },
        "outputId": "7d70b6c7-deb8-4870-c08b-d59f344aa401"
      },
      "source": [
        "X_train"
      ],
      "execution_count": 61,
      "outputs": [
        {
          "output_type": "execute_result",
          "data": {
            "text/html": [
              "<div>\n",
              "<style scoped>\n",
              "    .dataframe tbody tr th:only-of-type {\n",
              "        vertical-align: middle;\n",
              "    }\n",
              "\n",
              "    .dataframe tbody tr th {\n",
              "        vertical-align: top;\n",
              "    }\n",
              "\n",
              "    .dataframe thead th {\n",
              "        text-align: right;\n",
              "    }\n",
              "</style>\n",
              "<table border=\"1\" class=\"dataframe\">\n",
              "  <thead>\n",
              "    <tr style=\"text-align: right;\">\n",
              "      <th></th>\n",
              "      <th>sale_dollars_trans</th>\n",
              "      <th>cost_per_liter_trans</th>\n",
              "      <th>state_bottle_cost_trans</th>\n",
              "      <th>bottles_sold_trans</th>\n",
              "      <th>volume_sold_liters_trans</th>\n",
              "      <th>pack_trans</th>\n",
              "      <th>bottle_volume_ml_trans</th>\n",
              "      <th>profit_trans</th>\n",
              "      <th>totalcost_trans</th>\n",
              "      <th>revenue_trans</th>\n",
              "    </tr>\n",
              "  </thead>\n",
              "  <tbody>\n",
              "    <tr>\n",
              "      <th>24716</th>\n",
              "      <td>2.163323</td>\n",
              "      <td>2.049994</td>\n",
              "      <td>0.657520</td>\n",
              "      <td>1.098612</td>\n",
              "      <td>0.113329</td>\n",
              "      <td>3.178054</td>\n",
              "      <td>5.926926</td>\n",
              "      <td>1.068153</td>\n",
              "      <td>1.756132</td>\n",
              "      <td>2.163323</td>\n",
              "    </tr>\n",
              "    <tr>\n",
              "      <th>26555</th>\n",
              "      <td>4.442181</td>\n",
              "      <td>2.090805</td>\n",
              "      <td>2.244956</td>\n",
              "      <td>1.791759</td>\n",
              "      <td>2.351375</td>\n",
              "      <td>1.791759</td>\n",
              "      <td>7.467371</td>\n",
              "      <td>3.343568</td>\n",
              "      <td>4.036715</td>\n",
              "      <td>4.442181</td>\n",
              "    </tr>\n",
              "    <tr>\n",
              "      <th>14316</th>\n",
              "      <td>4.591477</td>\n",
              "      <td>2.394252</td>\n",
              "      <td>1.007958</td>\n",
              "      <td>3.178054</td>\n",
              "      <td>2.197225</td>\n",
              "      <td>3.178054</td>\n",
              "      <td>5.926926</td>\n",
              "      <td>3.492865</td>\n",
              "      <td>4.186012</td>\n",
              "      <td>4.591477</td>\n",
              "    </tr>\n",
              "    <tr>\n",
              "      <th>19815</th>\n",
              "      <td>9.417940</td>\n",
              "      <td>3.244154</td>\n",
              "      <td>2.838493</td>\n",
              "      <td>6.173786</td>\n",
              "      <td>6.173786</td>\n",
              "      <td>2.484907</td>\n",
              "      <td>6.907755</td>\n",
              "      <td>8.319717</td>\n",
              "      <td>9.012280</td>\n",
              "      <td>9.417940</td>\n",
              "    </tr>\n",
              "    <tr>\n",
              "      <th>35548</th>\n",
              "      <td>5.807782</td>\n",
              "      <td>3.610557</td>\n",
              "      <td>2.917230</td>\n",
              "      <td>2.484907</td>\n",
              "      <td>2.197225</td>\n",
              "      <td>2.484907</td>\n",
              "      <td>6.620073</td>\n",
              "      <td>4.709530</td>\n",
              "      <td>5.402137</td>\n",
              "      <td>5.807782</td>\n",
              "    </tr>\n",
              "    <tr>\n",
              "      <th>...</th>\n",
              "      <td>...</td>\n",
              "      <td>...</td>\n",
              "      <td>...</td>\n",
              "      <td>...</td>\n",
              "      <td>...</td>\n",
              "      <td>...</td>\n",
              "      <td>...</td>\n",
              "      <td>...</td>\n",
              "      <td>...</td>\n",
              "      <td>...</td>\n",
              "    </tr>\n",
              "    <tr>\n",
              "      <th>11059</th>\n",
              "      <td>3.737670</td>\n",
              "      <td>3.332205</td>\n",
              "      <td>2.639057</td>\n",
              "      <td>0.693147</td>\n",
              "      <td>0.405465</td>\n",
              "      <td>2.484907</td>\n",
              "      <td>6.620073</td>\n",
              "      <td>2.639057</td>\n",
              "      <td>3.332205</td>\n",
              "      <td>3.737670</td>\n",
              "    </tr>\n",
              "    <tr>\n",
              "      <th>28746</th>\n",
              "      <td>6.138029</td>\n",
              "      <td>2.688042</td>\n",
              "      <td>2.841998</td>\n",
              "      <td>2.890372</td>\n",
              "      <td>3.449988</td>\n",
              "      <td>1.791759</td>\n",
              "      <td>7.467371</td>\n",
              "      <td>5.039806</td>\n",
              "      <td>5.732370</td>\n",
              "      <td>6.138029</td>\n",
              "    </tr>\n",
              "    <tr>\n",
              "      <th>18208</th>\n",
              "      <td>4.503802</td>\n",
              "      <td>2.152426</td>\n",
              "      <td>2.306577</td>\n",
              "      <td>1.791759</td>\n",
              "      <td>2.351375</td>\n",
              "      <td>1.791759</td>\n",
              "      <td>7.467371</td>\n",
              "      <td>3.405189</td>\n",
              "      <td>4.098337</td>\n",
              "      <td>4.503802</td>\n",
              "    </tr>\n",
              "    <tr>\n",
              "      <th>23069</th>\n",
              "      <td>5.543614</td>\n",
              "      <td>3.346389</td>\n",
              "      <td>1.960095</td>\n",
              "      <td>3.178054</td>\n",
              "      <td>2.197225</td>\n",
              "      <td>3.178054</td>\n",
              "      <td>5.926926</td>\n",
              "      <td>4.445001</td>\n",
              "      <td>5.138149</td>\n",
              "      <td>5.543614</td>\n",
              "    </tr>\n",
              "    <tr>\n",
              "      <th>7218</th>\n",
              "      <td>5.059425</td>\n",
              "      <td>3.555348</td>\n",
              "      <td>2.862201</td>\n",
              "      <td>1.791759</td>\n",
              "      <td>1.504077</td>\n",
              "      <td>1.791759</td>\n",
              "      <td>6.620073</td>\n",
              "      <td>3.960813</td>\n",
              "      <td>4.653960</td>\n",
              "      <td>5.059425</td>\n",
              "    </tr>\n",
              "  </tbody>\n",
              "</table>\n",
              "<p>28000 rows × 10 columns</p>\n",
              "</div>"
            ],
            "text/plain": [
              "       sale_dollars_trans  cost_per_liter_trans  ...  totalcost_trans  revenue_trans\n",
              "24716            2.163323              2.049994  ...         1.756132       2.163323\n",
              "26555            4.442181              2.090805  ...         4.036715       4.442181\n",
              "14316            4.591477              2.394252  ...         4.186012       4.591477\n",
              "19815            9.417940              3.244154  ...         9.012280       9.417940\n",
              "35548            5.807782              3.610557  ...         5.402137       5.807782\n",
              "...                   ...                   ...  ...              ...            ...\n",
              "11059            3.737670              3.332205  ...         3.332205       3.737670\n",
              "28746            6.138029              2.688042  ...         5.732370       6.138029\n",
              "18208            4.503802              2.152426  ...         4.098337       4.503802\n",
              "23069            5.543614              3.346389  ...         5.138149       5.543614\n",
              "7218             5.059425              3.555348  ...         4.653960       5.059425\n",
              "\n",
              "[28000 rows x 10 columns]"
            ]
          },
          "metadata": {
            "tags": []
          },
          "execution_count": 61
        }
      ]
    },
    {
      "cell_type": "code",
      "metadata": {
        "id": "kj1ru6ozu9G7",
        "colab_type": "code",
        "colab": {}
      },
      "source": [
        "# scale attributes by the training set\n",
        "scl_obj = StandardScaler()\n",
        "scl_obj.fit(X_train) \n",
        "\n",
        "# apply to training on full dataset\n",
        "X_train_scaled = scl_obj.transform(X_train) \n",
        "X_test_scaled = scl_obj.transform(X_test)"
      ],
      "execution_count": 0,
      "outputs": []
    },
    {
      "cell_type": "code",
      "metadata": {
        "id": "UCGAQAtJ6tSn",
        "colab_type": "code",
        "colab": {
          "base_uri": "https://localhost:8080/",
          "height": 50
        },
        "outputId": "ef1e3625-755e-4741-ad52-832d4f55a5fb"
      },
      "source": [
        "%%time\n",
        "from sklearn.neighbors import KNeighborsClassifier\n",
        "from sklearn.model_selection import StratifiedKFold\n",
        "from sklearn.preprocessing import StandardScaler\n",
        "import numpy as np\n",
        "from sklearn import metrics as mt\n",
        "scl = StandardScaler()\n",
        "# create cross validation iterator\n",
        "cv = StratifiedKFold(n_splits=4)"
      ],
      "execution_count": 63,
      "outputs": [
        {
          "output_type": "stream",
          "text": [
            "CPU times: user 60 µs, sys: 2 µs, total: 62 µs\n",
            "Wall time: 67.2 µs\n"
          ],
          "name": "stdout"
        }
      ]
    },
    {
      "cell_type": "code",
      "metadata": {
        "id": "AWOsMzu_6f9w",
        "colab_type": "code",
        "colab": {
          "base_uri": "https://localhost:8080/",
          "height": 118
        },
        "outputId": "30913df5-2a87-4b83-810e-2ca3387f0a4b"
      },
      "source": [
        "%%time\n",
        "#create and train model\n",
        "from sklearn.ensemble import RandomForestClassifier\n",
        "\n",
        "clfrf = RandomForestClassifier(max_depth=50, n_estimators=150, n_jobs=-1, oob_score=True)\n",
        "\n",
        "# now iterate through and get predictions, saved to the correct row in yhat\n",
        "for train_idx, test_idx in cv.split(X,y):\n",
        "    clfrf.fit(scl.fit_transform(X.iloc[train_idx]), y.iloc[train_idx].values.ravel())\n",
        "    yhat = clfrf.predict(scl.fit_transform(X.iloc[test_idx]))    \n",
        "    total_accuracy = mt.accuracy_score(y.iloc[test_idx].values.ravel(), yhat)\n",
        "    print ('Accuracy', total_accuracy)"
      ],
      "execution_count": 64,
      "outputs": [
        {
          "output_type": "stream",
          "text": [
            "Accuracy 0.3741\n",
            "Accuracy 0.3541\n",
            "Accuracy 0.3755\n",
            "Accuracy 0.2366\n",
            "CPU times: user 29.9 s, sys: 214 ms, total: 30.1 s\n",
            "Wall time: 17 s\n"
          ],
          "name": "stdout"
        }
      ]
    },
    {
      "cell_type": "code",
      "metadata": {
        "id": "ILLCzq1667XQ",
        "colab_type": "code",
        "colab": {}
      },
      "source": [
        "url_rfmodel = '/content/drive/My Drive/ColabNotebooks/rfmodel.joblib'"
      ],
      "execution_count": 0,
      "outputs": []
    },
    {
      "cell_type": "code",
      "metadata": {
        "id": "OavYqK2wqcGd",
        "colab_type": "code",
        "colab": {
          "base_uri": "https://localhost:8080/",
          "height": 34
        },
        "outputId": "1ae5fdc4-64e9-4e86-b602-9b1101add65c"
      },
      "source": [
        "#exporting model to drive\n",
        "from joblib import dump, load\n",
        "dump(clfrf, url_rfmodel) "
      ],
      "execution_count": 66,
      "outputs": [
        {
          "output_type": "execute_result",
          "data": {
            "text/plain": [
              "['/content/drive/My Drive/ColabNotebooks/rfmodel.joblib']"
            ]
          },
          "metadata": {
            "tags": []
          },
          "execution_count": 66
        }
      ]
    },
    {
      "cell_type": "code",
      "metadata": {
        "id": "CnKiy75C7kUG",
        "colab_type": "code",
        "colab": {
          "base_uri": "https://localhost:8080/",
          "height": 50
        },
        "outputId": "5feae434-82bf-4388-b7bc-7acd3f324884"
      },
      "source": [
        "%%time\n",
        "#importing model to new model name\n",
        "clfrf2 = load(url_rfmodel)"
      ],
      "execution_count": 67,
      "outputs": [
        {
          "output_type": "stream",
          "text": [
            "CPU times: user 116 ms, sys: 58 ms, total: 174 ms\n",
            "Wall time: 239 ms\n"
          ],
          "name": "stdout"
        }
      ]
    },
    {
      "cell_type": "code",
      "metadata": {
        "id": "-z0bg5Ct9V6V",
        "colab_type": "code",
        "colab": {}
      },
      "source": [
        ""
      ],
      "execution_count": 0,
      "outputs": []
    },
    {
      "cell_type": "code",
      "metadata": {
        "id": "AClLX-cY72VT",
        "colab_type": "code",
        "colab": {
          "base_uri": "https://localhost:8080/",
          "height": 50
        },
        "outputId": "bbe5761f-9496-461a-e28c-9b9a5d9a56d3"
      },
      "source": [
        "%%time\n",
        "#using new model to do prediction\n",
        "yhat2 = clfrf2.predict(scl.fit_transform(X_test_scaled))    \n",
        "total_accuracy = mt.accuracy_score(y_test.values.ravel(), yhat2)"
      ],
      "execution_count": 68,
      "outputs": [
        {
          "output_type": "stream",
          "text": [
            "CPU times: user 514 ms, sys: 14.9 ms, total: 529 ms\n",
            "Wall time: 326 ms\n"
          ],
          "name": "stdout"
        }
      ]
    },
    {
      "cell_type": "code",
      "metadata": {
        "id": "_lNEddH08Upx",
        "colab_type": "code",
        "colab": {
          "base_uri": "https://localhost:8080/",
          "height": 34
        },
        "outputId": "96d923fa-afd0-426f-a597-b45a8f1dfd43"
      },
      "source": [
        "total_accuracy"
      ],
      "execution_count": 69,
      "outputs": [
        {
          "output_type": "execute_result",
          "data": {
            "text/plain": [
              "0.5915833333333333"
            ]
          },
          "metadata": {
            "tags": []
          },
          "execution_count": 69
        }
      ]
    }
  ]
}