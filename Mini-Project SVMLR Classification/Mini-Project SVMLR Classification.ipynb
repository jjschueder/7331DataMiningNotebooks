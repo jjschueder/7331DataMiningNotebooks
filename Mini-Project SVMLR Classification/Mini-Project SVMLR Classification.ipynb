{
  "nbformat": 4,
  "nbformat_minor": 0,
  "metadata": {
    "kernelspec": {
      "display_name": "Python 3",
      "language": "python",
      "name": "python3"
    },
    "language_info": {
      "codemirror_mode": {
        "name": "ipython",
        "version": 3
      },
      "file_extension": ".py",
      "mimetype": "text/x-python",
      "name": "python",
      "nbconvert_exporter": "python",
      "pygments_lexer": "ipython3",
      "version": "3.7.1"
    },
    "colab": {
      "name": "Mini-Project SVMLR Classification.ipynb",
      "provenance": []
    }
  },
  "cells": [
    {
      "cell_type": "markdown",
      "metadata": {
        "id": "2izOCks4W3NN",
        "colab_type": "text"
      },
      "source": [
        "# Mini-Project: SVM&LR Classification\n",
        "\n",
        "Team Members: Joe Schueder, Armando Vela, Jeff Washburn, Daniel Clark\n",
        "\n",
        "\n",
        "You are to perform predictive analysis (classification) upon a data set: model the dataset using\n",
        "methods we have discussed in class: logistic regression & support vector machines and making\n",
        "conclusions from the analysis. Follow the CRISP-DM framework in your analysis (you are not\n",
        "performing all of the CRISP-DM outline, only the portions relevant to the grading rubric outlined\n",
        "below). This report is worth 10% of the final grade. You may complete this assignment in teams\n",
        "of as many as three people.\n",
        "Write a report covering all the steps of the project. The format of the document can be PDF,\n",
        "*.ipynb, or HTML. You can write the report in whatever format you like, but it is easiest to turn in\n",
        "the rendered Jupyter notebook. The results should be reproducible using your report. Please\n",
        "carefully describe every assumption and every step in your report.\n",
        "A note on grading: A common mistake I see in this lab is not investigating different input\n",
        "parameters for each model. Try a number of parameter combinations and discuss how the model changed. "
      ]
    },
    {
      "cell_type": "markdown",
      "metadata": {
        "id": "wA5h4w_CW3NR",
        "colab_type": "text"
      },
      "source": [
        "## SVM and Logistic Regression Modeling\n"
      ]
    },
    {
      "cell_type": "markdown",
      "metadata": {
        "id": "t3sH_UinW3NV",
        "colab_type": "text"
      },
      "source": [
        "### Create Models [50 points] \n",
        "Create a logistic regression model and a support vector machine model for the\n",
        "classification task involved with your dataset. Assess how well each model performs (use\n",
        "80/20 training/testing split for your data). Adjust parameters of the models to make them\n",
        "more accurate. If your dataset size requires the use of stochastic gradient descent, then\n",
        "linear kernel only is fine to use. That is, the SGDClassifier is fine to use for optimizing\n",
        "logistic regression and linear support vector machines. For many problems, SGD will be\n",
        "required in order to train the SVM model in a reasonable timeframe.   "
      ]
    },
    {
      "cell_type": "code",
      "metadata": {
        "id": "PU-jtFAqW3NX",
        "colab_type": "code",
        "colab": {}
      },
      "source": [
        "import pandas as pd\n",
        "import numpy as np\n",
        "from sklearn import preprocessing\n",
        "import matplotlib.pyplot as plt \n",
        "plt.rc(\"font\", size=14)\n",
        "from sklearn.linear_model import LogisticRegression\n",
        "from sklearn.model_selection import train_test_split\n",
        "import seaborn as sns\n",
        "sns.set(style=\"white\")\n",
        "sns.set(style=\"whitegrid\", color_codes=True)"
      ],
      "execution_count": 0,
      "outputs": []
    },
    {
      "cell_type": "code",
      "metadata": {
        "id": "mivzi0J4W3Nk",
        "colab_type": "code",
        "colab": {}
      },
      "source": [
        "#read data from github repository\n",
        "#this data was produced from the Iowa Alcohol Dataset 2019 year data\n",
        "#It was cleansed and transformed in this notebook and exported as a csv to github for use here.\n",
        "#source python notebook: https://github.com/jjschueder/7331DataMiningNotebooks/blob/master/lab1/msds7331_clark_schueder_vela_washburn.ipynb\n",
        "# read csv from github directly\n",
        "url_dataset = 'https://github.com/jjschueder/7331DataMiningNotebooks/blob/master/Live%20Assignment%201/df1hotmerge2.csv?raw=true'\n",
        "#df = pd.read_csv(url_dataset, nrows=50000)\n",
        "data = pd.read_csv(url_dataset)"
      ],
      "execution_count": 0,
      "outputs": []
    },
    {
      "cell_type": "code",
      "metadata": {
        "id": "Kh7_ZzabW3Ns",
        "colab_type": "code",
        "colab": {
          "base_uri": "https://localhost:8080/",
          "height": 71
        },
        "outputId": "ea7a5bdc-67b7-4ed5-84e3-94e6624ca0d5"
      },
      "source": [
        "print(data.shape)\n",
        "print(list(data.columns))"
      ],
      "execution_count": 4,
      "outputs": [
        {
          "output_type": "stream",
          "text": [
            "(400000, 68)\n",
            "['Unnamed: 0', 'pack', 'bottle_volume_ml', 'state_bottle_cost', 'state_bottle_retail', 'bottles_sold', 'sale_dollars', 'volume_sold_liters', 'volume_sold_gallons', 'counter', 'liquor_category', 'store_parent', 'month', 'year', 'monthyear', 'liquor_category_AMARETTO', 'liquor_category_BRANDY', 'liquor_category_GIN', 'liquor_category_LIQUEUR', 'liquor_category_Other', 'liquor_category_RUM', 'liquor_category_SCHNAPPS', 'liquor_category_TEQUILA', 'liquor_category_VODKA', 'liquor_category_WHISKY', 'store_parent_CVS', 'store_parent_Caseys', 'store_parent_Hy-Vee', 'store_parent_Kum&Go', 'store_parent_Other', 'store_parent_QuikTrip', 'store_parent_SamsClub', 'store_parent_SmokingJoes', 'store_parent_Target', 'store_parent_Wal-Mart', 'store_parent_Walgreens', 'month_Apr', 'month_Aug', 'month_Dec', 'month_Feb', 'month_Jan', 'month_Jul', 'month_Jun', 'month_Mar', 'month_May', 'month_Nov', 'month_Oct', 'month_Sep', 'year_2019', 'monthyear_Apr-2019', 'monthyear_Aug-2019', 'monthyear_Dec-2019', 'monthyear_Feb-2019', 'monthyear_Jan-2019', 'monthyear_Jul-2019', 'monthyear_Jun-2019', 'monthyear_Mar-2019', 'monthyear_May-2019', 'monthyear_Nov-2019', 'monthyear_Oct-2019', 'monthyear_Sep-2019', 'sale_dollars_trans', 'cost_per_liter', 'cost_per_liter_trans', 'state_bottle_cost_trans', 'bottles_sold_trans', 'volume_sold_liters_trans', 'grossmargin']\n"
          ],
          "name": "stdout"
        }
      ]
    },
    {
      "cell_type": "code",
      "metadata": {
        "id": "doNdflnwW3N1",
        "colab_type": "code",
        "colab": {
          "base_uri": "https://localhost:8080/",
          "height": 51
        },
        "outputId": "453b9c74-e847-40b4-e273-aded3cd82c2d"
      },
      "source": [
        "data = data.drop(columns = ['Unnamed: 0'])\n",
        "count_not_whiskey = len(data[data['liquor_category_WHISKY']==0])\n",
        "count_whiskey = len(data[data['liquor_category_WHISKY']==1])\n",
        "pct_of_no_whiskey = count_not_whiskey/(count_not_whiskey+count_whiskey)\n",
        "print(\"percentage of not whiskey is\", pct_of_no_whiskey*100)\n",
        "pct_of_whiskey = count_whiskey/(count_not_whiskey+count_whiskey)\n",
        "print(\"percentage of whiskey\", pct_of_whiskey*100)"
      ],
      "execution_count": 5,
      "outputs": [
        {
          "output_type": "stream",
          "text": [
            "percentage of not whiskey is 89.56125\n",
            "percentage of whiskey 10.438749999999999\n"
          ],
          "name": "stdout"
        }
      ]
    },
    {
      "cell_type": "markdown",
      "metadata": {
        "id": "vx0vjzRBf1uD",
        "colab_type": "text"
      },
      "source": [
        "**For teams to discuss tonight. A 10% representation of whiskey is going to make running a logistic regression model a little tricky. With this distribution, a model can simply classify 0 for every instance and get a 89% accuracy rate, which isn't necessarily rewarding it's machine learning technique for accurately guessing Whiskies. It is also going to make our AUC no skill lines kind of misleading.**\n",
        "\n",
        "https://stats.stackexchange.com/questions/66753/do-i-need-a-balanced-sample-50-yes-50-no-to-run-logistic-regression\n",
        "\n",
        "**It might be worth subsetting our distribution so that we have closer to 50% whiskies and 50% non whiskies so we can actually test which is driving performance. Alternatively, we can make our models cost sensitive as per the blow and weight them by a 1:10 ratio**\n",
        "\n",
        "https://machinelearningmastery.com/cost-sensitive-logistic-regression/"
      ]
    },
    {
      "cell_type": "code",
      "metadata": {
        "id": "ZRzZCisiW3N8",
        "colab_type": "code",
        "colab": {
          "base_uri": "https://localhost:8080/",
          "height": 289
        },
        "outputId": "2af4f81a-8d5c-4360-f2d0-141b4dae5567"
      },
      "source": [
        "cat_vars=['counter', 'liquor_category', 'store_parent',\n",
        " 'month', 'year', 'monthyear', 'liquor_category_AMARETTO', 'liquor_category_BRANDY', 'liquor_category_GIN', \n",
        " 'liquor_category_LIQUEUR', 'liquor_category_Other', 'liquor_category_RUM', 'liquor_category_SCHNAPPS', \n",
        " 'liquor_category_TEQUILA', 'liquor_category_VODKA', 'month_Apr', 'month_Aug', 'month_Dec', 'month_Feb',\n",
        " 'month_Jan', 'month_Jul', 'month_Jun', 'month_Mar', 'month_May', 'month_Nov', 'month_Oct', 'month_Sep']\n",
        "data_vars=data.columns.values.tolist()\n",
        "to_keep=[i for i in data_vars if i not in cat_vars]\n",
        "\n",
        "data_final=data[to_keep]\n",
        "data_final.columns.values"
      ],
      "execution_count": 7,
      "outputs": [
        {
          "output_type": "execute_result",
          "data": {
            "text/plain": [
              "array(['pack', 'bottle_volume_ml', 'state_bottle_cost',\n",
              "       'state_bottle_retail', 'bottles_sold', 'sale_dollars',\n",
              "       'volume_sold_liters', 'volume_sold_gallons',\n",
              "       'liquor_category_WHISKY', 'store_parent_CVS',\n",
              "       'store_parent_Caseys', 'store_parent_Hy-Vee',\n",
              "       'store_parent_Kum&Go', 'store_parent_Other',\n",
              "       'store_parent_QuikTrip', 'store_parent_SamsClub',\n",
              "       'store_parent_SmokingJoes', 'store_parent_Target',\n",
              "       'store_parent_Wal-Mart', 'store_parent_Walgreens', 'year_2019',\n",
              "       'monthyear_Apr-2019', 'monthyear_Aug-2019', 'monthyear_Dec-2019',\n",
              "       'monthyear_Feb-2019', 'monthyear_Jan-2019', 'monthyear_Jul-2019',\n",
              "       'monthyear_Jun-2019', 'monthyear_Mar-2019', 'monthyear_May-2019',\n",
              "       'monthyear_Nov-2019', 'monthyear_Oct-2019', 'monthyear_Sep-2019',\n",
              "       'sale_dollars_trans', 'cost_per_liter', 'cost_per_liter_trans',\n",
              "       'state_bottle_cost_trans', 'bottles_sold_trans',\n",
              "       'volume_sold_liters_trans', 'grossmargin'], dtype=object)"
            ]
          },
          "metadata": {
            "tags": []
          },
          "execution_count": 7
        }
      ]
    },
    {
      "cell_type": "markdown",
      "metadata": {
        "id": "hPxAps_3W3OE",
        "colab_type": "text"
      },
      "source": [
        "#### Logistic Regression model:"
      ]
    },
    {
      "cell_type": "code",
      "metadata": {
        "id": "M0Wb7EKaW3OF",
        "colab_type": "code",
        "colab": {
          "base_uri": "https://localhost:8080/",
          "height": 272
        },
        "outputId": "26c36d25-b2fe-46b4-db5a-28b3e4e01ffd"
      },
      "source": [
        "X = data_final.loc[:, data_final.columns != 'liquor_category_WHISKY']\n",
        "y = data_final.loc[:, data_final.columns == 'liquor_category_WHISKY']\n",
        "\n",
        "X_train, X_test, y_train, y_test = train_test_split(X, y, test_size=0.2, random_state=0)\n",
        "columns = X_train.columns\n",
        "\n",
        "\n",
        "from sklearn.linear_model import LogisticRegression\n",
        "# all parameters not specified are set to their defaults\n",
        "#weights = {0:1.0, 1:10.0}\n",
        "logisticRegr = LogisticRegression()#solver='lbfgs', class_weight=weights)\n",
        "\n",
        "logisticRegr.fit(X_train, y_train)"
      ],
      "execution_count": 27,
      "outputs": [
        {
          "output_type": "stream",
          "text": [
            "/usr/local/lib/python3.6/dist-packages/sklearn/utils/validation.py:760: DataConversionWarning: A column-vector y was passed when a 1d array was expected. Please change the shape of y to (n_samples, ), for example using ravel().\n",
            "  y = column_or_1d(y, warn=True)\n",
            "/usr/local/lib/python3.6/dist-packages/sklearn/linear_model/_logistic.py:940: ConvergenceWarning: lbfgs failed to converge (status=1):\n",
            "STOP: TOTAL NO. of ITERATIONS REACHED LIMIT.\n",
            "\n",
            "Increase the number of iterations (max_iter) or scale the data as shown in:\n",
            "    https://scikit-learn.org/stable/modules/preprocessing.html\n",
            "Please also refer to the documentation for alternative solver options:\n",
            "    https://scikit-learn.org/stable/modules/linear_model.html#logistic-regression\n",
            "  extra_warning_msg=_LOGISTIC_SOLVER_CONVERGENCE_MSG)\n"
          ],
          "name": "stderr"
        },
        {
          "output_type": "execute_result",
          "data": {
            "text/plain": [
              "LogisticRegression(C=1.0, class_weight=None, dual=False, fit_intercept=True,\n",
              "                   intercept_scaling=1, l1_ratio=None, max_iter=100,\n",
              "                   multi_class='auto', n_jobs=None, penalty='l2',\n",
              "                   random_state=None, solver='lbfgs', tol=0.0001, verbose=0,\n",
              "                   warm_start=False)"
            ]
          },
          "metadata": {
            "tags": []
          },
          "execution_count": 27
        }
      ]
    },
    {
      "cell_type": "code",
      "metadata": {
        "id": "bLfookt4W3OK",
        "colab_type": "code",
        "colab": {
          "base_uri": "https://localhost:8080/",
          "height": 136
        },
        "outputId": "9204c5e3-5fed-4d09-e736-4bc1803d0932"
      },
      "source": [
        "coef = logisticRegr.coef_[0]\n",
        "classes = logisticRegr.classes_[0]\n",
        "intercept = logisticRegr.intercept_[0]\n",
        "print (coef)"
      ],
      "execution_count": 28,
      "outputs": [
        {
          "output_type": "stream",
          "text": [
            "[-0.03503136 -0.00312428  0.09952419  0.09050761 -0.06084592  0.00447377\n",
            " -0.04482224 -0.0115786   0.00534906 -0.04094758  0.12478778 -0.06495808\n",
            " -0.09594336 -0.0179852   0.00650752 -0.02161384  0.00125703 -0.01336544\n",
            " -0.00467172 -0.12158383 -0.0376673   0.02253846 -0.01580206 -0.00716828\n",
            " -0.02492801 -0.03349421 -0.02633979  0.01178798 -0.02166746  0.00045236\n",
            "  0.00524361  0.00546087 -0.1184619  -0.00797666 -0.26406154  0.01706717\n",
            " -0.08576726  0.14559964 -0.04086942]\n"
          ],
          "name": "stdout"
        }
      ]
    },
    {
      "cell_type": "code",
      "metadata": {
        "id": "hil5UyLKW3OV",
        "colab_type": "code",
        "colab": {
          "base_uri": "https://localhost:8080/",
          "height": 34
        },
        "outputId": "8cce099f-aa2d-45ac-c2ac-f72f0d9a6a4e"
      },
      "source": [
        "intercept"
      ],
      "execution_count": 29,
      "outputs": [
        {
          "output_type": "execute_result",
          "data": {
            "text/plain": [
              "-0.12158640934801339"
            ]
          },
          "metadata": {
            "tags": []
          },
          "execution_count": 29
        }
      ]
    },
    {
      "cell_type": "code",
      "metadata": {
        "id": "V9Z6q2mGW3Or",
        "colab_type": "code",
        "colab": {
          "base_uri": "https://localhost:8080/",
          "height": 272
        },
        "outputId": "5243a427-07a4-4caf-efce-68c04d8a6ce1"
      },
      "source": [
        "# Returns a NumPy Array\n",
        "predictions = logisticRegr.predict(X_test)\n",
        "\n",
        "params =logisticRegr.get_params(deep=True)\n",
        "params"
      ],
      "execution_count": 30,
      "outputs": [
        {
          "output_type": "execute_result",
          "data": {
            "text/plain": [
              "{'C': 1.0,\n",
              " 'class_weight': None,\n",
              " 'dual': False,\n",
              " 'fit_intercept': True,\n",
              " 'intercept_scaling': 1,\n",
              " 'l1_ratio': None,\n",
              " 'max_iter': 100,\n",
              " 'multi_class': 'auto',\n",
              " 'n_jobs': None,\n",
              " 'penalty': 'l2',\n",
              " 'random_state': None,\n",
              " 'solver': 'lbfgs',\n",
              " 'tol': 0.0001,\n",
              " 'verbose': 0,\n",
              " 'warm_start': False}"
            ]
          },
          "metadata": {
            "tags": []
          },
          "execution_count": 30
        }
      ]
    },
    {
      "cell_type": "code",
      "metadata": {
        "id": "KwxDHuxXW3O4",
        "colab_type": "code",
        "colab": {
          "base_uri": "https://localhost:8080/",
          "height": 419
        },
        "outputId": "61638227-2e5c-4ccc-f7d9-95530f704a6f"
      },
      "source": [
        "decfunct = pd.DataFrame(logisticRegr.decision_function(X_test))\n",
        "decfunct"
      ],
      "execution_count": 31,
      "outputs": [
        {
          "output_type": "execute_result",
          "data": {
            "text/html": [
              "<div>\n",
              "<style scoped>\n",
              "    .dataframe tbody tr th:only-of-type {\n",
              "        vertical-align: middle;\n",
              "    }\n",
              "\n",
              "    .dataframe tbody tr th {\n",
              "        vertical-align: top;\n",
              "    }\n",
              "\n",
              "    .dataframe thead th {\n",
              "        text-align: right;\n",
              "    }\n",
              "</style>\n",
              "<table border=\"1\" class=\"dataframe\">\n",
              "  <thead>\n",
              "    <tr style=\"text-align: right;\">\n",
              "      <th></th>\n",
              "      <th>0</th>\n",
              "    </tr>\n",
              "  </thead>\n",
              "  <tbody>\n",
              "    <tr>\n",
              "      <th>0</th>\n",
              "      <td>-3.194613</td>\n",
              "    </tr>\n",
              "    <tr>\n",
              "      <th>1</th>\n",
              "      <td>0.237582</td>\n",
              "    </tr>\n",
              "    <tr>\n",
              "      <th>2</th>\n",
              "      <td>-4.106625</td>\n",
              "    </tr>\n",
              "    <tr>\n",
              "      <th>3</th>\n",
              "      <td>-2.767125</td>\n",
              "    </tr>\n",
              "    <tr>\n",
              "      <th>4</th>\n",
              "      <td>-2.917561</td>\n",
              "    </tr>\n",
              "    <tr>\n",
              "      <th>...</th>\n",
              "      <td>...</td>\n",
              "    </tr>\n",
              "    <tr>\n",
              "      <th>79995</th>\n",
              "      <td>-1.819173</td>\n",
              "    </tr>\n",
              "    <tr>\n",
              "      <th>79996</th>\n",
              "      <td>-6.328866</td>\n",
              "    </tr>\n",
              "    <tr>\n",
              "      <th>79997</th>\n",
              "      <td>-5.640552</td>\n",
              "    </tr>\n",
              "    <tr>\n",
              "      <th>79998</th>\n",
              "      <td>-4.135136</td>\n",
              "    </tr>\n",
              "    <tr>\n",
              "      <th>79999</th>\n",
              "      <td>0.183381</td>\n",
              "    </tr>\n",
              "  </tbody>\n",
              "</table>\n",
              "<p>80000 rows × 1 columns</p>\n",
              "</div>"
            ],
            "text/plain": [
              "              0\n",
              "0     -3.194613\n",
              "1      0.237582\n",
              "2     -4.106625\n",
              "3     -2.767125\n",
              "4     -2.917561\n",
              "...         ...\n",
              "79995 -1.819173\n",
              "79996 -6.328866\n",
              "79997 -5.640552\n",
              "79998 -4.135136\n",
              "79999  0.183381\n",
              "\n",
              "[80000 rows x 1 columns]"
            ]
          },
          "metadata": {
            "tags": []
          },
          "execution_count": 31
        }
      ]
    },
    {
      "cell_type": "code",
      "metadata": {
        "id": "tsHiJj74W3PL",
        "colab_type": "code",
        "colab": {
          "base_uri": "https://localhost:8080/",
          "height": 34
        },
        "outputId": "91e07aeb-00e2-4765-c723-40b5b6bf3048"
      },
      "source": [
        "# Use score method to get accuracy of model\n",
        "score = logisticRegr.score(X_test, y_test)\n",
        "print(score)"
      ],
      "execution_count": 32,
      "outputs": [
        {
          "output_type": "stream",
          "text": [
            "0.9208375\n"
          ],
          "name": "stdout"
        }
      ]
    },
    {
      "cell_type": "markdown",
      "metadata": {
        "id": "Z6Y0hB6peaZ3",
        "colab_type": "text"
      },
      "source": [
        "Doing a quick comparision against the raw distribution of our dataset and our classification model, we can see that our logistic regression model accuracy 92% was better than if our model selected 0 for each datapoint (89%).\n"
      ]
    },
    {
      "cell_type": "code",
      "metadata": {
        "id": "NG8qwjf9W3PS",
        "colab_type": "code",
        "colab": {
          "base_uri": "https://localhost:8080/",
          "height": 68
        },
        "outputId": "654ea57f-b556-4a4a-f87a-857733242729"
      },
      "source": [
        "import matplotlib.pyplot as plt\n",
        "import seaborn as sns\n",
        "from sklearn import metrics\n",
        "cm = metrics.confusion_matrix(y_test, predictions)\n",
        "print(\"Confusion Matrix: \", '\\n', cm)"
      ],
      "execution_count": 33,
      "outputs": [
        {
          "output_type": "stream",
          "text": [
            "Confusion Matrix:  \n",
            " [[70466  1211]\n",
            " [ 5122  3201]]\n"
          ],
          "name": "stdout"
        }
      ]
    },
    {
      "cell_type": "markdown",
      "metadata": {
        "id": "iRHGwDEqW3PX",
        "colab_type": "text"
      },
      "source": [
        "ROC Curves and AUC in Python\n",
        "https://machinelearningmastery.com/roc-curves-and-precision-recall-curves-for-classification-in-python/\n",
        "\n",
        "When to Use ROC vs. Precision-Recall Curves? Generally, the use of ROC curves and precision-recall curves are as follows:\n",
        "\n",
        "ROC curves should be used when there are roughly equal numbers of observations for each class. Precision-Recall curves should be used when there is a moderate to large class imbalance."
      ]
    },
    {
      "cell_type": "code",
      "metadata": {
        "id": "pJgpX0HaW3PZ",
        "colab_type": "code",
        "colab": {
          "base_uri": "https://localhost:8080/",
          "height": 51
        },
        "outputId": "3a17f2b0-911f-4985-e38a-4b0d74dde7f4"
      },
      "source": [
        "from sklearn.metrics import roc_curve\n",
        "from sklearn.metrics import roc_auc_score\n",
        "# predict probabilities\n",
        "lr_probs = logisticRegr.predict_proba(X_test)\n",
        "ns_probs = [0 for _ in range(len(y_test))]\n",
        "# keep probabilities for the positive outcome only\n",
        "lr_probs = lr_probs[:, 1]\n",
        "# calculate scores\n",
        "ns_auc = roc_auc_score(y_test, ns_probs)\n",
        "lr_auc = roc_auc_score(y_test, lr_probs)\n",
        "# summarize scores\n",
        "print('No Skill: ROC AUC=%.3f' % (ns_auc))\n",
        "print('Logistic: ROC AUC=%.3f' % (lr_auc))\n",
        "# calculate roc curves\n",
        "ns_fpr, ns_tpr, _ = roc_curve(y_test, ns_probs)\n",
        "lr_fpr, lr_tpr, _ = roc_curve(y_test, lr_probs)"
      ],
      "execution_count": 34,
      "outputs": [
        {
          "output_type": "stream",
          "text": [
            "No Skill: ROC AUC=0.500\n",
            "Logistic: ROC AUC=0.903\n"
          ],
          "name": "stdout"
        }
      ]
    },
    {
      "cell_type": "code",
      "metadata": {
        "id": "SMrEB_d-W3Pf",
        "colab_type": "code",
        "colab": {
          "base_uri": "https://localhost:8080/",
          "height": 285
        },
        "outputId": "d8556f2d-f5dd-476c-9b8d-1bf9d0a66835"
      },
      "source": [
        "from matplotlib import pyplot\n",
        "# calculate roc curves\n",
        "ns_fpr, ns_tpr, _ = roc_curve(y_test, ns_probs)\n",
        "lr_fpr, lr_tpr, _ = roc_curve(y_test, lr_probs)\n",
        "# plot the roc curve for the model\n",
        "pyplot.plot(ns_fpr, ns_tpr, linestyle='--', label='No Skill')\n",
        "pyplot.plot(lr_fpr, lr_tpr, marker='.', label='Logistic')\n",
        "# axis labels\n",
        "pyplot.xlabel('False Positive Rate')\n",
        "pyplot.ylabel('True Positive Rate')\n",
        "# show the legend\n",
        "pyplot.legend()\n",
        "# show the plot\n",
        "pyplot.show()"
      ],
      "execution_count": 35,
      "outputs": [
        {
          "output_type": "display_data",
          "data": {
            "image/png": "[encoded data removed]",
            "text/plain": [
              "<Figure size 432x288 with 1 Axes>"
            ]
          },
          "metadata": {
            "tags": []
          }
        }
      ]
    },
    {
      "cell_type": "code",
      "metadata": {
        "id": "R-_5w6XMW3Pm",
        "colab_type": "code",
        "colab": {
          "base_uri": "https://localhost:8080/",
          "height": 302
        },
        "outputId": "ff88994b-6134-437f-f6f6-7ba4f04899a8"
      },
      "source": [
        "from sklearn.metrics import precision_recall_curve\n",
        "from sklearn.metrics import f1_score\n",
        "from sklearn.metrics import auc\n",
        "# predict probabilities\n",
        "lr_probs = logisticRegr .predict_proba(X_test)\n",
        "# keep probabilities for the positive outcome only\n",
        "lr_probs = lr_probs[:, 1]\n",
        "# predict class values\n",
        "yhat = logisticRegr .predict(X_test)\n",
        "lr_precision, lr_recall, _ = precision_recall_curve(y_test, lr_probs)\n",
        "lr_f1, lr_auc = f1_score(y_test, yhat), auc(lr_recall, lr_precision)\n",
        "# summarize scores\n",
        "print('Logistic: f1=%.3f auc=%.3f' % (lr_f1, lr_auc))\n",
        "# plot the precision-recall curves\n",
        "no_skill = len(y_test[y_test==1]) / len(y_test)\n",
        "pyplot.plot([0, 1], [no_skill, no_skill], linestyle='--', label='No Skill')\n",
        "pyplot.plot(lr_recall, lr_precision, marker='.', label='Logistic')\n",
        "# axis labels\n",
        "pyplot.xlabel('Recall')\n",
        "pyplot.ylabel('Precision')\n",
        "# show the legend\n",
        "pyplot.legend()\n",
        "# show the plot\n",
        "pyplot.show()"
      ],
      "execution_count": 36,
      "outputs": [
        {
          "output_type": "stream",
          "text": [
            "Logistic: f1=0.503 auc=0.645\n"
          ],
          "name": "stdout"
        },
        {
          "output_type": "display_data",
          "data": {
            "image/png": "[encoded data removed]",
            "text/plain": [
              "<Figure size 432x288 with 1 Axes>"
            ]
          },
          "metadata": {
            "tags": []
          }
        }
      ]
    },
    {
      "cell_type": "code",
      "metadata": {
        "id": "PXUVPFr-W3Pq",
        "colab_type": "code",
        "colab": {}
      },
      "source": [
        "import pandas as pd\n",
        "import numpy as np\n",
        "from sklearn import preprocessing\n",
        "import matplotlib.pyplot as plt \n",
        "plt.rc(\"font\", size=14)\n",
        "from sklearn.linear_model import LogisticRegression\n",
        "from sklearn.model_selection import train_test_split\n",
        "import seaborn as sns\n",
        "sns.set(style=\"white\")\n",
        "sns.set(style=\"whitegrid\", color_codes=True)"
      ],
      "execution_count": 0,
      "outputs": []
    },
    {
      "cell_type": "code",
      "metadata": {
        "id": "gM8_B7dyW3Pw",
        "colab_type": "code",
        "colab": {}
      },
      "source": [
        "from sklearn.decomposition import PCA\n",
        "from sklearn.preprocessing import StandardScaler\n",
        "# Separating out the features\n",
        "x = data.loc[:, to_keep].values\n",
        "# Separating out the target\n",
        "y = data.loc[:,['liquor_category_WHISKY']].values\n",
        "# Standardizing the features\n",
        "x = StandardScaler().fit_transform(x)\n",
        "\n",
        "pca = PCA(n_components=28)\n",
        "principalComponents = pca.fit_transform(x)\n",
        "principalDf = pd.DataFrame(data = principalComponents)\n",
        "#             , columns = ['principal component 1', 'principal component 2', '3',\n",
        "#                         '4', '5'])\n",
        "\n",
        "\n",
        "pca.explained_variance_ratio_\n",
        "finalDf = pd.concat([principalDf, data[['liquor_category_WHISKY']]], axis = 1)"
      ],
      "execution_count": 0,
      "outputs": []
    },
    {
      "cell_type": "code",
      "metadata": {
        "id": "G7F6o9MMW3P0",
        "colab_type": "code",
        "colab": {
          "base_uri": "https://localhost:8080/",
          "height": 285
        },
        "outputId": "13152bfa-f855-4672-879d-04bb4f67bb24"
      },
      "source": [
        "plt.plot(np.cumsum(pca.explained_variance_ratio_))\n",
        "plt.xlabel('number of components')\n",
        "plt.ylabel('cumulative explained variance');"
      ],
      "execution_count": 39,
      "outputs": [
        {
          "output_type": "display_data",
          "data": {
            "image/png": "[encoded data removed]",
            "text/plain": [
              "<Figure size 432x288 with 1 Axes>"
            ]
          },
          "metadata": {
            "tags": []
          }
        }
      ]
    },
    {
      "cell_type": "markdown",
      "metadata": {
        "id": "jbOTVlgAW3P3",
        "colab_type": "text"
      },
      "source": [
        "#### Logistic regression with PCA"
      ]
    },
    {
      "cell_type": "code",
      "metadata": {
        "id": "k60AtJf-W3P4",
        "colab_type": "code",
        "colab": {}
      },
      "source": [
        "#X = finalDf.loc[:, finalDf.columns != 'liquor_category_WHISKY']\n",
        "#y = finalDf.loc[:, finalDf.columns == 'liquor_category_WHISKY']\n",
        "\n",
        "X_train, X_test, y_train, y_test = train_test_split(x, y, test_size=0.2, random_state=0)\n",
        "#columns = X_train.columns"
      ],
      "execution_count": 0,
      "outputs": []
    },
    {
      "cell_type": "code",
      "metadata": {
        "id": "yVXKv20qW3P_",
        "colab_type": "code",
        "colab": {},
        "outputId": "5e920fdb-bc09-47e7-9d4e-f8a804388889"
      },
      "source": [
        "#X = data_final.loc[:, data_final.columns != 'liquor_category_WHISKY']\n",
        "#y = data_final.loc[:, data_final.columns == 'liquor_category_WHISKY']\n",
        "\n",
        "#X_train, X_test, y_train, y_test = train_test_split(X, y, test_size=0.2, random_state=0)\n",
        "#columns = X_train.columns\n",
        "\n",
        "\n",
        "from sklearn.linear_model import LogisticRegression\n",
        "# all parameters not specified are set to their defaults\n",
        "logisticRegr = LogisticRegression()\n",
        "\n",
        "logisticRegr.fit(X_train, y_train)"
      ],
      "execution_count": 0,
      "outputs": [
        {
          "output_type": "stream",
          "text": [
            "C:\\ProgramData\\Anaconda3\\lib\\site-packages\\sklearn\\utils\\validation.py:760: DataConversionWarning: A column-vector y was passed when a 1d array was expected. Please change the shape of y to (n_samples, ), for example using ravel().\n",
            "  y = column_or_1d(y, warn=True)\n"
          ],
          "name": "stderr"
        },
        {
          "output_type": "execute_result",
          "data": {
            "text/plain": [
              "LogisticRegression(C=1.0, class_weight=None, dual=False, fit_intercept=True,\n",
              "                   intercept_scaling=1, l1_ratio=None, max_iter=100,\n",
              "                   multi_class='auto', n_jobs=None, penalty='l2',\n",
              "                   random_state=None, solver='lbfgs', tol=0.0001, verbose=0,\n",
              "                   warm_start=False)"
            ]
          },
          "metadata": {
            "tags": []
          },
          "execution_count": 20
        }
      ]
    },
    {
      "cell_type": "code",
      "metadata": {
        "id": "qdpB_1yRW3QG",
        "colab_type": "code",
        "colab": {},
        "outputId": "44c158fe-b542-4020-bf0d-694d12c410cb"
      },
      "source": [
        "X_train"
      ],
      "execution_count": 0,
      "outputs": [
        {
          "output_type": "execute_result",
          "data": {
            "text/plain": [
              "array([[-0.70982155, -1.63157439, -0.64320084, ...,  0.59122401,\n",
              "        -1.54368399, -0.0464694 ],\n",
              "       [-0.70982155,  1.41605401, -0.39959531, ..., -0.05137568,\n",
              "         0.57302268, -0.0464694 ],\n",
              "       [-0.70982155,  1.41605401, -0.37252803, ...,  0.96712073,\n",
              "         1.38548835, -0.0464694 ],\n",
              "       ...,\n",
              "       [ 0.00594805,  0.07151207, -0.76008228, ...,  0.59122401,\n",
              "         0.67177423,  0.12256   ],\n",
              "       [-0.70982155,  1.41605401,  0.29062036, ...,  0.96712073,\n",
              "         1.38548835,  0.00793518],\n",
              "       [ 0.00594805, -0.37666858, -0.85112677, ...,  0.59122401,\n",
              "         0.45902237,  0.16031095]])"
            ]
          },
          "metadata": {
            "tags": []
          },
          "execution_count": 21
        }
      ]
    },
    {
      "cell_type": "code",
      "metadata": {
        "id": "SsA01C-yW3QK",
        "colab_type": "code",
        "colab": {}
      },
      "source": [
        "# Returns a NumPy Array\n",
        "predictions = logisticRegr.predict(X_test)"
      ],
      "execution_count": 0,
      "outputs": []
    },
    {
      "cell_type": "code",
      "metadata": {
        "id": "jwE2PHR0W3QP",
        "colab_type": "code",
        "colab": {},
        "outputId": "3e083dd5-c641-4d32-9c05-cc17af2f0edd"
      },
      "source": [
        "# Use score method to get accuracy of model\n",
        "score = logisticRegr.score(X_test, y_test)\n",
        "print(score)"
      ],
      "execution_count": 0,
      "outputs": [
        {
          "output_type": "stream",
          "text": [
            "1.0\n"
          ],
          "name": "stdout"
        }
      ]
    },
    {
      "cell_type": "code",
      "metadata": {
        "id": "2JqlkZ02W3QU",
        "colab_type": "code",
        "colab": {},
        "outputId": "d1423714-0c77-4e35-a811-f4392b202385"
      },
      "source": [
        "import matplotlib.pyplot as plt\n",
        "import seaborn as sns\n",
        "from sklearn import metrics\n",
        "cm = metrics.confusion_matrix(y_test, predictions)\n",
        "print(\"Confusion Matrix: \", '\\n', cm)"
      ],
      "execution_count": 0,
      "outputs": [
        {
          "output_type": "stream",
          "text": [
            "Confusion Matrix:  \n",
            " [[71677     0]\n",
            " [    0  8323]]\n"
          ],
          "name": "stdout"
        }
      ]
    },
    {
      "cell_type": "code",
      "metadata": {
        "id": "gPyF4KMkW3Qb",
        "colab_type": "code",
        "colab": {},
        "outputId": "efa0f3d4-cd36-42b7-9a86-4c2e8834fc60"
      },
      "source": [
        "from sklearn.metrics import roc_curve\n",
        "from sklearn.metrics import roc_auc_score\n",
        "# predict probabilities\n",
        "lr_probs = logisticRegr.predict_proba(X_test)\n",
        "ns_probs = [0 for _ in range(len(y_test))]\n",
        "# keep probabilities for the positive outcome only\n",
        "lr_probs = lr_probs[:, 1]\n",
        "# calculate scores\n",
        "ns_auc = roc_auc_score(y_test, ns_probs)\n",
        "lr_auc = roc_auc_score(y_test, lr_probs)\n",
        "# summarize scores\n",
        "print('No Skill: ROC AUC=%.3f' % (ns_auc))\n",
        "print('Logistic: ROC AUC=%.3f' % (lr_auc))\n",
        "# calculate roc curves\n",
        "ns_fpr, ns_tpr, _ = roc_curve(y_test, ns_probs)\n",
        "lr_fpr, lr_tpr, _ = roc_curve(y_test, lr_probs)"
      ],
      "execution_count": 0,
      "outputs": [
        {
          "output_type": "stream",
          "text": [
            "No Skill: ROC AUC=0.500\n",
            "Logistic: ROC AUC=0.905\n"
          ],
          "name": "stdout"
        }
      ]
    },
    {
      "cell_type": "code",
      "metadata": {
        "id": "O9lJ9z_OW3Qf",
        "colab_type": "code",
        "colab": {},
        "outputId": "be009ae6-86b2-447e-d21b-195178276e7d"
      },
      "source": [
        "from sklearn.metrics import precision_recall_curve\n",
        "from sklearn.metrics import f1_score\n",
        "from sklearn.metrics import auc\n",
        "# predict probabilities\n",
        "lr_probs = logisticRegr .predict_proba(X_test)\n",
        "# keep probabilities for the positive outcome only\n",
        "lr_probs = lr_probs[:, 1]\n",
        "# predict class values\n",
        "yhat = logisticRegr .predict(X_test)\n",
        "lr_precision, lr_recall, _ = precision_recall_curve(y_test, lr_probs)\n",
        "lr_f1, lr_auc = f1_score(y_test, yhat), auc(lr_recall, lr_precision)\n",
        "# summarize scores\n",
        "print('Logistic: f1=%.3f auc=%.3f' % (lr_f1, lr_auc))\n",
        "# plot the precision-recall curves\n",
        "no_skill = len(y_test[y_test==1]) / len(y_test)\n",
        "pyplot.plot([0, 1], [no_skill, no_skill], linestyle='--', label='No Skill')\n",
        "pyplot.plot(lr_recall, lr_precision, marker='.', label='Logistic')\n",
        "# axis labels\n",
        "pyplot.xlabel('Recall')\n",
        "pyplot.ylabel('Precision')\n",
        "# show the legend\n",
        "pyplot.legend()\n",
        "# show the plot\n",
        "pyplot.show()"
      ],
      "execution_count": 0,
      "outputs": [
        {
          "output_type": "stream",
          "text": [
            "Logistic: f1=1.000 auc=1.000\n"
          ],
          "name": "stdout"
        },
        {
          "output_type": "display_data",
          "data": {
            "image/png": "[encoded data removed]",
            "text/plain": [
              "<Figure size 432x288 with 1 Axes>"
            ]
          },
          "metadata": {
            "tags": []
          }
        }
      ]
    },
    {
      "cell_type": "markdown",
      "metadata": {
        "id": "wHz6SwIcW3Ql",
        "colab_type": "text"
      },
      "source": [
        "#### Support Vector Machine Model:"
      ]
    },
    {
      "cell_type": "code",
      "metadata": {
        "id": "SYhD2jyuW3Qn",
        "colab_type": "code",
        "colab": {},
        "outputId": "3060a4e7-0cd5-4a62-c038-9ad7be619085"
      },
      "source": [
        "#possibility to scale it?\n",
        "from sklearn import preprocessing\n",
        "X_train = preprocessing.scale(X_train)\n",
        "X_test = preprocessing.scale(X_test)\n",
        "\n",
        "# all parameters not specified are set to their defaults\n",
        "#https://stackabuse.com/implementing-svm-and-kernel-svm-with-pythons-scikit-learn/\n",
        "from sklearn.svm import SVC\n",
        "#svclassifier = SVC(kernel='poly', degree=8)\n",
        "#svclassifier = SVC(kernel='rbf')\n",
        "svclassifier = SVC(kernel='linear')\n",
        "svclassifier.fit(X_train, y_train)"
      ],
      "execution_count": 0,
      "outputs": [
        {
          "output_type": "stream",
          "text": [
            "C:\\ProgramData\\Anaconda3\\lib\\site-packages\\sklearn\\utils\\validation.py:760: DataConversionWarning: A column-vector y was passed when a 1d array was expected. Please change the shape of y to (n_samples, ), for example using ravel().\n",
            "  y = column_or_1d(y, warn=True)\n"
          ],
          "name": "stderr"
        },
        {
          "output_type": "execute_result",
          "data": {
            "text/plain": [
              "SVC(C=1.0, break_ties=False, cache_size=200, class_weight=None, coef0=0.0,\n",
              "    decision_function_shape='ovr', degree=3, gamma='scale', kernel='linear',\n",
              "    max_iter=-1, probability=False, random_state=None, shrinking=True,\n",
              "    tol=0.001, verbose=False)"
            ]
          },
          "metadata": {
            "tags": []
          },
          "execution_count": 26
        }
      ]
    },
    {
      "cell_type": "code",
      "metadata": {
        "id": "5qve9SP-W3Qu",
        "colab_type": "code",
        "colab": {},
        "outputId": "954ec4cc-a946-48c8-f7e5-8aded2544c83"
      },
      "source": [
        "# Returns a NumPy Array\n",
        "predictions = svclassifier.predict(X_test)\n",
        "from sklearn.metrics import classification_report, confusion_matrix\n",
        "print(confusion_matrix(y_test, predictions))\n",
        "print(classification_report(y_test, predictions))"
      ],
      "execution_count": 0,
      "outputs": [
        {
          "output_type": "stream",
          "text": [
            "[[71677     0]\n",
            " [    0  8323]]\n",
            "              precision    recall  f1-score   support\n",
            "\n",
            "           0       1.00      1.00      1.00     71677\n",
            "           1       1.00      1.00      1.00      8323\n",
            "\n",
            "    accuracy                           1.00     80000\n",
            "   macro avg       1.00      1.00      1.00     80000\n",
            "weighted avg       1.00      1.00      1.00     80000\n",
            "\n"
          ],
          "name": "stdout"
        }
      ]
    },
    {
      "cell_type": "markdown",
      "metadata": {
        "id": "Sw8khWHJW3Q1",
        "colab_type": "text"
      },
      "source": [
        "### Advantages  [10 points] \n",
        "Discuss the advantages of each model for each classification task. Does one\n",
        "type of model offer superior performance over another in terms of prediction accuracy? In\n",
        "terms of training time or efficiency? Explain in detail.  \n",
        " \n"
      ]
    },
    {
      "cell_type": "markdown",
      "metadata": {
        "id": "j72cdCVOW3Q2",
        "colab_type": "text"
      },
      "source": [
        "###  Interpret  [30 points] \n",
        "Use the weights from logistic regression to interpret the importance of different\n",
        "features for the classification task. Explain your interpretation in detail. Why do you think\n",
        "some variables are more important? "
      ]
    },
    {
      "cell_type": "markdown",
      "metadata": {
        "id": "CLRFZkc6W3Q4",
        "colab_type": "text"
      },
      "source": [
        "### Insight into the data [10 points]\n",
        "Look at the chosen support vectors for the classification task. Do these provide\n",
        "any insight into the data? Explain. If you used stochastic gradient descent (and therefore did\n",
        "not explicitly solve for support vectors), try subsampling your data to train the SVC model—\n",
        "then analyze the support vectors from the subsampled dataset. "
      ]
    },
    {
      "cell_type": "code",
      "metadata": {
        "id": "jOFBdIo_W3Q6",
        "colab_type": "code",
        "colab": {}
      },
      "source": [
        ""
      ],
      "execution_count": 0,
      "outputs": []
    }
  ]
}