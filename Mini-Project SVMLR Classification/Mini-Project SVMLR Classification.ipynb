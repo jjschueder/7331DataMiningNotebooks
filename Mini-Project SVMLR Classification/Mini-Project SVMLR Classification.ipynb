{
  "nbformat": 4,
  "nbformat_minor": 0,
  "metadata": {
    "kernelspec": {
      "display_name": "Python 3",
      "language": "python",
      "name": "python3"
    },
    "language_info": {
      "codemirror_mode": {
        "name": "ipython",
        "version": 3
      },
      "file_extension": ".py",
      "mimetype": "text/x-python",
      "name": "python",
      "nbconvert_exporter": "python",
      "pygments_lexer": "ipython3",
      "version": "3.7.1"
    },
    "colab": {
      "name": "Mini-Project SVMLR Classification.ipynb",
      "provenance": []
    }
  },
  "cells": [
    {
      "cell_type": "markdown",
      "metadata": {
        "id": "2izOCks4W3NN",
        "colab_type": "text"
      },
      "source": [
        "# Mini-Project: SVM&LR Classification\n",
        "\n",
        "Team Members: Joe Schueder, Armando Vela, Jeff Washburn, Daniel Clark\n",
        "\n",
        "\n",
        "You are to perform predictive analysis (classification) upon a data set: model the dataset using\n",
        "methods we have discussed in class: logistic regression & support vector machines and making\n",
        "conclusions from the analysis. Follow the CRISP-DM framework in your analysis (you are not\n",
        "performing all of the CRISP-DM outline, only the portions relevant to the grading rubric outlined\n",
        "below). This report is worth 10% of the final grade. You may complete this assignment in teams\n",
        "of as many as three people.\n",
        "Write a report covering all the steps of the project. The format of the document can be PDF,\n",
        "*.ipynb, or HTML. You can write the report in whatever format you like, but it is easiest to turn in\n",
        "the rendered Jupyter notebook. The results should be reproducible using your report. Please\n",
        "carefully describe every assumption and every step in your report.\n",
        "A note on grading: A common mistake I see in this lab is not investigating different input\n",
        "parameters for each model. Try a number of parameter combinations and discuss how the model changed. "
      ]
    },
    {
      "cell_type": "markdown",
      "metadata": {
        "id": "wA5h4w_CW3NR",
        "colab_type": "text"
      },
      "source": [
        "## SVM and Logistic Regression Modeling\n"
      ]
    },
    {
      "cell_type": "markdown",
      "metadata": {
        "id": "t3sH_UinW3NV",
        "colab_type": "text"
      },
      "source": [
        "### Create Models [50 points] \n",
        "Create a logistic regression model and a support vector machine model for the\n",
        "classification task involved with your dataset. Assess how well each model performs (use\n",
        "80/20 training/testing split for your data). Adjust parameters of the models to make them\n",
        "more accurate. If your dataset size requires the use of stochastic gradient descent, then\n",
        "linear kernel only is fine to use. That is, the SGDClassifier is fine to use for optimizing\n",
        "logistic regression and linear support vector machines. For many problems, SGD will be\n",
        "required in order to train the SVM model in a reasonable timeframe.   "
      ]
    },
    {
      "cell_type": "code",
      "metadata": {
        "id": "PU-jtFAqW3NX",
        "colab_type": "code",
        "colab": {}
      },
      "source": [
        "import pandas as pd\n",
        "import numpy as np\n",
        "from sklearn import preprocessing\n",
        "import matplotlib.pyplot as plt \n",
        "plt.rc(\"font\", size=14)\n",
        "from sklearn.linear_model import LogisticRegression\n",
        "from sklearn.model_selection import train_test_split\n",
        "import seaborn as sns\n",
        "sns.set(style=\"white\")\n",
        "sns.set(style=\"whitegrid\", color_codes=True)"
      ],
      "execution_count": 0,
      "outputs": []
    },
    {
      "cell_type": "code",
      "metadata": {
        "id": "mivzi0J4W3Nk",
        "colab_type": "code",
        "colab": {}
      },
      "source": [
        "#read data from github repository\n",
        "#this data was produced from the Iowa Alcohol Dataset 2019 year data\n",
        "#It was cleansed and transformed in this notebook and exported as a csv to github for use here.\n",
        "#source python notebook: https://github.com/jjschueder/7331DataMiningNotebooks/blob/master/lab1/msds7331_clark_schueder_vela_washburn.ipynb\n",
        "# read csv from github directly\n",
        "url_dataset = 'https://github.com/jjschueder/7331DataMiningNotebooks/blob/master/Live%20Assignment%201/df1hotmerge2.csv?raw=true'\n",
        "#df = pd.read_csv(url_dataset, nrows=50000)\n",
        "data = pd.read_csv(url_dataset)"
      ],
      "execution_count": 0,
      "outputs": []
    },
    {
      "cell_type": "code",
      "metadata": {
        "id": "Kh7_ZzabW3Ns",
        "colab_type": "code",
        "outputId": "7596aabc-69cc-4ef8-8c5a-c63b9da8b9ee",
        "colab": {
          "base_uri": "https://localhost:8080/",
          "height": 71
        }
      },
      "source": [
        "print(data.shape)\n",
        "print(list(data.columns))"
      ],
      "execution_count": 3,
      "outputs": [
        {
          "output_type": "stream",
          "text": [
            "(400000, 68)\n",
            "['Unnamed: 0', 'pack', 'bottle_volume_ml', 'state_bottle_cost', 'state_bottle_retail', 'bottles_sold', 'sale_dollars', 'volume_sold_liters', 'volume_sold_gallons', 'counter', 'liquor_category', 'store_parent', 'month', 'year', 'monthyear', 'liquor_category_AMARETTO', 'liquor_category_BRANDY', 'liquor_category_GIN', 'liquor_category_LIQUEUR', 'liquor_category_Other', 'liquor_category_RUM', 'liquor_category_SCHNAPPS', 'liquor_category_TEQUILA', 'liquor_category_VODKA', 'liquor_category_WHISKY', 'store_parent_CVS', 'store_parent_Caseys', 'store_parent_Hy-Vee', 'store_parent_Kum&Go', 'store_parent_Other', 'store_parent_QuikTrip', 'store_parent_SamsClub', 'store_parent_SmokingJoes', 'store_parent_Target', 'store_parent_Wal-Mart', 'store_parent_Walgreens', 'month_Apr', 'month_Aug', 'month_Dec', 'month_Feb', 'month_Jan', 'month_Jul', 'month_Jun', 'month_Mar', 'month_May', 'month_Nov', 'month_Oct', 'month_Sep', 'year_2019', 'monthyear_Apr-2019', 'monthyear_Aug-2019', 'monthyear_Dec-2019', 'monthyear_Feb-2019', 'monthyear_Jan-2019', 'monthyear_Jul-2019', 'monthyear_Jun-2019', 'monthyear_Mar-2019', 'monthyear_May-2019', 'monthyear_Nov-2019', 'monthyear_Oct-2019', 'monthyear_Sep-2019', 'sale_dollars_trans', 'cost_per_liter', 'cost_per_liter_trans', 'state_bottle_cost_trans', 'bottles_sold_trans', 'volume_sold_liters_trans', 'grossmargin']\n"
          ],
          "name": "stdout"
        }
      ]
    },
    {
      "cell_type": "code",
      "metadata": {
        "id": "doNdflnwW3N1",
        "colab_type": "code",
        "outputId": "2b20f063-03fb-4db0-d521-4522de93d4b1",
        "colab": {
          "base_uri": "https://localhost:8080/",
          "height": 51
        }
      },
      "source": [
        "data = data.drop(columns = ['Unnamed: 0'])\n",
        "count_not_whiskey = len(data[data['liquor_category_WHISKY']==0])\n",
        "count_whiskey = len(data[data['liquor_category_WHISKY']==1])\n",
        "pct_of_no_whiskey = count_not_whiskey/(count_not_whiskey+count_whiskey)\n",
        "print(\"percentage of not whiskey is\", pct_of_no_whiskey*100)\n",
        "pct_of_whiskey = count_whiskey/(count_not_whiskey+count_whiskey)\n",
        "print(\"percentage of whiskey\", pct_of_whiskey*100)"
      ],
      "execution_count": 4,
      "outputs": [
        {
          "output_type": "stream",
          "text": [
            "percentage of not whiskey is 89.56125\n",
            "percentage of whiskey 10.438749999999999\n"
          ],
          "name": "stdout"
        }
      ]
    },
    {
      "cell_type": "markdown",
      "metadata": {
        "id": "vx0vjzRBf1uD",
        "colab_type": "text"
      },
      "source": [
        "**For teams to discuss tonight. A 10% representation of whiskey is going to make running a logistic regression model a little tricky. With this distribution, a model can simply classify 0 for every instance and get a 89% accuracy rate, which isn't necessarily rewarding it's machine learning technique for accurately guessing Whiskies. It is also going to make our AUC no skill lines kind of misleading.**\n",
        "\n",
        "https://stats.stackexchange.com/questions/66753/do-i-need-a-balanced-sample-50-yes-50-no-to-run-logistic-regression\n",
        "\n",
        "**It might be worth subsetting our distribution so that we have closer to 50% whiskies and 50% non whiskies so we can actually test which is driving performance. Alternatively, we can make our models cost sensitive as per the blow and weight them by a 1:10 ratio**\n",
        "\n",
        "https://machinelearningmastery.com/cost-sensitive-logistic-regression/"
      ]
    },
    {
      "cell_type": "code",
      "metadata": {
        "id": "ZRzZCisiW3N8",
        "colab_type": "code",
        "outputId": "3651cb62-9eae-4bf1-db69-59e663d6693d",
        "colab": {
          "base_uri": "https://localhost:8080/",
          "height": 289
        }
      },
      "source": [
        "cat_vars=['counter', 'liquor_category', 'store_parent',\n",
        " 'month', 'year', 'monthyear', 'liquor_category_AMARETTO', 'liquor_category_BRANDY', 'liquor_category_GIN', \n",
        " 'liquor_category_LIQUEUR', 'liquor_category_Other', 'liquor_category_RUM', 'liquor_category_SCHNAPPS', \n",
        " 'liquor_category_TEQUILA', 'liquor_category_VODKA', 'month_Apr', 'month_Aug', 'month_Dec', 'month_Feb',\n",
        " 'month_Jan', 'month_Jul', 'month_Jun', 'month_Mar', 'month_May', 'month_Nov', 'month_Oct', 'month_Sep']\n",
        "data_vars=data.columns.values.tolist()\n",
        "to_keep=[i for i in data_vars if i not in cat_vars]\n",
        "\n",
        "data_final=data[to_keep]\n",
        "data_final.columns.values"
      ],
      "execution_count": 5,
      "outputs": [
        {
          "output_type": "execute_result",
          "data": {
            "text/plain": [
              "array(['pack', 'bottle_volume_ml', 'state_bottle_cost',\n",
              "       'state_bottle_retail', 'bottles_sold', 'sale_dollars',\n",
              "       'volume_sold_liters', 'volume_sold_gallons',\n",
              "       'liquor_category_WHISKY', 'store_parent_CVS',\n",
              "       'store_parent_Caseys', 'store_parent_Hy-Vee',\n",
              "       'store_parent_Kum&Go', 'store_parent_Other',\n",
              "       'store_parent_QuikTrip', 'store_parent_SamsClub',\n",
              "       'store_parent_SmokingJoes', 'store_parent_Target',\n",
              "       'store_parent_Wal-Mart', 'store_parent_Walgreens', 'year_2019',\n",
              "       'monthyear_Apr-2019', 'monthyear_Aug-2019', 'monthyear_Dec-2019',\n",
              "       'monthyear_Feb-2019', 'monthyear_Jan-2019', 'monthyear_Jul-2019',\n",
              "       'monthyear_Jun-2019', 'monthyear_Mar-2019', 'monthyear_May-2019',\n",
              "       'monthyear_Nov-2019', 'monthyear_Oct-2019', 'monthyear_Sep-2019',\n",
              "       'sale_dollars_trans', 'cost_per_liter', 'cost_per_liter_trans',\n",
              "       'state_bottle_cost_trans', 'bottles_sold_trans',\n",
              "       'volume_sold_liters_trans', 'grossmargin'], dtype=object)"
            ]
          },
          "metadata": {
            "tags": []
          },
          "execution_count": 5
        }
      ]
    },
    {
      "cell_type": "markdown",
      "metadata": {
        "id": "hPxAps_3W3OE",
        "colab_type": "text"
      },
      "source": [
        "#### Logistic Regression model:"
      ]
    },
    {
      "cell_type": "code",
      "metadata": {
        "id": "M0Wb7EKaW3OF",
        "colab_type": "code",
        "outputId": "7b8a9e06-3338-4a16-9206-f336b9864dad",
        "colab": {
          "base_uri": "https://localhost:8080/",
          "height": 292
        }
      },
      "source": [
        "X = data_final.loc[:, data_final.columns != 'liquor_category_WHISKY']\n",
        "y = data_final.loc[:, data_final.columns == 'liquor_category_WHISKY']\n",
        "\n",
        "X_train, X_test, y_train, y_test = train_test_split(X, y, test_size=0.2, random_state=0)\n",
        "columns = X_train.columns\n",
        "\n",
        "\n",
        "from sklearn.linear_model import LogisticRegression\n",
        "# all parameters not specified are set to their defaults\n",
        "weights = {0:1.0, 1:10.0}\n",
        "logisticRegr = LogisticRegression(solver='lbfgs', class_weight=weights)\n",
        "\n",
        "logisticRegr.fit(X_train, y_train)"
      ],
      "execution_count": 6,
      "outputs": [
        {
          "output_type": "stream",
          "text": [
            "/usr/local/lib/python3.6/dist-packages/sklearn/utils/validation.py:760: DataConversionWarning: A column-vector y was passed when a 1d array was expected. Please change the shape of y to (n_samples, ), for example using ravel().\n",
            "  y = column_or_1d(y, warn=True)\n",
            "/usr/local/lib/python3.6/dist-packages/sklearn/linear_model/_logistic.py:940: ConvergenceWarning: lbfgs failed to converge (status=1):\n",
            "STOP: TOTAL NO. of ITERATIONS REACHED LIMIT.\n",
            "\n",
            "Increase the number of iterations (max_iter) or scale the data as shown in:\n",
            "    https://scikit-learn.org/stable/modules/preprocessing.html\n",
            "Please also refer to the documentation for alternative solver options:\n",
            "    https://scikit-learn.org/stable/modules/linear_model.html#logistic-regression\n",
            "  extra_warning_msg=_LOGISTIC_SOLVER_CONVERGENCE_MSG)\n"
          ],
          "name": "stderr"
        },
        {
          "output_type": "execute_result",
          "data": {
            "text/plain": [
              "LogisticRegression(C=1.0, class_weight={0: 1.0, 1: 10.0}, dual=False,\n",
              "                   fit_intercept=True, intercept_scaling=1, l1_ratio=None,\n",
              "                   max_iter=100, multi_class='auto', n_jobs=None, penalty='l2',\n",
              "                   random_state=None, solver='lbfgs', tol=0.0001, verbose=0,\n",
              "                   warm_start=False)"
            ]
          },
          "metadata": {
            "tags": []
          },
          "execution_count": 6
        }
      ]
    },
    {
      "cell_type": "code",
      "metadata": {
        "id": "bLfookt4W3OK",
        "colab_type": "code",
        "outputId": "1bf7ab5d-1aca-417d-a152-8fe21a0a4ef2",
        "colab": {
          "base_uri": "https://localhost:8080/",
          "height": 187
        }
      },
      "source": [
        "coef = logisticRegr.coef_[0]\n",
        "classes = logisticRegr.classes_[0]\n",
        "intercept = logisticRegr.intercept_[0]\n",
        "print (coef)"
      ],
      "execution_count": 7,
      "outputs": [
        {
          "output_type": "stream",
          "text": [
            "[-5.02060197e-02 -2.17884869e-03  8.06142989e-02  9.31515899e-02\n",
            " -4.32046040e-03  2.74156089e-03 -5.06362655e-02 -1.41771768e-02\n",
            "  1.01609181e-02 -1.05182404e-01  3.40527837e-01 -1.36127582e-01\n",
            " -4.31554992e-02 -2.67995629e-02  2.77420555e-02 -3.15489924e-02\n",
            " -5.14533960e-03 -5.73843494e-02 -1.74947732e-02 -4.44076919e-02\n",
            " -4.95380373e-02  2.03714830e-02 -2.21288202e-03  3.36236591e-05\n",
            " -2.75482260e-02 -4.04620252e-02 -3.23298756e-02  2.53288362e-02\n",
            " -2.05475036e-02  2.71944393e-02  5.00447421e-02  5.25773363e-03\n",
            " -1.84337718e-02 -8.57362242e-03  2.02554332e-02  2.10287193e-01\n",
            " -2.09969252e-01 -3.86892052e-02 -1.50862556e-02]\n"
          ],
          "name": "stdout"
        }
      ]
    },
    {
      "cell_type": "code",
      "metadata": {
        "id": "hil5UyLKW3OV",
        "colab_type": "code",
        "outputId": "81cfdf7e-d71d-422c-b317-c3acc04d6539",
        "colab": {
          "base_uri": "https://localhost:8080/",
          "height": 34
        }
      },
      "source": [
        "intercept"
      ],
      "execution_count": 8,
      "outputs": [
        {
          "output_type": "execute_result",
          "data": {
            "text/plain": [
              "-0.044407987312781054"
            ]
          },
          "metadata": {
            "tags": []
          },
          "execution_count": 8
        }
      ]
    },
    {
      "cell_type": "code",
      "metadata": {
        "id": "V9Z6q2mGW3Or",
        "colab_type": "code",
        "outputId": "9d8439c5-6243-472a-f999-859eff10cc56",
        "colab": {
          "base_uri": "https://localhost:8080/",
          "height": 272
        }
      },
      "source": [
        "# Returns a NumPy Array\n",
        "predictions = logisticRegr.predict(X_test)\n",
        "\n",
        "params =logisticRegr.get_params(deep=True)\n",
        "params"
      ],
      "execution_count": 9,
      "outputs": [
        {
          "output_type": "execute_result",
          "data": {
            "text/plain": [
              "{'C': 1.0,\n",
              " 'class_weight': {0: 1.0, 1: 10.0},\n",
              " 'dual': False,\n",
              " 'fit_intercept': True,\n",
              " 'intercept_scaling': 1,\n",
              " 'l1_ratio': None,\n",
              " 'max_iter': 100,\n",
              " 'multi_class': 'auto',\n",
              " 'n_jobs': None,\n",
              " 'penalty': 'l2',\n",
              " 'random_state': None,\n",
              " 'solver': 'lbfgs',\n",
              " 'tol': 0.0001,\n",
              " 'verbose': 0,\n",
              " 'warm_start': False}"
            ]
          },
          "metadata": {
            "tags": []
          },
          "execution_count": 9
        }
      ]
    },
    {
      "cell_type": "code",
      "metadata": {
        "id": "KwxDHuxXW3O4",
        "colab_type": "code",
        "outputId": "1bcbf073-69d7-49a5-c937-199ab3aad0ca",
        "colab": {
          "base_uri": "https://localhost:8080/",
          "height": 419
        }
      },
      "source": [
        "decfunct = pd.DataFrame(logisticRegr.decision_function(X_test))\n",
        "decfunct"
      ],
      "execution_count": 10,
      "outputs": [
        {
          "output_type": "execute_result",
          "data": {
            "text/html": [
              "<div>\n",
              "<style scoped>\n",
              "    .dataframe tbody tr th:only-of-type {\n",
              "        vertical-align: middle;\n",
              "    }\n",
              "\n",
              "    .dataframe tbody tr th {\n",
              "        vertical-align: top;\n",
              "    }\n",
              "\n",
              "    .dataframe thead th {\n",
              "        text-align: right;\n",
              "    }\n",
              "</style>\n",
              "<table border=\"1\" class=\"dataframe\">\n",
              "  <thead>\n",
              "    <tr style=\"text-align: right;\">\n",
              "      <th></th>\n",
              "      <th>0</th>\n",
              "    </tr>\n",
              "  </thead>\n",
              "  <tbody>\n",
              "    <tr>\n",
              "      <th>0</th>\n",
              "      <td>-0.795951</td>\n",
              "    </tr>\n",
              "    <tr>\n",
              "      <th>1</th>\n",
              "      <td>2.968948</td>\n",
              "    </tr>\n",
              "    <tr>\n",
              "      <th>2</th>\n",
              "      <td>-2.431085</td>\n",
              "    </tr>\n",
              "    <tr>\n",
              "      <th>3</th>\n",
              "      <td>-0.963932</td>\n",
              "    </tr>\n",
              "    <tr>\n",
              "      <th>4</th>\n",
              "      <td>-1.026614</td>\n",
              "    </tr>\n",
              "    <tr>\n",
              "      <th>...</th>\n",
              "      <td>...</td>\n",
              "    </tr>\n",
              "    <tr>\n",
              "      <th>79995</th>\n",
              "      <td>0.383303</td>\n",
              "    </tr>\n",
              "    <tr>\n",
              "      <th>79996</th>\n",
              "      <td>-3.828084</td>\n",
              "    </tr>\n",
              "    <tr>\n",
              "      <th>79997</th>\n",
              "      <td>-2.983320</td>\n",
              "    </tr>\n",
              "    <tr>\n",
              "      <th>79998</th>\n",
              "      <td>-2.465162</td>\n",
              "    </tr>\n",
              "    <tr>\n",
              "      <th>79999</th>\n",
              "      <td>2.784708</td>\n",
              "    </tr>\n",
              "  </tbody>\n",
              "</table>\n",
              "<p>80000 rows × 1 columns</p>\n",
              "</div>"
            ],
            "text/plain": [
              "              0\n",
              "0     -0.795951\n",
              "1      2.968948\n",
              "2     -2.431085\n",
              "3     -0.963932\n",
              "4     -1.026614\n",
              "...         ...\n",
              "79995  0.383303\n",
              "79996 -3.828084\n",
              "79997 -2.983320\n",
              "79998 -2.465162\n",
              "79999  2.784708\n",
              "\n",
              "[80000 rows x 1 columns]"
            ]
          },
          "metadata": {
            "tags": []
          },
          "execution_count": 10
        }
      ]
    },
    {
      "cell_type": "code",
      "metadata": {
        "id": "tsHiJj74W3PL",
        "colab_type": "code",
        "outputId": "2a50b234-dd5a-47a0-a936-a210016be491",
        "colab": {
          "base_uri": "https://localhost:8080/",
          "height": 34
        }
      },
      "source": [
        "# Use score method to get accuracy of model\n",
        "score = logisticRegr.score(X_test, y_test)\n",
        "print(score)"
      ],
      "execution_count": 11,
      "outputs": [
        {
          "output_type": "stream",
          "text": [
            "0.828225\n"
          ],
          "name": "stdout"
        }
      ]
    },
    {
      "cell_type": "markdown",
      "metadata": {
        "id": "Z6Y0hB6peaZ3",
        "colab_type": "text"
      },
      "source": [
        "Doing a quick comparision against the raw distribution of our dataset and our classification model, we can see that our logistic regression model accuracy 92% was better than if our model selected 0 for each datapoint (89%).\n"
      ]
    },
    {
      "cell_type": "code",
      "metadata": {
        "id": "NG8qwjf9W3PS",
        "colab_type": "code",
        "outputId": "5be25c54-f5cb-47c0-fe9b-3eae2b3d9644",
        "colab": {
          "base_uri": "https://localhost:8080/",
          "height": 68
        }
      },
      "source": [
        "import matplotlib.pyplot as plt\n",
        "import seaborn as sns\n",
        "from sklearn import metrics\n",
        "cm = metrics.confusion_matrix(y_test, predictions)\n",
        "print(\"Confusion Matrix: \", '\\n', cm)"
      ],
      "execution_count": 12,
      "outputs": [
        {
          "output_type": "stream",
          "text": [
            "Confusion Matrix:  \n",
            " [[59190 12487]\n",
            " [ 1255  7068]]\n"
          ],
          "name": "stdout"
        }
      ]
    },
    {
      "cell_type": "markdown",
      "metadata": {
        "id": "iRHGwDEqW3PX",
        "colab_type": "text"
      },
      "source": [
        "ROC Curves and AUC in Python\n",
        "https://machinelearningmastery.com/roc-curves-and-precision-recall-curves-for-classification-in-python/\n",
        "\n",
        "When to Use ROC vs. Precision-Recall Curves? Generally, the use of ROC curves and precision-recall curves are as follows:\n",
        "\n",
        "ROC curves should be used when there are roughly equal numbers of observations for each class. Precision-Recall curves should be used when there is a moderate to large class imbalance."
      ]
    },
    {
      "cell_type": "code",
      "metadata": {
        "id": "pJgpX0HaW3PZ",
        "colab_type": "code",
        "outputId": "f1799848-b0bb-4959-fd18-c7a412ef3176",
        "colab": {
          "base_uri": "https://localhost:8080/",
          "height": 51
        }
      },
      "source": [
        "from sklearn.metrics import roc_curve\n",
        "from sklearn.metrics import roc_auc_score\n",
        "# predict probabilities\n",
        "lr_probs = logisticRegr.predict_proba(X_test)\n",
        "ns_probs = [0 for _ in range(len(y_test))]\n",
        "# keep probabilities for the positive outcome only\n",
        "lr_probs = lr_probs[:, 1]\n",
        "# calculate scores\n",
        "ns_auc = roc_auc_score(y_test, ns_probs)\n",
        "lr_auc = roc_auc_score(y_test, lr_probs)\n",
        "# summarize scores\n",
        "print('No Skill: ROC AUC=%.3f' % (ns_auc))\n",
        "print('Logistic: ROC AUC=%.3f' % (lr_auc))\n",
        "# calculate roc curves\n",
        "ns_fpr, ns_tpr, _ = roc_curve(y_test, ns_probs)\n",
        "lr_fpr, lr_tpr, _ = roc_curve(y_test, lr_probs)"
      ],
      "execution_count": 13,
      "outputs": [
        {
          "output_type": "stream",
          "text": [
            "No Skill: ROC AUC=0.500\n",
            "Logistic: ROC AUC=0.904\n"
          ],
          "name": "stdout"
        }
      ]
    },
    {
      "cell_type": "code",
      "metadata": {
        "id": "SMrEB_d-W3Pf",
        "colab_type": "code",
        "outputId": "4c8ca3ef-140e-4540-9af5-a08abf80a468",
        "colab": {
          "base_uri": "https://localhost:8080/",
          "height": 285
        }
      },
      "source": [
        "from matplotlib import pyplot\n",
        "# calculate roc curves\n",
        "ns_fpr, ns_tpr, _ = roc_curve(y_test, ns_probs)\n",
        "lr_fpr, lr_tpr, _ = roc_curve(y_test, lr_probs)\n",
        "# plot the roc curve for the model\n",
        "pyplot.plot(ns_fpr, ns_tpr, linestyle='--', label='No Skill')\n",
        "pyplot.plot(lr_fpr, lr_tpr, marker='.', label='Logistic')\n",
        "# axis labels\n",
        "pyplot.xlabel('False Positive Rate')\n",
        "pyplot.ylabel('True Positive Rate')\n",
        "# show the legend\n",
        "pyplot.legend()\n",
        "# show the plot\n",
        "pyplot.show()"
      ],
      "execution_count": 14,
      "outputs": [
        {
          "output_type": "display_data",
          "data": {
            "image/png": "[encoded data removed]",
            "text/plain": [
              "<Figure size 432x288 with 1 Axes>"
            ]
          },
          "metadata": {
            "tags": []
          }
        }
      ]
    },
    {
      "cell_type": "code",
      "metadata": {
        "id": "R-_5w6XMW3Pm",
        "colab_type": "code",
        "outputId": "64555d4f-e3eb-421d-ff5e-763d0ec7bf46",
        "colab": {
          "base_uri": "https://localhost:8080/",
          "height": 302
        }
      },
      "source": [
        "from sklearn.metrics import precision_recall_curve\n",
        "from sklearn.metrics import f1_score\n",
        "from sklearn.metrics import auc\n",
        "# predict probabilities\n",
        "lr_probs = logisticRegr .predict_proba(X_test)\n",
        "# keep probabilities for the positive outcome only\n",
        "lr_probs = lr_probs[:, 1]\n",
        "# predict class values\n",
        "yhat = logisticRegr .predict(X_test)\n",
        "lr_precision, lr_recall, _ = precision_recall_curve(y_test, lr_probs)\n",
        "lr_f1, lr_auc = f1_score(y_test, yhat), auc(lr_recall, lr_precision)\n",
        "# summarize scores\n",
        "print('Logistic: f1=%.3f auc=%.3f' % (lr_f1, lr_auc))\n",
        "# plot the precision-recall curves\n",
        "no_skill = len(y_test[y_test==1]) / len(y_test)\n",
        "pyplot.plot([0, 1], [no_skill, no_skill], linestyle='--', label='No Skill')\n",
        "pyplot.plot(lr_recall, lr_precision, marker='.', label='Logistic')\n",
        "# axis labels\n",
        "pyplot.xlabel('Recall')\n",
        "pyplot.ylabel('Precision')\n",
        "# show the legend\n",
        "pyplot.legend()\n",
        "# show the plot\n",
        "pyplot.show()"
      ],
      "execution_count": 15,
      "outputs": [
        {
          "output_type": "stream",
          "text": [
            "Logistic: f1=0.507 auc=0.631\n"
          ],
          "name": "stdout"
        },
        {
          "output_type": "display_data",
          "data": {
            "image/png": "[encoded data removed]",
            "text/plain": [
              "<Figure size 432x288 with 1 Axes>"
            ]
          },
          "metadata": {
            "tags": []
          }
        }
      ]
    },
    {
      "cell_type": "code",
      "metadata": {
        "id": "PXUVPFr-W3Pq",
        "colab_type": "code",
        "colab": {}
      },
      "source": [
        "import pandas as pd\n",
        "import numpy as np\n",
        "from sklearn import preprocessing\n",
        "import matplotlib.pyplot as plt \n",
        "plt.rc(\"font\", size=14)\n",
        "from sklearn.linear_model import LogisticRegression\n",
        "from sklearn.model_selection import train_test_split\n",
        "import seaborn as sns\n",
        "sns.set(style=\"white\")\n",
        "sns.set(style=\"whitegrid\", color_codes=True)"
      ],
      "execution_count": 0,
      "outputs": []
    },
    {
      "cell_type": "code",
      "metadata": {
        "id": "gM8_B7dyW3Pw",
        "colab_type": "code",
        "colab": {}
      },
      "source": [
        "from sklearn.decomposition import PCA\n",
        "from sklearn.preprocessing import StandardScaler\n",
        "# Separating out the features\n",
        "x = data.loc[:, to_keep].values\n",
        "# Separating out the target\n",
        "y = data.loc[:,['liquor_category_WHISKY']].values\n",
        "# Standardizing the features\n",
        "x = StandardScaler().fit_transform(x)\n",
        "\n",
        "pca = PCA(n_components=28)\n",
        "principalComponents = pca.fit_transform(x)\n",
        "principalDf = pd.DataFrame(data = principalComponents)\n",
        "#             , columns = ['principal component 1', 'principal component 2', '3',\n",
        "#                         '4', '5'])\n",
        "\n",
        "\n",
        "pca.explained_variance_ratio_\n",
        "finalDf = pd.concat([principalDf, data[['liquor_category_WHISKY']]], axis = 1)"
      ],
      "execution_count": 0,
      "outputs": []
    },
    {
      "cell_type": "code",
      "metadata": {
        "id": "G7F6o9MMW3P0",
        "colab_type": "code",
        "outputId": "d1faa1bb-0c8b-45fa-a8cf-42d4ab211e0b",
        "colab": {
          "base_uri": "https://localhost:8080/",
          "height": 285
        }
      },
      "source": [
        "plt.plot(np.cumsum(pca.explained_variance_ratio_))\n",
        "plt.xlabel('number of components')\n",
        "plt.ylabel('cumulative explained variance');"
      ],
      "execution_count": 18,
      "outputs": [
        {
          "output_type": "display_data",
          "data": {
            "image/png": "[encoded data removed]",
            "text/plain": [
              "<Figure size 432x288 with 1 Axes>"
            ]
          },
          "metadata": {
            "tags": []
          }
        }
      ]
    },
    {
      "cell_type": "markdown",
      "metadata": {
        "id": "jbOTVlgAW3P3",
        "colab_type": "text"
      },
      "source": [
        "#### Logistic regression with PCA"
      ]
    },
    {
      "cell_type": "code",
      "metadata": {
        "id": "k60AtJf-W3P4",
        "colab_type": "code",
        "colab": {}
      },
      "source": [
        "#X = finalDf.loc[:, finalDf.columns != 'liquor_category_WHISKY']\n",
        "#y = finalDf.loc[:, finalDf.columns == 'liquor_category_WHISKY']\n",
        "\n",
        "X_train, X_test, y_train, y_test = train_test_split(x, y, test_size=0.2, random_state=0)\n",
        "#columns = X_train.columns"
      ],
      "execution_count": 0,
      "outputs": []
    },
    {
      "cell_type": "code",
      "metadata": {
        "id": "yVXKv20qW3P_",
        "colab_type": "code",
        "outputId": "3f761152-afa8-4568-d78a-5d9185540641",
        "colab": {
          "base_uri": "https://localhost:8080/",
          "height": 156
        }
      },
      "source": [
        "#X = data_final.loc[:, data_final.columns != 'liquor_category_WHISKY']\n",
        "#y = data_final.loc[:, data_final.columns == 'liquor_category_WHISKY']\n",
        "\n",
        "#X_train, X_test, y_train, y_test = train_test_split(X, y, test_size=0.2, random_state=0)\n",
        "#columns = X_train.columns\n",
        "\n",
        "\n",
        "from sklearn.linear_model import LogisticRegression\n",
        "# all parameters not specified are set to their defaults\n",
        "logisticRegr = LogisticRegression()\n",
        "\n",
        "logisticRegr.fit(X_train, y_train)"
      ],
      "execution_count": 28,
      "outputs": [
        {
          "output_type": "stream",
          "text": [
            "/usr/local/lib/python3.6/dist-packages/sklearn/utils/validation.py:760: DataConversionWarning: A column-vector y was passed when a 1d array was expected. Please change the shape of y to (n_samples, ), for example using ravel().\n",
            "  y = column_or_1d(y, warn=True)\n"
          ],
          "name": "stderr"
        },
        {
          "output_type": "execute_result",
          "data": {
            "text/plain": [
              "LogisticRegression(C=1.0, class_weight=None, dual=False, fit_intercept=True,\n",
              "                   intercept_scaling=1, l1_ratio=None, max_iter=100,\n",
              "                   multi_class='auto', n_jobs=None, penalty='l2',\n",
              "                   random_state=None, solver='lbfgs', tol=0.0001, verbose=0,\n",
              "                   warm_start=False)"
            ]
          },
          "metadata": {
            "tags": []
          },
          "execution_count": 28
        }
      ]
    },
    {
      "cell_type": "code",
      "metadata": {
        "id": "qdpB_1yRW3QG",
        "colab_type": "code",
        "outputId": "970df8f4-93e5-49d2-ce3a-d8ed1b346ef1",
        "colab": {
          "base_uri": "https://localhost:8080/",
          "height": 238
        }
      },
      "source": [
        "X_train"
      ],
      "execution_count": 29,
      "outputs": [
        {
          "output_type": "execute_result",
          "data": {
            "text/plain": [
              "array([[-0.70982155, -1.63157439, -0.64320084, ...,  0.59122401,\n",
              "        -1.54368399, -0.0464694 ],\n",
              "       [-0.70982155,  1.41605401, -0.39959531, ..., -0.05137568,\n",
              "         0.57302268, -0.0464694 ],\n",
              "       [-0.70982155,  1.41605401, -0.37252803, ...,  0.96712073,\n",
              "         1.38548835, -0.0464694 ],\n",
              "       ...,\n",
              "       [ 0.00594805,  0.07151207, -0.76008228, ...,  0.59122401,\n",
              "         0.67177423,  0.12256   ],\n",
              "       [-0.70982155,  1.41605401,  0.29062036, ...,  0.96712073,\n",
              "         1.38548835,  0.00793518],\n",
              "       [ 0.00594805, -0.37666858, -0.85112677, ...,  0.59122401,\n",
              "         0.45902237,  0.16031095]])"
            ]
          },
          "metadata": {
            "tags": []
          },
          "execution_count": 29
        }
      ]
    },
    {
      "cell_type": "code",
      "metadata": {
        "id": "SsA01C-yW3QK",
        "colab_type": "code",
        "colab": {}
      },
      "source": [
        "# Returns a NumPy Array\n",
        "predictions = logisticRegr.predict(X_test)"
      ],
      "execution_count": 0,
      "outputs": []
    },
    {
      "cell_type": "code",
      "metadata": {
        "id": "jwE2PHR0W3QP",
        "colab_type": "code",
        "outputId": "f55bf00e-a7bd-4b6d-ecfa-979f56660efe",
        "colab": {
          "base_uri": "https://localhost:8080/",
          "height": 34
        }
      },
      "source": [
        "# Use score method to get accuracy of model\n",
        "score = logisticRegr.score(X_test, y_test)\n",
        "print(score)"
      ],
      "execution_count": 31,
      "outputs": [
        {
          "output_type": "stream",
          "text": [
            "1.0\n"
          ],
          "name": "stdout"
        }
      ]
    },
    {
      "cell_type": "code",
      "metadata": {
        "id": "2JqlkZ02W3QU",
        "colab_type": "code",
        "outputId": "cfd0af79-4b95-4997-afd8-673681ebe9b7",
        "colab": {
          "base_uri": "https://localhost:8080/",
          "height": 68
        }
      },
      "source": [
        "import matplotlib.pyplot as plt\n",
        "import seaborn as sns\n",
        "from sklearn import metrics\n",
        "cm = metrics.confusion_matrix(y_test, predictions)\n",
        "print(\"Confusion Matrix: \", '\\n', cm)"
      ],
      "execution_count": 32,
      "outputs": [
        {
          "output_type": "stream",
          "text": [
            "Confusion Matrix:  \n",
            " [[71677     0]\n",
            " [    0  8323]]\n"
          ],
          "name": "stdout"
        }
      ]
    },
    {
      "cell_type": "code",
      "metadata": {
        "id": "gPyF4KMkW3Qb",
        "colab_type": "code",
        "outputId": "0238bd69-d570-4f1e-baeb-21d0c0b992a8",
        "colab": {
          "base_uri": "https://localhost:8080/",
          "height": 51
        }
      },
      "source": [
        "from sklearn.metrics import roc_curve\n",
        "from sklearn.metrics import roc_auc_score\n",
        "# predict probabilities\n",
        "lr_probs = logisticRegr.predict_proba(X_test)\n",
        "ns_probs = [0 for _ in range(len(y_test))]\n",
        "# keep probabilities for the positive outcome only\n",
        "lr_probs = lr_probs[:, 1]\n",
        "# calculate scores\n",
        "ns_auc = roc_auc_score(y_test, ns_probs)\n",
        "lr_auc = roc_auc_score(y_test, lr_probs)\n",
        "# summarize scores\n",
        "print('No Skill: ROC AUC=%.3f' % (ns_auc))\n",
        "print('Logistic: ROC AUC=%.3f' % (lr_auc))\n",
        "# calculate roc curves\n",
        "ns_fpr, ns_tpr, _ = roc_curve(y_test, ns_probs)\n",
        "lr_fpr, lr_tpr, _ = roc_curve(y_test, lr_probs)"
      ],
      "execution_count": 33,
      "outputs": [
        {
          "output_type": "stream",
          "text": [
            "No Skill: ROC AUC=0.500\n",
            "Logistic: ROC AUC=1.000\n"
          ],
          "name": "stdout"
        }
      ]
    },
    {
      "cell_type": "code",
      "metadata": {
        "id": "O9lJ9z_OW3Qf",
        "colab_type": "code",
        "outputId": "c0683790-28e9-4706-ed65-6a961ed54a5e",
        "colab": {
          "base_uri": "https://localhost:8080/",
          "height": 302
        }
      },
      "source": [
        "from sklearn.metrics import precision_recall_curve\n",
        "from sklearn.metrics import f1_score\n",
        "from sklearn.metrics import auc\n",
        "# predict probabilities\n",
        "lr_probs = logisticRegr .predict_proba(X_test)\n",
        "# keep probabilities for the positive outcome only\n",
        "lr_probs = lr_probs[:, 1]\n",
        "# predict class values\n",
        "yhat = logisticRegr .predict(X_test)\n",
        "lr_precision, lr_recall, _ = precision_recall_curve(y_test, lr_probs)\n",
        "lr_f1, lr_auc = f1_score(y_test, yhat), auc(lr_recall, lr_precision)\n",
        "# summarize scores\n",
        "print('Logistic: f1=%.3f auc=%.3f' % (lr_f1, lr_auc))\n",
        "# plot the precision-recall curves\n",
        "no_skill = len(y_test[y_test==1]) / len(y_test)\n",
        "pyplot.plot([0, 1], [no_skill, no_skill], linestyle='--', label='No Skill')\n",
        "pyplot.plot(lr_recall, lr_precision, marker='.', label='Logistic')\n",
        "# axis labels\n",
        "pyplot.xlabel('Recall')\n",
        "pyplot.ylabel('Precision')\n",
        "# show the legend\n",
        "pyplot.legend()\n",
        "# show the plot\n",
        "pyplot.show()"
      ],
      "execution_count": 34,
      "outputs": [
        {
          "output_type": "stream",
          "text": [
            "Logistic: f1=1.000 auc=1.000\n"
          ],
          "name": "stdout"
        },
        {
          "output_type": "display_data",
          "data": {
            "image/png": "[encoded data removed]",
            "text/plain": [
              "<Figure size 432x288 with 1 Axes>"
            ]
          },
          "metadata": {
            "tags": []
          }
        }
      ]
    },
    {
      "cell_type": "markdown",
      "metadata": {
        "id": "wHz6SwIcW3Ql",
        "colab_type": "text"
      },
      "source": [
        "#### Support Vector Machine Model:"
      ]
    },
    {
      "cell_type": "code",
      "metadata": {
        "id": "SYhD2jyuW3Qn",
        "colab_type": "code",
        "outputId": "67adba51-77d6-4316-f449-714389e251fb",
        "colab": {
          "base_uri": "https://localhost:8080/",
          "height": 71
        }
      },
      "source": [
        "#possibility to scale it?\n",
        "from sklearn import preprocessing\n",
        "X_train = preprocessing.scale(X_train)\n",
        "X_test = preprocessing.scale(X_test)\n",
        "\n",
        "# all parameters not specified are set to their defaults\n",
        "#https://stackabuse.com/implementing-svm-and-kernel-svm-with-pythons-scikit-learn/\n",
        "from sklearn.svm import SVC\n",
        "#svclassifier = SVC(kernel='poly', degree=8)\n",
        "#svclassifier = SVC(kernel='rbf')\n",
        "svclassifier = SVC(kernel='linear')\n",
        "svclassifier.fit(X_train, y_train)"
      ],
      "execution_count": 0,
      "outputs": [
        {
          "output_type": "stream",
          "text": [
            "/usr/local/lib/python3.6/dist-packages/sklearn/utils/validation.py:760: DataConversionWarning: A column-vector y was passed when a 1d array was expected. Please change the shape of y to (n_samples, ), for example using ravel().\n",
            "  y = column_or_1d(y, warn=True)\n"
          ],
          "name": "stderr"
        }
      ]
    },
    {
      "cell_type": "code",
      "metadata": {
        "id": "5qve9SP-W3Qu",
        "colab_type": "code",
        "colab": {}
      },
      "source": [
        "# Returns a NumPy Array\n",
        "predictions = svclassifier.predict(X_test)\n",
        "from sklearn.metrics import classification_report, confusion_matrix\n",
        "print(confusion_matrix(y_test, predictions))\n",
        "print(classification_report(y_test, predictions))"
      ],
      "execution_count": 0,
      "outputs": []
    },
    {
      "cell_type": "markdown",
      "metadata": {
        "id": "Sw8khWHJW3Q1",
        "colab_type": "text"
      },
      "source": [
        "### Advantages  [10 points] \n",
        "Discuss the advantages of each model for each classification task. Does one\n",
        "type of model offer superior performance over another in terms of prediction accuracy? In\n",
        "terms of training time or efficiency? Explain in detail.  \n",
        " \n"
      ]
    },
    {
      "cell_type": "markdown",
      "metadata": {
        "id": "j72cdCVOW3Q2",
        "colab_type": "text"
      },
      "source": [
        "###  Interpret  [30 points] \n",
        "Use the weights from logistic regression to interpret the importance of different\n",
        "features for the classification task. Explain your interpretation in detail. Why do you think\n",
        "some variables are more important? "
      ]
    },
    {
      "cell_type": "code",
      "metadata": {
        "id": "InH9dVAuG_IU",
        "colab_type": "code",
        "colab": {
          "base_uri": "https://localhost:8080/",
          "height": 680
        },
        "outputId": "5ae200af-5823-4f31-aa54-01214ee31be1"
      },
      "source": [
        "# interpret the weights\n",
        "\n",
        "# iterate over the coefficients\n",
        "weights2 = logisticRegr.coef_.T # take transpose to make a column vector\n",
        "variable_names = X.columns\n",
        "for coef, name in zip(weights2,variable_names):\n",
        "    print(name, 'has weight of', coef[0])\n",
        "    \n",
        "# does this look correct? "
      ],
      "execution_count": 25,
      "outputs": [
        {
          "output_type": "stream",
          "text": [
            "pack has weight of -0.0502060197309926\n",
            "bottle_volume_ml has weight of -0.0021788486886669474\n",
            "state_bottle_cost has weight of 0.08061429894823634\n",
            "state_bottle_retail has weight of 0.09315158985356917\n",
            "bottles_sold has weight of -0.004320460397291982\n",
            "sale_dollars has weight of 0.002741560893420156\n",
            "volume_sold_liters has weight of -0.050636265503578526\n",
            "volume_sold_gallons has weight of -0.014177176773914144\n",
            "store_parent_CVS has weight of 0.01016091814900508\n",
            "store_parent_Caseys has weight of -0.10518240391412388\n",
            "store_parent_Hy-Vee has weight of 0.340527836872123\n",
            "store_parent_Kum&Go has weight of -0.13612758184174054\n",
            "store_parent_Other has weight of -0.043155499174408855\n",
            "store_parent_QuikTrip has weight of -0.026799562851977113\n",
            "store_parent_SamsClub has weight of 0.02774205553061981\n",
            "store_parent_SmokingJoes has weight of -0.031548992441455155\n",
            "store_parent_Target has weight of -0.00514533960461412\n",
            "store_parent_Wal-Mart has weight of -0.057384349414196664\n",
            "store_parent_Walgreens has weight of -0.017494773247938845\n",
            "year_2019 has weight of -0.04440769193850191\n",
            "monthyear_Apr-2019 has weight of -0.04953803731994488\n",
            "monthyear_Aug-2019 has weight of 0.020371482977361546\n",
            "monthyear_Dec-2019 has weight of -0.0022128820161716628\n",
            "monthyear_Feb-2019 has weight of 3.3623659133336195e-05\n",
            "monthyear_Jan-2019 has weight of -0.027548226017597773\n",
            "monthyear_Jul-2019 has weight of -0.04046202517842857\n",
            "monthyear_Jun-2019 has weight of -0.03232987560544569\n",
            "monthyear_Mar-2019 has weight of 0.025328836161912574\n",
            "monthyear_May-2019 has weight of -0.02054750363129421\n",
            "monthyear_Nov-2019 has weight of 0.027194439319902144\n",
            "monthyear_Oct-2019 has weight of 0.0500447420779845\n",
            "monthyear_Sep-2019 has weight of 0.005257733633932912\n",
            "sale_dollars_trans has weight of -0.018433771830384426\n",
            "cost_per_liter has weight of -0.008573622420110696\n",
            "cost_per_liter_trans has weight of 0.02025543321921078\n",
            "state_bottle_cost_trans has weight of 0.21028719265546528\n",
            "bottles_sold_trans has weight of -0.2099692519421173\n",
            "volume_sold_liters_trans has weight of -0.038689205209164204\n",
            "grossmargin has weight of -0.01508625561301876\n"
          ],
          "name": "stdout"
        }
      ]
    },
    {
      "cell_type": "code",
      "metadata": {
        "id": "8lyMs922H0va",
        "colab_type": "code",
        "colab": {
          "base_uri": "https://localhost:8080/",
          "height": 785
        },
        "outputId": "f141be7d-cc95-45e3-8dd9-a3ce903e6081"
      },
      "source": [
        "from sklearn.preprocessing import StandardScaler\n",
        "from sklearn import metrics as mt\n",
        "\n",
        "\n",
        "# we want to normalize the features based upon the mean and standard deviation of each column. \n",
        "# However, we do not want to accidentally use the testing data to find out the mean and std (this would be snooping)\n",
        "# to Make things easier, let's start by just using whatever was last stored in the variables:\n",
        "##    X_train , y_train , X_test, y_test (they were set in a for loop above)\n",
        "\n",
        "# scale attributes by the training set\n",
        "scl_obj = StandardScaler()\n",
        "scl_obj.fit(X_train)\n",
        "\n",
        "X_train_scaled = scl_obj.transform(X_train) # apply to training\n",
        "X_test_scaled = scl_obj.transform(X_test) # apply those means and std to the test set (without snooping at the test set values)\n",
        "\n",
        "# train the model just as before\n",
        "lr_clf = LogisticRegression(penalty='l2', C=0.05, solver='liblinear') # get object, the 'C' value is less (can you guess why??)\n",
        "lr_clf.fit(X_train_scaled,y_train)  # train object\n",
        "\n",
        "y_hat = lr_clf.predict(X_test_scaled) # get test set precitions\n",
        "\n",
        "acc = mt.accuracy_score(y_test,y_hat)\n",
        "conf = mt.confusion_matrix(y_test,y_hat)\n",
        "print('accuracy:', acc )\n",
        "print(conf )\n",
        "\n",
        "# sort these attributes and spit them out\n",
        "zip_vars = zip(lr_clf.coef_.T,data_final.columns) # combine attributes\n",
        "zip_vars = sorted(zip_vars)\n",
        "for coef, name in zip_vars:\n",
        "    print(name, 'has weight of', coef[0]) # now print them out"
      ],
      "execution_count": 22,
      "outputs": [
        {
          "output_type": "stream",
          "text": [
            "/usr/local/lib/python3.6/dist-packages/sklearn/utils/validation.py:760: DataConversionWarning: A column-vector y was passed when a 1d array was expected. Please change the shape of y to (n_samples, ), for example using ravel().\n",
            "  y = column_or_1d(y, warn=True)\n"
          ],
          "name": "stderr"
        },
        {
          "output_type": "stream",
          "text": [
            "accuracy: 0.9212\n",
            "[[70244  1433]\n",
            " [ 4871  3452]]\n",
            "bottle_volume_ml has weight of -1.1241085853009816\n",
            "state_bottle_cost_trans has weight of -0.9252368948267933\n",
            "volume_sold_gallons has weight of -0.7484907254179491\n",
            "volume_sold_liters has weight of -0.7111895992752483\n",
            "sale_dollars_trans has weight of -0.6498203111703074\n",
            "bottles_sold has weight of -0.43353701941626915\n",
            "state_bottle_retail has weight of -0.2298419562831844\n",
            "state_bottle_cost has weight of -0.18809104430877055\n",
            "store_parent_Hy-Vee has weight of -0.16979895819687527\n",
            "store_parent_CVS has weight of -0.1162478389197972\n",
            "store_parent_SamsClub has weight of -0.07031100233909918\n",
            "store_parent_Other has weight of -0.06787650254278542\n",
            "year_2019 has weight of -0.04861150359959907\n",
            "store_parent_Wal-Mart has weight of -0.032304374471063525\n",
            "monthyear_Jan-2019 has weight of -0.03144131990296809\n",
            "store_parent_Target has weight of -0.031212358379202384\n",
            "monthyear_Jul-2019 has weight of -0.02488029634999801\n",
            "monthyear_Feb-2019 has weight of -0.01809771042942235\n",
            "monthyear_Mar-2019 has weight of -0.013854856076939134\n",
            "monthyear_Aug-2019 has weight of -0.010297309248512803\n",
            "volume_sold_liters_trans has weight of -0.005698988625846588\n",
            "store_parent_Kum&Go has weight of -0.0023621924207015785\n",
            "store_parent_Walgreens has weight of 0.0\n",
            "monthyear_Dec-2019 has weight of 0.007539979239538496\n",
            "monthyear_Oct-2019 has weight of 0.019050901578497356\n",
            "monthyear_May-2019 has weight of 0.02198440904064553\n",
            "store_parent_SmokingJoes has weight of 0.024196823252228793\n",
            "monthyear_Nov-2019 has weight of 0.02757598336877089\n",
            "monthyear_Apr-2019 has weight of 0.03608554995296228\n",
            "monthyear_Jun-2019 has weight of 0.03765375988381818\n",
            "liquor_category_WHISKY has weight of 0.03848296817996301\n",
            "store_parent_QuikTrip has weight of 0.050972349026161115\n",
            "store_parent_Caseys has weight of 0.1662192054159326\n",
            "bottles_sold_trans has weight of 0.20606558635435407\n",
            "cost_per_liter has weight of 0.3878743707976466\n",
            "monthyear_Sep-2019 has weight of 0.5661713161904949\n",
            "pack has weight of 0.6468122304181965\n",
            "sale_dollars has weight of 0.957348197090073\n",
            "cost_per_liter_trans has weight of 2.5861312486712134\n"
          ],
          "name": "stdout"
        }
      ]
    },
    {
      "cell_type": "code",
      "metadata": {
        "id": "MfqYs20AI4_1",
        "colab_type": "code",
        "colab": {
          "base_uri": "https://localhost:8080/",
          "height": 404
        },
        "outputId": "80f7e480-1e17-4e31-ab7d-9cee0bff52e8"
      },
      "source": [
        "# now let's make a pandas Series with the names and values, and plot them\n",
        "from matplotlib import pyplot as plt\n",
        "%matplotlib inline\n",
        "plt.style.use('ggplot')\n",
        "\n",
        "\n",
        "weights = pd.Series(lr_clf.coef_[0],index=X.columns)\n",
        "weights.plot(kind='bar')\n",
        "plt.show()"
      ],
      "execution_count": 24,
      "outputs": [
        {
          "output_type": "display_data",
          "data": {
            "image/png": "[encoded data removed]",
            "text/plain": [
              "<Figure size 432x288 with 1 Axes>"
            ]
          },
          "metadata": {
            "tags": []
          }
        }
      ]
    },
    {
      "cell_type": "markdown",
      "metadata": {
        "id": "CLRFZkc6W3Q4",
        "colab_type": "text"
      },
      "source": [
        "### Insight into the data [10 points]\n",
        "Look at the chosen support vectors for the classification task. Do these provide\n",
        "any insight into the data? Explain. If you used stochastic gradient descent (and therefore did\n",
        "not explicitly solve for support vectors), try subsampling your data to train the SVC model—\n",
        "then analyze the support vectors from the subsampled dataset. "
      ]
    },
    {
      "cell_type": "code",
      "metadata": {
        "id": "jOFBdIo_W3Q6",
        "colab_type": "code",
        "colab": {}
      },
      "source": [
        ""
      ],
      "execution_count": 0,
      "outputs": []
    }
  ]
}