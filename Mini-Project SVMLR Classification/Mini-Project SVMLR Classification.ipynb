{
 "cells": [
  {
   "cell_type": "markdown",
   "metadata": {},
   "source": [
    "# Mini-Project: SVM&LR Classification\n",
    "You are to perform predictive analysis (classification) upon a data set: model the dataset using\n",
    "methods we have discussed in class: logistic regression & support vector machines and making\n",
    "conclusions from the analysis. Follow the CRISP-DM framework in your analysis (you are not\n",
    "performing all of the CRISP-DM outline, only the portions relevant to the grading rubric outlined\n",
    "below). This report is worth 10% of the final grade. You may complete this assignment in teams\n",
    "of as many as three people.\n",
    "Write a report covering all the steps of the project. The format of the document can be PDF,\n",
    "*.ipynb, or HTML. You can write the report in whatever format you like, but it is easiest to turn in\n",
    "the rendered Jupyter notebook. The results should be reproducible using your report. Please\n",
    "carefully describe every assumption and every step in your report.\n",
    "A note on grading: A common mistake I see in this lab is not investigating different input\n",
    "parameters for each model. Try a number of parameter combinations and discuss how the model changed. "
   ]
  },
  {
   "cell_type": "markdown",
   "metadata": {},
   "source": [
    "## SVM and Logistic Regression Modeling\n"
   ]
  },
  {
   "cell_type": "markdown",
   "metadata": {},
   "source": [
    "### Create Models [50 points] \n",
    "Create a logistic regression model and a support vector machine model for the\n",
    "classification task involved with your dataset. Assess how well each model performs (use\n",
    "80/20 training/testing split for your data). Adjust parameters of the models to make them\n",
    "more accurate. If your dataset size requires the use of stochastic gradient descent, then\n",
    "linear kernel only is fine to use. That is, the SGDClassifier is fine to use for optimizing\n",
    "logistic regression and linear support vector machines. For many problems, SGD will be\n",
    "required in order to train the SVM model in a reasonable timeframe.   "
   ]
  },
  {
   "cell_type": "code",
   "execution_count": 1,
   "metadata": {},
   "outputs": [],
   "source": [
    "import pandas as pd\n",
    "import numpy as np\n",
    "from sklearn import preprocessing\n",
    "import matplotlib.pyplot as plt \n",
    "plt.rc(\"font\", size=14)\n",
    "from sklearn.linear_model import LogisticRegression\n",
    "from sklearn.model_selection import train_test_split\n",
    "import seaborn as sns\n",
    "sns.set(style=\"white\")\n",
    "sns.set(style=\"whitegrid\", color_codes=True)"
   ]
  },
  {
   "cell_type": "code",
   "execution_count": 2,
   "metadata": {},
   "outputs": [],
   "source": [
    "#read data from github repository\n",
    "#this data was produced from the Iowa Alcohol Dataset 2019 year data\n",
    "#It was cleansed and transformed in this notebook and exported as a csv to github for use here.\n",
    "#source python notebook: https://github.com/jjschueder/7331DataMiningNotebooks/blob/master/lab1/msds7331_clark_schueder_vela_washburn.ipynb\n",
    "# read csv from github directly\n",
    "url_dataset = 'https://github.com/jjschueder/7331DataMiningNotebooks/blob/master/Live%20Assignment%201/df1hotmerge2.csv?raw=true'\n",
    "#df = pd.read_csv(url_dataset, nrows=50000)\n",
    "data = pd.read_csv(url_dataset, nrows=50000)"
   ]
  },
  {
   "cell_type": "code",
   "execution_count": 3,
   "metadata": {},
   "outputs": [
    {
     "name": "stdout",
     "output_type": "stream",
     "text": [
      "(50000, 68)\n",
      "['Unnamed: 0', 'pack', 'bottle_volume_ml', 'state_bottle_cost', 'state_bottle_retail', 'bottles_sold', 'sale_dollars', 'volume_sold_liters', 'volume_sold_gallons', 'counter', 'liquor_category', 'store_parent', 'month', 'year', 'monthyear', 'liquor_category_AMARETTO', 'liquor_category_BRANDY', 'liquor_category_GIN', 'liquor_category_LIQUEUR', 'liquor_category_Other', 'liquor_category_RUM', 'liquor_category_SCHNAPPS', 'liquor_category_TEQUILA', 'liquor_category_VODKA', 'liquor_category_WHISKY', 'store_parent_CVS', 'store_parent_Caseys', 'store_parent_Hy-Vee', 'store_parent_Kum&Go', 'store_parent_Other', 'store_parent_QuikTrip', 'store_parent_SamsClub', 'store_parent_SmokingJoes', 'store_parent_Target', 'store_parent_Wal-Mart', 'store_parent_Walgreens', 'month_Apr', 'month_Aug', 'month_Dec', 'month_Feb', 'month_Jan', 'month_Jul', 'month_Jun', 'month_Mar', 'month_May', 'month_Nov', 'month_Oct', 'month_Sep', 'year_2019', 'monthyear_Apr-2019', 'monthyear_Aug-2019', 'monthyear_Dec-2019', 'monthyear_Feb-2019', 'monthyear_Jan-2019', 'monthyear_Jul-2019', 'monthyear_Jun-2019', 'monthyear_Mar-2019', 'monthyear_May-2019', 'monthyear_Nov-2019', 'monthyear_Oct-2019', 'monthyear_Sep-2019', 'sale_dollars_trans', 'cost_per_liter', 'cost_per_liter_trans', 'state_bottle_cost_trans', 'bottles_sold_trans', 'volume_sold_liters_trans', 'grossmargin']\n"
     ]
    }
   ],
   "source": [
    "print(data.shape)\n",
    "print(list(data.columns))"
   ]
  },
  {
   "cell_type": "code",
   "execution_count": 4,
   "metadata": {},
   "outputs": [
    {
     "name": "stdout",
     "output_type": "stream",
     "text": [
      "percentage of not whiskey is 75.28399999999999\n",
      "percentage of whiskey 24.715999999999998\n"
     ]
    }
   ],
   "source": [
    "data = data.drop(columns = ['Unnamed: 0'])\n",
    "count_not_whiskey = len(data[data['liquor_category_WHISKY']==0])\n",
    "count_whiskey = len(data[data['liquor_category_WHISKY']==1])\n",
    "pct_of_no_whiskey = count_not_whiskey/(count_not_whiskey+count_whiskey)\n",
    "print(\"percentage of not whiskey is\", pct_of_no_whiskey*100)\n",
    "pct_of_whiskey = count_whiskey/(count_not_whiskey+count_whiskey)\n",
    "print(\"percentage of whiskey\", pct_of_whiskey*100)"
   ]
  },
  {
   "cell_type": "code",
   "execution_count": 5,
   "metadata": {},
   "outputs": [
    {
     "data": {
      "text/plain": [
       "array(['pack', 'bottle_volume_ml', 'state_bottle_cost',\n",
       "       'state_bottle_retail', 'bottles_sold', 'sale_dollars',\n",
       "       'volume_sold_liters', 'volume_sold_gallons',\n",
       "       'liquor_category_WHISKY', 'store_parent_CVS',\n",
       "       'store_parent_Caseys', 'store_parent_Hy-Vee',\n",
       "       'store_parent_Kum&Go', 'store_parent_Other',\n",
       "       'store_parent_QuikTrip', 'store_parent_SamsClub',\n",
       "       'store_parent_SmokingJoes', 'store_parent_Target',\n",
       "       'store_parent_Wal-Mart', 'store_parent_Walgreens', 'year_2019',\n",
       "       'monthyear_Apr-2019', 'monthyear_Aug-2019', 'monthyear_Dec-2019',\n",
       "       'monthyear_Feb-2019', 'monthyear_Jan-2019', 'monthyear_Jul-2019',\n",
       "       'monthyear_Jun-2019', 'monthyear_Mar-2019', 'monthyear_May-2019',\n",
       "       'monthyear_Nov-2019', 'monthyear_Oct-2019', 'monthyear_Sep-2019',\n",
       "       'sale_dollars_trans', 'cost_per_liter', 'cost_per_liter_trans',\n",
       "       'state_bottle_cost_trans', 'bottles_sold_trans',\n",
       "       'volume_sold_liters_trans', 'grossmargin'], dtype=object)"
      ]
     },
     "execution_count": 5,
     "metadata": {},
     "output_type": "execute_result"
    }
   ],
   "source": [
    "cat_vars=['counter', 'liquor_category', 'store_parent',\n",
    " 'month', 'year', 'monthyear', 'liquor_category_AMARETTO', 'liquor_category_BRANDY', 'liquor_category_GIN', \n",
    " 'liquor_category_LIQUEUR', 'liquor_category_Other', 'liquor_category_RUM', 'liquor_category_SCHNAPPS', \n",
    " 'liquor_category_TEQUILA', 'liquor_category_VODKA', 'month_Apr', 'month_Aug', 'month_Dec', 'month_Feb',\n",
    " 'month_Jan', 'month_Jul', 'month_Jun', 'month_Mar', 'month_May', 'month_Nov', 'month_Oct', 'month_Sep']\n",
    "data_vars=data.columns.values.tolist()\n",
    "to_keep=[i for i in data_vars if i not in cat_vars]\n",
    "\n",
    "data_final=data[to_keep]\n",
    "data_final.columns.values"
   ]
  },
  {
   "cell_type": "markdown",
   "metadata": {},
   "source": [
    "#### Logistic Regression model:"
   ]
  },
  {
   "cell_type": "code",
   "execution_count": 269,
   "metadata": {},
   "outputs": [
    {
     "name": "stderr",
     "output_type": "stream",
     "text": [
      "C:\\ProgramData\\Anaconda3\\lib\\site-packages\\sklearn\\linear_model\\logistic.py:433: FutureWarning: Default solver will be changed to 'lbfgs' in 0.22. Specify a solver to silence this warning.\n",
      "  FutureWarning)\n",
      "C:\\ProgramData\\Anaconda3\\lib\\site-packages\\sklearn\\utils\\validation.py:761: DataConversionWarning: A column-vector y was passed when a 1d array was expected. Please change the shape of y to (n_samples, ), for example using ravel().\n",
      "  y = column_or_1d(y, warn=True)\n"
     ]
    },
    {
     "data": {
      "text/plain": [
       "LogisticRegression(C=1.0, class_weight=None, dual=False, fit_intercept=True,\n",
       "          intercept_scaling=1, max_iter=100, multi_class='warn',\n",
       "          n_jobs=None, penalty='l2', random_state=None, solver='warn',\n",
       "          tol=0.0001, verbose=0, warm_start=False)"
      ]
     },
     "execution_count": 269,
     "metadata": {},
     "output_type": "execute_result"
    }
   ],
   "source": [
    "X = data_final.loc[:, data_final.columns != 'liquor_category_WHISKY']\n",
    "y = data_final.loc[:, data_final.columns == 'liquor_category_WHISKY']\n",
    "\n",
    "X_train, X_test, y_train, y_test = train_test_split(X, y, test_size=0.2, random_state=0)\n",
    "columns = X_train.columns\n",
    "\n",
    "\n",
    "from sklearn.linear_model import LogisticRegression\n",
    "# all parameters not specified are set to their defaults\n",
    "logisticRegr = LogisticRegression()\n",
    "\n",
    "logisticRegr.fit(X_train, y_train)"
   ]
  },
  {
   "cell_type": "code",
   "execution_count": 7,
   "metadata": {},
   "outputs": [
    {
     "name": "stdout",
     "output_type": "stream",
     "text": [
      "[ 5.43664513e-02 -2.38112092e-03  4.22526451e-02 -5.29532672e-02\n",
      " -8.86330222e-03  7.23558697e-04  2.22671278e-02 -1.08763737e-01\n",
      "  5.17130632e-01 -6.31123142e-01 -1.77223556e-01 -8.67182757e-01\n",
      " -4.48413018e-01 -7.28564180e-01 -3.22923173e-01 -8.41982450e-01\n",
      "  1.30358781e-01 -2.86483411e-01 -2.36639467e-03 -3.65877267e+00\n",
      " -5.29629793e-01 -9.54032669e-02 -3.55018463e-01 -1.76800211e-01\n",
      " -2.24799234e-01 -4.32978043e-01 -4.60959772e-01 -2.05804078e-01\n",
      " -4.96649146e-01 -2.06623968e-01 -1.99932021e-01 -2.74174675e-01\n",
      "  4.60195225e-01 -3.83376774e-03  1.51992114e-01  3.00445171e+00\n",
      " -8.43279110e-01  3.08203115e-01 -1.22754704e+00]\n"
     ]
    }
   ],
   "source": [
    "coef = logisticRegr.coef_[0]\n",
    "classes = logisticRegr.classes_[0]\n",
    "intercept = logisticRegr.intercept_[0]\n",
    "print (coef)"
   ]
  },
  {
   "cell_type": "code",
   "execution_count": 8,
   "metadata": {},
   "outputs": [
    {
     "data": {
      "text/plain": [
       "-3.6587726699927834"
      ]
     },
     "execution_count": 8,
     "metadata": {},
     "output_type": "execute_result"
    }
   ],
   "source": [
    "intercept"
   ]
  },
  {
   "cell_type": "code",
   "execution_count": 272,
   "metadata": {},
   "outputs": [
    {
     "data": {
      "text/plain": [
       "{'C': 1.0,\n",
       " 'class_weight': None,\n",
       " 'dual': False,\n",
       " 'fit_intercept': True,\n",
       " 'intercept_scaling': 1,\n",
       " 'max_iter': 100,\n",
       " 'multi_class': 'warn',\n",
       " 'n_jobs': None,\n",
       " 'penalty': 'l2',\n",
       " 'random_state': None,\n",
       " 'solver': 'warn',\n",
       " 'tol': 0.0001,\n",
       " 'verbose': 0,\n",
       " 'warm_start': False}"
      ]
     },
     "execution_count": 272,
     "metadata": {},
     "output_type": "execute_result"
    }
   ],
   "source": [
    "# Returns a NumPy Array\n",
    "predictions = logisticRegr.predict(X_test)\n",
    "\n",
    "params =logisticRegr.get_params(deep=True)\n",
    "params"
   ]
  },
  {
   "cell_type": "code",
   "execution_count": 273,
   "metadata": {},
   "outputs": [
    {
     "data": {
      "text/html": [
       "<div>\n",
       "<style scoped>\n",
       "    .dataframe tbody tr th:only-of-type {\n",
       "        vertical-align: middle;\n",
       "    }\n",
       "\n",
       "    .dataframe tbody tr th {\n",
       "        vertical-align: top;\n",
       "    }\n",
       "\n",
       "    .dataframe thead th {\n",
       "        text-align: right;\n",
       "    }\n",
       "</style>\n",
       "<table border=\"1\" class=\"dataframe\">\n",
       "  <thead>\n",
       "    <tr style=\"text-align: right;\">\n",
       "      <th></th>\n",
       "      <th>0</th>\n",
       "    </tr>\n",
       "  </thead>\n",
       "  <tbody>\n",
       "    <tr>\n",
       "      <th>0</th>\n",
       "      <td>-5.008450</td>\n",
       "    </tr>\n",
       "    <tr>\n",
       "      <th>1</th>\n",
       "      <td>-1.507126</td>\n",
       "    </tr>\n",
       "    <tr>\n",
       "      <th>2</th>\n",
       "      <td>-7.404361</td>\n",
       "    </tr>\n",
       "    <tr>\n",
       "      <th>3</th>\n",
       "      <td>-3.525863</td>\n",
       "    </tr>\n",
       "    <tr>\n",
       "      <th>4</th>\n",
       "      <td>-4.742545</td>\n",
       "    </tr>\n",
       "    <tr>\n",
       "      <th>5</th>\n",
       "      <td>-2.558340</td>\n",
       "    </tr>\n",
       "    <tr>\n",
       "      <th>6</th>\n",
       "      <td>-5.075089</td>\n",
       "    </tr>\n",
       "    <tr>\n",
       "      <th>7</th>\n",
       "      <td>-4.130703</td>\n",
       "    </tr>\n",
       "    <tr>\n",
       "      <th>8</th>\n",
       "      <td>-3.444351</td>\n",
       "    </tr>\n",
       "    <tr>\n",
       "      <th>9</th>\n",
       "      <td>-5.338038</td>\n",
       "    </tr>\n",
       "    <tr>\n",
       "      <th>10</th>\n",
       "      <td>-4.698817</td>\n",
       "    </tr>\n",
       "    <tr>\n",
       "      <th>11</th>\n",
       "      <td>-3.090684</td>\n",
       "    </tr>\n",
       "    <tr>\n",
       "      <th>12</th>\n",
       "      <td>0.644299</td>\n",
       "    </tr>\n",
       "    <tr>\n",
       "      <th>13</th>\n",
       "      <td>-2.085775</td>\n",
       "    </tr>\n",
       "    <tr>\n",
       "      <th>14</th>\n",
       "      <td>-2.178761</td>\n",
       "    </tr>\n",
       "    <tr>\n",
       "      <th>15</th>\n",
       "      <td>-3.829315</td>\n",
       "    </tr>\n",
       "    <tr>\n",
       "      <th>16</th>\n",
       "      <td>-5.388018</td>\n",
       "    </tr>\n",
       "    <tr>\n",
       "      <th>17</th>\n",
       "      <td>1.975332</td>\n",
       "    </tr>\n",
       "    <tr>\n",
       "      <th>18</th>\n",
       "      <td>-4.476868</td>\n",
       "    </tr>\n",
       "    <tr>\n",
       "      <th>19</th>\n",
       "      <td>2.648692</td>\n",
       "    </tr>\n",
       "    <tr>\n",
       "      <th>20</th>\n",
       "      <td>-2.990456</td>\n",
       "    </tr>\n",
       "    <tr>\n",
       "      <th>21</th>\n",
       "      <td>-1.165634</td>\n",
       "    </tr>\n",
       "    <tr>\n",
       "      <th>22</th>\n",
       "      <td>-0.931550</td>\n",
       "    </tr>\n",
       "    <tr>\n",
       "      <th>23</th>\n",
       "      <td>-5.041773</td>\n",
       "    </tr>\n",
       "    <tr>\n",
       "      <th>24</th>\n",
       "      <td>-0.177706</td>\n",
       "    </tr>\n",
       "    <tr>\n",
       "      <th>25</th>\n",
       "      <td>-6.942271</td>\n",
       "    </tr>\n",
       "    <tr>\n",
       "      <th>26</th>\n",
       "      <td>-13.051983</td>\n",
       "    </tr>\n",
       "    <tr>\n",
       "      <th>27</th>\n",
       "      <td>-2.149362</td>\n",
       "    </tr>\n",
       "    <tr>\n",
       "      <th>28</th>\n",
       "      <td>-3.770284</td>\n",
       "    </tr>\n",
       "    <tr>\n",
       "      <th>29</th>\n",
       "      <td>-0.606467</td>\n",
       "    </tr>\n",
       "    <tr>\n",
       "      <th>...</th>\n",
       "      <td>...</td>\n",
       "    </tr>\n",
       "    <tr>\n",
       "      <th>9970</th>\n",
       "      <td>-0.038968</td>\n",
       "    </tr>\n",
       "    <tr>\n",
       "      <th>9971</th>\n",
       "      <td>-3.625671</td>\n",
       "    </tr>\n",
       "    <tr>\n",
       "      <th>9972</th>\n",
       "      <td>-4.678298</td>\n",
       "    </tr>\n",
       "    <tr>\n",
       "      <th>9973</th>\n",
       "      <td>-3.796362</td>\n",
       "    </tr>\n",
       "    <tr>\n",
       "      <th>9974</th>\n",
       "      <td>0.113906</td>\n",
       "    </tr>\n",
       "    <tr>\n",
       "      <th>9975</th>\n",
       "      <td>2.478635</td>\n",
       "    </tr>\n",
       "    <tr>\n",
       "      <th>9976</th>\n",
       "      <td>-0.400352</td>\n",
       "    </tr>\n",
       "    <tr>\n",
       "      <th>9977</th>\n",
       "      <td>0.953123</td>\n",
       "    </tr>\n",
       "    <tr>\n",
       "      <th>9978</th>\n",
       "      <td>-1.557925</td>\n",
       "    </tr>\n",
       "    <tr>\n",
       "      <th>9979</th>\n",
       "      <td>-0.138944</td>\n",
       "    </tr>\n",
       "    <tr>\n",
       "      <th>9980</th>\n",
       "      <td>0.800800</td>\n",
       "    </tr>\n",
       "    <tr>\n",
       "      <th>9981</th>\n",
       "      <td>-5.370217</td>\n",
       "    </tr>\n",
       "    <tr>\n",
       "      <th>9982</th>\n",
       "      <td>-4.093462</td>\n",
       "    </tr>\n",
       "    <tr>\n",
       "      <th>9983</th>\n",
       "      <td>-1.515840</td>\n",
       "    </tr>\n",
       "    <tr>\n",
       "      <th>9984</th>\n",
       "      <td>-0.146511</td>\n",
       "    </tr>\n",
       "    <tr>\n",
       "      <th>9985</th>\n",
       "      <td>-1.179216</td>\n",
       "    </tr>\n",
       "    <tr>\n",
       "      <th>9986</th>\n",
       "      <td>-2.994018</td>\n",
       "    </tr>\n",
       "    <tr>\n",
       "      <th>9987</th>\n",
       "      <td>2.421091</td>\n",
       "    </tr>\n",
       "    <tr>\n",
       "      <th>9988</th>\n",
       "      <td>-1.881922</td>\n",
       "    </tr>\n",
       "    <tr>\n",
       "      <th>9989</th>\n",
       "      <td>-0.059036</td>\n",
       "    </tr>\n",
       "    <tr>\n",
       "      <th>9990</th>\n",
       "      <td>-0.138471</td>\n",
       "    </tr>\n",
       "    <tr>\n",
       "      <th>9991</th>\n",
       "      <td>-3.554576</td>\n",
       "    </tr>\n",
       "    <tr>\n",
       "      <th>9992</th>\n",
       "      <td>-1.596259</td>\n",
       "    </tr>\n",
       "    <tr>\n",
       "      <th>9993</th>\n",
       "      <td>-0.070443</td>\n",
       "    </tr>\n",
       "    <tr>\n",
       "      <th>9994</th>\n",
       "      <td>1.471982</td>\n",
       "    </tr>\n",
       "    <tr>\n",
       "      <th>9995</th>\n",
       "      <td>-3.218865</td>\n",
       "    </tr>\n",
       "    <tr>\n",
       "      <th>9996</th>\n",
       "      <td>-5.492657</td>\n",
       "    </tr>\n",
       "    <tr>\n",
       "      <th>9997</th>\n",
       "      <td>1.033120</td>\n",
       "    </tr>\n",
       "    <tr>\n",
       "      <th>9998</th>\n",
       "      <td>-3.822194</td>\n",
       "    </tr>\n",
       "    <tr>\n",
       "      <th>9999</th>\n",
       "      <td>0.130352</td>\n",
       "    </tr>\n",
       "  </tbody>\n",
       "</table>\n",
       "<p>10000 rows × 1 columns</p>\n",
       "</div>"
      ],
      "text/plain": [
       "              0\n",
       "0     -5.008450\n",
       "1     -1.507126\n",
       "2     -7.404361\n",
       "3     -3.525863\n",
       "4     -4.742545\n",
       "5     -2.558340\n",
       "6     -5.075089\n",
       "7     -4.130703\n",
       "8     -3.444351\n",
       "9     -5.338038\n",
       "10    -4.698817\n",
       "11    -3.090684\n",
       "12     0.644299\n",
       "13    -2.085775\n",
       "14    -2.178761\n",
       "15    -3.829315\n",
       "16    -5.388018\n",
       "17     1.975332\n",
       "18    -4.476868\n",
       "19     2.648692\n",
       "20    -2.990456\n",
       "21    -1.165634\n",
       "22    -0.931550\n",
       "23    -5.041773\n",
       "24    -0.177706\n",
       "25    -6.942271\n",
       "26   -13.051983\n",
       "27    -2.149362\n",
       "28    -3.770284\n",
       "29    -0.606467\n",
       "...         ...\n",
       "9970  -0.038968\n",
       "9971  -3.625671\n",
       "9972  -4.678298\n",
       "9973  -3.796362\n",
       "9974   0.113906\n",
       "9975   2.478635\n",
       "9976  -0.400352\n",
       "9977   0.953123\n",
       "9978  -1.557925\n",
       "9979  -0.138944\n",
       "9980   0.800800\n",
       "9981  -5.370217\n",
       "9982  -4.093462\n",
       "9983  -1.515840\n",
       "9984  -0.146511\n",
       "9985  -1.179216\n",
       "9986  -2.994018\n",
       "9987   2.421091\n",
       "9988  -1.881922\n",
       "9989  -0.059036\n",
       "9990  -0.138471\n",
       "9991  -3.554576\n",
       "9992  -1.596259\n",
       "9993  -0.070443\n",
       "9994   1.471982\n",
       "9995  -3.218865\n",
       "9996  -5.492657\n",
       "9997   1.033120\n",
       "9998  -3.822194\n",
       "9999   0.130352\n",
       "\n",
       "[10000 rows x 1 columns]"
      ]
     },
     "execution_count": 273,
     "metadata": {},
     "output_type": "execute_result"
    }
   ],
   "source": [
    "decfunct = pd.DataFrame(logisticRegr.decision_function(X_test))\n",
    "decfunct"
   ]
  },
  {
   "cell_type": "code",
   "execution_count": 274,
   "metadata": {},
   "outputs": [
    {
     "name": "stdout",
     "output_type": "stream",
     "text": [
      "0.8372\n"
     ]
    }
   ],
   "source": [
    "# Use score method to get accuracy of model\n",
    "score = logisticRegr.score(X_test, y_test)\n",
    "print(score)"
   ]
  },
  {
   "cell_type": "code",
   "execution_count": 275,
   "metadata": {},
   "outputs": [
    {
     "name": "stdout",
     "output_type": "stream",
     "text": [
      "Confusion Matrix:  \n",
      " [[7000  577]\n",
      " [1051 1372]]\n"
     ]
    }
   ],
   "source": [
    "import matplotlib.pyplot as plt\n",
    "import seaborn as sns\n",
    "from sklearn import metrics\n",
    "cm = metrics.confusion_matrix(y_test, predictions)\n",
    "print(\"Confusion Matrix: \", '\\n', cm)"
   ]
  },
  {
   "cell_type": "markdown",
   "metadata": {},
   "source": [
    "ROC Curves and AUC in Python\n",
    "https://machinelearningmastery.com/roc-curves-and-precision-recall-curves-for-classification-in-python/\n",
    "\n",
    "When to Use ROC vs. Precision-Recall Curves? Generally, the use of ROC curves and precision-recall curves are as follows:\n",
    "\n",
    "ROC curves should be used when there are roughly equal numbers of observations for each class. Precision-Recall curves should be used when there is a moderate to large class imbalance."
   ]
  },
  {
   "cell_type": "code",
   "execution_count": 13,
   "metadata": {},
   "outputs": [
    {
     "name": "stdout",
     "output_type": "stream",
     "text": [
      "No Skill: ROC AUC=0.500\n",
      "Logistic: ROC AUC=0.887\n"
     ]
    }
   ],
   "source": [
    "from sklearn.metrics import roc_curve\n",
    "from sklearn.metrics import roc_auc_score\n",
    "# predict probabilities\n",
    "lr_probs = logisticRegr.predict_proba(X_test)\n",
    "ns_probs = [0 for _ in range(len(y_test))]\n",
    "# keep probabilities for the positive outcome only\n",
    "lr_probs = lr_probs[:, 1]\n",
    "# calculate scores\n",
    "ns_auc = roc_auc_score(y_test, ns_probs)\n",
    "lr_auc = roc_auc_score(y_test, lr_probs)\n",
    "# summarize scores\n",
    "print('No Skill: ROC AUC=%.3f' % (ns_auc))\n",
    "print('Logistic: ROC AUC=%.3f' % (lr_auc))\n",
    "# calculate roc curves\n",
    "ns_fpr, ns_tpr, _ = roc_curve(y_test, ns_probs)\n",
    "lr_fpr, lr_tpr, _ = roc_curve(y_test, lr_probs)"
   ]
  },
  {
   "cell_type": "code",
   "execution_count": 14,
   "metadata": {},
   "outputs": [
    {
     "data": {
      "image/png": "[encoded data removed]",
      "text/plain": [
       "<Figure size 432x288 with 1 Axes>"
      ]
     },
     "metadata": {
      "needs_background": "light"
     },
     "output_type": "display_data"
    }
   ],
   "source": [
    "from matplotlib import pyplot\n",
    "# calculate roc curves\n",
    "ns_fpr, ns_tpr, _ = roc_curve(y_test, ns_probs)\n",
    "lr_fpr, lr_tpr, _ = roc_curve(y_test, lr_probs)\n",
    "# plot the roc curve for the model\n",
    "pyplot.plot(ns_fpr, ns_tpr, linestyle='--', label='No Skill')\n",
    "pyplot.plot(lr_fpr, lr_tpr, marker='.', label='Logistic')\n",
    "# axis labels\n",
    "pyplot.xlabel('False Positive Rate')\n",
    "pyplot.ylabel('True Positive Rate')\n",
    "# show the legend\n",
    "pyplot.legend()\n",
    "# show the plot\n",
    "pyplot.show()"
   ]
  },
  {
   "cell_type": "code",
   "execution_count": 276,
   "metadata": {},
   "outputs": [
    {
     "name": "stdout",
     "output_type": "stream",
     "text": [
      "Logistic: f1=0.628 auc=0.727\n"
     ]
    },
    {
     "data": {
      "image/png": "[encoded data removed]",
      "text/plain": [
       "<Figure size 432x288 with 1 Axes>"
      ]
     },
     "metadata": {},
     "output_type": "display_data"
    }
   ],
   "source": [
    "from sklearn.metrics import precision_recall_curve\n",
    "from sklearn.metrics import f1_score\n",
    "from sklearn.metrics import auc\n",
    "# predict probabilities\n",
    "lr_probs = logisticRegr .predict_proba(X_test)\n",
    "# keep probabilities for the positive outcome only\n",
    "lr_probs = lr_probs[:, 1]\n",
    "# predict class values\n",
    "yhat = logisticRegr .predict(X_test)\n",
    "lr_precision, lr_recall, _ = precision_recall_curve(y_test, lr_probs)\n",
    "lr_f1, lr_auc = f1_score(y_test, yhat), auc(lr_recall, lr_precision)\n",
    "# summarize scores\n",
    "print('Logistic: f1=%.3f auc=%.3f' % (lr_f1, lr_auc))\n",
    "# plot the precision-recall curves\n",
    "no_skill = len(y_test[y_test==1]) / len(y_test)\n",
    "pyplot.plot([0, 1], [no_skill, no_skill], linestyle='--', label='No Skill')\n",
    "pyplot.plot(lr_recall, lr_precision, marker='.', label='Logistic')\n",
    "# axis labels\n",
    "pyplot.xlabel('Recall')\n",
    "pyplot.ylabel('Precision')\n",
    "# show the legend\n",
    "pyplot.legend()\n",
    "# show the plot\n",
    "pyplot.show()"
   ]
  },
  {
   "cell_type": "code",
   "execution_count": 19,
   "metadata": {},
   "outputs": [],
   "source": [
    "import pandas as pd\n",
    "import numpy as np\n",
    "from sklearn import preprocessing\n",
    "import matplotlib.pyplot as plt \n",
    "plt.rc(\"font\", size=14)\n",
    "from sklearn.linear_model import LogisticRegression\n",
    "from sklearn.model_selection import train_test_split\n",
    "import seaborn as sns\n",
    "sns.set(style=\"white\")\n",
    "sns.set(style=\"whitegrid\", color_codes=True)"
   ]
  },
  {
   "cell_type": "code",
   "execution_count": 266,
   "metadata": {},
   "outputs": [],
   "source": [
    "from sklearn.decomposition import PCA\n",
    "from sklearn.preprocessing import StandardScaler\n",
    "# Separating out the features\n",
    "x = data.loc[:, to_keep].values\n",
    "# Separating out the target\n",
    "y = data.loc[:,['liquor_category_WHISKY']].values\n",
    "# Standardizing the features\n",
    "x = StandardScaler().fit_transform(x)\n",
    "xss = StandardScaler().fit_transform(x)\n",
    "pca = PCA(n_components=5)\n",
    "principalComponents = pca.fit_transform(x)\n",
    "principalDf = pd.DataFrame(data = principalComponents)\n",
    "#             , columns = ['principal component 1', 'principal component 2', '3',\n",
    "#                         '4', '5'])\n",
    "\n",
    "\n",
    "pca.explained_variance_ratio_\n",
    "finalDf = pd.concat([principalDf, data[['liquor_category_WHISKY']]], axis = 1)"
   ]
  },
  {
   "cell_type": "code",
   "execution_count": 267,
   "metadata": {},
   "outputs": [
    {
     "data": {
      "text/plain": [
       "array([0.12617189, 0.10768138, 0.06257961, 0.04494656, 0.03616438])"
      ]
     },
     "execution_count": 267,
     "metadata": {},
     "output_type": "execute_result"
    }
   ],
   "source": [
    "pca.explained_variance_ratio_"
   ]
  },
  {
   "cell_type": "code",
   "execution_count": 268,
   "metadata": {},
   "outputs": [
    {
     "data": {
      "image/png": "[encoded data removed]",
      "text/plain": [
       "<Figure size 432x288 with 1 Axes>"
      ]
     },
     "metadata": {},
     "output_type": "display_data"
    }
   ],
   "source": [
    "plt.plot(np.cumsum(pca.explained_variance_ratio_))\n",
    "plt.xlabel('number of components')\n",
    "plt.ylabel('cumulative explained variance');"
   ]
  },
  {
   "cell_type": "markdown",
   "metadata": {},
   "source": [
    "#### Logistic regression with PCA"
   ]
  },
  {
   "cell_type": "code",
   "execution_count": 248,
   "metadata": {},
   "outputs": [],
   "source": [
    "x = finalDf.loc[:, finalDf.columns != 'liquor_category_WHISKY']\n",
    "y = finalDf.loc[:, finalDf.columns == 'liquor_category_WHISKY']\n",
    "\n",
    "X_train, X_test, y_train, y_test = train_test_split(x, y, test_size=0.2, random_state=0)\n",
    "#columns = X_train.columns"
   ]
  },
  {
   "cell_type": "code",
   "execution_count": 249,
   "metadata": {},
   "outputs": [
    {
     "name": "stderr",
     "output_type": "stream",
     "text": [
      "C:\\ProgramData\\Anaconda3\\lib\\site-packages\\sklearn\\linear_model\\logistic.py:433: FutureWarning: Default solver will be changed to 'lbfgs' in 0.22. Specify a solver to silence this warning.\n",
      "  FutureWarning)\n",
      "C:\\ProgramData\\Anaconda3\\lib\\site-packages\\sklearn\\utils\\validation.py:761: DataConversionWarning: A column-vector y was passed when a 1d array was expected. Please change the shape of y to (n_samples, ), for example using ravel().\n",
      "  y = column_or_1d(y, warn=True)\n"
     ]
    },
    {
     "data": {
      "text/plain": [
       "LogisticRegression(C=1.0, class_weight=None, dual=False, fit_intercept=True,\n",
       "          intercept_scaling=1, max_iter=100, multi_class='warn',\n",
       "          n_jobs=None, penalty='l2', random_state=None, solver='warn',\n",
       "          tol=0.0001, verbose=0, warm_start=False)"
      ]
     },
     "execution_count": 249,
     "metadata": {},
     "output_type": "execute_result"
    }
   ],
   "source": [
    "#X = data_final.loc[:, data_final.columns != 'liquor_category_WHISKY']\n",
    "#y = data_final.loc[:, data_final.columns == 'liquor_category_WHISKY']\n",
    "\n",
    "#X_train, X_test, y_train, y_test = train_test_split(X, y, test_size=0.2, random_state=0)\n",
    "#columns = X_train.columns\n",
    "\n",
    "\n",
    "from sklearn.linear_model import LogisticRegression\n",
    "# all parameters not specified are set to their defaults\n",
    "logisticRegr = LogisticRegression()\n",
    "\n",
    "logisticRegr.fit(X_train, y_train)"
   ]
  },
  {
   "cell_type": "code",
   "execution_count": 250,
   "metadata": {},
   "outputs": [
    {
     "data": {
      "text/html": [
       "<div>\n",
       "<style scoped>\n",
       "    .dataframe tbody tr th:only-of-type {\n",
       "        vertical-align: middle;\n",
       "    }\n",
       "\n",
       "    .dataframe tbody tr th {\n",
       "        vertical-align: top;\n",
       "    }\n",
       "\n",
       "    .dataframe thead th {\n",
       "        text-align: right;\n",
       "    }\n",
       "</style>\n",
       "<table border=\"1\" class=\"dataframe\">\n",
       "  <thead>\n",
       "    <tr style=\"text-align: right;\">\n",
       "      <th></th>\n",
       "      <th>0</th>\n",
       "      <th>1</th>\n",
       "      <th>2</th>\n",
       "      <th>3</th>\n",
       "      <th>4</th>\n",
       "    </tr>\n",
       "  </thead>\n",
       "  <tbody>\n",
       "    <tr>\n",
       "      <th>20330</th>\n",
       "      <td>57.077504</td>\n",
       "      <td>121.226643</td>\n",
       "      <td>-10.624137</td>\n",
       "      <td>-3.661409</td>\n",
       "      <td>-2.432294</td>\n",
       "    </tr>\n",
       "    <tr>\n",
       "      <th>17532</th>\n",
       "      <td>-171.989069</td>\n",
       "      <td>-44.880444</td>\n",
       "      <td>-29.358601</td>\n",
       "      <td>0.561803</td>\n",
       "      <td>-7.999825</td>\n",
       "    </tr>\n",
       "    <tr>\n",
       "      <th>45819</th>\n",
       "      <td>121.683882</td>\n",
       "      <td>110.938291</td>\n",
       "      <td>-3.295303</td>\n",
       "      <td>-10.291431</td>\n",
       "      <td>1.243406</td>\n",
       "    </tr>\n",
       "    <tr>\n",
       "      <th>34807</th>\n",
       "      <td>5.176962</td>\n",
       "      <td>888.038798</td>\n",
       "      <td>12.797396</td>\n",
       "      <td>4.229006</td>\n",
       "      <td>-11.268854</td>\n",
       "    </tr>\n",
       "    <tr>\n",
       "      <th>31888</th>\n",
       "      <td>-188.013501</td>\n",
       "      <td>-650.284947</td>\n",
       "      <td>-27.826473</td>\n",
       "      <td>0.444933</td>\n",
       "      <td>-3.795056</td>\n",
       "    </tr>\n",
       "  </tbody>\n",
       "</table>\n",
       "</div>"
      ],
      "text/plain": [
       "                0           1          2          3          4\n",
       "20330   57.077504  121.226643 -10.624137  -3.661409  -2.432294\n",
       "17532 -171.989069  -44.880444 -29.358601   0.561803  -7.999825\n",
       "45819  121.683882  110.938291  -3.295303 -10.291431   1.243406\n",
       "34807    5.176962  888.038798  12.797396   4.229006 -11.268854\n",
       "31888 -188.013501 -650.284947 -27.826473   0.444933  -3.795056"
      ]
     },
     "execution_count": 250,
     "metadata": {},
     "output_type": "execute_result"
    }
   ],
   "source": [
    "X_train.head()"
   ]
  },
  {
   "cell_type": "code",
   "execution_count": 251,
   "metadata": {},
   "outputs": [],
   "source": [
    "# Returns a NumPy Array\n",
    "predictions = logisticRegr.predict(X_test)"
   ]
  },
  {
   "cell_type": "code",
   "execution_count": 252,
   "metadata": {},
   "outputs": [
    {
     "name": "stdout",
     "output_type": "stream",
     "text": [
      "0.8289\n"
     ]
    }
   ],
   "source": [
    "# Use score method to get accuracy of model\n",
    "score = logisticRegr.score(X_test, y_test)\n",
    "print(score)"
   ]
  },
  {
   "cell_type": "code",
   "execution_count": 253,
   "metadata": {},
   "outputs": [
    {
     "name": "stdout",
     "output_type": "stream",
     "text": [
      "Confusion Matrix:  \n",
      " [[7152  425]\n",
      " [1286 1137]]\n"
     ]
    }
   ],
   "source": [
    "import matplotlib.pyplot as plt\n",
    "import seaborn as sns\n",
    "from sklearn import metrics\n",
    "cm = metrics.confusion_matrix(y_test, predictions)\n",
    "print(\"Confusion Matrix: \", '\\n', cm)"
   ]
  },
  {
   "cell_type": "code",
   "execution_count": 254,
   "metadata": {},
   "outputs": [
    {
     "name": "stdout",
     "output_type": "stream",
     "text": [
      "No Skill: ROC AUC=0.500\n",
      "Logistic: ROC AUC=0.878\n"
     ]
    }
   ],
   "source": [
    "from sklearn.metrics import roc_curve\n",
    "from sklearn.metrics import roc_auc_score\n",
    "# predict probabilities\n",
    "lr_probs = logisticRegr.predict_proba(X_test)\n",
    "ns_probs = [0 for _ in range(len(y_test))]\n",
    "# keep probabilities for the positive outcome only\n",
    "lr_probs = lr_probs[:, 1]\n",
    "# calculate scores\n",
    "ns_auc = roc_auc_score(y_test, ns_probs)\n",
    "lr_auc = roc_auc_score(y_test, lr_probs)\n",
    "# summarize scores\n",
    "print('No Skill: ROC AUC=%.3f' % (ns_auc))\n",
    "print('Logistic: ROC AUC=%.3f' % (lr_auc))\n",
    "# calculate roc curves\n",
    "ns_fpr, ns_tpr, _ = roc_curve(y_test, ns_probs)\n",
    "lr_fpr, lr_tpr, _ = roc_curve(y_test, lr_probs)"
   ]
  },
  {
   "cell_type": "code",
   "execution_count": 255,
   "metadata": {},
   "outputs": [
    {
     "name": "stdout",
     "output_type": "stream",
     "text": [
      "Logistic: f1=0.571 auc=0.706\n"
     ]
    },
    {
     "data": {
      "image/png": "[encoded data removed]",
      "text/plain": [
       "<Figure size 432x288 with 1 Axes>"
      ]
     },
     "metadata": {},
     "output_type": "display_data"
    }
   ],
   "source": [
    "from sklearn.metrics import precision_recall_curve\n",
    "from sklearn.metrics import f1_score\n",
    "from sklearn.metrics import auc\n",
    "# predict probabilities\n",
    "lr_probs = logisticRegr .predict_proba(X_test)\n",
    "# keep probabilities for the positive outcome only\n",
    "lr_probs = lr_probs[:, 1]\n",
    "# predict class values\n",
    "yhat = logisticRegr .predict(X_test)\n",
    "lr_precision, lr_recall, _ = precision_recall_curve(y_test, lr_probs)\n",
    "lr_f1, lr_auc = f1_score(y_test, yhat), auc(lr_recall, lr_precision)\n",
    "# summarize scores\n",
    "print('Logistic: f1=%.3f auc=%.3f' % (lr_f1, lr_auc))\n",
    "# plot the precision-recall curves\n",
    "no_skill = len(y_test[y_test==1]) / len(y_test)\n",
    "pyplot.plot([0, 1], [no_skill, no_skill], linestyle='--', label='No Skill')\n",
    "pyplot.plot(lr_recall, lr_precision, marker='.', label='Logistic')\n",
    "# axis labels\n",
    "pyplot.xlabel('Recall')\n",
    "pyplot.ylabel('Precision')\n",
    "# show the legend\n",
    "pyplot.legend()\n",
    "# show the plot\n",
    "pyplot.show()"
   ]
  },
  {
   "cell_type": "markdown",
   "metadata": {},
   "source": [
    "#### Support Vector Machine Model:"
   ]
  },
  {
   "cell_type": "code",
   "execution_count": 162,
   "metadata": {},
   "outputs": [
    {
     "name": "stderr",
     "output_type": "stream",
     "text": [
      "C:\\ProgramData\\Anaconda3\\lib\\site-packages\\sklearn\\utils\\validation.py:761: DataConversionWarning: A column-vector y was passed when a 1d array was expected. Please change the shape of y to (n_samples, ), for example using ravel().\n",
      "  y = column_or_1d(y, warn=True)\n"
     ]
    },
    {
     "data": {
      "text/plain": [
       "SVC(C=1.0, cache_size=200, class_weight=None, coef0=0.0,\n",
       "  decision_function_shape='ovr', degree=3, gamma='auto_deprecated',\n",
       "  kernel='linear', max_iter=-1, probability=False, random_state=None,\n",
       "  shrinking=True, tol=0.001, verbose=False)"
      ]
     },
     "execution_count": 162,
     "metadata": {},
     "output_type": "execute_result"
    }
   ],
   "source": [
    "#possibility to scale it?\n",
    "from sklearn import preprocessing\n",
    "X_train = preprocessing.scale(X_train)\n",
    "X_test = preprocessing.scale(X_test)\n",
    "\n",
    "# all parameters not specified are set to their defaults\n",
    "#https://stackabuse.com/implementing-svm-and-kernel-svm-with-pythons-scikit-learn/\n",
    "from sklearn.svm import SVC\n",
    "#svclassifier = SVC(kernel='poly', degree=8)\n",
    "#svclassifier = SVC(kernel='rbf')\n",
    "svclassifier = SVC(kernel='linear')\n",
    "svclassifier.fit(X_train, y_train)"
   ]
  },
  {
   "cell_type": "code",
   "execution_count": 163,
   "metadata": {},
   "outputs": [
    {
     "name": "stdout",
     "output_type": "stream",
     "text": [
      "[[7576    1]\n",
      " [   0 2423]]\n",
      "              precision    recall  f1-score   support\n",
      "\n",
      "           0       1.00      1.00      1.00      7577\n",
      "           1       1.00      1.00      1.00      2423\n",
      "\n",
      "   micro avg       1.00      1.00      1.00     10000\n",
      "   macro avg       1.00      1.00      1.00     10000\n",
      "weighted avg       1.00      1.00      1.00     10000\n",
      "\n"
     ]
    }
   ],
   "source": [
    "# Returns a NumPy Array\n",
    "predictions = svclassifier.predict(X_test)\n",
    "from sklearn.metrics import classification_report, confusion_matrix\n",
    "print(confusion_matrix(y_test, predictions))\n",
    "print(classification_report(y_test, predictions))"
   ]
  },
  {
   "cell_type": "code",
   "execution_count": 213,
   "metadata": {},
   "outputs": [],
   "source": [
    "#testing another set\n",
    "url_dataset = 'https://github.com/jjschueder/7331DataMiningNotebooks/blob/master/Live%20Assignment%201/df1hotmerge2.csv?raw=true'\n",
    "#df = pd.read_csv(url_dataset, nrows=50000)\n",
    "data2 = pd.read_csv(url_dataset, nrows=200000)\n"
   ]
  },
  {
   "cell_type": "code",
   "execution_count": 214,
   "metadata": {},
   "outputs": [],
   "source": [
    "data2 = data2.iloc[100000:150000]"
   ]
  },
  {
   "cell_type": "code",
   "execution_count": 215,
   "metadata": {},
   "outputs": [
    {
     "name": "stdout",
     "output_type": "stream",
     "text": [
      "percentage of not whiskey is 77.96\n",
      "percentage of whiskey 22.040000000000003\n"
     ]
    }
   ],
   "source": [
    "data2 = data2.drop(columns = ['Unnamed: 0'])\n",
    "count_not_whiskey = len(data2[data2['liquor_category_WHISKY']==0])\n",
    "count_whiskey = len(data2[data2['liquor_category_WHISKY']==1])\n",
    "pct_of_no_whiskey = count_not_whiskey/(count_not_whiskey+count_whiskey)\n",
    "print(\"percentage of not whiskey is\", pct_of_no_whiskey*100)\n",
    "pct_of_whiskey = count_whiskey/(count_not_whiskey+count_whiskey)\n",
    "print(\"percentage of whiskey\", pct_of_whiskey*100)"
   ]
  },
  {
   "cell_type": "code",
   "execution_count": 217,
   "metadata": {},
   "outputs": [
    {
     "data": {
      "text/plain": [
       "array(['pack', 'bottle_volume_ml', 'state_bottle_cost',\n",
       "       'state_bottle_retail', 'bottles_sold', 'sale_dollars',\n",
       "       'volume_sold_liters', 'volume_sold_gallons',\n",
       "       'liquor_category_WHISKY', 'store_parent_CVS',\n",
       "       'store_parent_Caseys', 'store_parent_Hy-Vee',\n",
       "       'store_parent_Kum&Go', 'store_parent_Other',\n",
       "       'store_parent_QuikTrip', 'store_parent_SamsClub',\n",
       "       'store_parent_SmokingJoes', 'store_parent_Target',\n",
       "       'store_parent_Wal-Mart', 'store_parent_Walgreens', 'year_2019',\n",
       "       'monthyear_Apr-2019', 'monthyear_Aug-2019', 'monthyear_Dec-2019',\n",
       "       'monthyear_Feb-2019', 'monthyear_Jan-2019', 'monthyear_Jul-2019',\n",
       "       'monthyear_Jun-2019', 'monthyear_Mar-2019', 'monthyear_May-2019',\n",
       "       'monthyear_Nov-2019', 'monthyear_Oct-2019', 'monthyear_Sep-2019',\n",
       "       'sale_dollars_trans', 'cost_per_liter', 'cost_per_liter_trans',\n",
       "       'state_bottle_cost_trans', 'bottles_sold_trans',\n",
       "       'volume_sold_liters_trans', 'grossmargin'], dtype=object)"
      ]
     },
     "execution_count": 217,
     "metadata": {},
     "output_type": "execute_result"
    }
   ],
   "source": [
    "cat_vars=['counter', 'liquor_category', 'store_parent',\n",
    " 'month', 'year', 'monthyear', 'liquor_category_AMARETTO', 'liquor_category_BRANDY', 'liquor_category_GIN', \n",
    " 'liquor_category_LIQUEUR', 'liquor_category_Other', 'liquor_category_RUM', 'liquor_category_SCHNAPPS', \n",
    " 'liquor_category_TEQUILA', 'liquor_category_VODKA', 'month_Apr', 'month_Aug', 'month_Dec', 'month_Feb',\n",
    " 'month_Jan', 'month_Jul', 'month_Jun', 'month_Mar', 'month_May', 'month_Nov', 'month_Oct', 'month_Sep']\n",
    "data_vars=data.columns.values.tolist()\n",
    "to_keep=[i for i in data_vars if i not in cat_vars]\n",
    "\n",
    "data_final2=data2[to_keep]\n",
    "data_final2.columns.values"
   ]
  },
  {
   "cell_type": "code",
   "execution_count": 218,
   "metadata": {},
   "outputs": [],
   "source": [
    "data_final2 = data_final2.reset_index(drop=True)"
   ]
  },
  {
   "cell_type": "code",
   "execution_count": 256,
   "metadata": {},
   "outputs": [],
   "source": [
    "from sklearn.decomposition import PCA\n",
    "from sklearn.preprocessing import StandardScaler\n",
    "# Separating out the features\n",
    "x2 = data_final2.loc[:, to_keep].values\n",
    "# Separating out the target\n",
    "y2 = data_final2.loc[:,['liquor_category_WHISKY']].values\n",
    "# Standardizing the features\n",
    "#x2 = StandardScaler().fit_transform(x2)\n",
    "xss = StandardScaler().fit_transform(x2)\n",
    "pca2 = PCA(n_components=5)\n",
    "principalComponents2 = pca2.fit_transform(x2)\n",
    "principalDf2 = pd.DataFrame(data = principalComponents)\n",
    "#             , columns = ['principal component 1', 'principal component 2', '3',\n",
    "#                         '4', '5'])\n",
    "\n",
    "\n",
    "pca2.explained_variance_ratio_\n",
    "finalDf2 = pd.concat([principalDf2, data_final2[['liquor_category_WHISKY']]], axis = 1)"
   ]
  },
  {
   "cell_type": "code",
   "execution_count": 257,
   "metadata": {},
   "outputs": [
    {
     "data": {
      "text/html": [
       "<div>\n",
       "<style scoped>\n",
       "    .dataframe tbody tr th:only-of-type {\n",
       "        vertical-align: middle;\n",
       "    }\n",
       "\n",
       "    .dataframe tbody tr th {\n",
       "        vertical-align: top;\n",
       "    }\n",
       "\n",
       "    .dataframe thead th {\n",
       "        text-align: right;\n",
       "    }\n",
       "</style>\n",
       "<table border=\"1\" class=\"dataframe\">\n",
       "  <thead>\n",
       "    <tr style=\"text-align: right;\">\n",
       "      <th></th>\n",
       "      <th>0</th>\n",
       "      <th>1</th>\n",
       "      <th>2</th>\n",
       "      <th>3</th>\n",
       "      <th>4</th>\n",
       "      <th>liquor_category_WHISKY</th>\n",
       "    </tr>\n",
       "  </thead>\n",
       "  <tbody>\n",
       "    <tr>\n",
       "      <th>0</th>\n",
       "      <td>-129.074941</td>\n",
       "      <td>-481.798395</td>\n",
       "      <td>-41.570447</td>\n",
       "      <td>3.998740</td>\n",
       "      <td>-4.686202</td>\n",
       "      <td>0</td>\n",
       "    </tr>\n",
       "    <tr>\n",
       "      <th>1</th>\n",
       "      <td>-282.944819</td>\n",
       "      <td>-796.769547</td>\n",
       "      <td>188.697812</td>\n",
       "      <td>33.461768</td>\n",
       "      <td>-36.384220</td>\n",
       "      <td>0</td>\n",
       "    </tr>\n",
       "    <tr>\n",
       "      <th>2</th>\n",
       "      <td>-1.301443</td>\n",
       "      <td>130.097244</td>\n",
       "      <td>-1.164365</td>\n",
       "      <td>-5.862080</td>\n",
       "      <td>4.190541</td>\n",
       "      <td>0</td>\n",
       "    </tr>\n",
       "    <tr>\n",
       "      <th>3</th>\n",
       "      <td>565.278792</td>\n",
       "      <td>-211.935372</td>\n",
       "      <td>12.504440</td>\n",
       "      <td>-48.688635</td>\n",
       "      <td>5.507820</td>\n",
       "      <td>0</td>\n",
       "    </tr>\n",
       "    <tr>\n",
       "      <th>4</th>\n",
       "      <td>134.896420</td>\n",
       "      <td>867.878154</td>\n",
       "      <td>7.789264</td>\n",
       "      <td>11.429308</td>\n",
       "      <td>-15.336698</td>\n",
       "      <td>0</td>\n",
       "    </tr>\n",
       "    <tr>\n",
       "      <th>5</th>\n",
       "      <td>109.038411</td>\n",
       "      <td>112.224143</td>\n",
       "      <td>22.911352</td>\n",
       "      <td>-17.289110</td>\n",
       "      <td>20.340584</td>\n",
       "      <td>0</td>\n",
       "    </tr>\n",
       "    <tr>\n",
       "      <th>6</th>\n",
       "      <td>-137.315812</td>\n",
       "      <td>-353.971155</td>\n",
       "      <td>-36.015783</td>\n",
       "      <td>1.625319</td>\n",
       "      <td>-4.196268</td>\n",
       "      <td>0</td>\n",
       "    </tr>\n",
       "    <tr>\n",
       "      <th>7</th>\n",
       "      <td>192.963401</td>\n",
       "      <td>-152.813428</td>\n",
       "      <td>-22.159107</td>\n",
       "      <td>-4.052259</td>\n",
       "      <td>-4.245099</td>\n",
       "      <td>0</td>\n",
       "    </tr>\n",
       "    <tr>\n",
       "      <th>8</th>\n",
       "      <td>-230.228963</td>\n",
       "      <td>-542.814886</td>\n",
       "      <td>-13.319460</td>\n",
       "      <td>0.550346</td>\n",
       "      <td>0.792439</td>\n",
       "      <td>0</td>\n",
       "    </tr>\n",
       "    <tr>\n",
       "      <th>9</th>\n",
       "      <td>147.596017</td>\n",
       "      <td>106.033422</td>\n",
       "      <td>31.622328</td>\n",
       "      <td>-21.355058</td>\n",
       "      <td>26.389328</td>\n",
       "      <td>0</td>\n",
       "    </tr>\n",
       "    <tr>\n",
       "      <th>10</th>\n",
       "      <td>-25.387870</td>\n",
       "      <td>-118.434432</td>\n",
       "      <td>-33.370680</td>\n",
       "      <td>11.320888</td>\n",
       "      <td>-7.194663</td>\n",
       "      <td>0</td>\n",
       "    </tr>\n",
       "    <tr>\n",
       "      <th>11</th>\n",
       "      <td>-129.799839</td>\n",
       "      <td>150.857106</td>\n",
       "      <td>-26.955423</td>\n",
       "      <td>4.687000</td>\n",
       "      <td>-13.560204</td>\n",
       "      <td>0</td>\n",
       "    </tr>\n",
       "    <tr>\n",
       "      <th>12</th>\n",
       "      <td>-120.925889</td>\n",
       "      <td>-255.385389</td>\n",
       "      <td>-31.237966</td>\n",
       "      <td>0.813839</td>\n",
       "      <td>-4.043690</td>\n",
       "      <td>0</td>\n",
       "    </tr>\n",
       "    <tr>\n",
       "      <th>13</th>\n",
       "      <td>-125.131829</td>\n",
       "      <td>150.127946</td>\n",
       "      <td>-27.065711</td>\n",
       "      <td>5.590101</td>\n",
       "      <td>-13.429426</td>\n",
       "      <td>0</td>\n",
       "    </tr>\n",
       "    <tr>\n",
       "      <th>14</th>\n",
       "      <td>258.269301</td>\n",
       "      <td>-163.362877</td>\n",
       "      <td>-11.481071</td>\n",
       "      <td>-17.463187</td>\n",
       "      <td>-1.287645</td>\n",
       "      <td>0</td>\n",
       "    </tr>\n",
       "    <tr>\n",
       "      <th>15</th>\n",
       "      <td>388.421497</td>\n",
       "      <td>-184.306205</td>\n",
       "      <td>12.360875</td>\n",
       "      <td>-37.350405</td>\n",
       "      <td>8.298687</td>\n",
       "      <td>0</td>\n",
       "    </tr>\n",
       "    <tr>\n",
       "      <th>16</th>\n",
       "      <td>2252.712055</td>\n",
       "      <td>-476.335783</td>\n",
       "      <td>40.922037</td>\n",
       "      <td>-180.869012</td>\n",
       "      <td>-10.696158</td>\n",
       "      <td>0</td>\n",
       "    </tr>\n",
       "    <tr>\n",
       "      <th>17</th>\n",
       "      <td>292.399684</td>\n",
       "      <td>-169.033063</td>\n",
       "      <td>2.863777</td>\n",
       "      <td>-27.677492</td>\n",
       "      <td>5.074633</td>\n",
       "      <td>0</td>\n",
       "    </tr>\n",
       "    <tr>\n",
       "      <th>18</th>\n",
       "      <td>-32.542357</td>\n",
       "      <td>-16.771539</td>\n",
       "      <td>-4.389439</td>\n",
       "      <td>-6.107802</td>\n",
       "      <td>5.129117</td>\n",
       "      <td>0</td>\n",
       "    </tr>\n",
       "    <tr>\n",
       "      <th>19</th>\n",
       "      <td>-192.186291</td>\n",
       "      <td>-244.230527</td>\n",
       "      <td>-31.012709</td>\n",
       "      <td>-0.142254</td>\n",
       "      <td>-3.801430</td>\n",
       "      <td>0</td>\n",
       "    </tr>\n",
       "    <tr>\n",
       "      <th>20</th>\n",
       "      <td>470.726611</td>\n",
       "      <td>-196.959180</td>\n",
       "      <td>5.211904</td>\n",
       "      <td>-39.096490</td>\n",
       "      <td>3.550334</td>\n",
       "      <td>0</td>\n",
       "    </tr>\n",
       "    <tr>\n",
       "      <th>21</th>\n",
       "      <td>2252.712057</td>\n",
       "      <td>-476.335772</td>\n",
       "      <td>40.921988</td>\n",
       "      <td>-180.868853</td>\n",
       "      <td>-10.696085</td>\n",
       "      <td>0</td>\n",
       "    </tr>\n",
       "    <tr>\n",
       "      <th>22</th>\n",
       "      <td>-140.648543</td>\n",
       "      <td>152.578923</td>\n",
       "      <td>-27.761605</td>\n",
       "      <td>3.041493</td>\n",
       "      <td>-14.607877</td>\n",
       "      <td>0</td>\n",
       "    </tr>\n",
       "    <tr>\n",
       "      <th>23</th>\n",
       "      <td>-153.519294</td>\n",
       "      <td>-816.125433</td>\n",
       "      <td>166.769532</td>\n",
       "      <td>23.015850</td>\n",
       "      <td>-35.790991</td>\n",
       "      <td>0</td>\n",
       "    </tr>\n",
       "    <tr>\n",
       "      <th>24</th>\n",
       "      <td>-85.904751</td>\n",
       "      <td>143.153449</td>\n",
       "      <td>7.109557</td>\n",
       "      <td>-2.710305</td>\n",
       "      <td>11.854362</td>\n",
       "      <td>0</td>\n",
       "    </tr>\n",
       "    <tr>\n",
       "      <th>25</th>\n",
       "      <td>-215.592006</td>\n",
       "      <td>-468.688428</td>\n",
       "      <td>-29.264921</td>\n",
       "      <td>-0.368297</td>\n",
       "      <td>-2.170101</td>\n",
       "      <td>0</td>\n",
       "    </tr>\n",
       "    <tr>\n",
       "      <th>26</th>\n",
       "      <td>-243.219267</td>\n",
       "      <td>-540.782071</td>\n",
       "      <td>-13.342861</td>\n",
       "      <td>1.114905</td>\n",
       "      <td>0.961840</td>\n",
       "      <td>0</td>\n",
       "    </tr>\n",
       "    <tr>\n",
       "      <th>27</th>\n",
       "      <td>-32.542357</td>\n",
       "      <td>-16.771539</td>\n",
       "      <td>-4.389439</td>\n",
       "      <td>-6.107802</td>\n",
       "      <td>5.129117</td>\n",
       "      <td>0</td>\n",
       "    </tr>\n",
       "    <tr>\n",
       "      <th>28</th>\n",
       "      <td>124.919254</td>\n",
       "      <td>868.847632</td>\n",
       "      <td>41.544609</td>\n",
       "      <td>-8.440459</td>\n",
       "      <td>23.044852</td>\n",
       "      <td>0</td>\n",
       "    </tr>\n",
       "    <tr>\n",
       "      <th>29</th>\n",
       "      <td>617.103741</td>\n",
       "      <td>-219.822830</td>\n",
       "      <td>5.024061</td>\n",
       "      <td>-47.273786</td>\n",
       "      <td>1.313400</td>\n",
       "      <td>0</td>\n",
       "    </tr>\n",
       "    <tr>\n",
       "      <th>...</th>\n",
       "      <td>...</td>\n",
       "      <td>...</td>\n",
       "      <td>...</td>\n",
       "      <td>...</td>\n",
       "      <td>...</td>\n",
       "      <td>...</td>\n",
       "    </tr>\n",
       "    <tr>\n",
       "      <th>49970</th>\n",
       "      <td>124.203174</td>\n",
       "      <td>-142.749412</td>\n",
       "      <td>0.444718</td>\n",
       "      <td>-17.231030</td>\n",
       "      <td>6.071788</td>\n",
       "      <td>0</td>\n",
       "    </tr>\n",
       "    <tr>\n",
       "      <th>49971</th>\n",
       "      <td>-120.752816</td>\n",
       "      <td>-103.459184</td>\n",
       "      <td>-34.452269</td>\n",
       "      <td>7.086948</td>\n",
       "      <td>-8.423017</td>\n",
       "      <td>0</td>\n",
       "    </tr>\n",
       "    <tr>\n",
       "      <th>49972</th>\n",
       "      <td>186.217707</td>\n",
       "      <td>-152.641578</td>\n",
       "      <td>9.580055</td>\n",
       "      <td>-23.463865</td>\n",
       "      <td>10.165537</td>\n",
       "      <td>0</td>\n",
       "    </tr>\n",
       "    <tr>\n",
       "      <th>49973</th>\n",
       "      <td>44.044542</td>\n",
       "      <td>-129.892150</td>\n",
       "      <td>-10.970853</td>\n",
       "      <td>-9.276069</td>\n",
       "      <td>1.341536</td>\n",
       "      <td>0</td>\n",
       "    </tr>\n",
       "    <tr>\n",
       "      <th>49974</th>\n",
       "      <td>99.448326</td>\n",
       "      <td>-138.778885</td>\n",
       "      <td>-3.078523</td>\n",
       "      <td>-14.776327</td>\n",
       "      <td>4.620644</td>\n",
       "      <td>0</td>\n",
       "    </tr>\n",
       "    <tr>\n",
       "      <th>49975</th>\n",
       "      <td>99.448326</td>\n",
       "      <td>-138.778885</td>\n",
       "      <td>-3.078523</td>\n",
       "      <td>-14.776327</td>\n",
       "      <td>4.620644</td>\n",
       "      <td>0</td>\n",
       "    </tr>\n",
       "    <tr>\n",
       "      <th>49976</th>\n",
       "      <td>99.448326</td>\n",
       "      <td>-138.778885</td>\n",
       "      <td>-3.078523</td>\n",
       "      <td>-14.776327</td>\n",
       "      <td>4.620644</td>\n",
       "      <td>0</td>\n",
       "    </tr>\n",
       "    <tr>\n",
       "      <th>49977</th>\n",
       "      <td>-67.352600</td>\n",
       "      <td>-112.024290</td>\n",
       "      <td>-26.839892</td>\n",
       "      <td>1.782349</td>\n",
       "      <td>-5.250066</td>\n",
       "      <td>0</td>\n",
       "    </tr>\n",
       "    <tr>\n",
       "      <th>49978</th>\n",
       "      <td>-70.299668</td>\n",
       "      <td>-111.551719</td>\n",
       "      <td>-27.260836</td>\n",
       "      <td>2.075507</td>\n",
       "      <td>-5.425261</td>\n",
       "      <td>0</td>\n",
       "    </tr>\n",
       "    <tr>\n",
       "      <th>49979</th>\n",
       "      <td>35.792951</td>\n",
       "      <td>-128.568508</td>\n",
       "      <td>-12.146419</td>\n",
       "      <td>-8.457003</td>\n",
       "      <td>0.851443</td>\n",
       "      <td>0</td>\n",
       "    </tr>\n",
       "    <tr>\n",
       "      <th>49980</th>\n",
       "      <td>247.741706</td>\n",
       "      <td>-162.564648</td>\n",
       "      <td>18.038445</td>\n",
       "      <td>-29.491879</td>\n",
       "      <td>13.368865</td>\n",
       "      <td>0</td>\n",
       "    </tr>\n",
       "    <tr>\n",
       "      <th>49981</th>\n",
       "      <td>168.408261</td>\n",
       "      <td>-149.839795</td>\n",
       "      <td>6.739619</td>\n",
       "      <td>-21.617505</td>\n",
       "      <td>8.679513</td>\n",
       "      <td>0</td>\n",
       "    </tr>\n",
       "    <tr>\n",
       "      <th>49982</th>\n",
       "      <td>35.792946</td>\n",
       "      <td>-128.568548</td>\n",
       "      <td>-12.146195</td>\n",
       "      <td>-8.457457</td>\n",
       "      <td>0.853336</td>\n",
       "      <td>0</td>\n",
       "    </tr>\n",
       "    <tr>\n",
       "      <th>49983</th>\n",
       "      <td>47.826211</td>\n",
       "      <td>-130.443850</td>\n",
       "      <td>-10.130365</td>\n",
       "      <td>-9.728045</td>\n",
       "      <td>1.986488</td>\n",
       "      <td>0</td>\n",
       "    </tr>\n",
       "    <tr>\n",
       "      <th>49984</th>\n",
       "      <td>99.448326</td>\n",
       "      <td>-138.778885</td>\n",
       "      <td>-3.078523</td>\n",
       "      <td>-14.776327</td>\n",
       "      <td>4.620644</td>\n",
       "      <td>0</td>\n",
       "    </tr>\n",
       "    <tr>\n",
       "      <th>49985</th>\n",
       "      <td>-43.658596</td>\n",
       "      <td>-115.824851</td>\n",
       "      <td>-23.463781</td>\n",
       "      <td>-0.570106</td>\n",
       "      <td>-3.845170</td>\n",
       "      <td>0</td>\n",
       "    </tr>\n",
       "    <tr>\n",
       "      <th>49986</th>\n",
       "      <td>99.448326</td>\n",
       "      <td>-138.778885</td>\n",
       "      <td>-3.078523</td>\n",
       "      <td>-14.776327</td>\n",
       "      <td>4.620644</td>\n",
       "      <td>0</td>\n",
       "    </tr>\n",
       "    <tr>\n",
       "      <th>49987</th>\n",
       "      <td>99.448326</td>\n",
       "      <td>-138.778885</td>\n",
       "      <td>-3.078523</td>\n",
       "      <td>-14.776327</td>\n",
       "      <td>4.620644</td>\n",
       "      <td>0</td>\n",
       "    </tr>\n",
       "    <tr>\n",
       "      <th>49988</th>\n",
       "      <td>99.448369</td>\n",
       "      <td>-138.778764</td>\n",
       "      <td>-3.078397</td>\n",
       "      <td>-14.776578</td>\n",
       "      <td>4.619819</td>\n",
       "      <td>0</td>\n",
       "    </tr>\n",
       "    <tr>\n",
       "      <th>49989</th>\n",
       "      <td>35.792950</td>\n",
       "      <td>-128.568543</td>\n",
       "      <td>-12.146179</td>\n",
       "      <td>-8.457309</td>\n",
       "      <td>0.853100</td>\n",
       "      <td>0</td>\n",
       "    </tr>\n",
       "    <tr>\n",
       "      <th>49990</th>\n",
       "      <td>21.293676</td>\n",
       "      <td>-126.242974</td>\n",
       "      <td>-14.209714</td>\n",
       "      <td>-7.020286</td>\n",
       "      <td>0.006639</td>\n",
       "      <td>0</td>\n",
       "    </tr>\n",
       "    <tr>\n",
       "      <th>49991</th>\n",
       "      <td>35.792951</td>\n",
       "      <td>-128.568508</td>\n",
       "      <td>-12.146419</td>\n",
       "      <td>-8.457003</td>\n",
       "      <td>0.851443</td>\n",
       "      <td>0</td>\n",
       "    </tr>\n",
       "    <tr>\n",
       "      <th>49992</th>\n",
       "      <td>99.448332</td>\n",
       "      <td>-138.778882</td>\n",
       "      <td>-3.078568</td>\n",
       "      <td>-14.776375</td>\n",
       "      <td>4.620820</td>\n",
       "      <td>0</td>\n",
       "    </tr>\n",
       "    <tr>\n",
       "      <th>49993</th>\n",
       "      <td>-70.299663</td>\n",
       "      <td>-111.551720</td>\n",
       "      <td>-27.260808</td>\n",
       "      <td>2.075293</td>\n",
       "      <td>-5.425268</td>\n",
       "      <td>0</td>\n",
       "    </tr>\n",
       "    <tr>\n",
       "      <th>49994</th>\n",
       "      <td>-21.846253</td>\n",
       "      <td>-119.312111</td>\n",
       "      <td>-20.078778</td>\n",
       "      <td>-2.909110</td>\n",
       "      <td>-1.257511</td>\n",
       "      <td>0</td>\n",
       "    </tr>\n",
       "    <tr>\n",
       "      <th>49995</th>\n",
       "      <td>-83.981601</td>\n",
       "      <td>-109.377174</td>\n",
       "      <td>-29.704304</td>\n",
       "      <td>3.741248</td>\n",
       "      <td>-8.540674</td>\n",
       "      <td>0</td>\n",
       "    </tr>\n",
       "    <tr>\n",
       "      <th>49996</th>\n",
       "      <td>26.951915</td>\n",
       "      <td>-127.150461</td>\n",
       "      <td>-13.405414</td>\n",
       "      <td>-7.579901</td>\n",
       "      <td>0.330775</td>\n",
       "      <td>0</td>\n",
       "    </tr>\n",
       "    <tr>\n",
       "      <th>49997</th>\n",
       "      <td>-113.768362</td>\n",
       "      <td>-484.203027</td>\n",
       "      <td>-43.042719</td>\n",
       "      <td>5.770223</td>\n",
       "      <td>-5.150137</td>\n",
       "      <td>0</td>\n",
       "    </tr>\n",
       "    <tr>\n",
       "      <th>49998</th>\n",
       "      <td>79.998094</td>\n",
       "      <td>-135.658928</td>\n",
       "      <td>-5.850264</td>\n",
       "      <td>-12.844626</td>\n",
       "      <td>3.463689</td>\n",
       "      <td>0</td>\n",
       "    </tr>\n",
       "    <tr>\n",
       "      <th>49999</th>\n",
       "      <td>99.448368</td>\n",
       "      <td>-138.778799</td>\n",
       "      <td>-3.078157</td>\n",
       "      <td>-14.776884</td>\n",
       "      <td>4.621476</td>\n",
       "      <td>0</td>\n",
       "    </tr>\n",
       "  </tbody>\n",
       "</table>\n",
       "<p>50000 rows × 6 columns</p>\n",
       "</div>"
      ],
      "text/plain": [
       "                 0           1           2           3          4  \\\n",
       "0      -129.074941 -481.798395  -41.570447    3.998740  -4.686202   \n",
       "1      -282.944819 -796.769547  188.697812   33.461768 -36.384220   \n",
       "2        -1.301443  130.097244   -1.164365   -5.862080   4.190541   \n",
       "3       565.278792 -211.935372   12.504440  -48.688635   5.507820   \n",
       "4       134.896420  867.878154    7.789264   11.429308 -15.336698   \n",
       "5       109.038411  112.224143   22.911352  -17.289110  20.340584   \n",
       "6      -137.315812 -353.971155  -36.015783    1.625319  -4.196268   \n",
       "7       192.963401 -152.813428  -22.159107   -4.052259  -4.245099   \n",
       "8      -230.228963 -542.814886  -13.319460    0.550346   0.792439   \n",
       "9       147.596017  106.033422   31.622328  -21.355058  26.389328   \n",
       "10      -25.387870 -118.434432  -33.370680   11.320888  -7.194663   \n",
       "11     -129.799839  150.857106  -26.955423    4.687000 -13.560204   \n",
       "12     -120.925889 -255.385389  -31.237966    0.813839  -4.043690   \n",
       "13     -125.131829  150.127946  -27.065711    5.590101 -13.429426   \n",
       "14      258.269301 -163.362877  -11.481071  -17.463187  -1.287645   \n",
       "15      388.421497 -184.306205   12.360875  -37.350405   8.298687   \n",
       "16     2252.712055 -476.335783   40.922037 -180.869012 -10.696158   \n",
       "17      292.399684 -169.033063    2.863777  -27.677492   5.074633   \n",
       "18      -32.542357  -16.771539   -4.389439   -6.107802   5.129117   \n",
       "19     -192.186291 -244.230527  -31.012709   -0.142254  -3.801430   \n",
       "20      470.726611 -196.959180    5.211904  -39.096490   3.550334   \n",
       "21     2252.712057 -476.335772   40.921988 -180.868853 -10.696085   \n",
       "22     -140.648543  152.578923  -27.761605    3.041493 -14.607877   \n",
       "23     -153.519294 -816.125433  166.769532   23.015850 -35.790991   \n",
       "24      -85.904751  143.153449    7.109557   -2.710305  11.854362   \n",
       "25     -215.592006 -468.688428  -29.264921   -0.368297  -2.170101   \n",
       "26     -243.219267 -540.782071  -13.342861    1.114905   0.961840   \n",
       "27      -32.542357  -16.771539   -4.389439   -6.107802   5.129117   \n",
       "28      124.919254  868.847632   41.544609   -8.440459  23.044852   \n",
       "29      617.103741 -219.822830    5.024061  -47.273786   1.313400   \n",
       "...            ...         ...         ...         ...        ...   \n",
       "49970   124.203174 -142.749412    0.444718  -17.231030   6.071788   \n",
       "49971  -120.752816 -103.459184  -34.452269    7.086948  -8.423017   \n",
       "49972   186.217707 -152.641578    9.580055  -23.463865  10.165537   \n",
       "49973    44.044542 -129.892150  -10.970853   -9.276069   1.341536   \n",
       "49974    99.448326 -138.778885   -3.078523  -14.776327   4.620644   \n",
       "49975    99.448326 -138.778885   -3.078523  -14.776327   4.620644   \n",
       "49976    99.448326 -138.778885   -3.078523  -14.776327   4.620644   \n",
       "49977   -67.352600 -112.024290  -26.839892    1.782349  -5.250066   \n",
       "49978   -70.299668 -111.551719  -27.260836    2.075507  -5.425261   \n",
       "49979    35.792951 -128.568508  -12.146419   -8.457003   0.851443   \n",
       "49980   247.741706 -162.564648   18.038445  -29.491879  13.368865   \n",
       "49981   168.408261 -149.839795    6.739619  -21.617505   8.679513   \n",
       "49982    35.792946 -128.568548  -12.146195   -8.457457   0.853336   \n",
       "49983    47.826211 -130.443850  -10.130365   -9.728045   1.986488   \n",
       "49984    99.448326 -138.778885   -3.078523  -14.776327   4.620644   \n",
       "49985   -43.658596 -115.824851  -23.463781   -0.570106  -3.845170   \n",
       "49986    99.448326 -138.778885   -3.078523  -14.776327   4.620644   \n",
       "49987    99.448326 -138.778885   -3.078523  -14.776327   4.620644   \n",
       "49988    99.448369 -138.778764   -3.078397  -14.776578   4.619819   \n",
       "49989    35.792950 -128.568543  -12.146179   -8.457309   0.853100   \n",
       "49990    21.293676 -126.242974  -14.209714   -7.020286   0.006639   \n",
       "49991    35.792951 -128.568508  -12.146419   -8.457003   0.851443   \n",
       "49992    99.448332 -138.778882   -3.078568  -14.776375   4.620820   \n",
       "49993   -70.299663 -111.551720  -27.260808    2.075293  -5.425268   \n",
       "49994   -21.846253 -119.312111  -20.078778   -2.909110  -1.257511   \n",
       "49995   -83.981601 -109.377174  -29.704304    3.741248  -8.540674   \n",
       "49996    26.951915 -127.150461  -13.405414   -7.579901   0.330775   \n",
       "49997  -113.768362 -484.203027  -43.042719    5.770223  -5.150137   \n",
       "49998    79.998094 -135.658928   -5.850264  -12.844626   3.463689   \n",
       "49999    99.448368 -138.778799   -3.078157  -14.776884   4.621476   \n",
       "\n",
       "       liquor_category_WHISKY  \n",
       "0                           0  \n",
       "1                           0  \n",
       "2                           0  \n",
       "3                           0  \n",
       "4                           0  \n",
       "5                           0  \n",
       "6                           0  \n",
       "7                           0  \n",
       "8                           0  \n",
       "9                           0  \n",
       "10                          0  \n",
       "11                          0  \n",
       "12                          0  \n",
       "13                          0  \n",
       "14                          0  \n",
       "15                          0  \n",
       "16                          0  \n",
       "17                          0  \n",
       "18                          0  \n",
       "19                          0  \n",
       "20                          0  \n",
       "21                          0  \n",
       "22                          0  \n",
       "23                          0  \n",
       "24                          0  \n",
       "25                          0  \n",
       "26                          0  \n",
       "27                          0  \n",
       "28                          0  \n",
       "29                          0  \n",
       "...                       ...  \n",
       "49970                       0  \n",
       "49971                       0  \n",
       "49972                       0  \n",
       "49973                       0  \n",
       "49974                       0  \n",
       "49975                       0  \n",
       "49976                       0  \n",
       "49977                       0  \n",
       "49978                       0  \n",
       "49979                       0  \n",
       "49980                       0  \n",
       "49981                       0  \n",
       "49982                       0  \n",
       "49983                       0  \n",
       "49984                       0  \n",
       "49985                       0  \n",
       "49986                       0  \n",
       "49987                       0  \n",
       "49988                       0  \n",
       "49989                       0  \n",
       "49990                       0  \n",
       "49991                       0  \n",
       "49992                       0  \n",
       "49993                       0  \n",
       "49994                       0  \n",
       "49995                       0  \n",
       "49996                       0  \n",
       "49997                       0  \n",
       "49998                       0  \n",
       "49999                       0  \n",
       "\n",
       "[50000 rows x 6 columns]"
      ]
     },
     "execution_count": 257,
     "metadata": {},
     "output_type": "execute_result"
    }
   ],
   "source": [
    "finalDf2"
   ]
  },
  {
   "cell_type": "code",
   "execution_count": 281,
   "metadata": {},
   "outputs": [],
   "source": [
    "#PCA version additional testing ~62% accuracy\n",
    "#X = finalDf2.loc[:, finalDf2.columns != 'liquor_category_WHISKY']\n",
    "#y = finalDf2.loc[:, finalDf2.columns == 'liquor_category_WHISKY']\n",
    "\n",
    "#non PCA version additional testing ~83 accuracy\n",
    "X = data_final2.loc[:, data_final2.columns != 'liquor_category_WHISKY']\n",
    "y = data_final2.loc[:, data_final2.columns == 'liquor_category_WHISKY']\n",
    "\n",
    "#X_train2, X_test2, y_train2, y_test2 = train_test_split(X, y, test_size=1, random_state=0)"
   ]
  },
  {
   "cell_type": "code",
   "execution_count": 282,
   "metadata": {},
   "outputs": [],
   "source": [
    "# Returns a NumPy Array\n",
    "predictions = logisticRegr.predict(X)"
   ]
  },
  {
   "cell_type": "code",
   "execution_count": 262,
   "metadata": {},
   "outputs": [
    {
     "data": {
      "text/plain": [
       "array([0, 0, 0, ..., 0, 0, 0], dtype=int64)"
      ]
     },
     "execution_count": 262,
     "metadata": {},
     "output_type": "execute_result"
    }
   ],
   "source": [
    "predictions"
   ]
  },
  {
   "cell_type": "code",
   "execution_count": 283,
   "metadata": {},
   "outputs": [
    {
     "name": "stdout",
     "output_type": "stream",
     "text": [
      "0.83984\n"
     ]
    }
   ],
   "source": [
    "# Use score method to get accuracy of model\n",
    "score = logisticRegr.score(X, y)\n",
    "print(score)"
   ]
  },
  {
   "cell_type": "code",
   "execution_count": 284,
   "metadata": {},
   "outputs": [
    {
     "name": "stdout",
     "output_type": "stream",
     "text": [
      "Confusion Matrix:  \n",
      " [[36755  2225]\n",
      " [ 5783  5237]]\n"
     ]
    }
   ],
   "source": [
    "import matplotlib.pyplot as plt\n",
    "import seaborn as sns\n",
    "from sklearn import metrics\n",
    "cm = metrics.confusion_matrix(y, predictions)\n",
    "print(\"Confusion Matrix: \", '\\n', cm)"
   ]
  },
  {
   "cell_type": "code",
   "execution_count": 285,
   "metadata": {},
   "outputs": [
    {
     "name": "stdout",
     "output_type": "stream",
     "text": [
      "Logistic: f1=0.567 auc=0.699\n"
     ]
    },
    {
     "data": {
      "image/png": "[encoded data removed]",
      "text/plain": [
       "<Figure size 432x288 with 1 Axes>"
      ]
     },
     "metadata": {},
     "output_type": "display_data"
    }
   ],
   "source": [
    "from sklearn.metrics import precision_recall_curve\n",
    "from sklearn.metrics import f1_score\n",
    "from sklearn.metrics import auc\n",
    "# predict probabilities\n",
    "lr_probs = logisticRegr .predict_proba(X)\n",
    "# keep probabilities for the positive outcome only\n",
    "lr_probs = lr_probs[:, 1]\n",
    "# predict class values\n",
    "yhat = logisticRegr .predict(X)\n",
    "lr_precision, lr_recall, _ = precision_recall_curve(y, lr_probs)\n",
    "lr_f1, lr_auc = f1_score(y, yhat), auc(lr_recall, lr_precision)\n",
    "# summarize scores\n",
    "print('Logistic: f1=%.3f auc=%.3f' % (lr_f1, lr_auc))\n",
    "# plot the precision-recall curves\n",
    "no_skill = len(y[y==1]) / len(y)\n",
    "pyplot.plot([0, 1], [no_skill, no_skill], linestyle='--', label='No Skill')\n",
    "pyplot.plot(lr_recall, lr_precision, marker='.', label='Logistic')\n",
    "# axis labels\n",
    "pyplot.xlabel('Recall')\n",
    "pyplot.ylabel('Precision')\n",
    "# show the legend\n",
    "pyplot.legend()\n",
    "# show the plot\n",
    "pyplot.show()"
   ]
  },
  {
   "cell_type": "markdown",
   "metadata": {},
   "source": [
    "### Advantages  [10 points] \n",
    "Discuss the advantages of each model for each classification task. Does one\n",
    "type of model offer superior performance over another in terms of prediction accuracy? In\n",
    "terms of training time or efficiency? Explain in detail.  \n",
    " \n"
   ]
  },
  {
   "cell_type": "markdown",
   "metadata": {},
   "source": [
    "###  Interpret  [30 points] \n",
    "Use the weights from logistic regression to interpret the importance of different\n",
    "features for the classification task. Explain your interpretation in detail. Why do you think\n",
    "some variables are more important? "
   ]
  },
  {
   "cell_type": "markdown",
   "metadata": {},
   "source": [
    "### Insight into the data [10 points]\n",
    "Look at the chosen support vectors for the classification task. Do these provide\n",
    "any insight into the data? Explain. If you used stochastic gradient descent (and therefore did\n",
    "not explicitly solve for support vectors), try subsampling your data to train the SVC model—\n",
    "then analyze the support vectors from the subsampled dataset. "
   ]
  },
  {
   "cell_type": "code",
   "execution_count": null,
   "metadata": {},
   "outputs": [],
   "source": []
  }
 ],
 "metadata": {
  "kernelspec": {
   "display_name": "Python 3",
   "language": "python",
   "name": "python3"
  },
  "language_info": {
   "codemirror_mode": {
    "name": "ipython",
    "version": 3
   },
   "file_extension": ".py",
   "mimetype": "text/x-python",
   "name": "python",
   "nbconvert_exporter": "python",
   "pygments_lexer": "ipython3",
   "version": "3.7.1"
  }
 },
 "nbformat": 4,
 "nbformat_minor": 4
}
