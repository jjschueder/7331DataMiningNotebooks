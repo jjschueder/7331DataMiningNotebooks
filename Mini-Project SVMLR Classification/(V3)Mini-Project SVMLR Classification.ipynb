{
  "nbformat": 4,
  "nbformat_minor": 0,
  "metadata": {
    "kernelspec": {
      "display_name": "Python 3",
      "language": "python",
      "name": "python3"
    },
    "language_info": {
      "codemirror_mode": {
        "name": "ipython",
        "version": 3
      },
      "file_extension": ".py",
      "mimetype": "text/x-python",
      "name": "python",
      "nbconvert_exporter": "python",
      "pygments_lexer": "ipython3",
      "version": "3.7.1"
    },
    "colab": {
      "name": "Mini-Project SVMLR Classification-Copy1.ipynb",
      "provenance": []
    }
  },
  "cells": [
    {
      "cell_type": "markdown",
      "metadata": {
        "id": "qhqdMtT3nSiG",
        "colab_type": "text"
      },
      "source": [
        "# Mini-Project: SVM&LR Classification\n",
        "You are to perform predictive analysis (classification) upon a data set: model the dataset using\n",
        "methods we have discussed in class: logistic regression & support vector machines and making\n",
        "conclusions from the analysis. Follow the CRISP-DM framework in your analysis (you are not\n",
        "performing all of the CRISP-DM outline, only the portions relevant to the grading rubric outlined\n",
        "below). This report is worth 10% of the final grade. You may complete this assignment in teams\n",
        "of as many as three people.\n",
        "Write a report covering all the steps of the project. The format of the document can be PDF,\n",
        "*.ipynb, or HTML. You can write the report in whatever format you like, but it is easiest to turn in\n",
        "the rendered Jupyter notebook. The results should be reproducible using your report. Please\n",
        "carefully describe every assumption and every step in your report.\n",
        "A note on grading: A common mistake I see in this lab is not investigating different input\n",
        "parameters for each model. Try a number of parameter combinations and discuss how the model changed. "
      ]
    },
    {
      "cell_type": "markdown",
      "metadata": {
        "id": "jmTlKM_UnSiP",
        "colab_type": "text"
      },
      "source": [
        "## SVM and Logistic Regression Modeling\n"
      ]
    },
    {
      "cell_type": "markdown",
      "metadata": {
        "id": "qN07sRSnnSiU",
        "colab_type": "text"
      },
      "source": [
        "### Create Models [50 points] \n",
        "Create a logistic regression model and a support vector machine model for the\n",
        "classification task involved with your dataset. Assess how well each model performs (use\n",
        "80/20 training/testing split for your data). Adjust parameters of the models to make them\n",
        "more accurate. If your dataset size requires the use of stochastic gradient descent, then\n",
        "linear kernel only is fine to use. That is, the SGDClassifier is fine to use for optimizing\n",
        "logistic regression and linear support vector machines. For many problems, SGD will be\n",
        "required in order to train the SVM model in a reasonable timeframe.   "
      ]
    },
    {
      "cell_type": "markdown",
      "metadata": {
        "id": "6I6a7elv4W0h",
        "colab_type": "text"
      },
      "source": [
        "### Load and Clean Data Set"
      ]
    },
    {
      "cell_type": "code",
      "metadata": {
        "id": "lPXTcIccnSiW",
        "colab_type": "code",
        "colab": {}
      },
      "source": [
        "import pandas as pd\n",
        "import numpy as np\n",
        "from sklearn import preprocessing\n",
        "import matplotlib.pyplot as plt \n",
        "plt.rc(\"font\", size=14)\n",
        "from sklearn.linear_model import LogisticRegression\n",
        "from sklearn.model_selection import train_test_split\n",
        "from sklearn import linear_model\n",
        "import seaborn as sns\n",
        "sns.set(style=\"white\")\n",
        "sns.set(style=\"whitegrid\", color_codes=True)"
      ],
      "execution_count": 0,
      "outputs": []
    },
    {
      "cell_type": "code",
      "metadata": {
        "id": "Mo0kRfD4nSik",
        "colab_type": "code",
        "colab": {}
      },
      "source": [
        "#read data from github repository\n",
        "#this data was produced from the Iowa Alcohol Dataset 2019 year data\n",
        "#It was cleansed and transformed in this notebook and exported as a csv to github for use here.\n",
        "#source python notebook: https://github.com/jjschueder/7331DataMiningNotebooks/blob/master/lab1/msds7331_clark_schueder_vela_washburn.ipynb\n",
        "# read csv from github directly\n",
        "url_dataset = 'https://github.com/jjschueder/7331DataMiningNotebooks/blob/master/Live%20Assignment%201/df1hotmerge2.csv?raw=true'\n",
        "#df = pd.read_csv(url_dataset, nrows=50000)\n",
        "data = pd.read_csv(url_dataset, nrows=100000)\n",
        "#data = pd.read_csv(url_dataset)"
      ],
      "execution_count": 0,
      "outputs": []
    },
    {
      "cell_type": "code",
      "metadata": {
        "id": "DQKPLfW1nSiv",
        "colab_type": "code",
        "outputId": "0839a505-3dcd-444e-ddc9-f483977a0149",
        "colab": {
          "base_uri": "https://localhost:8080/",
          "height": 71
        }
      },
      "source": [
        "print(data.shape)\n",
        "print(list(data.columns))"
      ],
      "execution_count": 3,
      "outputs": [
        {
          "output_type": "stream",
          "text": [
            "(400000, 68)\n",
            "['Unnamed: 0', 'pack', 'bottle_volume_ml', 'state_bottle_cost', 'state_bottle_retail', 'bottles_sold', 'sale_dollars', 'volume_sold_liters', 'volume_sold_gallons', 'counter', 'liquor_category', 'store_parent', 'month', 'year', 'monthyear', 'liquor_category_AMARETTO', 'liquor_category_BRANDY', 'liquor_category_GIN', 'liquor_category_LIQUEUR', 'liquor_category_Other', 'liquor_category_RUM', 'liquor_category_SCHNAPPS', 'liquor_category_TEQUILA', 'liquor_category_VODKA', 'liquor_category_WHISKY', 'store_parent_CVS', 'store_parent_Caseys', 'store_parent_Hy-Vee', 'store_parent_Kum&Go', 'store_parent_Other', 'store_parent_QuikTrip', 'store_parent_SamsClub', 'store_parent_SmokingJoes', 'store_parent_Target', 'store_parent_Wal-Mart', 'store_parent_Walgreens', 'month_Apr', 'month_Aug', 'month_Dec', 'month_Feb', 'month_Jan', 'month_Jul', 'month_Jun', 'month_Mar', 'month_May', 'month_Nov', 'month_Oct', 'month_Sep', 'year_2019', 'monthyear_Apr-2019', 'monthyear_Aug-2019', 'monthyear_Dec-2019', 'monthyear_Feb-2019', 'monthyear_Jan-2019', 'monthyear_Jul-2019', 'monthyear_Jun-2019', 'monthyear_Mar-2019', 'monthyear_May-2019', 'monthyear_Nov-2019', 'monthyear_Oct-2019', 'monthyear_Sep-2019', 'sale_dollars_trans', 'cost_per_liter', 'cost_per_liter_trans', 'state_bottle_cost_trans', 'bottles_sold_trans', 'volume_sold_liters_trans', 'grossmargin']\n"
          ],
          "name": "stdout"
        }
      ]
    },
    {
      "cell_type": "code",
      "metadata": {
        "id": "tzx9_JhrnSi7",
        "colab_type": "code",
        "outputId": "f47abf9d-3335-48ec-d548-9d3974814751",
        "colab": {
          "base_uri": "https://localhost:8080/",
          "height": 51
        }
      },
      "source": [
        "data = data.drop(columns = ['Unnamed: 0'])\n",
        "count_not_whiskey = len(data[data['liquor_category_WHISKY']==0])\n",
        "count_whiskey = len(data[data['liquor_category_WHISKY']==1])\n",
        "pct_of_no_whiskey = count_not_whiskey/(count_not_whiskey+count_whiskey)\n",
        "print(\"percentage of not whiskey is\", pct_of_no_whiskey*100)\n",
        "pct_of_whiskey = count_whiskey/(count_not_whiskey+count_whiskey)\n",
        "print(\"percentage of whiskey\", pct_of_whiskey*100)"
      ],
      "execution_count": 4,
      "outputs": [
        {
          "output_type": "stream",
          "text": [
            "percentage of not whiskey is 89.56125\n",
            "percentage of whiskey 10.438749999999999\n"
          ],
          "name": "stdout"
        }
      ]
    },
    {
      "cell_type": "code",
      "metadata": {
        "id": "jSmKpN1snSjB",
        "colab_type": "code",
        "outputId": "8523b12f-0ef3-45f0-dd9d-fe7701caa6d7",
        "colab": {
          "base_uri": "https://localhost:8080/",
          "height": 119
        }
      },
      "source": [
        "cat_vars=['counter', 'liquor_category', 'store_parent',\n",
        " 'month', 'year', 'monthyear', 'liquor_category_AMARETTO', 'liquor_category_BRANDY', 'liquor_category_GIN', \n",
        " 'liquor_category_LIQUEUR', 'liquor_category_Other', 'liquor_category_RUM', 'liquor_category_SCHNAPPS', \n",
        " 'liquor_category_TEQUILA', 'liquor_category_VODKA', 'month_Apr', 'month_Aug', 'month_Dec', 'month_Feb',\n",
        " 'month_Jan', 'month_Jul', 'month_Jun', 'month_Mar', 'month_May', 'month_Nov', 'month_Oct', 'month_Sep', \n",
        " 'store_parent_CVS', 'store_parent_Caseys', 'store_parent_Hy-Vee', 'store_parent_Kum&Go', \n",
        " 'store_parent_Other', 'store_parent_QuikTrip', 'store_parent_SamsClub', 'store_parent_SmokingJoes', \n",
        " 'store_parent_Target', 'store_parent_Wal-Mart', 'store_parent_Walgreens']\n",
        "data_vars=data.columns.values.tolist()\n",
        "to_keep=[i for i in data_vars if i not in cat_vars]\n",
        "to_keep=['sale_dollars_trans', 'cost_per_liter_trans',\n",
        "         'store_parent_CVS', 'store_parent_Caseys', \n",
        "         'store_parent_Hy-Vee', 'store_parent_Kum&Go', 'store_parent_Other', \n",
        "      'state_bottle_cost_trans', 'bottles_sold_trans',\n",
        "       'volume_sold_liters_trans','pack', 'bottle_volume_ml',\n",
        "       'liquor_category_WHISKY']\n",
        "data_final=data[to_keep]\n",
        "data_final.columns.values"
      ],
      "execution_count": 5,
      "outputs": [
        {
          "output_type": "execute_result",
          "data": {
            "text/plain": [
              "array(['sale_dollars_trans', 'cost_per_liter_trans', 'store_parent_CVS',\n",
              "       'store_parent_Caseys', 'store_parent_Hy-Vee',\n",
              "       'store_parent_Kum&Go', 'store_parent_Other',\n",
              "       'state_bottle_cost_trans', 'bottles_sold_trans',\n",
              "       'volume_sold_liters_trans', 'pack', 'bottle_volume_ml',\n",
              "       'liquor_category_WHISKY'], dtype=object)"
            ]
          },
          "metadata": {
            "tags": []
          },
          "execution_count": 5
        }
      ]
    },
    {
      "cell_type": "markdown",
      "metadata": {
        "id": "K4L0W0LugMj3",
        "colab_type": "text"
      },
      "source": [
        "### Train and Test Set (20% Test / 80% Train)"
      ]
    },
    {
      "cell_type": "code",
      "metadata": {
        "id": "JV4w3TcxgL8R",
        "colab_type": "code",
        "colab": {}
      },
      "source": [
        "X = data_final.loc[:, data_final.columns != 'liquor_category_WHISKY']\n",
        "y = data_final.loc[:, data_final.columns == 'liquor_category_WHISKY']\n",
        "\n",
        "X_train, X_test, y_train, y_test = train_test_split(X, y, test_size=0.2, random_state=0)\n",
        "columns = X_train.columns"
      ],
      "execution_count": 0,
      "outputs": []
    },
    {
      "cell_type": "markdown",
      "metadata": {
        "id": "zIfgUT054dBe",
        "colab_type": "text"
      },
      "source": [
        "## Logistic Regression"
      ]
    },
    {
      "cell_type": "markdown",
      "metadata": {
        "id": "j6-0y2G9nSjI",
        "colab_type": "text"
      },
      "source": [
        "import matplotlib.pyplot as plt\n",
        "import seaborn as sns\n",
        "from sklearn import metrics#### Logistic Regression model:\n",
        "\n",
        "### Model 1"
      ]
    },
    {
      "cell_type": "code",
      "metadata": {
        "id": "Rq1Jn4krnSjK",
        "colab_type": "code",
        "outputId": "2094ac13-9d93-4404-ddc4-0f89b2764e73",
        "colab": {
          "base_uri": "https://localhost:8080/",
          "height": 1000
        }
      },
      "source": [
        "from sklearn.linear_model import LogisticRegression\n",
        "# all parameters not specified are set to their defaults\n",
        "logisticRegr = linear_model.LogisticRegressionCV( Cs=100)# class_weight = 'balanced')\n",
        "\n",
        "logisticRegr.fit(X_train, y_train)\n",
        "\n",
        "coef = logisticRegr.coef_[0]\n",
        "classes = logisticRegr.classes_[0]\n",
        "intercept = logisticRegr.intercept_[0]\n",
        "print (coef)\n",
        "\n",
        "print (intercept)\n",
        "\n",
        "predictions = logisticRegr.predict(X_test)\n",
        "\n",
        "params =logisticRegr.get_params(deep=True)\n",
        "print (params)\n",
        "\n",
        "# Use score method to get accuracy of model\n",
        "score = logisticRegr.score(X_test, y_test)\n",
        "print(\"Accuracy: \", '\\n', score)\n",
        "\n",
        "import matplotlib.pyplot as plt\n",
        "import seaborn as sns\n",
        "from sklearn import metrics\n",
        "cm = metrics.confusion_matrix(y_test, predictions)\n",
        "print(\"Confusion Matrix: \", '\\n', cm)"
      ],
      "execution_count": 7,
      "outputs": [
        {
          "output_type": "stream",
          "text": [
            "/usr/local/lib/python3.6/dist-packages/sklearn/utils/validation.py:760: DataConversionWarning: A column-vector y was passed when a 1d array was expected. Please change the shape of y to (n_samples, ), for example using ravel().\n",
            "  y = column_or_1d(y, warn=True)\n",
            "/usr/local/lib/python3.6/dist-packages/sklearn/linear_model/_logistic.py:940: ConvergenceWarning: lbfgs failed to converge (status=1):\n",
            "STOP: TOTAL NO. of ITERATIONS REACHED LIMIT.\n",
            "\n",
            "Increase the number of iterations (max_iter) or scale the data as shown in:\n",
            "    https://scikit-learn.org/stable/modules/preprocessing.html\n",
            "Please also refer to the documentation for alternative solver options:\n",
            "    https://scikit-learn.org/stable/modules/linear_model.html#logistic-regression\n",
            "  extra_warning_msg=_LOGISTIC_SOLVER_CONVERGENCE_MSG)\n",
            "/usr/local/lib/python3.6/dist-packages/sklearn/linear_model/_logistic.py:940: ConvergenceWarning: lbfgs failed to converge (status=1):\n",
            "STOP: TOTAL NO. of ITERATIONS REACHED LIMIT.\n",
            "\n",
            "Increase the number of iterations (max_iter) or scale the data as shown in:\n",
            "    https://scikit-learn.org/stable/modules/preprocessing.html\n",
            "Please also refer to the documentation for alternative solver options:\n",
            "    https://scikit-learn.org/stable/modules/linear_model.html#logistic-regression\n",
            "  extra_warning_msg=_LOGISTIC_SOLVER_CONVERGENCE_MSG)\n",
            "/usr/local/lib/python3.6/dist-packages/sklearn/linear_model/_logistic.py:940: ConvergenceWarning: lbfgs failed to converge (status=1):\n",
            "STOP: TOTAL NO. of ITERATIONS REACHED LIMIT.\n",
            "\n",
            "Increase the number of iterations (max_iter) or scale the data as shown in:\n",
            "    https://scikit-learn.org/stable/modules/preprocessing.html\n",
            "Please also refer to the documentation for alternative solver options:\n",
            "    https://scikit-learn.org/stable/modules/linear_model.html#logistic-regression\n",
            "  extra_warning_msg=_LOGISTIC_SOLVER_CONVERGENCE_MSG)\n",
            "/usr/local/lib/python3.6/dist-packages/sklearn/linear_model/_logistic.py:940: ConvergenceWarning: lbfgs failed to converge (status=1):\n",
            "STOP: TOTAL NO. of ITERATIONS REACHED LIMIT.\n",
            "\n",
            "Increase the number of iterations (max_iter) or scale the data as shown in:\n",
            "    https://scikit-learn.org/stable/modules/preprocessing.html\n",
            "Please also refer to the documentation for alternative solver options:\n",
            "    https://scikit-learn.org/stable/modules/linear_model.html#logistic-regression\n",
            "  extra_warning_msg=_LOGISTIC_SOLVER_CONVERGENCE_MSG)\n",
            "/usr/local/lib/python3.6/dist-packages/sklearn/linear_model/_logistic.py:940: ConvergenceWarning: lbfgs failed to converge (status=1):\n",
            "STOP: TOTAL NO. of ITERATIONS REACHED LIMIT.\n",
            "\n",
            "Increase the number of iterations (max_iter) or scale the data as shown in:\n",
            "    https://scikit-learn.org/stable/modules/preprocessing.html\n",
            "Please also refer to the documentation for alternative solver options:\n",
            "    https://scikit-learn.org/stable/modules/linear_model.html#logistic-regression\n",
            "  extra_warning_msg=_LOGISTIC_SOLVER_CONVERGENCE_MSG)\n",
            "/usr/local/lib/python3.6/dist-packages/sklearn/linear_model/_logistic.py:940: ConvergenceWarning: lbfgs failed to converge (status=1):\n",
            "STOP: TOTAL NO. of ITERATIONS REACHED LIMIT.\n",
            "\n",
            "Increase the number of iterations (max_iter) or scale the data as shown in:\n",
            "    https://scikit-learn.org/stable/modules/preprocessing.html\n",
            "Please also refer to the documentation for alternative solver options:\n",
            "    https://scikit-learn.org/stable/modules/linear_model.html#logistic-regression\n",
            "  extra_warning_msg=_LOGISTIC_SOLVER_CONVERGENCE_MSG)\n",
            "/usr/local/lib/python3.6/dist-packages/sklearn/linear_model/_logistic.py:940: ConvergenceWarning: lbfgs failed to converge (status=1):\n",
            "STOP: TOTAL NO. of ITERATIONS REACHED LIMIT.\n",
            "\n",
            "Increase the number of iterations (max_iter) or scale the data as shown in:\n",
            "    https://scikit-learn.org/stable/modules/preprocessing.html\n",
            "Please also refer to the documentation for alternative solver options:\n",
            "    https://scikit-learn.org/stable/modules/linear_model.html#logistic-regression\n",
            "  extra_warning_msg=_LOGISTIC_SOLVER_CONVERGENCE_MSG)\n",
            "/usr/local/lib/python3.6/dist-packages/sklearn/linear_model/_logistic.py:940: ConvergenceWarning: lbfgs failed to converge (status=1):\n",
            "STOP: TOTAL NO. of ITERATIONS REACHED LIMIT.\n",
            "\n",
            "Increase the number of iterations (max_iter) or scale the data as shown in:\n",
            "    https://scikit-learn.org/stable/modules/preprocessing.html\n",
            "Please also refer to the documentation for alternative solver options:\n",
            "    https://scikit-learn.org/stable/modules/linear_model.html#logistic-regression\n",
            "  extra_warning_msg=_LOGISTIC_SOLVER_CONVERGENCE_MSG)\n",
            "/usr/local/lib/python3.6/dist-packages/sklearn/linear_model/_logistic.py:940: ConvergenceWarning: lbfgs failed to converge (status=1):\n",
            "STOP: TOTAL NO. of ITERATIONS REACHED LIMIT.\n",
            "\n",
            "Increase the number of iterations (max_iter) or scale the data as shown in:\n",
            "    https://scikit-learn.org/stable/modules/preprocessing.html\n",
            "Please also refer to the documentation for alternative solver options:\n",
            "    https://scikit-learn.org/stable/modules/linear_model.html#logistic-regression\n",
            "  extra_warning_msg=_LOGISTIC_SOLVER_CONVERGENCE_MSG)\n",
            "/usr/local/lib/python3.6/dist-packages/sklearn/linear_model/_logistic.py:940: ConvergenceWarning: lbfgs failed to converge (status=1):\n",
            "STOP: TOTAL NO. of ITERATIONS REACHED LIMIT.\n",
            "\n",
            "Increase the number of iterations (max_iter) or scale the data as shown in:\n",
            "    https://scikit-learn.org/stable/modules/preprocessing.html\n",
            "Please also refer to the documentation for alternative solver options:\n",
            "    https://scikit-learn.org/stable/modules/linear_model.html#logistic-regression\n",
            "  extra_warning_msg=_LOGISTIC_SOLVER_CONVERGENCE_MSG)\n",
            "/usr/local/lib/python3.6/dist-packages/sklearn/linear_model/_logistic.py:940: ConvergenceWarning: lbfgs failed to converge (status=1):\n",
            "STOP: TOTAL NO. of ITERATIONS REACHED LIMIT.\n",
            "\n",
            "Increase the number of iterations (max_iter) or scale the data as shown in:\n",
            "    https://scikit-learn.org/stable/modules/preprocessing.html\n",
            "Please also refer to the documentation for alternative solver options:\n",
            "    https://scikit-learn.org/stable/modules/linear_model.html#logistic-regression\n",
            "  extra_warning_msg=_LOGISTIC_SOLVER_CONVERGENCE_MSG)\n",
            "/usr/local/lib/python3.6/dist-packages/sklearn/linear_model/_logistic.py:940: ConvergenceWarning: lbfgs failed to converge (status=1):\n",
            "STOP: TOTAL NO. of ITERATIONS REACHED LIMIT.\n",
            "\n",
            "Increase the number of iterations (max_iter) or scale the data as shown in:\n",
            "    https://scikit-learn.org/stable/modules/preprocessing.html\n",
            "Please also refer to the documentation for alternative solver options:\n",
            "    https://scikit-learn.org/stable/modules/linear_model.html#logistic-regression\n",
            "  extra_warning_msg=_LOGISTIC_SOLVER_CONVERGENCE_MSG)\n",
            "/usr/local/lib/python3.6/dist-packages/sklearn/linear_model/_logistic.py:940: ConvergenceWarning: lbfgs failed to converge (status=1):\n",
            "STOP: TOTAL NO. of ITERATIONS REACHED LIMIT.\n",
            "\n",
            "Increase the number of iterations (max_iter) or scale the data as shown in:\n",
            "    https://scikit-learn.org/stable/modules/preprocessing.html\n",
            "Please also refer to the documentation for alternative solver options:\n",
            "    https://scikit-learn.org/stable/modules/linear_model.html#logistic-regression\n",
            "  extra_warning_msg=_LOGISTIC_SOLVER_CONVERGENCE_MSG)\n",
            "/usr/local/lib/python3.6/dist-packages/sklearn/linear_model/_logistic.py:940: ConvergenceWarning: lbfgs failed to converge (status=1):\n",
            "STOP: TOTAL NO. of ITERATIONS REACHED LIMIT.\n",
            "\n",
            "Increase the number of iterations (max_iter) or scale the data as shown in:\n",
            "    https://scikit-learn.org/stable/modules/preprocessing.html\n",
            "Please also refer to the documentation for alternative solver options:\n",
            "    https://scikit-learn.org/stable/modules/linear_model.html#logistic-regression\n",
            "  extra_warning_msg=_LOGISTIC_SOLVER_CONVERGENCE_MSG)\n",
            "/usr/local/lib/python3.6/dist-packages/sklearn/linear_model/_logistic.py:940: ConvergenceWarning: lbfgs failed to converge (status=1):\n",
            "STOP: TOTAL NO. of ITERATIONS REACHED LIMIT.\n",
            "\n",
            "Increase the number of iterations (max_iter) or scale the data as shown in:\n",
            "    https://scikit-learn.org/stable/modules/preprocessing.html\n",
            "Please also refer to the documentation for alternative solver options:\n",
            "    https://scikit-learn.org/stable/modules/linear_model.html#logistic-regression\n",
            "  extra_warning_msg=_LOGISTIC_SOLVER_CONVERGENCE_MSG)\n",
            "/usr/local/lib/python3.6/dist-packages/sklearn/linear_model/_logistic.py:940: ConvergenceWarning: lbfgs failed to converge (status=1):\n",
            "STOP: TOTAL NO. of ITERATIONS REACHED LIMIT.\n",
            "\n",
            "Increase the number of iterations (max_iter) or scale the data as shown in:\n",
            "    https://scikit-learn.org/stable/modules/preprocessing.html\n",
            "Please also refer to the documentation for alternative solver options:\n",
            "    https://scikit-learn.org/stable/modules/linear_model.html#logistic-regression\n",
            "  extra_warning_msg=_LOGISTIC_SOLVER_CONVERGENCE_MSG)\n",
            "/usr/local/lib/python3.6/dist-packages/sklearn/linear_model/_logistic.py:940: ConvergenceWarning: lbfgs failed to converge (status=1):\n",
            "STOP: TOTAL NO. of ITERATIONS REACHED LIMIT.\n",
            "\n",
            "Increase the number of iterations (max_iter) or scale the data as shown in:\n",
            "    https://scikit-learn.org/stable/modules/preprocessing.html\n",
            "Please also refer to the documentation for alternative solver options:\n",
            "    https://scikit-learn.org/stable/modules/linear_model.html#logistic-regression\n",
            "  extra_warning_msg=_LOGISTIC_SOLVER_CONVERGENCE_MSG)\n",
            "/usr/local/lib/python3.6/dist-packages/sklearn/linear_model/_logistic.py:940: ConvergenceWarning: lbfgs failed to converge (status=1):\n",
            "STOP: TOTAL NO. of ITERATIONS REACHED LIMIT.\n",
            "\n",
            "Increase the number of iterations (max_iter) or scale the data as shown in:\n",
            "    https://scikit-learn.org/stable/modules/preprocessing.html\n",
            "Please also refer to the documentation for alternative solver options:\n",
            "    https://scikit-learn.org/stable/modules/linear_model.html#logistic-regression\n",
            "  extra_warning_msg=_LOGISTIC_SOLVER_CONVERGENCE_MSG)\n",
            "/usr/local/lib/python3.6/dist-packages/sklearn/linear_model/_logistic.py:940: ConvergenceWarning: lbfgs failed to converge (status=1):\n",
            "STOP: TOTAL NO. of ITERATIONS REACHED LIMIT.\n",
            "\n",
            "Increase the number of iterations (max_iter) or scale the data as shown in:\n",
            "    https://scikit-learn.org/stable/modules/preprocessing.html\n",
            "Please also refer to the documentation for alternative solver options:\n",
            "    https://scikit-learn.org/stable/modules/linear_model.html#logistic-regression\n",
            "  extra_warning_msg=_LOGISTIC_SOLVER_CONVERGENCE_MSG)\n",
            "/usr/local/lib/python3.6/dist-packages/sklearn/linear_model/_logistic.py:940: ConvergenceWarning: lbfgs failed to converge (status=1):\n",
            "STOP: TOTAL NO. of ITERATIONS REACHED LIMIT.\n",
            "\n",
            "Increase the number of iterations (max_iter) or scale the data as shown in:\n",
            "    https://scikit-learn.org/stable/modules/preprocessing.html\n",
            "Please also refer to the documentation for alternative solver options:\n",
            "    https://scikit-learn.org/stable/modules/linear_model.html#logistic-regression\n",
            "  extra_warning_msg=_LOGISTIC_SOLVER_CONVERGENCE_MSG)\n",
            "/usr/local/lib/python3.6/dist-packages/sklearn/linear_model/_logistic.py:940: ConvergenceWarning: lbfgs failed to converge (status=1):\n",
            "STOP: TOTAL NO. of ITERATIONS REACHED LIMIT.\n",
            "\n",
            "Increase the number of iterations (max_iter) or scale the data as shown in:\n",
            "    https://scikit-learn.org/stable/modules/preprocessing.html\n",
            "Please also refer to the documentation for alternative solver options:\n",
            "    https://scikit-learn.org/stable/modules/linear_model.html#logistic-regression\n",
            "  extra_warning_msg=_LOGISTIC_SOLVER_CONVERGENCE_MSG)\n",
            "/usr/local/lib/python3.6/dist-packages/sklearn/linear_model/_logistic.py:940: ConvergenceWarning: lbfgs failed to converge (status=1):\n",
            "STOP: TOTAL NO. of ITERATIONS REACHED LIMIT.\n",
            "\n",
            "Increase the number of iterations (max_iter) or scale the data as shown in:\n",
            "    https://scikit-learn.org/stable/modules/preprocessing.html\n",
            "Please also refer to the documentation for alternative solver options:\n",
            "    https://scikit-learn.org/stable/modules/linear_model.html#logistic-regression\n",
            "  extra_warning_msg=_LOGISTIC_SOLVER_CONVERGENCE_MSG)\n",
            "/usr/local/lib/python3.6/dist-packages/sklearn/linear_model/_logistic.py:940: ConvergenceWarning: lbfgs failed to converge (status=1):\n",
            "STOP: TOTAL NO. of ITERATIONS REACHED LIMIT.\n",
            "\n",
            "Increase the number of iterations (max_iter) or scale the data as shown in:\n",
            "    https://scikit-learn.org/stable/modules/preprocessing.html\n",
            "Please also refer to the documentation for alternative solver options:\n",
            "    https://scikit-learn.org/stable/modules/linear_model.html#logistic-regression\n",
            "  extra_warning_msg=_LOGISTIC_SOLVER_CONVERGENCE_MSG)\n",
            "/usr/local/lib/python3.6/dist-packages/sklearn/linear_model/_logistic.py:940: ConvergenceWarning: lbfgs failed to converge (status=1):\n",
            "STOP: TOTAL NO. of ITERATIONS REACHED LIMIT.\n",
            "\n",
            "Increase the number of iterations (max_iter) or scale the data as shown in:\n",
            "    https://scikit-learn.org/stable/modules/preprocessing.html\n",
            "Please also refer to the documentation for alternative solver options:\n",
            "    https://scikit-learn.org/stable/modules/linear_model.html#logistic-regression\n",
            "  extra_warning_msg=_LOGISTIC_SOLVER_CONVERGENCE_MSG)\n",
            "/usr/local/lib/python3.6/dist-packages/sklearn/linear_model/_logistic.py:940: ConvergenceWarning: lbfgs failed to converge (status=1):\n",
            "STOP: TOTAL NO. of ITERATIONS REACHED LIMIT.\n",
            "\n",
            "Increase the number of iterations (max_iter) or scale the data as shown in:\n",
            "    https://scikit-learn.org/stable/modules/preprocessing.html\n",
            "Please also refer to the documentation for alternative solver options:\n",
            "    https://scikit-learn.org/stable/modules/linear_model.html#logistic-regression\n",
            "  extra_warning_msg=_LOGISTIC_SOLVER_CONVERGENCE_MSG)\n",
            "/usr/local/lib/python3.6/dist-packages/sklearn/linear_model/_logistic.py:940: ConvergenceWarning: lbfgs failed to converge (status=1):\n",
            "STOP: TOTAL NO. of ITERATIONS REACHED LIMIT.\n",
            "\n",
            "Increase the number of iterations (max_iter) or scale the data as shown in:\n",
            "    https://scikit-learn.org/stable/modules/preprocessing.html\n",
            "Please also refer to the documentation for alternative solver options:\n",
            "    https://scikit-learn.org/stable/modules/linear_model.html#logistic-regression\n",
            "  extra_warning_msg=_LOGISTIC_SOLVER_CONVERGENCE_MSG)\n"
          ],
          "name": "stderr"
        },
        {
          "output_type": "stream",
          "text": [
            "[ 0.73267163 -0.31027014  0.09738012 -0.38220355  0.47973978 -0.44920899\n",
            "  0.09382977  2.79533872 -1.93674727  1.04294177  0.06916144 -0.00324379]\n",
            "-7.538147460218378\n",
            "{'Cs': 100, 'class_weight': None, 'cv': None, 'dual': False, 'fit_intercept': True, 'intercept_scaling': 1.0, 'l1_ratios': None, 'max_iter': 100, 'multi_class': 'auto', 'n_jobs': None, 'penalty': 'l2', 'random_state': None, 'refit': True, 'scoring': None, 'solver': 'lbfgs', 'tol': 0.0001, 'verbose': 0}\n",
            "Accuracy:  \n",
            " 0.9195375\n",
            "Confusion Matrix:  \n",
            " [[70724   953]\n",
            " [ 5484  2839]]\n"
          ],
          "name": "stdout"
        }
      ]
    },
    {
      "cell_type": "markdown",
      "metadata": {
        "id": "0lVaBiu8hWtX",
        "colab_type": "text"
      },
      "source": [
        "### Adjust Parameters for Logistic Regression"
      ]
    },
    {
      "cell_type": "markdown",
      "metadata": {
        "id": "H6TuEa0p4tQe",
        "colab_type": "text"
      },
      "source": [
        "### Model 2"
      ]
    },
    {
      "cell_type": "code",
      "metadata": {
        "id": "HnEL9wbA2Mpj",
        "colab_type": "code",
        "outputId": "daba5b25-56e0-436b-c677-65c7af3a5c1b",
        "colab": {
          "base_uri": "https://localhost:8080/",
          "height": 156
        }
      },
      "source": [
        "# run logistic regression and vary some parameters\n",
        "from sklearn.linear_model import LogisticRegression\n",
        "from sklearn import metrics as mt\n",
        "from sklearn.model_selection import ShuffleSplit\n",
        "\n",
        "num_cv_iterations = 1\n",
        "num_instances = len(y)\n",
        "cv_object = ShuffleSplit(n_splits=num_cv_iterations,\n",
        "                         test_size  = 0.2)\n",
        "\n",
        "# first we create a reusable logisitic regression object\n",
        "#   here we can setup the object with different learning parameters and constants\n",
        "lr_clf2 = LogisticRegression(C=1.0, class_weight=None, solver='liblinear' ) # get object\n",
        "\n",
        "# now we can use the cv_object that we setup before to iterate through the \n",
        "#    different training and testing sets. Each time we will reuse the logisitic regression \n",
        "#    object, but it gets trained on different data each time we use it.\n",
        "\n",
        "iter_num=0\n",
        "# the indices are the rows used for training and testing in each iteration\n",
        "for train_indices, test_indices in cv_object.split(X,y): \n",
        "    # I will create new variables here so that it is more obvious what \n",
        "    # the code is doing (you can compact this syntax and avoid duplicating memory,\n",
        "    # but it makes this code less readable)\n",
        "    #X_train = X[train_indices]\n",
        "    #y_train = y[train_indices]\n",
        "    \n",
        "   # X_test = X[test_indices]\n",
        "    #y_test = y[test_indices]\n",
        "    \n",
        "\n",
        "    # train the reusable logisitc regression model on the training data\n",
        "    lr_clf2.fit(X_train,y_train)  # train object\n",
        "    y_hat = lr_clf2.predict(X_test) # get test set precitions\n",
        "\n",
        "    # now let's get the accuracy and confusion matrix for this iterations of training/testing\n",
        "    acc = mt.accuracy_score(y_test,y_hat)\n",
        "    conf = mt.confusion_matrix(y_test,y_hat)\n",
        "    print(\"====Iteration\",iter_num,\" ====\")\n",
        "    print(\"accuracy\", acc )\n",
        "    print(\"confusion matrix\\n\",conf)\n",
        "    iter_num+=1\n",
        "    \n",
        "# Also note that every time you run the above code\n",
        "#   it randomly creates a new training and testing set, \n",
        "#   so accuracy will be different each time"
      ],
      "execution_count": 11,
      "outputs": [
        {
          "output_type": "stream",
          "text": [
            "/usr/local/lib/python3.6/dist-packages/sklearn/utils/validation.py:760: DataConversionWarning: A column-vector y was passed when a 1d array was expected. Please change the shape of y to (n_samples, ), for example using ravel().\n",
            "  y = column_or_1d(y, warn=True)\n"
          ],
          "name": "stderr"
        },
        {
          "output_type": "stream",
          "text": [
            "====Iteration 0  ====\n",
            "accuracy 0.9192375\n",
            "confusion matrix\n",
            " [[70517  1160]\n",
            " [ 5301  3022]]\n"
          ],
          "name": "stdout"
        }
      ]
    },
    {
      "cell_type": "markdown",
      "metadata": {
        "id": "hdW_A_4Y4wrS",
        "colab_type": "text"
      },
      "source": [
        "Model 3 (Using Grid Search to get the optimal parameters)"
      ]
    },
    {
      "cell_type": "code",
      "metadata": {
        "id": "0VmHek3j7A0u",
        "colab_type": "code",
        "outputId": "61064f30-9527-45fd-96af-15be51774456",
        "colab": {
          "base_uri": "https://localhost:8080/",
          "height": 375
        }
      },
      "source": [
        "#Logisitic regression 10-fold cross-validation \n",
        "from sklearn.linear_model import LogisticRegression\n",
        "from sklearn.model_selection import cross_validate\n",
        "#Divide data into test and training splits\n",
        "from sklearn.model_selection import ShuffleSplit\n",
        "cv = ShuffleSplit(n_splits=2, test_size=0.10, random_state=0)\n",
        "\n",
        "regEstimator = LogisticRegression()\n",
        "\n",
        "\n",
        "parameters = { 'penalty':['l2', 'l1', 'elasticnet']\n",
        "              ,'C': [0.001, 0.01, 0.1, 1, 10, 100, 1000]\n",
        "              ,'class_weight': ['balanced', 'none']\n",
        "              ,'random_state': [0]\n",
        "              ,'solver': ['lbfgs', 'saga', 'liblinear', 'newton-cg', 'sag']\n",
        "              ,'max_iter':[100,500]\n",
        "             }\n",
        "\n",
        "#Create a grid search object using the  \n",
        "from sklearn.model_selection import GridSearchCV\n",
        "regGridSearch = GridSearchCV(estimator=regEstimator\n",
        "                   , n_jobs=2 # jobs to run in parallel\n",
        "                   , verbose=1 # low verbosity\n",
        "                   , param_grid=parameters\n",
        "                   , cv=cv # KFolds = 10\n",
        "                   , scoring='accuracy')\n",
        "\n",
        "#Perform hyperparameter search to find the best combination of parameters for our data\n",
        "regGridSearch.fit(X_train, y_train)"
      ],
      "execution_count": 14,
      "outputs": [
        {
          "output_type": "stream",
          "text": [
            "Fitting 2 folds for each of 420 candidates, totalling 840 fits\n"
          ],
          "name": "stdout"
        },
        {
          "output_type": "stream",
          "text": [
            "[Parallel(n_jobs=2)]: Using backend LokyBackend with 2 concurrent workers.\n"
          ],
          "name": "stderr"
        },
        {
          "output_type": "error",
          "ename": "KeyboardInterrupt",
          "evalue": "ignored",
          "traceback": [
            "\u001b[0;31m---------------------------------------------------------------------------\u001b[0m",
            "\u001b[0;31mKeyboardInterrupt\u001b[0m                         Traceback (most recent call last)",
            "\u001b[0;32m<ipython-input-14-10041c9f94d1>\u001b[0m in \u001b[0;36m<module>\u001b[0;34m()\u001b[0m\n\u001b[1;32m     26\u001b[0m \u001b[0;34m\u001b[0m\u001b[0m\n\u001b[1;32m     27\u001b[0m \u001b[0;31m#Perform hyperparameter search to find the best combination of parameters for our data\u001b[0m\u001b[0;34m\u001b[0m\u001b[0;34m\u001b[0m\u001b[0;34m\u001b[0m\u001b[0m\n\u001b[0;32m---> 28\u001b[0;31m \u001b[0mregGridSearch\u001b[0m\u001b[0;34m.\u001b[0m\u001b[0mfit\u001b[0m\u001b[0;34m(\u001b[0m\u001b[0mX_train\u001b[0m\u001b[0;34m,\u001b[0m \u001b[0my_train\u001b[0m\u001b[0;34m)\u001b[0m\u001b[0;34m\u001b[0m\u001b[0;34m\u001b[0m\u001b[0m\n\u001b[0m",
            "\u001b[0;32m/usr/local/lib/python3.6/dist-packages/sklearn/model_selection/_search.py\u001b[0m in \u001b[0;36mfit\u001b[0;34m(self, X, y, groups, **fit_params)\u001b[0m\n\u001b[1;32m    708\u001b[0m                 \u001b[0;32mreturn\u001b[0m \u001b[0mresults\u001b[0m\u001b[0;34m\u001b[0m\u001b[0;34m\u001b[0m\u001b[0m\n\u001b[1;32m    709\u001b[0m \u001b[0;34m\u001b[0m\u001b[0m\n\u001b[0;32m--> 710\u001b[0;31m             \u001b[0mself\u001b[0m\u001b[0;34m.\u001b[0m\u001b[0m_run_search\u001b[0m\u001b[0;34m(\u001b[0m\u001b[0mevaluate_candidates\u001b[0m\u001b[0;34m)\u001b[0m\u001b[0;34m\u001b[0m\u001b[0;34m\u001b[0m\u001b[0m\n\u001b[0m\u001b[1;32m    711\u001b[0m \u001b[0;34m\u001b[0m\u001b[0m\n\u001b[1;32m    712\u001b[0m         \u001b[0;31m# For multi-metric evaluation, store the best_index_, best_params_ and\u001b[0m\u001b[0;34m\u001b[0m\u001b[0;34m\u001b[0m\u001b[0;34m\u001b[0m\u001b[0m\n",
            "\u001b[0;32m/usr/local/lib/python3.6/dist-packages/sklearn/model_selection/_search.py\u001b[0m in \u001b[0;36m_run_search\u001b[0;34m(self, evaluate_candidates)\u001b[0m\n\u001b[1;32m   1149\u001b[0m     \u001b[0;32mdef\u001b[0m \u001b[0m_run_search\u001b[0m\u001b[0;34m(\u001b[0m\u001b[0mself\u001b[0m\u001b[0;34m,\u001b[0m \u001b[0mevaluate_candidates\u001b[0m\u001b[0;34m)\u001b[0m\u001b[0;34m:\u001b[0m\u001b[0;34m\u001b[0m\u001b[0;34m\u001b[0m\u001b[0m\n\u001b[1;32m   1150\u001b[0m         \u001b[0;34m\"\"\"Search all candidates in param_grid\"\"\"\u001b[0m\u001b[0;34m\u001b[0m\u001b[0;34m\u001b[0m\u001b[0m\n\u001b[0;32m-> 1151\u001b[0;31m         \u001b[0mevaluate_candidates\u001b[0m\u001b[0;34m(\u001b[0m\u001b[0mParameterGrid\u001b[0m\u001b[0;34m(\u001b[0m\u001b[0mself\u001b[0m\u001b[0;34m.\u001b[0m\u001b[0mparam_grid\u001b[0m\u001b[0;34m)\u001b[0m\u001b[0;34m)\u001b[0m\u001b[0;34m\u001b[0m\u001b[0;34m\u001b[0m\u001b[0m\n\u001b[0m\u001b[1;32m   1152\u001b[0m \u001b[0;34m\u001b[0m\u001b[0m\n\u001b[1;32m   1153\u001b[0m \u001b[0;34m\u001b[0m\u001b[0m\n",
            "\u001b[0;32m/usr/local/lib/python3.6/dist-packages/sklearn/model_selection/_search.py\u001b[0m in \u001b[0;36mevaluate_candidates\u001b[0;34m(candidate_params)\u001b[0m\n\u001b[1;32m    687\u001b[0m                                \u001b[0;32mfor\u001b[0m \u001b[0mparameters\u001b[0m\u001b[0;34m,\u001b[0m \u001b[0;34m(\u001b[0m\u001b[0mtrain\u001b[0m\u001b[0;34m,\u001b[0m \u001b[0mtest\u001b[0m\u001b[0;34m)\u001b[0m\u001b[0;34m\u001b[0m\u001b[0;34m\u001b[0m\u001b[0m\n\u001b[1;32m    688\u001b[0m                                in product(candidate_params,\n\u001b[0;32m--> 689\u001b[0;31m                                           cv.split(X, y, groups)))\n\u001b[0m\u001b[1;32m    690\u001b[0m \u001b[0;34m\u001b[0m\u001b[0m\n\u001b[1;32m    691\u001b[0m                 \u001b[0;32mif\u001b[0m \u001b[0mlen\u001b[0m\u001b[0;34m(\u001b[0m\u001b[0mout\u001b[0m\u001b[0;34m)\u001b[0m \u001b[0;34m<\u001b[0m \u001b[0;36m1\u001b[0m\u001b[0;34m:\u001b[0m\u001b[0;34m\u001b[0m\u001b[0;34m\u001b[0m\u001b[0m\n",
            "\u001b[0;32m/usr/local/lib/python3.6/dist-packages/joblib/parallel.py\u001b[0m in \u001b[0;36m__call__\u001b[0;34m(self, iterable)\u001b[0m\n\u001b[1;32m   1015\u001b[0m \u001b[0;34m\u001b[0m\u001b[0m\n\u001b[1;32m   1016\u001b[0m             \u001b[0;32mwith\u001b[0m \u001b[0mself\u001b[0m\u001b[0;34m.\u001b[0m\u001b[0m_backend\u001b[0m\u001b[0;34m.\u001b[0m\u001b[0mretrieval_context\u001b[0m\u001b[0;34m(\u001b[0m\u001b[0;34m)\u001b[0m\u001b[0;34m:\u001b[0m\u001b[0;34m\u001b[0m\u001b[0;34m\u001b[0m\u001b[0m\n\u001b[0;32m-> 1017\u001b[0;31m                 \u001b[0mself\u001b[0m\u001b[0;34m.\u001b[0m\u001b[0mretrieve\u001b[0m\u001b[0;34m(\u001b[0m\u001b[0;34m)\u001b[0m\u001b[0;34m\u001b[0m\u001b[0;34m\u001b[0m\u001b[0m\n\u001b[0m\u001b[1;32m   1018\u001b[0m             \u001b[0;31m# Make sure that we get a last message telling us we are done\u001b[0m\u001b[0;34m\u001b[0m\u001b[0;34m\u001b[0m\u001b[0;34m\u001b[0m\u001b[0m\n\u001b[1;32m   1019\u001b[0m             \u001b[0melapsed_time\u001b[0m \u001b[0;34m=\u001b[0m \u001b[0mtime\u001b[0m\u001b[0;34m.\u001b[0m\u001b[0mtime\u001b[0m\u001b[0;34m(\u001b[0m\u001b[0;34m)\u001b[0m \u001b[0;34m-\u001b[0m \u001b[0mself\u001b[0m\u001b[0;34m.\u001b[0m\u001b[0m_start_time\u001b[0m\u001b[0;34m\u001b[0m\u001b[0;34m\u001b[0m\u001b[0m\n",
            "\u001b[0;32m/usr/local/lib/python3.6/dist-packages/joblib/parallel.py\u001b[0m in \u001b[0;36mretrieve\u001b[0;34m(self)\u001b[0m\n\u001b[1;32m    907\u001b[0m             \u001b[0;32mtry\u001b[0m\u001b[0;34m:\u001b[0m\u001b[0;34m\u001b[0m\u001b[0;34m\u001b[0m\u001b[0m\n\u001b[1;32m    908\u001b[0m                 \u001b[0;32mif\u001b[0m \u001b[0mgetattr\u001b[0m\u001b[0;34m(\u001b[0m\u001b[0mself\u001b[0m\u001b[0;34m.\u001b[0m\u001b[0m_backend\u001b[0m\u001b[0;34m,\u001b[0m \u001b[0;34m'supports_timeout'\u001b[0m\u001b[0;34m,\u001b[0m \u001b[0;32mFalse\u001b[0m\u001b[0;34m)\u001b[0m\u001b[0;34m:\u001b[0m\u001b[0;34m\u001b[0m\u001b[0;34m\u001b[0m\u001b[0m\n\u001b[0;32m--> 909\u001b[0;31m                     \u001b[0mself\u001b[0m\u001b[0;34m.\u001b[0m\u001b[0m_output\u001b[0m\u001b[0;34m.\u001b[0m\u001b[0mextend\u001b[0m\u001b[0;34m(\u001b[0m\u001b[0mjob\u001b[0m\u001b[0;34m.\u001b[0m\u001b[0mget\u001b[0m\u001b[0;34m(\u001b[0m\u001b[0mtimeout\u001b[0m\u001b[0;34m=\u001b[0m\u001b[0mself\u001b[0m\u001b[0;34m.\u001b[0m\u001b[0mtimeout\u001b[0m\u001b[0;34m)\u001b[0m\u001b[0;34m)\u001b[0m\u001b[0;34m\u001b[0m\u001b[0;34m\u001b[0m\u001b[0m\n\u001b[0m\u001b[1;32m    910\u001b[0m                 \u001b[0;32melse\u001b[0m\u001b[0;34m:\u001b[0m\u001b[0;34m\u001b[0m\u001b[0;34m\u001b[0m\u001b[0m\n\u001b[1;32m    911\u001b[0m                     \u001b[0mself\u001b[0m\u001b[0;34m.\u001b[0m\u001b[0m_output\u001b[0m\u001b[0;34m.\u001b[0m\u001b[0mextend\u001b[0m\u001b[0;34m(\u001b[0m\u001b[0mjob\u001b[0m\u001b[0;34m.\u001b[0m\u001b[0mget\u001b[0m\u001b[0;34m(\u001b[0m\u001b[0;34m)\u001b[0m\u001b[0;34m)\u001b[0m\u001b[0;34m\u001b[0m\u001b[0;34m\u001b[0m\u001b[0m\n",
            "\u001b[0;32m/usr/local/lib/python3.6/dist-packages/joblib/_parallel_backends.py\u001b[0m in \u001b[0;36mwrap_future_result\u001b[0;34m(future, timeout)\u001b[0m\n\u001b[1;32m    560\u001b[0m         AsyncResults.get from multiprocessing.\"\"\"\n\u001b[1;32m    561\u001b[0m         \u001b[0;32mtry\u001b[0m\u001b[0;34m:\u001b[0m\u001b[0;34m\u001b[0m\u001b[0;34m\u001b[0m\u001b[0m\n\u001b[0;32m--> 562\u001b[0;31m             \u001b[0;32mreturn\u001b[0m \u001b[0mfuture\u001b[0m\u001b[0;34m.\u001b[0m\u001b[0mresult\u001b[0m\u001b[0;34m(\u001b[0m\u001b[0mtimeout\u001b[0m\u001b[0;34m=\u001b[0m\u001b[0mtimeout\u001b[0m\u001b[0;34m)\u001b[0m\u001b[0;34m\u001b[0m\u001b[0;34m\u001b[0m\u001b[0m\n\u001b[0m\u001b[1;32m    563\u001b[0m         \u001b[0;32mexcept\u001b[0m \u001b[0mLokyTimeoutError\u001b[0m\u001b[0;34m:\u001b[0m\u001b[0;34m\u001b[0m\u001b[0;34m\u001b[0m\u001b[0m\n\u001b[1;32m    564\u001b[0m             \u001b[0;32mraise\u001b[0m \u001b[0mTimeoutError\u001b[0m\u001b[0;34m(\u001b[0m\u001b[0;34m)\u001b[0m\u001b[0;34m\u001b[0m\u001b[0;34m\u001b[0m\u001b[0m\n",
            "\u001b[0;32m/usr/lib/python3.6/concurrent/futures/_base.py\u001b[0m in \u001b[0;36mresult\u001b[0;34m(self, timeout)\u001b[0m\n\u001b[1;32m    425\u001b[0m                 \u001b[0;32mreturn\u001b[0m \u001b[0mself\u001b[0m\u001b[0;34m.\u001b[0m\u001b[0m__get_result\u001b[0m\u001b[0;34m(\u001b[0m\u001b[0;34m)\u001b[0m\u001b[0;34m\u001b[0m\u001b[0;34m\u001b[0m\u001b[0m\n\u001b[1;32m    426\u001b[0m \u001b[0;34m\u001b[0m\u001b[0m\n\u001b[0;32m--> 427\u001b[0;31m             \u001b[0mself\u001b[0m\u001b[0;34m.\u001b[0m\u001b[0m_condition\u001b[0m\u001b[0;34m.\u001b[0m\u001b[0mwait\u001b[0m\u001b[0;34m(\u001b[0m\u001b[0mtimeout\u001b[0m\u001b[0;34m)\u001b[0m\u001b[0;34m\u001b[0m\u001b[0;34m\u001b[0m\u001b[0m\n\u001b[0m\u001b[1;32m    428\u001b[0m \u001b[0;34m\u001b[0m\u001b[0m\n\u001b[1;32m    429\u001b[0m             \u001b[0;32mif\u001b[0m \u001b[0mself\u001b[0m\u001b[0;34m.\u001b[0m\u001b[0m_state\u001b[0m \u001b[0;32min\u001b[0m \u001b[0;34m[\u001b[0m\u001b[0mCANCELLED\u001b[0m\u001b[0;34m,\u001b[0m \u001b[0mCANCELLED_AND_NOTIFIED\u001b[0m\u001b[0;34m]\u001b[0m\u001b[0;34m:\u001b[0m\u001b[0;34m\u001b[0m\u001b[0;34m\u001b[0m\u001b[0m\n",
            "\u001b[0;32m/usr/lib/python3.6/threading.py\u001b[0m in \u001b[0;36mwait\u001b[0;34m(self, timeout)\u001b[0m\n\u001b[1;32m    293\u001b[0m         \u001b[0;32mtry\u001b[0m\u001b[0;34m:\u001b[0m    \u001b[0;31m# restore state no matter what (e.g., KeyboardInterrupt)\u001b[0m\u001b[0;34m\u001b[0m\u001b[0;34m\u001b[0m\u001b[0m\n\u001b[1;32m    294\u001b[0m             \u001b[0;32mif\u001b[0m \u001b[0mtimeout\u001b[0m \u001b[0;32mis\u001b[0m \u001b[0;32mNone\u001b[0m\u001b[0;34m:\u001b[0m\u001b[0;34m\u001b[0m\u001b[0;34m\u001b[0m\u001b[0m\n\u001b[0;32m--> 295\u001b[0;31m                 \u001b[0mwaiter\u001b[0m\u001b[0;34m.\u001b[0m\u001b[0macquire\u001b[0m\u001b[0;34m(\u001b[0m\u001b[0;34m)\u001b[0m\u001b[0;34m\u001b[0m\u001b[0;34m\u001b[0m\u001b[0m\n\u001b[0m\u001b[1;32m    296\u001b[0m                 \u001b[0mgotit\u001b[0m \u001b[0;34m=\u001b[0m \u001b[0;32mTrue\u001b[0m\u001b[0;34m\u001b[0m\u001b[0;34m\u001b[0m\u001b[0m\n\u001b[1;32m    297\u001b[0m             \u001b[0;32melse\u001b[0m\u001b[0;34m:\u001b[0m\u001b[0;34m\u001b[0m\u001b[0;34m\u001b[0m\u001b[0m\n",
            "\u001b[0;31mKeyboardInterrupt\u001b[0m: "
          ]
        }
      ]
    },
    {
      "cell_type": "code",
      "metadata": {
        "id": "a2Gdgl8k62xQ",
        "colab_type": "code",
        "outputId": "d631d66e-b83b-42b7-bfd9-7755166e6041",
        "colab": {
          "base_uri": "https://localhost:8080/",
          "height": 122
        }
      },
      "source": [
        "#Diplay the top model parameters\n",
        "regGridSearch.best_estimator_"
      ],
      "execution_count": 0,
      "outputs": [
        {
          "output_type": "execute_result",
          "data": {
            "text/plain": [
              "LogisticRegression(C=10, class_weight='none', dual=False, fit_intercept=True,\n",
              "                   intercept_scaling=1, l1_ratio=None, max_iter=100,\n",
              "                   multi_class='auto', n_jobs=None, penalty='l2',\n",
              "                   random_state=0, solver='lbfgs', tol=0.0001, verbose=0,\n",
              "                   warm_start=False)"
            ]
          },
          "metadata": {
            "tags": []
          },
          "execution_count": 29
        }
      ]
    },
    {
      "cell_type": "code",
      "metadata": {
        "id": "7_OD2AxipXK1",
        "colab_type": "code",
        "colab": {}
      },
      "source": [
        "type(regGridSearch)"
      ],
      "execution_count": 0,
      "outputs": []
    },
    {
      "cell_type": "code",
      "metadata": {
        "id": "g8DbDg63pXVB",
        "colab_type": "code",
        "colab": {}
      },
      "source": [
        "gridresults = pd.DataFrame(regGridSearch.cv_results_)"
      ],
      "execution_count": 0,
      "outputs": []
    },
    {
      "cell_type": "code",
      "metadata": {
        "id": "-I-uw1YIpXhA",
        "colab_type": "code",
        "colab": {}
      },
      "source": [
        "columns = ['param_solver','param_C', 'param_max_iter', 'param_penalty', 'mean_test_score', 'rank_test_score']\n",
        "gridresults = pd.DataFrame(gridresults, columns=columns)"
      ],
      "execution_count": 0,
      "outputs": []
    },
    {
      "cell_type": "code",
      "metadata": {
        "id": "fRjiCcB6pXx2",
        "colab_type": "code",
        "colab": {}
      },
      "source": [
        "gridresults.sort_values(by=['rank_test_score'], ascending=True).head(20)"
      ],
      "execution_count": 0,
      "outputs": []
    },
    {
      "cell_type": "code",
      "metadata": {
        "id": "GGs7b3Vrpglw",
        "colab_type": "code",
        "colab": {}
      },
      "source": [
        "y_hat = regGridSearch.predict(X_test) # get test set precitions\n",
        "\n",
        "# now let's get the accuracy and confusion matrix for this iterations of training/testing\n",
        "acc = mt.accuracy_score(y_test,y_hat)\n",
        "conf = mt.confusion_matrix(y_test,y_hat)\n",
        "\n",
        "print(\"accuracy\", acc )\n",
        "print(\"confusion matrix\\n\",conf)"
      ],
      "execution_count": 0,
      "outputs": []
    },
    {
      "cell_type": "code",
      "metadata": {
        "id": "g6oDIjxUfcz0",
        "colab_type": "code",
        "outputId": "bb4ef96b-8cdd-4862-e4ae-f1ddd97090ef",
        "colab": {
          "base_uri": "https://localhost:8080/",
          "height": 802
        }
      },
      "source": [
        "# run logistic regression of the grid search\n",
        "from sklearn.linear_model import LogisticRegression\n",
        "from sklearn import metrics as mt\n",
        "from sklearn.model_selection import ShuffleSplit\n",
        "\n",
        "num_cv_iterations = 1\n",
        "num_instances = len(y)\n",
        "cv_object = ShuffleSplit(n_splits=num_cv_iterations,\n",
        "                         test_size  = 0.2)\n",
        "\n",
        "# first we create a reusable logisitic regression object\n",
        "#   here we can setup the object with different learning parameters and constants\n",
        "lr_clf4 = regGridSearch.best_estimator_\n",
        "\n",
        " # get object\n",
        "\n",
        "# now we can use the cv_object that we setup before to iterate through the \n",
        "#    different training and testing sets. Each time we will reuse the logisitic regression \n",
        "#    object, but it gets trained on different data each time we use it.\n",
        "\n",
        "iter_num=0\n",
        "# the indices are the rows used for training and testing in each iteration\n",
        "for train_indices, test_indices in cv_object.split(X,y): \n",
        "    # I will create new variables here so that it is more obvious what \n",
        "    # the code is doing (you can compact this syntax and avoid duplicating memory,\n",
        "    # but it makes this code less readable)\n",
        "    #X_train = X[train_indices]\n",
        "    #y_train = y[train_indices]\n",
        "    \n",
        "    #X_test = X[test_indices]\n",
        "   # y_test = y[test_indices]\n",
        "    \n",
        "    # train the reusable logisitc regression model on the training data\n",
        "    lr_clf4.fit(X_train,y_train)  # train object\n",
        "    y_hat = lr_clf4.predict(X_test) # get test set precitions\n",
        "\n",
        "    # now let's get the accuracy and confusion matrix for this iterations of training/testing\n",
        "    acc = mt.accuracy_score(y_test,y_hat)\n",
        "    conf = mt.confusion_matrix(y_test,y_hat)\n",
        "    print(\"====Iteration\",iter_num,\" ====\")\n",
        "    print(\"accuracy\", acc )\n",
        "    print(\"confusion matrix\\n\",conf)\n",
        "    iter_num+=1\n",
        "    \n",
        "# Also note that every time you run the above code\n",
        "#   it randomly creates a new training and testing set, \n",
        "#   so accuracy will be different each time"
      ],
      "execution_count": 0,
      "outputs": [
        {
          "output_type": "stream",
          "text": [
            "/usr/local/lib/python3.6/dist-packages/sklearn/utils/validation.py:760: DataConversionWarning: A column-vector y was passed when a 1d array was expected. Please change the shape of y to (n_samples, ), for example using ravel().\n",
            "  y = column_or_1d(y, warn=True)\n",
            "/usr/local/lib/python3.6/dist-packages/sklearn/linear_model/_logistic.py:940: ConvergenceWarning: lbfgs failed to converge (status=1):\n",
            "STOP: TOTAL NO. of ITERATIONS REACHED LIMIT.\n",
            "\n",
            "Increase the number of iterations (max_iter) or scale the data as shown in:\n",
            "    https://scikit-learn.org/stable/modules/preprocessing.html\n",
            "Please also refer to the documentation for alternative solver options:\n",
            "    https://scikit-learn.org/stable/modules/linear_model.html#logistic-regression\n",
            "  extra_warning_msg=_LOGISTIC_SOLVER_CONVERGENCE_MSG)\n",
            "/usr/local/lib/python3.6/dist-packages/sklearn/utils/validation.py:760: DataConversionWarning: A column-vector y was passed when a 1d array was expected. Please change the shape of y to (n_samples, ), for example using ravel().\n",
            "  y = column_or_1d(y, warn=True)\n"
          ],
          "name": "stderr"
        },
        {
          "output_type": "stream",
          "text": [
            "====Iteration 0  ====\n",
            "accuracy 0.8381\n",
            "confusion matrix\n",
            " [[14667   859]\n",
            " [ 2379  2095]]\n"
          ],
          "name": "stdout"
        },
        {
          "output_type": "stream",
          "text": [
            "/usr/local/lib/python3.6/dist-packages/sklearn/linear_model/_logistic.py:940: ConvergenceWarning: lbfgs failed to converge (status=1):\n",
            "STOP: TOTAL NO. of ITERATIONS REACHED LIMIT.\n",
            "\n",
            "Increase the number of iterations (max_iter) or scale the data as shown in:\n",
            "    https://scikit-learn.org/stable/modules/preprocessing.html\n",
            "Please also refer to the documentation for alternative solver options:\n",
            "    https://scikit-learn.org/stable/modules/linear_model.html#logistic-regression\n",
            "  extra_warning_msg=_LOGISTIC_SOLVER_CONVERGENCE_MSG)\n",
            "/usr/local/lib/python3.6/dist-packages/sklearn/utils/validation.py:760: DataConversionWarning: A column-vector y was passed when a 1d array was expected. Please change the shape of y to (n_samples, ), for example using ravel().\n",
            "  y = column_or_1d(y, warn=True)\n"
          ],
          "name": "stderr"
        },
        {
          "output_type": "stream",
          "text": [
            "====Iteration 1  ====\n",
            "accuracy 0.8381\n",
            "confusion matrix\n",
            " [[14667   859]\n",
            " [ 2379  2095]]\n",
            "====Iteration 2  ====\n",
            "accuracy 0.8381\n",
            "confusion matrix\n",
            " [[14667   859]\n",
            " [ 2379  2095]]\n"
          ],
          "name": "stdout"
        },
        {
          "output_type": "stream",
          "text": [
            "/usr/local/lib/python3.6/dist-packages/sklearn/linear_model/_logistic.py:940: ConvergenceWarning: lbfgs failed to converge (status=1):\n",
            "STOP: TOTAL NO. of ITERATIONS REACHED LIMIT.\n",
            "\n",
            "Increase the number of iterations (max_iter) or scale the data as shown in:\n",
            "    https://scikit-learn.org/stable/modules/preprocessing.html\n",
            "Please also refer to the documentation for alternative solver options:\n",
            "    https://scikit-learn.org/stable/modules/linear_model.html#logistic-regression\n",
            "  extra_warning_msg=_LOGISTIC_SOLVER_CONVERGENCE_MSG)\n"
          ],
          "name": "stderr"
        }
      ]
    },
    {
      "cell_type": "markdown",
      "metadata": {
        "id": "M0Ff-kL3qb3D",
        "colab_type": "text"
      },
      "source": [
        "####Plot the Grid Search Classifier "
      ]
    },
    {
      "cell_type": "code",
      "metadata": {
        "id": "blJre3EQqZsm",
        "colab_type": "code",
        "colab": {
          "base_uri": "https://localhost:8080/",
          "height": 375
        },
        "outputId": "1ea33c78-ea7e-40be-c330-e42c5caaab21"
      },
      "source": [
        "from sklearn.metrics import roc_curve\n",
        "from sklearn.metrics import roc_auc_score\n",
        "# predict probabilities\n",
        "lr_probs = regGridSearch.predict_proba(X_test)\n",
        "ns_probs = [0 for _ in range(len(y_test))]\n",
        "# keep probabilities for the positive outcome only\n",
        "lr_probs = lr_probs[:, 1]\n",
        "# calculate scores\n",
        "ns_auc = roc_auc_score(y_test, ns_probs)\n",
        "lr_auc = roc_auc_score(y_test, lr_probs)\n",
        "# summarize scores\n",
        "print('No Skill: ROC AUC=%.3f' % (ns_auc))\n",
        "print('Logistic: ROC AUC=%.3f' % (lr_auc))\n",
        "# calculate roc curves\n",
        "ns_fpr, ns_tpr, _ = roc_curve(y_test, ns_probs)\n",
        "lr_fpr, lr_tpr, _ = roc_curve(y_test, lr_probs)"
      ],
      "execution_count": 15,
      "outputs": [
        {
          "output_type": "error",
          "ename": "AttributeError",
          "evalue": "ignored",
          "traceback": [
            "\u001b[0;31m---------------------------------------------------------------------------\u001b[0m",
            "\u001b[0;31mAttributeError\u001b[0m                            Traceback (most recent call last)",
            "\u001b[0;32m<ipython-input-15-c8b7f213b32a>\u001b[0m in \u001b[0;36m<module>\u001b[0;34m()\u001b[0m\n\u001b[1;32m      2\u001b[0m \u001b[0;32mfrom\u001b[0m \u001b[0msklearn\u001b[0m\u001b[0;34m.\u001b[0m\u001b[0mmetrics\u001b[0m \u001b[0;32mimport\u001b[0m \u001b[0mroc_auc_score\u001b[0m\u001b[0;34m\u001b[0m\u001b[0;34m\u001b[0m\u001b[0m\n\u001b[1;32m      3\u001b[0m \u001b[0;31m# predict probabilities\u001b[0m\u001b[0;34m\u001b[0m\u001b[0;34m\u001b[0m\u001b[0;34m\u001b[0m\u001b[0m\n\u001b[0;32m----> 4\u001b[0;31m \u001b[0mlr_probs\u001b[0m \u001b[0;34m=\u001b[0m \u001b[0mregGridSearch\u001b[0m\u001b[0;34m.\u001b[0m\u001b[0mpredict_proba\u001b[0m\u001b[0;34m(\u001b[0m\u001b[0mX_test\u001b[0m\u001b[0;34m)\u001b[0m\u001b[0;34m\u001b[0m\u001b[0;34m\u001b[0m\u001b[0m\n\u001b[0m\u001b[1;32m      5\u001b[0m \u001b[0mns_probs\u001b[0m \u001b[0;34m=\u001b[0m \u001b[0;34m[\u001b[0m\u001b[0;36m0\u001b[0m \u001b[0;32mfor\u001b[0m \u001b[0m_\u001b[0m \u001b[0;32min\u001b[0m \u001b[0mrange\u001b[0m\u001b[0;34m(\u001b[0m\u001b[0mlen\u001b[0m\u001b[0;34m(\u001b[0m\u001b[0my_test\u001b[0m\u001b[0;34m)\u001b[0m\u001b[0;34m)\u001b[0m\u001b[0;34m]\u001b[0m\u001b[0;34m\u001b[0m\u001b[0;34m\u001b[0m\u001b[0m\n\u001b[1;32m      6\u001b[0m \u001b[0;31m# keep probabilities for the positive outcome only\u001b[0m\u001b[0;34m\u001b[0m\u001b[0;34m\u001b[0m\u001b[0;34m\u001b[0m\u001b[0m\n",
            "\u001b[0;32m/usr/local/lib/python3.6/dist-packages/sklearn/utils/metaestimators.py\u001b[0m in \u001b[0;36m<lambda>\u001b[0;34m(*args, **kwargs)\u001b[0m\n\u001b[1;32m    114\u001b[0m \u001b[0;34m\u001b[0m\u001b[0m\n\u001b[1;32m    115\u001b[0m         \u001b[0;31m# lambda, but not partial, allows help() to work with update_wrapper\u001b[0m\u001b[0;34m\u001b[0m\u001b[0;34m\u001b[0m\u001b[0;34m\u001b[0m\u001b[0m\n\u001b[0;32m--> 116\u001b[0;31m         \u001b[0mout\u001b[0m \u001b[0;34m=\u001b[0m \u001b[0;32mlambda\u001b[0m \u001b[0;34m*\u001b[0m\u001b[0margs\u001b[0m\u001b[0;34m,\u001b[0m \u001b[0;34m**\u001b[0m\u001b[0mkwargs\u001b[0m\u001b[0;34m:\u001b[0m \u001b[0mself\u001b[0m\u001b[0;34m.\u001b[0m\u001b[0mfn\u001b[0m\u001b[0;34m(\u001b[0m\u001b[0mobj\u001b[0m\u001b[0;34m,\u001b[0m \u001b[0;34m*\u001b[0m\u001b[0margs\u001b[0m\u001b[0;34m,\u001b[0m \u001b[0;34m**\u001b[0m\u001b[0mkwargs\u001b[0m\u001b[0;34m)\u001b[0m\u001b[0;34m\u001b[0m\u001b[0;34m\u001b[0m\u001b[0m\n\u001b[0m\u001b[1;32m    117\u001b[0m         \u001b[0;31m# update the docstring of the returned function\u001b[0m\u001b[0;34m\u001b[0m\u001b[0;34m\u001b[0m\u001b[0;34m\u001b[0m\u001b[0m\n\u001b[1;32m    118\u001b[0m         \u001b[0mupdate_wrapper\u001b[0m\u001b[0;34m(\u001b[0m\u001b[0mout\u001b[0m\u001b[0;34m,\u001b[0m \u001b[0mself\u001b[0m\u001b[0;34m.\u001b[0m\u001b[0mfn\u001b[0m\u001b[0;34m)\u001b[0m\u001b[0;34m\u001b[0m\u001b[0;34m\u001b[0m\u001b[0m\n",
            "\u001b[0;32m/usr/local/lib/python3.6/dist-packages/sklearn/model_selection/_search.py\u001b[0m in \u001b[0;36mpredict_proba\u001b[0;34m(self, X)\u001b[0m\n\u001b[1;32m    492\u001b[0m         \"\"\"\n\u001b[1;32m    493\u001b[0m         \u001b[0mself\u001b[0m\u001b[0;34m.\u001b[0m\u001b[0m_check_is_fitted\u001b[0m\u001b[0;34m(\u001b[0m\u001b[0;34m'predict_proba'\u001b[0m\u001b[0;34m)\u001b[0m\u001b[0;34m\u001b[0m\u001b[0;34m\u001b[0m\u001b[0m\n\u001b[0;32m--> 494\u001b[0;31m         \u001b[0;32mreturn\u001b[0m \u001b[0mself\u001b[0m\u001b[0;34m.\u001b[0m\u001b[0mbest_estimator_\u001b[0m\u001b[0;34m.\u001b[0m\u001b[0mpredict_proba\u001b[0m\u001b[0;34m(\u001b[0m\u001b[0mX\u001b[0m\u001b[0;34m)\u001b[0m\u001b[0;34m\u001b[0m\u001b[0;34m\u001b[0m\u001b[0m\n\u001b[0m\u001b[1;32m    495\u001b[0m \u001b[0;34m\u001b[0m\u001b[0m\n\u001b[1;32m    496\u001b[0m     \u001b[0;34m@\u001b[0m\u001b[0mif_delegate_has_method\u001b[0m\u001b[0;34m(\u001b[0m\u001b[0mdelegate\u001b[0m\u001b[0;34m=\u001b[0m\u001b[0;34m(\u001b[0m\u001b[0;34m'best_estimator_'\u001b[0m\u001b[0;34m,\u001b[0m \u001b[0;34m'estimator'\u001b[0m\u001b[0;34m)\u001b[0m\u001b[0;34m)\u001b[0m\u001b[0;34m\u001b[0m\u001b[0;34m\u001b[0m\u001b[0m\n",
            "\u001b[0;31mAttributeError\u001b[0m: 'GridSearchCV' object has no attribute 'best_estimator_'"
          ]
        }
      ]
    },
    {
      "cell_type": "code",
      "metadata": {
        "id": "na63kgftqa7l",
        "colab_type": "code",
        "colab": {}
      },
      "source": [
        "from matplotlib import pyplot\n",
        "# calculate roc curves\n",
        "ns_fpr, ns_tpr, _ = roc_curve(y_test, ns_probs)\n",
        "lr_fpr, lr_tpr, _ = roc_curve(y_test, lr_probs)\n",
        "# plot the roc curve for the model\n",
        "pyplot.plot(ns_fpr, ns_tpr, linestyle='--', label='No Skill')\n",
        "pyplot.plot(lr_fpr, lr_tpr, marker='.', label='Logistic')\n",
        "# axis labels\n",
        "pyplot.xlabel('False Positive Rate')\n",
        "pyplot.ylabel('True Positive Rate')\n",
        "# show the legend\n",
        "pyplot.legend()\n",
        "# show the plot\n",
        "pyplot.show()"
      ],
      "execution_count": 0,
      "outputs": []
    },
    {
      "cell_type": "markdown",
      "metadata": {
        "id": "lcCmfWMo91Aq",
        "colab_type": "text"
      },
      "source": [
        "### Classifier Estimation"
      ]
    },
    {
      "cell_type": "code",
      "metadata": {
        "id": "MLsi0Kr390BP",
        "colab_type": "code",
        "colab": {}
      },
      "source": [
        "from sklearn.model_selection import cross_validate\n",
        "\n",
        "def EvaluateClassifierEstimator(classifierEstimator, X, y, cv):\n",
        "   \n",
        "    #Perform cross validation \n",
        "    scores = cross_validate(classifierEstimator, X_train, y_train, scoring=['accuracy','precision','recall']\n",
        "                            , cv=cv, return_train_score=True)\n",
        "\n",
        "    Accavg = scores['test_accuracy'].mean()\n",
        "    Preavg = scores['test_precision'].mean()\n",
        "    Recavg = scores['test_recall'].mean()\n",
        "\n",
        "    print_str = \"The average accuracy for all cv folds is: \\t\\t\\t {Accavg:.5}\"\n",
        "    print_str2 = \"The average precision for all cv folds is: \\t\\t\\t {Preavg:.5}\"\n",
        "    print_str3 = \"The average recall for all cv folds is: \\t\\t\\t {Recavg:.5}\"\n",
        "\n",
        "    print(print_str.format(Accavg=Accavg))\n",
        "    print(print_str2.format(Preavg=Preavg))\n",
        "    print(print_str3.format(Recavg=Recavg))\n",
        "    print('*********************************************************')\n",
        "\n",
        "    print('Cross Validation Fold Mean Error Scores')\n",
        "    scoresResults = pd.DataFrame()\n",
        "    scoresResults['Accuracy'] = scores['test_accuracy']\n",
        "    scoresResults['Precision'] = scores['test_precision']\n",
        "    scoresResults['Recall'] = scores['test_recall']\n",
        "\n",
        "    return scoresResults\n",
        "\n",
        "def EvaluateClassifierEstimator2(classifierEstimator, X, y, cv):\n",
        "    \n",
        "    #Perform cross validation \n",
        "    from sklearn.model_selection import cross_val_predict\n",
        "    predictions = cross_val_predict(classifierEstimator, X_train, y_train, cv=cv)\n",
        "    \n",
        "      #model evaluation \n",
        "    from sklearn.metrics import classification_report, confusion_matrix, accuracy_score\n",
        "    \n",
        "    #pass true test set values and predictions to classification_report\n",
        "    classReport = classification_report(y_train, predictions)\n",
        "    confMat = confusion_matrix(y_train,predictions)\n",
        "    acc = accuracy_score(y_train,predictions)\n",
        "    \n",
        "    print (classReport)\n",
        "    print (confMat)\n",
        "    print (acc)"
      ],
      "execution_count": 0,
      "outputs": []
    },
    {
      "cell_type": "code",
      "metadata": {
        "id": "j9u-VJIt9YHp",
        "colab_type": "code",
        "outputId": "9ad8472a-5d53-440f-c244-c04b96c96dd2",
        "colab": {
          "base_uri": "https://localhost:8080/",
          "height": 215
        }
      },
      "source": [
        "#Use the best parameters for our Linear Regression object\n",
        "classifierEst = regGridSearch.best_estimator_\n",
        "\n",
        "#Evaluate the regression estimator above using our pre-defined cross validation and scoring metrics. \n",
        "EvaluateClassifierEstimator(classifierEst, X_train, y_train, cv)"
      ],
      "execution_count": 17,
      "outputs": [
        {
          "output_type": "error",
          "ename": "AttributeError",
          "evalue": "ignored",
          "traceback": [
            "\u001b[0;31m---------------------------------------------------------------------------\u001b[0m",
            "\u001b[0;31mAttributeError\u001b[0m                            Traceback (most recent call last)",
            "\u001b[0;32m<ipython-input-17-79cdb07d6772>\u001b[0m in \u001b[0;36m<module>\u001b[0;34m()\u001b[0m\n\u001b[0;32m----> 1\u001b[0;31m \u001b[0mclassifierEst\u001b[0m \u001b[0;34m=\u001b[0m \u001b[0mregGridSearch\u001b[0m\u001b[0;34m.\u001b[0m\u001b[0mbest_estimator_\u001b[0m\u001b[0;34m\u001b[0m\u001b[0;34m\u001b[0m\u001b[0m\n\u001b[0m\u001b[1;32m      2\u001b[0m \u001b[0;34m\u001b[0m\u001b[0m\n\u001b[1;32m      3\u001b[0m \u001b[0;31m#Evaluate the regression estimator above using our pre-defined cross validation and scoring metrics.\u001b[0m\u001b[0;34m\u001b[0m\u001b[0;34m\u001b[0m\u001b[0;34m\u001b[0m\u001b[0m\n\u001b[1;32m      4\u001b[0m \u001b[0mEvaluateClassifierEstimator\u001b[0m\u001b[0;34m(\u001b[0m\u001b[0mclassifierEst\u001b[0m\u001b[0;34m,\u001b[0m \u001b[0mX_train\u001b[0m\u001b[0;34m,\u001b[0m \u001b[0my_train\u001b[0m\u001b[0;34m,\u001b[0m \u001b[0mcv\u001b[0m\u001b[0;34m)\u001b[0m\u001b[0;34m\u001b[0m\u001b[0;34m\u001b[0m\u001b[0m\n",
            "\u001b[0;31mAttributeError\u001b[0m: 'GridSearchCV' object has no attribute 'best_estimator_'"
          ]
        }
      ]
    },
    {
      "cell_type": "code",
      "metadata": {
        "id": "aE_mRm1u-eC8",
        "colab_type": "code",
        "outputId": "19484409-05fd-49d9-9630-886de46372ed",
        "colab": {
          "base_uri": "https://localhost:8080/",
          "height": 1000
        }
      },
      "source": [
        "EvaluateClassifierEstimator2(classifierEst, X_train, y_train, 10)\n"
      ],
      "execution_count": 0,
      "outputs": [
        {
          "output_type": "stream",
          "text": [
            "/usr/local/lib/python3.6/dist-packages/sklearn/utils/validation.py:760: DataConversionWarning: A column-vector y was passed when a 1d array was expected. Please change the shape of y to (n_samples, ), for example using ravel().\n",
            "  y = column_or_1d(y, warn=True)\n",
            "/usr/local/lib/python3.6/dist-packages/sklearn/linear_model/_logistic.py:940: ConvergenceWarning: lbfgs failed to converge (status=1):\n",
            "STOP: TOTAL NO. of ITERATIONS REACHED LIMIT.\n",
            "\n",
            "Increase the number of iterations (max_iter) or scale the data as shown in:\n",
            "    https://scikit-learn.org/stable/modules/preprocessing.html\n",
            "Please also refer to the documentation for alternative solver options:\n",
            "    https://scikit-learn.org/stable/modules/linear_model.html#logistic-regression\n",
            "  extra_warning_msg=_LOGISTIC_SOLVER_CONVERGENCE_MSG)\n",
            "/usr/local/lib/python3.6/dist-packages/sklearn/utils/validation.py:760: DataConversionWarning: A column-vector y was passed when a 1d array was expected. Please change the shape of y to (n_samples, ), for example using ravel().\n",
            "  y = column_or_1d(y, warn=True)\n",
            "/usr/local/lib/python3.6/dist-packages/sklearn/linear_model/_logistic.py:940: ConvergenceWarning: lbfgs failed to converge (status=1):\n",
            "STOP: TOTAL NO. of ITERATIONS REACHED LIMIT.\n",
            "\n",
            "Increase the number of iterations (max_iter) or scale the data as shown in:\n",
            "    https://scikit-learn.org/stable/modules/preprocessing.html\n",
            "Please also refer to the documentation for alternative solver options:\n",
            "    https://scikit-learn.org/stable/modules/linear_model.html#logistic-regression\n",
            "  extra_warning_msg=_LOGISTIC_SOLVER_CONVERGENCE_MSG)\n",
            "/usr/local/lib/python3.6/dist-packages/sklearn/utils/validation.py:760: DataConversionWarning: A column-vector y was passed when a 1d array was expected. Please change the shape of y to (n_samples, ), for example using ravel().\n",
            "  y = column_or_1d(y, warn=True)\n",
            "/usr/local/lib/python3.6/dist-packages/sklearn/linear_model/_logistic.py:940: ConvergenceWarning: lbfgs failed to converge (status=1):\n",
            "STOP: TOTAL NO. of ITERATIONS REACHED LIMIT.\n",
            "\n",
            "Increase the number of iterations (max_iter) or scale the data as shown in:\n",
            "    https://scikit-learn.org/stable/modules/preprocessing.html\n",
            "Please also refer to the documentation for alternative solver options:\n",
            "    https://scikit-learn.org/stable/modules/linear_model.html#logistic-regression\n",
            "  extra_warning_msg=_LOGISTIC_SOLVER_CONVERGENCE_MSG)\n",
            "/usr/local/lib/python3.6/dist-packages/sklearn/utils/validation.py:760: DataConversionWarning: A column-vector y was passed when a 1d array was expected. Please change the shape of y to (n_samples, ), for example using ravel().\n",
            "  y = column_or_1d(y, warn=True)\n",
            "/usr/local/lib/python3.6/dist-packages/sklearn/linear_model/_logistic.py:940: ConvergenceWarning: lbfgs failed to converge (status=1):\n",
            "STOP: TOTAL NO. of ITERATIONS REACHED LIMIT.\n",
            "\n",
            "Increase the number of iterations (max_iter) or scale the data as shown in:\n",
            "    https://scikit-learn.org/stable/modules/preprocessing.html\n",
            "Please also refer to the documentation for alternative solver options:\n",
            "    https://scikit-learn.org/stable/modules/linear_model.html#logistic-regression\n",
            "  extra_warning_msg=_LOGISTIC_SOLVER_CONVERGENCE_MSG)\n",
            "/usr/local/lib/python3.6/dist-packages/sklearn/utils/validation.py:760: DataConversionWarning: A column-vector y was passed when a 1d array was expected. Please change the shape of y to (n_samples, ), for example using ravel().\n",
            "  y = column_or_1d(y, warn=True)\n",
            "/usr/local/lib/python3.6/dist-packages/sklearn/linear_model/_logistic.py:940: ConvergenceWarning: lbfgs failed to converge (status=1):\n",
            "STOP: TOTAL NO. of ITERATIONS REACHED LIMIT.\n",
            "\n",
            "Increase the number of iterations (max_iter) or scale the data as shown in:\n",
            "    https://scikit-learn.org/stable/modules/preprocessing.html\n",
            "Please also refer to the documentation for alternative solver options:\n",
            "    https://scikit-learn.org/stable/modules/linear_model.html#logistic-regression\n",
            "  extra_warning_msg=_LOGISTIC_SOLVER_CONVERGENCE_MSG)\n",
            "/usr/local/lib/python3.6/dist-packages/sklearn/utils/validation.py:760: DataConversionWarning: A column-vector y was passed when a 1d array was expected. Please change the shape of y to (n_samples, ), for example using ravel().\n",
            "  y = column_or_1d(y, warn=True)\n",
            "/usr/local/lib/python3.6/dist-packages/sklearn/linear_model/_logistic.py:940: ConvergenceWarning: lbfgs failed to converge (status=1):\n",
            "STOP: TOTAL NO. of ITERATIONS REACHED LIMIT.\n",
            "\n",
            "Increase the number of iterations (max_iter) or scale the data as shown in:\n",
            "    https://scikit-learn.org/stable/modules/preprocessing.html\n",
            "Please also refer to the documentation for alternative solver options:\n",
            "    https://scikit-learn.org/stable/modules/linear_model.html#logistic-regression\n",
            "  extra_warning_msg=_LOGISTIC_SOLVER_CONVERGENCE_MSG)\n",
            "/usr/local/lib/python3.6/dist-packages/sklearn/utils/validation.py:760: DataConversionWarning: A column-vector y was passed when a 1d array was expected. Please change the shape of y to (n_samples, ), for example using ravel().\n",
            "  y = column_or_1d(y, warn=True)\n",
            "/usr/local/lib/python3.6/dist-packages/sklearn/linear_model/_logistic.py:940: ConvergenceWarning: lbfgs failed to converge (status=1):\n",
            "STOP: TOTAL NO. of ITERATIONS REACHED LIMIT.\n",
            "\n",
            "Increase the number of iterations (max_iter) or scale the data as shown in:\n",
            "    https://scikit-learn.org/stable/modules/preprocessing.html\n",
            "Please also refer to the documentation for alternative solver options:\n",
            "    https://scikit-learn.org/stable/modules/linear_model.html#logistic-regression\n",
            "  extra_warning_msg=_LOGISTIC_SOLVER_CONVERGENCE_MSG)\n",
            "/usr/local/lib/python3.6/dist-packages/sklearn/utils/validation.py:760: DataConversionWarning: A column-vector y was passed when a 1d array was expected. Please change the shape of y to (n_samples, ), for example using ravel().\n",
            "  y = column_or_1d(y, warn=True)\n",
            "/usr/local/lib/python3.6/dist-packages/sklearn/linear_model/_logistic.py:940: ConvergenceWarning: lbfgs failed to converge (status=1):\n",
            "STOP: TOTAL NO. of ITERATIONS REACHED LIMIT.\n",
            "\n",
            "Increase the number of iterations (max_iter) or scale the data as shown in:\n",
            "    https://scikit-learn.org/stable/modules/preprocessing.html\n",
            "Please also refer to the documentation for alternative solver options:\n",
            "    https://scikit-learn.org/stable/modules/linear_model.html#logistic-regression\n",
            "  extra_warning_msg=_LOGISTIC_SOLVER_CONVERGENCE_MSG)\n",
            "/usr/local/lib/python3.6/dist-packages/sklearn/utils/validation.py:760: DataConversionWarning: A column-vector y was passed when a 1d array was expected. Please change the shape of y to (n_samples, ), for example using ravel().\n",
            "  y = column_or_1d(y, warn=True)\n",
            "/usr/local/lib/python3.6/dist-packages/sklearn/linear_model/_logistic.py:940: ConvergenceWarning: lbfgs failed to converge (status=1):\n",
            "STOP: TOTAL NO. of ITERATIONS REACHED LIMIT.\n",
            "\n",
            "Increase the number of iterations (max_iter) or scale the data as shown in:\n",
            "    https://scikit-learn.org/stable/modules/preprocessing.html\n",
            "Please also refer to the documentation for alternative solver options:\n",
            "    https://scikit-learn.org/stable/modules/linear_model.html#logistic-regression\n",
            "  extra_warning_msg=_LOGISTIC_SOLVER_CONVERGENCE_MSG)\n",
            "/usr/local/lib/python3.6/dist-packages/sklearn/utils/validation.py:760: DataConversionWarning: A column-vector y was passed when a 1d array was expected. Please change the shape of y to (n_samples, ), for example using ravel().\n",
            "  y = column_or_1d(y, warn=True)\n",
            "/usr/local/lib/python3.6/dist-packages/sklearn/linear_model/_logistic.py:940: ConvergenceWarning: lbfgs failed to converge (status=1):\n",
            "STOP: TOTAL NO. of ITERATIONS REACHED LIMIT.\n",
            "\n",
            "Increase the number of iterations (max_iter) or scale the data as shown in:\n",
            "    https://scikit-learn.org/stable/modules/preprocessing.html\n",
            "Please also refer to the documentation for alternative solver options:\n",
            "    https://scikit-learn.org/stable/modules/linear_model.html#logistic-regression\n",
            "  extra_warning_msg=_LOGISTIC_SOLVER_CONVERGENCE_MSG)\n"
          ],
          "name": "stderr"
        },
        {
          "output_type": "stream",
          "text": [
            "              precision    recall  f1-score   support\n",
            "\n",
            "           0       0.87      0.93      0.90     61829\n",
            "           1       0.69      0.55      0.61     18171\n",
            "\n",
            "    accuracy                           0.84     80000\n",
            "   macro avg       0.78      0.74      0.76     80000\n",
            "weighted avg       0.83      0.84      0.84     80000\n",
            "\n",
            "[[57428  4401]\n",
            " [ 8208  9963]]\n",
            "0.8423875\n"
          ],
          "name": "stdout"
        }
      ]
    },
    {
      "cell_type": "markdown",
      "metadata": {
        "id": "iuBdzdM8nSjo",
        "colab_type": "text"
      },
      "source": [
        "ROC Curves and AUC in Python\n",
        "https://machinelearningmastery.com/roc-curves-and-precision-recall-curves-for-classification-in-python/\n",
        "\n",
        "When to Use ROC vs. Precision-Recall Curves? Generally, the use of ROC curves and precision-recall curves are as follows:\n",
        "\n",
        "ROC curves should be used when there are roughly equal numbers of observations for each class. Precision-Recall curves should be used when there is a moderate to large class imbalance."
      ]
    },
    {
      "cell_type": "code",
      "metadata": {
        "id": "ZrKUTweEnSjp",
        "colab_type": "code",
        "outputId": "3c64e76d-3077-4b12-f001-e6fbf7de8b58",
        "colab": {
          "base_uri": "https://localhost:8080/",
          "height": 51
        }
      },
      "source": [
        "from sklearn.metrics import roc_curve\n",
        "from sklearn.metrics import roc_auc_score\n",
        "# predict probabilities\n",
        "lr_probs = logisticRegr.predict_proba(X_test)\n",
        "ns_probs = [0 for _ in range(len(y_test))]\n",
        "# keep probabilities for the positive outcome only\n",
        "lr_probs = lr_probs[:, 1]\n",
        "# calculate scores\n",
        "ns_auc = roc_auc_score(y_test, ns_probs)\n",
        "lr_auc = roc_auc_score(y_test, lr_probs)\n",
        "# summarize scores\n",
        "print('No Skill: ROC AUC=%.3f' % (ns_auc))\n",
        "print('Logistic: ROC AUC=%.3f' % (lr_auc))\n",
        "# calculate roc curves\n",
        "ns_fpr, ns_tpr, _ = roc_curve(y_test, ns_probs)\n",
        "lr_fpr, lr_tpr, _ = roc_curve(y_test, lr_probs)"
      ],
      "execution_count": 0,
      "outputs": [
        {
          "output_type": "stream",
          "text": [
            "No Skill: ROC AUC=0.500\n",
            "Logistic: ROC AUC=0.884\n"
          ],
          "name": "stdout"
        }
      ]
    },
    {
      "cell_type": "code",
      "metadata": {
        "id": "JyRbNmPxnSjw",
        "colab_type": "code",
        "outputId": "bcf73f27-a613-4251-ca36-7087c1884a44",
        "colab": {
          "base_uri": "https://localhost:8080/",
          "height": 285
        }
      },
      "source": [
        "from matplotlib import pyplot\n",
        "# calculate roc curves\n",
        "ns_fpr, ns_tpr, _ = roc_curve(y_test, ns_probs)\n",
        "lr_fpr, lr_tpr, _ = roc_curve(y_test, lr_probs)\n",
        "# plot the roc curve for the model\n",
        "pyplot.plot(ns_fpr, ns_tpr, linestyle='--', label='No Skill')\n",
        "pyplot.plot(lr_fpr, lr_tpr, marker='.', label='Logistic')\n",
        "# axis labels\n",
        "pyplot.xlabel('False Positive Rate')\n",
        "pyplot.ylabel('True Positive Rate')\n",
        "# show the legend\n",
        "pyplot.legend()\n",
        "# show the plot\n",
        "pyplot.show()"
      ],
      "execution_count": 0,
      "outputs": [
        {
          "output_type": "display_data",
          "data": {
            "image/png": "[encoded data removed]",
            "text/plain": [
              "<Figure size 432x288 with 1 Axes>"
            ]
          },
          "metadata": {
            "tags": []
          }
        }
      ]
    },
    {
      "cell_type": "code",
      "metadata": {
        "id": "kDI0MDSYnSj0",
        "colab_type": "code",
        "colab": {}
      },
      "source": [
        "ywhiskcnt = y_test.apply(pd.value_counts)\n",
        "ycnt = ywhiskcnt.loc[1:1, :]"
      ],
      "execution_count": 0,
      "outputs": []
    },
    {
      "cell_type": "code",
      "metadata": {
        "id": "egJSv8ZOnSj5",
        "colab_type": "code",
        "outputId": "916b8664-0308-4a6a-c0af-26c24efadb7f",
        "colab": {
          "base_uri": "https://localhost:8080/",
          "height": 302
        }
      },
      "source": [
        "from sklearn.metrics import precision_recall_curve\n",
        "from sklearn.metrics import f1_score\n",
        "from sklearn.metrics import auc\n",
        "\n",
        "# predict probabilities\n",
        "lr_probs = logisticRegr .predict_proba(X_test)\n",
        "# keep probabilities for the positive outcome only\n",
        "lr_probs = lr_probs[:, 1]\n",
        "# predict class values\n",
        "yhat = logisticRegr .predict(X_test)\n",
        "lr_precision, lr_recall, _ = precision_recall_curve(y_test, lr_probs)\n",
        "lr_f1, lr_auc = f1_score(y_test, yhat), auc(lr_recall, lr_precision)\n",
        "# summarize scores\n",
        "print('Logistic: f1=%.3f auc=%.3f' % (lr_f1, lr_auc))\n",
        "# plot the precision-recall curves\n",
        "ywhiskcnt = y_test.apply(pd.value_counts)\n",
        "ycnt = ywhiskcnt.loc[1:1, :]\n",
        "no_skill = ycnt.values[0] / len(y_test)\n",
        "#no_skill = len(y_test[y_test==1]) / len(y_test)\n",
        "no_skill\n",
        "#no_skill = 0.2\n",
        "pyplot.plot([0, 1], [no_skill, no_skill], linestyle='--', label='No Skill')\n",
        "pyplot.plot(lr_recall, lr_precision, marker='.', label='Logistic')\n",
        "# axis labels\n",
        "pyplot.xlabel('Recall')\n",
        "pyplot.ylabel('Precision')\n",
        "# show the legend\n",
        "pyplot.legend()\n",
        "# show the plot\n",
        "pyplot.show()"
      ],
      "execution_count": 0,
      "outputs": [
        {
          "output_type": "stream",
          "text": [
            "Logistic: f1=0.562 auc=0.702\n"
          ],
          "name": "stdout"
        },
        {
          "output_type": "display_data",
          "data": {
            "image/png": "[encoded data removed]",
            "text/plain": [
              "<Figure size 432x288 with 1 Axes>"
            ]
          },
          "metadata": {
            "tags": []
          }
        }
      ]
    },
    {
      "cell_type": "code",
      "metadata": {
        "id": "2Bg6yISPnSj-",
        "colab_type": "code",
        "colab": {}
      },
      "source": [
        "import pandas as pd\n",
        "import numpy as np\n",
        "from sklearn import preprocessing\n",
        "import matplotlib.pyplot as plt \n",
        "plt.rc(\"font\", size=14)\n",
        "from sklearn.linear_model import LogisticRegression\n",
        "from sklearn.model_selection import train_test_split\n",
        "import seaborn as sns\n",
        "sns.set(style=\"white\")\n",
        "sns.set(style=\"whitegrid\", color_codes=True)"
      ],
      "execution_count": 0,
      "outputs": []
    },
    {
      "cell_type": "markdown",
      "metadata": {
        "id": "dC7CCKAznSkt",
        "colab_type": "text"
      },
      "source": [
        "#### Support Vector Machine Model:"
      ]
    },
    {
      "cell_type": "code",
      "metadata": {
        "id": "TEA9JDZ8nSku",
        "colab_type": "code",
        "colab": {
          "base_uri": "https://localhost:8080/",
          "height": 71
        },
        "outputId": "10a3f2ee-ffb5-4a80-abad-b39c91c48168"
      },
      "source": [
        "#possibility to scale it?\n",
        "from sklearn.svm import LinearSVC\n",
        "from sklearn import preprocessing\n",
        "X_train = preprocessing.scale(X_train)\n",
        "X_test = preprocessing.scale(X_test)\n",
        "from sklearn.preprocessing import StandardScaler\n",
        "\n",
        "# all parameters not specified are set to their defaults\n",
        "#https://stackabuse.com/implementing-svm-and-kernel-svm-with-pythons-scikit-learn/\n",
        "from sklearn.svm import SVC\n",
        "#svclassifier = SVC(kernel='poly', degree=8)\n",
        "#svclassifier = SVC(kernel='rbf')\n",
        "#svclassifier = SVC(kernel='linear', random_state=0)\n",
        "scaler = StandardScaler()\n",
        "X_std = scaler.fit_transform(X_train)\n",
        "svclassifier = LinearSVC(C=100)\n",
        "model = svclassifier.fit(X_std, y_train)\n",
        "model"
      ],
      "execution_count": 0,
      "outputs": [
        {
          "output_type": "stream",
          "text": [
            "/usr/local/lib/python3.6/dist-packages/sklearn/utils/validation.py:760: DataConversionWarning: A column-vector y was passed when a 1d array was expected. Please change the shape of y to (n_samples, ), for example using ravel().\n",
            "  y = column_or_1d(y, warn=True)\n"
          ],
          "name": "stderr"
        }
      ]
    },
    {
      "cell_type": "markdown",
      "metadata": {
        "id": "PvxP5bgRI9bL",
        "colab_type": "text"
      },
      "source": [
        "can adjust costs per error to help you redraw the line in different ways to find the optimial accuracy."
      ]
    },
    {
      "cell_type": "code",
      "metadata": {
        "id": "1zvW-JwUnSk0",
        "colab_type": "code",
        "colab": {}
      },
      "source": [
        "# Returns a NumPy Array\n",
        "predictions = svclassifier.predict(X_test)\n",
        "from sklearn.metrics import classification_report, confusion_matrix\n",
        "print(confusion_matrix(y_test, predictions))\n",
        "print(classification_report(y_test, predictions))"
      ],
      "execution_count": 0,
      "outputs": []
    },
    {
      "cell_type": "code",
      "metadata": {
        "id": "nANPYoqN7OuQ",
        "colab_type": "code",
        "colab": {}
      },
      "source": [
        "from sklearn.svm import SVC\n",
        "from sklearn.preprocessing import StandardScaler\n",
        "\n",
        "# scale attributes by the training set\n",
        "scl_obj = StandardScaler()\n",
        "scl_obj.fit(X_train) # find scalings for each column that make this zero mean and unit std\n",
        "# the line of code above only looks at training data to get mean and std and we can use it \n",
        "# to transform new feature data\n",
        "\n",
        "X_train_scaled = scl_obj.transform(X_train) # apply to training\n",
        "X_test_scaled = scl_obj.transform(X_test)\n",
        "\n",
        "# train the model just as before\n",
        "svm_clf = SVC(C=0.5, kernel='rbf', degree=3, gamma='auto') # get object\n",
        "svm_clf.fit(X_train_scaled, y_train)  # train object\n",
        "\n",
        "y_hat = svm_clf.predict(X_test_scaled) # get test set precitions\n",
        "\n",
        "acc = mt.accuracy_score(y_test,y_hat)\n",
        "conf = mt.confusion_matrix(y_test,y_hat)\n",
        "print('accuracy:', acc )\n",
        "print(conf)"
      ],
      "execution_count": 0,
      "outputs": []
    },
    {
      "cell_type": "code",
      "metadata": {
        "id": "dR6F10o9nSk4",
        "colab_type": "code",
        "colab": {}
      },
      "source": [
        "#testing another set\n",
        "url_dataset = 'https://github.com/jjschueder/7331DataMiningNotebooks/blob/master/Live%20Assignment%201/df1hotmerge2.csv?raw=true'\n",
        "#df = pd.read_csv(url_dataset, nrows=50000)\n",
        "data2 = pd.read_csv(url_dataset, nrows=200000)\n"
      ],
      "execution_count": 0,
      "outputs": []
    },
    {
      "cell_type": "code",
      "metadata": {
        "id": "guqioC-VnSk9",
        "colab_type": "code",
        "colab": {}
      },
      "source": [
        "data2 = data2.iloc[100000:150000]"
      ],
      "execution_count": 0,
      "outputs": []
    },
    {
      "cell_type": "code",
      "metadata": {
        "id": "EeFYqtc9nSlC",
        "colab_type": "code",
        "colab": {}
      },
      "source": [
        "data2 = data2.drop(columns = ['Unnamed: 0'])\n",
        "count_not_whiskey = len(data2[data2['liquor_category_WHISKY']==0])\n",
        "count_whiskey = len(data2[data2['liquor_category_WHISKY']==1])\n",
        "pct_of_no_whiskey = count_not_whiskey/(count_not_whiskey+count_whiskey)\n",
        "print(\"percentage of not whiskey is\", pct_of_no_whiskey*100)\n",
        "pct_of_whiskey = count_whiskey/(count_not_whiskey+count_whiskey)\n",
        "print(\"percentage of whiskey\", pct_of_whiskey*100)"
      ],
      "execution_count": 0,
      "outputs": []
    },
    {
      "cell_type": "code",
      "metadata": {
        "id": "5BAff7uanSlH",
        "colab_type": "code",
        "colab": {}
      },
      "source": [
        "cat_vars=['counter', 'liquor_category', 'store_parent',\n",
        " 'month', 'year', 'monthyear', 'liquor_category_AMARETTO', 'liquor_category_BRANDY', 'liquor_category_GIN', \n",
        " 'liquor_category_LIQUEUR', 'liquor_category_Other', 'liquor_category_RUM', 'liquor_category_SCHNAPPS', \n",
        " 'liquor_category_TEQUILA', 'liquor_category_VODKA', 'month_Apr', 'month_Aug', 'month_Dec', 'month_Feb',\n",
        " 'month_Jan', 'month_Jul', 'month_Jun', 'month_Mar', 'month_May', 'month_Nov', 'month_Oct', 'month_Sep']\n",
        "data_vars=data.columns.values.tolist()\n",
        "to_keep=[i for i in data_vars if i not in cat_vars]\n",
        "to_keep=['sale_dollars_trans', 'cost_per_liter', 'cost_per_liter_trans',\n",
        "      'state_bottle_cost_trans', 'bottles_sold_trans',\n",
        "       'volume_sold_liters_trans','pack', 'bottle_volume_ml','liquor_category_WHISKY']\n",
        "data_final2=data2[to_keep]\n",
        "data_final2.columns.values"
      ],
      "execution_count": 0,
      "outputs": []
    },
    {
      "cell_type": "code",
      "metadata": {
        "id": "BjDL85ponSlL",
        "colab_type": "code",
        "colab": {}
      },
      "source": [
        "data_final2 = data_final2.reset_index(drop=True)"
      ],
      "execution_count": 0,
      "outputs": []
    },
    {
      "cell_type": "code",
      "metadata": {
        "id": "ewuSByzrnSlO",
        "colab_type": "code",
        "colab": {}
      },
      "source": [
        "data_final2.head()"
      ],
      "execution_count": 0,
      "outputs": []
    },
    {
      "cell_type": "code",
      "metadata": {
        "id": "qx0UM17GnSlR",
        "colab_type": "code",
        "colab": {}
      },
      "source": [
        "from sklearn.decomposition import PCA\n",
        "from sklearn.preprocessing import StandardScaler\n",
        "import pandas as pd\n",
        "\n",
        "# Separating out the features\n",
        "#x2 = data_final2.loc[:, to_keep].values\n",
        "x2 = data_final2.loc[:, data_final2.columns != 'liquor_category_WHISKY']\n",
        "y2 = data_final2.loc[:, data_final2.columns == 'liquor_category_WHISKY']\n",
        "\n",
        "\n",
        "# Standardizing the features\n",
        "x2 = StandardScaler().fit_transform(x2)\n",
        "xss = StandardScaler().fit_transform(x2)\n",
        "pca2 = PCA(n_components=8)\n",
        "principalComponents2 = pca2.fit_transform(x2)\n",
        "principalDf2 = pd.DataFrame(data = principalComponents2)\n",
        "#             , columns = ['principal component 1', 'principal component 2', '3',\n",
        "#                         '4', '5'])\n",
        "\n",
        "finalDf2 = pd.concat([principalDf2, data_final2[['liquor_category_WHISKY']]], axis = 1)\n",
        "pca2.explained_variance_ratio_\n"
      ],
      "execution_count": 0,
      "outputs": []
    },
    {
      "cell_type": "code",
      "metadata": {
        "id": "PhdsjkvR8KPb",
        "colab_type": "code",
        "colab": {}
      },
      "source": [
        "import pandas as pd\n",
        "from github.com/ngupta23/more/blob/master/more import viz_helper as vh\n",
        "\n",
        "pcs = vh.perform_pca(data = data_final2, n_components = 2)\n"
      ],
      "execution_count": 0,
      "outputs": []
    },
    {
      "cell_type": "code",
      "metadata": {
        "id": "eB7CapR4nSlV",
        "colab_type": "code",
        "colab": {}
      },
      "source": [
        "finalDf2.head()"
      ],
      "execution_count": 0,
      "outputs": []
    },
    {
      "cell_type": "code",
      "metadata": {
        "id": "oBRKmIginSlY",
        "colab_type": "code",
        "colab": {}
      },
      "source": [
        "plt.plot(np.cumsum(pca2.explained_variance_ratio_))\n",
        "plt.xlabel('number of components')\n",
        "plt.ylabel('cumulative explained variance');"
      ],
      "execution_count": 0,
      "outputs": []
    },
    {
      "cell_type": "code",
      "metadata": {
        "id": "nmgR3STUnSlb",
        "colab_type": "code",
        "colab": {}
      },
      "source": [
        "#PCA version additional testing ~62% accuracy\n",
        "X = finalDf2.loc[:, finalDf2.columns != 'liquor_category_WHISKY']\n",
        "y = finalDf2.loc[:, finalDf2.columns == 'liquor_category_WHISKY']\n",
        "\n",
        "#non PCA version additional testing ~83 accuracy\n",
        "#X = data_final2.loc[:, data_final2.columns != 'liquor_category_WHISKY']\n",
        "#y = data_final2.loc[:, data_final2.columns == 'liquor_category_WHISKY']\n",
        "\n",
        "#X_train2, X_test2, y_train2, y_test2 = train_test_split(X, y, test_size=1, random_state=0)"
      ],
      "execution_count": 0,
      "outputs": []
    },
    {
      "cell_type": "code",
      "metadata": {
        "id": "0uw_hPKPnSlg",
        "colab_type": "code",
        "colab": {}
      },
      "source": [
        "# Returns a NumPy Array\n",
        "predictions = logisticRegr.predict(X)"
      ],
      "execution_count": 0,
      "outputs": []
    },
    {
      "cell_type": "code",
      "metadata": {
        "id": "btEq80KonSln",
        "colab_type": "code",
        "colab": {}
      },
      "source": [
        "predictions"
      ],
      "execution_count": 0,
      "outputs": []
    },
    {
      "cell_type": "code",
      "metadata": {
        "id": "2bfjHI5fnSlt",
        "colab_type": "code",
        "colab": {}
      },
      "source": [
        "y"
      ],
      "execution_count": 0,
      "outputs": []
    },
    {
      "cell_type": "code",
      "metadata": {
        "id": "An5F4TvvnSlz",
        "colab_type": "code",
        "colab": {}
      },
      "source": [
        "# Use score method to get accuracy of model\n",
        "score = logisticRegr.score(X, y)\n",
        "print(score)"
      ],
      "execution_count": 0,
      "outputs": []
    },
    {
      "cell_type": "code",
      "metadata": {
        "id": "jBEbzB-DnSl2",
        "colab_type": "code",
        "colab": {}
      },
      "source": [
        "import matplotlib.pyplot as plt\n",
        "import seaborn as sns\n",
        "from sklearn import metrics\n",
        "cm = metrics.confusion_matrix(y, predictions)\n",
        "print(\"Confusion Matrix: \", '\\n', cm)"
      ],
      "execution_count": 0,
      "outputs": []
    },
    {
      "cell_type": "code",
      "metadata": {
        "id": "Z9RjBzSVnSl6",
        "colab_type": "code",
        "colab": {}
      },
      "source": [
        "from sklearn.metrics import precision_recall_curve\n",
        "from sklearn.metrics import f1_score\n",
        "from sklearn.metrics import auc\n",
        "# predict probabilities\n",
        "lr_probs = logisticRegr .predict_proba(X)\n",
        "# keep probabilities for the positive outcome only\n",
        "lr_probs = lr_probs[:, 1]\n",
        "# predict class values\n",
        "yhat = logisticRegr .predict(X)\n",
        "lr_precision, lr_recall, _ = precision_recall_curve(y, lr_probs)\n",
        "lr_f1, lr_auc = f1_score(y, yhat), auc(lr_recall, lr_precision)\n",
        "# summarize scores\n",
        "print('Logistic: f1=%.3f auc=%.3f' % (lr_f1, lr_auc))\n",
        "# plot the precision-recall curves\n",
        "ywhiskcnt = y_test.apply(pd.value_counts)\n",
        "ycnt = ywhiskcnt.loc[1:1, :]\n",
        "no_skill = ycnt.values[0] / len(y_test)\n",
        "pyplot.plot([0, 1], [no_skill, no_skill], linestyle='--', label='No Skill')\n",
        "pyplot.plot(lr_recall, lr_precision, marker='.', label='Logistic')\n",
        "# axis labels\n",
        "pyplot.xlabel('Recall')\n",
        "pyplot.ylabel('Precision')\n",
        "# show the legend\n",
        "pyplot.legend()\n",
        "# show the plot\n",
        "pyplot.show()"
      ],
      "execution_count": 0,
      "outputs": []
    },
    {
      "cell_type": "markdown",
      "metadata": {
        "id": "r8ftTREnmRdF",
        "colab_type": "text"
      },
      "source": [
        "### SGD"
      ]
    },
    {
      "cell_type": "code",
      "metadata": {
        "id": "TTjNUIJgmQFB",
        "colab_type": "code",
        "colab": {}
      },
      "source": [
        "%%time\n",
        "# now divide the data into test and train using scikit learn built-ins\n",
        "from sklearn.model_selection import StratifiedShuffleSplit \n",
        "cv = StratifiedShuffleSplit( n_splits=1,test_size=0.8)\n",
        "# use some compact notation for creating a linear SVM classifier with stochastic descent\n",
        "from sklearn.linear_model import SGDClassifier\n",
        "regularize_const = 0.1\n",
        "iterations = 5\n",
        "\n",
        "# use some compact notation for creating a logistic regression classifier with stochastic descent\n",
        "log_sgd = SGDClassifier(alpha=regularize_const,\n",
        "        fit_intercept=True, l1_ratio=0.0, learning_rate='optimal',\n",
        "        loss='log', n_iter_no_change=iterations, n_jobs=-1, penalty='l2')\n",
        "from sklearn.preprocessing import StandardScaler\n",
        "scl = StandardScaler()"
      ],
      "execution_count": 0,
      "outputs": []
    },
    {
      "cell_type": "code",
      "metadata": {
        "id": "6fPK3iJCmQxT",
        "colab_type": "code",
        "colab": {}
      },
      "source": [
        "from sklearn import metrics as mt\n",
        "for train_idx, test_idx in cv.split(X,y):\n",
        "    log_sgd.fit(scl.fit_transform(X.iloc[train_idx]),y.iloc[train_idx])\n",
        "    yhat = log_sgd.predict(scl.transform(X.iloc[test_idx]))\n",
        "    \n",
        "    conf = mt.confusion_matrix(y.iloc[test_idx],yhat)\n",
        "    acc = mt.accuracy_score(y.iloc[test_idx],yhat)\n",
        "\n",
        "print('SGD Accuracy:', acc)\n",
        "print('confusion matrix:', conf)"
      ],
      "execution_count": 0,
      "outputs": []
    },
    {
      "cell_type": "markdown",
      "metadata": {
        "id": "GDyKKT0mnSmE",
        "colab_type": "text"
      },
      "source": [
        "### Advantages  [10 points] \n",
        "Discuss the advantages of each model for each classification task. Does one\n",
        "type of model offer superior performance over another in terms of prediction accuracy? In\n",
        "terms of training time or efficiency? Explain in detail.  \n",
        " \n"
      ]
    },
    {
      "cell_type": "markdown",
      "metadata": {
        "id": "VX-oO4qOnSmF",
        "colab_type": "text"
      },
      "source": [
        "###  Interpret  [30 points] \n",
        "Use the weights from logistic regression to interpret the importance of different\n",
        "features for the classification task. Explain your interpretation in detail. Why do you think\n",
        "some variables are more important? "
      ]
    },
    {
      "cell_type": "code",
      "metadata": {
        "id": "Ye0EUAwn19qH",
        "colab_type": "code",
        "outputId": "db97e541-231c-4e5d-9c2f-4b74332eadab",
        "colab": {
          "base_uri": "https://localhost:8080/",
          "height": 153
        }
      },
      "source": [
        "# interpret the weights\n",
        "\n",
        "# iterate over the coefficients\n",
        "weights2 = logisticRegr.coef_.T # take transpose to make a column vector\n",
        "variable_names = X.columns\n",
        "for coef, name in zip(weights2,variable_names):\n",
        "    print(name, 'has weight of', coef[0])\n",
        "    \n",
        "# does this look correct? "
      ],
      "execution_count": 0,
      "outputs": [
        {
          "output_type": "stream",
          "text": [
            "sale_dollars_trans has weight of 0.6102283994348012\n",
            "cost_per_liter has weight of -0.0063463490712650835\n",
            "cost_per_liter_trans has weight of 0.49493828745697416\n",
            "state_bottle_cost_trans has weight of 1.3850552055299956\n",
            "bottles_sold_trans has weight of -0.7209331974491907\n",
            "volume_sold_liters_trans has weight of 0.11529011227797659\n",
            "pack has weight of 0.0009938967955783222\n",
            "bottle_volume_ml has weight of -0.0016539659505486598\n"
          ],
          "name": "stdout"
        }
      ]
    },
    {
      "cell_type": "code",
      "metadata": {
        "id": "E68noc0c2Db9",
        "colab_type": "code",
        "outputId": "a4b9bb8a-3fd7-4261-c287-d079caadd4bc",
        "colab": {
          "base_uri": "https://localhost:8080/",
          "height": 258
        }
      },
      "source": [
        "from sklearn.preprocessing import StandardScaler\n",
        "from sklearn import metrics as mt\n",
        "\n",
        "\n",
        "# we want to normalize the features based upon the mean and standard deviation of each column. \n",
        "# However, we do not want to accidentally use the testing data to find out the mean and std (this would be snooping)\n",
        "# to Make things easier, let's start by just using whatever was last stored in the variables:\n",
        "##    X_train , y_train , X_test, y_test (they were set in a for loop above)\n",
        "\n",
        "# scale attributes by the training set\n",
        "scl_obj = StandardScaler()\n",
        "scl_obj.fit(X_train)\n",
        "\n",
        "X_train_scaled = scl_obj.transform(X_train) # apply to training\n",
        "X_test_scaled = scl_obj.transform(X_test) # apply those means and std to the test set (without snooping at the test set values)\n",
        "\n",
        "# train the model just as before\n",
        "#lr_clf = LogisticRegression(penalty='l2', C=0.05, solver='liblinear') # get object, the 'C' value is less (can you guess why??)\n",
        "logisticRegr.fit(X_train_scaled,y_train)  # train object\n",
        "\n",
        "y_hat = logisticRegr.predict(X_test_scaled) # get test set precitions\n",
        "\n",
        "acc = mt.accuracy_score(y_test,y_hat)\n",
        "conf = mt.confusion_matrix(y_test,y_hat)\n",
        "print('accuracy:', acc )\n",
        "print(conf )\n",
        "\n",
        "# sort these attributes and spit them out\n",
        "zip_vars = zip(logisticRegr.coef_.T,data_final.columns) # combine attributes\n",
        "zip_vars = sorted(zip_vars)\n",
        "for coef, name in zip_vars:\n",
        "    print(name, 'has weight of', coef[0]) # now print them out"
      ],
      "execution_count": 0,
      "outputs": [
        {
          "output_type": "stream",
          "text": [
            "/usr/local/lib/python3.6/dist-packages/sklearn/utils/validation.py:760: DataConversionWarning: A column-vector y was passed when a 1d array was expected. Please change the shape of y to (n_samples, ), for example using ravel().\n",
            "  y = column_or_1d(y, warn=True)\n"
          ],
          "name": "stderr"
        },
        {
          "output_type": "stream",
          "text": [
            "accuracy: 0.84405\n",
            "[[15049   477]\n",
            " [ 2642  1832]]\n",
            "bottle_volume_ml has weight of -0.3851410375320728\n",
            "bottles_sold_trans has weight of -0.3595778291598138\n",
            "cost_per_liter has weight of -0.2762976368132016\n",
            "volume_sold_liters_trans has weight of -0.0090742223238923\n",
            "pack has weight of 0.06350055374147034\n",
            "sale_dollars_trans has weight of 0.3978324086239807\n",
            "cost_per_liter_trans has weight of 0.5451637268256091\n",
            "state_bottle_cost_trans has weight of 1.0940915468279986\n"
          ],
          "name": "stdout"
        }
      ]
    },
    {
      "cell_type": "code",
      "metadata": {
        "id": "NFTKvdcf2DyB",
        "colab_type": "code",
        "outputId": "a4c1bc94-b802-4a61-d93e-8ce14fc34dc8",
        "colab": {
          "base_uri": "https://localhost:8080/",
          "height": 394
        }
      },
      "source": [
        "# now let's make a pandas Series with the names and values, and plot them\n",
        "from matplotlib import pyplot as plt\n",
        "%matplotlib inline\n",
        "plt.style.use('ggplot')\n",
        "\n",
        "\n",
        "weights = pd.Series(logisticRegr.coef_[0],index=X.columns)\n",
        "weights.plot(kind='bar')\n",
        "plt.show()"
      ],
      "execution_count": 0,
      "outputs": [
        {
          "output_type": "display_data",
          "data": {
            "image/png": "[encoded data removed]",
            "text/plain": [
              "<Figure size 432x288 with 1 Axes>"
            ]
          },
          "metadata": {
            "tags": []
          }
        }
      ]
    },
    {
      "cell_type": "markdown",
      "metadata": {
        "id": "yVHNEFrTnSmG",
        "colab_type": "text"
      },
      "source": [
        "### Insight into the data [10 points]\n",
        "Look at the chosen support vectors for the classification task. Do these provide\n",
        "any insight into the data? Explain. If you used stochastic gradient descent (and therefore did\n",
        "not explicitly solve for support vectors), try subsampling your data to train the SVC model—\n",
        "then analyze the support vectors from the subsampled dataset. "
      ]
    },
    {
      "cell_type": "code",
      "metadata": {
        "id": "OXMl4cgmnSmH",
        "colab_type": "code",
        "outputId": "bc4146c2-dd1d-4d79-f88c-389c870bd348",
        "colab": {
          "base_uri": "https://localhost:8080/",
          "height": 238
        }
      },
      "source": [
        "#view support vectors\n",
        "model.support_vectors_"
      ],
      "execution_count": 0,
      "outputs": [
        {
          "output_type": "execute_result",
          "data": {
            "text/plain": [
              "array([[ 0.04172852,  0.3721708 ,  1.1229617 , ..., -0.66089127,\n",
              "        -0.70389697, -0.26280584],\n",
              "       [ 0.68132163,  0.0737954 ,  0.68644563, ...,  0.13752377,\n",
              "        -0.02330599, -0.26280584],\n",
              "       [ 0.89149549,  0.04219618,  0.62906725, ...,  0.34659634,\n",
              "        -0.70389697,  0.27676159],\n",
              "       ...,\n",
              "       [ 1.02543744,  0.39064988,  1.14532376, ...,  0.13752377,\n",
              "        -0.70389697, -0.26280584],\n",
              "       [ 0.19106698, -0.39877606, -0.7808375 , ...,  0.64126757,\n",
              "        -0.02330599, -0.26280584],\n",
              "       [ 0.68979404,  0.08020147,  0.69774358, ...,  0.13752377,\n",
              "        -0.70389697, -0.26280584]])"
            ]
          },
          "metadata": {
            "tags": []
          },
          "execution_count": 74
        }
      ]
    },
    {
      "cell_type": "code",
      "metadata": {
        "id": "L2A_wTYZ1p7X",
        "colab_type": "code",
        "outputId": "5ae7f79e-61f6-41b0-f825-29892592380e",
        "colab": {
          "base_uri": "https://localhost:8080/",
          "height": 34
        }
      },
      "source": [
        "# View indicies of support vectors\n",
        "model.support_"
      ],
      "execution_count": 0,
      "outputs": [
        {
          "output_type": "execute_result",
          "data": {
            "text/plain": [
              "array([    0,     9,    11, ..., 79980, 79984, 79987], dtype=int32)"
            ]
          },
          "metadata": {
            "tags": []
          },
          "execution_count": 75
        }
      ]
    },
    {
      "cell_type": "markdown",
      "metadata": {
        "id": "qxAYjH4AWOmK",
        "colab_type": "text"
      },
      "source": [
        "This chooses all the misclassified items as a support vectors."
      ]
    },
    {
      "cell_type": "code",
      "metadata": {
        "id": "mHkRqABz1zz2",
        "colab_type": "code",
        "outputId": "cb2cae21-8a92-4d24-ca05-3d8fd61f835c",
        "colab": {
          "base_uri": "https://localhost:8080/",
          "height": 34
        }
      },
      "source": [
        "#view number of support vectors for each class\n",
        "model.n_support_"
      ],
      "execution_count": 0,
      "outputs": [
        {
          "output_type": "execute_result",
          "data": {
            "text/plain": [
              "array([14457, 14435], dtype=int32)"
            ]
          },
          "metadata": {
            "tags": []
          },
          "execution_count": 76
        }
      ]
    },
    {
      "cell_type": "markdown",
      "metadata": {
        "id": "d4XKEUr0WVPU",
        "colab_type": "text"
      },
      "source": [
        "We used 14,000 instances of Whiskey and Nonwhiskey to build our decision boundary."
      ]
    },
    {
      "cell_type": "code",
      "metadata": {
        "id": "aPO1D6PsWd0P",
        "colab_type": "code",
        "outputId": "b90b5917-1dc1-44b7-e458-93254fa3b913",
        "colab": {
          "base_uri": "https://localhost:8080/",
          "height": 445
        }
      },
      "source": [
        "# if using linear kernel, these make sense to look at (not otherwise, why?)\n",
        "print(model.coef_)\n",
        "weights3 = pd.Series(model.coef_[0],index=X_train.columns)\n",
        "weights3.plot(kind='bar')"
      ],
      "execution_count": 0,
      "outputs": [
        {
          "output_type": "stream",
          "text": [
            "[[-0.61779238  0.01725721 -0.26736576  1.74130624  0.93580436 -0.34449688\n",
            "   0.05279718 -0.32864875]]\n"
          ],
          "name": "stdout"
        },
        {
          "output_type": "execute_result",
          "data": {
            "text/plain": [
              "<matplotlib.axes._subplots.AxesSubplot at 0x7f55ad5f5438>"
            ]
          },
          "metadata": {
            "tags": []
          },
          "execution_count": 131
        },
        {
          "output_type": "display_data",
          "data": {
            "image/png": "[encoded data removed]",
            "text/plain": [
              "<Figure size 432x288 with 1 Axes>"
            ]
          },
          "metadata": {
            "tags": []
          }
        }
      ]
    },
    {
      "cell_type": "code",
      "metadata": {
        "id": "2KqXRd7J16Z_",
        "colab_type": "code",
        "outputId": "cb680367-a33f-4f55-b8a7-01196985599e",
        "colab": {
          "base_uri": "https://localhost:8080/",
          "height": 248
        }
      },
      "source": [
        "# Plot data points and color using their class\n",
        "color = ['black' if c == 0 else 'lightgrey' for c in y]\n",
        "plt.scatter(X_std[:,0], X_std[:,1], c=color)\n",
        "\n",
        "# Create the hyperplane\n",
        "w = svclassifier.coef_[0]\n",
        "a = -w[0] / w[1]\n",
        "xx = np.linspace(-2.5, 2.5)\n",
        "yy = a * xx - (svclassifier.intercept_[0]) / w[1]\n",
        "\n",
        "# Plot the hyperplane\n",
        "plt.plot(xx, yy)\n",
        "plt.axis(\"off\"), plt.show();"
      ],
      "execution_count": 0,
      "outputs": [
        {
          "output_type": "display_data",
          "data": {
            "image/png": "[encoded data removed]",
            "text/plain": [
              "<Figure size 432x288 with 1 Axes>"
            ]
          },
          "metadata": {
            "tags": []
          }
        }
      ]
    }
  ]
}