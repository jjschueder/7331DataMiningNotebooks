{
  "nbformat": 4,
  "nbformat_minor": 0,
  "metadata": {
    "colab": {
      "name": "Mini-Project SVMLR Classification-Copy1.ipynb",
      "provenance": [],
      "include_colab_link": true
    },
    "kernelspec": {
      "display_name": "Python 3",
      "language": "python",
      "name": "python3"
    },
    "language_info": {
      "codemirror_mode": {
        "name": "ipython",
        "version": 3
      },
      "file_extension": ".py",
      "mimetype": "text/x-python",
      "name": "python",
      "nbconvert_exporter": "python",
      "pygments_lexer": "ipython3",
      "version": "3.7.6"
    }
  },
  "cells": [
    {
      "cell_type": "markdown",
      "metadata": {
        "id": "view-in-github",
        "colab_type": "text"
      },
      "source": [
        "<a href=\"https://colab.research.google.com/github/jjschueder/7331DataMiningNotebooks/blob/master/Mini-Project%20SVMLR%20Classification/(V2)Mini-Project%20SVMLR%20Classification-with%20SGD.ipynb\" target=\"_parent\"><img src=\"https://colab.research.google.com/assets/colab-badge.svg\" alt=\"Open In Colab\"/></a>"
      ]
    },
    {
      "cell_type": "markdown",
      "metadata": {
        "colab_type": "text",
        "id": "qhqdMtT3nSiG"
      },
      "source": [
        "# Mini-Project: SVM&LR Classification\n",
        "You are to perform predictive analysis (classification) upon a data set: model the dataset using\n",
        "methods we have discussed in class: logistic regression & support vector machines and making\n",
        "conclusions from the analysis. Follow the CRISP-DM framework in your analysis (you are not\n",
        "performing all of the CRISP-DM outline, only the portions relevant to the grading rubric outlined\n",
        "below). This report is worth 10% of the final grade. You may complete this assignment in teams\n",
        "of as many as three people.\n",
        "Write a report covering all the steps of the project. The format of the document can be PDF,\n",
        "*.ipynb, or HTML. You can write the report in whatever format you like, but it is easiest to turn in\n",
        "the rendered Jupyter notebook. The results should be reproducible using your report. Please\n",
        "carefully describe every assumption and every step in your report.\n",
        "A note on grading: A common mistake I see in this lab is not investigating different input\n",
        "parameters for each model. Try a number of parameter combinations and discuss how the model changed. "
      ]
    },
    {
      "cell_type": "markdown",
      "metadata": {
        "colab_type": "text",
        "id": "jmTlKM_UnSiP"
      },
      "source": [
        "## SVM and Logistic Regression Modeling\n"
      ]
    },
    {
      "cell_type": "markdown",
      "metadata": {
        "colab_type": "text",
        "id": "qN07sRSnnSiU"
      },
      "source": [
        "### Create Models [50 points] \n",
        "Create a logistic regression model and a support vector machine model for the\n",
        "classification task involved with your dataset. Assess how well each model performs (use\n",
        "80/20 training/testing split for your data). Adjust parameters of the models to make them\n",
        "more accurate. If your dataset size requires the use of stochastic gradient descent, then\n",
        "linear kernel only is fine to use. That is, the SGDClassifier is fine to use for optimizing\n",
        "logistic regression and linear support vector machines. For many problems, SGD will be\n",
        "required in order to train the SVM model in a reasonable timeframe.   "
      ]
    },
    {
      "cell_type": "markdown",
      "metadata": {
        "colab_type": "text",
        "id": "6I6a7elv4W0h"
      },
      "source": [
        "### Load and Clean Data Set"
      ]
    },
    {
      "cell_type": "code",
      "metadata": {
        "colab_type": "code",
        "id": "lPXTcIccnSiW",
        "colab": {}
      },
      "source": [
        "import pandas as pd\n",
        "import numpy as np\n",
        "from sklearn import preprocessing\n",
        "import matplotlib.pyplot as plt \n",
        "plt.rc(\"font\", size=14)\n",
        "from matplotlib import pyplot\n",
        "from sklearn.model_selection import train_test_split\n",
        "from sklearn import linear_model\n",
        "import seaborn as sns\n",
        "sns.set(style=\"white\")\n",
        "sns.set(style=\"whitegrid\", color_codes=True)\n",
        "from sklearn.linear_model import LogisticRegression\n",
        "from sklearn import metrics as mt\n",
        "from sklearn.model_selection import ShuffleSplit\n",
        "from sklearn import metrics \n",
        "from sklearn.model_selection import cross_validate\n",
        "from sklearn.model_selection import GridSearchCV\n",
        "from sklearn.metrics import roc_curve\n",
        "from sklearn.metrics import roc_auc_score\n",
        "from sklearn.preprocessing import StandardScaler\n",
        "from sklearn.metrics import precision_recall_curve\n",
        "from sklearn.metrics import f1_score\n",
        "from sklearn.metrics import auc\n",
        "from sklearn.metrics import classification_report, confusion_matrix\n",
        "from sklearn import preprocessing\n",
        "from sklearn.svm import SVC\n",
        "from sklearn.model_selection import StratifiedShuffleSplit \n",
        "from sklearn.linear_model import SGDClassifier"
      ],
      "execution_count": 0,
      "outputs": []
    },
    {
      "cell_type": "code",
      "metadata": {
        "colab_type": "code",
        "id": "Mo0kRfD4nSik",
        "colab": {}
      },
      "source": [
        "#read data from github repository\n",
        "#this data was produced from the Iowa Alcohol Dataset 2019 year data\n",
        "#It was cleansed and transformed in this notebook and exported as a csv to github for use here.\n",
        "#source python notebook: https://github.com/jjschueder/7331DataMiningNotebooks/blob/master/lab1/msds7331_clark_schueder_vela_washburn.ipynb\n",
        "# read csv from github directly\n",
        "url_dataset = 'https://raw.githubusercontent.com/jjschueder/7331DataMiningNotebooks/master/Live%20Assignments/df1hotmerge2.csv'\n",
        "#data = pd.read_csv(url_dataset)\n",
        "data = pd.read_csv(url_dataset, nrows=100000)"
      ],
      "execution_count": 0,
      "outputs": []
    },
    {
      "cell_type": "code",
      "metadata": {
        "colab_type": "code",
        "id": "DQKPLfW1nSiv",
        "outputId": "223ff9ed-15f2-4b64-bb27-bebbfa0c60a7",
        "scrolled": true,
        "colab": {
          "base_uri": "https://localhost:8080/",
          "height": 71
        }
      },
      "source": [
        "print(data.shape)\n",
        "print(list(data.columns))"
      ],
      "execution_count": 10,
      "outputs": [
        {
          "output_type": "stream",
          "text": [
            "(100000, 68)\n",
            "['Unnamed: 0', 'pack', 'bottle_volume_ml', 'state_bottle_cost', 'state_bottle_retail', 'bottles_sold', 'sale_dollars', 'volume_sold_liters', 'volume_sold_gallons', 'counter', 'liquor_category', 'store_parent', 'month', 'year', 'monthyear', 'liquor_category_AMARETTO', 'liquor_category_BRANDY', 'liquor_category_GIN', 'liquor_category_LIQUEUR', 'liquor_category_Other', 'liquor_category_RUM', 'liquor_category_SCHNAPPS', 'liquor_category_TEQUILA', 'liquor_category_VODKA', 'liquor_category_WHISKY', 'store_parent_CVS', 'store_parent_Caseys', 'store_parent_Hy-Vee', 'store_parent_Kum&Go', 'store_parent_Other', 'store_parent_QuikTrip', 'store_parent_SamsClub', 'store_parent_SmokingJoes', 'store_parent_Target', 'store_parent_Wal-Mart', 'store_parent_Walgreens', 'month_Apr', 'month_Aug', 'month_Dec', 'month_Feb', 'month_Jan', 'month_Jul', 'month_Jun', 'month_Mar', 'month_May', 'month_Nov', 'month_Oct', 'month_Sep', 'year_2019', 'monthyear_Apr-2019', 'monthyear_Aug-2019', 'monthyear_Dec-2019', 'monthyear_Feb-2019', 'monthyear_Jan-2019', 'monthyear_Jul-2019', 'monthyear_Jun-2019', 'monthyear_Mar-2019', 'monthyear_May-2019', 'monthyear_Nov-2019', 'monthyear_Oct-2019', 'monthyear_Sep-2019', 'sale_dollars_trans', 'cost_per_liter', 'cost_per_liter_trans', 'state_bottle_cost_trans', 'bottles_sold_trans', 'volume_sold_liters_trans', 'grossmargin']\n"
          ],
          "name": "stdout"
        }
      ]
    },
    {
      "cell_type": "code",
      "metadata": {
        "colab_type": "code",
        "id": "tzx9_JhrnSi7",
        "outputId": "0fbdea85-350c-494c-d084-cd5e4d5b44a2",
        "colab": {
          "base_uri": "https://localhost:8080/",
          "height": 51
        }
      },
      "source": [
        "#data = data.drop(columns = ['Unnamed: 0'])\n",
        "count_not_whiskey = len(data[data['liquor_category_WHISKY']==0])\n",
        "count_whiskey = len(data[data['liquor_category_WHISKY']==1])\n",
        "pct_of_no_whiskey = count_not_whiskey/(count_not_whiskey+count_whiskey)\n",
        "print(\"percentage of not whiskey is\", pct_of_no_whiskey*100)\n",
        "pct_of_whiskey = count_whiskey/(count_not_whiskey+count_whiskey)\n",
        "print(\"percentage of whiskey\", pct_of_whiskey*100)"
      ],
      "execution_count": 11,
      "outputs": [
        {
          "output_type": "stream",
          "text": [
            "percentage of not whiskey is 77.35499999999999\n",
            "percentage of whiskey 22.645\n"
          ],
          "name": "stdout"
        }
      ]
    },
    {
      "cell_type": "code",
      "metadata": {
        "colab_type": "code",
        "id": "jSmKpN1snSjB",
        "outputId": "80c25ce9-5131-4750-8e88-17742edef0e6",
        "colab": {
          "base_uri": "https://localhost:8080/",
          "height": 85
        }
      },
      "source": [
        "cat_vars=['counter', 'liquor_category', 'store_parent',\n",
        " 'month', 'year', 'monthyear', 'liquor_category_AMARETTO', 'liquor_category_BRANDY', 'liquor_category_GIN', \n",
        " 'liquor_category_LIQUEUR', 'liquor_category_Other', 'liquor_category_RUM', 'liquor_category_SCHNAPPS', \n",
        " 'liquor_category_TEQUILA', 'liquor_category_VODKA', 'month_Apr', 'month_Aug', 'month_Dec', 'month_Feb',\n",
        " 'month_Jan', 'month_Jul', 'month_Jun', 'month_Mar', 'month_May', 'month_Nov', 'month_Oct', 'month_Sep', \n",
        " 'store_parent_CVS', 'store_parent_Caseys', 'store_parent_Hy-Vee', 'store_parent_Kum&Go', \n",
        " 'store_parent_Other', 'store_parent_QuikTrip', 'store_parent_SamsClub', 'store_parent_SmokingJoes', \n",
        " 'store_parent_Target', 'store_parent_Wal-Mart', 'store_parent_Walgreens']\n",
        "data_vars=data.columns.values.tolist()\n",
        "to_keep=[i for i in data_vars if i not in cat_vars]\n",
        "to_keep=['sale_dollars_trans', 'cost_per_liter_trans',\n",
        "      'state_bottle_cost_trans', 'bottles_sold_trans',\n",
        "       'volume_sold_liters_trans','pack', 'bottle_volume_ml',\n",
        "       'liquor_category_WHISKY']\n",
        "data_final=data[to_keep]\n",
        "data_final.columns.values"
      ],
      "execution_count": 12,
      "outputs": [
        {
          "output_type": "execute_result",
          "data": {
            "text/plain": [
              "array(['sale_dollars_trans', 'cost_per_liter_trans',\n",
              "       'state_bottle_cost_trans', 'bottles_sold_trans',\n",
              "       'volume_sold_liters_trans', 'pack', 'bottle_volume_ml',\n",
              "       'liquor_category_WHISKY'], dtype=object)"
            ]
          },
          "metadata": {
            "tags": []
          },
          "execution_count": 12
        }
      ]
    },
    {
      "cell_type": "code",
      "metadata": {
        "id": "PQkL5USKrazL",
        "colab_type": "code",
        "colab": {}
      },
      "source": [
        "X = data_final.loc[:, data_final.columns != 'liquor_category_WHISKY']\n",
        "y = data_final.loc[:, data_final.columns == 'liquor_category_WHISKY']"
      ],
      "execution_count": 0,
      "outputs": []
    },
    {
      "cell_type": "code",
      "metadata": {
        "id": "G65Y_NFdrazQ",
        "colab_type": "code",
        "colab": {
          "base_uri": "https://localhost:8080/",
          "height": 224
        },
        "outputId": "31a15804-1c71-4802-b3be-49625a8b20ef"
      },
      "source": [
        "X.head()"
      ],
      "execution_count": 14,
      "outputs": [
        {
          "output_type": "execute_result",
          "data": {
            "text/html": [
              "<div>\n",
              "<style scoped>\n",
              "    .dataframe tbody tr th:only-of-type {\n",
              "        vertical-align: middle;\n",
              "    }\n",
              "\n",
              "    .dataframe tbody tr th {\n",
              "        vertical-align: top;\n",
              "    }\n",
              "\n",
              "    .dataframe thead th {\n",
              "        text-align: right;\n",
              "    }\n",
              "</style>\n",
              "<table border=\"1\" class=\"dataframe\">\n",
              "  <thead>\n",
              "    <tr style=\"text-align: right;\">\n",
              "      <th></th>\n",
              "      <th>sale_dollars_trans</th>\n",
              "      <th>cost_per_liter_trans</th>\n",
              "      <th>state_bottle_cost_trans</th>\n",
              "      <th>bottles_sold_trans</th>\n",
              "      <th>volume_sold_liters_trans</th>\n",
              "      <th>pack</th>\n",
              "      <th>bottle_volume_ml</th>\n",
              "    </tr>\n",
              "  </thead>\n",
              "  <tbody>\n",
              "    <tr>\n",
              "      <th>0</th>\n",
              "      <td>4.750136</td>\n",
              "      <td>2.735233</td>\n",
              "      <td>1.348073</td>\n",
              "      <td>2.995732</td>\n",
              "      <td>2.014903</td>\n",
              "      <td>20</td>\n",
              "      <td>375</td>\n",
              "    </tr>\n",
              "    <tr>\n",
              "      <th>1</th>\n",
              "      <td>2.574900</td>\n",
              "      <td>5.570632</td>\n",
              "      <td>2.169054</td>\n",
              "      <td>0.000000</td>\n",
              "      <td>-2.995732</td>\n",
              "      <td>8</td>\n",
              "      <td>50</td>\n",
              "    </tr>\n",
              "    <tr>\n",
              "      <th>2</th>\n",
              "      <td>5.000585</td>\n",
              "      <td>3.208825</td>\n",
              "      <td>2.803360</td>\n",
              "      <td>1.791759</td>\n",
              "      <td>1.791759</td>\n",
              "      <td>12</td>\n",
              "      <td>1000</td>\n",
              "    </tr>\n",
              "    <tr>\n",
              "      <th>3</th>\n",
              "      <td>6.636261</td>\n",
              "      <td>3.745890</td>\n",
              "      <td>3.052585</td>\n",
              "      <td>3.178054</td>\n",
              "      <td>2.890372</td>\n",
              "      <td>6</td>\n",
              "      <td>750</td>\n",
              "    </tr>\n",
              "    <tr>\n",
              "      <th>4</th>\n",
              "      <td>5.121819</td>\n",
              "      <td>2.077296</td>\n",
              "      <td>2.231089</td>\n",
              "      <td>2.484907</td>\n",
              "      <td>3.044522</td>\n",
              "      <td>6</td>\n",
              "      <td>1750</td>\n",
              "    </tr>\n",
              "  </tbody>\n",
              "</table>\n",
              "</div>"
            ],
            "text/plain": [
              "   sale_dollars_trans  cost_per_liter_trans  ...  pack  bottle_volume_ml\n",
              "0            4.750136              2.735233  ...    20               375\n",
              "1            2.574900              5.570632  ...     8                50\n",
              "2            5.000585              3.208825  ...    12              1000\n",
              "3            6.636261              3.745890  ...     6               750\n",
              "4            5.121819              2.077296  ...     6              1750\n",
              "\n",
              "[5 rows x 7 columns]"
            ]
          },
          "metadata": {
            "tags": []
          },
          "execution_count": 14
        }
      ]
    },
    {
      "cell_type": "markdown",
      "metadata": {
        "colab_type": "text",
        "id": "zIfgUT054dBe"
      },
      "source": [
        "## Logistic Regression"
      ]
    },
    {
      "cell_type": "code",
      "metadata": {
        "id": "efU9cWoAsmSj",
        "colab_type": "code",
        "colab": {
          "base_uri": "https://localhost:8080/",
          "height": 360
        },
        "outputId": "1fcf5077-c745-47bd-f90e-52da053bcd57"
      },
      "source": [
        "X_train, X_test, y_train, y_test = train_test_split(X, y, test_size=0.2, random_state=0)\n",
        "columns = X_train.columns\n",
        "\n",
        "\n",
        "from sklearn.linear_model import LogisticRegression\n",
        "# all parameters not specified are set to their defaults\n",
        "simplelogisticRegr = LogisticRegression()# class_weight = 'balanced')\n",
        "\n",
        "simplelogisticRegr.fit(X_train, y_train)\n",
        "\n",
        "coef = simplelogisticRegr.coef_[0]\n",
        "classes = simplelogisticRegr.classes_[0]\n",
        "intercept = simplelogisticRegr.intercept_[0]\n",
        "print (coef)\n",
        "\n",
        "print (intercept)\n",
        "\n",
        "predictions = simplelogisticRegr.predict(X_test)\n",
        "\n",
        "params =simplelogisticRegr.get_params(deep=True)\n",
        "print (params)\n",
        "\n",
        "# Use score method to get accuracy of model\n",
        "score = simplelogisticRegr.score(X_test, y_test)\n",
        "print(\"Accuracy: \", '\\n', score)\n",
        "\n",
        "import matplotlib.pyplot as plt\n",
        "import seaborn as sns\n",
        "from sklearn import metrics\n",
        "cm = metrics.confusion_matrix(y_test, predictions)\n",
        "print(\"Confusion Matrix: \", '\\n', cm)"
      ],
      "execution_count": 16,
      "outputs": [
        {
          "output_type": "stream",
          "text": [
            "/usr/local/lib/python3.6/dist-packages/sklearn/utils/validation.py:760: DataConversionWarning: A column-vector y was passed when a 1d array was expected. Please change the shape of y to (n_samples, ), for example using ravel().\n",
            "  y = column_or_1d(y, warn=True)\n"
          ],
          "name": "stderr"
        },
        {
          "output_type": "stream",
          "text": [
            "[ 0.34603289 -0.55706816  2.25561124 -1.30490151  0.90310105 -0.04838378\n",
            " -0.00437401]\n",
            "-1.4442094973385553\n",
            "{'C': 1.0, 'class_weight': None, 'dual': False, 'fit_intercept': True, 'intercept_scaling': 1, 'l1_ratio': None, 'max_iter': 100, 'multi_class': 'auto', 'n_jobs': None, 'penalty': 'l2', 'random_state': None, 'solver': 'lbfgs', 'tol': 0.0001, 'verbose': 0, 'warm_start': False}\n",
            "Accuracy:  \n",
            " 0.84375\n",
            "Confusion Matrix:  \n",
            " [[14282  1244]\n",
            " [ 1881  2593]]\n"
          ],
          "name": "stdout"
        },
        {
          "output_type": "stream",
          "text": [
            "/usr/local/lib/python3.6/dist-packages/sklearn/linear_model/_logistic.py:940: ConvergenceWarning: lbfgs failed to converge (status=1):\n",
            "STOP: TOTAL NO. of ITERATIONS REACHED LIMIT.\n",
            "\n",
            "Increase the number of iterations (max_iter) or scale the data as shown in:\n",
            "    https://scikit-learn.org/stable/modules/preprocessing.html\n",
            "Please also refer to the documentation for alternative solver options:\n",
            "    https://scikit-learn.org/stable/modules/linear_model.html#logistic-regression\n",
            "  extra_warning_msg=_LOGISTIC_SOLVER_CONVERGENCE_MSG)\n"
          ],
          "name": "stderr"
        }
      ]
    },
    {
      "cell_type": "markdown",
      "metadata": {
        "id": "6dj-uDeWtElF",
        "colab_type": "text"
      },
      "source": [
        "We ran a \"simple\" logistic regression model using the default hyper parameters of C=1.0, no weighting of the classes and with a ridge regression penalty. \n",
        "\n",
        "As a result, our model achieved 84% accuracy which is a bit higher than the accuracy we would achieve if we were to guess randomly based on the distribution of whiskies vs non whiskies. From here, we can use a grid search procedure to tune our hyper parameters to improve our accuracy score. "
      ]
    },
    {
      "cell_type": "markdown",
      "metadata": {
        "colab_type": "text",
        "id": "j6-0y2G9nSjI"
      },
      "source": [
        "### Models Using Grid Search to compare best possible model"
      ]
    },
    {
      "cell_type": "code",
      "metadata": {
        "colab_type": "code",
        "id": "Rq1Jn4krnSjK",
        "colab": {}
      },
      "source": [
        "#X_train, X_test, y_train, y_test = train_test_split(X, y, test_size=0.2, random_state=0)\n",
        "#columns = X_train.columns\n",
        "# scale attributes by the training set\n",
        "scl_obj = StandardScaler()\n",
        "scl_obj.fit(X_train) # find scalings for each column that make this zero mean and unit std\n",
        "# the line of code above only looks at training data to get mean and std and we can use it \n",
        "# to transform new feature data\n",
        "\n",
        "X_train_scaled = scl_obj.transform(X_train) # apply to training\n",
        "X_test_scaled = scl_obj.transform(X_test)"
      ],
      "execution_count": 0,
      "outputs": []
    },
    {
      "cell_type": "code",
      "metadata": {
        "colab_type": "code",
        "id": "0VmHek3j7A0u",
        "outputId": "0a16a880-a565-41ac-8377-00983d6f4c4d",
        "colab": {
          "base_uri": "https://localhost:8080/",
          "height": 530
        }
      },
      "source": [
        "#Logisitic regression 10-fold cross-validation \n",
        "\n",
        "#Divide data into test and training splits\n",
        "cv = ShuffleSplit(n_splits=10, test_size=0.10, random_state=0)\n",
        "\n",
        "regEstimator = LogisticRegression()\n",
        "\n",
        "\n",
        "parameters = { 'penalty':['l2', 'l1', 'elasticnet']\n",
        "              ,'C': [0.001, 1, 10, 100]\n",
        "              ,'class_weight': ['balanced', 'none']\n",
        "              ,'random_state': [0]\n",
        "              ,'solver': ['lbfgs', 'saga', 'liblinear', 'newton-cg', 'sag']\n",
        "              ,'max_iter':[100]\n",
        "             }\n",
        "\n",
        "#Create a grid search object using the  \n",
        "\n",
        "regGridSearch = GridSearchCV(estimator=regEstimator\n",
        "                   , n_jobs=8 # jobs to run in parallel\n",
        "                   , verbose=1 # low verbosity\n",
        "                   , param_grid=parameters\n",
        "                   , cv=cv # KFolds = 10\n",
        "                   , scoring='accuracy')\n",
        "\n",
        "#Perform hyperparameter search to find the best combination of parameters for our data\n",
        "regGridSearch.fit(X_train_scaled, y_train)"
      ],
      "execution_count": 20,
      "outputs": [
        {
          "output_type": "stream",
          "text": [
            "Fitting 10 folds for each of 120 candidates, totalling 1200 fits\n"
          ],
          "name": "stdout"
        },
        {
          "output_type": "stream",
          "text": [
            "[Parallel(n_jobs=8)]: Using backend LokyBackend with 8 concurrent workers.\n",
            "[Parallel(n_jobs=8)]: Done  34 tasks      | elapsed:   16.8s\n",
            "[Parallel(n_jobs=8)]: Done 184 tasks      | elapsed:   34.8s\n",
            "[Parallel(n_jobs=8)]: Done 434 tasks      | elapsed:  4.6min\n",
            "[Parallel(n_jobs=8)]: Done 784 tasks      | elapsed: 11.8min\n",
            "[Parallel(n_jobs=8)]: Done 1200 out of 1200 | elapsed: 19.1min finished\n",
            "/usr/local/lib/python3.6/dist-packages/sklearn/utils/validation.py:760: DataConversionWarning: A column-vector y was passed when a 1d array was expected. Please change the shape of y to (n_samples, ), for example using ravel().\n",
            "  y = column_or_1d(y, warn=True)\n"
          ],
          "name": "stderr"
        },
        {
          "output_type": "execute_result",
          "data": {
            "text/plain": [
              "GridSearchCV(cv=ShuffleSplit(n_splits=10, random_state=0, test_size=0.1, train_size=None),\n",
              "             error_score=nan,\n",
              "             estimator=LogisticRegression(C=1.0, class_weight=None, dual=False,\n",
              "                                          fit_intercept=True,\n",
              "                                          intercept_scaling=1, l1_ratio=None,\n",
              "                                          max_iter=100, multi_class='auto',\n",
              "                                          n_jobs=None, penalty='l2',\n",
              "                                          random_state=None, solver='lbfgs',\n",
              "                                          tol=0.0001, verbose=0,\n",
              "                                          warm_start=False),\n",
              "             iid='deprecated', n_jobs=8,\n",
              "             param_grid={'C': [0.001, 1, 10, 100],\n",
              "                         'class_weight': ['balanced', 'none'],\n",
              "                         'max_iter': [100],\n",
              "                         'penalty': ['l2', 'l1', 'elasticnet'],\n",
              "                         'random_state': [0],\n",
              "                         'solver': ['lbfgs', 'saga', 'liblinear', 'newton-cg',\n",
              "                                    'sag']},\n",
              "             pre_dispatch='2*n_jobs', refit=True, return_train_score=False,\n",
              "             scoring='accuracy', verbose=1)"
            ]
          },
          "metadata": {
            "tags": []
          },
          "execution_count": 20
        }
      ]
    },
    {
      "cell_type": "code",
      "metadata": {
        "colab_type": "code",
        "id": "a2Gdgl8k62xQ",
        "outputId": "e932c48d-1c8c-486e-94f9-120151d5eff8",
        "colab": {
          "base_uri": "https://localhost:8080/",
          "height": 102
        }
      },
      "source": [
        "#Diplay the top model parameters\n",
        "regGridSearch.best_estimator_"
      ],
      "execution_count": 21,
      "outputs": [
        {
          "output_type": "execute_result",
          "data": {
            "text/plain": [
              "LogisticRegression(C=0.001, class_weight='none', dual=False, fit_intercept=True,\n",
              "                   intercept_scaling=1, l1_ratio=None, max_iter=100,\n",
              "                   multi_class='auto', n_jobs=None, penalty='l2',\n",
              "                   random_state=0, solver='sag', tol=0.0001, verbose=0,\n",
              "                   warm_start=False)"
            ]
          },
          "metadata": {
            "tags": []
          },
          "execution_count": 21
        }
      ]
    },
    {
      "cell_type": "markdown",
      "metadata": {
        "id": "H_52IJqizdEh",
        "colab_type": "text"
      },
      "source": [
        "After running our grid search, we found that the ideal model uses a C=0.001 which is different from our default model of C=1.0. Otherwise, the other parameters remained the same. \n",
        "\n",
        "Let's see how this does with our accuracy score. "
      ]
    },
    {
      "cell_type": "code",
      "metadata": {
        "id": "D1KcZcOKrazj",
        "colab_type": "code",
        "colab": {
          "base_uri": "https://localhost:8080/",
          "height": 34
        },
        "outputId": "98351b00-394c-4208-b9d3-736a294a29c2"
      },
      "source": [
        "type(regGridSearch)"
      ],
      "execution_count": 22,
      "outputs": [
        {
          "output_type": "execute_result",
          "data": {
            "text/plain": [
              "sklearn.model_selection._search.GridSearchCV"
            ]
          },
          "metadata": {
            "tags": []
          },
          "execution_count": 22
        }
      ]
    },
    {
      "cell_type": "code",
      "metadata": {
        "id": "E1ya8u75razm",
        "colab_type": "code",
        "colab": {}
      },
      "source": [
        "gridresults = pd.DataFrame(regGridSearch.cv_results_)"
      ],
      "execution_count": 0,
      "outputs": []
    },
    {
      "cell_type": "code",
      "metadata": {
        "id": "APOVOlDmrazq",
        "colab_type": "code",
        "colab": {}
      },
      "source": [
        "columns = ['param_solver','param_C', 'param_max_iter', 'class_weight', 'param_penalty', 'mean_test_score', 'rank_test_score']\n",
        "gridresults = pd.DataFrame(gridresults, columns=columns)"
      ],
      "execution_count": 0,
      "outputs": []
    },
    {
      "cell_type": "code",
      "metadata": {
        "id": "H1TRv-bDrazv",
        "colab_type": "code",
        "colab": {
          "base_uri": "https://localhost:8080/",
          "height": 669
        },
        "outputId": "25acfdf8-0a5b-4d82-a37c-2c65d9eda750"
      },
      "source": [
        "gridresults.sort_values(by=['rank_test_score'], ascending=True).head(20)"
      ],
      "execution_count": 25,
      "outputs": [
        {
          "output_type": "execute_result",
          "data": {
            "text/html": [
              "<div>\n",
              "<style scoped>\n",
              "    .dataframe tbody tr th:only-of-type {\n",
              "        vertical-align: middle;\n",
              "    }\n",
              "\n",
              "    .dataframe tbody tr th {\n",
              "        vertical-align: top;\n",
              "    }\n",
              "\n",
              "    .dataframe thead th {\n",
              "        text-align: right;\n",
              "    }\n",
              "</style>\n",
              "<table border=\"1\" class=\"dataframe\">\n",
              "  <thead>\n",
              "    <tr style=\"text-align: right;\">\n",
              "      <th></th>\n",
              "      <th>param_solver</th>\n",
              "      <th>param_C</th>\n",
              "      <th>param_max_iter</th>\n",
              "      <th>class_weight</th>\n",
              "      <th>param_penalty</th>\n",
              "      <th>mean_test_score</th>\n",
              "      <th>rank_test_score</th>\n",
              "    </tr>\n",
              "  </thead>\n",
              "  <tbody>\n",
              "    <tr>\n",
              "      <th>19</th>\n",
              "      <td>sag</td>\n",
              "      <td>0.001</td>\n",
              "      <td>100</td>\n",
              "      <td>NaN</td>\n",
              "      <td>l2</td>\n",
              "      <td>0.838012</td>\n",
              "      <td>1</td>\n",
              "    </tr>\n",
              "    <tr>\n",
              "      <th>18</th>\n",
              "      <td>newton-cg</td>\n",
              "      <td>0.001</td>\n",
              "      <td>100</td>\n",
              "      <td>NaN</td>\n",
              "      <td>l2</td>\n",
              "      <td>0.838000</td>\n",
              "      <td>2</td>\n",
              "    </tr>\n",
              "    <tr>\n",
              "      <th>16</th>\n",
              "      <td>saga</td>\n",
              "      <td>0.001</td>\n",
              "      <td>100</td>\n",
              "      <td>NaN</td>\n",
              "      <td>l2</td>\n",
              "      <td>0.838000</td>\n",
              "      <td>2</td>\n",
              "    </tr>\n",
              "    <tr>\n",
              "      <th>15</th>\n",
              "      <td>lbfgs</td>\n",
              "      <td>0.001</td>\n",
              "      <td>100</td>\n",
              "      <td>NaN</td>\n",
              "      <td>l2</td>\n",
              "      <td>0.838000</td>\n",
              "      <td>2</td>\n",
              "    </tr>\n",
              "    <tr>\n",
              "      <th>21</th>\n",
              "      <td>saga</td>\n",
              "      <td>0.001</td>\n",
              "      <td>100</td>\n",
              "      <td>NaN</td>\n",
              "      <td>l1</td>\n",
              "      <td>0.835500</td>\n",
              "      <td>5</td>\n",
              "    </tr>\n",
              "    <tr>\n",
              "      <th>46</th>\n",
              "      <td>saga</td>\n",
              "      <td>1</td>\n",
              "      <td>100</td>\n",
              "      <td>NaN</td>\n",
              "      <td>l2</td>\n",
              "      <td>0.831275</td>\n",
              "      <td>6</td>\n",
              "    </tr>\n",
              "    <tr>\n",
              "      <th>51</th>\n",
              "      <td>saga</td>\n",
              "      <td>1</td>\n",
              "      <td>100</td>\n",
              "      <td>NaN</td>\n",
              "      <td>l1</td>\n",
              "      <td>0.831263</td>\n",
              "      <td>7</td>\n",
              "    </tr>\n",
              "    <tr>\n",
              "      <th>49</th>\n",
              "      <td>sag</td>\n",
              "      <td>1</td>\n",
              "      <td>100</td>\n",
              "      <td>NaN</td>\n",
              "      <td>l2</td>\n",
              "      <td>0.831263</td>\n",
              "      <td>7</td>\n",
              "    </tr>\n",
              "    <tr>\n",
              "      <th>48</th>\n",
              "      <td>newton-cg</td>\n",
              "      <td>1</td>\n",
              "      <td>100</td>\n",
              "      <td>NaN</td>\n",
              "      <td>l2</td>\n",
              "      <td>0.831263</td>\n",
              "      <td>7</td>\n",
              "    </tr>\n",
              "    <tr>\n",
              "      <th>45</th>\n",
              "      <td>lbfgs</td>\n",
              "      <td>1</td>\n",
              "      <td>100</td>\n",
              "      <td>NaN</td>\n",
              "      <td>l2</td>\n",
              "      <td>0.831263</td>\n",
              "      <td>7</td>\n",
              "    </tr>\n",
              "    <tr>\n",
              "      <th>108</th>\n",
              "      <td>newton-cg</td>\n",
              "      <td>100</td>\n",
              "      <td>100</td>\n",
              "      <td>NaN</td>\n",
              "      <td>l2</td>\n",
              "      <td>0.831250</td>\n",
              "      <td>11</td>\n",
              "    </tr>\n",
              "    <tr>\n",
              "      <th>105</th>\n",
              "      <td>lbfgs</td>\n",
              "      <td>100</td>\n",
              "      <td>100</td>\n",
              "      <td>NaN</td>\n",
              "      <td>l2</td>\n",
              "      <td>0.831250</td>\n",
              "      <td>11</td>\n",
              "    </tr>\n",
              "    <tr>\n",
              "      <th>79</th>\n",
              "      <td>sag</td>\n",
              "      <td>10</td>\n",
              "      <td>100</td>\n",
              "      <td>NaN</td>\n",
              "      <td>l2</td>\n",
              "      <td>0.831237</td>\n",
              "      <td>13</td>\n",
              "    </tr>\n",
              "    <tr>\n",
              "      <th>75</th>\n",
              "      <td>lbfgs</td>\n",
              "      <td>10</td>\n",
              "      <td>100</td>\n",
              "      <td>NaN</td>\n",
              "      <td>l2</td>\n",
              "      <td>0.831225</td>\n",
              "      <td>14</td>\n",
              "    </tr>\n",
              "    <tr>\n",
              "      <th>78</th>\n",
              "      <td>newton-cg</td>\n",
              "      <td>10</td>\n",
              "      <td>100</td>\n",
              "      <td>NaN</td>\n",
              "      <td>l2</td>\n",
              "      <td>0.831225</td>\n",
              "      <td>14</td>\n",
              "    </tr>\n",
              "    <tr>\n",
              "      <th>109</th>\n",
              "      <td>sag</td>\n",
              "      <td>100</td>\n",
              "      <td>100</td>\n",
              "      <td>NaN</td>\n",
              "      <td>l2</td>\n",
              "      <td>0.831200</td>\n",
              "      <td>16</td>\n",
              "    </tr>\n",
              "    <tr>\n",
              "      <th>81</th>\n",
              "      <td>saga</td>\n",
              "      <td>10</td>\n",
              "      <td>100</td>\n",
              "      <td>NaN</td>\n",
              "      <td>l1</td>\n",
              "      <td>0.831188</td>\n",
              "      <td>17</td>\n",
              "    </tr>\n",
              "    <tr>\n",
              "      <th>106</th>\n",
              "      <td>saga</td>\n",
              "      <td>100</td>\n",
              "      <td>100</td>\n",
              "      <td>NaN</td>\n",
              "      <td>l2</td>\n",
              "      <td>0.831175</td>\n",
              "      <td>18</td>\n",
              "    </tr>\n",
              "    <tr>\n",
              "      <th>111</th>\n",
              "      <td>saga</td>\n",
              "      <td>100</td>\n",
              "      <td>100</td>\n",
              "      <td>NaN</td>\n",
              "      <td>l1</td>\n",
              "      <td>0.831175</td>\n",
              "      <td>18</td>\n",
              "    </tr>\n",
              "    <tr>\n",
              "      <th>76</th>\n",
              "      <td>saga</td>\n",
              "      <td>10</td>\n",
              "      <td>100</td>\n",
              "      <td>NaN</td>\n",
              "      <td>l2</td>\n",
              "      <td>0.831175</td>\n",
              "      <td>18</td>\n",
              "    </tr>\n",
              "  </tbody>\n",
              "</table>\n",
              "</div>"
            ],
            "text/plain": [
              "    param_solver param_C  ... mean_test_score  rank_test_score\n",
              "19           sag   0.001  ...        0.838012                1\n",
              "18     newton-cg   0.001  ...        0.838000                2\n",
              "16          saga   0.001  ...        0.838000                2\n",
              "15         lbfgs   0.001  ...        0.838000                2\n",
              "21          saga   0.001  ...        0.835500                5\n",
              "46          saga       1  ...        0.831275                6\n",
              "51          saga       1  ...        0.831263                7\n",
              "49           sag       1  ...        0.831263                7\n",
              "48     newton-cg       1  ...        0.831263                7\n",
              "45         lbfgs       1  ...        0.831263                7\n",
              "108    newton-cg     100  ...        0.831250               11\n",
              "105        lbfgs     100  ...        0.831250               11\n",
              "79           sag      10  ...        0.831237               13\n",
              "75         lbfgs      10  ...        0.831225               14\n",
              "78     newton-cg      10  ...        0.831225               14\n",
              "109          sag     100  ...        0.831200               16\n",
              "81          saga      10  ...        0.831188               17\n",
              "106         saga     100  ...        0.831175               18\n",
              "111         saga     100  ...        0.831175               18\n",
              "76          saga      10  ...        0.831175               18\n",
              "\n",
              "[20 rows x 7 columns]"
            ]
          },
          "metadata": {
            "tags": []
          },
          "execution_count": 25
        }
      ]
    },
    {
      "cell_type": "code",
      "metadata": {
        "id": "1pmxU6zkraz2",
        "colab_type": "code",
        "colab": {
          "base_uri": "https://localhost:8080/",
          "height": 85
        },
        "outputId": "688941e6-1489-44cd-ef01-3ccfe91bda68"
      },
      "source": [
        "y_hat = regGridSearch.predict(X_test_scaled) # get test set precitions\n",
        "\n",
        "# now let's get the accuracy and confusion matrix for this iterations of training/testing\n",
        "acc = mt.accuracy_score(y_test,y_hat)\n",
        "conf = mt.confusion_matrix(y_test,y_hat)\n",
        "\n",
        "print(\"accuracy\", acc )\n",
        "print(\"confusion matrix\\n\",conf)"
      ],
      "execution_count": 26,
      "outputs": [
        {
          "output_type": "stream",
          "text": [
            "accuracy 0.83965\n",
            "confusion matrix\n",
            " [[14901   625]\n",
            " [ 2582  1892]]\n"
          ],
          "name": "stdout"
        }
      ]
    },
    {
      "cell_type": "markdown",
      "metadata": {
        "id": "k6ZiT2noqgGS",
        "colab_type": "text"
      },
      "source": [
        "After running a grid search to uncover the top performing logistic regression hyperparameter combination, we are seeing that the accuracy score is close to our simple logistic regression model, however, it did come in lower. \n",
        "\n",
        "The Simple Logistic Regression model was the winner with a C=1 which is less regularization than the grid search that called for a stronger regularization at C = 0.001. "
      ]
    },
    {
      "cell_type": "markdown",
      "metadata": {
        "colab_type": "text",
        "id": "iuBdzdM8nSjo"
      },
      "source": [
        "ROC Curves and AUC in Python\n",
        "https://machinelearningmastery.com/roc-curves-and-precision-recall-curves-for-classification-in-python/\n",
        "\n",
        "Since our accuracy was better was the better with our logistic regression model, we will use this in building an ROC curve to show how our model is performing. "
      ]
    },
    {
      "cell_type": "code",
      "metadata": {
        "id": "MNU1Kc-wraz8",
        "colab_type": "code",
        "colab": {
          "base_uri": "https://localhost:8080/",
          "height": 51
        },
        "outputId": "e17ff5ef-1a32-4063-a4e6-5fb1dd0bb00a"
      },
      "source": [
        "# predict probabilities\n",
        "lr_probs = simplelogisticRegr.predict_proba(X_test_scaled)\n",
        "ns_probs = [0 for _ in range(len(y_test))]\n",
        "# keep probabilities for the positive outcome only\n",
        "lr_probs = lr_probs[:, 1]\n",
        "# calculate scores\n",
        "ns_auc = roc_auc_score(y_test, ns_probs)\n",
        "lr_auc = roc_auc_score(y_test, lr_probs)\n",
        "# summarize scores\n",
        "print('No Skill: ROC AUC=%.3f' % (ns_auc))\n",
        "print('Logistic: ROC AUC=%.3f' % (lr_auc))\n",
        "# calculate roc curves\n",
        "ns_fpr, ns_tpr, _ = roc_curve(y_test, ns_probs)\n",
        "lr_fpr, lr_tpr, _ = roc_curve(y_test, lr_probs)"
      ],
      "execution_count": 31,
      "outputs": [
        {
          "output_type": "stream",
          "text": [
            "No Skill: ROC AUC=0.500\n",
            "Logistic: ROC AUC=0.813\n"
          ],
          "name": "stdout"
        }
      ]
    },
    {
      "cell_type": "code",
      "metadata": {
        "id": "lvPfcXa9raz_",
        "colab_type": "code",
        "colab": {
          "base_uri": "https://localhost:8080/",
          "height": 285
        },
        "outputId": "f03efff5-a499-455e-98d6-0fcde55237f4"
      },
      "source": [
        "# calculate roc curves\n",
        "ns_fpr, ns_tpr, _ = roc_curve(y_test, ns_probs)\n",
        "lr_fpr, lr_tpr, _ = roc_curve(y_test, lr_probs)\n",
        "# plot the roc curve for the model\n",
        "pyplot.plot(ns_fpr, ns_tpr, linestyle='--', label='No Skill')\n",
        "pyplot.plot(lr_fpr, lr_tpr, marker='.', label='Logistic')\n",
        "# axis labels\n",
        "pyplot.xlabel('False Positive Rate')\n",
        "pyplot.ylabel('True Positive Rate')\n",
        "# show the legend\n",
        "pyplot.legend()\n",
        "# show the plot\n",
        "pyplot.show()"
      ],
      "execution_count": 32,
      "outputs": [
        {
          "output_type": "display_data",
          "data": {
            "image/png": "[encoded data removed]",
            "text/plain": [
              "<Figure size 432x288 with 1 Axes>"
            ]
          },
          "metadata": {
            "tags": []
          }
        }
      ]
    },
    {
      "cell_type": "markdown",
      "metadata": {
        "id": "XsPBghgPsugq",
        "colab_type": "text"
      },
      "source": [
        "Looking at our true positive rate compared to false positive rate, with the diagonal line representing a 50% false positive rate, we can see that our model is producing more True positives than false positives. "
      ]
    },
    {
      "cell_type": "code",
      "metadata": {
        "colab_type": "code",
        "id": "kDI0MDSYnSj0",
        "colab": {}
      },
      "source": [
        "ywhiskcnt = y_test.apply(pd.value_counts)\n",
        "ycnt = ywhiskcnt.loc[1:1, :]"
      ],
      "execution_count": 0,
      "outputs": []
    },
    {
      "cell_type": "code",
      "metadata": {
        "colab_type": "code",
        "id": "egJSv8ZOnSj5",
        "outputId": "95537806-b335-4c1a-ff79-c1e5e52135e9",
        "colab": {
          "base_uri": "https://localhost:8080/",
          "height": 302
        }
      },
      "source": [
        "# predict probabilities\n",
        "lr_probs = simplelogisticRegr.predict_proba(X_test_scaled)\n",
        "# keep probabilities for the positive outcome only\n",
        "lr_probs = lr_probs[:, 1]\n",
        "# predict class values\n",
        "yhat = regGridSearch.predict(X_test_scaled)\n",
        "lr_precision, lr_recall, _ = precision_recall_curve(y_test, lr_probs)\n",
        "lr_f1, lr_auc = f1_score(y_test, yhat), auc(lr_recall, lr_precision)\n",
        "# summarize scores\n",
        "print('Logistic: f1=%.3f auc=%.3f' % (lr_f1, lr_auc))\n",
        "# plot the precision-recall curves\n",
        "ywhiskcnt = y_test.apply(pd.value_counts)\n",
        "ycnt = ywhiskcnt.loc[1:1, :]\n",
        "no_skill = ycnt.values[0] / len(y_test)\n",
        "#no_skill = len(y_test[y_test==1]) / len(y_test)\n",
        "no_skill\n",
        "#no_skill = 0.2\n",
        "pyplot.plot([0, 1], [no_skill, no_skill], linestyle='--', label='No Skill')\n",
        "pyplot.plot(lr_recall, lr_precision, marker='.', label='Logistic')\n",
        "# axis labels\n",
        "pyplot.xlabel('Recall')\n",
        "pyplot.ylabel('Precision')\n",
        "# show the legend\n",
        "pyplot.legend()\n",
        "# show the plot\n",
        "pyplot.show()"
      ],
      "execution_count": 34,
      "outputs": [
        {
          "output_type": "stream",
          "text": [
            "Logistic: f1=0.541 auc=0.504\n"
          ],
          "name": "stdout"
        },
        {
          "output_type": "display_data",
          "data": {
            "image/png": "[encoded data removed]",
            "text/plain": [
              "<Figure size 432x288 with 1 Axes>"
            ]
          },
          "metadata": {
            "tags": []
          }
        }
      ]
    },
    {
      "cell_type": "markdown",
      "metadata": {
        "id": "lhJSZKDgtn08",
        "colab_type": "text"
      },
      "source": [
        "Running a Precision/ Recall line plot, we can see that our model tends to lose precision as we get a higher recall, with the bottoming out of 0.5 precision and 0.2 being the point of spiking the performance. \n",
        "\n",
        "So essentially, it is saying that our model is better at predicting the correct line items that were whiskies than correctly discerning between whiskies and non whiskies. "
      ]
    },
    {
      "cell_type": "markdown",
      "metadata": {
        "colab_type": "text",
        "id": "dC7CCKAznSkt"
      },
      "source": [
        "#### Support Vector Machine Model:"
      ]
    },
    {
      "cell_type": "code",
      "metadata": {
        "id": "6AIn_2Sora0N",
        "colab_type": "code",
        "colab": {
          "base_uri": "https://localhost:8080/",
          "height": 71
        },
        "outputId": "4da29890-d583-4fe9-883b-a5de80412d29"
      },
      "source": [
        "#possibility to scale it?\n",
        "from sklearn.svm import LinearSVC\n",
        "from sklearn import preprocessing\n",
        "X_train_scaled \n",
        "X_test_scaled \n",
        "#X_train = preprocessing.scale(X_train)\n",
        "#X_test = preprocessing.scale(X_test)\n",
        "\n",
        "# all parameters not specified are set to their defaults\n",
        "#https://stackabuse.com/implementing-svm-and-kernel-svm-with-pythons-scikit-learn/\n",
        "from sklearn.svm import SVC\n",
        "#svclassifier = SVC(kernel='poly', degree=8)\n",
        "#svclassifier = SVC(kernel='rbf')\n",
        "svclassifier = SVC(kernel='linear', C = 1000, random_state=0)\n",
        "#svclassifier = LinearSVC(C=100)\n",
        "model = svclassifier.fit(X_train_scaled,  y_train)\n",
        "model"
      ],
      "execution_count": 0,
      "outputs": [
        {
          "output_type": "stream",
          "text": [
            "/usr/local/lib/python3.6/dist-packages/sklearn/utils/validation.py:760: DataConversionWarning: A column-vector y was passed when a 1d array was expected. Please change the shape of y to (n_samples, ), for example using ravel().\n",
            "  y = column_or_1d(y, warn=True)\n"
          ],
          "name": "stderr"
        }
      ]
    },
    {
      "cell_type": "code",
      "metadata": {
        "id": "syBDZ4Tnra0Q",
        "colab_type": "code",
        "colab": {}
      },
      "source": [
        "# Returns a NumPy Array\n",
        "predictions = svclassifier.predict(X_test_scaled)\n",
        "from sklearn.metrics import classification_report, confusion_matrix\n",
        "print(\"confusion matrix\\n\")\n",
        "print(confusion_matrix(y_test, predictions))\n",
        "print(\"\\nClassification report\\n\")\n",
        "print(classification_report(y_test, predictions))\n",
        "acc = mt.accuracy_score(y_test,predictions)\n",
        "print(\"\\naccuracy\\n\", acc )\n"
      ],
      "execution_count": 0,
      "outputs": []
    },
    {
      "cell_type": "code",
      "metadata": {
        "id": "5USCaQW_ra0S",
        "colab_type": "code",
        "colab": {}
      },
      "source": [
        "# look at the support vectors\n",
        "print(svclassifier.support_vectors_.shape)\n",
        "print(svclassifier.support_.shape)\n",
        "print(svclassifier.n_support_ )"
      ],
      "execution_count": 0,
      "outputs": []
    },
    {
      "cell_type": "code",
      "metadata": {
        "id": "8RFxzgN7ra0V",
        "colab_type": "code",
        "colab": {}
      },
      "source": [
        "# if using linear kernel, these make sense to look at (not otherwise, why?)\n",
        "print(svclassifier.coef_)\n",
        "weights = pd.Series(svclassifier.coef_[0],index=X.columns)\n",
        "weights.plot(kind='bar')"
      ],
      "execution_count": 0,
      "outputs": []
    },
    {
      "cell_type": "markdown",
      "metadata": {
        "id": "IGMJSwdCra0Z",
        "colab_type": "text"
      },
      "source": [
        "So the analysis here is basically telling us what the original statistics of the data looked like, and also what the statistics of the support vectors looked like. We can see that the separation in distributions is not as great as the separation for the original data. This is because the support vectors tend to be instances on the edge of the class boundaries and also instances that are classified incorrectly in the training data.\n",
        "\n",
        "You can also look at joint plots of the data and see how relationships have changed."
      ]
    },
    {
      "cell_type": "markdown",
      "metadata": {
        "id": "4tgMvzB_ra0a",
        "colab_type": "text"
      },
      "source": [
        "### SGD (model 1)"
      ]
    },
    {
      "cell_type": "code",
      "metadata": {
        "id": "HFzmNkUOra0c",
        "colab_type": "code",
        "colab": {
          "base_uri": "https://localhost:8080/",
          "height": 51
        },
        "outputId": "7ba96f20-f76c-44af-ca27-12f6efabc1f9"
      },
      "source": [
        "%%time\n",
        "# now divide the data into test and train using scikit learn built-ins\n",
        "\n",
        "cv = StratifiedShuffleSplit( n_splits=1,test_size=0.8)\n",
        "# use some compact notation for creating a linear SVM classifier with stochastic descent\n",
        "\n",
        "regularize_const = 0.1\n",
        "iterations = 5\n",
        "\n",
        "# use some compact notation for creating a logistic regression classifier with stochastic descent\n",
        "log_sgd = SGDClassifier(alpha=regularize_const,\n",
        "        fit_intercept=True, l1_ratio=0.0, learning_rate='optimal',\n",
        "        loss='log', n_iter_no_change=iterations, n_jobs=-1, penalty='l2')\n",
        "\n",
        "scl = StandardScaler()"
      ],
      "execution_count": 35,
      "outputs": [
        {
          "output_type": "stream",
          "text": [
            "CPU times: user 241 µs, sys: 0 ns, total: 241 µs\n",
            "Wall time: 247 µs\n"
          ],
          "name": "stdout"
        }
      ]
    },
    {
      "cell_type": "code",
      "metadata": {
        "id": "gtuVvh1bra0f",
        "colab_type": "code",
        "colab": {
          "base_uri": "https://localhost:8080/",
          "height": 88
        },
        "outputId": "e530c3d7-659f-41f0-c704-6d3878199df4"
      },
      "source": [
        "for train_idx, test_idx in cv.split(X,y):\n",
        "    log_sgd.fit(scl.fit_transform(X.iloc[train_idx]),y.iloc[train_idx])\n",
        "    yhat = log_sgd.predict(scl.transform(X.iloc[test_idx]))\n",
        "    \n",
        "    conf = mt.confusion_matrix(y.iloc[test_idx],yhat)\n",
        "    acc = mt.accuracy_score(y.iloc[test_idx],yhat)\n",
        "\n",
        "print('Logistic Regression:', acc)"
      ],
      "execution_count": 36,
      "outputs": [
        {
          "output_type": "stream",
          "text": [
            "Logistic Regression: 0.807875\n"
          ],
          "name": "stdout"
        },
        {
          "output_type": "stream",
          "text": [
            "/usr/local/lib/python3.6/dist-packages/sklearn/utils/validation.py:760: DataConversionWarning: A column-vector y was passed when a 1d array was expected. Please change the shape of y to (n_samples, ), for example using ravel().\n",
            "  y = column_or_1d(y, warn=True)\n"
          ],
          "name": "stderr"
        }
      ]
    },
    {
      "cell_type": "code",
      "metadata": {
        "id": "PiKuDrFira0j",
        "colab_type": "code",
        "colab": {
          "base_uri": "https://localhost:8080/",
          "height": 51
        },
        "outputId": "3b693324-5404-4993-d778-1dc09cc44dc4"
      },
      "source": [
        "conf"
      ],
      "execution_count": 37,
      "outputs": [
        {
          "output_type": "execute_result",
          "data": {
            "text/plain": [
              "array([[60713,  1171],\n",
              "       [14199,  3917]])"
            ]
          },
          "metadata": {
            "tags": []
          },
          "execution_count": 37
        }
      ]
    },
    {
      "cell_type": "markdown",
      "metadata": {
        "id": "aDdX6drTvR9a",
        "colab_type": "text"
      },
      "source": [
        "### SGD 2"
      ]
    },
    {
      "cell_type": "code",
      "metadata": {
        "id": "wzrjOwATxnRh",
        "colab_type": "code",
        "colab": {
          "base_uri": "https://localhost:8080/",
          "height": 394
        },
        "outputId": "309fbe3f-87e5-41fc-e035-dcf84d08cf2c"
      },
      "source": [
        "pip install parfit"
      ],
      "execution_count": 43,
      "outputs": [
        {
          "output_type": "stream",
          "text": [
            "Collecting parfit\n",
            "  Downloading https://files.pythonhosted.org/packages/08/60/8090b25f914c91914e8bb5c87819bfe52cead06b6d1a557f20afbe62c1ec/parfit-0.220.tar.gz\n",
            "Requirement already satisfied: joblib in /usr/local/lib/python3.6/dist-packages (from parfit) (0.14.1)\n",
            "Requirement already satisfied: matplotlib in /usr/local/lib/python3.6/dist-packages (from parfit) (3.1.3)\n",
            "Requirement already satisfied: sklearn in /usr/local/lib/python3.6/dist-packages (from parfit) (0.0)\n",
            "Requirement already satisfied: numpy in /usr/local/lib/python3.6/dist-packages (from parfit) (1.17.5)\n",
            "Requirement already satisfied: cycler>=0.10 in /usr/local/lib/python3.6/dist-packages (from matplotlib->parfit) (0.10.0)\n",
            "Requirement already satisfied: pyparsing!=2.0.4,!=2.1.2,!=2.1.6,>=2.0.1 in /usr/local/lib/python3.6/dist-packages (from matplotlib->parfit) (2.4.6)\n",
            "Requirement already satisfied: python-dateutil>=2.1 in /usr/local/lib/python3.6/dist-packages (from matplotlib->parfit) (2.6.1)\n",
            "Requirement already satisfied: kiwisolver>=1.0.1 in /usr/local/lib/python3.6/dist-packages (from matplotlib->parfit) (1.1.0)\n",
            "Requirement already satisfied: scikit-learn in /usr/local/lib/python3.6/dist-packages (from sklearn->parfit) (0.22.1)\n",
            "Requirement already satisfied: six in /usr/local/lib/python3.6/dist-packages (from cycler>=0.10->matplotlib->parfit) (1.12.0)\n",
            "Requirement already satisfied: setuptools in /usr/local/lib/python3.6/dist-packages (from kiwisolver>=1.0.1->matplotlib->parfit) (45.1.0)\n",
            "Requirement already satisfied: scipy>=0.17.0 in /usr/local/lib/python3.6/dist-packages (from scikit-learn->sklearn->parfit) (1.4.1)\n",
            "Building wheels for collected packages: parfit\n",
            "  Building wheel for parfit (setup.py) ... \u001b[?25l\u001b[?25hdone\n",
            "  Created wheel for parfit: filename=parfit-0.220-cp36-none-any.whl size=8660 sha256=9692a86beca86a6afc06600eb96cf9c599167d250045bf3923eb1119c6b6f205\n",
            "  Stored in directory: /root/.cache/pip/wheels/d9/8a/c9/ed86e85ad0cb41ce2fdcb6bc215902dc475bd3fb1fef7c742d\n",
            "Successfully built parfit\n",
            "Installing collected packages: parfit\n",
            "Successfully installed parfit-0.220\n"
          ],
          "name": "stdout"
        }
      ]
    },
    {
      "cell_type": "code",
      "metadata": {
        "id": "72Uc333JvU3M",
        "colab_type": "code",
        "colab": {
          "base_uri": "https://localhost:8080/",
          "height": 1000
        },
        "outputId": "7026e7dd-c4a8-4d28-f1d6-57416f3311da"
      },
      "source": [
        "from sklearn.model_selection import ParameterGrid\n",
        "from sklearn.linear_model import LogisticRegression\n",
        "from sklearn.metrics import roc_auc_score\n",
        "import parfit.parfit as pf\n",
        "\n",
        "grid = {\n",
        "    'alpha': [1e-4, 1e-3, 1e-2, 1e-1, 1e0, 1e1, 1e2, 1e3], # learning rate\n",
        "   # 'n_iter': [1000], # number of epochs\n",
        "    'loss': ['log'], # logistic regression,\n",
        "    'penalty': ['l2'],\n",
        "    'n_jobs': [-1]\n",
        "}\n",
        "\n",
        "paramGrid = ParameterGrid(grid)\n",
        "\n",
        "bestModel = pf.bestFit(SGDClassifier, paramGrid,\n",
        "           X_train, y_train, X_test, y_test, \n",
        "           metric = roc_auc_score, \n",
        "           scoreLabel = \"AUC\")\n",
        "\n",
        "print(bestModel)\n",
        "\n",
        "#Perform hyperparameter search to find the best combination of parameters for our data\n"
      ],
      "execution_count": 52,
      "outputs": [
        {
          "output_type": "stream",
          "text": [
            "-------------FITTING MODELS-------------\n"
          ],
          "name": "stdout"
        },
        {
          "output_type": "stream",
          "text": [
            "[Parallel(n_jobs=-1)]: Using backend LokyBackend with 2 concurrent workers.\n",
            "[Parallel(n_jobs=-1)]: Done   1 tasks      | elapsed:    6.3s\n",
            "[Parallel(n_jobs=-1)]: Done   4 tasks      | elapsed:   15.9s\n",
            "[Parallel(n_jobs=-1)]: Done   6 out of   8 | elapsed:   16.5s remaining:    5.5s\n",
            "[Parallel(n_jobs=-1)]: Done   8 out of   8 | elapsed:   16.7s finished\n",
            "[Parallel(n_jobs=-1)]: Done   8 out of   8 | elapsed:   16.7s remaining:    0.0s\n",
            "[Parallel(n_jobs=-1)]: Using backend LokyBackend with 2 concurrent workers.\n",
            "[Parallel(n_jobs=-1)]: Done   8 out of   8 | elapsed:    0.1s finished\n"
          ],
          "name": "stderr"
        },
        {
          "output_type": "stream",
          "text": [
            "-------------SCORING MODELS-------------\n"
          ],
          "name": "stdout"
        },
        {
          "output_type": "display_data",
          "data": {
            "image/png": "[encoded data removed]",
            "text/plain": [
              "<Figure size 432x432 with 1 Axes>"
            ]
          },
          "metadata": {
            "tags": []
          }
        },
        {
          "output_type": "stream",
          "text": [
            "(SGDClassifier(alpha=0.01, average=False, class_weight=None,\n",
            "              early_stopping=False, epsilon=0.1, eta0=0.0, fit_intercept=True,\n",
            "              l1_ratio=0.15, learning_rate='optimal', loss='log', max_iter=1000,\n",
            "              n_iter_no_change=5, n_jobs=-1, penalty='l2', power_t=0.5,\n",
            "              random_state=None, shuffle=True, tol=0.001,\n",
            "              validation_fraction=0.1, verbose=0, warm_start=False), 0.8460889879096487, [SGDClassifier(alpha=0.0001, average=False, class_weight=None,\n",
            "              early_stopping=False, epsilon=0.1, eta0=0.0, fit_intercept=True,\n",
            "              l1_ratio=0.15, learning_rate='optimal', loss='log', max_iter=1000,\n",
            "              n_iter_no_change=5, n_jobs=-1, penalty='l2', power_t=0.5,\n",
            "              random_state=None, shuffle=True, tol=0.001,\n",
            "              validation_fraction=0.1, verbose=0, warm_start=False), SGDClassifier(alpha=0.001, average=False, class_weight=None,\n",
            "              early_stopping=False, epsilon=0.1, eta0=0.0, fit_intercept=True,\n",
            "              l1_ratio=0.15, learning_rate='optimal', loss='log', max_iter=1000,\n",
            "              n_iter_no_change=5, n_jobs=-1, penalty='l2', power_t=0.5,\n",
            "              random_state=None, shuffle=True, tol=0.001,\n",
            "              validation_fraction=0.1, verbose=0, warm_start=False), SGDClassifier(alpha=0.01, average=False, class_weight=None,\n",
            "              early_stopping=False, epsilon=0.1, eta0=0.0, fit_intercept=True,\n",
            "              l1_ratio=0.15, learning_rate='optimal', loss='log', max_iter=1000,\n",
            "              n_iter_no_change=5, n_jobs=-1, penalty='l2', power_t=0.5,\n",
            "              random_state=None, shuffle=True, tol=0.001,\n",
            "              validation_fraction=0.1, verbose=0, warm_start=False), SGDClassifier(alpha=0.1, average=False, class_weight=None, early_stopping=False,\n",
            "              epsilon=0.1, eta0=0.0, fit_intercept=True, l1_ratio=0.15,\n",
            "              learning_rate='optimal', loss='log', max_iter=1000,\n",
            "              n_iter_no_change=5, n_jobs=-1, penalty='l2', power_t=0.5,\n",
            "              random_state=None, shuffle=True, tol=0.001,\n",
            "              validation_fraction=0.1, verbose=0, warm_start=False), SGDClassifier(alpha=1.0, average=False, class_weight=None, early_stopping=False,\n",
            "              epsilon=0.1, eta0=0.0, fit_intercept=True, l1_ratio=0.15,\n",
            "              learning_rate='optimal', loss='log', max_iter=1000,\n",
            "              n_iter_no_change=5, n_jobs=-1, penalty='l2', power_t=0.5,\n",
            "              random_state=None, shuffle=True, tol=0.001,\n",
            "              validation_fraction=0.1, verbose=0, warm_start=False), SGDClassifier(alpha=10.0, average=False, class_weight=None,\n",
            "              early_stopping=False, epsilon=0.1, eta0=0.0, fit_intercept=True,\n",
            "              l1_ratio=0.15, learning_rate='optimal', loss='log', max_iter=1000,\n",
            "              n_iter_no_change=5, n_jobs=-1, penalty='l2', power_t=0.5,\n",
            "              random_state=None, shuffle=True, tol=0.001,\n",
            "              validation_fraction=0.1, verbose=0, warm_start=False), SGDClassifier(alpha=100.0, average=False, class_weight=None,\n",
            "              early_stopping=False, epsilon=0.1, eta0=0.0, fit_intercept=True,\n",
            "              l1_ratio=0.15, learning_rate='optimal', loss='log', max_iter=1000,\n",
            "              n_iter_no_change=5, n_jobs=-1, penalty='l2', power_t=0.5,\n",
            "              random_state=None, shuffle=True, tol=0.001,\n",
            "              validation_fraction=0.1, verbose=0, warm_start=False), SGDClassifier(alpha=1000.0, average=False, class_weight=None,\n",
            "              early_stopping=False, epsilon=0.1, eta0=0.0, fit_intercept=True,\n",
            "              l1_ratio=0.15, learning_rate='optimal', loss='log', max_iter=1000,\n",
            "              n_iter_no_change=5, n_jobs=-1, penalty='l2', power_t=0.5,\n",
            "              random_state=None, shuffle=True, tol=0.001,\n",
            "              validation_fraction=0.1, verbose=0, warm_start=False)], [0.5653341035047503, 0.8187946706955745, 0.8460889879096487, 0.790728190606024, 0.7637383794072394, 0.7521521357083343, 0.6053201470750235, 0.6032686328111796])\n"
          ],
          "name": "stdout"
        }
      ]
    },
    {
      "cell_type": "code",
      "metadata": {
        "id": "ZJg7hzIswFtW",
        "colab_type": "code",
        "colab": {}
      },
      "source": [
        "\n",
        "# use some compact notation for creating a logistic regression classifier with stochastic descent\n",
        "log_sgd2 = SGDClassifier(alpha=0.01, average=False, class_weight=None,\n",
        "              early_stopping=False, epsilon=0.1, eta0=0.0, fit_intercept=True,\n",
        "              l1_ratio=0.15, learning_rate='optimal', loss='log', max_iter=1000,\n",
        "              n_iter_no_change=5, n_jobs=-1, penalty='l2', power_t=0.5,\n",
        "              random_state=None, shuffle=True, tol=0.001,\n",
        "              validation_fraction=0.1, verbose=0, warm_start=False)"
      ],
      "execution_count": 0,
      "outputs": []
    },
    {
      "cell_type": "code",
      "metadata": {
        "id": "iR4sQbPjwBvD",
        "colab_type": "code",
        "colab": {
          "base_uri": "https://localhost:8080/",
          "height": 68
        },
        "outputId": "ced085f9-7635-4ab1-b98b-692d169861e1"
      },
      "source": [
        "model2 = log_sgd2.fit(scl.fit_transform(X.iloc[train_idx]),y.iloc[train_idx])\n",
        "\n",
        "for train_idx, test_idx in cv.split(X,y):\n",
        "    log_sgd2.fit(scl.fit_transform(X.iloc[train_idx]),y.iloc[train_idx])\n",
        "    yhat = log_sgd2.predict(scl.transform(X.iloc[test_idx]))\n",
        "    \n",
        "    conf = mt.confusion_matrix(y.iloc[test_idx],yhat)\n",
        "    acc = mt.accuracy_score(y.iloc[test_idx],yhat)\n",
        "\n",
        "print('Logistic Regression:', acc)\n",
        "print('Confusion Matrix: ', conf)"
      ],
      "execution_count": 63,
      "outputs": [
        {
          "output_type": "stream",
          "text": [
            "Logistic Regression: 0.8412625\n",
            "Confusion Matrix:  [[59734  2150]\n",
            " [10549  7567]]\n"
          ],
          "name": "stdout"
        }
      ]
    },
    {
      "cell_type": "markdown",
      "metadata": {
        "id": "C3lgvVqN0BXO",
        "colab_type": "text"
      },
      "source": [
        "After installing and running the Hyper-Parameter Optimization using parfit (https://towardsdatascience.com/how-to-make-sgd-classifier-perform-as-well-as-logistic-regression-using-parfit-cc10bca2d3c4), we can see that we improved upon our original Stochastic Gradient Descent Model with an accuracy score of 84.1%\n",
        "\n",
        "Moving forward, this will be the model we use as our support vector machine. "
      ]
    },
    {
      "cell_type": "markdown",
      "metadata": {
        "colab_type": "text",
        "id": "GDyKKT0mnSmE"
      },
      "source": [
        "### Advantages  [10 points] \n",
        "Discuss the advantages of each model for each classification task. Does one\n",
        "type of model offer superior performance over another in terms of prediction accuracy? In\n",
        "terms of training time or efficiency? Explain in detail. \n",
        "\n",
        "#### Logistic Regression\n",
        "* Advantages - There is less transformation needed in order to make the model return in a reasonable amount of time. Scaler transformation will increase the accuracy, but is not required for peroformance as the model performs well at scale regardless of whether the data is normalized or not. \n",
        "* Performance - There are many different setting that allow the model to have the best possible accuracy. These methods can be iterated with a grid search method. \n",
        "*  Training Time efficiency is very good at large scales and does not suffer as volume of data increases.\n",
        "\n",
        "#### Support Vector Machine\n",
        "* Advantages - From Tan book Chapter 5 - A classification technique that has received considerable attention is support vector machine (SVM). This technique has its roots in statistical learning theory and has shown promising empirical results in many practical applications, from handwritten digit recognition to text categorization. SVM also works very well with high-dimensional data and avoids the curse of dimensionality problem. Another unique aspect of this approach is that it represents the decision boundary using a subset of the training examples, known as the support vectors.  \n",
        " However, in order to get high accuracy scaling and high penalties must be set to achieve accuracy with unbalanced data. \n",
        "* Performance - Changing the cost to value 1000, after previously using 1, 10, and 100 the performance of prediciton accuracy improves over that of logistic regession.  In order to get a result in a similiar amount of time as logistic regression accuracy is sacrficed. \n",
        "* Training Time\n",
        "    * Slow with large data volume and features\n",
        "    * Transformation of data helps\n",
        "    * Very slow with high cost.\n",
        "\n",
        "#### Stochastic Gradiant Descent\n",
        "* Advantages - The design of Stochastic Gradient Smith is set up that it only considers a single randonm point in the stochastic array, and changes weights to classify values. The advantage of running stochastic gradient descent is that it runs much quicker than a gradient descent model, which can take hours / days to run. \n",
        "* Performance - While a single stochastic gradient descent model didn't perform better than any of the previous models we ran, we were able to install and run a Parameter Fit, which acted as a grid search to help us choose the optimal hyper parameters. Doing this improved our SGD performace to 83.5% accuracy. \n",
        "   \n",
        "    \n",
        "\n",
        "#### Conclusion\n",
        "The logistic regression provides a way to quickly get to a model, though has less accuracy when compared to SVM.  SVM is very accurate while its performance degrades very quickly with large volumes of data with rows and also with a large number of features. \n"
      ]
    },
    {
      "cell_type": "markdown",
      "metadata": {
        "colab_type": "text",
        "id": "VX-oO4qOnSmF"
      },
      "source": [
        "###  Interpret  [30 points] \n",
        "Use the weights from logistic regression to interpret the importance of different\n",
        "features for the classification task. Explain your interpretation in detail. Why do you think\n",
        "some variables are more important? \n",
        "\n",
        "The two fields \"Average of cost_per_liter_trans\" and \"Average of state_bottle_cost_trans\" seem to have the highest coeficients on the logistic regression model. \n",
        "\n",
        "Type\t     Average of cost_per_liter_trans\tAverage of state_bottle_cost_trans\n",
        "Not Whiskey\t 2.675545886\t                    1.999205623\n",
        "Whiskey      3.545918698\t                    2.871239458\n",
        "\n",
        "Add a t-test to show they are significantly different averages? \n",
        "\n",
        "The model seems to point out that price is the largest differentiator of the available characteristics. Whiskey is more expensive than other liquors. A higher cost per bottle can be used to identify whether a trancation was Whiskey or not. Other numeric features that are present represent bottle size and quanities of bottles sold. Since bottle sizes are fairly standard across the different types of liquors and quantity sold are well balanced across the liquor types and Whiskey is in the middle of the pack for these measures they do not have as much impact."
      ]
    },
    {
      "cell_type": "code",
      "metadata": {
        "colab_type": "code",
        "id": "Ye0EUAwn19qH",
        "outputId": "1a46154b-02fd-42ed-bfd2-fde3140cf47a",
        "colab": {
          "base_uri": "https://localhost:8080/",
          "height": 136
        }
      },
      "source": [
        "# interpret the weights\n",
        "# iterate over the coefficients\n",
        "weights2 = simplelogisticRegr.coef_.T # take transpose to make a column vector\n",
        "variable_names = X.columns\n",
        "for coef, name in zip(weights2,variable_names):\n",
        "    print(name, 'has weight of', coef[0])\n",
        "    \n",
        "# does this look correct? "
      ],
      "execution_count": 56,
      "outputs": [
        {
          "output_type": "stream",
          "text": [
            "sale_dollars_trans has weight of 0.34603288527153814\n",
            "cost_per_liter_trans has weight of -0.5570681640419652\n",
            "state_bottle_cost_trans has weight of 2.2556112412433813\n",
            "bottles_sold_trans has weight of -1.3049015086027895\n",
            "volume_sold_liters_trans has weight of 0.9031010497745309\n",
            "pack has weight of -0.04838378311713963\n",
            "bottle_volume_ml has weight of -0.004374009131824404\n"
          ],
          "name": "stdout"
        }
      ]
    },
    {
      "cell_type": "code",
      "metadata": {
        "colab_type": "code",
        "id": "NFTKvdcf2DyB",
        "outputId": "220c6d8d-66ce-41e0-e748-5f55a21634ee",
        "colab": {
          "base_uri": "https://localhost:8080/",
          "height": 394
        }
      },
      "source": [
        "# now let's make a pandas Series with the names and values, and plot them\n",
        "%matplotlib inline\n",
        "plt.style.use('ggplot')\n",
        "\n",
        "\n",
        "weights = pd.Series(simplelogisticRegr.coef_[0],index=X.columns)\n",
        "weights.plot(kind='bar')\n",
        "plt.show()"
      ],
      "execution_count": 57,
      "outputs": [
        {
          "output_type": "display_data",
          "data": {
            "image/png": "[encoded data removed]",
            "text/plain": [
              "<Figure size 432x288 with 1 Axes>"
            ]
          },
          "metadata": {
            "tags": []
          }
        }
      ]
    },
    {
      "cell_type": "markdown",
      "metadata": {
        "colab_type": "text",
        "id": "yVHNEFrTnSmG"
      },
      "source": [
        "### Insight into the data [10 points]\n",
        "Look at the chosen support vectors for the classification task. Do these provide\n",
        "any insight into the data? Explain. If you used stochastic gradient descent (and therefore did\n",
        "not explicitly solve for support vectors), try subsampling your data to train the SVC model—\n",
        "then analyze the support vectors from the subsampled dataset. "
      ]
    },
    {
      "cell_type": "code",
      "metadata": {
        "colab_type": "code",
        "id": "OXMl4cgmnSmH",
        "outputId": "6da7175e-9098-4148-fd57-16127f677ec2",
        "colab": {
          "base_uri": "https://localhost:8080/",
          "height": 164
        }
      },
      "source": [
        "#view support vectors\n",
        "model.support_vectors_"
      ],
      "execution_count": 61,
      "outputs": [
        {
          "output_type": "error",
          "ename": "AttributeError",
          "evalue": "ignored",
          "traceback": [
            "\u001b[0;31m---------------------------------------------------------------------------\u001b[0m",
            "\u001b[0;31mAttributeError\u001b[0m                            Traceback (most recent call last)",
            "\u001b[0;32m<ipython-input-61-580bfa932dd0>\u001b[0m in \u001b[0;36m<module>\u001b[0;34m()\u001b[0m\n\u001b[0;32m----> 1\u001b[0;31m \u001b[0mmodel2\u001b[0m\u001b[0;34m.\u001b[0m\u001b[0msupport_vectors_\u001b[0m\u001b[0;34m\u001b[0m\u001b[0;34m\u001b[0m\u001b[0m\n\u001b[0m",
            "\u001b[0;31mAttributeError\u001b[0m: 'SGDClassifier' object has no attribute 'support_vectors_'"
          ]
        }
      ]
    },
    {
      "cell_type": "code",
      "metadata": {
        "colab_type": "code",
        "id": "L2A_wTYZ1p7X",
        "outputId": "041fd79c-2f97-4c24-a558-9fe98fa133f7",
        "colab": {
          "base_uri": "https://localhost:8080/",
          "height": 164
        }
      },
      "source": [
        "# View indicies of support vectors\n",
        "model.support_"
      ],
      "execution_count": 62,
      "outputs": [
        {
          "output_type": "error",
          "ename": "AttributeError",
          "evalue": "ignored",
          "traceback": [
            "\u001b[0;31m---------------------------------------------------------------------------\u001b[0m",
            "\u001b[0;31mAttributeError\u001b[0m                            Traceback (most recent call last)",
            "\u001b[0;32m<ipython-input-62-eda2df8addfe>\u001b[0m in \u001b[0;36m<module>\u001b[0;34m()\u001b[0m\n\u001b[0;32m----> 1\u001b[0;31m \u001b[0mmodel2\u001b[0m\u001b[0;34m.\u001b[0m\u001b[0msupport_\u001b[0m\u001b[0;34m\u001b[0m\u001b[0;34m\u001b[0m\u001b[0m\n\u001b[0m",
            "\u001b[0;31mAttributeError\u001b[0m: 'SGDClassifier' object has no attribute 'support_'"
          ]
        }
      ]
    },
    {
      "cell_type": "markdown",
      "metadata": {
        "colab_type": "text",
        "id": "qxAYjH4AWOmK"
      },
      "source": [
        "This chooses all the misclassified items as a support vectors."
      ]
    },
    {
      "cell_type": "code",
      "metadata": {
        "colab_type": "code",
        "id": "mHkRqABz1zz2",
        "outputId": "cb2cae21-8a92-4d24-ca05-3d8fd61f835c",
        "colab": {
          "base_uri": "https://localhost:8080/",
          "height": 34
        }
      },
      "source": [
        "#view number of support vectors for each class\n",
        "model.n_support_"
      ],
      "execution_count": 0,
      "outputs": [
        {
          "output_type": "execute_result",
          "data": {
            "text/plain": [
              "array([14457, 14435], dtype=int32)"
            ]
          },
          "metadata": {
            "tags": []
          },
          "execution_count": 76
        }
      ]
    },
    {
      "cell_type": "markdown",
      "metadata": {
        "colab_type": "text",
        "id": "d4XKEUr0WVPU"
      },
      "source": [
        "We used 14,000 instances of Whiskey and Nonwhiskey to build our decision boundary."
      ]
    },
    {
      "cell_type": "code",
      "metadata": {
        "colab_type": "code",
        "id": "aPO1D6PsWd0P",
        "outputId": "b90b5917-1dc1-44b7-e458-93254fa3b913",
        "colab": {
          "base_uri": "https://localhost:8080/",
          "height": 445
        }
      },
      "source": [
        "# if using linear kernel, these make sense to look at (not otherwise, why?)\n",
        "print(model.coef_)\n",
        "weights3 = pd.Series(model.coef_[0],index=X_train.columns)\n",
        "weights3.plot(kind='bar')"
      ],
      "execution_count": 0,
      "outputs": [
        {
          "output_type": "stream",
          "text": [
            "[[-0.61779238  0.01725721 -0.26736576  1.74130624  0.93580436 -0.34449688\n",
            "   0.05279718 -0.32864875]]\n"
          ],
          "name": "stdout"
        },
        {
          "output_type": "execute_result",
          "data": {
            "text/plain": [
              "<matplotlib.axes._subplots.AxesSubplot at 0x7f55ad5f5438>"
            ]
          },
          "metadata": {
            "tags": []
          },
          "execution_count": 131
        },
        {
          "output_type": "display_data",
          "data": {
            "image/png": "[encoded data removed]",
            "text/plain": [
              "<Figure size 432x288 with 1 Axes>"
            ]
          },
          "metadata": {
            "tags": []
          }
        }
      ]
    },
    {
      "cell_type": "code",
      "metadata": {
        "colab_type": "code",
        "id": "nANPYoqN7OuQ",
        "outputId": "e4c4aa1e-7ed4-41ff-9129-253f928eef66",
        "colab": {
          "base_uri": "https://localhost:8080/",
          "height": 122
        }
      },
      "source": [
        "# scale attributes by the training set\n",
        "scl_obj = StandardScaler()\n",
        "scl_obj.fit(X_train) # find scalings for each column that make this zero mean and unit std\n",
        "# the line of code above only looks at training data to get mean and std and we can use it \n",
        "# to transform new feature data\n",
        "\n",
        "X_train_scaled = scl_obj.transform(X_train) # apply to training\n",
        "X_test_scaled = scl_obj.transform(X_test)\n",
        "\n",
        "# train the model just as before\n",
        "svm_clf = SVC(C=0.5, kernel='rbf', degree=3, gamma='auto') # get object\n",
        "svm_clf.fit(X_train_scaled, y_train)  # train object\n",
        "\n",
        "y_hat = svm_clf.predict(X_test_scaled) # get test set precitions\n",
        "\n",
        "acc = mt.accuracy_score(y_test,y_hat)\n",
        "conf = mt.confusion_matrix(y_test,y_hat)\n",
        "print('accuracy:', acc )\n",
        "print(conf)"
      ],
      "execution_count": 0,
      "outputs": [
        {
          "output_type": "stream",
          "text": [
            "C:\\ProgramData\\Anaconda3\\lib\\site-packages\\sklearn\\utils\\validation.py:760: DataConversionWarning: A column-vector y was passed when a 1d array was expected. Please change the shape of y to (n_samples, ), for example using ravel().\n",
            "  y = column_or_1d(y, warn=True)\n"
          ],
          "name": "stderr"
        },
        {
          "output_type": "stream",
          "text": [
            "accuracy: 0.87355\n",
            "[[14485  1041]\n",
            " [ 1488  2986]]\n"
          ],
          "name": "stdout"
        }
      ]
    }
  ]
}