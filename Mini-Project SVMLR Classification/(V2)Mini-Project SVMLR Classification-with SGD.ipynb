{
  "nbformat": 4,
  "nbformat_minor": 0,
  "metadata": {
    "colab": {
      "name": "Mini-Project SVMLR Classification-Copy1.ipynb",
      "provenance": [],
      "include_colab_link": true
    },
    "kernelspec": {
      "display_name": "Python 3",
      "language": "python",
      "name": "python3"
    },
    "language_info": {
      "codemirror_mode": {
        "name": "ipython",
        "version": 3
      },
      "file_extension": ".py",
      "mimetype": "text/x-python",
      "name": "python",
      "nbconvert_exporter": "python",
      "pygments_lexer": "ipython3",
      "version": "3.7.6"
    }
  },
  "cells": [
    {
      "cell_type": "markdown",
      "metadata": {
        "id": "view-in-github",
        "colab_type": "text"
      },
      "source": [
        "<a href=\"https://colab.research.google.com/github/jjschueder/7331DataMiningNotebooks/blob/master/Mini-Project%20SVMLR%20Classification/(V2)Mini-Project%20SVMLR%20Classification-with%20SGD.ipynb\" target=\"_parent\"><img src=\"https://colab.research.google.com/assets/colab-badge.svg\" alt=\"Open In Colab\"/></a>"
      ]
    },
    {
      "cell_type": "markdown",
      "metadata": {
        "colab_type": "text",
        "id": "qhqdMtT3nSiG"
      },
      "source": [
        "# Mini-Project: SVM&LR Classification\n",
        "You are to perform predictive analysis (classification) upon a data set: model the dataset using\n",
        "methods we have discussed in class: logistic regression & support vector machines and making\n",
        "conclusions from the analysis. Follow the CRISP-DM framework in your analysis (you are not\n",
        "performing all of the CRISP-DM outline, only the portions relevant to the grading rubric outlined\n",
        "below). This report is worth 10% of the final grade. You may complete this assignment in teams\n",
        "of as many as three people.\n",
        "Write a report covering all the steps of the project. The format of the document can be PDF,\n",
        "*.ipynb, or HTML. You can write the report in whatever format you like, but it is easiest to turn in\n",
        "the rendered Jupyter notebook. The results should be reproducible using your report. Please\n",
        "carefully describe every assumption and every step in your report.\n",
        "A note on grading: A common mistake I see in this lab is not investigating different input\n",
        "parameters for each model. Try a number of parameter combinations and discuss how the model changed. "
      ]
    },
    {
      "cell_type": "markdown",
      "metadata": {
        "colab_type": "text",
        "id": "jmTlKM_UnSiP"
      },
      "source": [
        "## SVM and Logistic Regression Modeling\n"
      ]
    },
    {
      "cell_type": "markdown",
      "metadata": {
        "colab_type": "text",
        "id": "qN07sRSnnSiU"
      },
      "source": [
        "### Create Models [50 points] \n",
        "Create a logistic regression model and a support vector machine model for the\n",
        "classification task involved with your dataset. Assess how well each model performs (use\n",
        "80/20 training/testing split for your data). Adjust parameters of the models to make them\n",
        "more accurate. If your dataset size requires the use of stochastic gradient descent, then\n",
        "linear kernel only is fine to use. That is, the SGDClassifier is fine to use for optimizing\n",
        "logistic regression and linear support vector machines. For many problems, SGD will be\n",
        "required in order to train the SVM model in a reasonable timeframe.   "
      ]
    },
    {
      "cell_type": "markdown",
      "metadata": {
        "colab_type": "text",
        "id": "6I6a7elv4W0h"
      },
      "source": [
        "### Load and Clean Data Set"
      ]
    },
    {
      "cell_type": "code",
      "metadata": {
        "colab_type": "code",
        "id": "lPXTcIccnSiW",
        "colab": {}
      },
      "source": [
        "import pandas as pd\n",
        "import numpy as np\n",
        "from sklearn import preprocessing\n",
        "import matplotlib.pyplot as plt \n",
        "plt.rc(\"font\", size=14)\n",
        "from matplotlib import pyplot\n",
        "from sklearn.model_selection import train_test_split\n",
        "from sklearn import linear_model\n",
        "import seaborn as sns\n",
        "sns.set(style=\"white\")\n",
        "sns.set(style=\"whitegrid\", color_codes=True)\n",
        "from sklearn.linear_model import LogisticRegression\n",
        "from sklearn import metrics as mt\n",
        "from sklearn.model_selection import ShuffleSplit\n",
        "from sklearn import metrics \n",
        "from sklearn.model_selection import cross_validate\n",
        "from sklearn.model_selection import GridSearchCV\n",
        "from sklearn.metrics import roc_curve\n",
        "from sklearn.metrics import roc_auc_score\n",
        "from sklearn.preprocessing import StandardScaler\n",
        "from sklearn.metrics import precision_recall_curve\n",
        "from sklearn.metrics import f1_score\n",
        "from sklearn.metrics import auc\n",
        "from sklearn.metrics import classification_report, confusion_matrix\n",
        "from sklearn import preprocessing\n",
        "from sklearn.svm import SVC\n",
        "from sklearn.model_selection import StratifiedShuffleSplit \n",
        "from sklearn.linear_model import SGDClassifier"
      ],
      "execution_count": 0,
      "outputs": []
    },
    {
      "cell_type": "code",
      "metadata": {
        "colab_type": "code",
        "id": "Mo0kRfD4nSik",
        "colab": {}
      },
      "source": [
        "#read data from github repository\n",
        "#this data was produced from the Iowa Alcohol Dataset 2019 year data\n",
        "#It was cleansed and transformed in this notebook and exported as a csv to github for use here.\n",
        "#source python notebook: https://github.com/jjschueder/7331DataMiningNotebooks/blob/master/lab1/msds7331_clark_schueder_vela_washburn.ipynb\n",
        "# read csv from github directly\n",
        "url_dataset = 'https://raw.githubusercontent.com/jjschueder/7331DataMiningNotebooks/master/Live%20Assignments/df1hotmerge2.csv'\n",
        "#data = pd.read_csv(url_dataset)\n",
        "data = pd.read_csv(url_dataset, nrows=100000)"
      ],
      "execution_count": 0,
      "outputs": []
    },
    {
      "cell_type": "code",
      "metadata": {
        "colab_type": "code",
        "id": "DQKPLfW1nSiv",
        "outputId": "5058df9e-4f35-4d1b-e566-24b6ae0be483",
        "scrolled": true,
        "colab": {
          "base_uri": "https://localhost:8080/",
          "height": 71
        }
      },
      "source": [
        "print(data.shape)\n",
        "print(list(data.columns))"
      ],
      "execution_count": 3,
      "outputs": [
        {
          "output_type": "stream",
          "text": [
            "(100000, 68)\n",
            "['Unnamed: 0', 'pack', 'bottle_volume_ml', 'state_bottle_cost', 'state_bottle_retail', 'bottles_sold', 'sale_dollars', 'volume_sold_liters', 'volume_sold_gallons', 'counter', 'liquor_category', 'store_parent', 'month', 'year', 'monthyear', 'liquor_category_AMARETTO', 'liquor_category_BRANDY', 'liquor_category_GIN', 'liquor_category_LIQUEUR', 'liquor_category_Other', 'liquor_category_RUM', 'liquor_category_SCHNAPPS', 'liquor_category_TEQUILA', 'liquor_category_VODKA', 'liquor_category_WHISKY', 'store_parent_CVS', 'store_parent_Caseys', 'store_parent_Hy-Vee', 'store_parent_Kum&Go', 'store_parent_Other', 'store_parent_QuikTrip', 'store_parent_SamsClub', 'store_parent_SmokingJoes', 'store_parent_Target', 'store_parent_Wal-Mart', 'store_parent_Walgreens', 'month_Apr', 'month_Aug', 'month_Dec', 'month_Feb', 'month_Jan', 'month_Jul', 'month_Jun', 'month_Mar', 'month_May', 'month_Nov', 'month_Oct', 'month_Sep', 'year_2019', 'monthyear_Apr-2019', 'monthyear_Aug-2019', 'monthyear_Dec-2019', 'monthyear_Feb-2019', 'monthyear_Jan-2019', 'monthyear_Jul-2019', 'monthyear_Jun-2019', 'monthyear_Mar-2019', 'monthyear_May-2019', 'monthyear_Nov-2019', 'monthyear_Oct-2019', 'monthyear_Sep-2019', 'sale_dollars_trans', 'cost_per_liter', 'cost_per_liter_trans', 'state_bottle_cost_trans', 'bottles_sold_trans', 'volume_sold_liters_trans', 'grossmargin']\n"
          ],
          "name": "stdout"
        }
      ]
    },
    {
      "cell_type": "code",
      "metadata": {
        "colab_type": "code",
        "id": "tzx9_JhrnSi7",
        "outputId": "308ce431-3e9d-4376-8c40-71670e971dda",
        "colab": {
          "base_uri": "https://localhost:8080/",
          "height": 51
        }
      },
      "source": [
        "#data = data.drop(columns = ['Unnamed: 0'])\n",
        "count_not_whiskey = len(data[data['liquor_category_WHISKY']==0])\n",
        "count_whiskey = len(data[data['liquor_category_WHISKY']==1])\n",
        "pct_of_no_whiskey = count_not_whiskey/(count_not_whiskey+count_whiskey)\n",
        "print(\"percentage of not whiskey is\", pct_of_no_whiskey*100)\n",
        "pct_of_whiskey = count_whiskey/(count_not_whiskey+count_whiskey)\n",
        "print(\"percentage of whiskey\", pct_of_whiskey*100)"
      ],
      "execution_count": 4,
      "outputs": [
        {
          "output_type": "stream",
          "text": [
            "percentage of not whiskey is 77.35499999999999\n",
            "percentage of whiskey 22.645\n"
          ],
          "name": "stdout"
        }
      ]
    },
    {
      "cell_type": "code",
      "metadata": {
        "colab_type": "code",
        "id": "jSmKpN1snSjB",
        "outputId": "ab5cccc3-4cd9-43a3-fcfd-a4b8e81eed11",
        "colab": {
          "base_uri": "https://localhost:8080/",
          "height": 85
        }
      },
      "source": [
        "cat_vars=['counter', 'liquor_category', 'store_parent',\n",
        " 'month', 'year', 'monthyear', 'liquor_category_AMARETTO', 'liquor_category_BRANDY', 'liquor_category_GIN', \n",
        " 'liquor_category_LIQUEUR', 'liquor_category_Other', 'liquor_category_RUM', 'liquor_category_SCHNAPPS', \n",
        " 'liquor_category_TEQUILA', 'liquor_category_VODKA', 'month_Apr', 'month_Aug', 'month_Dec', 'month_Feb',\n",
        " 'month_Jan', 'month_Jul', 'month_Jun', 'month_Mar', 'month_May', 'month_Nov', 'month_Oct', 'month_Sep', \n",
        " 'store_parent_CVS', 'store_parent_Caseys', 'store_parent_Hy-Vee', 'store_parent_Kum&Go', \n",
        " 'store_parent_Other', 'store_parent_QuikTrip', 'store_parent_SamsClub', 'store_parent_SmokingJoes', \n",
        " 'store_parent_Target', 'store_parent_Wal-Mart', 'store_parent_Walgreens']\n",
        "data_vars=data.columns.values.tolist()\n",
        "to_keep=[i for i in data_vars if i not in cat_vars]\n",
        "to_keep=['sale_dollars_trans', 'cost_per_liter_trans',\n",
        "      'state_bottle_cost_trans', 'bottles_sold_trans',\n",
        "       'volume_sold_liters_trans','pack', 'bottle_volume_ml',\n",
        "       'liquor_category_WHISKY']\n",
        "data_final=data[to_keep]\n",
        "data_final.columns.values"
      ],
      "execution_count": 5,
      "outputs": [
        {
          "output_type": "execute_result",
          "data": {
            "text/plain": [
              "array(['sale_dollars_trans', 'cost_per_liter_trans',\n",
              "       'state_bottle_cost_trans', 'bottles_sold_trans',\n",
              "       'volume_sold_liters_trans', 'pack', 'bottle_volume_ml',\n",
              "       'liquor_category_WHISKY'], dtype=object)"
            ]
          },
          "metadata": {
            "tags": []
          },
          "execution_count": 5
        }
      ]
    },
    {
      "cell_type": "code",
      "metadata": {
        "id": "J3f2Dcd8LEpB",
        "colab_type": "code",
        "colab": {
          "base_uri": "https://localhost:8080/",
          "height": 255
        },
        "outputId": "c420f6ab-2c7b-4d07-becd-c9a44b478fb2"
      },
      "source": [
        "data_final.info"
      ],
      "execution_count": 49,
      "outputs": [
        {
          "output_type": "execute_result",
          "data": {
            "text/plain": [
              "<bound method DataFrame.info of        sale_dollars_trans  ...  liquor_category_WHISKY\n",
              "0                4.750136  ...                       0\n",
              "1                2.574900  ...                       0\n",
              "2                5.000585  ...                       0\n",
              "3                6.636261  ...                       1\n",
              "4                5.121819  ...                       0\n",
              "...                   ...  ...                     ...\n",
              "99995            4.948760  ...                       0\n",
              "99996            4.948760  ...                       0\n",
              "99997            4.948760  ...                       0\n",
              "99998            4.948760  ...                       0\n",
              "99999            4.948760  ...                       0\n",
              "\n",
              "[100000 rows x 8 columns]>"
            ]
          },
          "metadata": {
            "tags": []
          },
          "execution_count": 49
        }
      ]
    },
    {
      "cell_type": "code",
      "metadata": {
        "id": "PQkL5USKrazL",
        "colab_type": "code",
        "colab": {}
      },
      "source": [
        "X = data_final.loc[:, data_final.columns != 'liquor_category_WHISKY']\n",
        "y = data_final.loc[:, data_final.columns == 'liquor_category_WHISKY']"
      ],
      "execution_count": 0,
      "outputs": []
    },
    {
      "cell_type": "code",
      "metadata": {
        "id": "G65Y_NFdrazQ",
        "colab_type": "code",
        "outputId": "a705d1e7-3e41-40e0-9dd9-ab3330c47a3d",
        "colab": {
          "base_uri": "https://localhost:8080/",
          "height": 224
        }
      },
      "source": [
        "X.head()"
      ],
      "execution_count": 7,
      "outputs": [
        {
          "output_type": "execute_result",
          "data": {
            "text/html": [
              "<div>\n",
              "<style scoped>\n",
              "    .dataframe tbody tr th:only-of-type {\n",
              "        vertical-align: middle;\n",
              "    }\n",
              "\n",
              "    .dataframe tbody tr th {\n",
              "        vertical-align: top;\n",
              "    }\n",
              "\n",
              "    .dataframe thead th {\n",
              "        text-align: right;\n",
              "    }\n",
              "</style>\n",
              "<table border=\"1\" class=\"dataframe\">\n",
              "  <thead>\n",
              "    <tr style=\"text-align: right;\">\n",
              "      <th></th>\n",
              "      <th>sale_dollars_trans</th>\n",
              "      <th>cost_per_liter_trans</th>\n",
              "      <th>state_bottle_cost_trans</th>\n",
              "      <th>bottles_sold_trans</th>\n",
              "      <th>volume_sold_liters_trans</th>\n",
              "      <th>pack</th>\n",
              "      <th>bottle_volume_ml</th>\n",
              "    </tr>\n",
              "  </thead>\n",
              "  <tbody>\n",
              "    <tr>\n",
              "      <th>0</th>\n",
              "      <td>4.750136</td>\n",
              "      <td>2.735233</td>\n",
              "      <td>1.348073</td>\n",
              "      <td>2.995732</td>\n",
              "      <td>2.014903</td>\n",
              "      <td>20</td>\n",
              "      <td>375</td>\n",
              "    </tr>\n",
              "    <tr>\n",
              "      <th>1</th>\n",
              "      <td>2.574900</td>\n",
              "      <td>5.570632</td>\n",
              "      <td>2.169054</td>\n",
              "      <td>0.000000</td>\n",
              "      <td>-2.995732</td>\n",
              "      <td>8</td>\n",
              "      <td>50</td>\n",
              "    </tr>\n",
              "    <tr>\n",
              "      <th>2</th>\n",
              "      <td>5.000585</td>\n",
              "      <td>3.208825</td>\n",
              "      <td>2.803360</td>\n",
              "      <td>1.791759</td>\n",
              "      <td>1.791759</td>\n",
              "      <td>12</td>\n",
              "      <td>1000</td>\n",
              "    </tr>\n",
              "    <tr>\n",
              "      <th>3</th>\n",
              "      <td>6.636261</td>\n",
              "      <td>3.745890</td>\n",
              "      <td>3.052585</td>\n",
              "      <td>3.178054</td>\n",
              "      <td>2.890372</td>\n",
              "      <td>6</td>\n",
              "      <td>750</td>\n",
              "    </tr>\n",
              "    <tr>\n",
              "      <th>4</th>\n",
              "      <td>5.121819</td>\n",
              "      <td>2.077296</td>\n",
              "      <td>2.231089</td>\n",
              "      <td>2.484907</td>\n",
              "      <td>3.044522</td>\n",
              "      <td>6</td>\n",
              "      <td>1750</td>\n",
              "    </tr>\n",
              "  </tbody>\n",
              "</table>\n",
              "</div>"
            ],
            "text/plain": [
              "   sale_dollars_trans  cost_per_liter_trans  ...  pack  bottle_volume_ml\n",
              "0            4.750136              2.735233  ...    20               375\n",
              "1            2.574900              5.570632  ...     8                50\n",
              "2            5.000585              3.208825  ...    12              1000\n",
              "3            6.636261              3.745890  ...     6               750\n",
              "4            5.121819              2.077296  ...     6              1750\n",
              "\n",
              "[5 rows x 7 columns]"
            ]
          },
          "metadata": {
            "tags": []
          },
          "execution_count": 7
        }
      ]
    },
    {
      "cell_type": "markdown",
      "metadata": {
        "colab_type": "text",
        "id": "zIfgUT054dBe"
      },
      "source": [
        "## Logistic Regression"
      ]
    },
    {
      "cell_type": "code",
      "metadata": {
        "id": "efU9cWoAsmSj",
        "colab_type": "code",
        "outputId": "af0eb118-f172-4dfc-9895-d38ea671c6b0",
        "colab": {
          "base_uri": "https://localhost:8080/",
          "height": 360
        }
      },
      "source": [
        "X_train, X_test, y_train, y_test = train_test_split(X, y, test_size=0.2, random_state=0)\n",
        "columns = X_train.columns\n",
        "\n",
        "\n",
        "from sklearn.linear_model import LogisticRegression\n",
        "# all parameters not specified are set to their defaults\n",
        "simplelogisticRegr = LogisticRegression()# class_weight = 'balanced')\n",
        "\n",
        "simplelogisticRegr.fit(X_train, y_train)\n",
        "\n",
        "coef = simplelogisticRegr.coef_[0]\n",
        "classes = simplelogisticRegr.classes_[0]\n",
        "intercept = simplelogisticRegr.intercept_[0]\n",
        "print (coef)\n",
        "\n",
        "print (intercept)\n",
        "\n",
        "predictions = simplelogisticRegr.predict(X_test)\n",
        "\n",
        "params =simplelogisticRegr.get_params(deep=True)\n",
        "print (params)\n",
        "\n",
        "# Use score method to get accuracy of model\n",
        "score = simplelogisticRegr.score(X_test, y_test)\n",
        "print(\"Accuracy: \", '\\n', score)\n",
        "\n",
        "import matplotlib.pyplot as plt\n",
        "import seaborn as sns\n",
        "from sklearn import metrics\n",
        "cm = metrics.confusion_matrix(y_test, predictions)\n",
        "print(\"Confusion Matrix: \", '\\n', cm)\n"
      ],
      "execution_count": 8,
      "outputs": [
        {
          "output_type": "stream",
          "text": [
            "/usr/local/lib/python3.6/dist-packages/sklearn/utils/validation.py:760: DataConversionWarning: A column-vector y was passed when a 1d array was expected. Please change the shape of y to (n_samples, ), for example using ravel().\n",
            "  y = column_or_1d(y, warn=True)\n"
          ],
          "name": "stderr"
        },
        {
          "output_type": "stream",
          "text": [
            "[ 0.34603289 -0.55706816  2.25561124 -1.30490151  0.90310105 -0.04838378\n",
            " -0.00437401]\n",
            "-1.4442094973385553\n",
            "{'C': 1.0, 'class_weight': None, 'dual': False, 'fit_intercept': True, 'intercept_scaling': 1, 'l1_ratio': None, 'max_iter': 100, 'multi_class': 'auto', 'n_jobs': None, 'penalty': 'l2', 'random_state': None, 'solver': 'lbfgs', 'tol': 0.0001, 'verbose': 0, 'warm_start': False}\n",
            "Accuracy:  \n",
            " 0.84375\n",
            "Confusion Matrix:  \n",
            " [[14282  1244]\n",
            " [ 1881  2593]]\n"
          ],
          "name": "stdout"
        },
        {
          "output_type": "stream",
          "text": [
            "/usr/local/lib/python3.6/dist-packages/sklearn/linear_model/_logistic.py:940: ConvergenceWarning: lbfgs failed to converge (status=1):\n",
            "STOP: TOTAL NO. of ITERATIONS REACHED LIMIT.\n",
            "\n",
            "Increase the number of iterations (max_iter) or scale the data as shown in:\n",
            "    https://scikit-learn.org/stable/modules/preprocessing.html\n",
            "Please also refer to the documentation for alternative solver options:\n",
            "    https://scikit-learn.org/stable/modules/linear_model.html#logistic-regression\n",
            "  extra_warning_msg=_LOGISTIC_SOLVER_CONVERGENCE_MSG)\n"
          ],
          "name": "stderr"
        }
      ]
    },
    {
      "cell_type": "code",
      "metadata": {
        "id": "AHHRajUpAdnu",
        "colab_type": "code",
        "colab": {
          "base_uri": "https://localhost:8080/",
          "height": 204
        },
        "outputId": "df7be710-2813-4ada-baf8-a7b9eaced119"
      },
      "source": [
        "predictions = simplelogisticRegr.predict(X_test)\n",
        "from sklearn.metrics import classification_report, confusion_matrix\n",
        "print(confusion_matrix(y_test, predictions))\n",
        "print(classification_report(y_test, predictions))"
      ],
      "execution_count": 10,
      "outputs": [
        {
          "output_type": "stream",
          "text": [
            "[[14282  1244]\n",
            " [ 1881  2593]]\n",
            "              precision    recall  f1-score   support\n",
            "\n",
            "           0       0.88      0.92      0.90     15526\n",
            "           1       0.68      0.58      0.62      4474\n",
            "\n",
            "    accuracy                           0.84     20000\n",
            "   macro avg       0.78      0.75      0.76     20000\n",
            "weighted avg       0.84      0.84      0.84     20000\n",
            "\n"
          ],
          "name": "stdout"
        }
      ]
    },
    {
      "cell_type": "markdown",
      "metadata": {
        "id": "6dj-uDeWtElF",
        "colab_type": "text"
      },
      "source": [
        "We ran a \"simple\" logistic regression model using the default hyper parameters of C=1.0, no weighting of the classes and with a ridge regression penalty. \n",
        "\n",
        "As a result, our model achieved 84% accuracy which is a bit higher than the accuracy we would achieve if we were to guess randomly based on the distribution of whiskies vs non whiskies. From here, we can use a grid search procedure to tune our hyper parameters to improve our accuracy score. "
      ]
    },
    {
      "cell_type": "markdown",
      "metadata": {
        "colab_type": "text",
        "id": "j6-0y2G9nSjI"
      },
      "source": [
        "### Models Using Grid Search to compare best possible model"
      ]
    },
    {
      "cell_type": "code",
      "metadata": {
        "colab_type": "code",
        "id": "Rq1Jn4krnSjK",
        "colab": {}
      },
      "source": [
        "#X_train, X_test, y_train, y_test = train_test_split(X, y, test_size=0.2, random_state=0)\n",
        "#columns = X_train.columns\n",
        "# scale attributes by the training set\n",
        "scl_obj = StandardScaler()\n",
        "scl_obj.fit(X_train) # find scalings for each column that make this zero mean and unit std\n",
        "# the line of code above only looks at training data to get mean and std and we can use it \n",
        "# to transform new feature data\n",
        "\n",
        "X_train_scaled = scl_obj.transform(X_train) # apply to training\n",
        "X_test_scaled = scl_obj.transform(X_test)"
      ],
      "execution_count": 0,
      "outputs": []
    },
    {
      "cell_type": "code",
      "metadata": {
        "colab_type": "code",
        "id": "0VmHek3j7A0u",
        "outputId": "9c39da5c-0be2-46d6-d0fd-88ae1701dbc1",
        "colab": {
          "base_uri": "https://localhost:8080/",
          "height": 530
        }
      },
      "source": [
        "#Logisitic regression 10-fold cross-validation \n",
        "\n",
        "#Divide data into test and training splits\n",
        "cv = ShuffleSplit(n_splits=10, test_size=0.10, random_state=0)\n",
        "\n",
        "regEstimator = LogisticRegression()\n",
        "\n",
        "\n",
        "parameters = { 'penalty':['l2', 'l1', 'elasticnet']\n",
        "              ,'C': [0.001, 1, 10, 100]\n",
        "              ,'class_weight': ['balanced', 'none']\n",
        "              ,'random_state': [0]\n",
        "              ,'solver': ['lbfgs', 'saga', 'liblinear', 'newton-cg', 'sag']\n",
        "              ,'max_iter':[100]\n",
        "             }\n",
        "\n",
        "#Create a grid search object using the  \n",
        "\n",
        "regGridSearch = GridSearchCV(estimator=regEstimator\n",
        "                   , n_jobs=8 # jobs to run in parallel\n",
        "                   , verbose=1 # low verbosity\n",
        "                   , param_grid=parameters\n",
        "                   , cv=cv # KFolds = 10\n",
        "                   , scoring='accuracy')\n",
        "\n",
        "#Perform hyperparameter search to find the best combination of parameters for our data\n",
        "regGridSearch.fit(X_train_scaled, y_train)"
      ],
      "execution_count": 10,
      "outputs": [
        {
          "output_type": "stream",
          "text": [
            "Fitting 10 folds for each of 120 candidates, totalling 1200 fits\n"
          ],
          "name": "stdout"
        },
        {
          "output_type": "stream",
          "text": [
            "[Parallel(n_jobs=8)]: Using backend LokyBackend with 8 concurrent workers.\n",
            "[Parallel(n_jobs=8)]: Done  34 tasks      | elapsed:   17.4s\n",
            "[Parallel(n_jobs=8)]: Done 184 tasks      | elapsed:   35.5s\n",
            "[Parallel(n_jobs=8)]: Done 434 tasks      | elapsed:  4.5min\n",
            "[Parallel(n_jobs=8)]: Done 784 tasks      | elapsed: 11.6min\n",
            "[Parallel(n_jobs=8)]: Done 1200 out of 1200 | elapsed: 18.9min finished\n",
            "/usr/local/lib/python3.6/dist-packages/sklearn/utils/validation.py:760: DataConversionWarning: A column-vector y was passed when a 1d array was expected. Please change the shape of y to (n_samples, ), for example using ravel().\n",
            "  y = column_or_1d(y, warn=True)\n"
          ],
          "name": "stderr"
        },
        {
          "output_type": "execute_result",
          "data": {
            "text/plain": [
              "GridSearchCV(cv=ShuffleSplit(n_splits=10, random_state=0, test_size=0.1, train_size=None),\n",
              "             error_score=nan,\n",
              "             estimator=LogisticRegression(C=1.0, class_weight=None, dual=False,\n",
              "                                          fit_intercept=True,\n",
              "                                          intercept_scaling=1, l1_ratio=None,\n",
              "                                          max_iter=100, multi_class='auto',\n",
              "                                          n_jobs=None, penalty='l2',\n",
              "                                          random_state=None, solver='lbfgs',\n",
              "                                          tol=0.0001, verbose=0,\n",
              "                                          warm_start=False),\n",
              "             iid='deprecated', n_jobs=8,\n",
              "             param_grid={'C': [0.001, 1, 10, 100],\n",
              "                         'class_weight': ['balanced', 'none'],\n",
              "                         'max_iter': [100],\n",
              "                         'penalty': ['l2', 'l1', 'elasticnet'],\n",
              "                         'random_state': [0],\n",
              "                         'solver': ['lbfgs', 'saga', 'liblinear', 'newton-cg',\n",
              "                                    'sag']},\n",
              "             pre_dispatch='2*n_jobs', refit=True, return_train_score=False,\n",
              "             scoring='accuracy', verbose=1)"
            ]
          },
          "metadata": {
            "tags": []
          },
          "execution_count": 10
        }
      ]
    },
    {
      "cell_type": "code",
      "metadata": {
        "colab_type": "code",
        "id": "a2Gdgl8k62xQ",
        "outputId": "f862e28d-4917-49f1-9431-025bd9df2139",
        "colab": {
          "base_uri": "https://localhost:8080/",
          "height": 102
        }
      },
      "source": [
        "#Diplay the top model parameters\n",
        "regGridSearch.best_estimator_"
      ],
      "execution_count": 12,
      "outputs": [
        {
          "output_type": "execute_result",
          "data": {
            "text/plain": [
              "LogisticRegression(C=0.001, class_weight='none', dual=False, fit_intercept=True,\n",
              "                   intercept_scaling=1, l1_ratio=None, max_iter=100,\n",
              "                   multi_class='auto', n_jobs=None, penalty='l2',\n",
              "                   random_state=0, solver='sag', tol=0.0001, verbose=0,\n",
              "                   warm_start=False)"
            ]
          },
          "metadata": {
            "tags": []
          },
          "execution_count": 12
        }
      ]
    },
    {
      "cell_type": "markdown",
      "metadata": {
        "id": "H_52IJqizdEh",
        "colab_type": "text"
      },
      "source": [
        "After running our grid search, we found that the ideal model uses a C=0.001 which is different from our default model of C=1.0. Otherwise, the other parameters remained the same. \n",
        "\n",
        "Let's see how this does with our accuracy score. "
      ]
    },
    {
      "cell_type": "code",
      "metadata": {
        "id": "D1KcZcOKrazj",
        "colab_type": "code",
        "outputId": "814a1024-9100-4de2-e11d-930497fd5b45",
        "colab": {
          "base_uri": "https://localhost:8080/",
          "height": 34
        }
      },
      "source": [
        "type(regGridSearch)"
      ],
      "execution_count": 13,
      "outputs": [
        {
          "output_type": "execute_result",
          "data": {
            "text/plain": [
              "sklearn.model_selection._search.GridSearchCV"
            ]
          },
          "metadata": {
            "tags": []
          },
          "execution_count": 13
        }
      ]
    },
    {
      "cell_type": "code",
      "metadata": {
        "id": "E1ya8u75razm",
        "colab_type": "code",
        "colab": {}
      },
      "source": [
        "gridresults = pd.DataFrame(regGridSearch.cv_results_)"
      ],
      "execution_count": 0,
      "outputs": []
    },
    {
      "cell_type": "code",
      "metadata": {
        "id": "APOVOlDmrazq",
        "colab_type": "code",
        "colab": {}
      },
      "source": [
        "columns = ['param_solver','param_C', 'param_max_iter', 'class_weight', 'param_penalty', 'mean_test_score', 'rank_test_score']\n",
        "gridresults = pd.DataFrame(gridresults, columns=columns)"
      ],
      "execution_count": 0,
      "outputs": []
    },
    {
      "cell_type": "code",
      "metadata": {
        "id": "H1TRv-bDrazv",
        "colab_type": "code",
        "outputId": "ff3cee6f-49a8-4d64-eef7-91539f94f920",
        "colab": {
          "base_uri": "https://localhost:8080/",
          "height": 669
        }
      },
      "source": [
        "gridresults.sort_values(by=['rank_test_score'], ascending=True).head(20)"
      ],
      "execution_count": 16,
      "outputs": [
        {
          "output_type": "execute_result",
          "data": {
            "text/html": [
              "<div>\n",
              "<style scoped>\n",
              "    .dataframe tbody tr th:only-of-type {\n",
              "        vertical-align: middle;\n",
              "    }\n",
              "\n",
              "    .dataframe tbody tr th {\n",
              "        vertical-align: top;\n",
              "    }\n",
              "\n",
              "    .dataframe thead th {\n",
              "        text-align: right;\n",
              "    }\n",
              "</style>\n",
              "<table border=\"1\" class=\"dataframe\">\n",
              "  <thead>\n",
              "    <tr style=\"text-align: right;\">\n",
              "      <th></th>\n",
              "      <th>param_solver</th>\n",
              "      <th>param_C</th>\n",
              "      <th>param_max_iter</th>\n",
              "      <th>class_weight</th>\n",
              "      <th>param_penalty</th>\n",
              "      <th>mean_test_score</th>\n",
              "      <th>rank_test_score</th>\n",
              "    </tr>\n",
              "  </thead>\n",
              "  <tbody>\n",
              "    <tr>\n",
              "      <th>19</th>\n",
              "      <td>sag</td>\n",
              "      <td>0.001</td>\n",
              "      <td>100</td>\n",
              "      <td>NaN</td>\n",
              "      <td>l2</td>\n",
              "      <td>0.838012</td>\n",
              "      <td>1</td>\n",
              "    </tr>\n",
              "    <tr>\n",
              "      <th>18</th>\n",
              "      <td>newton-cg</td>\n",
              "      <td>0.001</td>\n",
              "      <td>100</td>\n",
              "      <td>NaN</td>\n",
              "      <td>l2</td>\n",
              "      <td>0.838000</td>\n",
              "      <td>2</td>\n",
              "    </tr>\n",
              "    <tr>\n",
              "      <th>16</th>\n",
              "      <td>saga</td>\n",
              "      <td>0.001</td>\n",
              "      <td>100</td>\n",
              "      <td>NaN</td>\n",
              "      <td>l2</td>\n",
              "      <td>0.838000</td>\n",
              "      <td>2</td>\n",
              "    </tr>\n",
              "    <tr>\n",
              "      <th>15</th>\n",
              "      <td>lbfgs</td>\n",
              "      <td>0.001</td>\n",
              "      <td>100</td>\n",
              "      <td>NaN</td>\n",
              "      <td>l2</td>\n",
              "      <td>0.838000</td>\n",
              "      <td>2</td>\n",
              "    </tr>\n",
              "    <tr>\n",
              "      <th>21</th>\n",
              "      <td>saga</td>\n",
              "      <td>0.001</td>\n",
              "      <td>100</td>\n",
              "      <td>NaN</td>\n",
              "      <td>l1</td>\n",
              "      <td>0.835500</td>\n",
              "      <td>5</td>\n",
              "    </tr>\n",
              "    <tr>\n",
              "      <th>46</th>\n",
              "      <td>saga</td>\n",
              "      <td>1</td>\n",
              "      <td>100</td>\n",
              "      <td>NaN</td>\n",
              "      <td>l2</td>\n",
              "      <td>0.831275</td>\n",
              "      <td>6</td>\n",
              "    </tr>\n",
              "    <tr>\n",
              "      <th>51</th>\n",
              "      <td>saga</td>\n",
              "      <td>1</td>\n",
              "      <td>100</td>\n",
              "      <td>NaN</td>\n",
              "      <td>l1</td>\n",
              "      <td>0.831263</td>\n",
              "      <td>7</td>\n",
              "    </tr>\n",
              "    <tr>\n",
              "      <th>49</th>\n",
              "      <td>sag</td>\n",
              "      <td>1</td>\n",
              "      <td>100</td>\n",
              "      <td>NaN</td>\n",
              "      <td>l2</td>\n",
              "      <td>0.831263</td>\n",
              "      <td>7</td>\n",
              "    </tr>\n",
              "    <tr>\n",
              "      <th>48</th>\n",
              "      <td>newton-cg</td>\n",
              "      <td>1</td>\n",
              "      <td>100</td>\n",
              "      <td>NaN</td>\n",
              "      <td>l2</td>\n",
              "      <td>0.831263</td>\n",
              "      <td>7</td>\n",
              "    </tr>\n",
              "    <tr>\n",
              "      <th>45</th>\n",
              "      <td>lbfgs</td>\n",
              "      <td>1</td>\n",
              "      <td>100</td>\n",
              "      <td>NaN</td>\n",
              "      <td>l2</td>\n",
              "      <td>0.831263</td>\n",
              "      <td>7</td>\n",
              "    </tr>\n",
              "    <tr>\n",
              "      <th>108</th>\n",
              "      <td>newton-cg</td>\n",
              "      <td>100</td>\n",
              "      <td>100</td>\n",
              "      <td>NaN</td>\n",
              "      <td>l2</td>\n",
              "      <td>0.831250</td>\n",
              "      <td>11</td>\n",
              "    </tr>\n",
              "    <tr>\n",
              "      <th>105</th>\n",
              "      <td>lbfgs</td>\n",
              "      <td>100</td>\n",
              "      <td>100</td>\n",
              "      <td>NaN</td>\n",
              "      <td>l2</td>\n",
              "      <td>0.831250</td>\n",
              "      <td>11</td>\n",
              "    </tr>\n",
              "    <tr>\n",
              "      <th>79</th>\n",
              "      <td>sag</td>\n",
              "      <td>10</td>\n",
              "      <td>100</td>\n",
              "      <td>NaN</td>\n",
              "      <td>l2</td>\n",
              "      <td>0.831237</td>\n",
              "      <td>13</td>\n",
              "    </tr>\n",
              "    <tr>\n",
              "      <th>75</th>\n",
              "      <td>lbfgs</td>\n",
              "      <td>10</td>\n",
              "      <td>100</td>\n",
              "      <td>NaN</td>\n",
              "      <td>l2</td>\n",
              "      <td>0.831225</td>\n",
              "      <td>14</td>\n",
              "    </tr>\n",
              "    <tr>\n",
              "      <th>78</th>\n",
              "      <td>newton-cg</td>\n",
              "      <td>10</td>\n",
              "      <td>100</td>\n",
              "      <td>NaN</td>\n",
              "      <td>l2</td>\n",
              "      <td>0.831225</td>\n",
              "      <td>14</td>\n",
              "    </tr>\n",
              "    <tr>\n",
              "      <th>109</th>\n",
              "      <td>sag</td>\n",
              "      <td>100</td>\n",
              "      <td>100</td>\n",
              "      <td>NaN</td>\n",
              "      <td>l2</td>\n",
              "      <td>0.831200</td>\n",
              "      <td>16</td>\n",
              "    </tr>\n",
              "    <tr>\n",
              "      <th>81</th>\n",
              "      <td>saga</td>\n",
              "      <td>10</td>\n",
              "      <td>100</td>\n",
              "      <td>NaN</td>\n",
              "      <td>l1</td>\n",
              "      <td>0.831188</td>\n",
              "      <td>17</td>\n",
              "    </tr>\n",
              "    <tr>\n",
              "      <th>106</th>\n",
              "      <td>saga</td>\n",
              "      <td>100</td>\n",
              "      <td>100</td>\n",
              "      <td>NaN</td>\n",
              "      <td>l2</td>\n",
              "      <td>0.831175</td>\n",
              "      <td>18</td>\n",
              "    </tr>\n",
              "    <tr>\n",
              "      <th>111</th>\n",
              "      <td>saga</td>\n",
              "      <td>100</td>\n",
              "      <td>100</td>\n",
              "      <td>NaN</td>\n",
              "      <td>l1</td>\n",
              "      <td>0.831175</td>\n",
              "      <td>18</td>\n",
              "    </tr>\n",
              "    <tr>\n",
              "      <th>76</th>\n",
              "      <td>saga</td>\n",
              "      <td>10</td>\n",
              "      <td>100</td>\n",
              "      <td>NaN</td>\n",
              "      <td>l2</td>\n",
              "      <td>0.831175</td>\n",
              "      <td>18</td>\n",
              "    </tr>\n",
              "  </tbody>\n",
              "</table>\n",
              "</div>"
            ],
            "text/plain": [
              "    param_solver param_C  ... mean_test_score  rank_test_score\n",
              "19           sag   0.001  ...        0.838012                1\n",
              "18     newton-cg   0.001  ...        0.838000                2\n",
              "16          saga   0.001  ...        0.838000                2\n",
              "15         lbfgs   0.001  ...        0.838000                2\n",
              "21          saga   0.001  ...        0.835500                5\n",
              "46          saga       1  ...        0.831275                6\n",
              "51          saga       1  ...        0.831263                7\n",
              "49           sag       1  ...        0.831263                7\n",
              "48     newton-cg       1  ...        0.831263                7\n",
              "45         lbfgs       1  ...        0.831263                7\n",
              "108    newton-cg     100  ...        0.831250               11\n",
              "105        lbfgs     100  ...        0.831250               11\n",
              "79           sag      10  ...        0.831237               13\n",
              "75         lbfgs      10  ...        0.831225               14\n",
              "78     newton-cg      10  ...        0.831225               14\n",
              "109          sag     100  ...        0.831200               16\n",
              "81          saga      10  ...        0.831188               17\n",
              "106         saga     100  ...        0.831175               18\n",
              "111         saga     100  ...        0.831175               18\n",
              "76          saga      10  ...        0.831175               18\n",
              "\n",
              "[20 rows x 7 columns]"
            ]
          },
          "metadata": {
            "tags": []
          },
          "execution_count": 16
        }
      ]
    },
    {
      "cell_type": "code",
      "metadata": {
        "id": "1pmxU6zkraz2",
        "colab_type": "code",
        "outputId": "ca5b7fd2-2f50-4285-eae9-62f8819ab28d",
        "colab": {
          "base_uri": "https://localhost:8080/",
          "height": 85
        }
      },
      "source": [
        "y_hat = regGridSearch.predict(X_test_scaled) # get test set precitions\n",
        "\n",
        "# now let's get the accuracy and confusion matrix for this iterations of training/testing\n",
        "acc = mt.accuracy_score(y_test,y_hat)\n",
        "conf = mt.confusion_matrix(y_test,y_hat)\n",
        "\n",
        "print(\"accuracy\", acc )\n",
        "print(\"confusion matrix\\n\",conf)"
      ],
      "execution_count": 17,
      "outputs": [
        {
          "output_type": "stream",
          "text": [
            "accuracy 0.83965\n",
            "confusion matrix\n",
            " [[14901   625]\n",
            " [ 2582  1892]]\n"
          ],
          "name": "stdout"
        }
      ]
    },
    {
      "cell_type": "code",
      "metadata": {
        "id": "EnDfa6wHBZWL",
        "colab_type": "code",
        "colab": {
          "base_uri": "https://localhost:8080/",
          "height": 204
        },
        "outputId": "5973f890-9ea6-41ba-bb9d-2fd274c92628"
      },
      "source": [
        "predictions2 = regGridSearch.predict(X_test)\n",
        "from sklearn.metrics import classification_report, confusion_matrix\n",
        "print(confusion_matrix(y_test, y_hat))\n",
        "print(classification_report(y_test, y_hat))"
      ],
      "execution_count": 19,
      "outputs": [
        {
          "output_type": "stream",
          "text": [
            "[[14901   625]\n",
            " [ 2582  1892]]\n",
            "              precision    recall  f1-score   support\n",
            "\n",
            "           0       0.85      0.96      0.90     15526\n",
            "           1       0.75      0.42      0.54      4474\n",
            "\n",
            "    accuracy                           0.84     20000\n",
            "   macro avg       0.80      0.69      0.72     20000\n",
            "weighted avg       0.83      0.84      0.82     20000\n",
            "\n"
          ],
          "name": "stdout"
        }
      ]
    },
    {
      "cell_type": "markdown",
      "metadata": {
        "id": "k6ZiT2noqgGS",
        "colab_type": "text"
      },
      "source": [
        "After running a grid search to uncover the top performing logistic regression hyperparameter combination, we are seeing that the accuracy score is close to our simple logistic regression model, however, it did come in slightly lower. \n",
        "\n",
        "The Simple Logistic Regression model was the winner with a C=1 which is less regularization than the grid search that called for a stronger regularization at C = 0.001. "
      ]
    },
    {
      "cell_type": "markdown",
      "metadata": {
        "colab_type": "text",
        "id": "iuBdzdM8nSjo"
      },
      "source": [
        "ROC Curves and AUC in Python\n",
        "https://machinelearningmastery.com/roc-curves-and-precision-recall-curves-for-classification-in-python/\n",
        "\n",
        "Since our accuracy was better was the better with our logistic regression model, we will use this in building an ROC curve to show how our model is performing. "
      ]
    },
    {
      "cell_type": "code",
      "metadata": {
        "id": "MNU1Kc-wraz8",
        "colab_type": "code",
        "outputId": "a2be53aa-b9dd-4e91-b9e3-aa7a3a0657b5",
        "colab": {
          "base_uri": "https://localhost:8080/",
          "height": 51
        }
      },
      "source": [
        "# predict probabilities\n",
        "lr_probs = simplelogisticRegr.predict_proba(X_test_scaled)\n",
        "ns_probs = [0 for _ in range(len(y_test))]\n",
        "# keep probabilities for the positive outcome only\n",
        "lr_probs = lr_probs[:, 1]\n",
        "# calculate scores\n",
        "ns_auc = roc_auc_score(y_test, ns_probs)\n",
        "lr_auc = roc_auc_score(y_test, lr_probs)\n",
        "# summarize scores\n",
        "print('No Skill: ROC AUC=%.3f' % (ns_auc))\n",
        "print('Logistic: ROC AUC=%.3f' % (lr_auc))\n",
        "# calculate roc curves\n",
        "ns_fpr, ns_tpr, _ = roc_curve(y_test, ns_probs)\n",
        "lr_fpr, lr_tpr, _ = roc_curve(y_test, lr_probs)"
      ],
      "execution_count": 23,
      "outputs": [
        {
          "output_type": "stream",
          "text": [
            "No Skill: ROC AUC=0.500\n",
            "Logistic: ROC AUC=0.813\n"
          ],
          "name": "stdout"
        }
      ]
    },
    {
      "cell_type": "code",
      "metadata": {
        "id": "lvPfcXa9raz_",
        "colab_type": "code",
        "outputId": "ccf96d73-0d3b-4388-f296-87c23290310b",
        "colab": {
          "base_uri": "https://localhost:8080/",
          "height": 285
        }
      },
      "source": [
        "# calculate roc curves\n",
        "ns_fpr, ns_tpr, _ = roc_curve(y_test, ns_probs)\n",
        "lr_fpr, lr_tpr, _ = roc_curve(y_test, lr_probs)\n",
        "# plot the roc curve for the model\n",
        "pyplot.plot(ns_fpr, ns_tpr, linestyle='--', label='No Skill')\n",
        "pyplot.plot(lr_fpr, lr_tpr, marker='.', label='Logistic')\n",
        "# axis labels\n",
        "pyplot.xlabel('False Positive Rate')\n",
        "pyplot.ylabel('True Positive Rate')\n",
        "# show the legend\n",
        "pyplot.legend()\n",
        "# show the plot\n",
        "pyplot.show()"
      ],
      "execution_count": 24,
      "outputs": [
        {
          "output_type": "display_data",
          "data": {
            "image/png": "[encoded data removed]",
            "text/plain": [
              "<Figure size 432x288 with 1 Axes>"
            ]
          },
          "metadata": {
            "tags": []
          }
        }
      ]
    },
    {
      "cell_type": "markdown",
      "metadata": {
        "id": "XsPBghgPsugq",
        "colab_type": "text"
      },
      "source": [
        "Looking at our true positive rate compared to false positive rate, with the diagonal line representing a 50% false positive rate, we can see that our model is producing more True positives than false positives. "
      ]
    },
    {
      "cell_type": "code",
      "metadata": {
        "colab_type": "code",
        "id": "kDI0MDSYnSj0",
        "colab": {}
      },
      "source": [
        "ywhiskcnt = y_test.apply(pd.value_counts)\n",
        "ycnt = ywhiskcnt.loc[1:1, :]"
      ],
      "execution_count": 0,
      "outputs": []
    },
    {
      "cell_type": "code",
      "metadata": {
        "colab_type": "code",
        "id": "egJSv8ZOnSj5",
        "outputId": "05f63af5-8183-4dfa-e448-0d3bde6b4d64",
        "colab": {
          "base_uri": "https://localhost:8080/",
          "height": 302
        }
      },
      "source": [
        "# predict probabilities\n",
        "lr_probs = simplelogisticRegr.predict_proba(X_test_scaled)\n",
        "# keep probabilities for the positive outcome only\n",
        "lr_probs = lr_probs[:, 1]\n",
        "# predict class values\n",
        "yhat = regGridSearch.predict(X_test_scaled)\n",
        "lr_precision, lr_recall, _ = precision_recall_curve(y_test, lr_probs)\n",
        "lr_f1, lr_auc = f1_score(y_test, yhat), auc(lr_recall, lr_precision)\n",
        "# summarize scores\n",
        "print('Logistic: f1=%.3f auc=%.3f' % (lr_f1, lr_auc))\n",
        "# plot the precision-recall curves\n",
        "ywhiskcnt = y_test.apply(pd.value_counts)\n",
        "ycnt = ywhiskcnt.loc[1:1, :]\n",
        "no_skill = ycnt.values[0] / len(y_test)\n",
        "#no_skill = len(y_test[y_test==1]) / len(y_test)\n",
        "no_skill\n",
        "#no_skill = 0.2\n",
        "pyplot.plot([0, 1], [no_skill, no_skill], linestyle='--', label='No Skill')\n",
        "pyplot.plot(lr_recall, lr_precision, marker='.', label='Logistic')\n",
        "# axis labels\n",
        "pyplot.xlabel('Recall')\n",
        "pyplot.ylabel('Precision')\n",
        "# show the legend\n",
        "pyplot.legend()\n",
        "# show the plot\n",
        "pyplot.show()"
      ],
      "execution_count": 26,
      "outputs": [
        {
          "output_type": "stream",
          "text": [
            "Logistic: f1=0.541 auc=0.504\n"
          ],
          "name": "stdout"
        },
        {
          "output_type": "display_data",
          "data": {
            "image/png": "[encoded data removed]",
            "text/plain": [
              "<Figure size 432x288 with 1 Axes>"
            ]
          },
          "metadata": {
            "tags": []
          }
        }
      ]
    },
    {
      "cell_type": "markdown",
      "metadata": {
        "id": "lhJSZKDgtn08",
        "colab_type": "text"
      },
      "source": [
        "Running a Precision/ Recall line plot, we can see that our model tends to lose precision as we get a higher recall, with the bottoming out of 0.5 precision and 0.2 being the point of spiking the performance. \n",
        "\n",
        "So essentially, it is saying that our model is better at predicting the correct line items that were whiskies than correctly discerning between whiskies and non whiskies. "
      ]
    },
    {
      "cell_type": "markdown",
      "metadata": {
        "colab_type": "text",
        "id": "dC7CCKAznSkt"
      },
      "source": [
        "#### Support Vector Machine Model 1:"
      ]
    },
    {
      "cell_type": "code",
      "metadata": {
        "id": "6AIn_2Sora0N",
        "colab_type": "code",
        "outputId": "99307c5e-bdcc-4add-bfcf-78c85ae7cbf6",
        "colab": {
          "base_uri": "https://localhost:8080/",
          "height": 139
        }
      },
      "source": [
        "%%time\n",
        "\n",
        "#possibility to scale it?\n",
        "from sklearn.svm import LinearSVC\n",
        "from sklearn import preprocessing\n",
        "X_train_scaled \n",
        "X_test_scaled \n",
        "#X_train = preprocessing.scale(X_train)\n",
        "#X_test = preprocessing.scale(X_test)\n",
        "\n",
        "# all parameters not specified are set to their defaults\n",
        "#https://stackabuse.com/implementing-svm-and-kernel-svm-with-pythons-scikit-learn/\n",
        "from sklearn.svm import SVC\n",
        "#svclassifier = SVC(kernel='poly', degree=8)\n",
        "#svclassifier = SVC(kernel='rbf')\n",
        "#svclassifier = SVC(kernel='linear', C = 1000, random_state=0)\n",
        "svclassifier = LinearSVC(C=100)\n",
        "model = svclassifier.fit(X_train_scaled,  y_train)\n",
        "model"
      ],
      "execution_count": 12,
      "outputs": [
        {
          "output_type": "stream",
          "text": [
            "/usr/local/lib/python3.6/dist-packages/sklearn/utils/validation.py:760: DataConversionWarning: A column-vector y was passed when a 1d array was expected. Please change the shape of y to (n_samples, ), for example using ravel().\n",
            "  y = column_or_1d(y, warn=True)\n"
          ],
          "name": "stderr"
        },
        {
          "output_type": "stream",
          "text": [
            "CPU times: user 18.3 s, sys: 0 ns, total: 18.3 s\n",
            "Wall time: 18.4 s\n"
          ],
          "name": "stdout"
        },
        {
          "output_type": "stream",
          "text": [
            "/usr/local/lib/python3.6/dist-packages/sklearn/svm/_base.py:947: ConvergenceWarning: Liblinear failed to converge, increase the number of iterations.\n",
            "  \"the number of iterations.\", ConvergenceWarning)\n"
          ],
          "name": "stderr"
        }
      ]
    },
    {
      "cell_type": "code",
      "metadata": {
        "id": "syBDZ4Tnra0Q",
        "colab_type": "code",
        "colab": {
          "base_uri": "https://localhost:8080/",
          "height": 340
        },
        "outputId": "f3f14499-1185-4486-8412-ccd2e73f8993"
      },
      "source": [
        "# Returns a NumPy Array\n",
        "predictions = svclassifier.predict(X_test_scaled)\n",
        "from sklearn.metrics import classification_report, confusion_matrix\n",
        "print(\"confusion matrix\\n\")\n",
        "print(confusion_matrix(y_test, predictions))\n",
        "print(\"\\nClassification report\\n\")\n",
        "print(classification_report(y_test, predictions))\n",
        "acc = mt.accuracy_score(y_test,predictions)\n",
        "print(\"\\naccuracy\\n\", acc )\n"
      ],
      "execution_count": 13,
      "outputs": [
        {
          "output_type": "stream",
          "text": [
            "confusion matrix\n",
            "\n",
            "[[14747   779]\n",
            " [ 2525  1949]]\n",
            "\n",
            "Classification report\n",
            "\n",
            "              precision    recall  f1-score   support\n",
            "\n",
            "           0       0.85      0.95      0.90     15526\n",
            "           1       0.71      0.44      0.54      4474\n",
            "\n",
            "    accuracy                           0.83     20000\n",
            "   macro avg       0.78      0.69      0.72     20000\n",
            "weighted avg       0.82      0.83      0.82     20000\n",
            "\n",
            "\n",
            "accuracy\n",
            " 0.8348\n"
          ],
          "name": "stdout"
        }
      ]
    },
    {
      "cell_type": "markdown",
      "metadata": {
        "id": "yRO9IorFD6A6",
        "colab_type": "text"
      },
      "source": [
        "For our Support Vector Machine, we were able to derive an 83% Accuracy with a precision of 85% and Recall of 95%. \n",
        "\n"
      ]
    },
    {
      "cell_type": "code",
      "metadata": {
        "id": "PZpn-RaXE9oI",
        "colab_type": "code",
        "colab": {
          "base_uri": "https://localhost:8080/",
          "height": 449
        },
        "outputId": "99b850fc-83c8-459e-f76f-c301d20f0e4d"
      },
      "source": [
        "# if using linear kernel, these make sense to look at (not otherwise, why?)\n",
        "print(svclassifier.coef_)\n",
        "weights = pd.Series(svclassifier.coef_[0],index=X.columns)\n",
        "weights.plot(kind='bar')"
      ],
      "execution_count": 19,
      "outputs": [
        {
          "output_type": "stream",
          "text": [
            "[[-0.61775368 -0.30898634  1.40374172  0.60365598 -0.31869447  0.27247933\n",
            "  -0.35229276]]\n"
          ],
          "name": "stdout"
        },
        {
          "output_type": "execute_result",
          "data": {
            "text/plain": [
              "<matplotlib.axes._subplots.AxesSubplot at 0x7fb832a53c50>"
            ]
          },
          "metadata": {
            "tags": []
          },
          "execution_count": 19
        },
        {
          "output_type": "display_data",
          "data": {
            "image/png": "[encoded data removed]",
            "text/plain": [
              "<Figure size 432x288 with 1 Axes>"
            ]
          },
          "metadata": {
            "tags": []
          }
        }
      ]
    },
    {
      "cell_type": "markdown",
      "metadata": {
        "id": "_EsEVp7IFH1Q",
        "colab_type": "text"
      },
      "source": [
        "Looking at the key values associated with driving the prediction classifier of whiskey vs non whiskey, we can see that the state bottle cost is the key factor in driving performance, followed by the sale amount of the transation which has a negative relationship to whether or not a sale was a whiskey."
      ]
    },
    {
      "cell_type": "markdown",
      "metadata": {
        "id": "uuxE-PliDowG",
        "colab_type": "text"
      },
      "source": [
        "#### SVM Classifier 2 (with Hyper Parameter Tuning)"
      ]
    },
    {
      "cell_type": "code",
      "metadata": {
        "id": "PzfDHSjiDnqZ",
        "colab_type": "code",
        "colab": {
          "base_uri": "https://localhost:8080/",
          "height": 68
        },
        "outputId": "52f37d28-23d4-4039-db08-4dd97599567a"
      },
      "source": [
        "from sklearn.svm import SVC\n",
        "from sklearn.preprocessing import StandardScaler\n",
        "\n",
        "# scale attributes by the training set\n",
        "scl_obj = StandardScaler()\n",
        "scl_obj.fit(X_train) # find scalings for each column that make this zero mean and unit std\n",
        "# the line of code above only looks at training data to get mean and std and we can use it \n",
        "# to transform new feature data\n",
        "\n",
        "X_train_scaled = scl_obj.transform(X_train) # apply to training\n",
        "X_test_scaled = scl_obj.transform(X_test)\n",
        "\n",
        "# train the model just as before\n",
        "svm_clf = SVC(C=0.5, kernel='rbf', degree=3, gamma='auto') # get object\n",
        "model3 = svm_clf.fit(X_train_scaled, y_train)  # train object\n",
        "model3\n",
        "\n",
        "y_hat = svm_clf.predict(X_test_scaled) # get test set precitions\n",
        "\n",
        "acc = mt.accuracy_score(y_test,y_hat)\n",
        "conf = mt.confusion_matrix(y_test,y_hat)\n",
        "print('accuracy:', acc )\n",
        "print(conf)"
      ],
      "execution_count": 38,
      "outputs": [
        {
          "output_type": "stream",
          "text": [
            "accuracy: 0.87355\n",
            "[[14485  1041]\n",
            " [ 1488  2986]]\n"
          ],
          "name": "stdout"
        }
      ]
    },
    {
      "cell_type": "code",
      "metadata": {
        "id": "s32GiA8NEIOV",
        "colab_type": "code",
        "colab": {
          "base_uri": "https://localhost:8080/",
          "height": 221
        },
        "outputId": "5f94cade-35db-4fe1-f9c2-4f104ab56cc6"
      },
      "source": [
        "print(\"\\nClassification report SVM Model 2 \\n\")\n",
        "print(classification_report(y_test,y_hat))"
      ],
      "execution_count": 16,
      "outputs": [
        {
          "output_type": "stream",
          "text": [
            "\n",
            "Classification report SVM Model 2 \n",
            "\n",
            "              precision    recall  f1-score   support\n",
            "\n",
            "           0       0.91      0.93      0.92     15526\n",
            "           1       0.74      0.67      0.70      4474\n",
            "\n",
            "    accuracy                           0.87     20000\n",
            "   macro avg       0.82      0.80      0.81     20000\n",
            "weighted avg       0.87      0.87      0.87     20000\n",
            "\n"
          ],
          "name": "stdout"
        }
      ]
    },
    {
      "cell_type": "markdown",
      "metadata": {
        "id": "tWHeJoWBEkvw",
        "colab_type": "text"
      },
      "source": [
        "With SVM Model 2, we attain the highest accuracy score with 87%, with alos the highest precision, recall and F1 Score achieved with our model. The SVM CLF will be the model we chose in our interpretation. "
      ]
    },
    {
      "cell_type": "code",
      "metadata": {
        "id": "5USCaQW_ra0S",
        "colab_type": "code",
        "colab": {
          "base_uri": "https://localhost:8080/",
          "height": 68
        },
        "outputId": "ad9f0dec-ecff-4d2d-fab4-32a9e636343f"
      },
      "source": [
        "# look at the support vectors\n",
        "print(svm_clf.support_vectors_.shape)\n",
        "print(svm_clf.support_.shape)\n",
        "print(svm_clf.n_support_ )"
      ],
      "execution_count": 17,
      "outputs": [
        {
          "output_type": "stream",
          "text": [
            "(24104, 7)\n",
            "(24104,)\n",
            "[12107 11997]\n"
          ],
          "name": "stdout"
        }
      ]
    },
    {
      "cell_type": "markdown",
      "metadata": {
        "id": "IGMJSwdCra0Z",
        "colab_type": "text"
      },
      "source": [
        "So the analysis here is basically telling us what the original statistics of the data looked like, and also what the statistics of the support vectors looked like. We can see that the separation in distributions is not as great as the separation for the original data. This is because the support vectors tend to be instances on the edge of the class boundaries and also instances that are classified incorrectly in the training data.\n",
        "\n",
        "You can also look at joint plots of the data and see how relationships have changed."
      ]
    },
    {
      "cell_type": "markdown",
      "metadata": {
        "id": "4tgMvzB_ra0a",
        "colab_type": "text"
      },
      "source": [
        "### SGD (\"Simple\" Model)"
      ]
    },
    {
      "cell_type": "code",
      "metadata": {
        "id": "HFzmNkUOra0c",
        "colab_type": "code",
        "outputId": "0e764517-aa02-4eca-fa95-46cbfb7b897c",
        "colab": {
          "base_uri": "https://localhost:8080/",
          "height": 51
        }
      },
      "source": [
        "%%time\n",
        "# now divide the data into test and train using scikit learn built-ins\n",
        "\n",
        "cv = StratifiedShuffleSplit( n_splits=1,test_size=0.8)\n",
        "# use some compact notation for creating a linear SVM classifier with stochastic descent\n",
        "\n",
        "regularize_const = 0.1\n",
        "iterations = 5\n",
        "\n",
        "# use some compact notation for creating a logistic regression classifier with stochastic descent\n",
        "log_sgd = SGDClassifier(alpha=regularize_const,\n",
        "        fit_intercept=True, l1_ratio=0.0, learning_rate='optimal',\n",
        "        loss='log', n_iter_no_change=iterations, n_jobs=-1, penalty='l2')\n",
        "\n",
        "scl = StandardScaler()"
      ],
      "execution_count": 26,
      "outputs": [
        {
          "output_type": "stream",
          "text": [
            "CPU times: user 1.36 ms, sys: 0 ns, total: 1.36 ms\n",
            "Wall time: 4.46 ms\n"
          ],
          "name": "stdout"
        }
      ]
    },
    {
      "cell_type": "code",
      "metadata": {
        "id": "gtuVvh1bra0f",
        "colab_type": "code",
        "outputId": "52407877-bf92-45cd-93bf-56119afe1f54",
        "colab": {
          "base_uri": "https://localhost:8080/",
          "height": 89
        }
      },
      "source": [
        "for train_idx, test_idx in cv.split(X,y):\n",
        "    log_sgd.fit(scl.fit_transform(X.iloc[train_idx]),y.iloc[train_idx])\n",
        "    yhat2 = log_sgd.predict(scl.transform(X.iloc[test_idx]))\n",
        "    \n",
        "    conf = mt.confusion_matrix(y.iloc[test_idx],yhat2)\n",
        "    acc = mt.accuracy_score(y.iloc[test_idx],yhat2)\n",
        "\n",
        "print('Logistic Regression:', acc)"
      ],
      "execution_count": 30,
      "outputs": [
        {
          "output_type": "stream",
          "text": [
            "Logistic Regression: 0.8074125\n"
          ],
          "name": "stdout"
        },
        {
          "output_type": "stream",
          "text": [
            "/usr/local/lib/python3.6/dist-packages/sklearn/utils/validation.py:760: DataConversionWarning: A column-vector y was passed when a 1d array was expected. Please change the shape of y to (n_samples, ), for example using ravel().\n",
            "  y = column_or_1d(y, warn=True)\n"
          ],
          "name": "stderr"
        }
      ]
    },
    {
      "cell_type": "code",
      "metadata": {
        "id": "PiKuDrFira0j",
        "colab_type": "code",
        "outputId": "a7d7216a-340f-4d81-ac38-10c72c80bf60",
        "colab": {
          "base_uri": "https://localhost:8080/",
          "height": 52
        }
      },
      "source": [
        "conf"
      ],
      "execution_count": 31,
      "outputs": [
        {
          "output_type": "execute_result",
          "data": {
            "text/plain": [
              "array([[60702,  1182],\n",
              "       [14225,  3891]])"
            ]
          },
          "metadata": {
            "tags": []
          },
          "execution_count": 31
        }
      ]
    },
    {
      "cell_type": "markdown",
      "metadata": {
        "id": "2MRoMK7RG1fk",
        "colab_type": "text"
      },
      "source": [
        "Of all our models, the SGD \"simple\" model had the worst accuracy score of 80%. "
      ]
    },
    {
      "cell_type": "markdown",
      "metadata": {
        "id": "aDdX6drTvR9a",
        "colab_type": "text"
      },
      "source": [
        "### SGD 2 (with parameterization testing)\n",
        "\n",
        "With this parameterization tuning set, we will run a hyper-parameter fitting model called Parfit. "
      ]
    },
    {
      "cell_type": "code",
      "metadata": {
        "id": "wzrjOwATxnRh",
        "colab_type": "code",
        "outputId": "309fbe3f-87e5-41fc-e035-dcf84d08cf2c",
        "colab": {
          "base_uri": "https://localhost:8080/",
          "height": 394
        }
      },
      "source": [
        "#pip install parfit"
      ],
      "execution_count": 0,
      "outputs": [
        {
          "output_type": "stream",
          "text": [
            "Collecting parfit\n",
            "  Downloading https://files.pythonhosted.org/packages/08/60/8090b25f914c91914e8bb5c87819bfe52cead06b6d1a557f20afbe62c1ec/parfit-0.220.tar.gz\n",
            "Requirement already satisfied: joblib in /usr/local/lib/python3.6/dist-packages (from parfit) (0.14.1)\n",
            "Requirement already satisfied: matplotlib in /usr/local/lib/python3.6/dist-packages (from parfit) (3.1.3)\n",
            "Requirement already satisfied: sklearn in /usr/local/lib/python3.6/dist-packages (from parfit) (0.0)\n",
            "Requirement already satisfied: numpy in /usr/local/lib/python3.6/dist-packages (from parfit) (1.17.5)\n",
            "Requirement already satisfied: cycler>=0.10 in /usr/local/lib/python3.6/dist-packages (from matplotlib->parfit) (0.10.0)\n",
            "Requirement already satisfied: pyparsing!=2.0.4,!=2.1.2,!=2.1.6,>=2.0.1 in /usr/local/lib/python3.6/dist-packages (from matplotlib->parfit) (2.4.6)\n",
            "Requirement already satisfied: python-dateutil>=2.1 in /usr/local/lib/python3.6/dist-packages (from matplotlib->parfit) (2.6.1)\n",
            "Requirement already satisfied: kiwisolver>=1.0.1 in /usr/local/lib/python3.6/dist-packages (from matplotlib->parfit) (1.1.0)\n",
            "Requirement already satisfied: scikit-learn in /usr/local/lib/python3.6/dist-packages (from sklearn->parfit) (0.22.1)\n",
            "Requirement already satisfied: six in /usr/local/lib/python3.6/dist-packages (from cycler>=0.10->matplotlib->parfit) (1.12.0)\n",
            "Requirement already satisfied: setuptools in /usr/local/lib/python3.6/dist-packages (from kiwisolver>=1.0.1->matplotlib->parfit) (45.1.0)\n",
            "Requirement already satisfied: scipy>=0.17.0 in /usr/local/lib/python3.6/dist-packages (from scikit-learn->sklearn->parfit) (1.4.1)\n",
            "Building wheels for collected packages: parfit\n",
            "  Building wheel for parfit (setup.py) ... \u001b[?25l\u001b[?25hdone\n",
            "  Created wheel for parfit: filename=parfit-0.220-cp36-none-any.whl size=8660 sha256=9692a86beca86a6afc06600eb96cf9c599167d250045bf3923eb1119c6b6f205\n",
            "  Stored in directory: /root/.cache/pip/wheels/d9/8a/c9/ed86e85ad0cb41ce2fdcb6bc215902dc475bd3fb1fef7c742d\n",
            "Successfully built parfit\n",
            "Installing collected packages: parfit\n",
            "Successfully installed parfit-0.220\n"
          ],
          "name": "stdout"
        }
      ]
    },
    {
      "cell_type": "code",
      "metadata": {
        "id": "72Uc333JvU3M",
        "colab_type": "code",
        "outputId": "974ade96-c4c3-42d8-b0ad-9762d5f43def",
        "colab": {
          "base_uri": "https://localhost:8080/",
          "height": 1000
        }
      },
      "source": [
        "from sklearn.model_selection import ParameterGrid\n",
        "from sklearn.linear_model import LogisticRegression\n",
        "from sklearn.metrics import roc_auc_score\n",
        "import parfit.parfit as pf\n",
        "\n",
        "grid = {\n",
        "    'alpha': [1e-4, 1e-3, 1e-2, 1e-1, 1e0, 1e1, 1e2, 1e3], # learning rate\n",
        "   # 'n_iter': [1000], # number of epochs\n",
        "    'loss': ['log'], # logistic regression,\n",
        "    'penalty': ['l2'],\n",
        "    'n_jobs': [-1]\n",
        "}\n",
        "\n",
        "paramGrid = ParameterGrid(grid)\n",
        "\n",
        "bestModel = pf.bestFit(SGDClassifier, paramGrid,\n",
        "           X_train, y_train, X_test, y_test, \n",
        "           metric = roc_auc_score, \n",
        "           scoreLabel = \"AUC\")\n",
        "\n",
        "print(bestModel)\n",
        "\n",
        "#Perform hyperparameter search to find the best combination of parameters for our data\n"
      ],
      "execution_count": 33,
      "outputs": [
        {
          "output_type": "stream",
          "text": [
            "-------------FITTING MODELS-------------\n"
          ],
          "name": "stdout"
        },
        {
          "output_type": "stream",
          "text": [
            "[Parallel(n_jobs=-1)]: Using backend LokyBackend with 2 concurrent workers.\n",
            "[Parallel(n_jobs=-1)]: Done   1 tasks      | elapsed:   13.5s\n",
            "[Parallel(n_jobs=-1)]: Done   4 tasks      | elapsed:   17.6s\n",
            "[Parallel(n_jobs=-1)]: Done   6 out of   8 | elapsed:   18.3s remaining:    6.1s\n",
            "[Parallel(n_jobs=-1)]: Done   8 out of   8 | elapsed:   21.5s remaining:    0.0s\n",
            "[Parallel(n_jobs=-1)]: Done   8 out of   8 | elapsed:   21.5s finished\n",
            "[Parallel(n_jobs=-1)]: Using backend LokyBackend with 2 concurrent workers.\n",
            "[Parallel(n_jobs=-1)]: Done   8 out of   8 | elapsed:    0.1s finished\n"
          ],
          "name": "stderr"
        },
        {
          "output_type": "stream",
          "text": [
            "-------------SCORING MODELS-------------\n"
          ],
          "name": "stdout"
        },
        {
          "output_type": "display_data",
          "data": {
            "image/png": "[encoded data removed]",
            "text/plain": [
              "<Figure size 432x432 with 1 Axes>"
            ]
          },
          "metadata": {
            "tags": []
          }
        },
        {
          "output_type": "stream",
          "text": [
            "(SGDClassifier(alpha=0.0001, average=False, class_weight=None,\n",
            "              early_stopping=False, epsilon=0.1, eta0=0.0, fit_intercept=True,\n",
            "              l1_ratio=0.15, learning_rate='optimal', loss='log', max_iter=1000,\n",
            "              n_iter_no_change=5, n_jobs=-1, penalty='l2', power_t=0.5,\n",
            "              random_state=None, shuffle=True, tol=0.001,\n",
            "              validation_fraction=0.1, verbose=0, warm_start=False), 0.84673776193031, [SGDClassifier(alpha=0.0001, average=False, class_weight=None,\n",
            "              early_stopping=False, epsilon=0.1, eta0=0.0, fit_intercept=True,\n",
            "              l1_ratio=0.15, learning_rate='optimal', loss='log', max_iter=1000,\n",
            "              n_iter_no_change=5, n_jobs=-1, penalty='l2', power_t=0.5,\n",
            "              random_state=None, shuffle=True, tol=0.001,\n",
            "              validation_fraction=0.1, verbose=0, warm_start=False), SGDClassifier(alpha=0.001, average=False, class_weight=None,\n",
            "              early_stopping=False, epsilon=0.1, eta0=0.0, fit_intercept=True,\n",
            "              l1_ratio=0.15, learning_rate='optimal', loss='log', max_iter=1000,\n",
            "              n_iter_no_change=5, n_jobs=-1, penalty='l2', power_t=0.5,\n",
            "              random_state=None, shuffle=True, tol=0.001,\n",
            "              validation_fraction=0.1, verbose=0, warm_start=False), SGDClassifier(alpha=0.01, average=False, class_weight=None,\n",
            "              early_stopping=False, epsilon=0.1, eta0=0.0, fit_intercept=True,\n",
            "              l1_ratio=0.15, learning_rate='optimal', loss='log', max_iter=1000,\n",
            "              n_iter_no_change=5, n_jobs=-1, penalty='l2', power_t=0.5,\n",
            "              random_state=None, shuffle=True, tol=0.001,\n",
            "              validation_fraction=0.1, verbose=0, warm_start=False), SGDClassifier(alpha=0.1, average=False, class_weight=None, early_stopping=False,\n",
            "              epsilon=0.1, eta0=0.0, fit_intercept=True, l1_ratio=0.15,\n",
            "              learning_rate='optimal', loss='log', max_iter=1000,\n",
            "              n_iter_no_change=5, n_jobs=-1, penalty='l2', power_t=0.5,\n",
            "              random_state=None, shuffle=True, tol=0.001,\n",
            "              validation_fraction=0.1, verbose=0, warm_start=False), SGDClassifier(alpha=1.0, average=False, class_weight=None, early_stopping=False,\n",
            "              epsilon=0.1, eta0=0.0, fit_intercept=True, l1_ratio=0.15,\n",
            "              learning_rate='optimal', loss='log', max_iter=1000,\n",
            "              n_iter_no_change=5, n_jobs=-1, penalty='l2', power_t=0.5,\n",
            "              random_state=None, shuffle=True, tol=0.001,\n",
            "              validation_fraction=0.1, verbose=0, warm_start=False), SGDClassifier(alpha=10.0, average=False, class_weight=None,\n",
            "              early_stopping=False, epsilon=0.1, eta0=0.0, fit_intercept=True,\n",
            "              l1_ratio=0.15, learning_rate='optimal', loss='log', max_iter=1000,\n",
            "              n_iter_no_change=5, n_jobs=-1, penalty='l2', power_t=0.5,\n",
            "              random_state=None, shuffle=True, tol=0.001,\n",
            "              validation_fraction=0.1, verbose=0, warm_start=False), SGDClassifier(alpha=100.0, average=False, class_weight=None,\n",
            "              early_stopping=False, epsilon=0.1, eta0=0.0, fit_intercept=True,\n",
            "              l1_ratio=0.15, learning_rate='optimal', loss='log', max_iter=1000,\n",
            "              n_iter_no_change=5, n_jobs=-1, penalty='l2', power_t=0.5,\n",
            "              random_state=None, shuffle=True, tol=0.001,\n",
            "              validation_fraction=0.1, verbose=0, warm_start=False), SGDClassifier(alpha=1000.0, average=False, class_weight=None,\n",
            "              early_stopping=False, epsilon=0.1, eta0=0.0, fit_intercept=True,\n",
            "              l1_ratio=0.15, learning_rate='optimal', loss='log', max_iter=1000,\n",
            "              n_iter_no_change=5, n_jobs=-1, penalty='l2', power_t=0.5,\n",
            "              random_state=None, shuffle=True, tol=0.001,\n",
            "              validation_fraction=0.1, verbose=0, warm_start=False)], [0.84673776193031, 0.8383990017523493, 0.8275292944518463, 0.765409880183678, 0.7646900614776224, 0.7447586225502252, 0.614817288329018, 0.6007201224634744])\n"
          ],
          "name": "stdout"
        }
      ]
    },
    {
      "cell_type": "code",
      "metadata": {
        "id": "ZJg7hzIswFtW",
        "colab_type": "code",
        "colab": {}
      },
      "source": [
        "\n",
        "# use some compact notation for creating a logistic regression classifier with stochastic descent\n",
        "log_sgd2 = SGDClassifier(alpha=0.0001, average=False, class_weight=None,\n",
        "              early_stopping=False, epsilon=0.1, eta0=0.0, fit_intercept=True,\n",
        "              l1_ratio=0.15, learning_rate='optimal', loss='log', max_iter=1000,\n",
        "              n_iter_no_change=5, n_jobs=-1, penalty='l2', power_t=0.5,\n",
        "              random_state=None, shuffle=True, tol=0.001,\n",
        "              validation_fraction=0.1, verbose=0, warm_start=False)"
      ],
      "execution_count": 0,
      "outputs": []
    },
    {
      "cell_type": "code",
      "metadata": {
        "id": "iR4sQbPjwBvD",
        "colab_type": "code",
        "outputId": "fc208363-7a23-49c3-9e6a-6d224005a59c",
        "colab": {
          "base_uri": "https://localhost:8080/",
          "height": 68
        }
      },
      "source": [
        "model2 = log_sgd2.fit(scl.fit_transform(X.iloc[train_idx]),y.iloc[train_idx])\n",
        "\n",
        "for train_idx, test_idx in cv.split(X,y):\n",
        "    log_sgd2.fit(scl.fit_transform(X.iloc[train_idx]),y.iloc[train_idx])\n",
        "    yhat = log_sgd2.predict(scl.transform(X.iloc[test_idx]))\n",
        "    \n",
        "    conf = mt.confusion_matrix(y.iloc[test_idx],yhat)\n",
        "    acc = mt.accuracy_score(y.iloc[test_idx],yhat)\n",
        "\n",
        "print('Logistic Regression:', acc)\n",
        "print('Confusion Matrix: ', conf)"
      ],
      "execution_count": 35,
      "outputs": [
        {
          "output_type": "stream",
          "text": [
            "Logistic Regression: 0.8522625\n",
            "Confusion Matrix:  [[59177  2707]\n",
            " [ 9112  9004]]\n"
          ],
          "name": "stdout"
        }
      ]
    },
    {
      "cell_type": "markdown",
      "metadata": {
        "id": "C3lgvVqN0BXO",
        "colab_type": "text"
      },
      "source": [
        "After installing and running the Hyper-Parameter Optimization using parfit (https://towardsdatascience.com/how-to-make-sgd-classifier-perform-as-well-as-logistic-regression-using-parfit-cc10bca2d3c4), we can see that we improved upon our original Stochastic Gradient Descent Model with an accuracy score of 85.22%\n",
        "\n",
        "This SGD and the Tuned SVM model will be the ones we use moving forward. "
      ]
    },
    {
      "cell_type": "markdown",
      "metadata": {
        "colab_type": "text",
        "id": "GDyKKT0mnSmE"
      },
      "source": [
        "### Advantages  [10 points] \n",
        "Discuss the advantages of each model for each classification task. Does one\n",
        "type of model offer superior performance over another in terms of prediction accuracy? In\n",
        "terms of training time or efficiency? Explain in detail. \n",
        "\n",
        "#### Logistic Regression\n",
        "* Advantages - There is less transformation needed in order to make the model return in a reasonable amount of time. Scaler transformation will increase the accuracy, but is not required for peroformance as the model performs well at scale regardless of whether the data is normalized or not. \n",
        "* Performance - There are many different setting that allow the model to have the best possible accuracy. These methods can be iterated with a grid search method. \n",
        "*  Training Time efficiency is very good at large scales and does not suffer as volume of data increases.\n",
        "\n",
        "#### Support Vector Machine\n",
        "* Advantages - From Tan book Chapter 5 - A classification technique that has received considerable attention is support vector machine (SVM). This technique has its roots in statistical learning theory and has shown promising empirical results in many practical applications, from handwritten digit recognition to text categorization. SVM also works very well with high-dimensional data and avoids the curse of dimensionality problem. Another unique aspect of this approach is that it represents the decision boundary using a subset of the training examples, known as the support vectors.  \n",
        " However, in order to get high accuracy scaling and high penalties must be set to achieve accuracy with unbalanced data. \n",
        "* Performance - Changing the cost to value 1000, after previously using 1, 10, and 100 the performance of prediciton accuracy improves over that of logistic regession.  In order to get a result in a similiar amount of time as logistic regression accuracy is sacrficed. \n",
        "* Training Time\n",
        "    * Slow with large data volume and features\n",
        "    * Transformation of data helps\n",
        "    * Very slow with high cost.\n",
        "\n",
        "#### Stochastic Gradiant Descent\n",
        "* Advantages - The design of Stochastic Gradient Smith is set up that it only considers a single randonm point in the stochastic array, and changes weights to classify values. The advantage of running stochastic gradient descent is that it runs much quicker than a gradient descent model, which can take hours / days to run. \n",
        "* Performance - While a single stochastic gradient descent model didn't perform better than any of the previous models we ran, we were able to install and run a Parameter Fit, which acted as a grid search to help us choose the optimal hyper parameters. Doing this improved our SGD performace to 83.5% accuracy. \n",
        "   \n",
        "    \n",
        "\n",
        "#### Conclusion\n",
        "The logistic regression provides a way to quickly get to a model, though has less accuracy when compared to SVM.  SVM is very accurate while its performance degrades very quickly with large volumes of data with rows and also with a large number of features. \n"
      ]
    },
    {
      "cell_type": "markdown",
      "metadata": {
        "colab_type": "text",
        "id": "VX-oO4qOnSmF"
      },
      "source": [
        "###  Interpret  [30 points] \n",
        "Use the weights from logistic regression to interpret the importance of different\n",
        "features for the classification task. Explain your interpretation in detail. Why do you think\n",
        "some variables are more important? \n",
        "\n",
        "The two fields \"Average of cost_per_liter_trans\" and \"Average of state_bottle_cost_trans\" seem to have the highest coeficients on the logistic regression model. \n",
        "\n",
        "Type\t     Average of cost_per_liter_trans\tAverage of state_bottle_cost_trans\n",
        "Not Whiskey\t 2.675545886\t                    1.999205623\n",
        "Whiskey      3.545918698\t                    2.871239458\n",
        "\n",
        "Add a t-test to show they are significantly different averages? \n",
        "\n",
        "The model seems to point out that price is the largest differentiator of the available characteristics. Whiskey is more expensive than other liquors. A higher cost per bottle can be used to identify whether a trancation was Whiskey or not. Other numeric features that are present represent bottle size and quanities of bottles sold. Since bottle sizes are fairly standard across the different types of liquors and quantity sold are well balanced across the liquor types and Whiskey is in the middle of the pack for these measures they do not have as much impact."
      ]
    },
    {
      "cell_type": "code",
      "metadata": {
        "colab_type": "code",
        "id": "Ye0EUAwn19qH",
        "outputId": "5bd0a063-0d74-473d-f23d-5b04a4f43dca",
        "colab": {
          "base_uri": "https://localhost:8080/",
          "height": 136
        }
      },
      "source": [
        "# interpret the weights\n",
        "# iterate over the coefficients\n",
        "weights2 = simplelogisticRegr.coef_.T # take transpose to make a column vector\n",
        "variable_names = X.columns\n",
        "for coef, name in zip(weights2,variable_names):\n",
        "    print(name, 'has weight of', coef[0])\n",
        "    \n",
        "# does this look correct? "
      ],
      "execution_count": 36,
      "outputs": [
        {
          "output_type": "stream",
          "text": [
            "sale_dollars_trans has weight of 0.34603288527153814\n",
            "cost_per_liter_trans has weight of -0.5570681640419652\n",
            "state_bottle_cost_trans has weight of 2.2556112412433813\n",
            "bottles_sold_trans has weight of -1.3049015086027895\n",
            "volume_sold_liters_trans has weight of 0.9031010497745309\n",
            "pack has weight of -0.04838378311713963\n",
            "bottle_volume_ml has weight of -0.004374009131824404\n"
          ],
          "name": "stdout"
        }
      ]
    },
    {
      "cell_type": "code",
      "metadata": {
        "colab_type": "code",
        "id": "NFTKvdcf2DyB",
        "outputId": "b47cb0f3-aca9-4d28-ccf8-c4f5ab08081e",
        "colab": {
          "base_uri": "https://localhost:8080/",
          "height": 394
        }
      },
      "source": [
        "# now let's make a pandas Series with the names and values, and plot them\n",
        "%matplotlib inline\n",
        "plt.style.use('ggplot')\n",
        "\n",
        "\n",
        "weights = pd.Series(simplelogisticRegr.coef_[0],index=X.columns)\n",
        "weights.plot(kind='bar')\n",
        "plt.show()"
      ],
      "execution_count": 37,
      "outputs": [
        {
          "output_type": "display_data",
          "data": {
            "image/png": "[encoded data removed]",
            "text/plain": [
              "<Figure size 432x288 with 1 Axes>"
            ]
          },
          "metadata": {
            "tags": []
          }
        }
      ]
    },
    {
      "cell_type": "markdown",
      "metadata": {
        "colab_type": "text",
        "id": "yVHNEFrTnSmG"
      },
      "source": [
        "### Insight into the data [10 points]\n",
        "Look at the chosen support vectors for the classification task. Do these provide\n",
        "any insight into the data? Explain. If you used stochastic gradient descent (and therefore did\n",
        "not explicitly solve for support vectors), try subsampling your data to train the SVC model—\n",
        "then analyze the support vectors from the subsampled dataset. "
      ]
    },
    {
      "cell_type": "code",
      "metadata": {
        "colab_type": "code",
        "id": "OXMl4cgmnSmH",
        "outputId": "66ed5498-621c-41cd-b24d-a6c10950489a",
        "colab": {
          "base_uri": "https://localhost:8080/",
          "height": 238
        }
      },
      "source": [
        "#view support vectors\n",
        "svm_clf.support_vectors_"
      ],
      "execution_count": 39,
      "outputs": [
        {
          "output_type": "execute_result",
          "data": {
            "text/plain": [
              "array([[ 0.04172852,  1.1229617 ,  1.28352278, ..., -0.66089127,\n",
              "        -0.70389697, -0.26280584],\n",
              "       [ 0.32837353,  0.21578964,  0.29396518, ...,  0.13752377,\n",
              "        -0.70389697, -0.26280584],\n",
              "       [ 0.68132163,  0.68644563,  0.80744936, ...,  0.13752377,\n",
              "        -0.02330599, -0.26280584],\n",
              "       ...,\n",
              "       [-1.44503576, -0.85963717, -0.7941836 , ..., -0.66089127,\n",
              "        -0.02330599, -0.26280584],\n",
              "       [ 0.19106698, -0.7808375 , -0.7941836 , ...,  0.64126757,\n",
              "        -0.02330599, -0.26280584],\n",
              "       [ 0.68979404,  0.69774358,  0.81953947, ...,  0.13752377,\n",
              "        -0.70389697, -0.26280584]])"
            ]
          },
          "metadata": {
            "tags": []
          },
          "execution_count": 39
        }
      ]
    },
    {
      "cell_type": "code",
      "metadata": {
        "colab_type": "code",
        "id": "L2A_wTYZ1p7X",
        "outputId": "5eb9d8dd-0e26-440b-a9e3-516180cd75f2",
        "colab": {
          "base_uri": "https://localhost:8080/",
          "height": 34
        }
      },
      "source": [
        "# View indicies of support vectors\n",
        "svm_clf.support_"
      ],
      "execution_count": 40,
      "outputs": [
        {
          "output_type": "execute_result",
          "data": {
            "text/plain": [
              "array([    0,     8,     9, ..., 79976, 79984, 79987], dtype=int32)"
            ]
          },
          "metadata": {
            "tags": []
          },
          "execution_count": 40
        }
      ]
    },
    {
      "cell_type": "markdown",
      "metadata": {
        "colab_type": "text",
        "id": "qxAYjH4AWOmK"
      },
      "source": [
        "This chooses all the misclassified items as a support vectors."
      ]
    },
    {
      "cell_type": "code",
      "metadata": {
        "colab_type": "code",
        "id": "mHkRqABz1zz2",
        "outputId": "86496eef-7d9e-41c2-97cc-09f38e57e384",
        "colab": {
          "base_uri": "https://localhost:8080/",
          "height": 34
        }
      },
      "source": [
        "#view number of support vectors for each class\n",
        "svm_clf.n_support_"
      ],
      "execution_count": 41,
      "outputs": [
        {
          "output_type": "execute_result",
          "data": {
            "text/plain": [
              "array([12107, 11997], dtype=int32)"
            ]
          },
          "metadata": {
            "tags": []
          },
          "execution_count": 41
        }
      ]
    },
    {
      "cell_type": "markdown",
      "metadata": {
        "colab_type": "text",
        "id": "d4XKEUr0WVPU"
      },
      "source": [
        "We used 12,000 instances of Whiskey and Nonwhiskey to build our decision boundary."
      ]
    },
    {
      "cell_type": "code",
      "metadata": {
        "colab_type": "code",
        "id": "aPO1D6PsWd0P",
        "outputId": "c54c7a6f-d911-49e4-fe1e-6664bf13b061",
        "colab": {
          "base_uri": "https://localhost:8080/",
          "height": 449
        }
      },
      "source": [
        "# if using linear kernel, these make sense to look at (not otherwise, why?)\n",
        "print(model.coef_)\n",
        "weights3 = pd.Series(model.coef_[0],index=X_train.columns)\n",
        "weights3.plot(kind='bar')"
      ],
      "execution_count": 43,
      "outputs": [
        {
          "output_type": "stream",
          "text": [
            "[[-0.61775368 -0.30898634  1.40374172  0.60365598 -0.31869447  0.27247933\n",
            "  -0.35229276]]\n"
          ],
          "name": "stdout"
        },
        {
          "output_type": "execute_result",
          "data": {
            "text/plain": [
              "<matplotlib.axes._subplots.AxesSubplot at 0x7fb83130b390>"
            ]
          },
          "metadata": {
            "tags": []
          },
          "execution_count": 43
        },
        {
          "output_type": "display_data",
          "data": {
            "image/png": "[encoded data removed]",
            "text/plain": [
              "<Figure size 432x288 with 1 Axes>"
            ]
          },
          "metadata": {
            "tags": []
          }
        }
      ]
    },
    {
      "cell_type": "markdown",
      "metadata": {
        "id": "uNo5j26LKCD_",
        "colab_type": "text"
      },
      "source": [
        "Next we are going to make a stratified shuffle split by plotting our SVC models."
      ]
    },
    {
      "cell_type": "code",
      "metadata": {
        "id": "Us7Mt_R3KBV-",
        "colab_type": "code",
        "colab": {}
      },
      "source": [
        "from sklearn.model_selection import StratifiedShuffleSplit\n",
        "from sklearn import metrics as mt\n",
        "\n",
        "# we want to predict the X and y data as follows:\n",
        "if 'liquor_category_WHISKY' in data_final:\n",
        "    y = data_final['liquor_category_WHISKY'].values # get the labels we want\n",
        "    del data_final['liquor_category_WHISKY'] # get rid of the class label\n",
        "    X = data_final.values # use everything else to predict!\n",
        "\n",
        "num_cv_iterations = 3\n",
        "num_instances = len(y)\n",
        "cv_object = ShuffleSplit(n_splits = num_cv_iterations, \n",
        "                            test_size = 0.20, train_size = 0.80, random_state=1)\n",
        "\n",
        "for train_indices, test_indices in cv_object.split(X,y): \n",
        "    # I will create new variables here so that it is more obvious what \n",
        "    # the code is doing (you can compact this syntax and avoid duplicating memory,\n",
        "    # but it makes this code less readable)\n",
        "    X_train = X[train_indices]\n",
        "    y_train = y[train_indices]\n",
        "    \n",
        "    X_test = X[test_indices]\n",
        "    y_test = y[test_indices]"
      ],
      "execution_count": 0,
      "outputs": []
    },
    {
      "cell_type": "markdown",
      "metadata": {
        "id": "zvfo-WryKiDE",
        "colab_type": "text"
      },
      "source": [
        "Now that we established our new training and testing indicies, let's run it against our top performing SVC CLF model (the one that got 87% accuracy)."
      ]
    },
    {
      "cell_type": "code",
      "metadata": {
        "id": "GswE8eMgKJlR",
        "colab_type": "code",
        "colab": {
          "base_uri": "https://localhost:8080/",
          "height": 462
        },
        "outputId": "cd10e7e4-9968-4e52-b1af-213f3b00d415"
      },
      "source": [
        "# Now let's do some different analysis with the SVM and look at the instances that were chosen as support vectors\n",
        "\n",
        "# now lets look at the support for the vectors and see if we they are indicative of anything\n",
        "# grabe the rows that were selected as support vectors (these are usually instances that are hard to classify)\n",
        "\n",
        "# make a dataframe of the training data\n",
        "df_tested_on = data_final.iloc[train_indices].copy() # saved from above, the indices chosen for training\n",
        "# now get the support vectors from the trained model\n",
        "df_support = df_tested_on.iloc[svm_clf.support_,:]\n",
        "\n",
        "df_support['liquor_category_WHISKY'] = y[svm_clf.support_] # add back in the 'Survived' Column to the pandas dataframe\n",
        "data_final['liquor_category_WHISKY'] = y # also add it back in for the original data\n",
        "df_support.info()"
      ],
      "execution_count": 48,
      "outputs": [
        {
          "output_type": "stream",
          "text": [
            "<class 'pandas.core.frame.DataFrame'>\n",
            "Int64Index: 24104 entries, 9121 to 69667\n",
            "Data columns (total 8 columns):\n",
            "sale_dollars_trans          24104 non-null float64\n",
            "cost_per_liter_trans        24104 non-null float64\n",
            "state_bottle_cost_trans     24104 non-null float64\n",
            "bottles_sold_trans          24104 non-null float64\n",
            "volume_sold_liters_trans    24104 non-null float64\n",
            "pack                        24104 non-null int64\n",
            "bottle_volume_ml            24104 non-null int64\n",
            "liquor_category_WHISKY      24104 non-null int64\n",
            "dtypes: float64(5), int64(3)\n",
            "memory usage: 1.7 MB\n"
          ],
          "name": "stdout"
        },
        {
          "output_type": "stream",
          "text": [
            "/usr/local/lib/python3.6/dist-packages/ipykernel_launcher.py:5: SettingWithCopyWarning: \n",
            "A value is trying to be set on a copy of a slice from a DataFrame.\n",
            "Try using .loc[row_indexer,col_indexer] = value instead\n",
            "\n",
            "See the caveats in the documentation: http://pandas.pydata.org/pandas-docs/stable/user_guide/indexing.html#returning-a-view-versus-a-copy\n",
            "  \"\"\"\n",
            "/usr/local/lib/python3.6/dist-packages/ipykernel_launcher.py:6: SettingWithCopyWarning: \n",
            "A value is trying to be set on a copy of a slice from a DataFrame.\n",
            "Try using .loc[row_indexer,col_indexer] = value instead\n",
            "\n",
            "See the caveats in the documentation: http://pandas.pydata.org/pandas-docs/stable/user_guide/indexing.html#returning-a-view-versus-a-copy\n",
            "  \n"
          ],
          "name": "stderr"
        }
      ]
    },
    {
      "cell_type": "markdown",
      "metadata": {
        "id": "kdLxZ2S1K2i2",
        "colab_type": "text"
      },
      "source": [
        "Doing this granted us 24k non null values within what became our testing set. Using this, we will plot out the original vs the svm distribution of our state bottle cost trans, bottles sold trans, bottle volume ml and sale dollars trans, which was shown to be our strongest performing variables indicative of Whiskies vs Non Whiskies."
      ]
    },
    {
      "cell_type": "code",
      "metadata": {
        "id": "PSgQDqQnKxNk",
        "colab_type": "code",
        "colab": {
          "base_uri": "https://localhost:8080/",
          "height": 1000
        },
        "outputId": "1b52280e-961a-483d-cd55-7189962998eb"
      },
      "source": [
        "# now lets see the statistics of these attributes\n",
        "from pandas.plotting import boxplot\n",
        "\n",
        "# group the original data and the support vectors\n",
        "df_grouped_support = df_support.groupby(['liquor_category_WHISKY'])\n",
        "df_grouped = data_final.groupby(['liquor_category_WHISKY'])\n",
        "\n",
        "# plot KDE of Different variables\n",
        "vars_to_plot = ['state_bottle_cost_trans','bottles_sold_trans','bottle_volume_ml','sale_dollars_trans']\n",
        "\n",
        "for v in vars_to_plot:\n",
        "    plt.figure(figsize=(10,4))\n",
        "    # plot support vector stats\n",
        "    plt.subplot(1,2,1)\n",
        "    ax = df_grouped_support[v].plot.kde() \n",
        "    plt.legend(['Whiskey','Not Whiskey'])\n",
        "    plt.title(v+' (Instances chosen as Support Vectors)')\n",
        "    \n",
        "    # plot original distributions\n",
        "    plt.subplot(1,2,2)\n",
        "    ax = df_grouped[v].plot.kde() \n",
        "    plt.legend(['Whiskey','Not Whiskey'])\n",
        "    plt.title(v+' (Original)')"
      ],
      "execution_count": 50,
      "outputs": [
        {
          "output_type": "display_data",
          "data": {
            "image/png": "[encoded data removed]",
            "text/plain": [
              "<Figure size 720x288 with 2 Axes>"
            ]
          },
          "metadata": {
            "tags": []
          }
        },
        {
          "output_type": "display_data",
          "data": {
            "image/png": "[encoded data removed]",
            "text/plain": [
              "<Figure size 720x288 with 2 Axes>"
            ]
          },
          "metadata": {
            "tags": []
          }
        },
        {
          "output_type": "display_data",
          "data": {
            "image/png": "[encoded data removed]",
            "text/plain": [
              "<Figure size 720x288 with 2 Axes>"
            ]
          },
          "metadata": {
            "tags": []
          }
        },
        {
          "output_type": "display_data",
          "data": {
            "image/png": "[encoded data removed]",
            "text/plain": [
              "<Figure size 720x288 with 2 Axes>"
            ]
          },
          "metadata": {
            "tags": []
          }
        }
      ]
    },
    {
      "cell_type": "markdown",
      "metadata": {
        "id": "Xpn_F7R6LoNC",
        "colab_type": "text"
      },
      "source": [
        "By plotting our data density graphs next to one another, we can see the separation between distributions of the original data sets next to our support vector data on key variables, on the whiskey classifier. \n",
        "\n",
        "What we are looking for heere is the value of separation between what can be classified as a whiskey vs non whiskey (blue vs red lines). Since you can see that the separation on state bottle cost and the state bottle volume is more pronounced on the support vector model, this shows that they both play the most role in the prediction of whiskey. \n",
        "\n",
        "The other two variables, bottles sold and sale dollars, don't diverge as much between the original and SVM model, they are not as strong as predictors as the other two we discussed. And this is indicated on our weights we showed previously. "
      ]
    },
    {
      "cell_type": "code",
      "metadata": {
        "id": "vJjUGp6FLauF",
        "colab_type": "code",
        "colab": {}
      },
      "source": [
        ""
      ],
      "execution_count": 0,
      "outputs": []
    }
  ]
}