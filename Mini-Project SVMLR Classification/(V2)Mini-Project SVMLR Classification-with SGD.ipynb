{
 "cells": [
  {
   "cell_type": "markdown",
   "metadata": {
    "colab_type": "text",
    "id": "view-in-github"
   },
   "source": [
    "<a href=\"https://colab.research.google.com/github/jjschueder/7331DataMiningNotebooks/blob/master/Mini-Project%20SVMLR%20Classification/(V2)Mini-Project%20SVMLR%20Classification.ipynb\" target=\"_parent\"><img src=\"https://colab.research.google.com/assets/colab-badge.svg\" alt=\"Open In Colab\"/></a>"
   ]
  },
  {
   "cell_type": "markdown",
   "metadata": {
    "colab_type": "text",
    "id": "qhqdMtT3nSiG"
   },
   "source": [
    "# Mini-Project: SVM&LR Classification\n",
    "You are to perform predictive analysis (classification) upon a data set: model the dataset using\n",
    "methods we have discussed in class: logistic regression & support vector machines and making\n",
    "conclusions from the analysis. Follow the CRISP-DM framework in your analysis (you are not\n",
    "performing all of the CRISP-DM outline, only the portions relevant to the grading rubric outlined\n",
    "below). This report is worth 10% of the final grade. You may complete this assignment in teams\n",
    "of as many as three people.\n",
    "Write a report covering all the steps of the project. The format of the document can be PDF,\n",
    "*.ipynb, or HTML. You can write the report in whatever format you like, but it is easiest to turn in\n",
    "the rendered Jupyter notebook. The results should be reproducible using your report. Please\n",
    "carefully describe every assumption and every step in your report.\n",
    "A note on grading: A common mistake I see in this lab is not investigating different input\n",
    "parameters for each model. Try a number of parameter combinations and discuss how the model changed. "
   ]
  },
  {
   "cell_type": "markdown",
   "metadata": {
    "colab_type": "text",
    "id": "jmTlKM_UnSiP"
   },
   "source": [
    "## SVM and Logistic Regression Modeling\n"
   ]
  },
  {
   "cell_type": "markdown",
   "metadata": {
    "colab_type": "text",
    "id": "qN07sRSnnSiU"
   },
   "source": [
    "### Create Models [50 points] \n",
    "Create a logistic regression model and a support vector machine model for the\n",
    "classification task involved with your dataset. Assess how well each model performs (use\n",
    "80/20 training/testing split for your data). Adjust parameters of the models to make them\n",
    "more accurate. If your dataset size requires the use of stochastic gradient descent, then\n",
    "linear kernel only is fine to use. That is, the SGDClassifier is fine to use for optimizing\n",
    "logistic regression and linear support vector machines. For many problems, SGD will be\n",
    "required in order to train the SVM model in a reasonable timeframe.   "
   ]
  },
  {
   "cell_type": "markdown",
   "metadata": {
    "colab_type": "text",
    "id": "6I6a7elv4W0h"
   },
   "source": [
    "### Load and Clean Data Set"
   ]
  },
  {
   "cell_type": "code",
   "execution_count": 1,
   "metadata": {
    "colab": {},
    "colab_type": "code",
    "id": "lPXTcIccnSiW"
   },
   "outputs": [],
   "source": [
    "import pandas as pd\n",
    "import numpy as np\n",
    "from sklearn import preprocessing\n",
    "import matplotlib.pyplot as plt \n",
    "plt.rc(\"font\", size=14)\n",
    "from matplotlib import pyplot\n",
    "from sklearn.model_selection import train_test_split\n",
    "from sklearn import linear_model\n",
    "import seaborn as sns\n",
    "sns.set(style=\"white\")\n",
    "sns.set(style=\"whitegrid\", color_codes=True)\n",
    "from sklearn.linear_model import LogisticRegression\n",
    "from sklearn import metrics as mt\n",
    "from sklearn.model_selection import ShuffleSplit\n",
    "from sklearn import metrics \n",
    "from sklearn.model_selection import cross_validate\n",
    "from sklearn.model_selection import GridSearchCV\n",
    "from sklearn.metrics import roc_curve\n",
    "from sklearn.metrics import roc_auc_score\n",
    "from sklearn.preprocessing import StandardScaler\n",
    "from sklearn.metrics import precision_recall_curve\n",
    "from sklearn.metrics import f1_score\n",
    "from sklearn.metrics import auc\n",
    "from sklearn.metrics import classification_report, confusion_matrix\n",
    "from sklearn import preprocessing\n",
    "from sklearn.svm import SVC\n",
    "from sklearn.model_selection import StratifiedShuffleSplit \n",
    "from sklearn.linear_model import SGDClassifier"
   ]
  },
  {
   "cell_type": "code",
   "execution_count": 10,
   "metadata": {
    "colab": {},
    "colab_type": "code",
    "id": "Mo0kRfD4nSik"
   },
   "outputs": [],
   "source": [
    "#read data from github repository\n",
    "#this data was produced from the Iowa Alcohol Dataset 2019 year data\n",
    "#It was cleansed and transformed in this notebook and exported as a csv to github for use here.\n",
    "#source python notebook: https://github.com/jjschueder/7331DataMiningNotebooks/blob/master/lab1/msds7331_clark_schueder_vela_washburn.ipynb\n",
    "# read csv from github directly\n",
    "url_dataset = 'https://github.com/jjschueder/7331DataMiningNotebooks/blob/master/Live%20Assignments/df1hotmerge2.csv?raw=true'\n",
    "#data = pd.read_csv(url_dataset)\n",
    "data = pd.read_csv(url_dataset, nrows=100000)"
   ]
  },
  {
   "cell_type": "code",
   "execution_count": 11,
   "metadata": {
    "colab": {
     "base_uri": "https://localhost:8080/",
     "height": 71
    },
    "colab_type": "code",
    "id": "DQKPLfW1nSiv",
    "outputId": "35f2d8b4-4a32-4d02-c73c-9b3f986a852f",
    "scrolled": true
   },
   "outputs": [
    {
     "name": "stdout",
     "output_type": "stream",
     "text": [
      "(100000, 68)\n",
      "['Unnamed: 0', 'pack', 'bottle_volume_ml', 'state_bottle_cost', 'state_bottle_retail', 'bottles_sold', 'sale_dollars', 'volume_sold_liters', 'volume_sold_gallons', 'counter', 'liquor_category', 'store_parent', 'month', 'year', 'monthyear', 'liquor_category_AMARETTO', 'liquor_category_BRANDY', 'liquor_category_GIN', 'liquor_category_LIQUEUR', 'liquor_category_Other', 'liquor_category_RUM', 'liquor_category_SCHNAPPS', 'liquor_category_TEQUILA', 'liquor_category_VODKA', 'liquor_category_WHISKY', 'store_parent_CVS', 'store_parent_Caseys', 'store_parent_Hy-Vee', 'store_parent_Kum&Go', 'store_parent_Other', 'store_parent_QuikTrip', 'store_parent_SamsClub', 'store_parent_SmokingJoes', 'store_parent_Target', 'store_parent_Wal-Mart', 'store_parent_Walgreens', 'month_Apr', 'month_Aug', 'month_Dec', 'month_Feb', 'month_Jan', 'month_Jul', 'month_Jun', 'month_Mar', 'month_May', 'month_Nov', 'month_Oct', 'month_Sep', 'year_2019', 'monthyear_Apr-2019', 'monthyear_Aug-2019', 'monthyear_Dec-2019', 'monthyear_Feb-2019', 'monthyear_Jan-2019', 'monthyear_Jul-2019', 'monthyear_Jun-2019', 'monthyear_Mar-2019', 'monthyear_May-2019', 'monthyear_Nov-2019', 'monthyear_Oct-2019', 'monthyear_Sep-2019', 'sale_dollars_trans', 'cost_per_liter', 'cost_per_liter_trans', 'state_bottle_cost_trans', 'bottles_sold_trans', 'volume_sold_liters_trans', 'grossmargin']\n"
     ]
    }
   ],
   "source": [
    "print(data.shape)\n",
    "print(list(data.columns))"
   ]
  },
  {
   "cell_type": "code",
   "execution_count": 12,
   "metadata": {
    "colab": {
     "base_uri": "https://localhost:8080/",
     "height": 51
    },
    "colab_type": "code",
    "id": "tzx9_JhrnSi7",
    "outputId": "c430fefe-7615-4b2d-b104-64b995bb797d"
   },
   "outputs": [
    {
     "name": "stdout",
     "output_type": "stream",
     "text": [
      "percentage of not whiskey is 77.35499999999999\n",
      "percentage of whiskey 22.645\n"
     ]
    }
   ],
   "source": [
    "data = data.drop(columns = ['Unnamed: 0'])\n",
    "count_not_whiskey = len(data[data['liquor_category_WHISKY']==0])\n",
    "count_whiskey = len(data[data['liquor_category_WHISKY']==1])\n",
    "pct_of_no_whiskey = count_not_whiskey/(count_not_whiskey+count_whiskey)\n",
    "print(\"percentage of not whiskey is\", pct_of_no_whiskey*100)\n",
    "pct_of_whiskey = count_whiskey/(count_not_whiskey+count_whiskey)\n",
    "print(\"percentage of whiskey\", pct_of_whiskey*100)"
   ]
  },
  {
   "cell_type": "code",
   "execution_count": 13,
   "metadata": {
    "colab": {
     "base_uri": "https://localhost:8080/",
     "height": 85
    },
    "colab_type": "code",
    "id": "jSmKpN1snSjB",
    "outputId": "a45a584c-2012-41bc-dc0b-01ab5b23e747"
   },
   "outputs": [
    {
     "data": {
      "text/plain": [
       "array(['sale_dollars_trans', 'cost_per_liter_trans',\n",
       "       'state_bottle_cost_trans', 'bottles_sold_trans',\n",
       "       'volume_sold_liters_trans', 'pack', 'bottle_volume_ml',\n",
       "       'liquor_category_WHISKY'], dtype=object)"
      ]
     },
     "execution_count": 13,
     "metadata": {},
     "output_type": "execute_result"
    }
   ],
   "source": [
    "cat_vars=['counter', 'liquor_category', 'store_parent',\n",
    " 'month', 'year', 'monthyear', 'liquor_category_AMARETTO', 'liquor_category_BRANDY', 'liquor_category_GIN', \n",
    " 'liquor_category_LIQUEUR', 'liquor_category_Other', 'liquor_category_RUM', 'liquor_category_SCHNAPPS', \n",
    " 'liquor_category_TEQUILA', 'liquor_category_VODKA', 'month_Apr', 'month_Aug', 'month_Dec', 'month_Feb',\n",
    " 'month_Jan', 'month_Jul', 'month_Jun', 'month_Mar', 'month_May', 'month_Nov', 'month_Oct', 'month_Sep', \n",
    " 'store_parent_CVS', 'store_parent_Caseys', 'store_parent_Hy-Vee', 'store_parent_Kum&Go', \n",
    " 'store_parent_Other', 'store_parent_QuikTrip', 'store_parent_SamsClub', 'store_parent_SmokingJoes', \n",
    " 'store_parent_Target', 'store_parent_Wal-Mart', 'store_parent_Walgreens']\n",
    "data_vars=data.columns.values.tolist()\n",
    "to_keep=[i for i in data_vars if i not in cat_vars]\n",
    "to_keep=['sale_dollars_trans', 'cost_per_liter_trans',\n",
    "      'state_bottle_cost_trans', 'bottles_sold_trans',\n",
    "       'volume_sold_liters_trans','pack', 'bottle_volume_ml',\n",
    "       'liquor_category_WHISKY']\n",
    "data_final=data[to_keep]\n",
    "data_final.columns.values"
   ]
  },
  {
   "cell_type": "code",
   "execution_count": 14,
   "metadata": {},
   "outputs": [
    {
     "data": {
      "text/plain": [
       "sale_dollars_trans          float64\n",
       "cost_per_liter_trans        float64\n",
       "state_bottle_cost_trans     float64\n",
       "bottles_sold_trans          float64\n",
       "volume_sold_liters_trans    float64\n",
       "pack                          int64\n",
       "bottle_volume_ml              int64\n",
       "liquor_category_WHISKY        int64\n",
       "dtype: object"
      ]
     },
     "execution_count": 14,
     "metadata": {},
     "output_type": "execute_result"
    }
   ],
   "source": [
    "data_final.dtypes"
   ]
  },
  {
   "cell_type": "code",
   "execution_count": 15,
   "metadata": {},
   "outputs": [
    {
     "name": "stdout",
     "output_type": "stream",
     "text": [
      "(30000, 8)\n",
      "['sale_dollars_trans', 'cost_per_liter_trans', 'state_bottle_cost_trans', 'bottles_sold_trans', 'volume_sold_liters_trans', 'pack', 'bottle_volume_ml', 'liquor_category_WHISKY']\n"
     ]
    }
   ],
   "source": [
    "#getting smaller sample size for svm\n",
    "chosen_idx = np.random.choice(100000, replace=False, size=30000)\n",
    "df_trimmed = data_final.copy()\n",
    "df_trimmed = df_trimmed.iloc[chosen_idx]\n",
    "print(df_trimmed.shape)\n",
    "print(list(df_trimmed.columns))"
   ]
  },
  {
   "cell_type": "code",
   "execution_count": 17,
   "metadata": {},
   "outputs": [],
   "source": [
    "#for logistic regression\n",
    "X = data_final.loc[:, data_final.columns != 'liquor_category_WHISKY']\n",
    "y = data_final.loc[:, data_final.columns == 'liquor_category_WHISKY']\n",
    "\n",
    "#for svm\n",
    "XSVM = df_trimmed.loc[:, df_trimmed.columns != 'liquor_category_WHISKY']\n",
    "ySVM = df_trimmed.loc[:, df_trimmed.columns == 'liquor_category_WHISKY']"
   ]
  },
  {
   "cell_type": "code",
   "execution_count": 18,
   "metadata": {},
   "outputs": [
    {
     "data": {
      "text/html": [
       "<div>\n",
       "<style scoped>\n",
       "    .dataframe tbody tr th:only-of-type {\n",
       "        vertical-align: middle;\n",
       "    }\n",
       "\n",
       "    .dataframe tbody tr th {\n",
       "        vertical-align: top;\n",
       "    }\n",
       "\n",
       "    .dataframe thead th {\n",
       "        text-align: right;\n",
       "    }\n",
       "</style>\n",
       "<table border=\"1\" class=\"dataframe\">\n",
       "  <thead>\n",
       "    <tr style=\"text-align: right;\">\n",
       "      <th></th>\n",
       "      <th>sale_dollars_trans</th>\n",
       "      <th>cost_per_liter_trans</th>\n",
       "      <th>state_bottle_cost_trans</th>\n",
       "      <th>bottles_sold_trans</th>\n",
       "      <th>volume_sold_liters_trans</th>\n",
       "      <th>pack</th>\n",
       "      <th>bottle_volume_ml</th>\n",
       "    </tr>\n",
       "  </thead>\n",
       "  <tbody>\n",
       "    <tr>\n",
       "      <td>0</td>\n",
       "      <td>4.750136</td>\n",
       "      <td>2.735233</td>\n",
       "      <td>1.348073</td>\n",
       "      <td>2.995732</td>\n",
       "      <td>2.014903</td>\n",
       "      <td>20</td>\n",
       "      <td>375</td>\n",
       "    </tr>\n",
       "    <tr>\n",
       "      <td>1</td>\n",
       "      <td>2.574900</td>\n",
       "      <td>5.570632</td>\n",
       "      <td>2.169054</td>\n",
       "      <td>0.000000</td>\n",
       "      <td>-2.995732</td>\n",
       "      <td>8</td>\n",
       "      <td>50</td>\n",
       "    </tr>\n",
       "    <tr>\n",
       "      <td>2</td>\n",
       "      <td>5.000585</td>\n",
       "      <td>3.208825</td>\n",
       "      <td>2.803360</td>\n",
       "      <td>1.791759</td>\n",
       "      <td>1.791759</td>\n",
       "      <td>12</td>\n",
       "      <td>1000</td>\n",
       "    </tr>\n",
       "    <tr>\n",
       "      <td>3</td>\n",
       "      <td>6.636261</td>\n",
       "      <td>3.745890</td>\n",
       "      <td>3.052585</td>\n",
       "      <td>3.178054</td>\n",
       "      <td>2.890372</td>\n",
       "      <td>6</td>\n",
       "      <td>750</td>\n",
       "    </tr>\n",
       "    <tr>\n",
       "      <td>4</td>\n",
       "      <td>5.121819</td>\n",
       "      <td>2.077296</td>\n",
       "      <td>2.231089</td>\n",
       "      <td>2.484907</td>\n",
       "      <td>3.044522</td>\n",
       "      <td>6</td>\n",
       "      <td>1750</td>\n",
       "    </tr>\n",
       "  </tbody>\n",
       "</table>\n",
       "</div>"
      ],
      "text/plain": [
       "   sale_dollars_trans  cost_per_liter_trans  state_bottle_cost_trans  \\\n",
       "0            4.750136              2.735233                 1.348073   \n",
       "1            2.574900              5.570632                 2.169054   \n",
       "2            5.000585              3.208825                 2.803360   \n",
       "3            6.636261              3.745890                 3.052585   \n",
       "4            5.121819              2.077296                 2.231089   \n",
       "\n",
       "   bottles_sold_trans  volume_sold_liters_trans  pack  bottle_volume_ml  \n",
       "0            2.995732                  2.014903    20               375  \n",
       "1            0.000000                 -2.995732     8                50  \n",
       "2            1.791759                  1.791759    12              1000  \n",
       "3            3.178054                  2.890372     6               750  \n",
       "4            2.484907                  3.044522     6              1750  "
      ]
     },
     "execution_count": 18,
     "metadata": {},
     "output_type": "execute_result"
    }
   ],
   "source": [
    "X.head()"
   ]
  },
  {
   "cell_type": "markdown",
   "metadata": {
    "colab_type": "text",
    "id": "zIfgUT054dBe"
   },
   "source": [
    "## Logistic Regression"
   ]
  },
  {
   "cell_type": "markdown",
   "metadata": {
    "colab_type": "text",
    "id": "j6-0y2G9nSjI"
   },
   "source": [
    "import matplotlib.pyplot as plt\n",
    "import seaborn as sns\n",
    "from sklearn import metrics#### Logistic Regression model:\n",
    "\n",
    "### Models Using Grid Search to compare best possible model"
   ]
  },
  {
   "cell_type": "code",
   "execution_count": 43,
   "metadata": {
    "colab": {
     "base_uri": "https://localhost:8080/",
     "height": 1000
    },
    "colab_type": "code",
    "id": "Rq1Jn4krnSjK",
    "outputId": "18e33e6b-faf4-46b3-e985-4f42d82f114c"
   },
   "outputs": [],
   "source": [
    "X_train, X_test, y_train, y_test = train_test_split(X, y, test_size=0.2, random_state=0)\n",
    "columns = X_train.columns\n",
    "# scale attributes by the training set\n",
    "scl_obj = StandardScaler()\n",
    "scl_obj.fit(X_train) # find scalings for each column that make this zero mean and unit std\n",
    "# the line of code above only looks at training data to get mean and std and we can use it \n",
    "# to transform new feature data\n",
    "\n",
    "X_train_scaled = scl_obj.transform(X_train) # apply to training\n",
    "X_test_scaled = scl_obj.transform(X_test)"
   ]
  },
  {
   "cell_type": "code",
   "execution_count": 22,
   "metadata": {
    "colab": {
     "base_uri": "https://localhost:8080/",
     "height": 751
    },
    "colab_type": "code",
    "id": "0VmHek3j7A0u",
    "outputId": "1166c538-2723-4a7d-f0a9-fd0ebb1ab879"
   },
   "outputs": [
    {
     "name": "stdout",
     "output_type": "stream",
     "text": [
      "Fitting 5 folds for each of 120 candidates, totalling 600 fits\n"
     ]
    },
    {
     "name": "stderr",
     "output_type": "stream",
     "text": [
      "[Parallel(n_jobs=8)]: Using backend LokyBackend with 8 concurrent workers.\n",
      "[Parallel(n_jobs=8)]: Done  34 tasks      | elapsed:   19.3s\n",
      "[Parallel(n_jobs=8)]: Done 184 tasks      | elapsed:  1.6min\n",
      "[Parallel(n_jobs=8)]: Done 434 tasks      | elapsed:  5.1min\n",
      "[Parallel(n_jobs=8)]: Done 600 out of 600 | elapsed:  7.4min finished\n",
      "C:\\Users\\jjsch\\.conda\\envs\\ML7331\\lib\\site-packages\\sklearn\\utils\\validation.py:744: DataConversionWarning: A column-vector y was passed when a 1d array was expected. Please change the shape of y to (n_samples, ), for example using ravel().\n",
      "  y = column_or_1d(y, warn=True)\n"
     ]
    },
    {
     "data": {
      "text/plain": [
       "GridSearchCV(cv=ShuffleSplit(n_splits=5, random_state=0, test_size=0.1, train_size=None),\n",
       "             error_score=nan,\n",
       "             estimator=LogisticRegression(C=1.0, class_weight=None, dual=False,\n",
       "                                          fit_intercept=True,\n",
       "                                          intercept_scaling=1, l1_ratio=None,\n",
       "                                          max_iter=100, multi_class='auto',\n",
       "                                          n_jobs=None, penalty='l2',\n",
       "                                          random_state=None, solver='lbfgs',\n",
       "                                          tol=0.0001, verbose=0,\n",
       "                                          warm_start=False),\n",
       "             iid='deprecated', n_jobs=8,\n",
       "             param_grid={'C': [0.001, 1, 10, 100],\n",
       "                         'class_weight': ['balanced', 'none'],\n",
       "                         'max_iter': [100],\n",
       "                         'penalty': ['l2', 'l1', 'elasticnet'],\n",
       "                         'random_state': [0],\n",
       "                         'solver': ['lbfgs', 'saga', 'liblinear', 'newton-cg',\n",
       "                                    'sag']},\n",
       "             pre_dispatch='2*n_jobs', refit=True, return_train_score=False,\n",
       "             scoring='accuracy', verbose=1)"
      ]
     },
     "execution_count": 22,
     "metadata": {},
     "output_type": "execute_result"
    }
   ],
   "source": [
    "#Logisitic regression 10-fold cross-validation \n",
    "\n",
    "#Divide data into test and training splits\n",
    "cv = ShuffleSplit(n_splits=5, test_size=0.10, random_state=0)\n",
    "\n",
    "regEstimator = LogisticRegression()\n",
    "\n",
    "\n",
    "parameters = { 'penalty':['l2', 'l1', 'elasticnet']\n",
    "              ,'C': [0.001, 1, 10, 100]\n",
    "              ,'class_weight': ['balanced', 'none']\n",
    "              ,'random_state': [0]\n",
    "              ,'solver': ['lbfgs', 'saga', 'liblinear', 'newton-cg', 'sag']\n",
    "              ,'max_iter':[100]\n",
    "             }\n",
    "\n",
    "#Create a grid search object using the  \n",
    "\n",
    "regGridSearch = GridSearchCV(estimator=regEstimator\n",
    "                   , n_jobs=8 # jobs to run in parallel\n",
    "                   , verbose=1 # low verbosity\n",
    "                   , param_grid=parameters\n",
    "                   , cv=cv # KFolds = 10\n",
    "                   , scoring='accuracy')\n",
    "\n",
    "#Perform hyperparameter search to find the best combination of parameters for our data\n",
    "regGridSearch.fit(X_train_scaled, y_train)"
   ]
  },
  {
   "cell_type": "code",
   "execution_count": 23,
   "metadata": {
    "colab": {
     "base_uri": "https://localhost:8080/",
     "height": 122
    },
    "colab_type": "code",
    "id": "a2Gdgl8k62xQ",
    "outputId": "5f7f715d-9660-4f96-a091-94544d6f34e9"
   },
   "outputs": [
    {
     "data": {
      "text/plain": [
       "LogisticRegression(C=10, class_weight='none', dual=False, fit_intercept=True,\n",
       "                   intercept_scaling=1, l1_ratio=None, max_iter=100,\n",
       "                   multi_class='auto', n_jobs=None, penalty='l2',\n",
       "                   random_state=0, solver='saga', tol=0.0001, verbose=0,\n",
       "                   warm_start=False)"
      ]
     },
     "execution_count": 23,
     "metadata": {},
     "output_type": "execute_result"
    }
   ],
   "source": [
    "#Diplay the top model parameters\n",
    "regGridSearch.best_estimator_"
   ]
  },
  {
   "cell_type": "code",
   "execution_count": 24,
   "metadata": {},
   "outputs": [
    {
     "data": {
      "text/plain": [
       "sklearn.model_selection._search.GridSearchCV"
      ]
     },
     "execution_count": 24,
     "metadata": {},
     "output_type": "execute_result"
    }
   ],
   "source": [
    "type(regGridSearch)"
   ]
  },
  {
   "cell_type": "code",
   "execution_count": 25,
   "metadata": {},
   "outputs": [],
   "source": [
    "gridresults = pd.DataFrame(regGridSearch.cv_results_)"
   ]
  },
  {
   "cell_type": "code",
   "execution_count": 28,
   "metadata": {},
   "outputs": [],
   "source": [
    "columns = ['param_solver','param_C', 'param_max_iter', 'class_weight', 'param_penalty', 'mean_test_score', 'rank_test_score']\n",
    "gridresults = pd.DataFrame(gridresults, columns=columns)"
   ]
  },
  {
   "cell_type": "code",
   "execution_count": 29,
   "metadata": {},
   "outputs": [
    {
     "data": {
      "text/html": [
       "<div>\n",
       "<style scoped>\n",
       "    .dataframe tbody tr th:only-of-type {\n",
       "        vertical-align: middle;\n",
       "    }\n",
       "\n",
       "    .dataframe tbody tr th {\n",
       "        vertical-align: top;\n",
       "    }\n",
       "\n",
       "    .dataframe thead th {\n",
       "        text-align: right;\n",
       "    }\n",
       "</style>\n",
       "<table border=\"1\" class=\"dataframe\">\n",
       "  <thead>\n",
       "    <tr style=\"text-align: right;\">\n",
       "      <th></th>\n",
       "      <th>param_solver</th>\n",
       "      <th>param_C</th>\n",
       "      <th>param_max_iter</th>\n",
       "      <th>class_weight</th>\n",
       "      <th>param_penalty</th>\n",
       "      <th>mean_test_score</th>\n",
       "      <th>rank_test_score</th>\n",
       "    </tr>\n",
       "  </thead>\n",
       "  <tbody>\n",
       "    <tr>\n",
       "      <th>78</th>\n",
       "      <td>newton-cg</td>\n",
       "      <td>10</td>\n",
       "      <td>100</td>\n",
       "      <td>NaN</td>\n",
       "      <td>l2</td>\n",
       "      <td>0.918269</td>\n",
       "      <td>1</td>\n",
       "    </tr>\n",
       "    <tr>\n",
       "      <th>79</th>\n",
       "      <td>sag</td>\n",
       "      <td>10</td>\n",
       "      <td>100</td>\n",
       "      <td>NaN</td>\n",
       "      <td>l2</td>\n",
       "      <td>0.918269</td>\n",
       "      <td>1</td>\n",
       "    </tr>\n",
       "    <tr>\n",
       "      <th>106</th>\n",
       "      <td>saga</td>\n",
       "      <td>100</td>\n",
       "      <td>100</td>\n",
       "      <td>NaN</td>\n",
       "      <td>l2</td>\n",
       "      <td>0.918269</td>\n",
       "      <td>1</td>\n",
       "    </tr>\n",
       "    <tr>\n",
       "      <th>109</th>\n",
       "      <td>sag</td>\n",
       "      <td>100</td>\n",
       "      <td>100</td>\n",
       "      <td>NaN</td>\n",
       "      <td>l2</td>\n",
       "      <td>0.918269</td>\n",
       "      <td>1</td>\n",
       "    </tr>\n",
       "    <tr>\n",
       "      <th>76</th>\n",
       "      <td>saga</td>\n",
       "      <td>10</td>\n",
       "      <td>100</td>\n",
       "      <td>NaN</td>\n",
       "      <td>l2</td>\n",
       "      <td>0.918269</td>\n",
       "      <td>1</td>\n",
       "    </tr>\n",
       "    <tr>\n",
       "      <th>108</th>\n",
       "      <td>newton-cg</td>\n",
       "      <td>100</td>\n",
       "      <td>100</td>\n",
       "      <td>NaN</td>\n",
       "      <td>l2</td>\n",
       "      <td>0.918269</td>\n",
       "      <td>1</td>\n",
       "    </tr>\n",
       "    <tr>\n",
       "      <th>111</th>\n",
       "      <td>saga</td>\n",
       "      <td>100</td>\n",
       "      <td>100</td>\n",
       "      <td>NaN</td>\n",
       "      <td>l1</td>\n",
       "      <td>0.918269</td>\n",
       "      <td>1</td>\n",
       "    </tr>\n",
       "    <tr>\n",
       "      <th>75</th>\n",
       "      <td>lbfgs</td>\n",
       "      <td>10</td>\n",
       "      <td>100</td>\n",
       "      <td>NaN</td>\n",
       "      <td>l2</td>\n",
       "      <td>0.918262</td>\n",
       "      <td>8</td>\n",
       "    </tr>\n",
       "    <tr>\n",
       "      <th>105</th>\n",
       "      <td>lbfgs</td>\n",
       "      <td>100</td>\n",
       "      <td>100</td>\n",
       "      <td>NaN</td>\n",
       "      <td>l2</td>\n",
       "      <td>0.918262</td>\n",
       "      <td>8</td>\n",
       "    </tr>\n",
       "    <tr>\n",
       "      <th>45</th>\n",
       "      <td>lbfgs</td>\n",
       "      <td>1</td>\n",
       "      <td>100</td>\n",
       "      <td>NaN</td>\n",
       "      <td>l2</td>\n",
       "      <td>0.918262</td>\n",
       "      <td>8</td>\n",
       "    </tr>\n",
       "    <tr>\n",
       "      <th>48</th>\n",
       "      <td>newton-cg</td>\n",
       "      <td>1</td>\n",
       "      <td>100</td>\n",
       "      <td>NaN</td>\n",
       "      <td>l2</td>\n",
       "      <td>0.918262</td>\n",
       "      <td>8</td>\n",
       "    </tr>\n",
       "    <tr>\n",
       "      <th>49</th>\n",
       "      <td>sag</td>\n",
       "      <td>1</td>\n",
       "      <td>100</td>\n",
       "      <td>NaN</td>\n",
       "      <td>l2</td>\n",
       "      <td>0.918262</td>\n",
       "      <td>8</td>\n",
       "    </tr>\n",
       "    <tr>\n",
       "      <th>51</th>\n",
       "      <td>saga</td>\n",
       "      <td>1</td>\n",
       "      <td>100</td>\n",
       "      <td>NaN</td>\n",
       "      <td>l1</td>\n",
       "      <td>0.918262</td>\n",
       "      <td>8</td>\n",
       "    </tr>\n",
       "    <tr>\n",
       "      <th>81</th>\n",
       "      <td>saga</td>\n",
       "      <td>10</td>\n",
       "      <td>100</td>\n",
       "      <td>NaN</td>\n",
       "      <td>l1</td>\n",
       "      <td>0.918262</td>\n",
       "      <td>8</td>\n",
       "    </tr>\n",
       "    <tr>\n",
       "      <th>46</th>\n",
       "      <td>saga</td>\n",
       "      <td>1</td>\n",
       "      <td>100</td>\n",
       "      <td>NaN</td>\n",
       "      <td>l2</td>\n",
       "      <td>0.918262</td>\n",
       "      <td>8</td>\n",
       "    </tr>\n",
       "    <tr>\n",
       "      <th>21</th>\n",
       "      <td>saga</td>\n",
       "      <td>0.001</td>\n",
       "      <td>100</td>\n",
       "      <td>NaN</td>\n",
       "      <td>l1</td>\n",
       "      <td>0.912744</td>\n",
       "      <td>16</td>\n",
       "    </tr>\n",
       "    <tr>\n",
       "      <th>18</th>\n",
       "      <td>newton-cg</td>\n",
       "      <td>0.001</td>\n",
       "      <td>100</td>\n",
       "      <td>NaN</td>\n",
       "      <td>l2</td>\n",
       "      <td>0.912094</td>\n",
       "      <td>17</td>\n",
       "    </tr>\n",
       "    <tr>\n",
       "      <th>15</th>\n",
       "      <td>lbfgs</td>\n",
       "      <td>0.001</td>\n",
       "      <td>100</td>\n",
       "      <td>NaN</td>\n",
       "      <td>l2</td>\n",
       "      <td>0.912094</td>\n",
       "      <td>17</td>\n",
       "    </tr>\n",
       "    <tr>\n",
       "      <th>16</th>\n",
       "      <td>saga</td>\n",
       "      <td>0.001</td>\n",
       "      <td>100</td>\n",
       "      <td>NaN</td>\n",
       "      <td>l2</td>\n",
       "      <td>0.912094</td>\n",
       "      <td>17</td>\n",
       "    </tr>\n",
       "    <tr>\n",
       "      <th>19</th>\n",
       "      <td>sag</td>\n",
       "      <td>0.001</td>\n",
       "      <td>100</td>\n",
       "      <td>NaN</td>\n",
       "      <td>l2</td>\n",
       "      <td>0.912094</td>\n",
       "      <td>17</td>\n",
       "    </tr>\n",
       "  </tbody>\n",
       "</table>\n",
       "</div>"
      ],
      "text/plain": [
       "    param_solver param_C param_max_iter  class_weight param_penalty  \\\n",
       "78     newton-cg      10            100           NaN            l2   \n",
       "79           sag      10            100           NaN            l2   \n",
       "106         saga     100            100           NaN            l2   \n",
       "109          sag     100            100           NaN            l2   \n",
       "76          saga      10            100           NaN            l2   \n",
       "108    newton-cg     100            100           NaN            l2   \n",
       "111         saga     100            100           NaN            l1   \n",
       "75         lbfgs      10            100           NaN            l2   \n",
       "105        lbfgs     100            100           NaN            l2   \n",
       "45         lbfgs       1            100           NaN            l2   \n",
       "48     newton-cg       1            100           NaN            l2   \n",
       "49           sag       1            100           NaN            l2   \n",
       "51          saga       1            100           NaN            l1   \n",
       "81          saga      10            100           NaN            l1   \n",
       "46          saga       1            100           NaN            l2   \n",
       "21          saga   0.001            100           NaN            l1   \n",
       "18     newton-cg   0.001            100           NaN            l2   \n",
       "15         lbfgs   0.001            100           NaN            l2   \n",
       "16          saga   0.001            100           NaN            l2   \n",
       "19           sag   0.001            100           NaN            l2   \n",
       "\n",
       "     mean_test_score  rank_test_score  \n",
       "78          0.918269                1  \n",
       "79          0.918269                1  \n",
       "106         0.918269                1  \n",
       "109         0.918269                1  \n",
       "76          0.918269                1  \n",
       "108         0.918269                1  \n",
       "111         0.918269                1  \n",
       "75          0.918262                8  \n",
       "105         0.918262                8  \n",
       "45          0.918262                8  \n",
       "48          0.918262                8  \n",
       "49          0.918262                8  \n",
       "51          0.918262                8  \n",
       "81          0.918262                8  \n",
       "46          0.918262                8  \n",
       "21          0.912744               16  \n",
       "18          0.912094               17  \n",
       "15          0.912094               17  \n",
       "16          0.912094               17  \n",
       "19          0.912094               17  "
      ]
     },
     "execution_count": 29,
     "metadata": {},
     "output_type": "execute_result"
    }
   ],
   "source": [
    "gridresults.sort_values(by=['rank_test_score'], ascending=True).head(20)"
   ]
  },
  {
   "cell_type": "code",
   "execution_count": 31,
   "metadata": {},
   "outputs": [
    {
     "name": "stdout",
     "output_type": "stream",
     "text": [
      "accuracy 0.9191875\n",
      "confusion matrix\n",
      " [[70559  1118]\n",
      " [ 5347  2976]]\n"
     ]
    }
   ],
   "source": [
    "y_hat = regGridSearch.predict(X_test_scaled) # get test set precitions\n",
    "\n",
    "# now let's get the accuracy and confusion matrix for this iterations of training/testing\n",
    "acc = mt.accuracy_score(y_test,y_hat)\n",
    "conf = mt.confusion_matrix(y_test,y_hat)\n",
    "\n",
    "print(\"accuracy\", acc )\n",
    "print(\"confusion matrix\\n\",conf)"
   ]
  },
  {
   "cell_type": "markdown",
   "metadata": {
    "colab_type": "text",
    "id": "iuBdzdM8nSjo"
   },
   "source": [
    "ROC Curves and AUC in Python\n",
    "https://machinelearningmastery.com/roc-curves-and-precision-recall-curves-for-classification-in-python/\n",
    "\n",
    "When to Use ROC vs. Precision-Recall Curves? Generally, the use of ROC curves and precision-recall curves are as follows:\n",
    "\n",
    "ROC curves should be used when there are roughly equal numbers of observations for each class. Precision-Recall curves should be used when there is a moderate to large class imbalance."
   ]
  },
  {
   "cell_type": "code",
   "execution_count": 35,
   "metadata": {},
   "outputs": [
    {
     "name": "stdout",
     "output_type": "stream",
     "text": [
      "No Skill: ROC AUC=0.500\n",
      "Logistic: ROC AUC=0.908\n"
     ]
    }
   ],
   "source": [
    "# predict probabilities\n",
    "lr_probs = regGridSearch.predict_proba(X_test_scaled)\n",
    "ns_probs = [0 for _ in range(len(y_test))]\n",
    "# keep probabilities for the positive outcome only\n",
    "lr_probs = lr_probs[:, 1]\n",
    "# calculate scores\n",
    "ns_auc = roc_auc_score(y_test, ns_probs)\n",
    "lr_auc = roc_auc_score(y_test, lr_probs)\n",
    "# summarize scores\n",
    "print('No Skill: ROC AUC=%.3f' % (ns_auc))\n",
    "print('Logistic: ROC AUC=%.3f' % (lr_auc))\n",
    "# calculate roc curves\n",
    "ns_fpr, ns_tpr, _ = roc_curve(y_test, ns_probs)\n",
    "lr_fpr, lr_tpr, _ = roc_curve(y_test, lr_probs)"
   ]
  },
  {
   "cell_type": "code",
   "execution_count": 36,
   "metadata": {},
   "outputs": [
    {
     "data": {
      "image/png": "[encoded data removed]",
      "text/plain": [
       "<Figure size 432x288 with 1 Axes>"
      ]
     },
     "metadata": {},
     "output_type": "display_data"
    }
   ],
   "source": [
    "# calculate roc curves\n",
    "ns_fpr, ns_tpr, _ = roc_curve(y_test, ns_probs)\n",
    "lr_fpr, lr_tpr, _ = roc_curve(y_test, lr_probs)\n",
    "# plot the roc curve for the model\n",
    "pyplot.plot(ns_fpr, ns_tpr, linestyle='--', label='No Skill')\n",
    "pyplot.plot(lr_fpr, lr_tpr, marker='.', label='Logistic')\n",
    "# axis labels\n",
    "pyplot.xlabel('False Positive Rate')\n",
    "pyplot.ylabel('True Positive Rate')\n",
    "# show the legend\n",
    "pyplot.legend()\n",
    "# show the plot\n",
    "pyplot.show()"
   ]
  },
  {
   "cell_type": "code",
   "execution_count": 0,
   "metadata": {
    "colab": {},
    "colab_type": "code",
    "id": "kDI0MDSYnSj0"
   },
   "outputs": [],
   "source": [
    "ywhiskcnt = y_test.apply(pd.value_counts)\n",
    "ycnt = ywhiskcnt.loc[1:1, :]"
   ]
  },
  {
   "cell_type": "code",
   "execution_count": 39,
   "metadata": {
    "colab": {
     "base_uri": "https://localhost:8080/",
     "height": 302
    },
    "colab_type": "code",
    "id": "egJSv8ZOnSj5",
    "outputId": "e3dc6c69-dfa9-48b5-e52b-0f854f15cf03"
   },
   "outputs": [
    {
     "name": "stdout",
     "output_type": "stream",
     "text": [
      "Logistic: f1=0.479 auc=0.653\n"
     ]
    },
    {
     "data": {
      "image/png": "[encoded data removed]",
      "text/plain": [
       "<Figure size 432x288 with 1 Axes>"
      ]
     },
     "metadata": {},
     "output_type": "display_data"
    }
   ],
   "source": [
    "# predict probabilities\n",
    "lr_probs = regGridSearch.predict_proba(X_test_scaled)\n",
    "# keep probabilities for the positive outcome only\n",
    "lr_probs = lr_probs[:, 1]\n",
    "# predict class values\n",
    "yhat = regGridSearch.predict(X_test_scaled)\n",
    "lr_precision, lr_recall, _ = precision_recall_curve(y_test, lr_probs)\n",
    "lr_f1, lr_auc = f1_score(y_test, yhat), auc(lr_recall, lr_precision)\n",
    "# summarize scores\n",
    "print('Logistic: f1=%.3f auc=%.3f' % (lr_f1, lr_auc))\n",
    "# plot the precision-recall curves\n",
    "ywhiskcnt = y_test.apply(pd.value_counts)\n",
    "ycnt = ywhiskcnt.loc[1:1, :]\n",
    "no_skill = ycnt.values[0] / len(y_test)\n",
    "#no_skill = len(y_test[y_test==1]) / len(y_test)\n",
    "no_skill\n",
    "#no_skill = 0.2\n",
    "pyplot.plot([0, 1], [no_skill, no_skill], linestyle='--', label='No Skill')\n",
    "pyplot.plot(lr_recall, lr_precision, marker='.', label='Logistic')\n",
    "# axis labels\n",
    "pyplot.xlabel('Recall')\n",
    "pyplot.ylabel('Precision')\n",
    "# show the legend\n",
    "pyplot.legend()\n",
    "# show the plot\n",
    "pyplot.show()"
   ]
  },
  {
   "cell_type": "markdown",
   "metadata": {
    "colab_type": "text",
    "id": "dC7CCKAznSkt"
   },
   "source": [
    "#### Support Vector Machine Model:"
   ]
  },
  {
   "cell_type": "code",
   "execution_count": 25,
   "metadata": {},
   "outputs": [],
   "source": [
    "X_train, X_test, y_train, y_test = train_test_split(XSVM, ySVM , test_size=0.2, random_state=0)\n",
    "columns = X_train.columns\n",
    "# scale attributes by the training set\n",
    "scl_obj = StandardScaler()\n",
    "scl_obj.fit(X_train) # find scalings for each column that make this zero mean and unit std\n",
    "# the line of code above only looks at training data to get mean and std and we can use it \n",
    "# to transform new feature data\n",
    "\n",
    "X_train_scaled = scl_obj.transform(X_train) # apply to training\n",
    "X_test_scaled = scl_obj.transform(X_test)"
   ]
  },
  {
   "cell_type": "code",
   "execution_count": 44,
   "metadata": {},
   "outputs": [
    {
     "name": "stderr",
     "output_type": "stream",
     "text": [
      "C:\\ProgramData\\Anaconda3\\envs\\ML7331\\lib\\site-packages\\sklearn\\utils\\validation.py:724: DataConversionWarning: A column-vector y was passed when a 1d array was expected. Please change the shape of y to (n_samples, ), for example using ravel().\n",
      "  y = column_or_1d(y, warn=True)\n"
     ]
    },
    {
     "name": "stdout",
     "output_type": "stream",
     "text": [
      "Wall time: 431 ms\n"
     ]
    },
    {
     "data": {
      "text/plain": [
       "LinearSVC(C=10000, class_weight=None, dual=False, fit_intercept=True,\n",
       "          intercept_scaling=1, loss='squared_hinge', max_iter=1000,\n",
       "          multi_class='ovr', penalty='l2', random_state=0, tol=1e-05,\n",
       "          verbose=0)"
      ]
     },
     "execution_count": 44,
     "metadata": {},
     "output_type": "execute_result"
    }
   ],
   "source": [
    "%%time\n",
    "#possibility to scale it?\n",
    "from sklearn.svm import LinearSVC\n",
    "from sklearn import preprocessing\n",
    "X_train_scaled \n",
    "X_test_scaled \n",
    "#X_train = preprocessing.scale(X_train)\n",
    "#X_test = preprocessing.scale(X_test)\n",
    "\n",
    "# all parameters not specified are set to their defaults\n",
    "#https://stackabuse.com/implementing-svm-and-kernel-svm-with-pythons-scikit-learn/\n",
    "from sklearn.svm import SVC\n",
    "#svclassifier = SVC(kernel='poly', degree=8)\n",
    "#svclassifier = SVC(kernel='rbf')\n",
    "#svclassifier = SVC(kernel='linear', C = 20, random_state=0)\n",
    "#svclassifier = LinearSVC(C=100)\n",
    "svclassifier = LinearSVC(random_state=0, C = 10000, tol=1e-5, max_iter=1000, dual=False)\n",
    "model = svclassifier.fit(X_train_scaled,  y_train)\n",
    "model"
   ]
  },
  {
   "cell_type": "code",
   "execution_count": 45,
   "metadata": {},
   "outputs": [
    {
     "name": "stdout",
     "output_type": "stream",
     "text": [
      "confusion matrix\n",
      "\n",
      "[[14666   860]\n",
      " [ 2392  2082]]\n",
      "\n",
      "Classification report\n",
      "\n",
      "              precision    recall  f1-score   support\n",
      "\n",
      "           0       0.86      0.94      0.90     15526\n",
      "           1       0.71      0.47      0.56      4474\n",
      "\n",
      "    accuracy                           0.84     20000\n",
      "   macro avg       0.78      0.70      0.73     20000\n",
      "weighted avg       0.83      0.84      0.82     20000\n",
      "\n",
      "\n",
      "accuracy\n",
      " 0.8374\n"
     ]
    }
   ],
   "source": [
    "# Returns a NumPy Array\n",
    "predictions = svclassifier.predict(X_test_scaled)\n",
    "from sklearn.metrics import classification_report, confusion_matrix\n",
    "print(\"confusion matrix\\n\")\n",
    "print(confusion_matrix(y_test, predictions))\n",
    "print(\"\\nClassification report\\n\")\n",
    "print(classification_report(y_test, predictions))\n",
    "acc = mt.accuracy_score(y_test,predictions)\n",
    "print(\"\\naccuracy\\n\", acc )\n"
   ]
  },
  {
   "cell_type": "markdown",
   "metadata": {},
   "source": [
    "So the analysis here is basically telling us what the original statistics of the data looked like, and also what the statistics of the support vectors looked like. We can see that the separation in distributions is not as great as the separation for the original data. This is because the support vectors tend to be instances on the edge of the class boundaries and also instances that are classified incorrectly in the training data.\n",
    "\n",
    "You can also look at joint plots of the data and see how relationships have changed."
   ]
  },
  {
   "cell_type": "markdown",
   "metadata": {},
   "source": [
    "### SGD"
   ]
  },
  {
   "cell_type": "code",
   "execution_count": 19,
   "metadata": {},
   "outputs": [
    {
     "name": "stdout",
     "output_type": "stream",
     "text": [
      "Wall time: 0 ns\n"
     ]
    }
   ],
   "source": [
    "%%time\n",
    "# now divide the data into test and train using scikit learn built-ins\n",
    "\n",
    "cv = StratifiedShuffleSplit( n_splits=5,test_size=0.8)\n",
    "# use some compact notation for creating a linear SVM classifier with stochastic descent\n",
    "\n",
    "regularize_const = 0.01\n",
    "iterations = 500\n",
    "\n",
    "# use some compact notation for creating a logistic regression classifier with stochastic descent\n",
    "log_sgd = SGDClassifier(alpha=regularize_const,\n",
    "        fit_intercept=True, l1_ratio=1.0, learning_rate='optimal',\n",
    "        loss='log', n_iter_no_change=iterations, n_jobs=-1, penalty='l2', average = True, max_iter = 10000, tol=1e-5)\n"
   ]
  },
  {
   "cell_type": "code",
   "execution_count": 20,
   "metadata": {},
   "outputs": [
    {
     "name": "stderr",
     "output_type": "stream",
     "text": [
      "C:\\ProgramData\\Anaconda3\\envs\\ML7331\\lib\\site-packages\\sklearn\\utils\\validation.py:724: DataConversionWarning: A column-vector y was passed when a 1d array was expected. Please change the shape of y to (n_samples, ), for example using ravel().\n",
      "  y = column_or_1d(y, warn=True)\n",
      "C:\\ProgramData\\Anaconda3\\envs\\ML7331\\lib\\site-packages\\sklearn\\utils\\validation.py:724: DataConversionWarning: A column-vector y was passed when a 1d array was expected. Please change the shape of y to (n_samples, ), for example using ravel().\n",
      "  y = column_or_1d(y, warn=True)\n",
      "C:\\ProgramData\\Anaconda3\\envs\\ML7331\\lib\\site-packages\\sklearn\\utils\\validation.py:724: DataConversionWarning: A column-vector y was passed when a 1d array was expected. Please change the shape of y to (n_samples, ), for example using ravel().\n",
      "  y = column_or_1d(y, warn=True)\n",
      "C:\\ProgramData\\Anaconda3\\envs\\ML7331\\lib\\site-packages\\sklearn\\utils\\validation.py:724: DataConversionWarning: A column-vector y was passed when a 1d array was expected. Please change the shape of y to (n_samples, ), for example using ravel().\n",
      "  y = column_or_1d(y, warn=True)\n",
      "C:\\ProgramData\\Anaconda3\\envs\\ML7331\\lib\\site-packages\\sklearn\\utils\\validation.py:724: DataConversionWarning: A column-vector y was passed when a 1d array was expected. Please change the shape of y to (n_samples, ), for example using ravel().\n",
      "  y = column_or_1d(y, warn=True)\n"
     ]
    },
    {
     "name": "stdout",
     "output_type": "stream",
     "text": [
      "Logistic Regression: 0.8319\n"
     ]
    }
   ],
   "source": [
    "for train_idx, test_idx in cv.split(X,y):\n",
    "    log_sgd.fit(scl.fit_transform(X.iloc[train_idx]),y.iloc[train_idx])\n",
    "    yhat = log_sgd.predict(scl.transform(X.iloc[test_idx]))\n",
    "    \n",
    "    conf = mt.confusion_matrix(y.iloc[test_idx],yhat)\n",
    "    acc = mt.accuracy_score(y.iloc[test_idx],yhat)\n",
    "\n",
    "print('Logistic Regression:', acc)"
   ]
  },
  {
   "cell_type": "code",
   "execution_count": 21,
   "metadata": {},
   "outputs": [
    {
     "data": {
      "text/plain": [
       "array([[58595,  3289],\n",
       "       [10159,  7957]], dtype=int64)"
      ]
     },
     "execution_count": 21,
     "metadata": {},
     "output_type": "execute_result"
    }
   ],
   "source": [
    "conf"
   ]
  },
  {
   "cell_type": "code",
   "execution_count": 22,
   "metadata": {},
   "outputs": [
    {
     "name": "stdout",
     "output_type": "stream",
     "text": [
      "Wall time: 0 ns\n"
     ]
    }
   ],
   "source": [
    "%%time\n",
    "# use some compact notation for creating a linear SVM classifier with stichastic descent\n",
    "from sklearn.linear_model import SGDClassifier\n",
    "\n",
    "regularize_const = 0.01\n",
    "iterations = 500\n",
    "svm_sgd = SGDClassifier(alpha=regularize_const,\n",
    "        fit_intercept=True, l1_ratio=0.0, learning_rate='optimal',\n",
    "        loss='hinge', n_iter_no_change=iterations, n_jobs=-1, penalty='l2')\n",
    "\n",
    "scl = StandardScaler()\n"
   ]
  },
  {
   "cell_type": "code",
   "execution_count": 23,
   "metadata": {},
   "outputs": [
    {
     "name": "stderr",
     "output_type": "stream",
     "text": [
      "C:\\ProgramData\\Anaconda3\\envs\\ML7331\\lib\\site-packages\\sklearn\\utils\\validation.py:724: DataConversionWarning: A column-vector y was passed when a 1d array was expected. Please change the shape of y to (n_samples, ), for example using ravel().\n",
      "  y = column_or_1d(y, warn=True)\n",
      "C:\\ProgramData\\Anaconda3\\envs\\ML7331\\lib\\site-packages\\sklearn\\utils\\validation.py:724: DataConversionWarning: A column-vector y was passed when a 1d array was expected. Please change the shape of y to (n_samples, ), for example using ravel().\n",
      "  y = column_or_1d(y, warn=True)\n",
      "C:\\ProgramData\\Anaconda3\\envs\\ML7331\\lib\\site-packages\\sklearn\\utils\\validation.py:724: DataConversionWarning: A column-vector y was passed when a 1d array was expected. Please change the shape of y to (n_samples, ), for example using ravel().\n",
      "  y = column_or_1d(y, warn=True)\n",
      "C:\\ProgramData\\Anaconda3\\envs\\ML7331\\lib\\site-packages\\sklearn\\utils\\validation.py:724: DataConversionWarning: A column-vector y was passed when a 1d array was expected. Please change the shape of y to (n_samples, ), for example using ravel().\n",
      "  y = column_or_1d(y, warn=True)\n",
      "C:\\ProgramData\\Anaconda3\\envs\\ML7331\\lib\\site-packages\\sklearn\\utils\\validation.py:724: DataConversionWarning: A column-vector y was passed when a 1d array was expected. Please change the shape of y to (n_samples, ), for example using ravel().\n",
      "  y = column_or_1d(y, warn=True)\n"
     ]
    },
    {
     "name": "stdout",
     "output_type": "stream",
     "text": [
      "SVM: 0.8367375\n"
     ]
    }
   ],
   "source": [
    "for train_idx, test_idx in cv.split(X,y):\n",
    "    svm_sgd.fit(scl.fit_transform(X.iloc[train_idx]),y.iloc[train_idx])\n",
    "    yhat = svm_sgd.predict(scl.transform(X.iloc[test_idx]))\n",
    "    \n",
    "    conf = mt.confusion_matrix(y.iloc[test_idx],yhat)\n",
    "    acc = mt.accuracy_score(y.iloc[test_idx],yhat)\n",
    "\n",
    "print('SVM:', acc)\n"
   ]
  },
  {
   "cell_type": "code",
   "execution_count": null,
   "metadata": {},
   "outputs": [
    {
     "name": "stdout",
     "output_type": "stream",
     "text": [
      "Fitting 5 folds for each of 13440 candidates, totalling 67200 fits\n"
     ]
    },
    {
     "name": "stderr",
     "output_type": "stream",
     "text": [
      "[Parallel(n_jobs=4)]: Using backend LokyBackend with 4 concurrent workers.\n",
      "[Parallel(n_jobs=4)]: Done  42 tasks      | elapsed:   14.4s\n",
      "[Parallel(n_jobs=4)]: Done 192 tasks      | elapsed:  1.0min\n",
      "[Parallel(n_jobs=4)]: Done 442 tasks      | elapsed:  2.2min\n",
      "[Parallel(n_jobs=4)]: Done 792 tasks      | elapsed:  4.1min\n",
      "[Parallel(n_jobs=4)]: Done 1242 tasks      | elapsed:  6.4min\n",
      "[Parallel(n_jobs=4)]: Done 1792 tasks      | elapsed:  9.3min\n",
      "[Parallel(n_jobs=4)]: Done 2442 tasks      | elapsed: 12.5min\n",
      "[Parallel(n_jobs=4)]: Done 3192 tasks      | elapsed: 16.5min\n",
      "[Parallel(n_jobs=4)]: Done 4042 tasks      | elapsed: 20.5min\n",
      "[Parallel(n_jobs=4)]: Done 4992 tasks      | elapsed: 25.1min\n",
      "[Parallel(n_jobs=4)]: Done 6042 tasks      | elapsed: 30.2min\n",
      "[Parallel(n_jobs=4)]: Done 7192 tasks      | elapsed: 36.3min\n",
      "[Parallel(n_jobs=4)]: Done 8442 tasks      | elapsed: 43.4min\n",
      "[Parallel(n_jobs=4)]: Done 9792 tasks      | elapsed: 49.7min\n",
      "[Parallel(n_jobs=4)]: Done 11242 tasks      | elapsed: 55.9min\n",
      "[Parallel(n_jobs=4)]: Done 12792 tasks      | elapsed: 62.5min\n",
      "[Parallel(n_jobs=4)]: Done 14442 tasks      | elapsed: 70.6min\n",
      "[Parallel(n_jobs=4)]: Done 16192 tasks      | elapsed: 80.2min\n",
      "[Parallel(n_jobs=4)]: Done 18042 tasks      | elapsed: 89.4min\n",
      "[Parallel(n_jobs=4)]: Done 19992 tasks      | elapsed: 99.0min\n",
      "[Parallel(n_jobs=4)]: Done 22042 tasks      | elapsed: 108.8min\n",
      "[Parallel(n_jobs=4)]: Done 24192 tasks      | elapsed: 119.3min\n",
      "[Parallel(n_jobs=4)]: Done 26442 tasks      | elapsed: 130.5min\n",
      "[Parallel(n_jobs=4)]: Done 28792 tasks      | elapsed: 142.3min\n",
      "[Parallel(n_jobs=4)]: Done 31242 tasks      | elapsed: 154.1min\n"
     ]
    }
   ],
   "source": [
    "#Logisitic regression 10-fold cross-validation \n",
    "\n",
    "#Divide data into test and training splits\n",
    "cv = ShuffleSplit(n_splits=5, test_size=0.10, random_state=0)\n",
    "\n",
    "regEstimator = SGDClassifier()\n",
    "\n",
    "\n",
    "parameters = { \n",
    "              'alpha' : [0.0001, .001, .01, .1, 1, 10, 100],\n",
    "              'fit_intercept' : [True, False], \n",
    "              'l1_ratio' : [0.0, 0.15, 0.5, 0.75, 0.95],\n",
    "              'learning_rate' : ['invscaling', 'adaptive', 'optimal', 'constant'],\n",
    "              'loss' : ['hinge', 'log'], \n",
    "              'n_iter_no_change' : [1, 50, 500],\n",
    "              'penalty' : ['l2'],\n",
    "              'class_weight' : ['balanced'],\n",
    "              'eta0' : [ 0.25, 0.5, 0.75, 0.95],\n",
    "              'power_t' : [0.1, 0.5]    \n",
    "             }\n",
    "\n",
    "#Create a grid search object using the  \n",
    "\n",
    "regGridSearch = GridSearchCV(estimator=regEstimator\n",
    "                   , n_jobs=4 # jobs to run in parallel\n",
    "                   , verbose=1 # low verbosity\n",
    "                   , param_grid=parameters\n",
    "                   , cv=cv # KFolds = 10\n",
    "                   , scoring='accuracy')\n",
    "\n",
    "#Perform hyperparameter search to find the best combination of parameters for our data\n",
    "regGridSearch.fit(scl.transform(X_train_scaled), y_train)"
   ]
  },
  {
   "cell_type": "code",
   "execution_count": 40,
   "metadata": {},
   "outputs": [],
   "source": [
    "gridresultsgd = pd.DataFrame(regGridSearch.cv_results_)"
   ]
  },
  {
   "cell_type": "code",
   "execution_count": 41,
   "metadata": {},
   "outputs": [
    {
     "data": {
      "text/html": [
       "<div>\n",
       "<style scoped>\n",
       "    .dataframe tbody tr th:only-of-type {\n",
       "        vertical-align: middle;\n",
       "    }\n",
       "\n",
       "    .dataframe tbody tr th {\n",
       "        vertical-align: top;\n",
       "    }\n",
       "\n",
       "    .dataframe thead th {\n",
       "        text-align: right;\n",
       "    }\n",
       "</style>\n",
       "<table border=\"1\" class=\"dataframe\">\n",
       "  <thead>\n",
       "    <tr style=\"text-align: right;\">\n",
       "      <th></th>\n",
       "      <th>mean_fit_time</th>\n",
       "      <th>std_fit_time</th>\n",
       "      <th>mean_score_time</th>\n",
       "      <th>std_score_time</th>\n",
       "      <th>param_alpha</th>\n",
       "      <th>param_class_weight</th>\n",
       "      <th>param_eta0</th>\n",
       "      <th>param_fit_intercept</th>\n",
       "      <th>param_l1_ratio</th>\n",
       "      <th>param_learning_rate</th>\n",
       "      <th>...</th>\n",
       "      <th>param_power_t</th>\n",
       "      <th>params</th>\n",
       "      <th>split0_test_score</th>\n",
       "      <th>split1_test_score</th>\n",
       "      <th>split2_test_score</th>\n",
       "      <th>split3_test_score</th>\n",
       "      <th>split4_test_score</th>\n",
       "      <th>mean_test_score</th>\n",
       "      <th>std_test_score</th>\n",
       "      <th>rank_test_score</th>\n",
       "    </tr>\n",
       "  </thead>\n",
       "  <tbody>\n",
       "    <tr>\n",
       "      <td>960</td>\n",
       "      <td>0.118597</td>\n",
       "      <td>0.021443</td>\n",
       "      <td>0.000902</td>\n",
       "      <td>3.741529e-04</td>\n",
       "      <td>0.001</td>\n",
       "      <td>balanced</td>\n",
       "      <td>0.75</td>\n",
       "      <td>True</td>\n",
       "      <td>0</td>\n",
       "      <td>invscaling</td>\n",
       "      <td>...</td>\n",
       "      <td>0.1</td>\n",
       "      <td>{'alpha': 0.001, 'class_weight': 'balanced', '...</td>\n",
       "      <td>0.827917</td>\n",
       "      <td>0.846250</td>\n",
       "      <td>0.803333</td>\n",
       "      <td>0.826250</td>\n",
       "      <td>0.828750</td>\n",
       "      <td>0.826500</td>\n",
       "      <td>0.013667</td>\n",
       "      <td>1</td>\n",
       "    </tr>\n",
       "    <tr>\n",
       "      <td>322</td>\n",
       "      <td>0.237775</td>\n",
       "      <td>0.030417</td>\n",
       "      <td>0.000998</td>\n",
       "      <td>3.933834e-06</td>\n",
       "      <td>0.0001</td>\n",
       "      <td>balanced</td>\n",
       "      <td>0.75</td>\n",
       "      <td>True</td>\n",
       "      <td>0</td>\n",
       "      <td>invscaling</td>\n",
       "      <td>...</td>\n",
       "      <td>0.1</td>\n",
       "      <td>{'alpha': 0.0001, 'class_weight': 'balanced', ...</td>\n",
       "      <td>0.832500</td>\n",
       "      <td>0.847500</td>\n",
       "      <td>0.808333</td>\n",
       "      <td>0.813333</td>\n",
       "      <td>0.822917</td>\n",
       "      <td>0.824917</td>\n",
       "      <td>0.014005</td>\n",
       "      <td>2</td>\n",
       "    </tr>\n",
       "    <tr>\n",
       "      <td>1021</td>\n",
       "      <td>0.047503</td>\n",
       "      <td>0.015049</td>\n",
       "      <td>0.001001</td>\n",
       "      <td>9.841808e-07</td>\n",
       "      <td>0.001</td>\n",
       "      <td>balanced</td>\n",
       "      <td>0.75</td>\n",
       "      <td>True</td>\n",
       "      <td>0.75</td>\n",
       "      <td>constant</td>\n",
       "      <td>...</td>\n",
       "      <td>0.5</td>\n",
       "      <td>{'alpha': 0.001, 'class_weight': 'balanced', '...</td>\n",
       "      <td>0.807500</td>\n",
       "      <td>0.833750</td>\n",
       "      <td>0.813333</td>\n",
       "      <td>0.827500</td>\n",
       "      <td>0.823750</td>\n",
       "      <td>0.821167</td>\n",
       "      <td>0.009521</td>\n",
       "      <td>3</td>\n",
       "    </tr>\n",
       "    <tr>\n",
       "      <td>622</td>\n",
       "      <td>0.046094</td>\n",
       "      <td>0.006704</td>\n",
       "      <td>0.000899</td>\n",
       "      <td>1.986292e-04</td>\n",
       "      <td>0.0001</td>\n",
       "      <td>balanced</td>\n",
       "      <td>0.95</td>\n",
       "      <td>False</td>\n",
       "      <td>0.75</td>\n",
       "      <td>constant</td>\n",
       "      <td>...</td>\n",
       "      <td>0.1</td>\n",
       "      <td>{'alpha': 0.0001, 'class_weight': 'balanced', ...</td>\n",
       "      <td>0.815000</td>\n",
       "      <td>0.821667</td>\n",
       "      <td>0.814583</td>\n",
       "      <td>0.818750</td>\n",
       "      <td>0.830000</td>\n",
       "      <td>0.820000</td>\n",
       "      <td>0.005633</td>\n",
       "      <td>4</td>\n",
       "    </tr>\n",
       "    <tr>\n",
       "      <td>219</td>\n",
       "      <td>0.240432</td>\n",
       "      <td>0.076050</td>\n",
       "      <td>0.000702</td>\n",
       "      <td>4.015813e-04</td>\n",
       "      <td>0.0001</td>\n",
       "      <td>balanced</td>\n",
       "      <td>0.5</td>\n",
       "      <td>True</td>\n",
       "      <td>0.75</td>\n",
       "      <td>optimal</td>\n",
       "      <td>...</td>\n",
       "      <td>0.5</td>\n",
       "      <td>{'alpha': 0.0001, 'class_weight': 'balanced', ...</td>\n",
       "      <td>0.827917</td>\n",
       "      <td>0.845417</td>\n",
       "      <td>0.831667</td>\n",
       "      <td>0.836250</td>\n",
       "      <td>0.754583</td>\n",
       "      <td>0.819167</td>\n",
       "      <td>0.032817</td>\n",
       "      <td>5</td>\n",
       "    </tr>\n",
       "  </tbody>\n",
       "</table>\n",
       "<p>5 rows × 22 columns</p>\n",
       "</div>"
      ],
      "text/plain": [
       "      mean_fit_time  std_fit_time  mean_score_time  std_score_time  \\\n",
       "960        0.118597      0.021443         0.000902    3.741529e-04   \n",
       "322        0.237775      0.030417         0.000998    3.933834e-06   \n",
       "1021       0.047503      0.015049         0.001001    9.841808e-07   \n",
       "622        0.046094      0.006704         0.000899    1.986292e-04   \n",
       "219        0.240432      0.076050         0.000702    4.015813e-04   \n",
       "\n",
       "     param_alpha param_class_weight param_eta0 param_fit_intercept  \\\n",
       "960        0.001           balanced       0.75                True   \n",
       "322       0.0001           balanced       0.75                True   \n",
       "1021       0.001           balanced       0.75                True   \n",
       "622       0.0001           balanced       0.95               False   \n",
       "219       0.0001           balanced        0.5                True   \n",
       "\n",
       "     param_l1_ratio param_learning_rate  ... param_power_t  \\\n",
       "960               0          invscaling  ...           0.1   \n",
       "322               0          invscaling  ...           0.1   \n",
       "1021           0.75            constant  ...           0.5   \n",
       "622            0.75            constant  ...           0.1   \n",
       "219            0.75             optimal  ...           0.5   \n",
       "\n",
       "                                                 params split0_test_score  \\\n",
       "960   {'alpha': 0.001, 'class_weight': 'balanced', '...          0.827917   \n",
       "322   {'alpha': 0.0001, 'class_weight': 'balanced', ...          0.832500   \n",
       "1021  {'alpha': 0.001, 'class_weight': 'balanced', '...          0.807500   \n",
       "622   {'alpha': 0.0001, 'class_weight': 'balanced', ...          0.815000   \n",
       "219   {'alpha': 0.0001, 'class_weight': 'balanced', ...          0.827917   \n",
       "\n",
       "     split1_test_score  split2_test_score  split3_test_score  \\\n",
       "960           0.846250           0.803333           0.826250   \n",
       "322           0.847500           0.808333           0.813333   \n",
       "1021          0.833750           0.813333           0.827500   \n",
       "622           0.821667           0.814583           0.818750   \n",
       "219           0.845417           0.831667           0.836250   \n",
       "\n",
       "      split4_test_score  mean_test_score  std_test_score  rank_test_score  \n",
       "960            0.828750         0.826500        0.013667                1  \n",
       "322            0.822917         0.824917        0.014005                2  \n",
       "1021           0.823750         0.821167        0.009521                3  \n",
       "622            0.830000         0.820000        0.005633                4  \n",
       "219            0.754583         0.819167        0.032817                5  \n",
       "\n",
       "[5 rows x 22 columns]"
      ]
     },
     "execution_count": 41,
     "metadata": {},
     "output_type": "execute_result"
    }
   ],
   "source": [
    "gridresultsgd.sort_values(by=['rank_test_score'], ascending=True).head()"
   ]
  },
  {
   "cell_type": "markdown",
   "metadata": {
    "colab_type": "text",
    "id": "GDyKKT0mnSmE"
   },
   "source": [
    "### Advantages  [10 points] \n",
    "Discuss the advantages of each model for each classification task. Does one\n",
    "type of model offer superior performance over another in terms of prediction accuracy? In\n",
    "terms of training time or efficiency? Explain in detail. \n",
    "\n",
    "#### Logistic Regression\n",
    "* Advantages - There is less transformation needed in order to make the model return in a reasonable amount of time. Scaler transformation will increase the accuracy, but is not required for peroformance as the model performs well at scale regardless of whether the data is normalized or not. \n",
    "* Performance - There are many different setting that allow the model to have the best possible accuracy. These methods can be iterated with a grid search method. \n",
    "*  Training Time efficiency is very good at large scales and does not suffer as volume of data increases.\n",
    "\n",
    "#### Support Vector Machine\n",
    "* Advantages - From Tan book Chapter 5 - A classification technique that has received considerable attention is support vector machine (SVM). This technique has its roots in statistical learning theory and has shown promising empirical results in many practical applications, from handwritten digit recognition to text categorization. SVM also works very well with high-dimensional data and avoids the curse of dimensionality problem. Another unique aspect of this approach is that it represents the decision boundary using a subset of the training examples, known as the support vectors.  \n",
    " However, in order to get high accuracy scaling and high penalties must be set to achieve accuracy with unbalanced data. \n",
    "* Performance - Changing the cost to value 1000, after previously using 1, 10, and 100 the performance of prediciton accuracy improves over that of logistic regession.  In order to get a result in a similiar amount of time as logistic regression accuracy is sacrficed. \n",
    "* Training Time\n",
    "    * Slow with large data volume and features\n",
    "    * Transformation of data helps\n",
    "    * Very slow with high cost.\n",
    "\n",
    "#### Stochastic Gradiant Descent\n",
    "* Advantages\n",
    "* Performance\n",
    "   \n",
    "    \n",
    "\n",
    "#### Conclusion\n",
    "The logistic regression provides a way to quickly get to a model, though has less accuracy when compared to SVM.  SVM is very accurate while its performance degrades very quickly with large volumes of data with rows and also with a large number of features. \n"
   ]
  },
  {
   "cell_type": "markdown",
   "metadata": {
    "colab_type": "text",
    "id": "VX-oO4qOnSmF"
   },
   "source": [
    "###  Interpret  [30 points] \n",
    "Use the weights from logistic regression to interpret the importance of different\n",
    "features for the classification task. Explain your interpretation in detail. Why do you think\n",
    "some variables are more important? \n",
    "\n",
    "The two fields \"Average of cost_per_liter_trans\" and \"Average of state_bottle_cost_trans\" seem to have the highest coeficients on the logistic regression model. \n",
    "\n",
    "Type\t     Average of cost_per_liter_trans\tAverage of state_bottle_cost_trans\n",
    "Not Whiskey\t 2.675545886\t                    1.999205623\n",
    "Whiskey      3.545918698\t                    2.871239458\n",
    "\n",
    "Add a t-test to show they are significantly different averages? \n",
    "\n",
    "The model seems to point out that price is the largest differentiator of the available characteristics. Whiskey is more expensive than other liquors. A higher cost per bottle can be used to identify whether a trancation was Whiskey or not. Other numeric features that are present represent bottle size and quanities of bottles sold. Since bottle sizes are fairly standard across the different types of liquors and quantity sold are well balanced across the liquor types and Whiskey is in the middle of the pack for these measures they do not have as much impact."
   ]
  },
  {
   "cell_type": "code",
   "execution_count": null,
   "metadata": {
    "colab": {
     "base_uri": "https://localhost:8080/",
     "height": 153
    },
    "colab_type": "code",
    "id": "Ye0EUAwn19qH",
    "outputId": "db97e541-231c-4e5d-9c2f-4b74332eadab"
   },
   "outputs": [],
   "source": [
    "# interpret the weights\n",
    "# iterate over the coefficients\n",
    "weights2 = logisticRegr.coef_.T # take transpose to make a column vector\n",
    "variable_names = X.columns\n",
    "for coef, name in zip(weights2,variable_names):\n",
    "    print(name, 'has weight of', coef[0])\n",
    "    \n",
    "# does this look correct? "
   ]
  },
  {
   "cell_type": "code",
   "execution_count": null,
   "metadata": {
    "colab": {
     "base_uri": "https://localhost:8080/",
     "height": 394
    },
    "colab_type": "code",
    "id": "NFTKvdcf2DyB",
    "outputId": "a4c1bc94-b802-4a61-d93e-8ce14fc34dc8"
   },
   "outputs": [],
   "source": [
    "# now let's make a pandas Series with the names and values, and plot them\n",
    "%matplotlib inline\n",
    "plt.style.use('ggplot')\n",
    "\n",
    "\n",
    "weights = pd.Series(logisticRegr.coef_[0],index=X.columns)\n",
    "weights.plot(kind='bar')\n",
    "plt.show()"
   ]
  },
  {
   "cell_type": "markdown",
   "metadata": {
    "colab_type": "text",
    "id": "yVHNEFrTnSmG"
   },
   "source": [
    "### Insight into the data [10 points]\n",
    "Look at the chosen support vectors for the classification task. Do these provide\n",
    "any insight into the data? Explain. If you used stochastic gradient descent (and therefore did\n",
    "not explicitly solve for support vectors), try subsampling your data to train the SVC model—\n",
    "then analyze the support vectors from the subsampled dataset. "
   ]
  },
  {
   "cell_type": "code",
   "execution_count": 0,
   "metadata": {
    "colab": {
     "base_uri": "https://localhost:8080/",
     "height": 238
    },
    "colab_type": "code",
    "id": "OXMl4cgmnSmH",
    "outputId": "bc4146c2-dd1d-4d79-f88c-389c870bd348"
   },
   "outputs": [
    {
     "data": {
      "text/plain": [
       "array([[ 0.04172852,  0.3721708 ,  1.1229617 , ..., -0.66089127,\n",
       "        -0.70389697, -0.26280584],\n",
       "       [ 0.68132163,  0.0737954 ,  0.68644563, ...,  0.13752377,\n",
       "        -0.02330599, -0.26280584],\n",
       "       [ 0.89149549,  0.04219618,  0.62906725, ...,  0.34659634,\n",
       "        -0.70389697,  0.27676159],\n",
       "       ...,\n",
       "       [ 1.02543744,  0.39064988,  1.14532376, ...,  0.13752377,\n",
       "        -0.70389697, -0.26280584],\n",
       "       [ 0.19106698, -0.39877606, -0.7808375 , ...,  0.64126757,\n",
       "        -0.02330599, -0.26280584],\n",
       "       [ 0.68979404,  0.08020147,  0.69774358, ...,  0.13752377,\n",
       "        -0.70389697, -0.26280584]])"
      ]
     },
     "execution_count": 74,
     "metadata": {
      "tags": []
     },
     "output_type": "execute_result"
    }
   ],
   "source": [
    "#view support vectors\n",
    "model.support_vectors_"
   ]
  },
  {
   "cell_type": "code",
   "execution_count": 0,
   "metadata": {
    "colab": {
     "base_uri": "https://localhost:8080/",
     "height": 34
    },
    "colab_type": "code",
    "id": "L2A_wTYZ1p7X",
    "outputId": "5ae7f79e-61f6-41b0-f825-29892592380e"
   },
   "outputs": [
    {
     "data": {
      "text/plain": [
       "array([    0,     9,    11, ..., 79980, 79984, 79987], dtype=int32)"
      ]
     },
     "execution_count": 75,
     "metadata": {
      "tags": []
     },
     "output_type": "execute_result"
    }
   ],
   "source": [
    "# View indicies of support vectors\n",
    "model.support_"
   ]
  },
  {
   "cell_type": "markdown",
   "metadata": {
    "colab_type": "text",
    "id": "qxAYjH4AWOmK"
   },
   "source": [
    "This chooses all the misclassified items as a support vectors."
   ]
  },
  {
   "cell_type": "code",
   "execution_count": 0,
   "metadata": {
    "colab": {
     "base_uri": "https://localhost:8080/",
     "height": 34
    },
    "colab_type": "code",
    "id": "mHkRqABz1zz2",
    "outputId": "cb2cae21-8a92-4d24-ca05-3d8fd61f835c"
   },
   "outputs": [
    {
     "data": {
      "text/plain": [
       "array([14457, 14435], dtype=int32)"
      ]
     },
     "execution_count": 76,
     "metadata": {
      "tags": []
     },
     "output_type": "execute_result"
    }
   ],
   "source": [
    "#view number of support vectors for each class\n",
    "model.n_support_"
   ]
  },
  {
   "cell_type": "markdown",
   "metadata": {
    "colab_type": "text",
    "id": "d4XKEUr0WVPU"
   },
   "source": [
    "We used 14,000 instances of Whiskey and Nonwhiskey to build our decision boundary."
   ]
  },
  {
   "cell_type": "code",
   "execution_count": 0,
   "metadata": {
    "colab": {
     "base_uri": "https://localhost:8080/",
     "height": 445
    },
    "colab_type": "code",
    "id": "aPO1D6PsWd0P",
    "outputId": "b90b5917-1dc1-44b7-e458-93254fa3b913"
   },
   "outputs": [
    {
     "name": "stdout",
     "output_type": "stream",
     "text": [
      "[[-0.61779238  0.01725721 -0.26736576  1.74130624  0.93580436 -0.34449688\n",
      "   0.05279718 -0.32864875]]\n"
     ]
    },
    {
     "data": {
      "text/plain": [
       "<matplotlib.axes._subplots.AxesSubplot at 0x7f55ad5f5438>"
      ]
     },
     "execution_count": 131,
     "metadata": {
      "tags": []
     },
     "output_type": "execute_result"
    },
    {
     "data": {
      "image/png": "[encoded data removed]",
      "text/plain": [
       "<Figure size 432x288 with 1 Axes>"
      ]
     },
     "metadata": {
      "tags": []
     },
     "output_type": "display_data"
    }
   ],
   "source": [
    "# if using linear kernel, these make sense to look at (not otherwise, why?)\n",
    "print(model.coef_)\n",
    "weights3 = pd.Series(model.coef_[0],index=X_train.columns)\n",
    "weights3.plot(kind='bar')"
   ]
  },
  {
   "cell_type": "code",
   "execution_count": 32,
   "metadata": {
    "colab": {
     "base_uri": "https://localhost:8080/",
     "height": 122
    },
    "colab_type": "code",
    "id": "nANPYoqN7OuQ",
    "outputId": "e4c4aa1e-7ed4-41ff-9129-253f928eef66"
   },
   "outputs": [
    {
     "name": "stderr",
     "output_type": "stream",
     "text": [
      "C:\\ProgramData\\Anaconda3\\lib\\site-packages\\sklearn\\utils\\validation.py:760: DataConversionWarning: A column-vector y was passed when a 1d array was expected. Please change the shape of y to (n_samples, ), for example using ravel().\n",
      "  y = column_or_1d(y, warn=True)\n"
     ]
    },
    {
     "name": "stdout",
     "output_type": "stream",
     "text": [
      "accuracy: 0.87355\n",
      "[[14485  1041]\n",
      " [ 1488  2986]]\n"
     ]
    }
   ],
   "source": [
    "# scale attributes by the training set\n",
    "scl_obj = StandardScaler()\n",
    "scl_obj.fit(X_train) # find scalings for each column that make this zero mean and unit std\n",
    "# the line of code above only looks at training data to get mean and std and we can use it \n",
    "# to transform new feature data\n",
    "\n",
    "X_train_scaled = scl_obj.transform(X_train) # apply to training\n",
    "X_test_scaled = scl_obj.transform(X_test)\n",
    "\n",
    "# train the model just as before\n",
    "svm_clf = SVC(C=0.5, kernel='rbf', degree=3, gamma='auto') # get object\n",
    "svm_clf.fit(X_train_scaled, y_train)  # train object\n",
    "\n",
    "y_hat = svm_clf.predict(X_test_scaled) # get test set precitions\n",
    "\n",
    "acc = mt.accuracy_score(y_test,y_hat)\n",
    "conf = mt.confusion_matrix(y_test,y_hat)\n",
    "print('accuracy:', acc )\n",
    "print(conf)"
   ]
  }
 ],
 "metadata": {
  "colab": {
   "include_colab_link": true,
   "name": "Mini-Project SVMLR Classification-Copy1.ipynb",
   "provenance": []
  },
  "kernelspec": {
   "display_name": "Python 3",
   "language": "python",
   "name": "python3"
  },
  "language_info": {
   "codemirror_mode": {
    "name": "ipython",
    "version": 3
   },
   "file_extension": ".py",
   "mimetype": "text/x-python",
   "name": "python",
   "nbconvert_exporter": "python",
   "pygments_lexer": "ipython3",
   "version": "3.7.1"
  }
 },
 "nbformat": 4,
 "nbformat_minor": 1
}
