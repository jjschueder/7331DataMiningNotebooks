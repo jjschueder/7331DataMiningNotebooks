{
  "nbformat": 4,
  "nbformat_minor": 0,
  "metadata": {
    "colab": {
      "name": "Copy of msds7331_mini_clark_schueder_vela_washburn.ipynb",
      "provenance": [],
      "collapsed_sections": [],
      "toc_visible": true
    },
    "kernelspec": {
      "name": "python3",
      "display_name": "Python 3"
    },
    "language_info": {
      "codemirror_mode": {
        "name": "ipython",
        "version": 3
      },
      "file_extension": ".py",
      "mimetype": "text/x-python",
      "name": "python",
      "nbconvert_exporter": "python",
      "pygments_lexer": "ipython3",
      "version": "3.7.6"
    }
  },
  "cells": [
    {
      "cell_type": "markdown",
      "metadata": {
        "colab_type": "text",
        "id": "qhqdMtT3nSiG"
      },
      "source": [
        "# Mini-Project: SVM & LR Classification - project guidelines\n",
        "You are to perform predictive analysis (classification) upon a data set: model the dataset using\n",
        "methods we have discussed in class: logistic regression & support vector machines and making\n",
        "conclusions from the analysis. Follow the CRISP-DM framework in your analysis (you are not\n",
        "performing all of the CRISP-DM outline, only the portions relevant to the grading rubric outlined\n",
        "below). This report is worth 10% of the final grade. You may complete this assignment in teams\n",
        "of as many as three people.\n",
        "Write a report covering all the steps of the project. The format of the document can be PDF,\n",
        "*.ipynb, or HTML. You can write the report in whatever format you like, but it is easiest to turn in\n",
        "the rendered Jupyter notebook. The results should be reproducible using your report. Please\n",
        "carefully describe every assumption and every step in your report.\n",
        "A note on grading: A common mistake I see in this lab is not investigating different input\n",
        "parameters for each model. Try a number of parameter combinations and discuss how the model changed. \n",
        "\n"
      ]
    },
    {
      "cell_type": "markdown",
      "metadata": {
        "id": "OSgE3De7drJu",
        "colab_type": "text"
      },
      "source": [
        "# Mini-Project: SVM & LR Classification - project requirements\n",
        "*   [50 points] Logistic Regression and Support Vector Machine models\n",
        "   * Create logistic regression model and support vector machine model for classification task in dataset.\n",
        "      * Logistic regression - fulfilled w/ M1, M2, M5, M6\n",
        "      * SVM - fulfilled w/ M3, M4\n",
        "   * Assess how well each model performs (use 80/20 training/testing split of our data)\n",
        "      * Fulfilled w/ prediction section of each model\n",
        "   * Adjust parameters of the models to make them more accurate\n",
        "      * Logistic Regression - fulfilled w/ M2\n",
        "      * SVM - fulled w/ M4\n",
        "   * If dataset size requires stochastic gradient descent, then linear kernel only is fine - meaning: SGDClassifier can be used to optimize logistic regression and linear support vector machines.  For many problems, SGD will be required in order to train the SVM model in reasonable timeframe\n",
        "      * Logistic Regression - fulfilled w/ M5, M6\n",
        "      * SVM - fulfilled w/ M7\n",
        "*   [10 points] Model advantages\n",
        "   * Discuss advantages of each model for each classfication task\n",
        "      * Fulfilled in Evaluation-->Model Advantages\n",
        "   * Does type of model offer superior performance over another in terms of prediction accuracy\n",
        "      * Fulfilled in Evaluation-->Model Advantages Conclusion\n",
        "   * Does type of model offer superior performance over another in terms training time or efficiency\n",
        "      * Fulfilled in the Evaluation-->Model Advantages (each type)\n",
        "*   [30 points] Feature importance\n",
        "   * Use the weights from logistic regression to interpret the importance of different features for the classification task in detail\n",
        "      * Fulfilled in Evaluation-->Feature Importance\n",
        "   * Why do we think some variables are more important than others\n",
        "      * Fulfilled in Evaluation-->Feature Importance\n",
        "*   [10 points] Support Vector Analysis\n",
        "   * Looking at the chosen support vectors for the classfication task, answer the following:\n",
        "      * Do these provide any insight into the data? Explain\n",
        "      * If stochastic gradient descent used; therefore, did not explicitlity solve for support vectors\n",
        "         * Subsample the data to train the SVC model\n",
        "            * SVM - fulfilled in M7\n",
        "         * Analyze support vectors from subsampled dataset\n",
        "            * Fulfilled in Evaluation-->Support Vector Analysis"
      ]
    },
    {
      "cell_type": "markdown",
      "metadata": {
        "colab_type": "text",
        "id": "jmTlKM_UnSiP"
      },
      "source": [
        "#Mini-Project: SVM & LR Classification"
      ]
    },
    {
      "cell_type": "markdown",
      "metadata": {
        "id": "SBwy_rCue3sN",
        "colab_type": "text"
      },
      "source": [
        "##Team\n",
        "\n",
        "* Joseph Schueder\n",
        "* Armando Vela\n",
        "* Daniel Clark\n",
        "* Jeff Washburn"
      ]
    },
    {
      "cell_type": "markdown",
      "metadata": {
        "id": "cBTqQnSVewMl",
        "colab_type": "text"
      },
      "source": [
        "##Business Understanding\n",
        "\n",
        "Introduction - The Iowa Liquor Sales dataset is an API from Google’s Bigquery which contains the wholesale purchases by retail stores in the Iowa area.  The dataset includes the spirit purchase details by product, date of purchase, and location the item was purchased from an Iowa Class “E” liquor license holder (retail stores). The time frame of this data starts from January 1, 2012 through December 31, 2019. As part of the study commissioned by the Iowa Department of Commerce, all alcoholic sales within the state were logged into the Department system, and in turn, published as open data by the State of Iowa. The dataset contains detail on the name, product, quantity and location of the individual container or package sale between the wholesaler (vendor) and the retailer.\n",
        "\n",
        "\n",
        "\n",
        "###1.   Set Objectives\n",
        "\n",
        "\n",
        "> Having found that Iowa is a prime market for different kind of liquor sales, we want to investigate the current sales trends between Whiskey Sales vs Non-Whiskey sales.  We would like to classify the liquor sales based on if it will be a Whiskey sale or not.  \n",
        "\n",
        "\n",
        "###2.   Product Project Plan\n",
        "\n",
        "> To meet our goals, we will build upon the dataset we used in our initial analysis to focus in on the Whiskey and Non-Whiskey sales.  We will use the same 400k rows from the last analysis and in addition further cleansing was done to 1 hot encode some of the categorical features, which will be our starting point on the data.\n",
        "\n",
        "###3.   Business Success Criteria\n",
        "\n",
        "> For our classification models, we will consider our model successful if we can classify the presence of Whiskey vs Non-Whiskey in the sales tranaction with an accuracy of 89% or higher.  We will use cross-validaton using a split of 80% of the data for training and 20% of the data for testing to evaulate the performance of our classifiers.  We will build 2 different classification models - 1) using logistic regression, and 2) support vector machines (SVMs).  Since our data set is so large, we will also optimize both classification models using stochastic gradient descent using the linear kernel.  This will help train our models in a reasonable timeframe\n",
        "\n",
        "\n",
        "\n"
      ]
    },
    {
      "cell_type": "markdown",
      "metadata": {
        "id": "AsKFLvq2j5su",
        "colab_type": "text"
      },
      "source": [
        "## Data Understanding\n",
        "\n",
        "The initial data set was 4.63GB with 17.7 million rows.  We subsetted that down to 400k rows using a random set of data from the 2019 sales data.  This work was done in our initial processing from earlier.\n",
        "\n",
        "So taking our initial processing that was done from previous work, we further refined the 400k dataset by one-hot encoding the categorical features for sales month, liquor categories, and the stores.  The stores will not be used in this analysis; however, it was still one-hot encoded for future analysis\n",
        "\n",
        "It's also worth noting, that we used the log transformed values for sales dollars, cost per liter, state bottle cost and volume sold in liters along with the liquor catogory to focus on our classification\n",
        "\n"
      ]
    },
    {
      "cell_type": "markdown",
      "metadata": {
        "id": "F_WkOv5ll__p",
        "colab_type": "text"
      },
      "source": [
        "## Data Preparation"
      ]
    },
    {
      "cell_type": "code",
      "metadata": {
        "colab_type": "code",
        "id": "lPXTcIccnSiW",
        "colab": {}
      },
      "source": [
        "# import necessary packages for complete analysis\n",
        "import pandas as pd\n",
        "import numpy as np\n",
        "from sklearn import preprocessing\n",
        "import matplotlib.pyplot as plt \n",
        "plt.rc(\"font\", size=14)\n",
        "from matplotlib import pyplot\n",
        "from sklearn.model_selection import train_test_split\n",
        "from sklearn import linear_model\n",
        "import seaborn as sns\n",
        "sns.set(style=\"white\")\n",
        "sns.set(style=\"whitegrid\", color_codes=True)\n",
        "from sklearn.linear_model import LogisticRegression\n",
        "from sklearn import metrics as mt\n",
        "from sklearn.model_selection import ShuffleSplit\n",
        "from sklearn import metrics \n",
        "from sklearn.model_selection import cross_validate\n",
        "from sklearn.model_selection import GridSearchCV\n",
        "from sklearn.metrics import roc_curve\n",
        "from sklearn.metrics import roc_auc_score\n",
        "from sklearn.preprocessing import StandardScaler\n",
        "from sklearn.metrics import precision_recall_curve\n",
        "from sklearn.metrics import f1_score\n",
        "from sklearn.metrics import auc\n",
        "from sklearn.metrics import classification_report, confusion_matrix\n",
        "from sklearn import preprocessing\n",
        "from sklearn.svm import SVC\n",
        "from sklearn.model_selection import StratifiedShuffleSplit \n",
        "from sklearn.linear_model import SGDClassifier"
      ],
      "execution_count": 0,
      "outputs": []
    },
    {
      "cell_type": "markdown",
      "metadata": {
        "colab_type": "text",
        "id": "6I6a7elv4W0h"
      },
      "source": [
        "### Load Dataset"
      ]
    },
    {
      "cell_type": "code",
      "metadata": {
        "colab_type": "code",
        "id": "Mo0kRfD4nSik",
        "colab": {}
      },
      "source": [
        "# The data was produced from the Iowa Alcohol Dataset 2019 year data.  The total data set size has over 17 million rows.  We took\n",
        "# a subet of that data, 400,000 rows\n",
        "\n",
        "# The 400k rows were cleansed and transformed lab1 and exported as a csv to github for use here.\n",
        "# source python notebook: https://github.com/jjschueder/7331DataMiningNotebooks/blob/master/lab1/msds7331_clark_schueder_vela_washburn.ipynb\n",
        "\n",
        "# Further cleansing was done to 1 hot encode some of the categorical features, which is what we are reading in here.  Still using 400k rows of data\n",
        "\n",
        "# read csv from github directly\n",
        "url_dataset = 'https://raw.githubusercontent.com/jjschueder/7331DataMiningNotebooks/master/Live%20Assignments/df1hotmerge2.csv'\n",
        "data = pd.read_csv(url_dataset) #full dataset of 400k rows\n",
        "#data = pd.read_csv(url_dataset, nrows=100000) #smaller subset of data of nrows"
      ],
      "execution_count": 0,
      "outputs": []
    },
    {
      "cell_type": "markdown",
      "metadata": {
        "id": "cx4qDu_gnml3",
        "colab_type": "text"
      },
      "source": [
        "###Columns and Descriptors"
      ]
    },
    {
      "cell_type": "code",
      "metadata": {
        "id": "7m5y9Iw-nsYs",
        "colab_type": "code",
        "outputId": "6ebc8354-746c-4f46-cbc0-f3c8be00a897",
        "colab": {
          "base_uri": "https://localhost:8080/",
          "height": 1000
        }
      },
      "source": [
        "data.info()"
      ],
      "execution_count": 0,
      "outputs": [
        {
          "output_type": "stream",
          "text": [
            "<class 'pandas.core.frame.DataFrame'>\n",
            "RangeIndex: 400000 entries, 0 to 399999\n",
            "Data columns (total 68 columns):\n",
            "Unnamed: 0                  400000 non-null int64\n",
            "pack                        400000 non-null int64\n",
            "bottle_volume_ml            400000 non-null int64\n",
            "state_bottle_cost           400000 non-null float64\n",
            "state_bottle_retail         400000 non-null float64\n",
            "bottles_sold                400000 non-null int64\n",
            "sale_dollars                400000 non-null float64\n",
            "volume_sold_liters          400000 non-null float64\n",
            "volume_sold_gallons         400000 non-null float64\n",
            "counter                     400000 non-null int64\n",
            "liquor_category             400000 non-null object\n",
            "store_parent                400000 non-null object\n",
            "month                       400000 non-null object\n",
            "year                        400000 non-null int64\n",
            "monthyear                   400000 non-null object\n",
            "liquor_category_AMARETTO    400000 non-null int64\n",
            "liquor_category_BRANDY      400000 non-null int64\n",
            "liquor_category_GIN         400000 non-null int64\n",
            "liquor_category_LIQUEUR     400000 non-null int64\n",
            "liquor_category_Other       400000 non-null int64\n",
            "liquor_category_RUM         400000 non-null int64\n",
            "liquor_category_SCHNAPPS    400000 non-null int64\n",
            "liquor_category_TEQUILA     400000 non-null int64\n",
            "liquor_category_VODKA       400000 non-null int64\n",
            "liquor_category_WHISKY      400000 non-null int64\n",
            "store_parent_CVS            400000 non-null int64\n",
            "store_parent_Caseys         400000 non-null int64\n",
            "store_parent_Hy-Vee         400000 non-null int64\n",
            "store_parent_Kum&Go         400000 non-null int64\n",
            "store_parent_Other          400000 non-null int64\n",
            "store_parent_QuikTrip       400000 non-null int64\n",
            "store_parent_SamsClub       400000 non-null int64\n",
            "store_parent_SmokingJoes    400000 non-null int64\n",
            "store_parent_Target         400000 non-null int64\n",
            "store_parent_Wal-Mart       400000 non-null int64\n",
            "store_parent_Walgreens      400000 non-null int64\n",
            "month_Apr                   400000 non-null int64\n",
            "month_Aug                   400000 non-null int64\n",
            "month_Dec                   400000 non-null int64\n",
            "month_Feb                   400000 non-null int64\n",
            "month_Jan                   400000 non-null int64\n",
            "month_Jul                   400000 non-null int64\n",
            "month_Jun                   400000 non-null int64\n",
            "month_Mar                   400000 non-null int64\n",
            "month_May                   400000 non-null int64\n",
            "month_Nov                   400000 non-null int64\n",
            "month_Oct                   400000 non-null int64\n",
            "month_Sep                   400000 non-null int64\n",
            "year_2019                   400000 non-null int64\n",
            "monthyear_Apr-2019          400000 non-null int64\n",
            "monthyear_Aug-2019          400000 non-null int64\n",
            "monthyear_Dec-2019          400000 non-null int64\n",
            "monthyear_Feb-2019          400000 non-null int64\n",
            "monthyear_Jan-2019          400000 non-null int64\n",
            "monthyear_Jul-2019          400000 non-null int64\n",
            "monthyear_Jun-2019          400000 non-null int64\n",
            "monthyear_Mar-2019          400000 non-null int64\n",
            "monthyear_May-2019          400000 non-null int64\n",
            "monthyear_Nov-2019          400000 non-null int64\n",
            "monthyear_Oct-2019          400000 non-null int64\n",
            "monthyear_Sep-2019          400000 non-null int64\n",
            "sale_dollars_trans          400000 non-null float64\n",
            "cost_per_liter              400000 non-null float64\n",
            "cost_per_liter_trans        400000 non-null float64\n",
            "state_bottle_cost_trans     400000 non-null float64\n",
            "bottles_sold_trans          400000 non-null float64\n",
            "volume_sold_liters_trans    400000 non-null float64\n",
            "grossmargin                 400000 non-null float64\n",
            "dtypes: float64(12), int64(52), object(4)\n",
            "memory usage: 207.5+ MB\n"
          ],
          "name": "stdout"
        }
      ]
    },
    {
      "cell_type": "code",
      "metadata": {
        "colab_type": "code",
        "id": "DQKPLfW1nSiv",
        "scrolled": true,
        "outputId": "af5f14d0-161e-46e1-cb4d-47574b362cd7",
        "colab": {
          "base_uri": "https://localhost:8080/",
          "height": 490
        }
      },
      "source": [
        "# Validate dataset\n",
        "print(data.shape)\n",
        "print(list(data.columns))\n",
        "data"
      ],
      "execution_count": 0,
      "outputs": [
        {
          "output_type": "stream",
          "text": [
            "(400000, 68)\n",
            "['Unnamed: 0', 'pack', 'bottle_volume_ml', 'state_bottle_cost', 'state_bottle_retail', 'bottles_sold', 'sale_dollars', 'volume_sold_liters', 'volume_sold_gallons', 'counter', 'liquor_category', 'store_parent', 'month', 'year', 'monthyear', 'liquor_category_AMARETTO', 'liquor_category_BRANDY', 'liquor_category_GIN', 'liquor_category_LIQUEUR', 'liquor_category_Other', 'liquor_category_RUM', 'liquor_category_SCHNAPPS', 'liquor_category_TEQUILA', 'liquor_category_VODKA', 'liquor_category_WHISKY', 'store_parent_CVS', 'store_parent_Caseys', 'store_parent_Hy-Vee', 'store_parent_Kum&Go', 'store_parent_Other', 'store_parent_QuikTrip', 'store_parent_SamsClub', 'store_parent_SmokingJoes', 'store_parent_Target', 'store_parent_Wal-Mart', 'store_parent_Walgreens', 'month_Apr', 'month_Aug', 'month_Dec', 'month_Feb', 'month_Jan', 'month_Jul', 'month_Jun', 'month_Mar', 'month_May', 'month_Nov', 'month_Oct', 'month_Sep', 'year_2019', 'monthyear_Apr-2019', 'monthyear_Aug-2019', 'monthyear_Dec-2019', 'monthyear_Feb-2019', 'monthyear_Jan-2019', 'monthyear_Jul-2019', 'monthyear_Jun-2019', 'monthyear_Mar-2019', 'monthyear_May-2019', 'monthyear_Nov-2019', 'monthyear_Oct-2019', 'monthyear_Sep-2019', 'sale_dollars_trans', 'cost_per_liter', 'cost_per_liter_trans', 'state_bottle_cost_trans', 'bottles_sold_trans', 'volume_sold_liters_trans', 'grossmargin']\n"
          ],
          "name": "stdout"
        },
        {
          "output_type": "execute_result",
          "data": {
            "text/html": [
              "<div>\n",
              "<style scoped>\n",
              "    .dataframe tbody tr th:only-of-type {\n",
              "        vertical-align: middle;\n",
              "    }\n",
              "\n",
              "    .dataframe tbody tr th {\n",
              "        vertical-align: top;\n",
              "    }\n",
              "\n",
              "    .dataframe thead th {\n",
              "        text-align: right;\n",
              "    }\n",
              "</style>\n",
              "<table border=\"1\" class=\"dataframe\">\n",
              "  <thead>\n",
              "    <tr style=\"text-align: right;\">\n",
              "      <th></th>\n",
              "      <th>Unnamed: 0</th>\n",
              "      <th>pack</th>\n",
              "      <th>bottle_volume_ml</th>\n",
              "      <th>state_bottle_cost</th>\n",
              "      <th>state_bottle_retail</th>\n",
              "      <th>bottles_sold</th>\n",
              "      <th>sale_dollars</th>\n",
              "      <th>volume_sold_liters</th>\n",
              "      <th>volume_sold_gallons</th>\n",
              "      <th>counter</th>\n",
              "      <th>liquor_category</th>\n",
              "      <th>store_parent</th>\n",
              "      <th>month</th>\n",
              "      <th>year</th>\n",
              "      <th>monthyear</th>\n",
              "      <th>liquor_category_AMARETTO</th>\n",
              "      <th>liquor_category_BRANDY</th>\n",
              "      <th>liquor_category_GIN</th>\n",
              "      <th>liquor_category_LIQUEUR</th>\n",
              "      <th>liquor_category_Other</th>\n",
              "      <th>liquor_category_RUM</th>\n",
              "      <th>liquor_category_SCHNAPPS</th>\n",
              "      <th>liquor_category_TEQUILA</th>\n",
              "      <th>liquor_category_VODKA</th>\n",
              "      <th>liquor_category_WHISKY</th>\n",
              "      <th>store_parent_CVS</th>\n",
              "      <th>store_parent_Caseys</th>\n",
              "      <th>store_parent_Hy-Vee</th>\n",
              "      <th>store_parent_Kum&amp;Go</th>\n",
              "      <th>store_parent_Other</th>\n",
              "      <th>store_parent_QuikTrip</th>\n",
              "      <th>store_parent_SamsClub</th>\n",
              "      <th>store_parent_SmokingJoes</th>\n",
              "      <th>store_parent_Target</th>\n",
              "      <th>store_parent_Wal-Mart</th>\n",
              "      <th>store_parent_Walgreens</th>\n",
              "      <th>month_Apr</th>\n",
              "      <th>month_Aug</th>\n",
              "      <th>month_Dec</th>\n",
              "      <th>month_Feb</th>\n",
              "      <th>month_Jan</th>\n",
              "      <th>month_Jul</th>\n",
              "      <th>month_Jun</th>\n",
              "      <th>month_Mar</th>\n",
              "      <th>month_May</th>\n",
              "      <th>month_Nov</th>\n",
              "      <th>month_Oct</th>\n",
              "      <th>month_Sep</th>\n",
              "      <th>year_2019</th>\n",
              "      <th>monthyear_Apr-2019</th>\n",
              "      <th>monthyear_Aug-2019</th>\n",
              "      <th>monthyear_Dec-2019</th>\n",
              "      <th>monthyear_Feb-2019</th>\n",
              "      <th>monthyear_Jan-2019</th>\n",
              "      <th>monthyear_Jul-2019</th>\n",
              "      <th>monthyear_Jun-2019</th>\n",
              "      <th>monthyear_Mar-2019</th>\n",
              "      <th>monthyear_May-2019</th>\n",
              "      <th>monthyear_Nov-2019</th>\n",
              "      <th>monthyear_Oct-2019</th>\n",
              "      <th>monthyear_Sep-2019</th>\n",
              "      <th>sale_dollars_trans</th>\n",
              "      <th>cost_per_liter</th>\n",
              "      <th>cost_per_liter_trans</th>\n",
              "      <th>state_bottle_cost_trans</th>\n",
              "      <th>bottles_sold_trans</th>\n",
              "      <th>volume_sold_liters_trans</th>\n",
              "      <th>grossmargin</th>\n",
              "    </tr>\n",
              "  </thead>\n",
              "  <tbody>\n",
              "    <tr>\n",
              "      <th>0</th>\n",
              "      <td>0</td>\n",
              "      <td>20</td>\n",
              "      <td>375</td>\n",
              "      <td>3.85</td>\n",
              "      <td>5.78</td>\n",
              "      <td>20</td>\n",
              "      <td>115.60</td>\n",
              "      <td>7.50</td>\n",
              "      <td>1.98</td>\n",
              "      <td>1</td>\n",
              "      <td>Other</td>\n",
              "      <td>Other</td>\n",
              "      <td>Nov</td>\n",
              "      <td>2019</td>\n",
              "      <td>Nov-19</td>\n",
              "      <td>0</td>\n",
              "      <td>0</td>\n",
              "      <td>0</td>\n",
              "      <td>0</td>\n",
              "      <td>1</td>\n",
              "      <td>0</td>\n",
              "      <td>0</td>\n",
              "      <td>0</td>\n",
              "      <td>0</td>\n",
              "      <td>0</td>\n",
              "      <td>0</td>\n",
              "      <td>0</td>\n",
              "      <td>0</td>\n",
              "      <td>0</td>\n",
              "      <td>1</td>\n",
              "      <td>0</td>\n",
              "      <td>0</td>\n",
              "      <td>0</td>\n",
              "      <td>0</td>\n",
              "      <td>0</td>\n",
              "      <td>0</td>\n",
              "      <td>0</td>\n",
              "      <td>0</td>\n",
              "      <td>0</td>\n",
              "      <td>0</td>\n",
              "      <td>0</td>\n",
              "      <td>0</td>\n",
              "      <td>0</td>\n",
              "      <td>0</td>\n",
              "      <td>0</td>\n",
              "      <td>1</td>\n",
              "      <td>0</td>\n",
              "      <td>0</td>\n",
              "      <td>1</td>\n",
              "      <td>0</td>\n",
              "      <td>0</td>\n",
              "      <td>0</td>\n",
              "      <td>0</td>\n",
              "      <td>0</td>\n",
              "      <td>0</td>\n",
              "      <td>0</td>\n",
              "      <td>0</td>\n",
              "      <td>0</td>\n",
              "      <td>1</td>\n",
              "      <td>0</td>\n",
              "      <td>0</td>\n",
              "      <td>4.750136</td>\n",
              "      <td>15.413333</td>\n",
              "      <td>2.735233</td>\n",
              "      <td>1.348073</td>\n",
              "      <td>2.995732</td>\n",
              "      <td>2.014903</td>\n",
              "      <td>0.333910</td>\n",
              "    </tr>\n",
              "    <tr>\n",
              "      <th>1</th>\n",
              "      <td>1</td>\n",
              "      <td>8</td>\n",
              "      <td>50</td>\n",
              "      <td>8.75</td>\n",
              "      <td>13.13</td>\n",
              "      <td>1</td>\n",
              "      <td>13.13</td>\n",
              "      <td>0.05</td>\n",
              "      <td>0.01</td>\n",
              "      <td>1</td>\n",
              "      <td>Other</td>\n",
              "      <td>Other</td>\n",
              "      <td>Nov</td>\n",
              "      <td>2019</td>\n",
              "      <td>Nov-19</td>\n",
              "      <td>0</td>\n",
              "      <td>0</td>\n",
              "      <td>0</td>\n",
              "      <td>0</td>\n",
              "      <td>1</td>\n",
              "      <td>0</td>\n",
              "      <td>0</td>\n",
              "      <td>0</td>\n",
              "      <td>0</td>\n",
              "      <td>0</td>\n",
              "      <td>0</td>\n",
              "      <td>0</td>\n",
              "      <td>0</td>\n",
              "      <td>0</td>\n",
              "      <td>1</td>\n",
              "      <td>0</td>\n",
              "      <td>0</td>\n",
              "      <td>0</td>\n",
              "      <td>0</td>\n",
              "      <td>0</td>\n",
              "      <td>0</td>\n",
              "      <td>0</td>\n",
              "      <td>0</td>\n",
              "      <td>0</td>\n",
              "      <td>0</td>\n",
              "      <td>0</td>\n",
              "      <td>0</td>\n",
              "      <td>0</td>\n",
              "      <td>0</td>\n",
              "      <td>0</td>\n",
              "      <td>1</td>\n",
              "      <td>0</td>\n",
              "      <td>0</td>\n",
              "      <td>1</td>\n",
              "      <td>0</td>\n",
              "      <td>0</td>\n",
              "      <td>0</td>\n",
              "      <td>0</td>\n",
              "      <td>0</td>\n",
              "      <td>0</td>\n",
              "      <td>0</td>\n",
              "      <td>0</td>\n",
              "      <td>0</td>\n",
              "      <td>1</td>\n",
              "      <td>0</td>\n",
              "      <td>0</td>\n",
              "      <td>2.574900</td>\n",
              "      <td>262.600000</td>\n",
              "      <td>5.570632</td>\n",
              "      <td>2.169054</td>\n",
              "      <td>0.000000</td>\n",
              "      <td>-2.995732</td>\n",
              "      <td>0.333587</td>\n",
              "    </tr>\n",
              "    <tr>\n",
              "      <th>2</th>\n",
              "      <td>2</td>\n",
              "      <td>12</td>\n",
              "      <td>1000</td>\n",
              "      <td>16.50</td>\n",
              "      <td>24.75</td>\n",
              "      <td>6</td>\n",
              "      <td>148.50</td>\n",
              "      <td>6.00</td>\n",
              "      <td>1.58</td>\n",
              "      <td>1</td>\n",
              "      <td>GIN</td>\n",
              "      <td>Hy-Vee</td>\n",
              "      <td>May</td>\n",
              "      <td>2019</td>\n",
              "      <td>May-19</td>\n",
              "      <td>0</td>\n",
              "      <td>0</td>\n",
              "      <td>1</td>\n",
              "      <td>0</td>\n",
              "      <td>0</td>\n",
              "      <td>0</td>\n",
              "      <td>0</td>\n",
              "      <td>0</td>\n",
              "      <td>0</td>\n",
              "      <td>0</td>\n",
              "      <td>0</td>\n",
              "      <td>0</td>\n",
              "      <td>1</td>\n",
              "      <td>0</td>\n",
              "      <td>0</td>\n",
              "      <td>0</td>\n",
              "      <td>0</td>\n",
              "      <td>0</td>\n",
              "      <td>0</td>\n",
              "      <td>0</td>\n",
              "      <td>0</td>\n",
              "      <td>0</td>\n",
              "      <td>0</td>\n",
              "      <td>0</td>\n",
              "      <td>0</td>\n",
              "      <td>0</td>\n",
              "      <td>0</td>\n",
              "      <td>0</td>\n",
              "      <td>0</td>\n",
              "      <td>1</td>\n",
              "      <td>0</td>\n",
              "      <td>0</td>\n",
              "      <td>0</td>\n",
              "      <td>1</td>\n",
              "      <td>0</td>\n",
              "      <td>0</td>\n",
              "      <td>0</td>\n",
              "      <td>0</td>\n",
              "      <td>0</td>\n",
              "      <td>0</td>\n",
              "      <td>0</td>\n",
              "      <td>0</td>\n",
              "      <td>1</td>\n",
              "      <td>0</td>\n",
              "      <td>0</td>\n",
              "      <td>0</td>\n",
              "      <td>5.000585</td>\n",
              "      <td>24.750000</td>\n",
              "      <td>3.208825</td>\n",
              "      <td>2.803360</td>\n",
              "      <td>1.791759</td>\n",
              "      <td>1.791759</td>\n",
              "      <td>0.333333</td>\n",
              "    </tr>\n",
              "    <tr>\n",
              "      <th>3</th>\n",
              "      <td>3</td>\n",
              "      <td>6</td>\n",
              "      <td>750</td>\n",
              "      <td>21.17</td>\n",
              "      <td>31.76</td>\n",
              "      <td>24</td>\n",
              "      <td>762.24</td>\n",
              "      <td>18.00</td>\n",
              "      <td>4.75</td>\n",
              "      <td>1</td>\n",
              "      <td>WHISKY</td>\n",
              "      <td>Hy-Vee</td>\n",
              "      <td>Nov</td>\n",
              "      <td>2019</td>\n",
              "      <td>Nov-19</td>\n",
              "      <td>0</td>\n",
              "      <td>0</td>\n",
              "      <td>0</td>\n",
              "      <td>0</td>\n",
              "      <td>0</td>\n",
              "      <td>0</td>\n",
              "      <td>0</td>\n",
              "      <td>0</td>\n",
              "      <td>0</td>\n",
              "      <td>1</td>\n",
              "      <td>0</td>\n",
              "      <td>0</td>\n",
              "      <td>1</td>\n",
              "      <td>0</td>\n",
              "      <td>0</td>\n",
              "      <td>0</td>\n",
              "      <td>0</td>\n",
              "      <td>0</td>\n",
              "      <td>0</td>\n",
              "      <td>0</td>\n",
              "      <td>0</td>\n",
              "      <td>0</td>\n",
              "      <td>0</td>\n",
              "      <td>0</td>\n",
              "      <td>0</td>\n",
              "      <td>0</td>\n",
              "      <td>0</td>\n",
              "      <td>0</td>\n",
              "      <td>0</td>\n",
              "      <td>0</td>\n",
              "      <td>1</td>\n",
              "      <td>0</td>\n",
              "      <td>0</td>\n",
              "      <td>1</td>\n",
              "      <td>0</td>\n",
              "      <td>0</td>\n",
              "      <td>0</td>\n",
              "      <td>0</td>\n",
              "      <td>0</td>\n",
              "      <td>0</td>\n",
              "      <td>0</td>\n",
              "      <td>0</td>\n",
              "      <td>0</td>\n",
              "      <td>1</td>\n",
              "      <td>0</td>\n",
              "      <td>0</td>\n",
              "      <td>6.636261</td>\n",
              "      <td>42.346667</td>\n",
              "      <td>3.745890</td>\n",
              "      <td>3.052585</td>\n",
              "      <td>3.178054</td>\n",
              "      <td>2.890372</td>\n",
              "      <td>0.333438</td>\n",
              "    </tr>\n",
              "    <tr>\n",
              "      <th>4</th>\n",
              "      <td>4</td>\n",
              "      <td>6</td>\n",
              "      <td>1750</td>\n",
              "      <td>9.31</td>\n",
              "      <td>13.97</td>\n",
              "      <td>12</td>\n",
              "      <td>167.64</td>\n",
              "      <td>21.00</td>\n",
              "      <td>5.54</td>\n",
              "      <td>1</td>\n",
              "      <td>Other</td>\n",
              "      <td>Hy-Vee</td>\n",
              "      <td>Nov</td>\n",
              "      <td>2019</td>\n",
              "      <td>Nov-19</td>\n",
              "      <td>0</td>\n",
              "      <td>0</td>\n",
              "      <td>0</td>\n",
              "      <td>0</td>\n",
              "      <td>1</td>\n",
              "      <td>0</td>\n",
              "      <td>0</td>\n",
              "      <td>0</td>\n",
              "      <td>0</td>\n",
              "      <td>0</td>\n",
              "      <td>0</td>\n",
              "      <td>0</td>\n",
              "      <td>1</td>\n",
              "      <td>0</td>\n",
              "      <td>0</td>\n",
              "      <td>0</td>\n",
              "      <td>0</td>\n",
              "      <td>0</td>\n",
              "      <td>0</td>\n",
              "      <td>0</td>\n",
              "      <td>0</td>\n",
              "      <td>0</td>\n",
              "      <td>0</td>\n",
              "      <td>0</td>\n",
              "      <td>0</td>\n",
              "      <td>0</td>\n",
              "      <td>0</td>\n",
              "      <td>0</td>\n",
              "      <td>0</td>\n",
              "      <td>0</td>\n",
              "      <td>1</td>\n",
              "      <td>0</td>\n",
              "      <td>0</td>\n",
              "      <td>1</td>\n",
              "      <td>0</td>\n",
              "      <td>0</td>\n",
              "      <td>0</td>\n",
              "      <td>0</td>\n",
              "      <td>0</td>\n",
              "      <td>0</td>\n",
              "      <td>0</td>\n",
              "      <td>0</td>\n",
              "      <td>0</td>\n",
              "      <td>1</td>\n",
              "      <td>0</td>\n",
              "      <td>0</td>\n",
              "      <td>5.121819</td>\n",
              "      <td>7.982857</td>\n",
              "      <td>2.077296</td>\n",
              "      <td>2.231089</td>\n",
              "      <td>2.484907</td>\n",
              "      <td>3.044522</td>\n",
              "      <td>0.333572</td>\n",
              "    </tr>\n",
              "    <tr>\n",
              "      <th>...</th>\n",
              "      <td>...</td>\n",
              "      <td>...</td>\n",
              "      <td>...</td>\n",
              "      <td>...</td>\n",
              "      <td>...</td>\n",
              "      <td>...</td>\n",
              "      <td>...</td>\n",
              "      <td>...</td>\n",
              "      <td>...</td>\n",
              "      <td>...</td>\n",
              "      <td>...</td>\n",
              "      <td>...</td>\n",
              "      <td>...</td>\n",
              "      <td>...</td>\n",
              "      <td>...</td>\n",
              "      <td>...</td>\n",
              "      <td>...</td>\n",
              "      <td>...</td>\n",
              "      <td>...</td>\n",
              "      <td>...</td>\n",
              "      <td>...</td>\n",
              "      <td>...</td>\n",
              "      <td>...</td>\n",
              "      <td>...</td>\n",
              "      <td>...</td>\n",
              "      <td>...</td>\n",
              "      <td>...</td>\n",
              "      <td>...</td>\n",
              "      <td>...</td>\n",
              "      <td>...</td>\n",
              "      <td>...</td>\n",
              "      <td>...</td>\n",
              "      <td>...</td>\n",
              "      <td>...</td>\n",
              "      <td>...</td>\n",
              "      <td>...</td>\n",
              "      <td>...</td>\n",
              "      <td>...</td>\n",
              "      <td>...</td>\n",
              "      <td>...</td>\n",
              "      <td>...</td>\n",
              "      <td>...</td>\n",
              "      <td>...</td>\n",
              "      <td>...</td>\n",
              "      <td>...</td>\n",
              "      <td>...</td>\n",
              "      <td>...</td>\n",
              "      <td>...</td>\n",
              "      <td>...</td>\n",
              "      <td>...</td>\n",
              "      <td>...</td>\n",
              "      <td>...</td>\n",
              "      <td>...</td>\n",
              "      <td>...</td>\n",
              "      <td>...</td>\n",
              "      <td>...</td>\n",
              "      <td>...</td>\n",
              "      <td>...</td>\n",
              "      <td>...</td>\n",
              "      <td>...</td>\n",
              "      <td>...</td>\n",
              "      <td>...</td>\n",
              "      <td>...</td>\n",
              "      <td>...</td>\n",
              "      <td>...</td>\n",
              "      <td>...</td>\n",
              "      <td>...</td>\n",
              "      <td>...</td>\n",
              "    </tr>\n",
              "    <tr>\n",
              "      <th>399995</th>\n",
              "      <td>399995</td>\n",
              "      <td>12</td>\n",
              "      <td>750</td>\n",
              "      <td>7.49</td>\n",
              "      <td>11.24</td>\n",
              "      <td>12</td>\n",
              "      <td>134.88</td>\n",
              "      <td>9.00</td>\n",
              "      <td>2.37</td>\n",
              "      <td>1</td>\n",
              "      <td>VODKA</td>\n",
              "      <td>Hy-Vee</td>\n",
              "      <td>Jul</td>\n",
              "      <td>2019</td>\n",
              "      <td>Jul-19</td>\n",
              "      <td>0</td>\n",
              "      <td>0</td>\n",
              "      <td>0</td>\n",
              "      <td>0</td>\n",
              "      <td>0</td>\n",
              "      <td>0</td>\n",
              "      <td>0</td>\n",
              "      <td>0</td>\n",
              "      <td>1</td>\n",
              "      <td>0</td>\n",
              "      <td>0</td>\n",
              "      <td>0</td>\n",
              "      <td>1</td>\n",
              "      <td>0</td>\n",
              "      <td>0</td>\n",
              "      <td>0</td>\n",
              "      <td>0</td>\n",
              "      <td>0</td>\n",
              "      <td>0</td>\n",
              "      <td>0</td>\n",
              "      <td>0</td>\n",
              "      <td>0</td>\n",
              "      <td>0</td>\n",
              "      <td>0</td>\n",
              "      <td>0</td>\n",
              "      <td>0</td>\n",
              "      <td>1</td>\n",
              "      <td>0</td>\n",
              "      <td>0</td>\n",
              "      <td>0</td>\n",
              "      <td>0</td>\n",
              "      <td>0</td>\n",
              "      <td>0</td>\n",
              "      <td>1</td>\n",
              "      <td>0</td>\n",
              "      <td>0</td>\n",
              "      <td>0</td>\n",
              "      <td>0</td>\n",
              "      <td>0</td>\n",
              "      <td>1</td>\n",
              "      <td>0</td>\n",
              "      <td>0</td>\n",
              "      <td>0</td>\n",
              "      <td>0</td>\n",
              "      <td>0</td>\n",
              "      <td>0</td>\n",
              "      <td>4.904385</td>\n",
              "      <td>14.986667</td>\n",
              "      <td>2.707161</td>\n",
              "      <td>2.013569</td>\n",
              "      <td>2.484907</td>\n",
              "      <td>2.197225</td>\n",
              "      <td>0.333630</td>\n",
              "    </tr>\n",
              "    <tr>\n",
              "      <th>399996</th>\n",
              "      <td>399996</td>\n",
              "      <td>12</td>\n",
              "      <td>750</td>\n",
              "      <td>7.49</td>\n",
              "      <td>11.24</td>\n",
              "      <td>12</td>\n",
              "      <td>134.88</td>\n",
              "      <td>9.00</td>\n",
              "      <td>2.37</td>\n",
              "      <td>1</td>\n",
              "      <td>VODKA</td>\n",
              "      <td>Hy-Vee</td>\n",
              "      <td>Jul</td>\n",
              "      <td>2019</td>\n",
              "      <td>Jul-19</td>\n",
              "      <td>0</td>\n",
              "      <td>0</td>\n",
              "      <td>0</td>\n",
              "      <td>0</td>\n",
              "      <td>0</td>\n",
              "      <td>0</td>\n",
              "      <td>0</td>\n",
              "      <td>0</td>\n",
              "      <td>1</td>\n",
              "      <td>0</td>\n",
              "      <td>0</td>\n",
              "      <td>0</td>\n",
              "      <td>1</td>\n",
              "      <td>0</td>\n",
              "      <td>0</td>\n",
              "      <td>0</td>\n",
              "      <td>0</td>\n",
              "      <td>0</td>\n",
              "      <td>0</td>\n",
              "      <td>0</td>\n",
              "      <td>0</td>\n",
              "      <td>0</td>\n",
              "      <td>0</td>\n",
              "      <td>0</td>\n",
              "      <td>0</td>\n",
              "      <td>0</td>\n",
              "      <td>1</td>\n",
              "      <td>0</td>\n",
              "      <td>0</td>\n",
              "      <td>0</td>\n",
              "      <td>0</td>\n",
              "      <td>0</td>\n",
              "      <td>0</td>\n",
              "      <td>1</td>\n",
              "      <td>0</td>\n",
              "      <td>0</td>\n",
              "      <td>0</td>\n",
              "      <td>0</td>\n",
              "      <td>0</td>\n",
              "      <td>1</td>\n",
              "      <td>0</td>\n",
              "      <td>0</td>\n",
              "      <td>0</td>\n",
              "      <td>0</td>\n",
              "      <td>0</td>\n",
              "      <td>0</td>\n",
              "      <td>4.904385</td>\n",
              "      <td>14.986667</td>\n",
              "      <td>2.707161</td>\n",
              "      <td>2.013569</td>\n",
              "      <td>2.484907</td>\n",
              "      <td>2.197225</td>\n",
              "      <td>0.333630</td>\n",
              "    </tr>\n",
              "    <tr>\n",
              "      <th>399997</th>\n",
              "      <td>399997</td>\n",
              "      <td>12</td>\n",
              "      <td>750</td>\n",
              "      <td>7.49</td>\n",
              "      <td>11.24</td>\n",
              "      <td>12</td>\n",
              "      <td>134.88</td>\n",
              "      <td>9.00</td>\n",
              "      <td>2.37</td>\n",
              "      <td>1</td>\n",
              "      <td>VODKA</td>\n",
              "      <td>Wal-Mart</td>\n",
              "      <td>Apr</td>\n",
              "      <td>2019</td>\n",
              "      <td>Apr-19</td>\n",
              "      <td>0</td>\n",
              "      <td>0</td>\n",
              "      <td>0</td>\n",
              "      <td>0</td>\n",
              "      <td>0</td>\n",
              "      <td>0</td>\n",
              "      <td>0</td>\n",
              "      <td>0</td>\n",
              "      <td>1</td>\n",
              "      <td>0</td>\n",
              "      <td>0</td>\n",
              "      <td>0</td>\n",
              "      <td>0</td>\n",
              "      <td>0</td>\n",
              "      <td>0</td>\n",
              "      <td>0</td>\n",
              "      <td>0</td>\n",
              "      <td>0</td>\n",
              "      <td>0</td>\n",
              "      <td>1</td>\n",
              "      <td>0</td>\n",
              "      <td>1</td>\n",
              "      <td>0</td>\n",
              "      <td>0</td>\n",
              "      <td>0</td>\n",
              "      <td>0</td>\n",
              "      <td>0</td>\n",
              "      <td>0</td>\n",
              "      <td>0</td>\n",
              "      <td>0</td>\n",
              "      <td>0</td>\n",
              "      <td>0</td>\n",
              "      <td>0</td>\n",
              "      <td>1</td>\n",
              "      <td>1</td>\n",
              "      <td>0</td>\n",
              "      <td>0</td>\n",
              "      <td>0</td>\n",
              "      <td>0</td>\n",
              "      <td>0</td>\n",
              "      <td>0</td>\n",
              "      <td>0</td>\n",
              "      <td>0</td>\n",
              "      <td>0</td>\n",
              "      <td>0</td>\n",
              "      <td>0</td>\n",
              "      <td>4.904385</td>\n",
              "      <td>14.986667</td>\n",
              "      <td>2.707161</td>\n",
              "      <td>2.013569</td>\n",
              "      <td>2.484907</td>\n",
              "      <td>2.197225</td>\n",
              "      <td>0.333630</td>\n",
              "    </tr>\n",
              "    <tr>\n",
              "      <th>399998</th>\n",
              "      <td>399998</td>\n",
              "      <td>12</td>\n",
              "      <td>750</td>\n",
              "      <td>7.49</td>\n",
              "      <td>11.24</td>\n",
              "      <td>12</td>\n",
              "      <td>134.88</td>\n",
              "      <td>9.00</td>\n",
              "      <td>2.37</td>\n",
              "      <td>1</td>\n",
              "      <td>VODKA</td>\n",
              "      <td>Wal-Mart</td>\n",
              "      <td>Jul</td>\n",
              "      <td>2019</td>\n",
              "      <td>Jul-19</td>\n",
              "      <td>0</td>\n",
              "      <td>0</td>\n",
              "      <td>0</td>\n",
              "      <td>0</td>\n",
              "      <td>0</td>\n",
              "      <td>0</td>\n",
              "      <td>0</td>\n",
              "      <td>0</td>\n",
              "      <td>1</td>\n",
              "      <td>0</td>\n",
              "      <td>0</td>\n",
              "      <td>0</td>\n",
              "      <td>0</td>\n",
              "      <td>0</td>\n",
              "      <td>0</td>\n",
              "      <td>0</td>\n",
              "      <td>0</td>\n",
              "      <td>0</td>\n",
              "      <td>0</td>\n",
              "      <td>1</td>\n",
              "      <td>0</td>\n",
              "      <td>0</td>\n",
              "      <td>0</td>\n",
              "      <td>0</td>\n",
              "      <td>0</td>\n",
              "      <td>0</td>\n",
              "      <td>1</td>\n",
              "      <td>0</td>\n",
              "      <td>0</td>\n",
              "      <td>0</td>\n",
              "      <td>0</td>\n",
              "      <td>0</td>\n",
              "      <td>0</td>\n",
              "      <td>1</td>\n",
              "      <td>0</td>\n",
              "      <td>0</td>\n",
              "      <td>0</td>\n",
              "      <td>0</td>\n",
              "      <td>0</td>\n",
              "      <td>1</td>\n",
              "      <td>0</td>\n",
              "      <td>0</td>\n",
              "      <td>0</td>\n",
              "      <td>0</td>\n",
              "      <td>0</td>\n",
              "      <td>0</td>\n",
              "      <td>4.904385</td>\n",
              "      <td>14.986667</td>\n",
              "      <td>2.707161</td>\n",
              "      <td>2.013569</td>\n",
              "      <td>2.484907</td>\n",
              "      <td>2.197225</td>\n",
              "      <td>0.333630</td>\n",
              "    </tr>\n",
              "    <tr>\n",
              "      <th>399999</th>\n",
              "      <td>399999</td>\n",
              "      <td>12</td>\n",
              "      <td>750</td>\n",
              "      <td>7.49</td>\n",
              "      <td>11.24</td>\n",
              "      <td>12</td>\n",
              "      <td>134.88</td>\n",
              "      <td>9.00</td>\n",
              "      <td>2.37</td>\n",
              "      <td>1</td>\n",
              "      <td>VODKA</td>\n",
              "      <td>Wal-Mart</td>\n",
              "      <td>Nov</td>\n",
              "      <td>2019</td>\n",
              "      <td>Nov-19</td>\n",
              "      <td>0</td>\n",
              "      <td>0</td>\n",
              "      <td>0</td>\n",
              "      <td>0</td>\n",
              "      <td>0</td>\n",
              "      <td>0</td>\n",
              "      <td>0</td>\n",
              "      <td>0</td>\n",
              "      <td>1</td>\n",
              "      <td>0</td>\n",
              "      <td>0</td>\n",
              "      <td>0</td>\n",
              "      <td>0</td>\n",
              "      <td>0</td>\n",
              "      <td>0</td>\n",
              "      <td>0</td>\n",
              "      <td>0</td>\n",
              "      <td>0</td>\n",
              "      <td>0</td>\n",
              "      <td>1</td>\n",
              "      <td>0</td>\n",
              "      <td>0</td>\n",
              "      <td>0</td>\n",
              "      <td>0</td>\n",
              "      <td>0</td>\n",
              "      <td>0</td>\n",
              "      <td>0</td>\n",
              "      <td>0</td>\n",
              "      <td>0</td>\n",
              "      <td>0</td>\n",
              "      <td>1</td>\n",
              "      <td>0</td>\n",
              "      <td>0</td>\n",
              "      <td>1</td>\n",
              "      <td>0</td>\n",
              "      <td>0</td>\n",
              "      <td>0</td>\n",
              "      <td>0</td>\n",
              "      <td>0</td>\n",
              "      <td>0</td>\n",
              "      <td>0</td>\n",
              "      <td>0</td>\n",
              "      <td>0</td>\n",
              "      <td>1</td>\n",
              "      <td>0</td>\n",
              "      <td>0</td>\n",
              "      <td>4.904385</td>\n",
              "      <td>14.986667</td>\n",
              "      <td>2.707161</td>\n",
              "      <td>2.013569</td>\n",
              "      <td>2.484907</td>\n",
              "      <td>2.197225</td>\n",
              "      <td>0.333630</td>\n",
              "    </tr>\n",
              "  </tbody>\n",
              "</table>\n",
              "<p>400000 rows × 68 columns</p>\n",
              "</div>"
            ],
            "text/plain": [
              "        Unnamed: 0  pack  ...  volume_sold_liters_trans  grossmargin\n",
              "0                0    20  ...                  2.014903     0.333910\n",
              "1                1     8  ...                 -2.995732     0.333587\n",
              "2                2    12  ...                  1.791759     0.333333\n",
              "3                3     6  ...                  2.890372     0.333438\n",
              "4                4     6  ...                  3.044522     0.333572\n",
              "...            ...   ...  ...                       ...          ...\n",
              "399995      399995    12  ...                  2.197225     0.333630\n",
              "399996      399996    12  ...                  2.197225     0.333630\n",
              "399997      399997    12  ...                  2.197225     0.333630\n",
              "399998      399998    12  ...                  2.197225     0.333630\n",
              "399999      399999    12  ...                  2.197225     0.333630\n",
              "\n",
              "[400000 rows x 68 columns]"
            ]
          },
          "metadata": {
            "tags": []
          },
          "execution_count": 4
        }
      ]
    },
    {
      "cell_type": "markdown",
      "metadata": {
        "id": "aeJ06hpUqLJW",
        "colab_type": "text"
      },
      "source": [
        "###Remove unwanted columns"
      ]
    },
    {
      "cell_type": "code",
      "metadata": {
        "colab_type": "code",
        "id": "jSmKpN1snSjB",
        "outputId": "f75a4ec9-6d73-433e-81cc-ed161948f286",
        "colab": {
          "base_uri": "https://localhost:8080/",
          "height": 85
        }
      },
      "source": [
        "# Remove unwanted columns, which include all the specific liquor categories, \n",
        "# except for liquor_category_WHISKY since that is what we want to classify on, along\n",
        "# with all the store_ attributes\n",
        "\"\"\"\n",
        "cat_vars=['counter', 'liquor_category', 'store_parent',\n",
        " 'month', 'year', 'monthyear', 'liquor_category_AMARETTO', 'liquor_category_BRANDY', 'liquor_category_GIN', \n",
        " 'liquor_category_LIQUEUR', 'liquor_category_Other', 'liquor_category_RUM', 'liquor_category_SCHNAPPS', \n",
        " 'liquor_category_TEQUILA', 'liquor_category_VODKA', 'month_Apr', 'month_Aug', 'month_Dec', 'month_Feb',\n",
        " 'month_Jan', 'month_Jul', 'month_Jun', 'month_Mar', 'month_May', 'month_Nov', 'month_Oct', 'month_Sep', \n",
        " 'store_parent_CVS', 'store_parent_Caseys', 'store_parent_Hy-Vee', 'store_parent_Kum&Go', \n",
        " 'store_parent_Other', 'store_parent_QuikTrip', 'store_parent_SamsClub', 'store_parent_SmokingJoes', \n",
        " 'store_parent_Target', 'store_parent_Wal-Mart', 'store_parent_Walgreens']\n",
        "data_vars=data.columns.values.tolist()\n",
        "to_keep=[i for i in data_vars if i not in cat_vars]\n",
        "\"\"\"\n",
        "to_keep=['sale_dollars_trans', 'cost_per_liter_trans',\n",
        "      'state_bottle_cost_trans', 'bottles_sold_trans',\n",
        "       'volume_sold_liters_trans','pack', 'bottle_volume_ml',\n",
        "       'liquor_category_WHISKY']\n",
        "data_final=data[to_keep]\n",
        "data_final.columns.values"
      ],
      "execution_count": 0,
      "outputs": [
        {
          "output_type": "execute_result",
          "data": {
            "text/plain": [
              "array(['sale_dollars_trans', 'cost_per_liter_trans',\n",
              "       'state_bottle_cost_trans', 'bottles_sold_trans',\n",
              "       'volume_sold_liters_trans', 'pack', 'bottle_volume_ml',\n",
              "       'liquor_category_WHISKY'], dtype=object)"
            ]
          },
          "metadata": {
            "tags": []
          },
          "execution_count": 5
        }
      ]
    },
    {
      "cell_type": "markdown",
      "metadata": {
        "id": "CIlHFqU5mjwq",
        "colab_type": "text"
      },
      "source": [
        "###Simple Statistics"
      ]
    },
    {
      "cell_type": "code",
      "metadata": {
        "id": "CA4_x29_n_Gc",
        "colab_type": "code",
        "outputId": "f586e5d0-8c47-498e-d75b-a568076c4bfd",
        "colab": {
          "base_uri": "https://localhost:8080/",
          "height": 317
        }
      },
      "source": [
        "data_final.describe()"
      ],
      "execution_count": 0,
      "outputs": [
        {
          "output_type": "execute_result",
          "data": {
            "text/html": [
              "<div>\n",
              "<style scoped>\n",
              "    .dataframe tbody tr th:only-of-type {\n",
              "        vertical-align: middle;\n",
              "    }\n",
              "\n",
              "    .dataframe tbody tr th {\n",
              "        vertical-align: top;\n",
              "    }\n",
              "\n",
              "    .dataframe thead th {\n",
              "        text-align: right;\n",
              "    }\n",
              "</style>\n",
              "<table border=\"1\" class=\"dataframe\">\n",
              "  <thead>\n",
              "    <tr style=\"text-align: right;\">\n",
              "      <th></th>\n",
              "      <th>sale_dollars_trans</th>\n",
              "      <th>cost_per_liter_trans</th>\n",
              "      <th>state_bottle_cost_trans</th>\n",
              "      <th>bottles_sold_trans</th>\n",
              "      <th>volume_sold_liters_trans</th>\n",
              "      <th>pack</th>\n",
              "      <th>bottle_volume_ml</th>\n",
              "      <th>liquor_category_WHISKY</th>\n",
              "    </tr>\n",
              "  </thead>\n",
              "  <tbody>\n",
              "    <tr>\n",
              "      <th>count</th>\n",
              "      <td>400000.000000</td>\n",
              "      <td>400000.000000</td>\n",
              "      <td>400000.000000</td>\n",
              "      <td>400000.000000</td>\n",
              "      <td>400000.000000</td>\n",
              "      <td>400000.000000</td>\n",
              "      <td>400000.000000</td>\n",
              "      <td>400000.000000</td>\n",
              "    </tr>\n",
              "    <tr>\n",
              "      <th>mean</th>\n",
              "      <td>4.342939</td>\n",
              "      <td>2.766402</td>\n",
              "      <td>2.090235</td>\n",
              "      <td>1.847176</td>\n",
              "      <td>1.576537</td>\n",
              "      <td>11.950140</td>\n",
              "      <td>960.109795</td>\n",
              "      <td>0.104387</td>\n",
              "    </tr>\n",
              "    <tr>\n",
              "      <th>std</th>\n",
              "      <td>1.061412</td>\n",
              "      <td>0.828823</td>\n",
              "      <td>0.707591</td>\n",
              "      <td>1.078662</td>\n",
              "      <td>1.352197</td>\n",
              "      <td>8.382596</td>\n",
              "      <td>557.811485</td>\n",
              "      <td>0.305763</td>\n",
              "    </tr>\n",
              "    <tr>\n",
              "      <th>min</th>\n",
              "      <td>0.292670</td>\n",
              "      <td>0.916291</td>\n",
              "      <td>-0.116534</td>\n",
              "      <td>0.000000</td>\n",
              "      <td>-3.912023</td>\n",
              "      <td>1.000000</td>\n",
              "      <td>25.000000</td>\n",
              "      <td>0.000000</td>\n",
              "    </tr>\n",
              "    <tr>\n",
              "      <th>25%</th>\n",
              "      <td>3.727619</td>\n",
              "      <td>2.090805</td>\n",
              "      <td>1.690096</td>\n",
              "      <td>1.098612</td>\n",
              "      <td>0.810930</td>\n",
              "      <td>6.000000</td>\n",
              "      <td>750.000000</td>\n",
              "      <td>0.000000</td>\n",
              "    </tr>\n",
              "    <tr>\n",
              "      <th>50%</th>\n",
              "      <td>4.319087</td>\n",
              "      <td>2.736221</td>\n",
              "      <td>2.111425</td>\n",
              "      <td>1.791759</td>\n",
              "      <td>2.197225</td>\n",
              "      <td>12.000000</td>\n",
              "      <td>750.000000</td>\n",
              "      <td>0.000000</td>\n",
              "    </tr>\n",
              "    <tr>\n",
              "      <th>75%</th>\n",
              "      <td>5.030046</td>\n",
              "      <td>3.097687</td>\n",
              "      <td>2.539237</td>\n",
              "      <td>2.484907</td>\n",
              "      <td>2.351375</td>\n",
              "      <td>12.000000</td>\n",
              "      <td>1750.000000</td>\n",
              "      <td>0.000000</td>\n",
              "    </tr>\n",
              "    <tr>\n",
              "      <th>max</th>\n",
              "      <td>10.823499</td>\n",
              "      <td>7.495542</td>\n",
              "      <td>5.926899</td>\n",
              "      <td>8.237479</td>\n",
              "      <td>8.797095</td>\n",
              "      <td>48.000000</td>\n",
              "      <td>6000.000000</td>\n",
              "      <td>1.000000</td>\n",
              "    </tr>\n",
              "  </tbody>\n",
              "</table>\n",
              "</div>"
            ],
            "text/plain": [
              "       sale_dollars_trans  ...  liquor_category_WHISKY\n",
              "count       400000.000000  ...           400000.000000\n",
              "mean             4.342939  ...                0.104387\n",
              "std              1.061412  ...                0.305763\n",
              "min              0.292670  ...                0.000000\n",
              "25%              3.727619  ...                0.000000\n",
              "50%              4.319087  ...                0.000000\n",
              "75%              5.030046  ...                0.000000\n",
              "max             10.823499  ...                1.000000\n",
              "\n",
              "[8 rows x 8 columns]"
            ]
          },
          "metadata": {
            "tags": []
          },
          "execution_count": 6
        }
      ]
    },
    {
      "cell_type": "code",
      "metadata": {
        "id": "J3f2Dcd8LEpB",
        "colab_type": "code",
        "outputId": "06a68df9-f7bf-4400-ca10-a8ec21b1883e",
        "colab": {
          "base_uri": "https://localhost:8080/",
          "height": 255
        }
      },
      "source": [
        "data_final.info"
      ],
      "execution_count": 0,
      "outputs": [
        {
          "output_type": "execute_result",
          "data": {
            "text/plain": [
              "<bound method DataFrame.info of         sale_dollars_trans  ...  liquor_category_WHISKY\n",
              "0                 4.750136  ...                       0\n",
              "1                 2.574900  ...                       0\n",
              "2                 5.000585  ...                       0\n",
              "3                 6.636261  ...                       1\n",
              "4                 5.121819  ...                       0\n",
              "...                    ...  ...                     ...\n",
              "399995            4.904385  ...                       0\n",
              "399996            4.904385  ...                       0\n",
              "399997            4.904385  ...                       0\n",
              "399998            4.904385  ...                       0\n",
              "399999            4.904385  ...                       0\n",
              "\n",
              "[400000 rows x 8 columns]>"
            ]
          },
          "metadata": {
            "tags": []
          },
          "execution_count": 7
        }
      ]
    },
    {
      "cell_type": "code",
      "metadata": {
        "colab_type": "code",
        "id": "tzx9_JhrnSi7",
        "outputId": "8f5dd312-633d-42aa-c7ca-67a90d2a3f70",
        "colab": {
          "base_uri": "https://localhost:8080/",
          "height": 51
        }
      },
      "source": [
        "# From the entire dataset (400k rows) take a look at what our Whiskey vs Non-Whiskey distribution looks like\n",
        "#data = data.drop(columns = ['Unnamed: 0'])\n",
        "count_not_whiskey = len(data_final[data_final['liquor_category_WHISKY']==0])\n",
        "count_whiskey = len(data_final[data_final['liquor_category_WHISKY']==1])\n",
        "pct_of_no_whiskey = count_not_whiskey/(count_not_whiskey+count_whiskey)\n",
        "print(\"Percentage of not whiskey is\", pct_of_no_whiskey*100)\n",
        "pct_of_whiskey = count_whiskey/(count_not_whiskey+count_whiskey)\n",
        "print(\"Percentage of whiskey\", pct_of_whiskey*100)"
      ],
      "execution_count": 0,
      "outputs": [
        {
          "output_type": "stream",
          "text": [
            "Percentage of not whiskey is 89.56125\n",
            "Percentage of whiskey 10.438749999999999\n"
          ],
          "name": "stdout"
        }
      ]
    },
    {
      "cell_type": "markdown",
      "metadata": {
        "id": "Rw60isQ0rXD0",
        "colab_type": "text"
      },
      "source": [
        "###Locate Features and Label\n",
        "\n",
        "Our features will be everything that isn't the liquor_category_WHISKY\n",
        "\n",
        "And our label, what we are trying to classify on, will be the liquor_category_WHISKY"
      ]
    },
    {
      "cell_type": "code",
      "metadata": {
        "id": "PQkL5USKrazL",
        "colab_type": "code",
        "colab": {}
      },
      "source": [
        "# X will be our features\n",
        "X = data_final.loc[:, data_final.columns != 'liquor_category_WHISKY']\n",
        "\n",
        "# y will be our label, what we are trying to classify\n",
        "y = data_final.loc[:, data_final.columns == 'liquor_category_WHISKY']"
      ],
      "execution_count": 0,
      "outputs": []
    },
    {
      "cell_type": "code",
      "metadata": {
        "id": "G65Y_NFdrazQ",
        "colab_type": "code",
        "outputId": "46819a91-8b4a-4799-e6a6-2b1687f89da8",
        "colab": {
          "base_uri": "https://localhost:8080/",
          "height": 204
        }
      },
      "source": [
        "X.head()"
      ],
      "execution_count": 0,
      "outputs": [
        {
          "output_type": "execute_result",
          "data": {
            "text/html": [
              "<div>\n",
              "<style scoped>\n",
              "    .dataframe tbody tr th:only-of-type {\n",
              "        vertical-align: middle;\n",
              "    }\n",
              "\n",
              "    .dataframe tbody tr th {\n",
              "        vertical-align: top;\n",
              "    }\n",
              "\n",
              "    .dataframe thead th {\n",
              "        text-align: right;\n",
              "    }\n",
              "</style>\n",
              "<table border=\"1\" class=\"dataframe\">\n",
              "  <thead>\n",
              "    <tr style=\"text-align: right;\">\n",
              "      <th></th>\n",
              "      <th>sale_dollars_trans</th>\n",
              "      <th>cost_per_liter_trans</th>\n",
              "      <th>state_bottle_cost_trans</th>\n",
              "      <th>bottles_sold_trans</th>\n",
              "      <th>volume_sold_liters_trans</th>\n",
              "      <th>pack</th>\n",
              "      <th>bottle_volume_ml</th>\n",
              "    </tr>\n",
              "  </thead>\n",
              "  <tbody>\n",
              "    <tr>\n",
              "      <th>0</th>\n",
              "      <td>4.750136</td>\n",
              "      <td>2.735233</td>\n",
              "      <td>1.348073</td>\n",
              "      <td>2.995732</td>\n",
              "      <td>2.014903</td>\n",
              "      <td>20</td>\n",
              "      <td>375</td>\n",
              "    </tr>\n",
              "    <tr>\n",
              "      <th>1</th>\n",
              "      <td>2.574900</td>\n",
              "      <td>5.570632</td>\n",
              "      <td>2.169054</td>\n",
              "      <td>0.000000</td>\n",
              "      <td>-2.995732</td>\n",
              "      <td>8</td>\n",
              "      <td>50</td>\n",
              "    </tr>\n",
              "    <tr>\n",
              "      <th>2</th>\n",
              "      <td>5.000585</td>\n",
              "      <td>3.208825</td>\n",
              "      <td>2.803360</td>\n",
              "      <td>1.791759</td>\n",
              "      <td>1.791759</td>\n",
              "      <td>12</td>\n",
              "      <td>1000</td>\n",
              "    </tr>\n",
              "    <tr>\n",
              "      <th>3</th>\n",
              "      <td>6.636261</td>\n",
              "      <td>3.745890</td>\n",
              "      <td>3.052585</td>\n",
              "      <td>3.178054</td>\n",
              "      <td>2.890372</td>\n",
              "      <td>6</td>\n",
              "      <td>750</td>\n",
              "    </tr>\n",
              "    <tr>\n",
              "      <th>4</th>\n",
              "      <td>5.121819</td>\n",
              "      <td>2.077296</td>\n",
              "      <td>2.231089</td>\n",
              "      <td>2.484907</td>\n",
              "      <td>3.044522</td>\n",
              "      <td>6</td>\n",
              "      <td>1750</td>\n",
              "    </tr>\n",
              "  </tbody>\n",
              "</table>\n",
              "</div>"
            ],
            "text/plain": [
              "   sale_dollars_trans  cost_per_liter_trans  ...  pack  bottle_volume_ml\n",
              "0            4.750136              2.735233  ...    20               375\n",
              "1            2.574900              5.570632  ...     8                50\n",
              "2            5.000585              3.208825  ...    12              1000\n",
              "3            6.636261              3.745890  ...     6               750\n",
              "4            5.121819              2.077296  ...     6              1750\n",
              "\n",
              "[5 rows x 7 columns]"
            ]
          },
          "metadata": {
            "tags": []
          },
          "execution_count": 10
        }
      ]
    },
    {
      "cell_type": "code",
      "metadata": {
        "id": "HNajo2nqr7JR",
        "colab_type": "code",
        "outputId": "bdc69de4-a72c-4507-b79a-97af6ac64476",
        "colab": {
          "base_uri": "https://localhost:8080/",
          "height": 255
        }
      },
      "source": [
        "y.head"
      ],
      "execution_count": 0,
      "outputs": [
        {
          "output_type": "execute_result",
          "data": {
            "text/plain": [
              "<bound method NDFrame.head of         liquor_category_WHISKY\n",
              "0                            0\n",
              "1                            0\n",
              "2                            0\n",
              "3                            1\n",
              "4                            0\n",
              "...                        ...\n",
              "399995                       0\n",
              "399996                       0\n",
              "399997                       0\n",
              "399998                       0\n",
              "399999                       0\n",
              "\n",
              "[400000 rows x 1 columns]>"
            ]
          },
          "metadata": {
            "tags": []
          },
          "execution_count": 11
        }
      ]
    },
    {
      "cell_type": "markdown",
      "metadata": {
        "colab_type": "text",
        "id": "zIfgUT054dBe"
      },
      "source": [
        "## Modeling"
      ]
    },
    {
      "cell_type": "markdown",
      "metadata": {
        "id": "dgWC8imwsEj2",
        "colab_type": "text"
      },
      "source": [
        "###80/20 training/testing split\n",
        "<a id='datasplit'></a> \n",
        "\n",
        "Split our dataset into train/test with 80% of the data used for training and 20% of the data used to test the model"
      ]
    },
    {
      "cell_type": "code",
      "metadata": {
        "id": "g3Z9m5pcsT5R",
        "colab_type": "code",
        "outputId": "630a885f-59f5-475d-ed72-f8a9a6aae697",
        "colab": {
          "base_uri": "https://localhost:8080/",
          "height": 204
        }
      },
      "source": [
        "# Create the training/testing datasets\n",
        "\n",
        "# This works well for M1, M2, M5, M6, M7 on full dataset to have models train in decent\n",
        "# amount of time (no model takes longer than 3 mins)\n",
        "X_train, X_test, y_train, y_test = train_test_split(X, y, test_size=0.2, random_state=0)\n",
        "\n",
        "# This works well for M3, M4 (SVM models) - need a smaller train size to get model to train\n",
        "# in decent amount of time\n",
        "X_train_svc, X_test_svc, y_train_svc, y_test_svc = train_test_split(X, y, test_size=0.99, random_state=0)\n",
        "\n",
        "columns = X_train.columns\n",
        "\n",
        "print('Full dataset shape')\n",
        "print('X_train shape: ', X_train.shape)\n",
        "print('X_test shape: ', X_test.shape)\n",
        "print('Y_train shape: ', y_train.shape)\n",
        "print('Y_test shape: ', y_test.shape)\n",
        "\n",
        "print('\\nSubset of dataset for SVM models')\n",
        "print('X_train_svc shape: ', X_train_svc.shape)\n",
        "print('X_test_svc shape: ', X_test_svc.shape)\n",
        "print('Y_train_svc shape: ', y_train_svc.shape)\n",
        "print('Y_test_svc shape: ', y_test_svc.shape)"
      ],
      "execution_count": 0,
      "outputs": [
        {
          "output_type": "stream",
          "text": [
            "Full dataset shape\n",
            "X_train shape:  (320000, 7)\n",
            "X_test shape:  (80000, 7)\n",
            "Y_train shape:  (320000, 1)\n",
            "Y_test shape:  (80000, 1)\n",
            "\n",
            "Subset of dataset for SVM models\n",
            "X_train_svc shape:  (4000, 7)\n",
            "X_test_svc shape:  (396000, 7)\n",
            "Y_train_svc shape:  (4000, 1)\n",
            "Y_test_svc shape:  (396000, 1)\n"
          ],
          "name": "stdout"
        }
      ]
    },
    {
      "cell_type": "markdown",
      "metadata": {
        "id": "Pxfgw169seqP",
        "colab_type": "text"
      },
      "source": [
        "###M1-Logistic Regression Model\n",
        "<a id='m1'></a>\n",
        "Create a logistic regression model with all defaults used to the model, except for max_iter as we were seeing convergence warnings.  The default max_iter setting according to documentation is set to 100, so we increased to 500 and that prevented the warnings from showing up."
      ]
    },
    {
      "cell_type": "code",
      "metadata": {
        "id": "efU9cWoAsmSj",
        "colab_type": "code",
        "outputId": "54ba07f0-dc73-42fa-c0c0-2fadb26e7b4d",
        "colab": {
          "base_uri": "https://localhost:8080/",
          "height": 241
        }
      },
      "source": [
        "from sklearn.linear_model import LogisticRegression\n",
        "\n",
        "# all parameters not specified are set to their defaults\n",
        "# seeing message 'lbfgs failed to converge. Increase the number of iterations'\n",
        "# https://stats.stackexchange.com/questions/184017/how-to-fix-non-convergence-in-logisticregressioncv\n",
        "# increased max_iter to 500 \n",
        "#simplelogisticRegr = LogisticRegression()# class_weight = 'balanced')\n",
        "simplelogisticRegr = LogisticRegression(max_iter=500)# class_weight = 'balanced')\n",
        "\n",
        "\n",
        "# fit (train) the model\n",
        "# was seing an error about column-vector y was passed when 1d array expected\n",
        "# fix: https://stackoverflow.com/questions/34165731/a-column-vector-y-was-passed-when-a-1d-array-was-expected\n",
        "#simplelogisticRegr.fit(X_train, y_train)\n",
        "simplelogisticRegr.fit(X_train, y_train.values.ravel())\n",
        "\n",
        "coef = simplelogisticRegr.coef_[0]\n",
        "print ('Coefficients: ', '\\n', coef)\n",
        "\n",
        "classes = simplelogisticRegr.classes_[0]\n",
        "print()\n",
        "print ('Classes: ', '\\n', classes)\n",
        "\n",
        "intercept = simplelogisticRegr.intercept_[0]\n",
        "print()\n",
        "print ('Intercept: ', '\\n', intercept)\n",
        "\n",
        "params =simplelogisticRegr.get_params(deep=True)\n",
        "print()\n",
        "print ('Params: ', '\\n', params)\n"
      ],
      "execution_count": 0,
      "outputs": [
        {
          "output_type": "stream",
          "text": [
            "Coefficients:  \n",
            " [ 8.16007331e-02 -8.20911453e-01  4.47644096e+00 -1.14928131e+00\n",
            "  9.02512175e-01  9.68893944e-02 -3.71429137e-03]\n",
            "\n",
            "Classes:  \n",
            " 0\n",
            "\n",
            "Intercept:  \n",
            " -8.016332861549207\n",
            "\n",
            "Params:  \n",
            " {'C': 1.0, 'class_weight': None, 'dual': False, 'fit_intercept': True, 'intercept_scaling': 1, 'l1_ratio': None, 'max_iter': 500, 'multi_class': 'auto', 'n_jobs': None, 'penalty': 'l2', 'random_state': None, 'solver': 'lbfgs', 'tol': 0.0001, 'verbose': 0, 'warm_start': False}\n"
          ],
          "name": "stdout"
        }
      ]
    },
    {
      "cell_type": "markdown",
      "metadata": {
        "id": "-wRKRHAmuFzL",
        "colab_type": "text"
      },
      "source": [
        "#### M1-Predictions (92% full ds)\n",
        "<a id='m1_predict'></a>"
      ]
    },
    {
      "cell_type": "code",
      "metadata": {
        "id": "mJldaxo6uMTW",
        "colab_type": "code",
        "outputId": "167a30f2-85a3-4f6a-da5c-838d387ba4db",
        "colab": {
          "base_uri": "https://localhost:8080/",
          "height": 306
        }
      },
      "source": [
        "# Do predictions\n",
        "from sklearn.metrics import classification_report, confusion_matrix\n",
        "from sklearn import metrics\n",
        "\n",
        "# Use score method to get accuracy of model\n",
        "score = simplelogisticRegr.score(X_test, y_test)\n",
        "print('Accuracy:\\n', score)\n",
        "\n",
        "# Predictions\n",
        "predictions = simplelogisticRegr.predict(X_test)\n",
        "print('\\nConfusion Matrix:\\n', confusion_matrix(y_test, predictions))\n",
        "\n",
        "# Classification Report\n",
        "\n",
        "###M1-Evaluation\n",
        "print('\\nClassification Report:\\n', classification_report(y_test, predictions))"
      ],
      "execution_count": 0,
      "outputs": [
        {
          "output_type": "stream",
          "text": [
            "Accuracy:\n",
            " 0.9194375\n",
            "\n",
            "Confusion Matrix:\n",
            " [[70559  1118]\n",
            " [ 5327  2996]]\n",
            "\n",
            "Classification Report:\n",
            "               precision    recall  f1-score   support\n",
            "\n",
            "           0       0.93      0.98      0.96     71677\n",
            "           1       0.73      0.36      0.48      8323\n",
            "\n",
            "    accuracy                           0.92     80000\n",
            "   macro avg       0.83      0.67      0.72     80000\n",
            "weighted avg       0.91      0.92      0.91     80000\n",
            "\n"
          ],
          "name": "stdout"
        }
      ]
    },
    {
      "cell_type": "markdown",
      "metadata": {
        "id": "6dj-uDeWtElF",
        "colab_type": "text"
      },
      "source": [
        "####M1-Evaluation\n",
        "We ran a \"simple\" logistic regression model using the default hyperparameters of C=1.0, no weighting of the classes and with a ridge regression penalty. \n",
        "\n",
        "As a result, our model achieved 92% accuracy which is a bit higher than the accuracy we would achieve if we were to guess randomly based on the distribution of whiskeys vs non whiskeys. From here, we can use a grid search procedure to tune our hyperparameters to improve our accuracy score. \n",
        "\n"
      ]
    },
    {
      "cell_type": "markdown",
      "metadata": {
        "id": "mC7230pKVoWS",
        "colab_type": "text"
      },
      "source": [
        "### M2-Logistic Regression Model w/ Gridsearch for Hyperparameter Tuning\n",
        "<a id='m2'></a>\n",
        "\n",
        "Find scalings for each column that make this zero mean and unit std the line of code above only looks at training data to get mean and std and we can use it to transform new feature data"
      ]
    },
    {
      "cell_type": "code",
      "metadata": {
        "colab_type": "code",
        "id": "Rq1Jn4krnSjK",
        "colab": {}
      },
      "source": [
        "# scale attributes by the training set\n",
        "scl_obj = StandardScaler()\n",
        "scl_obj.fit(X_train) \n",
        "\n",
        "# apply to training on full dataset\n",
        "X_train_scaled = scl_obj.transform(X_train) \n",
        "X_test_scaled = scl_obj.transform(X_test)\n",
        "\n",
        "# do scaling on the subset of data used for svm models\n",
        "scl_obj_svc = StandardScaler()\n",
        "scl_obj_svc.fit(X_train_svc) \n",
        "\n",
        "# apply to training on full dataset\n",
        "X_train_svc_scaled = scl_obj_svc.transform(X_train_svc) \n",
        "X_test_svc_scaled = scl_obj_svc.transform(X_test_svc)"
      ],
      "execution_count": 0,
      "outputs": []
    },
    {
      "cell_type": "markdown",
      "metadata": {
        "id": "1fbRn1vBWo6M",
        "colab_type": "text"
      },
      "source": [
        "Use GridSearch and CrossValidation to find the best logistic regression hyperparameter combination"
      ]
    },
    {
      "cell_type": "code",
      "metadata": {
        "colab_type": "code",
        "id": "0VmHek3j7A0u",
        "outputId": "f8302d0a-3947-4b71-eeb5-791305dae327",
        "colab": {
          "base_uri": "https://localhost:8080/",
          "height": 442
        }
      },
      "source": [
        "#Logisitic regression 10-fold cross-validation \n",
        "\n",
        "#Divide data into test and training splits\n",
        "# full dataset w/ splits=5, test_size=.5 takes over 5 mins to get to just 196 tasks (out of 600 fits), stopped process, taking too long\n",
        "#cv = ShuffleSplit(n_splits=5, test_size=0.5, random_state=0)\n",
        "\n",
        "# full dataset w/ splits=2, test_size=.8 takes 3 mins\n",
        "cv = ShuffleSplit(n_splits=2, test_size=0.8, random_state=0)\n",
        "\n",
        "regEstimator = LogisticRegression()\n",
        "\n",
        "\n",
        "parameters = { 'penalty':['l2', 'l1', 'elasticnet']\n",
        "              ,'C': [0.001, 1, 10, 100]\n",
        "              ,'class_weight': ['balanced', 'none']\n",
        "              ,'random_state': [0]\n",
        "              ,'solver': ['lbfgs', 'saga', 'liblinear', 'newton-cg', 'sag']\n",
        "              ,'max_iter':[100]\n",
        "             }\n",
        "\n",
        "#Create a grid search object using the  \n",
        "\n",
        "regGridSearch = GridSearchCV(estimator=regEstimator\n",
        "                   , n_jobs=-1 # jobs to run in parallel\n",
        "                   , verbose=1 # low verbosity\n",
        "                   , param_grid=parameters\n",
        "                   , cv=cv # KFolds = 10\n",
        "                   , scoring='accuracy')\n",
        "\n",
        "#Perform hyperparameter search to find the best combination of parameters for our data\n",
        "regGridSearch.fit(X_train_scaled, y_train.values.ravel())"
      ],
      "execution_count": 0,
      "outputs": [
        {
          "output_type": "stream",
          "text": [
            "Fitting 2 folds for each of 120 candidates, totalling 240 fits\n"
          ],
          "name": "stdout"
        },
        {
          "output_type": "stream",
          "text": [
            "[Parallel(n_jobs=-1)]: Using backend LokyBackend with 2 concurrent workers.\n",
            "[Parallel(n_jobs=-1)]: Done  46 tasks      | elapsed:    8.3s\n",
            "[Parallel(n_jobs=-1)]: Done 196 tasks      | elapsed:  2.7min\n",
            "[Parallel(n_jobs=-1)]: Done 240 out of 240 | elapsed:  3.0min finished\n"
          ],
          "name": "stderr"
        },
        {
          "output_type": "execute_result",
          "data": {
            "text/plain": [
              "GridSearchCV(cv=ShuffleSplit(n_splits=2, random_state=0, test_size=0.8, train_size=None),\n",
              "             error_score=nan,\n",
              "             estimator=LogisticRegression(C=1.0, class_weight=None, dual=False,\n",
              "                                          fit_intercept=True,\n",
              "                                          intercept_scaling=1, l1_ratio=None,\n",
              "                                          max_iter=100, multi_class='auto',\n",
              "                                          n_jobs=None, penalty='l2',\n",
              "                                          random_state=None, solver='lbfgs',\n",
              "                                          tol=0.0001, verbose=0,\n",
              "                                          warm_start=False),\n",
              "             iid='deprecated', n_jobs=-1,\n",
              "             param_grid={'C': [0.001, 1, 10, 100],\n",
              "                         'class_weight': ['balanced', 'none'],\n",
              "                         'max_iter': [100],\n",
              "                         'penalty': ['l2', 'l1', 'elasticnet'],\n",
              "                         'random_state': [0],\n",
              "                         'solver': ['lbfgs', 'saga', 'liblinear', 'newton-cg',\n",
              "                                    'sag']},\n",
              "             pre_dispatch='2*n_jobs', refit=True, return_train_score=False,\n",
              "             scoring='accuracy', verbose=1)"
            ]
          },
          "metadata": {
            "tags": []
          },
          "execution_count": 16
        }
      ]
    },
    {
      "cell_type": "markdown",
      "metadata": {
        "id": "HthK3VD2cfph",
        "colab_type": "text"
      },
      "source": [
        "Show the best estimators from GridSearch"
      ]
    },
    {
      "cell_type": "code",
      "metadata": {
        "colab_type": "code",
        "id": "a2Gdgl8k62xQ",
        "outputId": "1d089eaf-5ef0-41ff-bb96-3c09ba205f3c",
        "colab": {
          "base_uri": "https://localhost:8080/",
          "height": 102
        }
      },
      "source": [
        "#Diplay the top model parameters\n",
        "regGridSearch.best_estimator_"
      ],
      "execution_count": 0,
      "outputs": [
        {
          "output_type": "execute_result",
          "data": {
            "text/plain": [
              "LogisticRegression(C=1, class_weight='none', dual=False, fit_intercept=True,\n",
              "                   intercept_scaling=1, l1_ratio=None, max_iter=100,\n",
              "                   multi_class='auto', n_jobs=None, penalty='l2',\n",
              "                   random_state=0, solver='saga', tol=0.0001, verbose=0,\n",
              "                   warm_start=False)"
            ]
          },
          "metadata": {
            "tags": []
          },
          "execution_count": 17
        }
      ]
    },
    {
      "cell_type": "markdown",
      "metadata": {
        "id": "H_52IJqizdEh",
        "colab_type": "text"
      },
      "source": [
        "After running our grid search, we found that the ideal model uses a C=0.001 which is different from our default model of C=1.0. Otherwise, the other parameters remained the same. \n",
        "\n",
        "\n",
        "---\n",
        "\n",
        "\n",
        "####M2-Predictions (92% full ds)\n",
        "<a id='m2_predict'></a>\n",
        "\n",
        "\n",
        "Let's see how this does with our accuracy score. "
      ]
    },
    {
      "cell_type": "code",
      "metadata": {
        "id": "D1KcZcOKrazj",
        "colab_type": "code",
        "outputId": "45564b5f-d2bc-4c1d-b7d6-05d0ecc5d0a3",
        "colab": {
          "base_uri": "https://localhost:8080/",
          "height": 306
        }
      },
      "source": [
        "type(regGridSearch)\n",
        "\n",
        "gridresults = pd.DataFrame(regGridSearch.cv_results_)\n",
        "\n",
        "columns = ['param_solver','param_C', 'param_max_iter', 'class_weight', 'param_penalty', 'mean_test_score', 'rank_test_score']\n",
        "gridresults = pd.DataFrame(gridresults, columns=columns)\n",
        "\n",
        "gridresults.sort_values(by=['rank_test_score'], ascending=True).head(20)\n",
        "\n",
        "y_hat = regGridSearch.predict(X_test_scaled) # get test set precitions\n",
        "\n",
        "# now let's get the accuracy and confusion matrix for this iterations of training/testing\n",
        "acc = mt.accuracy_score(y_test,y_hat)\n",
        "print('Accuracy:\\n', acc)\n",
        "\n",
        "# Confustion matrix\n",
        "conf = mt.confusion_matrix(y_test, y_hat)\n",
        "print('\\nConfusion Matrix:\\n', conf)\n",
        "\n",
        "# Get predictions and print the classification report\n",
        "predictions2 = regGridSearch.predict(X_test)\n",
        "from sklearn.metrics import classification_report, confusion_matrix\n",
        "print('\\nClassification Report:\\n', classification_report(y_test, y_hat))"
      ],
      "execution_count": 0,
      "outputs": [
        {
          "output_type": "stream",
          "text": [
            "Accuracy:\n",
            " 0.9191875\n",
            "\n",
            "Confusion Matrix:\n",
            " [[70559  1118]\n",
            " [ 5347  2976]]\n",
            "\n",
            "Classification Report:\n",
            "               precision    recall  f1-score   support\n",
            "\n",
            "           0       0.93      0.98      0.96     71677\n",
            "           1       0.73      0.36      0.48      8323\n",
            "\n",
            "    accuracy                           0.92     80000\n",
            "   macro avg       0.83      0.67      0.72     80000\n",
            "weighted avg       0.91      0.92      0.91     80000\n",
            "\n"
          ],
          "name": "stdout"
        }
      ]
    },
    {
      "cell_type": "markdown",
      "metadata": {
        "id": "k6ZiT2noqgGS",
        "colab_type": "text"
      },
      "source": [
        "####M2-Evaluation\n",
        "After running a grid search to uncover the top performing logistic regression hyperparameter combination, we are seeing that the accuracy score is close to our simple logistic regression model, however, it did come in close to the same. \n",
        "\n",
        "The Simple Logistic Regression model was the winner with a C=1 which is less regularization than the grid search that called for a stronger regularization at C = 0.001. \n",
        "\n",
        "---\n",
        "\n",
        "\n",
        "ROC Curves and AUC in Python\n",
        "https://machinelearningmastery.com/roc-curves-and-precision-recall-curves-for-classification-in-python/\n",
        "\n",
        "Since our accuracy was better with our logistic regression model, we will use this in building an ROC curve to show how our model is performing. \n",
        "\n",
        "\n"
      ]
    },
    {
      "cell_type": "code",
      "metadata": {
        "id": "MNU1Kc-wraz8",
        "colab_type": "code",
        "outputId": "8e69bf9f-0edf-4bea-e62c-c7d6f0567e0f",
        "colab": {
          "base_uri": "https://localhost:8080/",
          "height": 51
        }
      },
      "source": [
        "# predict probabilities\n",
        "lr_probs = simplelogisticRegr.predict_proba(X_test_scaled)\n",
        "ns_probs = [0 for _ in range(len(y_test))]\n",
        "# keep probabilities for the positive outcome only\n",
        "lr_probs = lr_probs[:, 1]\n",
        "# calculate scores\n",
        "ns_auc = roc_auc_score(y_test, ns_probs)\n",
        "lr_auc = roc_auc_score(y_test, lr_probs)\n",
        "# summarize scores\n",
        "print('No Skill: ROC AUC=%.3f' % (ns_auc))\n",
        "print('Logistic: ROC AUC=%.3f' % (lr_auc))"
      ],
      "execution_count": 0,
      "outputs": [
        {
          "output_type": "stream",
          "text": [
            "No Skill: ROC AUC=0.500\n",
            "Logistic: ROC AUC=0.839\n"
          ],
          "name": "stdout"
        }
      ]
    },
    {
      "cell_type": "code",
      "metadata": {
        "id": "lvPfcXa9raz_",
        "colab_type": "code",
        "outputId": "efa46c7a-a73f-4192-a42a-b36f63c76c3d",
        "colab": {
          "base_uri": "https://localhost:8080/",
          "height": 285
        }
      },
      "source": [
        "# calculate roc curves\n",
        "ns_fpr, ns_tpr, _ = roc_curve(y_test, ns_probs)\n",
        "lr_fpr, lr_tpr, _ = roc_curve(y_test, lr_probs)\n",
        "\n",
        "# plot the roc curve for the model\n",
        "pyplot.plot(ns_fpr, ns_tpr, linestyle='--', label='No Skill')\n",
        "pyplot.plot(lr_fpr, lr_tpr, marker='.', label='Logistic')\n",
        "\n",
        "# axis labels\n",
        "pyplot.xlabel('False Positive Rate')\n",
        "pyplot.ylabel('True Positive Rate')\n",
        "\n",
        "# show the legend\n",
        "pyplot.legend()\n",
        "\n",
        "# show the plot\n",
        "pyplot.show()"
      ],
      "execution_count": 0,
      "outputs": [
        {
          "output_type": "display_data",
          "data": {
            "image/png": "[encoded data removed]",
            "text/plain": [
              "<Figure size 432x288 with 1 Axes>"
            ]
          },
          "metadata": {
            "tags": []
          }
        }
      ]
    },
    {
      "cell_type": "markdown",
      "metadata": {
        "id": "XsPBghgPsugq",
        "colab_type": "text"
      },
      "source": [
        "Looking at our true positive rate compared to false-positive rate, with the diagonal line representing a 50% false-positive rate, we can see that our model is producing more True positives than false-positives.\n",
        "\n",
        "\n",
        "\n",
        "---\n",
        "\n",
        "Running a Precision/ Recall line plot"
      ]
    },
    {
      "cell_type": "code",
      "metadata": {
        "colab_type": "code",
        "id": "kDI0MDSYnSj0",
        "colab": {}
      },
      "source": [
        "ywhiskcnt = y_test.apply(pd.value_counts)\n",
        "ycnt = ywhiskcnt.loc[1:1, :]"
      ],
      "execution_count": 0,
      "outputs": []
    },
    {
      "cell_type": "code",
      "metadata": {
        "colab_type": "code",
        "id": "egJSv8ZOnSj5",
        "outputId": "5aadd049-f3dd-4ecf-e0f5-7a5c54ec1d5f",
        "colab": {
          "base_uri": "https://localhost:8080/",
          "height": 302
        }
      },
      "source": [
        "# predict probabilities\n",
        "lr_probs = simplelogisticRegr.predict_proba(X_test_scaled)\n",
        "# keep probabilities for the positive outcome only\n",
        "lr_probs = lr_probs[:, 1]\n",
        "# predict class values\n",
        "yhat = regGridSearch.predict(X_test_scaled)\n",
        "lr_precision, lr_recall, _ = precision_recall_curve(y_test, lr_probs)\n",
        "lr_f1, lr_auc = f1_score(y_test, yhat), auc(lr_recall, lr_precision)\n",
        "# summarize scores\n",
        "print('Logistic: f1=%.3f auc=%.3f' % (lr_f1, lr_auc))\n",
        "# plot the precision-recall curves\n",
        "ywhiskcnt = y_test.apply(pd.value_counts)\n",
        "ycnt = ywhiskcnt.loc[1:1, :]\n",
        "no_skill = ycnt.values[0] / len(y_test)\n",
        "#no_skill = len(y_test[y_test==1]) / len(y_test)\n",
        "no_skill\n",
        "#no_skill = 0.2\n",
        "pyplot.plot([0, 1], [no_skill, no_skill], linestyle='--', label='No Skill')\n",
        "pyplot.plot(lr_recall, lr_precision, marker='.', label='Logistic')\n",
        "# axis labels\n",
        "pyplot.xlabel('Recall')\n",
        "pyplot.ylabel('Precision')\n",
        "# show the legend\n",
        "pyplot.legend()\n",
        "# show the plot\n",
        "pyplot.show()"
      ],
      "execution_count": 0,
      "outputs": [
        {
          "output_type": "stream",
          "text": [
            "Logistic: f1=0.479 auc=0.365\n"
          ],
          "name": "stdout"
        },
        {
          "output_type": "display_data",
          "data": {
            "image/png": "[encoded data removed]",
            "text/plain": [
              "<Figure size 432x288 with 1 Axes>"
            ]
          },
          "metadata": {
            "tags": []
          }
        }
      ]
    },
    {
      "cell_type": "markdown",
      "metadata": {
        "id": "lhJSZKDgtn08",
        "colab_type": "text"
      },
      "source": [
        "From the precision/ recall line plot above, we can see that our model tends to lose precision as we get a higher recall, with the bottoming out of 0.5 precision and 0.2 being the point of spiking the performance. \n",
        "\n",
        "So essentially, it is saying that our model is better at predicting the correct line items that were whiskeys than correctly discerning between whiskeys and non whiskeys. "
      ]
    },
    {
      "cell_type": "markdown",
      "metadata": {
        "colab_type": "text",
        "id": "dC7CCKAznSkt"
      },
      "source": [
        "### M3-SVM Model\n",
        "<a id='m3'></a>"
      ]
    },
    {
      "cell_type": "code",
      "metadata": {
        "id": "6AIn_2Sora0N",
        "colab_type": "code",
        "outputId": "f02e0cda-8254-4840-9b48-c334b1d5f7f2",
        "colab": {
          "base_uri": "https://localhost:8080/",
          "height": 105
        }
      },
      "source": [
        "%%time\n",
        "\n",
        "#possibility to scale it?\n",
        "from sklearn.svm import LinearSVC\n",
        "from sklearn import preprocessing\n",
        "X_train_svc_scaled \n",
        "X_test_svc_scaled \n",
        "#X_train = preprocessing.scale(X_train_svc)\n",
        "#X_test = preprocessing.scale(X_test_svc)\n",
        "\n",
        "# all parameters not specified are set to their defaults\n",
        "#https://stackabuse.com/implementing-svm-and-kernel-svm-with-pythons-scikit-learn/\n",
        "from sklearn.svm import SVC\n",
        "#svclassifier = SVC(kernel='poly', degree=8)\n",
        "#svclassifier = SVC(kernel='rbf')\n",
        "#svclassifier = SVC(kernel='linear', C = 1000, random_state=0)\n",
        "#svclassifier = LinearSVC(C=100)\n",
        "\n",
        "# still getting ConvergenceWarning w/ max_iter=100000 w/ full dataset\n",
        "# C=100, max_iter=100000 taking over up to an hour to run on full dataset\n",
        "# In the 80/20 training/testing split, use the smaller train set of only 1% and max_iter=10000\n",
        "# takes less than 2 mins to complete.  Keep seeing convergance warnings on values less than 100000\n",
        "# with more than 4000 rows of training data\n",
        "svclassifier = LinearSVC(C=100, max_iter=100000) \n",
        "\n",
        "# Fit (train) the model\n",
        "#model = svclassifier.fit(X_train_svc_scaled,  y_train_svc)\n",
        "model = svclassifier.fit(X_train_svc_scaled,  y_train_svc.values.ravel())\n",
        "model"
      ],
      "execution_count": 0,
      "outputs": [
        {
          "output_type": "stream",
          "text": [
            "CPU times: user 12 s, sys: 1.52 ms, total: 12 s\n",
            "Wall time: 12.1 s\n"
          ],
          "name": "stdout"
        },
        {
          "output_type": "stream",
          "text": [
            "/usr/local/lib/python3.6/dist-packages/sklearn/svm/_base.py:947: ConvergenceWarning: Liblinear failed to converge, increase the number of iterations.\n",
            "  \"the number of iterations.\", ConvergenceWarning)\n"
          ],
          "name": "stderr"
        }
      ]
    },
    {
      "cell_type": "markdown",
      "metadata": {
        "id": "MVTedd2GpLtU",
        "colab_type": "text"
      },
      "source": [
        "####M3-Predictions (92% sub ds)\n",
        "<a id='m3_predict'></a>"
      ]
    },
    {
      "cell_type": "code",
      "metadata": {
        "id": "syBDZ4Tnra0Q",
        "colab_type": "code",
        "outputId": "b2134d1a-cb72-432a-ae6c-efdaa51ad7cf",
        "colab": {
          "base_uri": "https://localhost:8080/",
          "height": 306
        }
      },
      "source": [
        "# Returns a NumPy Array\n",
        "predictions_svc = svclassifier.predict(X_test_svc_scaled)\n",
        "from sklearn.metrics import classification_report, confusion_matrix\n",
        "\n",
        "acc = mt.accuracy_score(y_test_svc,predictions_svc)\n",
        "print(\"Accuracy:\\n\", acc )\n",
        "\n",
        "print(\"\\nConfusion matrix:\")\n",
        "print(confusion_matrix(y_test_svc, predictions_svc))\n",
        "\n",
        "print(\"\\nClassification report:\")\n",
        "print(classification_report(y_test_svc, predictions_svc))\n"
      ],
      "execution_count": 0,
      "outputs": [
        {
          "output_type": "stream",
          "text": [
            "Accuracy:\n",
            " 0.918219696969697\n",
            "\n",
            "Confusion matrix:\n",
            "[[351671   2986]\n",
            " [ 29399  11944]]\n",
            "\n",
            "Classification report:\n",
            "              precision    recall  f1-score   support\n",
            "\n",
            "           0       0.92      0.99      0.96    354657\n",
            "           1       0.80      0.29      0.42     41343\n",
            "\n",
            "    accuracy                           0.92    396000\n",
            "   macro avg       0.86      0.64      0.69    396000\n",
            "weighted avg       0.91      0.92      0.90    396000\n",
            "\n"
          ],
          "name": "stdout"
        }
      ]
    },
    {
      "cell_type": "markdown",
      "metadata": {
        "id": "yRO9IorFD6A6",
        "colab_type": "text"
      },
      "source": [
        "####M3-Evaluation\n",
        "For our Support Vector Machine, we were able to derive an 92% Accuracy with a precision of 92% and Recall of 99%. \n",
        "\n",
        "\n",
        "---\n",
        "\n",
        "\n",
        "Now, will look at the weights to determine feature importance\n",
        "\n"
      ]
    },
    {
      "cell_type": "code",
      "metadata": {
        "id": "PZpn-RaXE9oI",
        "colab_type": "code",
        "outputId": "24b12c7f-d375-4ff4-e3e6-c012eab68924",
        "colab": {
          "base_uri": "https://localhost:8080/",
          "height": 445
        }
      },
      "source": [
        "# if using linear kernel, these make sense to look at (not otherwise, why?)\n",
        "print(svclassifier.coef_)\n",
        "weights = pd.Series(svclassifier.coef_[0],index=X.columns)\n",
        "weights.plot(kind='bar')"
      ],
      "execution_count": 0,
      "outputs": [
        {
          "output_type": "stream",
          "text": [
            "[[-1.1320595  -0.65354938  2.00320938  1.4502166  -0.4629996   0.18344292\n",
            "  -0.52781325]]\n"
          ],
          "name": "stdout"
        },
        {
          "output_type": "execute_result",
          "data": {
            "text/plain": [
              "<matplotlib.axes._subplots.AxesSubplot at 0x7fe8d90abb38>"
            ]
          },
          "metadata": {
            "tags": []
          },
          "execution_count": 25
        },
        {
          "output_type": "display_data",
          "data": {
            "image/png": "[encoded data removed]",
            "text/plain": [
              "<Figure size 432x288 with 1 Axes>"
            ]
          },
          "metadata": {
            "tags": []
          }
        }
      ]
    },
    {
      "cell_type": "markdown",
      "metadata": {
        "id": "_EsEVp7IFH1Q",
        "colab_type": "text"
      },
      "source": [
        "Looking at the key values associated with driving the prediction classifier of whiskey vs non whiskey, we can see that the state bottle cost and bottles sold are the key factor in driving performance, followed by the sale amount of the transation which has a negative relationship to whether or not a sale was a whiskey."
      ]
    },
    {
      "cell_type": "markdown",
      "metadata": {
        "id": "4wF80UyFy1DN",
        "colab_type": "text"
      },
      "source": [
        "###M4-SVM Model w/ Hyperparameter Tuning\n",
        "<a id='m4'></a>\n",
        "\n",
        "Create a Support Vector Machine model.  Find scalings for each column that make this zero mean and standard deviation.   Will scale at the training data to get mean and standard deviation and can use it to transform new feature data"
      ]
    },
    {
      "cell_type": "code",
      "metadata": {
        "id": "PzfDHSjiDnqZ",
        "colab_type": "code",
        "outputId": "0a8a97b1-bda3-4141-de5d-5c5b8b695711",
        "colab": {
          "base_uri": "https://localhost:8080/",
          "height": 85
        }
      },
      "source": [
        "from sklearn.svm import SVC\n",
        "from sklearn.preprocessing import StandardScaler\n",
        "\n",
        "# scale attributes by the training set\n",
        "scl_obj = StandardScaler()\n",
        "scl_obj.fit(X_train_svc) # find scalings for each column that make this zero mean and unit std\n",
        "# the line of code above only looks at training data to get mean and std and we can use it \n",
        "# to transform new feature data\n",
        "\n",
        "# apply to training\n",
        "X_train_svc_scaled = scl_obj.transform(X_train_svc) \n",
        "X_test_svc_scaled = scl_obj.transform(X_test_svc)\n",
        "\n",
        "# train the model just as before\n",
        "svm_clf = SVC(C=0.5, kernel='rbf', degree=3, gamma='auto') # get object\n",
        "#model3 = svm_clf.fit(X_train_scaled, y_train)  # train object\n",
        "model3 = svm_clf.fit(X_train_svc_scaled, y_train_svc.values.ravel()) \n",
        "model3"
      ],
      "execution_count": 0,
      "outputs": [
        {
          "output_type": "execute_result",
          "data": {
            "text/plain": [
              "SVC(C=0.5, break_ties=False, cache_size=200, class_weight=None, coef0=0.0,\n",
              "    decision_function_shape='ovr', degree=3, gamma='auto', kernel='rbf',\n",
              "    max_iter=-1, probability=False, random_state=None, shrinking=True,\n",
              "    tol=0.001, verbose=False)"
            ]
          },
          "metadata": {
            "tags": []
          },
          "execution_count": 26
        }
      ]
    },
    {
      "cell_type": "markdown",
      "metadata": {
        "id": "kfoS-ClrP2bv",
        "colab_type": "text"
      },
      "source": [
        "####M4-Predictions (92% sub ds)\n",
        "<a id='m4_predict'></a>"
      ]
    },
    {
      "cell_type": "code",
      "metadata": {
        "id": "s32GiA8NEIOV",
        "colab_type": "code",
        "outputId": "91c43f15-9ba9-4018-ead4-412b55279c12",
        "colab": {
          "base_uri": "https://localhost:8080/",
          "height": 306
        }
      },
      "source": [
        "# get test set precitions\n",
        "y_hat_svc = svm_clf.predict(X_test_svc_scaled) \n",
        "\n",
        "acc_svc = mt.accuracy_score(y_test_svc,y_hat_svc)\n",
        "conf_svc = mt.confusion_matrix(y_test_svc,y_hat_svc)\n",
        "print('Accuracy:\\n', acc_svc )\n",
        "\n",
        "print(\"\\nConfusion matrix:\")\n",
        "print(conf_svc)\n",
        "\n",
        "print(\"\\nClassification report:\")\n",
        "print(classification_report(y_test_svc,y_hat_svc))"
      ],
      "execution_count": 0,
      "outputs": [
        {
          "output_type": "stream",
          "text": [
            "Accuracy:\n",
            " 0.9200782828282829\n",
            "\n",
            "Confusion matrix:\n",
            "[[346953   7704]\n",
            " [ 23945  17398]]\n",
            "\n",
            "Classification report:\n",
            "              precision    recall  f1-score   support\n",
            "\n",
            "           0       0.94      0.98      0.96    354657\n",
            "           1       0.69      0.42      0.52     41343\n",
            "\n",
            "    accuracy                           0.92    396000\n",
            "   macro avg       0.81      0.70      0.74    396000\n",
            "weighted avg       0.91      0.92      0.91    396000\n",
            "\n"
          ],
          "name": "stdout"
        }
      ]
    },
    {
      "cell_type": "markdown",
      "metadata": {
        "id": "tWHeJoWBEkvw",
        "colab_type": "text"
      },
      "source": [
        "####M4-Evaluation\n",
        "With SVM Model with Hyperparameter Tuning, we attain the highest accuracy score with over 92%, with the highest precision, recall and F1 Score achieved with our model. The SVM CLF will be the model we chose in our interpretation. "
      ]
    },
    {
      "cell_type": "code",
      "metadata": {
        "id": "5USCaQW_ra0S",
        "colab_type": "code",
        "outputId": "45f3759c-9231-4c3c-b8b2-6a8122fe166f",
        "colab": {
          "base_uri": "https://localhost:8080/",
          "height": 68
        }
      },
      "source": [
        "# look at the support vectors\n",
        "print(svm_clf.support_vectors_.shape)\n",
        "print(svm_clf.support_.shape)\n",
        "print(svm_clf.n_support_ )"
      ],
      "execution_count": 0,
      "outputs": [
        {
          "output_type": "stream",
          "text": [
            "(738, 7)\n",
            "(738,)\n",
            "[384 354]\n"
          ],
          "name": "stdout"
        }
      ]
    },
    {
      "cell_type": "markdown",
      "metadata": {
        "id": "IGMJSwdCra0Z",
        "colab_type": "text"
      },
      "source": [
        "So the analysis here is basically telling us what the original statistics of the data looked like, and also what the statistics of the support vectors looked like. We can see that the separation in distributions is not as great as the separation for the original data. This is because the support vectors tend to be instances on the edge of the class boundaries and also instances that are classified incorrectly in the training data.\n",
        "\n",
        "You can also look at joint plots of the data and see how relationships have changed."
      ]
    },
    {
      "cell_type": "markdown",
      "metadata": {
        "id": "yybaX_KjymeS",
        "colab_type": "text"
      },
      "source": [
        "### M5-Logistic Regression w/ SGD Optimizer \n",
        "<a id='m5'></a>"
      ]
    },
    {
      "cell_type": "code",
      "metadata": {
        "id": "HFzmNkUOra0c",
        "colab_type": "code",
        "outputId": "1f603cff-5fd1-4317-9cc4-6448bb3832db",
        "colab": {
          "base_uri": "https://localhost:8080/",
          "height": 51
        }
      },
      "source": [
        "%%time\n",
        "\n",
        "# now divide the data into test and train using scikit learn built-ins\n",
        "# n_splits=2, test_size=0.8, random_state=0 takes only a few seconds to run\n",
        "cv = StratifiedShuffleSplit(n_splits=2, test_size=0.8, random_state=0)\n",
        "regularize_const = 0.01\n",
        "iterations = 5\n",
        "\n",
        "# use some compact notation for creating a logistic regression classifier with stochastic descent\n",
        "log_sgd = SGDClassifier(alpha=regularize_const,\n",
        "        fit_intercept=True, l1_ratio=0.0, learning_rate='optimal',\n",
        "        loss='log', n_iter_no_change=iterations, n_jobs=-1, penalty='l2')"
      ],
      "execution_count": 0,
      "outputs": [
        {
          "output_type": "stream",
          "text": [
            "CPU times: user 148 µs, sys: 0 ns, total: 148 µs\n",
            "Wall time: 154 µs\n"
          ],
          "name": "stdout"
        }
      ]
    },
    {
      "cell_type": "markdown",
      "metadata": {
        "id": "xNIK_794dr1n",
        "colab_type": "text"
      },
      "source": [
        "####M5-Predictions (91% full ds)\n",
        "<a id='m5_predict'></a>"
      ]
    },
    {
      "cell_type": "code",
      "metadata": {
        "id": "hXAyhPljdw-t",
        "colab_type": "code",
        "outputId": "6fe5ba99-0861-4724-dadf-3e598874d295",
        "colab": {
          "base_uri": "https://localhost:8080/",
          "height": 323
        }
      },
      "source": [
        "scl = StandardScaler()\n",
        "\n",
        "for train_idx, test_idx in cv.split(X,y):\n",
        "  log_sgd.fit(scl.fit_transform(X.iloc[train_idx]),y.iloc[train_idx].values.ravel())\n",
        "  yhat2 = log_sgd.predict(scl.transform(X.iloc[test_idx]))\n",
        "    \n",
        "  conf = mt.confusion_matrix(y.iloc[test_idx],yhat2)\n",
        "  acc = mt.accuracy_score(y.iloc[test_idx],yhat2)\n",
        "\n",
        "\n",
        "print('\\nAccuracy:\\n', acc)\n",
        "print('\\nConfusion Matrix:\\n', conf)\n",
        "print('\\nClassification Report:\\n', classification_report(y.iloc[test_idx], yhat2))"
      ],
      "execution_count": 0,
      "outputs": [
        {
          "output_type": "stream",
          "text": [
            "\n",
            "Accuracy:\n",
            " 0.908165625\n",
            "\n",
            "Confusion Matrix:\n",
            " [[283284   3312]\n",
            " [ 26075   7329]]\n",
            "\n",
            "Classification Report:\n",
            "               precision    recall  f1-score   support\n",
            "\n",
            "           0       0.92      0.99      0.95    286596\n",
            "           1       0.69      0.22      0.33     33404\n",
            "\n",
            "    accuracy                           0.91    320000\n",
            "   macro avg       0.80      0.60      0.64    320000\n",
            "weighted avg       0.89      0.91      0.89    320000\n",
            "\n"
          ],
          "name": "stdout"
        }
      ]
    },
    {
      "cell_type": "markdown",
      "metadata": {
        "id": "2MRoMK7RG1fk",
        "colab_type": "text"
      },
      "source": [
        "####M5-Evaluation\n",
        "Of all our models, the SGD \"Simple\" model (M5) had the worst accuracy score of 90%. "
      ]
    },
    {
      "cell_type": "markdown",
      "metadata": {
        "id": "Z2q8d2SfnCnQ",
        "colab_type": "text"
      },
      "source": [
        "###M6-Logistic Regression w/ SGD Optimizer and ParameterGrid for Hyperparameter Tuning (M6)\n",
        "<a id='m6'></a>\n",
        "\n",
        "With this parameterization tuning set, we will run a hyperparameter fitting model called Parfit."
      ]
    },
    {
      "cell_type": "code",
      "metadata": {
        "id": "wzrjOwATxnRh",
        "colab_type": "code",
        "cellView": "both",
        "outputId": "13a5dc6b-4993-4bbc-f7c8-0e875d187456",
        "colab": {
          "base_uri": "https://localhost:8080/",
          "height": 394
        }
      },
      "source": [
        "#@title\n",
        "# Install parfit package \n",
        "\n",
        "# The ! is if you're in colab\n",
        "!pip install parfit\n",
        "\n",
        "# if not running in colab\n",
        "#pip install parfit"
      ],
      "execution_count": 0,
      "outputs": [
        {
          "output_type": "stream",
          "text": [
            "Collecting parfit\n",
            "  Downloading https://files.pythonhosted.org/packages/08/60/8090b25f914c91914e8bb5c87819bfe52cead06b6d1a557f20afbe62c1ec/parfit-0.220.tar.gz\n",
            "Requirement already satisfied: joblib in /usr/local/lib/python3.6/dist-packages (from parfit) (0.14.1)\n",
            "Requirement already satisfied: matplotlib in /usr/local/lib/python3.6/dist-packages (from parfit) (3.1.3)\n",
            "Requirement already satisfied: sklearn in /usr/local/lib/python3.6/dist-packages (from parfit) (0.0)\n",
            "Requirement already satisfied: numpy in /usr/local/lib/python3.6/dist-packages (from parfit) (1.17.5)\n",
            "Requirement already satisfied: cycler>=0.10 in /usr/local/lib/python3.6/dist-packages (from matplotlib->parfit) (0.10.0)\n",
            "Requirement already satisfied: kiwisolver>=1.0.1 in /usr/local/lib/python3.6/dist-packages (from matplotlib->parfit) (1.1.0)\n",
            "Requirement already satisfied: pyparsing!=2.0.4,!=2.1.2,!=2.1.6,>=2.0.1 in /usr/local/lib/python3.6/dist-packages (from matplotlib->parfit) (2.4.6)\n",
            "Requirement already satisfied: python-dateutil>=2.1 in /usr/local/lib/python3.6/dist-packages (from matplotlib->parfit) (2.6.1)\n",
            "Requirement already satisfied: scikit-learn in /usr/local/lib/python3.6/dist-packages (from sklearn->parfit) (0.22.1)\n",
            "Requirement already satisfied: six in /usr/local/lib/python3.6/dist-packages (from cycler>=0.10->matplotlib->parfit) (1.12.0)\n",
            "Requirement already satisfied: setuptools in /usr/local/lib/python3.6/dist-packages (from kiwisolver>=1.0.1->matplotlib->parfit) (45.1.0)\n",
            "Requirement already satisfied: scipy>=0.17.0 in /usr/local/lib/python3.6/dist-packages (from scikit-learn->sklearn->parfit) (1.4.1)\n",
            "Building wheels for collected packages: parfit\n",
            "  Building wheel for parfit (setup.py) ... \u001b[?25l\u001b[?25hdone\n",
            "  Created wheel for parfit: filename=parfit-0.220-cp36-none-any.whl size=8660 sha256=7cba82a64dba3da35e4423ac9084f39fe1441c2405b7709a6c14f587fddae3b0\n",
            "  Stored in directory: /root/.cache/pip/wheels/d9/8a/c9/ed86e85ad0cb41ce2fdcb6bc215902dc475bd3fb1fef7c742d\n",
            "Successfully built parfit\n",
            "Installing collected packages: parfit\n",
            "Successfully installed parfit-0.220\n"
          ],
          "name": "stdout"
        }
      ]
    },
    {
      "cell_type": "code",
      "metadata": {
        "id": "72Uc333JvU3M",
        "colab_type": "code",
        "outputId": "5b324ed7-d0ee-4c75-88b3-32217cbd8bfd",
        "colab": {
          "base_uri": "https://localhost:8080/",
          "height": 1000
        }
      },
      "source": [
        "from sklearn.model_selection import ParameterGrid\n",
        "from sklearn.linear_model import LogisticRegression\n",
        "from sklearn.metrics import roc_auc_score\n",
        "import parfit.parfit as pf\n",
        "\n",
        "# takes less than 2 mins to complete\n",
        "grid = {\n",
        "    'alpha': [1e-4, 1e-3, 1e-2, 1e-1, 1e0, 1e1, 1e2, 1e3], # learning rate\n",
        "   # 'n_iter': [1000], # number of epochs\n",
        "    'loss': ['log'], # logistic regression,\n",
        "    'penalty': ['l2'],\n",
        "    'n_jobs': [-1]\n",
        "}\n",
        "\n",
        "paramGrid = ParameterGrid(grid)\n",
        "\n",
        "bestModel = pf.bestFit(SGDClassifier, paramGrid,\n",
        "           X_train, y_train, X_test, y_test, \n",
        "           metric = roc_auc_score, \n",
        "           scoreLabel = \"AUC\")\n",
        "\n",
        "print(bestModel)\n",
        "\n",
        "#Perform hyperparameter search to find the best combination of parameters for our data\n"
      ],
      "execution_count": 0,
      "outputs": [
        {
          "output_type": "stream",
          "text": [
            "-------------FITTING MODELS-------------\n"
          ],
          "name": "stdout"
        },
        {
          "output_type": "stream",
          "text": [
            "[Parallel(n_jobs=-1)]: Using backend LokyBackend with 2 concurrent workers.\n",
            "[Parallel(n_jobs=-1)]: Done   1 tasks      | elapsed:   55.0s\n",
            "[Parallel(n_jobs=-1)]: Done   4 tasks      | elapsed:  1.2min\n",
            "[Parallel(n_jobs=-1)]: Done   6 out of   8 | elapsed:  1.3min remaining:   25.5s\n",
            "[Parallel(n_jobs=-1)]: Done   8 out of   8 | elapsed:  1.3min remaining:    0.0s\n",
            "[Parallel(n_jobs=-1)]: Done   8 out of   8 | elapsed:  1.3min finished\n",
            "[Parallel(n_jobs=-1)]: Using backend LokyBackend with 2 concurrent workers.\n"
          ],
          "name": "stderr"
        },
        {
          "output_type": "stream",
          "text": [
            "-------------SCORING MODELS-------------\n"
          ],
          "name": "stdout"
        },
        {
          "output_type": "stream",
          "text": [
            "[Parallel(n_jobs=-1)]: Done   8 out of   8 | elapsed:    0.3s finished\n"
          ],
          "name": "stderr"
        },
        {
          "output_type": "display_data",
          "data": {
            "image/png": "[encoded data removed]",
            "text/plain": [
              "<Figure size 432x432 with 1 Axes>"
            ]
          },
          "metadata": {
            "tags": []
          }
        },
        {
          "output_type": "stream",
          "text": [
            "(SGDClassifier(alpha=0.0001, average=False, class_weight=None,\n",
            "              early_stopping=False, epsilon=0.1, eta0=0.0, fit_intercept=True,\n",
            "              l1_ratio=0.15, learning_rate='optimal', loss='log', max_iter=1000,\n",
            "              n_iter_no_change=5, n_jobs=-1, penalty='l2', power_t=0.5,\n",
            "              random_state=None, shuffle=True, tol=0.001,\n",
            "              validation_fraction=0.1, verbose=0, warm_start=False), 0.8485481766912575, [SGDClassifier(alpha=0.0001, average=False, class_weight=None,\n",
            "              early_stopping=False, epsilon=0.1, eta0=0.0, fit_intercept=True,\n",
            "              l1_ratio=0.15, learning_rate='optimal', loss='log', max_iter=1000,\n",
            "              n_iter_no_change=5, n_jobs=-1, penalty='l2', power_t=0.5,\n",
            "              random_state=None, shuffle=True, tol=0.001,\n",
            "              validation_fraction=0.1, verbose=0, warm_start=False), SGDClassifier(alpha=0.001, average=False, class_weight=None,\n",
            "              early_stopping=False, epsilon=0.1, eta0=0.0, fit_intercept=True,\n",
            "              l1_ratio=0.15, learning_rate='optimal', loss='log', max_iter=1000,\n",
            "              n_iter_no_change=5, n_jobs=-1, penalty='l2', power_t=0.5,\n",
            "              random_state=None, shuffle=True, tol=0.001,\n",
            "              validation_fraction=0.1, verbose=0, warm_start=False), SGDClassifier(alpha=0.01, average=False, class_weight=None,\n",
            "              early_stopping=False, epsilon=0.1, eta0=0.0, fit_intercept=True,\n",
            "              l1_ratio=0.15, learning_rate='optimal', loss='log', max_iter=1000,\n",
            "              n_iter_no_change=5, n_jobs=-1, penalty='l2', power_t=0.5,\n",
            "              random_state=None, shuffle=True, tol=0.001,\n",
            "              validation_fraction=0.1, verbose=0, warm_start=False), SGDClassifier(alpha=0.1, average=False, class_weight=None, early_stopping=False,\n",
            "              epsilon=0.1, eta0=0.0, fit_intercept=True, l1_ratio=0.15,\n",
            "              learning_rate='optimal', loss='log', max_iter=1000,\n",
            "              n_iter_no_change=5, n_jobs=-1, penalty='l2', power_t=0.5,\n",
            "              random_state=None, shuffle=True, tol=0.001,\n",
            "              validation_fraction=0.1, verbose=0, warm_start=False), SGDClassifier(alpha=1.0, average=False, class_weight=None, early_stopping=False,\n",
            "              epsilon=0.1, eta0=0.0, fit_intercept=True, l1_ratio=0.15,\n",
            "              learning_rate='optimal', loss='log', max_iter=1000,\n",
            "              n_iter_no_change=5, n_jobs=-1, penalty='l2', power_t=0.5,\n",
            "              random_state=None, shuffle=True, tol=0.001,\n",
            "              validation_fraction=0.1, verbose=0, warm_start=False), SGDClassifier(alpha=10.0, average=False, class_weight=None,\n",
            "              early_stopping=False, epsilon=0.1, eta0=0.0, fit_intercept=True,\n",
            "              l1_ratio=0.15, learning_rate='optimal', loss='log', max_iter=1000,\n",
            "              n_iter_no_change=5, n_jobs=-1, penalty='l2', power_t=0.5,\n",
            "              random_state=None, shuffle=True, tol=0.001,\n",
            "              validation_fraction=0.1, verbose=0, warm_start=False), SGDClassifier(alpha=100.0, average=False, class_weight=None,\n",
            "              early_stopping=False, epsilon=0.1, eta0=0.0, fit_intercept=True,\n",
            "              l1_ratio=0.15, learning_rate='optimal', loss='log', max_iter=1000,\n",
            "              n_iter_no_change=5, n_jobs=-1, penalty='l2', power_t=0.5,\n",
            "              random_state=None, shuffle=True, tol=0.001,\n",
            "              validation_fraction=0.1, verbose=0, warm_start=False), SGDClassifier(alpha=1000.0, average=False, class_weight=None,\n",
            "              early_stopping=False, epsilon=0.1, eta0=0.0, fit_intercept=True,\n",
            "              l1_ratio=0.15, learning_rate='optimal', loss='log', max_iter=1000,\n",
            "              n_iter_no_change=5, n_jobs=-1, penalty='l2', power_t=0.5,\n",
            "              random_state=None, shuffle=True, tol=0.001,\n",
            "              validation_fraction=0.1, verbose=0, warm_start=False)], [0.8485481766912575, 0.8223250778535736, 0.8291217435079548, 0.8184268109627415, 0.7787266911753252, 0.7148561617245264, 0.6047551686722226, 0.6006223097865456])\n"
          ],
          "name": "stdout"
        }
      ]
    },
    {
      "cell_type": "markdown",
      "metadata": {
        "id": "l6FjXsAg7X1N",
        "colab_type": "text"
      },
      "source": [
        "The parameter fit helped us derive a custom model for the SGD model which gave us an alpha of 0.001, with a penalty of L2 which is a ridge regression. "
      ]
    },
    {
      "cell_type": "markdown",
      "metadata": {
        "id": "7thJ6lG7dA0o",
        "colab_type": "text"
      },
      "source": [
        "####M6-Predictions (92% full ds)\n",
        "<a id='m6_predict'></a>"
      ]
    },
    {
      "cell_type": "code",
      "metadata": {
        "id": "iR4sQbPjwBvD",
        "colab_type": "code",
        "outputId": "e4e24498-d10d-4125-8f4d-431e462cccd9",
        "colab": {
          "base_uri": "https://localhost:8080/",
          "height": 289
        }
      },
      "source": [
        "# use some compact notation for creating a logistic regression classifier with stochastic descent\n",
        "log_sgd2 = SGDClassifier(alpha=0.0001, average=False, class_weight=None,\n",
        "              early_stopping=False, epsilon=0.1, eta0=0.0, fit_intercept=True,\n",
        "              l1_ratio=0.15, learning_rate='optimal', loss='log', max_iter=1000,\n",
        "              n_iter_no_change=5, n_jobs=-1, penalty='l2', power_t=0.5,\n",
        "              random_state=None, shuffle=True, tol=0.001,\n",
        "              validation_fraction=0.1, verbose=0, warm_start=False)\n",
        "\n",
        "model2 = log_sgd2.fit(scl.fit_transform(X.iloc[train_idx]),y.iloc[train_idx])\n",
        "\n",
        "for train_idx, test_idx in cv.split(X,y):\n",
        "  log_sgd2.fit(scl.fit_transform(X.iloc[train_idx]),y.iloc[train_idx])\n",
        "  yhat = log_sgd2.predict(scl.transform(X.iloc[test_idx]))\n",
        "    \n",
        "  conf = mt.confusion_matrix(y.iloc[test_idx],yhat)\n",
        "  acc = mt.accuracy_score(y.iloc[test_idx],yhat)\n",
        "\n",
        "\n",
        "print(\"Accuracy:\\n\", acc )\n",
        "print(\"\\nConfusion matrix:\", conf)\n",
        "print(\"\\nClassification report:\\n\", classification_report(y.iloc[test_idx], yhat))"
      ],
      "execution_count": 0,
      "outputs": [
        {
          "output_type": "stream",
          "text": [
            "Accuracy:\n",
            " 0.916490625\n",
            "\n",
            "Confusion matrix: [[281709   4887]\n",
            " [ 21836  11568]]\n",
            "\n",
            "Classification report:\n",
            "               precision    recall  f1-score   support\n",
            "\n",
            "           0       0.93      0.98      0.95    286596\n",
            "           1       0.70      0.35      0.46     33404\n",
            "\n",
            "    accuracy                           0.92    320000\n",
            "   macro avg       0.82      0.66      0.71    320000\n",
            "weighted avg       0.90      0.92      0.90    320000\n",
            "\n"
          ],
          "name": "stdout"
        }
      ]
    },
    {
      "cell_type": "markdown",
      "metadata": {
        "id": "C3lgvVqN0BXO",
        "colab_type": "text"
      },
      "source": [
        "####M6-Evaluation\n",
        "After installing and running the Hyperparameter Optimization using parfit (https://towardsdatascience.com/how-to-make-sgd-classifier-perform-as-well-as-logistic-regression-using-parfit-cc10bca2d3c4), we can see that we improved upon our original Stochastic Gradient Descent Model with an accuracy score of 91.64%\n",
        "\n",
        "This SGD and the Tuned SVM model will be the ones we use moving forward. "
      ]
    },
    {
      "cell_type": "markdown",
      "metadata": {
        "id": "VtIYmTob6w0E",
        "colab_type": "text"
      },
      "source": [
        "###M7-SVM w/ SGD Optimizer"
      ]
    },
    {
      "cell_type": "code",
      "metadata": {
        "id": "lsTOfzx963aG",
        "colab_type": "code",
        "outputId": "26feed62-2545-41f6-91eb-a7241a268ece",
        "colab": {
          "base_uri": "https://localhost:8080/",
          "height": 51
        }
      },
      "source": [
        "%%time\n",
        "#Divide data into test and training splits\n",
        "# n_splits=2, test_size=0.8, random_state=0 takes less than a min\n",
        "cv = StratifiedShuffleSplit(n_splits=2, test_size=0.8, random_state=0) \n",
        "\n",
        "from sklearn.linear_model import SGDClassifier\n",
        "regularize_const = 0.01\n",
        "iterations = 500\n",
        "\n",
        "# use some compact notation for creating a linear SVM classifier with stochastic gradient descent\n",
        "svm_sgd = SGDClassifier(alpha=regularize_const,\n",
        "        fit_intercept=True, l1_ratio=0.0, learning_rate='optimal',\n",
        "        loss='hinge', n_iter_no_change=iterations, n_jobs=-1, penalty='l2')"
      ],
      "execution_count": 0,
      "outputs": [
        {
          "output_type": "stream",
          "text": [
            "CPU times: user 64 µs, sys: 8 µs, total: 72 µs\n",
            "Wall time: 76.8 µs\n"
          ],
          "name": "stdout"
        }
      ]
    },
    {
      "cell_type": "markdown",
      "metadata": {
        "id": "JCmYin_H_Iit",
        "colab_type": "text"
      },
      "source": [
        "####M7-Predictions (90% full ds)"
      ]
    },
    {
      "cell_type": "code",
      "metadata": {
        "id": "0rv4nC1W_-fT",
        "colab_type": "code",
        "outputId": "cd4f0216-d036-4192-9785-8df2fae9ae6b",
        "colab": {
          "base_uri": "https://localhost:8080/",
          "height": 306
        }
      },
      "source": [
        "scl = StandardScaler()\n",
        "\n",
        "for train_idx, test_idx in cv.split(X,y):\n",
        "  svm_sgd.fit(scl.fit_transform(X.iloc[train_idx]),y.iloc[train_idx].values.ravel())\n",
        "  yhat = svm_sgd.predict(scl.transform(X.iloc[test_idx]))\n",
        "    \n",
        "  conf = mt.confusion_matrix(y.iloc[test_idx],yhat)\n",
        "  acc = mt.accuracy_score(y.iloc[test_idx],yhat)\n",
        "\n",
        "print(\"Accuracy:\\n\", acc )\n",
        "print(\"\\nConfusion matrix:\\n\", conf)\n",
        "print(\"\\nClassification report:\\n\", classification_report(y.iloc[test_idx], yhat))"
      ],
      "execution_count": 0,
      "outputs": [
        {
          "output_type": "stream",
          "text": [
            "Accuracy:\n",
            " 0.899346875\n",
            "\n",
            "Confusion matrix:\n",
            " [[286366    230]\n",
            " [ 31979   1425]]\n",
            "\n",
            "Classification report:\n",
            "               precision    recall  f1-score   support\n",
            "\n",
            "           0       0.90      1.00      0.95    286596\n",
            "           1       0.86      0.04      0.08     33404\n",
            "\n",
            "    accuracy                           0.90    320000\n",
            "   macro avg       0.88      0.52      0.51    320000\n",
            "weighted avg       0.90      0.90      0.86    320000\n",
            "\n"
          ],
          "name": "stdout"
        }
      ]
    },
    {
      "cell_type": "markdown",
      "metadata": {
        "id": "nw-SuYBc_ML3",
        "colab_type": "text"
      },
      "source": [
        "####M7-Evaluation\n",
        "\n",
        "Using SVM model with the Stochastic Gradient Descent with an accuracy of only 90%, which is a bit lower than what we were seeing with our other SVM models (M3 and M4)"
      ]
    },
    {
      "cell_type": "markdown",
      "metadata": {
        "id": "mqIG1rKcr0E-",
        "colab_type": "text"
      },
      "source": [
        "## Evaluation"
      ]
    },
    {
      "cell_type": "markdown",
      "metadata": {
        "colab_type": "text",
        "id": "GDyKKT0mnSmE"
      },
      "source": [
        "### Model Advantages\n",
        "\n",
        "Discuss the advantages of each model for each classification task. Does one type of model offer superior performance over another in terms of prediction accuracy? In terms of training time or efficiency? Explain in detail. \n"
      ]
    },
    {
      "cell_type": "markdown",
      "metadata": {
        "id": "VKcSMao0r_E_",
        "colab_type": "text"
      },
      "source": [
        "#### Logistic Regression Advantage\n",
        "\n",
        "* Advantages - There is less transformation needed in order to make the model return in a reasonable amount of time. Scaler transformation will increase the accuracy, but is not required for peroformance as the model performs well at scale regardless of whether the data is normalized or not. \n",
        "* Performance - There are many different setting that allow the model to have the best possible accuracy. These methods can be iterated with a grid search method. \n",
        "*  Training Time efficiency is very good at large scales and does not suffer as volume of data increases."
      ]
    },
    {
      "cell_type": "markdown",
      "metadata": {
        "id": "wFV9BCRosDzl",
        "colab_type": "text"
      },
      "source": [
        "#### Support Vector Machine Advantage\n",
        "\n",
        "* Advantages - From Tan book Chapter 5 - A classification technique that has received considerable attention is support vector machine (SVM). This technique has its roots in statistical learning theory and has shown promising empirical results in many practical applications, from handwritten digit recognition to text categorization. SVM also works very well with high-dimensional data and avoids the curse of dimensionality problem. Another unique aspect of this approach is that it represents the decision boundary using a subset of the training examples, known as the support vectors.  \n",
        " However, in order to get high accuracy scaling and high penalties must be set to achieve accuracy with unbalanced data. \n",
        "* Performance - Changing the cost to value 1000, after previously using 1, 10, and 100 the performance of prediciton accuracy improves over that of logistic regession.  In order to get a result in a similiar amount of time as logistic regression accuracy is sacrficed. \n",
        "* Training Time\n",
        "    * Slow with large data volume and features\n",
        "    * Transformation of data helps\n",
        "    * Very slow with high cost."
      ]
    },
    {
      "cell_type": "markdown",
      "metadata": {
        "id": "c2h_M_QSsGkT",
        "colab_type": "text"
      },
      "source": [
        "#### Stochastic Gradiant Descent Advantage\n",
        "\n",
        "* Advantages - The design of Stochastic Gradient Smith is set up that it only considers a single randonm point in the stochastic array, and changes weights to classify values. The advantage of running stochastic gradient descent is that it runs much quicker than a gradient descent model, which can take hours / days to run. \n",
        "* Performance - While a single stochastic gradient descent model didn't perform better than any of the previous models we ran, we were able to install and run a Parameter Fit, which acted as a grid search to help us choose the optimal hyperparameters. Doing this improved our SGD performace to 83.5% accuracy. "
      ]
    },
    {
      "cell_type": "markdown",
      "metadata": {
        "id": "KWPhc_j6sKeR",
        "colab_type": "text"
      },
      "source": [
        "#### Model Advantages Conclusion\n",
        "\n",
        "The logistic regression provides a way to quickly get to a model, though has less accuracy when compared to SVM.  SVM is very accurate while its performance degrades very quickly with large volumes of data with rows and also with a large number of features. "
      ]
    },
    {
      "cell_type": "markdown",
      "metadata": {
        "colab_type": "text",
        "id": "VX-oO4qOnSmF"
      },
      "source": [
        "###  Feature Importance\n",
        "Use the weights from logistic regression to interpret the importance of different features for the classification task. Explain your interpretation in detail. Why do you think some variables are more important? \n",
        "\n",
        "The model seems to point out that cost is the largest differentiator of the available characteristics. As you will see within the table and charts below, the “state_bottle_cost_trans” has the largest positive coefficient. This output seems reasonable since Whiskey is typically more expensive than other liquors, thus helping our model predict whether the type of liquor is Whiskey vs Non-Whiskey.\n",
        "\n",
        "Furthermore, the model is displaying a large negative coefficient for “bottles_sold_trans” & “cost_per_liter_trans”. In other words, the model is anticipating that as these features increase the more likely that the transaction will be associated to a Non-Whiskey purchase. This output also makes sense as well, since within the previous paragraph, we mentioned that Whiskey is typically more expensive, so because of this we would expect a customer to purchase fewer bottles.\n",
        "\n",
        "Lastly, the “volume_sold_liters_trans” is the last important feature that materially affects the model. With that said, as the volume sold in liters increases than most likely the purchase is associated to Whiskey.\n",
        "\n",
        "Note, the remaining unmentioned features such as bottle sizes are fairly standard across the different types of liquors, thus it did not improve the predictive capabilities enough to highlight accordingly\n",
        "\n"
      ]
    },
    {
      "cell_type": "code",
      "metadata": {
        "colab_type": "code",
        "id": "Ye0EUAwn19qH",
        "outputId": "c5d1cf20-89a5-47c7-b8b3-70e948f9f235",
        "colab": {
          "base_uri": "https://localhost:8080/",
          "height": 136
        }
      },
      "source": [
        "# interpret the weights\n",
        "# iterate over the coefficients\n",
        "weights2 = simplelogisticRegr.coef_.T # take transpose to make a column vector\n",
        "variable_names = X.columns\n",
        "for coef, name in zip(weights2,variable_names):\n",
        "    print(name, 'has weight of', coef[0])\n",
        "    \n",
        "# does this look correct? "
      ],
      "execution_count": 0,
      "outputs": [
        {
          "output_type": "stream",
          "text": [
            "sale_dollars_trans has weight of 0.08160073306504252\n",
            "cost_per_liter_trans has weight of -0.8209114525279992\n",
            "state_bottle_cost_trans has weight of 4.476440956756052\n",
            "bottles_sold_trans has weight of -1.1492813052788482\n",
            "volume_sold_liters_trans has weight of 0.9025121752067622\n",
            "pack has weight of 0.09688939441533827\n",
            "bottle_volume_ml has weight of -0.003714291365092464\n"
          ],
          "name": "stdout"
        }
      ]
    },
    {
      "cell_type": "code",
      "metadata": {
        "colab_type": "code",
        "id": "NFTKvdcf2DyB",
        "outputId": "1f8c2acc-0885-4519-da13-67dfc478fe3d",
        "colab": {
          "base_uri": "https://localhost:8080/",
          "height": 394
        }
      },
      "source": [
        "# now let's make a pandas Series with the names and values, and plot them\n",
        "%matplotlib inline\n",
        "plt.style.use('ggplot')\n",
        "\n",
        "\n",
        "weights = pd.Series(simplelogisticRegr.coef_[0],index=X.columns)\n",
        "weights.plot(kind='bar')\n",
        "plt.show()"
      ],
      "execution_count": 0,
      "outputs": [
        {
          "output_type": "display_data",
          "data": {
            "image/png": "[encoded data removed]",
            "text/plain": [
              "<Figure size 432x288 with 1 Axes>"
            ]
          },
          "metadata": {
            "tags": []
          }
        }
      ]
    },
    {
      "cell_type": "markdown",
      "metadata": {
        "colab_type": "text",
        "id": "yVHNEFrTnSmG"
      },
      "source": [
        "### Support Vector Analysis\n",
        "Look at the chosen support vectors for the classification task. Do these provide\n",
        "any insight into the data? Explain. If you used stochastic gradient descent (and therefore did\n",
        "not explicitly solve for support vectors), try subsampling your data to train the SVC model—\n",
        "then analyze the support vectors from the subsampled dataset. "
      ]
    },
    {
      "cell_type": "code",
      "metadata": {
        "colab_type": "code",
        "id": "OXMl4cgmnSmH",
        "outputId": "8d97605b-a45d-4bf3-9224-709c2e38398e",
        "colab": {
          "base_uri": "https://localhost:8080/",
          "height": 238
        }
      },
      "source": [
        "#view support vectors\n",
        "svm_clf.support_vectors_"
      ],
      "execution_count": 0,
      "outputs": [
        {
          "output_type": "execute_result",
          "data": {
            "text/plain": [
              "array([[ 1.00726462,  0.4942447 ,  0.62655554, ...,  0.46549738,\n",
              "        -0.01679755, -0.34091101],\n",
              "       [ 0.60759933,  0.46757008,  0.99744349, ...,  0.17683641,\n",
              "        -0.72780505,  0.10876551],\n",
              "       [-1.27802468,  0.53485462, -0.29636213, ..., -1.30357115,\n",
              "         1.40521744, -1.01542579],\n",
              "       ...,\n",
              "       [ 1.21054176,  0.74709609,  0.93160601, ...,  0.46549738,\n",
              "        -0.01679755, -0.34091101],\n",
              "       [ 0.17411136, -0.54209394, -0.6258646 , ...,  0.46549738,\n",
              "        -0.01679755, -0.34091101],\n",
              "       [-0.72559257,  1.2220112 ,  1.53611874, ..., -1.30357115,\n",
              "        -0.01679755, -0.34091101]])"
            ]
          },
          "metadata": {
            "tags": []
          },
          "execution_count": 38
        }
      ]
    },
    {
      "cell_type": "code",
      "metadata": {
        "colab_type": "code",
        "id": "L2A_wTYZ1p7X",
        "outputId": "bacfdd26-08b5-4724-cf28-78df3c42d106",
        "colab": {
          "base_uri": "https://localhost:8080/",
          "height": 1000
        }
      },
      "source": [
        "# View indicies of support vectors\n",
        "svm_clf.support_"
      ],
      "execution_count": 0,
      "outputs": [
        {
          "output_type": "execute_result",
          "data": {
            "text/plain": [
              "array([  14,   49,   50,   53,   67,   97,  104,  115,  133,  147,  149,\n",
              "        158,  171,  215,  221,  224,  225,  229,  255,  260,  262,  264,\n",
              "        265,  283,  289,  301,  307,  315,  328,  332,  341,  347,  365,\n",
              "        369,  386,  387,  460,  463,  470,  479,  486,  495,  503,  506,\n",
              "        508,  520,  528,  539,  543,  545,  547,  555,  567,  569,  571,\n",
              "        602,  604,  611,  632,  638,  677,  678,  693,  704,  709,  754,\n",
              "        756,  758,  768,  769,  773,  791,  807,  824,  830,  838,  839,\n",
              "        868,  896,  908,  916,  921,  928,  929,  943,  945,  946,  950,\n",
              "        972,  984, 1009, 1010, 1012, 1030, 1033, 1038, 1046, 1047, 1054,\n",
              "       1057, 1066, 1070, 1081, 1105, 1109, 1170, 1176, 1183, 1203, 1223,\n",
              "       1242, 1245, 1249, 1261, 1263, 1266, 1268, 1270, 1273, 1276, 1284,\n",
              "       1285, 1290, 1294, 1298, 1326, 1329, 1330, 1369, 1370, 1375, 1380,\n",
              "       1381, 1388, 1395, 1406, 1419, 1445, 1449, 1458, 1468, 1475, 1494,\n",
              "       1498, 1514, 1517, 1540, 1542, 1550, 1556, 1560, 1581, 1592, 1595,\n",
              "       1602, 1617, 1643, 1646, 1653, 1665, 1673, 1684, 1689, 1694, 1727,\n",
              "       1733, 1745, 1757, 1769, 1781, 1786, 1798, 1803, 1854, 1888, 1906,\n",
              "       1914, 1926, 1932, 1941, 1942, 1977, 1978, 1994, 1995, 2005, 2017,\n",
              "       2053, 2055, 2061, 2070, 2084, 2095, 2106, 2111, 2120, 2132, 2157,\n",
              "       2168, 2189, 2195, 2204, 2205, 2212, 2217, 2251, 2266, 2269, 2272,\n",
              "       2274, 2289, 2295, 2324, 2339, 2341, 2350, 2352, 2364, 2386, 2390,\n",
              "       2401, 2433, 2436, 2439, 2442, 2455, 2463, 2478, 2480, 2486, 2492,\n",
              "       2497, 2503, 2511, 2513, 2523, 2563, 2569, 2588, 2621, 2643, 2663,\n",
              "       2667, 2674, 2677, 2681, 2690, 2710, 2713, 2735, 2736, 2751, 2758,\n",
              "       2762, 2772, 2792, 2806, 2807, 2808, 2819, 2822, 2846, 2857, 2886,\n",
              "       2892, 2908, 2915, 2918, 2948, 2954, 2971, 2973, 2977, 2991, 2993,\n",
              "       2995, 3006, 3015, 3017, 3026, 3038, 3060, 3072, 3110, 3114, 3161,\n",
              "       3173, 3188, 3191, 3199, 3210, 3222, 3230, 3231, 3243, 3247, 3248,\n",
              "       3250, 3255, 3265, 3269, 3270, 3275, 3299, 3308, 3323, 3325, 3338,\n",
              "       3341, 3364, 3381, 3402, 3412, 3423, 3442, 3461, 3464, 3479, 3494,\n",
              "       3500, 3506, 3515, 3520, 3524, 3539, 3547, 3551, 3560, 3565, 3570,\n",
              "       3577, 3587, 3593, 3594, 3596, 3597, 3609, 3618, 3633, 3642, 3652,\n",
              "       3653, 3669, 3688, 3692, 3699, 3713, 3716, 3740, 3746, 3747, 3749,\n",
              "       3757, 3763, 3769, 3771, 3772, 3775, 3776, 3784, 3813, 3815, 3821,\n",
              "       3823, 3846, 3850, 3851, 3863, 3864, 3877, 3896, 3899, 3903, 3912,\n",
              "       3922, 3939, 3943, 3969, 3975, 3979, 3980, 3981, 3989, 3991,   23,\n",
              "         42,   47,   64,   65,   75,  107,  110,  111,  123,  163,  164,\n",
              "        207,  231,  245,  246,  248,  277,  286,  291,  306,  334,  362,\n",
              "        408,  413,  424,  428,  436,  450,  458,  487,  494,  501,  510,\n",
              "        553,  557,  561,  582,  614,  620,  622,  659,  663,  664,  665,\n",
              "        670,  681,  682,  689,  707,  715,  724,  732,  760,  762,  766,\n",
              "        782,  785,  790,  800,  820,  834,  884,  886,  890,  924,  925,\n",
              "        944,  968,  979,  983,  991,  997, 1006, 1014, 1021, 1022, 1023,\n",
              "       1028, 1051, 1058, 1059, 1087, 1102, 1104, 1115, 1130, 1131, 1181,\n",
              "       1186, 1212, 1214, 1217, 1227, 1241, 1255, 1262, 1264, 1267, 1318,\n",
              "       1320, 1332, 1342, 1363, 1382, 1422, 1426, 1431, 1432, 1434, 1444,\n",
              "       1453, 1460, 1464, 1466, 1482, 1507, 1531, 1567, 1573, 1589, 1598,\n",
              "       1610, 1613, 1614, 1619, 1644, 1649, 1661, 1675, 1710, 1724, 1731,\n",
              "       1744, 1761, 1772, 1797, 1805, 1811, 1813, 1816, 1821, 1843, 1844,\n",
              "       1851, 1858, 1859, 1866, 1883, 1915, 1945, 1946, 1958, 1965, 1971,\n",
              "       1997, 1998, 2012, 2027, 2038, 2047, 2062, 2067, 2072, 2078, 2083,\n",
              "       2089, 2090, 2098, 2108, 2109, 2121, 2133, 2137, 2139, 2140, 2155,\n",
              "       2160, 2162, 2173, 2177, 2179, 2181, 2192, 2193, 2194, 2196, 2199,\n",
              "       2207, 2215, 2275, 2283, 2308, 2309, 2315, 2319, 2326, 2327, 2329,\n",
              "       2332, 2333, 2344, 2351, 2353, 2369, 2381, 2385, 2399, 2417, 2424,\n",
              "       2430, 2441, 2474, 2479, 2488, 2490, 2494, 2526, 2528, 2530, 2540,\n",
              "       2547, 2548, 2555, 2557, 2562, 2571, 2575, 2615, 2623, 2638, 2661,\n",
              "       2693, 2712, 2727, 2738, 2748, 2750, 2756, 2759, 2765, 2766, 2767,\n",
              "       2775, 2782, 2790, 2799, 2805, 2815, 2839, 2869, 2881, 2891, 2896,\n",
              "       2910, 2912, 2920, 2940, 2952, 2955, 2959, 3001, 3003, 3007, 3012,\n",
              "       3021, 3024, 3030, 3053, 3073, 3082, 3087, 3097, 3130, 3144, 3165,\n",
              "       3175, 3178, 3193, 3204, 3209, 3212, 3214, 3239, 3282, 3285, 3289,\n",
              "       3296, 3301, 3312, 3319, 3346, 3347, 3378, 3399, 3407, 3434, 3443,\n",
              "       3455, 3478, 3492, 3517, 3531, 3536, 3554, 3556, 3567, 3573, 3602,\n",
              "       3605, 3612, 3634, 3639, 3645, 3646, 3650, 3674, 3682, 3683, 3689,\n",
              "       3697, 3702, 3708, 3714, 3719, 3724, 3725, 3756, 3766, 3792, 3795,\n",
              "       3797, 3801, 3811, 3814, 3820, 3835, 3838, 3860, 3867, 3868, 3869,\n",
              "       3873, 3894, 3897, 3931, 3933, 3935, 3942, 3947, 3964, 3966, 3985,\n",
              "       3992], dtype=int32)"
            ]
          },
          "metadata": {
            "tags": []
          },
          "execution_count": 39
        }
      ]
    },
    {
      "cell_type": "markdown",
      "metadata": {
        "colab_type": "text",
        "id": "qxAYjH4AWOmK"
      },
      "source": [
        "This chooses all the misclassified items as a support vectors."
      ]
    },
    {
      "cell_type": "code",
      "metadata": {
        "colab_type": "code",
        "id": "mHkRqABz1zz2",
        "outputId": "0698eab1-5c6b-4e69-acbd-e3a025939a61",
        "colab": {
          "base_uri": "https://localhost:8080/",
          "height": 34
        }
      },
      "source": [
        "#view number of support vectors for each class\n",
        "svm_clf.n_support_"
      ],
      "execution_count": 0,
      "outputs": [
        {
          "output_type": "execute_result",
          "data": {
            "text/plain": [
              "array([384, 354], dtype=int32)"
            ]
          },
          "metadata": {
            "tags": []
          },
          "execution_count": 40
        }
      ]
    },
    {
      "cell_type": "markdown",
      "metadata": {
        "colab_type": "text",
        "id": "d4XKEUr0WVPU"
      },
      "source": [
        "We used 12,000 instances of Whiskey and Nonwhiskey to build our decision boundary."
      ]
    },
    {
      "cell_type": "code",
      "metadata": {
        "colab_type": "code",
        "id": "aPO1D6PsWd0P",
        "outputId": "704ca7b9-cfbf-4fac-9f68-4e5d9ba3852f",
        "colab": {
          "base_uri": "https://localhost:8080/",
          "height": 445
        }
      },
      "source": [
        "# if using linear kernel, these make sense to look at (not otherwise, why?)\n",
        "print(model.coef_)\n",
        "weights3 = pd.Series(model.coef_[0],index=X_train.columns)\n",
        "weights3.plot(kind='bar')"
      ],
      "execution_count": 0,
      "outputs": [
        {
          "output_type": "stream",
          "text": [
            "[[-1.1320595  -0.65354938  2.00320938  1.4502166  -0.4629996   0.18344292\n",
            "  -0.52781325]]\n"
          ],
          "name": "stdout"
        },
        {
          "output_type": "execute_result",
          "data": {
            "text/plain": [
              "<matplotlib.axes._subplots.AxesSubplot at 0x7fe8d4d16b38>"
            ]
          },
          "metadata": {
            "tags": []
          },
          "execution_count": 41
        },
        {
          "output_type": "display_data",
          "data": {
            "image/png": "[encoded data removed]",
            "text/plain": [
              "<Figure size 432x288 with 1 Axes>"
            ]
          },
          "metadata": {
            "tags": []
          }
        }
      ]
    },
    {
      "cell_type": "markdown",
      "metadata": {
        "id": "uNo5j26LKCD_",
        "colab_type": "text"
      },
      "source": [
        "Using our SVC model weights, we can see some consistency with our earlier analysis by ssing that state bottle cost and bottles solde are the strongest vectors in driving the decision boundaries for whiskies and non whiskies. From a negative perspective, the sale dollars and cost per liter are showing a negative relationship here. \n",
        "\n",
        "Next we are going to make a stratified shuffle split by plotting our SVC models."
      ]
    },
    {
      "cell_type": "code",
      "metadata": {
        "id": "Us7Mt_R3KBV-",
        "colab_type": "code",
        "colab": {}
      },
      "source": [
        "from sklearn.model_selection import StratifiedShuffleSplit\n",
        "from sklearn import metrics as mt\n",
        "\n",
        "# we want to predict the X and y data as follows:\n",
        "if 'liquor_category_WHISKY' in data_final:\n",
        "    y = data_final['liquor_category_WHISKY'].values # get the labels we want\n",
        "    del data_final['liquor_category_WHISKY'] # get rid of the class label\n",
        "    X = data_final.values # use everything else to predict!\n",
        "\n",
        "num_cv_iterations = 3\n",
        "num_instances = len(y)\n",
        "cv_object = ShuffleSplit(n_splits = num_cv_iterations, \n",
        "                            test_size = 0.20, train_size = 0.80, random_state=1)\n",
        "\n",
        "for train_indices, test_indices in cv_object.split(X,y): \n",
        "    # I will create new variables here so that it is more obvious what \n",
        "    # the code is doing (you can compact this syntax and avoid duplicating memory,\n",
        "    # but it makes this code less readable)\n",
        "    X_train = X[train_indices]\n",
        "    y_train = y[train_indices]\n",
        "    \n",
        "    X_test = X[test_indices]\n",
        "    y_test = y[test_indices]\n",
        "\n",
        "    # for the SVM models \n",
        "    X_train_svc = X[train_indices]\n",
        "    y_train_svc = y[train_indices]\n",
        "    \n",
        "    X_test_svc = X[test_indices]\n",
        "    y_test_svc = y[test_indices]"
      ],
      "execution_count": 0,
      "outputs": []
    },
    {
      "cell_type": "markdown",
      "metadata": {
        "id": "zvfo-WryKiDE",
        "colab_type": "text"
      },
      "source": [
        "Now that we established our new training and testing indicies, let's run it against our top performing SVC CLF model (the one that got 87% accuracy)."
      ]
    },
    {
      "cell_type": "code",
      "metadata": {
        "id": "GswE8eMgKJlR",
        "colab_type": "code",
        "outputId": "03fd078e-247b-4e80-afdb-cc7c7406f720",
        "colab": {
          "base_uri": "https://localhost:8080/",
          "height": 255
        }
      },
      "source": [
        "# Now let's do some different analysis with the SVM and look at the instances that were chosen as support vectors\n",
        "\n",
        "# now lets look at the support for the vectors and see if we they are indicative of anything\n",
        "# grabe the rows that were selected as support vectors (these are usually instances that are hard to classify)\n",
        "\n",
        "# make a dataframe of the training data\n",
        "df_tested_on = data_final.iloc[train_indices].copy() # saved from above, the indices chosen for training\n",
        "# now get the support vectors from the trained model\n",
        "df_support = df_tested_on.iloc[svm_clf.support_,:].copy()\n",
        "#df_support['liquor_category_WHISKY'].head\n",
        "data_final2 = data_final.copy()\n",
        "df_support.loc[:,'liquor_category_WHISKY'] = y[svm_clf.support_] # add back in the 'Survived' Column to the pandas dataframe\n",
        "data_final2.loc[:,'liquor_category_WHISKY'] = y # also add it back in for the original data\n",
        "print(df_support.info())"
      ],
      "execution_count": 0,
      "outputs": [
        {
          "output_type": "stream",
          "text": [
            "<class 'pandas.core.frame.DataFrame'>\n",
            "Int64Index: 738 entries, 262702 to 277818\n",
            "Data columns (total 8 columns):\n",
            "sale_dollars_trans          738 non-null float64\n",
            "cost_per_liter_trans        738 non-null float64\n",
            "state_bottle_cost_trans     738 non-null float64\n",
            "bottles_sold_trans          738 non-null float64\n",
            "volume_sold_liters_trans    738 non-null float64\n",
            "pack                        738 non-null int64\n",
            "bottle_volume_ml            738 non-null int64\n",
            "liquor_category_WHISKY      738 non-null int64\n",
            "dtypes: float64(5), int64(3)\n",
            "memory usage: 51.9 KB\n",
            "None\n"
          ],
          "name": "stdout"
        }
      ]
    },
    {
      "cell_type": "markdown",
      "metadata": {
        "id": "kdLxZ2S1K2i2",
        "colab_type": "text"
      },
      "source": [
        "Doing this granted us 738 non null values within what became our testing set. Using this, we will plot out the original vs the svm distribution of our state bottle cost trans, bottles sold trans, bottle volume ml and sale dollars trans, which was shown to be our strongest performing variables indicative of Whiskeys vs Non Whiskeys."
      ]
    },
    {
      "cell_type": "code",
      "metadata": {
        "id": "PSgQDqQnKxNk",
        "colab_type": "code",
        "outputId": "853ee40a-5d88-4149-8a36-c60ff8ba8af5",
        "colab": {
          "base_uri": "https://localhost:8080/",
          "height": 1000
        }
      },
      "source": [
        "# now lets see the statistics of these attributes\n",
        "from pandas.plotting import boxplot\n",
        "\n",
        "# group the original data and the support vectors\n",
        "df_grouped_support = df_support.groupby(['liquor_category_WHISKY'])\n",
        "df_grouped = data_final2.groupby(['liquor_category_WHISKY'])\n",
        "\n",
        "# plot KDE of Different variables\n",
        "vars_to_plot = ['state_bottle_cost_trans','bottles_sold_trans','bottle_volume_ml','sale_dollars_trans']\n",
        "\n",
        "for v in vars_to_plot:\n",
        "    plt.figure(figsize=(10,4))\n",
        "    # plot support vector stats\n",
        "    plt.subplot(1,2,1)\n",
        "    ax = df_grouped_support[v].plot.kde() \n",
        "    plt.legend(['Whiskey','Not Whiskey'])\n",
        "    plt.title(v+' (Instances chosen as Support Vectors)')\n",
        "    \n",
        "    # plot original distributions\n",
        "    plt.subplot(1,2,2)\n",
        "    ax = df_grouped[v].plot.kde() \n",
        "    plt.legend(['Whiskey','Not Whiskey'])\n",
        "    plt.title(v+' (Original)')"
      ],
      "execution_count": 0,
      "outputs": [
        {
          "output_type": "display_data",
          "data": {
            "image/png": "[encoded data removed]",
            "text/plain": [
              "<Figure size 720x288 with 2 Axes>"
            ]
          },
          "metadata": {
            "tags": []
          }
        },
        {
          "output_type": "display_data",
          "data": {
            "image/png": "[encoded data removed]",
            "text/plain": [
              "<Figure size 720x288 with 2 Axes>"
            ]
          },
          "metadata": {
            "tags": []
          }
        },
        {
          "output_type": "display_data",
          "data": {
            "image/png": "[encoded data removed]",
            "text/plain": [
              "<Figure size 720x288 with 2 Axes>"
            ]
          },
          "metadata": {
            "tags": []
          }
        },
        {
          "output_type": "display_data",
          "data": {
            "image/png": "[encoded data removed]",
            "text/plain": [
              "<Figure size 720x288 with 2 Axes>"
            ]
          },
          "metadata": {
            "tags": []
          }
        }
      ]
    },
    {
      "cell_type": "markdown",
      "metadata": {
        "id": "Xpn_F7R6LoNC",
        "colab_type": "text"
      },
      "source": [
        "By plotting our data density graphs next to one another, we can see the separation between distributions of the original data sets next to our support vector data on key variables, on the whiskey classifier. \n",
        "\n",
        "What we are looking for here is the value of separation between what can be classified as a whiskey vs non whiskey (blue vs red lines). Since you can see that the separation on state bottle cost and the state bottle volume is more pronounced on the support vector model, this shows that they both play the most role in the prediction of whiskey. \n",
        "\n",
        "The other two variables, bottles sold and sale dollars, don't diverge as much between the original and SVM model, they are not as strong as predictors as the other two we discussed. And this is indicated on our weights we showed previously. "
      ]
    }
  ]
}