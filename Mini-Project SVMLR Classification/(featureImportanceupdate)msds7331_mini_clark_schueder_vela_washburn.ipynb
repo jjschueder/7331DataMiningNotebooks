{
  "nbformat": 4,
  "nbformat_minor": 0,
  "metadata": {
    "colab": {
      "name": "msds7331_mini_clark_schueder_vela_washburn.ipynb",
      "provenance": [],
      "collapsed_sections": [],
      "toc_visible": true,
      "include_colab_link": true
    },
    "kernelspec": {
      "display_name": "Python 3.7.1 64-bit ('ML7331': conda)",
      "language": "python",
      "name": "python37164bitml7331condaf5c5c353a7fa46f5b783ad99991c2b10"
    },
    "language_info": {
      "codemirror_mode": {
        "name": "ipython",
        "version": 3
      },
      "file_extension": ".py",
      "mimetype": "text/x-python",
      "name": "python",
      "nbconvert_exporter": "python",
      "pygments_lexer": "ipython3",
      "version": "3.7.1-final"
    }
  },
  "cells": [
    {
      "cell_type": "markdown",
      "metadata": {
        "id": "view-in-github",
        "colab_type": "text"
      },
      "source": [
        "<a href=\"https://colab.research.google.com/github/jjschueder/7331DataMiningNotebooks/blob/master/Mini-Project%20SVMLR%20Classification/(featureImportanceupdate)msds7331_mini_clark_schueder_vela_washburn.ipynb\" target=\"_parent\"><img src=\"https://colab.research.google.com/assets/colab-badge.svg\" alt=\"Open In Colab\"/></a>"
      ]
    },
    {
      "cell_type": "markdown",
      "metadata": {
        "colab_type": "text",
        "id": "qhqdMtT3nSiG"
      },
      "source": [
        "# Mini-Project: SVM & LR Classification - project guidelines\n",
        "You are to perform predictive analysis (classification) upon a data set: model the dataset using\n",
        "methods we have discussed in class: logistic regression & support vector machines and making\n",
        "conclusions from the analysis. Follow the CRISP-DM framework in your analysis (you are not\n",
        "performing all of the CRISP-DM outline, only the portions relevant to the grading rubric outlined\n",
        "below). This report is worth 10% of the final grade. You may complete this assignment in teams\n",
        "of as many as three people.\n",
        "Write a report covering all the steps of the project. The format of the document can be PDF,\n",
        "*.ipynb, or HTML. You can write the report in whatever format you like, but it is easiest to turn in\n",
        "the rendered Jupyter notebook. The results should be reproducible using your report. Please\n",
        "carefully describe every assumption and every step in your report.\n",
        "A note on grading: A common mistake I see in this lab is not investigating different input\n",
        "parameters for each model. Try a number of parameter combinations and discuss how the model changed. \n",
        "\n"
      ]
    },
    {
      "cell_type": "markdown",
      "metadata": {
        "colab_type": "text",
        "id": "OSgE3De7drJu"
      },
      "source": [
        "# Mini-Project: SVM & LR Classification - project requirements\n",
        "*   [50 points] Logistic Regression and Support Vector Machine models\n",
        "   * Create logistic regression model and support vector machine model for classification task in dataset.\n",
        "      * Logistic regression - fulfilled w/ M1, M2, M5, M6\n",
        "      * SVM - fulfilled w/ M3, M4\n",
        "   * Assess how well each model performs (use 80/20 training/testing split of our data)\n",
        "      * Fulfilled w/ prediction section of each model\n",
        "   * Adjust parameters of the models to make them more accurate\n",
        "      * Logistic Regression - fulfilled w/ M2\n",
        "      * SVM - fulled w/ M4\n",
        "   * If dataset size requires stochastic gradient descent, then linear kernel only is fine - meaning: SGDClassifier can be used to optimize logistic regression and linear support vector machines.  For many problems, SGD will be required in order to train the SVM model in reasonable timeframe\n",
        "      * Logistic Regression - fulfilled w/ M5, M6\n",
        "      * SVM - fulfilled w/ M7\n",
        "*   [10 points] Model advantages\n",
        "   * Discuss advantages of each model for each classfication task\n",
        "      * Fulfilled in Evaluation-->Model Advantages\n",
        "   * Does type of model offer superior performance over another in terms of prediction accuracy\n",
        "      * Fulfilled in Evaluation-->Model Advantages Conclusion\n",
        "   * Does type of model offer superior performance over another in terms training time or efficiency\n",
        "      * Fulfilled in the Evaluation-->Model Advantages (each type)\n",
        "*   [30 points] Feature importance\n",
        "   * Use the weights from logistic regression to interpret the importance of different features for the classification task in detail\n",
        "      * Fulfilled in Evaluation-->Feature Importance\n",
        "   * Why do we think some variables are more important than others\n",
        "      * Fulfilled in Evaluation-->Feature Importance\n",
        "*   [10 points] Support Vector Analysis\n",
        "   * Looking at the chosen support vectors for the classfication task, answer the following:\n",
        "      * Do these provide any insight into the data? Explain\n",
        "      * If stochastic gradient descent used; therefore, did not explicitlity solve for support vectors\n",
        "         * Subsample the data to train the SVC model\n",
        "            * SVM - fulfilled in M7\n",
        "         * Analyze support vectors from subsampled dataset\n",
        "            * Fulfilled in Evaluation-->Support Vector Analysis"
      ]
    },
    {
      "cell_type": "markdown",
      "metadata": {
        "colab_type": "text",
        "id": "jmTlKM_UnSiP"
      },
      "source": [
        "#Mini-Project: SVM & LR Classification"
      ]
    },
    {
      "cell_type": "markdown",
      "metadata": {
        "colab_type": "text",
        "id": "SBwy_rCue3sN"
      },
      "source": [
        "##Team\n",
        "\n",
        "* Joseph Schueder\n",
        "* Armando Vela\n",
        "* Daniel Clark\n",
        "* Jeff Washburn"
      ]
    },
    {
      "cell_type": "markdown",
      "metadata": {
        "colab_type": "text",
        "id": "cBTqQnSVewMl"
      },
      "source": [
        "##Business Understanding\n",
        "\n",
        "Introduction - The Iowa Liquor Sales dataset is an API from Google’s Bigquery which contains the wholesale purchases by retail stores in the Iowa area.  The dataset includes the spirit purchase details by product, date of purchase, and location the item was purchased from an Iowa Class “E” liquor license holder (retail stores). The time frame of this data starts from January 1, 2012 through December 31, 2019. As part of the study commissioned by the Iowa Department of Commerce, all alcoholic sales within the state were logged into the Department system, and in turn, published as open data by the State of Iowa. The dataset contains detail on the name, product, quantity and location of the individual container or package sale between the wholesaler (vendor) and the retailer.\n",
        "\n",
        "\n",
        "\n",
        "###1.   Set Objectives\n",
        "\n",
        "\n",
        "> Having found that Iowa is a prime market for different kind of liquor sales, we want to investigate the current sales trends between Whiskey Sales vs Non-Whiskey sales.  We would like to classify the liquor sales based on if it will be a Whiskey sale or not.  \n",
        "\n",
        "\n",
        "###2.   Product Project Plan\n",
        "\n",
        "> To meet our goals, we will build upon the dataset we used in our initial analysis to focus in on the Whiskey and Non-Whiskey sales.  We will use the same 400k rows from the last analysis and in addition further cleansing was done to 1 hot encode some of the categorical features, which will be our starting point on the data.\n",
        "\n",
        "###3.   Business Success Criteria\n",
        "\n",
        "> For our classification models, we will consider our model successful if we can classify the presence of Whiskey vs Non-Whiskey in the sales tranaction with an accuracy of 89% or higher.  We will use cross-validaton using a split of 80% of the data for training and 20% of the data for testing to evaulate the performance of our classifiers.  We will build 2 different classification models - 1) using logistic regression, and 2) support vector machines (SVMs).  Since our data set is so large, we will also optimize both classification models using stochastic gradient descent using the linear kernel.  This will help train our models in a reasonable timeframe\n",
        "\n",
        "\n",
        "\n"
      ]
    },
    {
      "cell_type": "markdown",
      "metadata": {
        "colab_type": "text",
        "id": "AsKFLvq2j5su"
      },
      "source": [
        "## Data Understanding\n",
        "\n",
        "The initial data set was 4.63GB with 17.7 million rows.  We subsetted that down to 400k rows using a random set of data from the 2019 sales data.  This work was done in our initial processing from earlier.\n",
        "\n",
        "So taking our initial processing that was done from previous work, we further refined the 400k dataset by one-hot encoding the categorical features for sales month, liquor categories, and the stores.  The stores will not be used in this analysis; however, it was still one-hot encoded for future analysis\n",
        "\n",
        "It's also worth noting, that we used the log transformed values for sales dollars, cost per liter, state bottle cost and volume sold in liters along with the liquor catogory to focus on our classification\n",
        "\n"
      ]
    },
    {
      "cell_type": "markdown",
      "metadata": {
        "colab_type": "text",
        "id": "F_WkOv5ll__p"
      },
      "source": [
        "## Data Preparation"
      ]
    },
    {
      "cell_type": "code",
      "metadata": {
        "id": "XxsJLlaupTzw",
        "colab_type": "code",
        "colab": {}
      },
      "source": [
        "# import necessary packages for complete analysis\n",
        "import pandas as pd\n",
        "import numpy as np\n",
        "from sklearn import preprocessing\n",
        "import matplotlib.pyplot as plt \n",
        "plt.rc(\"font\", size=14)\n",
        "from matplotlib import pyplot\n",
        "from sklearn.model_selection import train_test_split\n",
        "from sklearn import linear_model\n",
        "import seaborn as sns\n",
        "sns.set(style=\"white\")\n",
        "sns.set(style=\"whitegrid\", color_codes=True)\n",
        "from sklearn.linear_model import LogisticRegression\n",
        "from sklearn import metrics as mt\n",
        "from sklearn.model_selection import ShuffleSplit\n",
        "from sklearn import metrics \n",
        "from sklearn.model_selection import cross_validate\n",
        "from sklearn.model_selection import GridSearchCV\n",
        "from sklearn.metrics import roc_curve\n",
        "from sklearn.metrics import roc_auc_score\n",
        "from sklearn.preprocessing import StandardScaler\n",
        "from sklearn.metrics import precision_recall_curve\n",
        "from sklearn.metrics import f1_score\n",
        "from sklearn.metrics import auc\n",
        "from sklearn.metrics import classification_report, confusion_matrix\n",
        "from sklearn import preprocessing\n",
        "from sklearn.svm import SVC\n",
        "from sklearn.model_selection import StratifiedShuffleSplit \n",
        "from sklearn.linear_model import SGDClassifier"
      ],
      "execution_count": 0,
      "outputs": []
    },
    {
      "cell_type": "markdown",
      "metadata": {
        "colab_type": "text",
        "id": "6I6a7elv4W0h"
      },
      "source": [
        "### Load Dataset"
      ]
    },
    {
      "cell_type": "code",
      "metadata": {
        "id": "WH4eAvCYpTz0",
        "colab_type": "code",
        "colab": {}
      },
      "source": [
        "# The data was produced from the Iowa Alcohol Dataset 2019 year data.  The total data set size has over 17 million rows.  We took\n",
        "# a subet of that data, 400,000 rows\n",
        "\n",
        "# The 400k rows were cleansed and transformed lab1 and exported as a csv to github for use here.\n",
        "# source python notebook: https://github.com/jjschueder/7331DataMiningNotebooks/blob/master/lab1/msds7331_clark_schueder_vela_washburn.ipynb\n",
        "\n",
        "# Further cleansing was done to 1 hot encode some of the categorical features, which is what we are reading in here.  Still using 400k rows of data\n",
        "\n",
        "# read csv from github directly\n",
        "url_dataset = 'https://raw.githubusercontent.com/jjschueder/7331DataMiningNotebooks/master/Live%20Assignments/df1hotmerge2.csv'\n",
        "data = pd.read_csv(url_dataset) #full dataset of 400k rows\n",
        "#data = pd.read_csv(url_dataset, nrows=100000) #smaller subset of data of nrows"
      ],
      "execution_count": 0,
      "outputs": []
    },
    {
      "cell_type": "markdown",
      "metadata": {
        "colab_type": "text",
        "id": "cx4qDu_gnml3"
      },
      "source": [
        "###Columns and Descriptors"
      ]
    },
    {
      "cell_type": "code",
      "metadata": {
        "id": "pnThxFnTpTz5",
        "colab_type": "code",
        "colab": {
          "base_uri": "https://localhost:8080/",
          "height": 1000
        },
        "outputId": "bf75df65-071d-4ba3-f733-4e1e144c02bd"
      },
      "source": [
        "data.info()"
      ],
      "execution_count": 3,
      "outputs": [
        {
          "output_type": "stream",
          "text": [
            "<class 'pandas.core.frame.DataFrame'>\n",
            "RangeIndex: 400000 entries, 0 to 399999\n",
            "Data columns (total 68 columns):\n",
            "Unnamed: 0                  400000 non-null int64\n",
            "pack                        400000 non-null int64\n",
            "bottle_volume_ml            400000 non-null int64\n",
            "state_bottle_cost           400000 non-null float64\n",
            "state_bottle_retail         400000 non-null float64\n",
            "bottles_sold                400000 non-null int64\n",
            "sale_dollars                400000 non-null float64\n",
            "volume_sold_liters          400000 non-null float64\n",
            "volume_sold_gallons         400000 non-null float64\n",
            "counter                     400000 non-null int64\n",
            "liquor_category             400000 non-null object\n",
            "store_parent                400000 non-null object\n",
            "month                       400000 non-null object\n",
            "year                        400000 non-null int64\n",
            "monthyear                   400000 non-null object\n",
            "liquor_category_AMARETTO    400000 non-null int64\n",
            "liquor_category_BRANDY      400000 non-null int64\n",
            "liquor_category_GIN         400000 non-null int64\n",
            "liquor_category_LIQUEUR     400000 non-null int64\n",
            "liquor_category_Other       400000 non-null int64\n",
            "liquor_category_RUM         400000 non-null int64\n",
            "liquor_category_SCHNAPPS    400000 non-null int64\n",
            "liquor_category_TEQUILA     400000 non-null int64\n",
            "liquor_category_VODKA       400000 non-null int64\n",
            "liquor_category_WHISKY      400000 non-null int64\n",
            "store_parent_CVS            400000 non-null int64\n",
            "store_parent_Caseys         400000 non-null int64\n",
            "store_parent_Hy-Vee         400000 non-null int64\n",
            "store_parent_Kum&Go         400000 non-null int64\n",
            "store_parent_Other          400000 non-null int64\n",
            "store_parent_QuikTrip       400000 non-null int64\n",
            "store_parent_SamsClub       400000 non-null int64\n",
            "store_parent_SmokingJoes    400000 non-null int64\n",
            "store_parent_Target         400000 non-null int64\n",
            "store_parent_Wal-Mart       400000 non-null int64\n",
            "store_parent_Walgreens      400000 non-null int64\n",
            "month_Apr                   400000 non-null int64\n",
            "month_Aug                   400000 non-null int64\n",
            "month_Dec                   400000 non-null int64\n",
            "month_Feb                   400000 non-null int64\n",
            "month_Jan                   400000 non-null int64\n",
            "month_Jul                   400000 non-null int64\n",
            "month_Jun                   400000 non-null int64\n",
            "month_Mar                   400000 non-null int64\n",
            "month_May                   400000 non-null int64\n",
            "month_Nov                   400000 non-null int64\n",
            "month_Oct                   400000 non-null int64\n",
            "month_Sep                   400000 non-null int64\n",
            "year_2019                   400000 non-null int64\n",
            "monthyear_Apr-2019          400000 non-null int64\n",
            "monthyear_Aug-2019          400000 non-null int64\n",
            "monthyear_Dec-2019          400000 non-null int64\n",
            "monthyear_Feb-2019          400000 non-null int64\n",
            "monthyear_Jan-2019          400000 non-null int64\n",
            "monthyear_Jul-2019          400000 non-null int64\n",
            "monthyear_Jun-2019          400000 non-null int64\n",
            "monthyear_Mar-2019          400000 non-null int64\n",
            "monthyear_May-2019          400000 non-null int64\n",
            "monthyear_Nov-2019          400000 non-null int64\n",
            "monthyear_Oct-2019          400000 non-null int64\n",
            "monthyear_Sep-2019          400000 non-null int64\n",
            "sale_dollars_trans          400000 non-null float64\n",
            "cost_per_liter              400000 non-null float64\n",
            "cost_per_liter_trans        400000 non-null float64\n",
            "state_bottle_cost_trans     400000 non-null float64\n",
            "bottles_sold_trans          400000 non-null float64\n",
            "volume_sold_liters_trans    400000 non-null float64\n",
            "grossmargin                 400000 non-null float64\n",
            "dtypes: float64(12), int64(52), object(4)\n",
            "memory usage: 207.5+ MB\n"
          ],
          "name": "stdout"
        }
      ]
    },
    {
      "cell_type": "code",
      "metadata": {
        "id": "R4j9UbmNpTz8",
        "colab_type": "code",
        "colab": {
          "base_uri": "https://localhost:8080/",
          "height": 490
        },
        "outputId": "527e2e2f-11e7-41b5-dd48-1d2d8f955780"
      },
      "source": [
        "# Validate dataset\n",
        "print(data.shape)\n",
        "print(list(data.columns))\n",
        "data"
      ],
      "execution_count": 4,
      "outputs": [
        {
          "output_type": "stream",
          "text": [
            "(400000, 68)\n",
            "['Unnamed: 0', 'pack', 'bottle_volume_ml', 'state_bottle_cost', 'state_bottle_retail', 'bottles_sold', 'sale_dollars', 'volume_sold_liters', 'volume_sold_gallons', 'counter', 'liquor_category', 'store_parent', 'month', 'year', 'monthyear', 'liquor_category_AMARETTO', 'liquor_category_BRANDY', 'liquor_category_GIN', 'liquor_category_LIQUEUR', 'liquor_category_Other', 'liquor_category_RUM', 'liquor_category_SCHNAPPS', 'liquor_category_TEQUILA', 'liquor_category_VODKA', 'liquor_category_WHISKY', 'store_parent_CVS', 'store_parent_Caseys', 'store_parent_Hy-Vee', 'store_parent_Kum&Go', 'store_parent_Other', 'store_parent_QuikTrip', 'store_parent_SamsClub', 'store_parent_SmokingJoes', 'store_parent_Target', 'store_parent_Wal-Mart', 'store_parent_Walgreens', 'month_Apr', 'month_Aug', 'month_Dec', 'month_Feb', 'month_Jan', 'month_Jul', 'month_Jun', 'month_Mar', 'month_May', 'month_Nov', 'month_Oct', 'month_Sep', 'year_2019', 'monthyear_Apr-2019', 'monthyear_Aug-2019', 'monthyear_Dec-2019', 'monthyear_Feb-2019', 'monthyear_Jan-2019', 'monthyear_Jul-2019', 'monthyear_Jun-2019', 'monthyear_Mar-2019', 'monthyear_May-2019', 'monthyear_Nov-2019', 'monthyear_Oct-2019', 'monthyear_Sep-2019', 'sale_dollars_trans', 'cost_per_liter', 'cost_per_liter_trans', 'state_bottle_cost_trans', 'bottles_sold_trans', 'volume_sold_liters_trans', 'grossmargin']\n"
          ],
          "name": "stdout"
        },
        {
          "output_type": "execute_result",
          "data": {
            "text/html": [
              "<div>\n",
              "<style scoped>\n",
              "    .dataframe tbody tr th:only-of-type {\n",
              "        vertical-align: middle;\n",
              "    }\n",
              "\n",
              "    .dataframe tbody tr th {\n",
              "        vertical-align: top;\n",
              "    }\n",
              "\n",
              "    .dataframe thead th {\n",
              "        text-align: right;\n",
              "    }\n",
              "</style>\n",
              "<table border=\"1\" class=\"dataframe\">\n",
              "  <thead>\n",
              "    <tr style=\"text-align: right;\">\n",
              "      <th></th>\n",
              "      <th>Unnamed: 0</th>\n",
              "      <th>pack</th>\n",
              "      <th>bottle_volume_ml</th>\n",
              "      <th>state_bottle_cost</th>\n",
              "      <th>state_bottle_retail</th>\n",
              "      <th>bottles_sold</th>\n",
              "      <th>sale_dollars</th>\n",
              "      <th>volume_sold_liters</th>\n",
              "      <th>volume_sold_gallons</th>\n",
              "      <th>counter</th>\n",
              "      <th>liquor_category</th>\n",
              "      <th>store_parent</th>\n",
              "      <th>month</th>\n",
              "      <th>year</th>\n",
              "      <th>monthyear</th>\n",
              "      <th>liquor_category_AMARETTO</th>\n",
              "      <th>liquor_category_BRANDY</th>\n",
              "      <th>liquor_category_GIN</th>\n",
              "      <th>liquor_category_LIQUEUR</th>\n",
              "      <th>liquor_category_Other</th>\n",
              "      <th>liquor_category_RUM</th>\n",
              "      <th>liquor_category_SCHNAPPS</th>\n",
              "      <th>liquor_category_TEQUILA</th>\n",
              "      <th>liquor_category_VODKA</th>\n",
              "      <th>liquor_category_WHISKY</th>\n",
              "      <th>store_parent_CVS</th>\n",
              "      <th>store_parent_Caseys</th>\n",
              "      <th>store_parent_Hy-Vee</th>\n",
              "      <th>store_parent_Kum&amp;Go</th>\n",
              "      <th>store_parent_Other</th>\n",
              "      <th>store_parent_QuikTrip</th>\n",
              "      <th>store_parent_SamsClub</th>\n",
              "      <th>store_parent_SmokingJoes</th>\n",
              "      <th>store_parent_Target</th>\n",
              "      <th>store_parent_Wal-Mart</th>\n",
              "      <th>store_parent_Walgreens</th>\n",
              "      <th>month_Apr</th>\n",
              "      <th>month_Aug</th>\n",
              "      <th>month_Dec</th>\n",
              "      <th>month_Feb</th>\n",
              "      <th>month_Jan</th>\n",
              "      <th>month_Jul</th>\n",
              "      <th>month_Jun</th>\n",
              "      <th>month_Mar</th>\n",
              "      <th>month_May</th>\n",
              "      <th>month_Nov</th>\n",
              "      <th>month_Oct</th>\n",
              "      <th>month_Sep</th>\n",
              "      <th>year_2019</th>\n",
              "      <th>monthyear_Apr-2019</th>\n",
              "      <th>monthyear_Aug-2019</th>\n",
              "      <th>monthyear_Dec-2019</th>\n",
              "      <th>monthyear_Feb-2019</th>\n",
              "      <th>monthyear_Jan-2019</th>\n",
              "      <th>monthyear_Jul-2019</th>\n",
              "      <th>monthyear_Jun-2019</th>\n",
              "      <th>monthyear_Mar-2019</th>\n",
              "      <th>monthyear_May-2019</th>\n",
              "      <th>monthyear_Nov-2019</th>\n",
              "      <th>monthyear_Oct-2019</th>\n",
              "      <th>monthyear_Sep-2019</th>\n",
              "      <th>sale_dollars_trans</th>\n",
              "      <th>cost_per_liter</th>\n",
              "      <th>cost_per_liter_trans</th>\n",
              "      <th>state_bottle_cost_trans</th>\n",
              "      <th>bottles_sold_trans</th>\n",
              "      <th>volume_sold_liters_trans</th>\n",
              "      <th>grossmargin</th>\n",
              "    </tr>\n",
              "  </thead>\n",
              "  <tbody>\n",
              "    <tr>\n",
              "      <th>0</th>\n",
              "      <td>0</td>\n",
              "      <td>20</td>\n",
              "      <td>375</td>\n",
              "      <td>3.85</td>\n",
              "      <td>5.78</td>\n",
              "      <td>20</td>\n",
              "      <td>115.60</td>\n",
              "      <td>7.50</td>\n",
              "      <td>1.98</td>\n",
              "      <td>1</td>\n",
              "      <td>Other</td>\n",
              "      <td>Other</td>\n",
              "      <td>Nov</td>\n",
              "      <td>2019</td>\n",
              "      <td>Nov-19</td>\n",
              "      <td>0</td>\n",
              "      <td>0</td>\n",
              "      <td>0</td>\n",
              "      <td>0</td>\n",
              "      <td>1</td>\n",
              "      <td>0</td>\n",
              "      <td>0</td>\n",
              "      <td>0</td>\n",
              "      <td>0</td>\n",
              "      <td>0</td>\n",
              "      <td>0</td>\n",
              "      <td>0</td>\n",
              "      <td>0</td>\n",
              "      <td>0</td>\n",
              "      <td>1</td>\n",
              "      <td>0</td>\n",
              "      <td>0</td>\n",
              "      <td>0</td>\n",
              "      <td>0</td>\n",
              "      <td>0</td>\n",
              "      <td>0</td>\n",
              "      <td>0</td>\n",
              "      <td>0</td>\n",
              "      <td>0</td>\n",
              "      <td>0</td>\n",
              "      <td>0</td>\n",
              "      <td>0</td>\n",
              "      <td>0</td>\n",
              "      <td>0</td>\n",
              "      <td>0</td>\n",
              "      <td>1</td>\n",
              "      <td>0</td>\n",
              "      <td>0</td>\n",
              "      <td>1</td>\n",
              "      <td>0</td>\n",
              "      <td>0</td>\n",
              "      <td>0</td>\n",
              "      <td>0</td>\n",
              "      <td>0</td>\n",
              "      <td>0</td>\n",
              "      <td>0</td>\n",
              "      <td>0</td>\n",
              "      <td>0</td>\n",
              "      <td>1</td>\n",
              "      <td>0</td>\n",
              "      <td>0</td>\n",
              "      <td>4.750136</td>\n",
              "      <td>15.413333</td>\n",
              "      <td>2.735233</td>\n",
              "      <td>1.348073</td>\n",
              "      <td>2.995732</td>\n",
              "      <td>2.014903</td>\n",
              "      <td>0.333910</td>\n",
              "    </tr>\n",
              "    <tr>\n",
              "      <th>1</th>\n",
              "      <td>1</td>\n",
              "      <td>8</td>\n",
              "      <td>50</td>\n",
              "      <td>8.75</td>\n",
              "      <td>13.13</td>\n",
              "      <td>1</td>\n",
              "      <td>13.13</td>\n",
              "      <td>0.05</td>\n",
              "      <td>0.01</td>\n",
              "      <td>1</td>\n",
              "      <td>Other</td>\n",
              "      <td>Other</td>\n",
              "      <td>Nov</td>\n",
              "      <td>2019</td>\n",
              "      <td>Nov-19</td>\n",
              "      <td>0</td>\n",
              "      <td>0</td>\n",
              "      <td>0</td>\n",
              "      <td>0</td>\n",
              "      <td>1</td>\n",
              "      <td>0</td>\n",
              "      <td>0</td>\n",
              "      <td>0</td>\n",
              "      <td>0</td>\n",
              "      <td>0</td>\n",
              "      <td>0</td>\n",
              "      <td>0</td>\n",
              "      <td>0</td>\n",
              "      <td>0</td>\n",
              "      <td>1</td>\n",
              "      <td>0</td>\n",
              "      <td>0</td>\n",
              "      <td>0</td>\n",
              "      <td>0</td>\n",
              "      <td>0</td>\n",
              "      <td>0</td>\n",
              "      <td>0</td>\n",
              "      <td>0</td>\n",
              "      <td>0</td>\n",
              "      <td>0</td>\n",
              "      <td>0</td>\n",
              "      <td>0</td>\n",
              "      <td>0</td>\n",
              "      <td>0</td>\n",
              "      <td>0</td>\n",
              "      <td>1</td>\n",
              "      <td>0</td>\n",
              "      <td>0</td>\n",
              "      <td>1</td>\n",
              "      <td>0</td>\n",
              "      <td>0</td>\n",
              "      <td>0</td>\n",
              "      <td>0</td>\n",
              "      <td>0</td>\n",
              "      <td>0</td>\n",
              "      <td>0</td>\n",
              "      <td>0</td>\n",
              "      <td>0</td>\n",
              "      <td>1</td>\n",
              "      <td>0</td>\n",
              "      <td>0</td>\n",
              "      <td>2.574900</td>\n",
              "      <td>262.600000</td>\n",
              "      <td>5.570632</td>\n",
              "      <td>2.169054</td>\n",
              "      <td>0.000000</td>\n",
              "      <td>-2.995732</td>\n",
              "      <td>0.333587</td>\n",
              "    </tr>\n",
              "    <tr>\n",
              "      <th>2</th>\n",
              "      <td>2</td>\n",
              "      <td>12</td>\n",
              "      <td>1000</td>\n",
              "      <td>16.50</td>\n",
              "      <td>24.75</td>\n",
              "      <td>6</td>\n",
              "      <td>148.50</td>\n",
              "      <td>6.00</td>\n",
              "      <td>1.58</td>\n",
              "      <td>1</td>\n",
              "      <td>GIN</td>\n",
              "      <td>Hy-Vee</td>\n",
              "      <td>May</td>\n",
              "      <td>2019</td>\n",
              "      <td>May-19</td>\n",
              "      <td>0</td>\n",
              "      <td>0</td>\n",
              "      <td>1</td>\n",
              "      <td>0</td>\n",
              "      <td>0</td>\n",
              "      <td>0</td>\n",
              "      <td>0</td>\n",
              "      <td>0</td>\n",
              "      <td>0</td>\n",
              "      <td>0</td>\n",
              "      <td>0</td>\n",
              "      <td>0</td>\n",
              "      <td>1</td>\n",
              "      <td>0</td>\n",
              "      <td>0</td>\n",
              "      <td>0</td>\n",
              "      <td>0</td>\n",
              "      <td>0</td>\n",
              "      <td>0</td>\n",
              "      <td>0</td>\n",
              "      <td>0</td>\n",
              "      <td>0</td>\n",
              "      <td>0</td>\n",
              "      <td>0</td>\n",
              "      <td>0</td>\n",
              "      <td>0</td>\n",
              "      <td>0</td>\n",
              "      <td>0</td>\n",
              "      <td>0</td>\n",
              "      <td>1</td>\n",
              "      <td>0</td>\n",
              "      <td>0</td>\n",
              "      <td>0</td>\n",
              "      <td>1</td>\n",
              "      <td>0</td>\n",
              "      <td>0</td>\n",
              "      <td>0</td>\n",
              "      <td>0</td>\n",
              "      <td>0</td>\n",
              "      <td>0</td>\n",
              "      <td>0</td>\n",
              "      <td>0</td>\n",
              "      <td>1</td>\n",
              "      <td>0</td>\n",
              "      <td>0</td>\n",
              "      <td>0</td>\n",
              "      <td>5.000585</td>\n",
              "      <td>24.750000</td>\n",
              "      <td>3.208825</td>\n",
              "      <td>2.803360</td>\n",
              "      <td>1.791759</td>\n",
              "      <td>1.791759</td>\n",
              "      <td>0.333333</td>\n",
              "    </tr>\n",
              "    <tr>\n",
              "      <th>3</th>\n",
              "      <td>3</td>\n",
              "      <td>6</td>\n",
              "      <td>750</td>\n",
              "      <td>21.17</td>\n",
              "      <td>31.76</td>\n",
              "      <td>24</td>\n",
              "      <td>762.24</td>\n",
              "      <td>18.00</td>\n",
              "      <td>4.75</td>\n",
              "      <td>1</td>\n",
              "      <td>WHISKY</td>\n",
              "      <td>Hy-Vee</td>\n",
              "      <td>Nov</td>\n",
              "      <td>2019</td>\n",
              "      <td>Nov-19</td>\n",
              "      <td>0</td>\n",
              "      <td>0</td>\n",
              "      <td>0</td>\n",
              "      <td>0</td>\n",
              "      <td>0</td>\n",
              "      <td>0</td>\n",
              "      <td>0</td>\n",
              "      <td>0</td>\n",
              "      <td>0</td>\n",
              "      <td>1</td>\n",
              "      <td>0</td>\n",
              "      <td>0</td>\n",
              "      <td>1</td>\n",
              "      <td>0</td>\n",
              "      <td>0</td>\n",
              "      <td>0</td>\n",
              "      <td>0</td>\n",
              "      <td>0</td>\n",
              "      <td>0</td>\n",
              "      <td>0</td>\n",
              "      <td>0</td>\n",
              "      <td>0</td>\n",
              "      <td>0</td>\n",
              "      <td>0</td>\n",
              "      <td>0</td>\n",
              "      <td>0</td>\n",
              "      <td>0</td>\n",
              "      <td>0</td>\n",
              "      <td>0</td>\n",
              "      <td>0</td>\n",
              "      <td>1</td>\n",
              "      <td>0</td>\n",
              "      <td>0</td>\n",
              "      <td>1</td>\n",
              "      <td>0</td>\n",
              "      <td>0</td>\n",
              "      <td>0</td>\n",
              "      <td>0</td>\n",
              "      <td>0</td>\n",
              "      <td>0</td>\n",
              "      <td>0</td>\n",
              "      <td>0</td>\n",
              "      <td>0</td>\n",
              "      <td>1</td>\n",
              "      <td>0</td>\n",
              "      <td>0</td>\n",
              "      <td>6.636261</td>\n",
              "      <td>42.346667</td>\n",
              "      <td>3.745890</td>\n",
              "      <td>3.052585</td>\n",
              "      <td>3.178054</td>\n",
              "      <td>2.890372</td>\n",
              "      <td>0.333438</td>\n",
              "    </tr>\n",
              "    <tr>\n",
              "      <th>4</th>\n",
              "      <td>4</td>\n",
              "      <td>6</td>\n",
              "      <td>1750</td>\n",
              "      <td>9.31</td>\n",
              "      <td>13.97</td>\n",
              "      <td>12</td>\n",
              "      <td>167.64</td>\n",
              "      <td>21.00</td>\n",
              "      <td>5.54</td>\n",
              "      <td>1</td>\n",
              "      <td>Other</td>\n",
              "      <td>Hy-Vee</td>\n",
              "      <td>Nov</td>\n",
              "      <td>2019</td>\n",
              "      <td>Nov-19</td>\n",
              "      <td>0</td>\n",
              "      <td>0</td>\n",
              "      <td>0</td>\n",
              "      <td>0</td>\n",
              "      <td>1</td>\n",
              "      <td>0</td>\n",
              "      <td>0</td>\n",
              "      <td>0</td>\n",
              "      <td>0</td>\n",
              "      <td>0</td>\n",
              "      <td>0</td>\n",
              "      <td>0</td>\n",
              "      <td>1</td>\n",
              "      <td>0</td>\n",
              "      <td>0</td>\n",
              "      <td>0</td>\n",
              "      <td>0</td>\n",
              "      <td>0</td>\n",
              "      <td>0</td>\n",
              "      <td>0</td>\n",
              "      <td>0</td>\n",
              "      <td>0</td>\n",
              "      <td>0</td>\n",
              "      <td>0</td>\n",
              "      <td>0</td>\n",
              "      <td>0</td>\n",
              "      <td>0</td>\n",
              "      <td>0</td>\n",
              "      <td>0</td>\n",
              "      <td>0</td>\n",
              "      <td>1</td>\n",
              "      <td>0</td>\n",
              "      <td>0</td>\n",
              "      <td>1</td>\n",
              "      <td>0</td>\n",
              "      <td>0</td>\n",
              "      <td>0</td>\n",
              "      <td>0</td>\n",
              "      <td>0</td>\n",
              "      <td>0</td>\n",
              "      <td>0</td>\n",
              "      <td>0</td>\n",
              "      <td>0</td>\n",
              "      <td>1</td>\n",
              "      <td>0</td>\n",
              "      <td>0</td>\n",
              "      <td>5.121819</td>\n",
              "      <td>7.982857</td>\n",
              "      <td>2.077296</td>\n",
              "      <td>2.231089</td>\n",
              "      <td>2.484907</td>\n",
              "      <td>3.044522</td>\n",
              "      <td>0.333572</td>\n",
              "    </tr>\n",
              "    <tr>\n",
              "      <th>...</th>\n",
              "      <td>...</td>\n",
              "      <td>...</td>\n",
              "      <td>...</td>\n",
              "      <td>...</td>\n",
              "      <td>...</td>\n",
              "      <td>...</td>\n",
              "      <td>...</td>\n",
              "      <td>...</td>\n",
              "      <td>...</td>\n",
              "      <td>...</td>\n",
              "      <td>...</td>\n",
              "      <td>...</td>\n",
              "      <td>...</td>\n",
              "      <td>...</td>\n",
              "      <td>...</td>\n",
              "      <td>...</td>\n",
              "      <td>...</td>\n",
              "      <td>...</td>\n",
              "      <td>...</td>\n",
              "      <td>...</td>\n",
              "      <td>...</td>\n",
              "      <td>...</td>\n",
              "      <td>...</td>\n",
              "      <td>...</td>\n",
              "      <td>...</td>\n",
              "      <td>...</td>\n",
              "      <td>...</td>\n",
              "      <td>...</td>\n",
              "      <td>...</td>\n",
              "      <td>...</td>\n",
              "      <td>...</td>\n",
              "      <td>...</td>\n",
              "      <td>...</td>\n",
              "      <td>...</td>\n",
              "      <td>...</td>\n",
              "      <td>...</td>\n",
              "      <td>...</td>\n",
              "      <td>...</td>\n",
              "      <td>...</td>\n",
              "      <td>...</td>\n",
              "      <td>...</td>\n",
              "      <td>...</td>\n",
              "      <td>...</td>\n",
              "      <td>...</td>\n",
              "      <td>...</td>\n",
              "      <td>...</td>\n",
              "      <td>...</td>\n",
              "      <td>...</td>\n",
              "      <td>...</td>\n",
              "      <td>...</td>\n",
              "      <td>...</td>\n",
              "      <td>...</td>\n",
              "      <td>...</td>\n",
              "      <td>...</td>\n",
              "      <td>...</td>\n",
              "      <td>...</td>\n",
              "      <td>...</td>\n",
              "      <td>...</td>\n",
              "      <td>...</td>\n",
              "      <td>...</td>\n",
              "      <td>...</td>\n",
              "      <td>...</td>\n",
              "      <td>...</td>\n",
              "      <td>...</td>\n",
              "      <td>...</td>\n",
              "      <td>...</td>\n",
              "      <td>...</td>\n",
              "      <td>...</td>\n",
              "    </tr>\n",
              "    <tr>\n",
              "      <th>399995</th>\n",
              "      <td>399995</td>\n",
              "      <td>12</td>\n",
              "      <td>750</td>\n",
              "      <td>7.49</td>\n",
              "      <td>11.24</td>\n",
              "      <td>12</td>\n",
              "      <td>134.88</td>\n",
              "      <td>9.00</td>\n",
              "      <td>2.37</td>\n",
              "      <td>1</td>\n",
              "      <td>VODKA</td>\n",
              "      <td>Hy-Vee</td>\n",
              "      <td>Jul</td>\n",
              "      <td>2019</td>\n",
              "      <td>Jul-19</td>\n",
              "      <td>0</td>\n",
              "      <td>0</td>\n",
              "      <td>0</td>\n",
              "      <td>0</td>\n",
              "      <td>0</td>\n",
              "      <td>0</td>\n",
              "      <td>0</td>\n",
              "      <td>0</td>\n",
              "      <td>1</td>\n",
              "      <td>0</td>\n",
              "      <td>0</td>\n",
              "      <td>0</td>\n",
              "      <td>1</td>\n",
              "      <td>0</td>\n",
              "      <td>0</td>\n",
              "      <td>0</td>\n",
              "      <td>0</td>\n",
              "      <td>0</td>\n",
              "      <td>0</td>\n",
              "      <td>0</td>\n",
              "      <td>0</td>\n",
              "      <td>0</td>\n",
              "      <td>0</td>\n",
              "      <td>0</td>\n",
              "      <td>0</td>\n",
              "      <td>0</td>\n",
              "      <td>1</td>\n",
              "      <td>0</td>\n",
              "      <td>0</td>\n",
              "      <td>0</td>\n",
              "      <td>0</td>\n",
              "      <td>0</td>\n",
              "      <td>0</td>\n",
              "      <td>1</td>\n",
              "      <td>0</td>\n",
              "      <td>0</td>\n",
              "      <td>0</td>\n",
              "      <td>0</td>\n",
              "      <td>0</td>\n",
              "      <td>1</td>\n",
              "      <td>0</td>\n",
              "      <td>0</td>\n",
              "      <td>0</td>\n",
              "      <td>0</td>\n",
              "      <td>0</td>\n",
              "      <td>0</td>\n",
              "      <td>4.904385</td>\n",
              "      <td>14.986667</td>\n",
              "      <td>2.707161</td>\n",
              "      <td>2.013569</td>\n",
              "      <td>2.484907</td>\n",
              "      <td>2.197225</td>\n",
              "      <td>0.333630</td>\n",
              "    </tr>\n",
              "    <tr>\n",
              "      <th>399996</th>\n",
              "      <td>399996</td>\n",
              "      <td>12</td>\n",
              "      <td>750</td>\n",
              "      <td>7.49</td>\n",
              "      <td>11.24</td>\n",
              "      <td>12</td>\n",
              "      <td>134.88</td>\n",
              "      <td>9.00</td>\n",
              "      <td>2.37</td>\n",
              "      <td>1</td>\n",
              "      <td>VODKA</td>\n",
              "      <td>Hy-Vee</td>\n",
              "      <td>Jul</td>\n",
              "      <td>2019</td>\n",
              "      <td>Jul-19</td>\n",
              "      <td>0</td>\n",
              "      <td>0</td>\n",
              "      <td>0</td>\n",
              "      <td>0</td>\n",
              "      <td>0</td>\n",
              "      <td>0</td>\n",
              "      <td>0</td>\n",
              "      <td>0</td>\n",
              "      <td>1</td>\n",
              "      <td>0</td>\n",
              "      <td>0</td>\n",
              "      <td>0</td>\n",
              "      <td>1</td>\n",
              "      <td>0</td>\n",
              "      <td>0</td>\n",
              "      <td>0</td>\n",
              "      <td>0</td>\n",
              "      <td>0</td>\n",
              "      <td>0</td>\n",
              "      <td>0</td>\n",
              "      <td>0</td>\n",
              "      <td>0</td>\n",
              "      <td>0</td>\n",
              "      <td>0</td>\n",
              "      <td>0</td>\n",
              "      <td>0</td>\n",
              "      <td>1</td>\n",
              "      <td>0</td>\n",
              "      <td>0</td>\n",
              "      <td>0</td>\n",
              "      <td>0</td>\n",
              "      <td>0</td>\n",
              "      <td>0</td>\n",
              "      <td>1</td>\n",
              "      <td>0</td>\n",
              "      <td>0</td>\n",
              "      <td>0</td>\n",
              "      <td>0</td>\n",
              "      <td>0</td>\n",
              "      <td>1</td>\n",
              "      <td>0</td>\n",
              "      <td>0</td>\n",
              "      <td>0</td>\n",
              "      <td>0</td>\n",
              "      <td>0</td>\n",
              "      <td>0</td>\n",
              "      <td>4.904385</td>\n",
              "      <td>14.986667</td>\n",
              "      <td>2.707161</td>\n",
              "      <td>2.013569</td>\n",
              "      <td>2.484907</td>\n",
              "      <td>2.197225</td>\n",
              "      <td>0.333630</td>\n",
              "    </tr>\n",
              "    <tr>\n",
              "      <th>399997</th>\n",
              "      <td>399997</td>\n",
              "      <td>12</td>\n",
              "      <td>750</td>\n",
              "      <td>7.49</td>\n",
              "      <td>11.24</td>\n",
              "      <td>12</td>\n",
              "      <td>134.88</td>\n",
              "      <td>9.00</td>\n",
              "      <td>2.37</td>\n",
              "      <td>1</td>\n",
              "      <td>VODKA</td>\n",
              "      <td>Wal-Mart</td>\n",
              "      <td>Apr</td>\n",
              "      <td>2019</td>\n",
              "      <td>Apr-19</td>\n",
              "      <td>0</td>\n",
              "      <td>0</td>\n",
              "      <td>0</td>\n",
              "      <td>0</td>\n",
              "      <td>0</td>\n",
              "      <td>0</td>\n",
              "      <td>0</td>\n",
              "      <td>0</td>\n",
              "      <td>1</td>\n",
              "      <td>0</td>\n",
              "      <td>0</td>\n",
              "      <td>0</td>\n",
              "      <td>0</td>\n",
              "      <td>0</td>\n",
              "      <td>0</td>\n",
              "      <td>0</td>\n",
              "      <td>0</td>\n",
              "      <td>0</td>\n",
              "      <td>0</td>\n",
              "      <td>1</td>\n",
              "      <td>0</td>\n",
              "      <td>1</td>\n",
              "      <td>0</td>\n",
              "      <td>0</td>\n",
              "      <td>0</td>\n",
              "      <td>0</td>\n",
              "      <td>0</td>\n",
              "      <td>0</td>\n",
              "      <td>0</td>\n",
              "      <td>0</td>\n",
              "      <td>0</td>\n",
              "      <td>0</td>\n",
              "      <td>0</td>\n",
              "      <td>1</td>\n",
              "      <td>1</td>\n",
              "      <td>0</td>\n",
              "      <td>0</td>\n",
              "      <td>0</td>\n",
              "      <td>0</td>\n",
              "      <td>0</td>\n",
              "      <td>0</td>\n",
              "      <td>0</td>\n",
              "      <td>0</td>\n",
              "      <td>0</td>\n",
              "      <td>0</td>\n",
              "      <td>0</td>\n",
              "      <td>4.904385</td>\n",
              "      <td>14.986667</td>\n",
              "      <td>2.707161</td>\n",
              "      <td>2.013569</td>\n",
              "      <td>2.484907</td>\n",
              "      <td>2.197225</td>\n",
              "      <td>0.333630</td>\n",
              "    </tr>\n",
              "    <tr>\n",
              "      <th>399998</th>\n",
              "      <td>399998</td>\n",
              "      <td>12</td>\n",
              "      <td>750</td>\n",
              "      <td>7.49</td>\n",
              "      <td>11.24</td>\n",
              "      <td>12</td>\n",
              "      <td>134.88</td>\n",
              "      <td>9.00</td>\n",
              "      <td>2.37</td>\n",
              "      <td>1</td>\n",
              "      <td>VODKA</td>\n",
              "      <td>Wal-Mart</td>\n",
              "      <td>Jul</td>\n",
              "      <td>2019</td>\n",
              "      <td>Jul-19</td>\n",
              "      <td>0</td>\n",
              "      <td>0</td>\n",
              "      <td>0</td>\n",
              "      <td>0</td>\n",
              "      <td>0</td>\n",
              "      <td>0</td>\n",
              "      <td>0</td>\n",
              "      <td>0</td>\n",
              "      <td>1</td>\n",
              "      <td>0</td>\n",
              "      <td>0</td>\n",
              "      <td>0</td>\n",
              "      <td>0</td>\n",
              "      <td>0</td>\n",
              "      <td>0</td>\n",
              "      <td>0</td>\n",
              "      <td>0</td>\n",
              "      <td>0</td>\n",
              "      <td>0</td>\n",
              "      <td>1</td>\n",
              "      <td>0</td>\n",
              "      <td>0</td>\n",
              "      <td>0</td>\n",
              "      <td>0</td>\n",
              "      <td>0</td>\n",
              "      <td>0</td>\n",
              "      <td>1</td>\n",
              "      <td>0</td>\n",
              "      <td>0</td>\n",
              "      <td>0</td>\n",
              "      <td>0</td>\n",
              "      <td>0</td>\n",
              "      <td>0</td>\n",
              "      <td>1</td>\n",
              "      <td>0</td>\n",
              "      <td>0</td>\n",
              "      <td>0</td>\n",
              "      <td>0</td>\n",
              "      <td>0</td>\n",
              "      <td>1</td>\n",
              "      <td>0</td>\n",
              "      <td>0</td>\n",
              "      <td>0</td>\n",
              "      <td>0</td>\n",
              "      <td>0</td>\n",
              "      <td>0</td>\n",
              "      <td>4.904385</td>\n",
              "      <td>14.986667</td>\n",
              "      <td>2.707161</td>\n",
              "      <td>2.013569</td>\n",
              "      <td>2.484907</td>\n",
              "      <td>2.197225</td>\n",
              "      <td>0.333630</td>\n",
              "    </tr>\n",
              "    <tr>\n",
              "      <th>399999</th>\n",
              "      <td>399999</td>\n",
              "      <td>12</td>\n",
              "      <td>750</td>\n",
              "      <td>7.49</td>\n",
              "      <td>11.24</td>\n",
              "      <td>12</td>\n",
              "      <td>134.88</td>\n",
              "      <td>9.00</td>\n",
              "      <td>2.37</td>\n",
              "      <td>1</td>\n",
              "      <td>VODKA</td>\n",
              "      <td>Wal-Mart</td>\n",
              "      <td>Nov</td>\n",
              "      <td>2019</td>\n",
              "      <td>Nov-19</td>\n",
              "      <td>0</td>\n",
              "      <td>0</td>\n",
              "      <td>0</td>\n",
              "      <td>0</td>\n",
              "      <td>0</td>\n",
              "      <td>0</td>\n",
              "      <td>0</td>\n",
              "      <td>0</td>\n",
              "      <td>1</td>\n",
              "      <td>0</td>\n",
              "      <td>0</td>\n",
              "      <td>0</td>\n",
              "      <td>0</td>\n",
              "      <td>0</td>\n",
              "      <td>0</td>\n",
              "      <td>0</td>\n",
              "      <td>0</td>\n",
              "      <td>0</td>\n",
              "      <td>0</td>\n",
              "      <td>1</td>\n",
              "      <td>0</td>\n",
              "      <td>0</td>\n",
              "      <td>0</td>\n",
              "      <td>0</td>\n",
              "      <td>0</td>\n",
              "      <td>0</td>\n",
              "      <td>0</td>\n",
              "      <td>0</td>\n",
              "      <td>0</td>\n",
              "      <td>0</td>\n",
              "      <td>1</td>\n",
              "      <td>0</td>\n",
              "      <td>0</td>\n",
              "      <td>1</td>\n",
              "      <td>0</td>\n",
              "      <td>0</td>\n",
              "      <td>0</td>\n",
              "      <td>0</td>\n",
              "      <td>0</td>\n",
              "      <td>0</td>\n",
              "      <td>0</td>\n",
              "      <td>0</td>\n",
              "      <td>0</td>\n",
              "      <td>1</td>\n",
              "      <td>0</td>\n",
              "      <td>0</td>\n",
              "      <td>4.904385</td>\n",
              "      <td>14.986667</td>\n",
              "      <td>2.707161</td>\n",
              "      <td>2.013569</td>\n",
              "      <td>2.484907</td>\n",
              "      <td>2.197225</td>\n",
              "      <td>0.333630</td>\n",
              "    </tr>\n",
              "  </tbody>\n",
              "</table>\n",
              "<p>400000 rows × 68 columns</p>\n",
              "</div>"
            ],
            "text/plain": [
              "        Unnamed: 0  pack  ...  volume_sold_liters_trans  grossmargin\n",
              "0                0    20  ...                  2.014903     0.333910\n",
              "1                1     8  ...                 -2.995732     0.333587\n",
              "2                2    12  ...                  1.791759     0.333333\n",
              "3                3     6  ...                  2.890372     0.333438\n",
              "4                4     6  ...                  3.044522     0.333572\n",
              "...            ...   ...  ...                       ...          ...\n",
              "399995      399995    12  ...                  2.197225     0.333630\n",
              "399996      399996    12  ...                  2.197225     0.333630\n",
              "399997      399997    12  ...                  2.197225     0.333630\n",
              "399998      399998    12  ...                  2.197225     0.333630\n",
              "399999      399999    12  ...                  2.197225     0.333630\n",
              "\n",
              "[400000 rows x 68 columns]"
            ]
          },
          "metadata": {
            "tags": []
          },
          "execution_count": 4
        }
      ]
    },
    {
      "cell_type": "markdown",
      "metadata": {
        "colab_type": "text",
        "id": "aeJ06hpUqLJW"
      },
      "source": [
        "###Remove unwanted columns"
      ]
    },
    {
      "cell_type": "code",
      "metadata": {
        "id": "AWB8vb9WpT0A",
        "colab_type": "code",
        "colab": {
          "base_uri": "https://localhost:8080/",
          "height": 85
        },
        "outputId": "05206afb-c155-4f01-e088-7df69ebedc50"
      },
      "source": [
        "# Remove unwanted columns, which include all the specific liquor categories, \n",
        "# except for liquor_category_WHISKY since that is what we want to classify on, along\n",
        "# with all the store_ attributes\n",
        "\"\"\"\n",
        "cat_vars=['counter', 'liquor_category', 'store_parent',\n",
        " 'month', 'year', 'monthyear', 'liquor_category_AMARETTO', 'liquor_category_BRANDY', 'liquor_category_GIN', \n",
        " 'liquor_category_LIQUEUR', 'liquor_category_Other', 'liquor_category_RUM', 'liquor_category_SCHNAPPS', \n",
        " 'liquor_category_TEQUILA', 'liquor_category_VODKA', 'month_Apr', 'month_Aug', 'month_Dec', 'month_Feb',\n",
        " 'month_Jan', 'month_Jul', 'month_Jun', 'month_Mar', 'month_May', 'month_Nov', 'month_Oct', 'month_Sep', \n",
        " 'store_parent_CVS', 'store_parent_Caseys', 'store_parent_Hy-Vee', 'store_parent_Kum&Go', \n",
        " 'store_parent_Other', 'store_parent_QuikTrip', 'store_parent_SamsClub', 'store_parent_SmokingJoes', \n",
        " 'store_parent_Target', 'store_parent_Wal-Mart', 'store_parent_Walgreens']\n",
        "data_vars=data.columns.values.tolist()\n",
        "to_keep=[i for i in data_vars if i not in cat_vars]\n",
        "\"\"\"\n",
        "to_keep=['sale_dollars_trans', 'cost_per_liter_trans',\n",
        "      'state_bottle_cost_trans', 'bottles_sold_trans',\n",
        "       'volume_sold_liters_trans','pack', 'bottle_volume_ml',\n",
        "       'liquor_category_WHISKY']\n",
        "data_final=data[to_keep]\n",
        "data_final.columns.values"
      ],
      "execution_count": 5,
      "outputs": [
        {
          "output_type": "execute_result",
          "data": {
            "text/plain": [
              "array(['sale_dollars_trans', 'cost_per_liter_trans',\n",
              "       'state_bottle_cost_trans', 'bottles_sold_trans',\n",
              "       'volume_sold_liters_trans', 'pack', 'bottle_volume_ml',\n",
              "       'liquor_category_WHISKY'], dtype=object)"
            ]
          },
          "metadata": {
            "tags": []
          },
          "execution_count": 5
        }
      ]
    },
    {
      "cell_type": "markdown",
      "metadata": {
        "colab_type": "text",
        "id": "CIlHFqU5mjwq"
      },
      "source": [
        "###Simple Statistics"
      ]
    },
    {
      "cell_type": "code",
      "metadata": {
        "id": "_8aJvAxEpT0D",
        "colab_type": "code",
        "colab": {
          "base_uri": "https://localhost:8080/",
          "height": 317
        },
        "outputId": "0e5c4e22-9214-4008-9a98-5320f0f4aada"
      },
      "source": [
        "data_final.describe()"
      ],
      "execution_count": 6,
      "outputs": [
        {
          "output_type": "execute_result",
          "data": {
            "text/html": [
              "<div>\n",
              "<style scoped>\n",
              "    .dataframe tbody tr th:only-of-type {\n",
              "        vertical-align: middle;\n",
              "    }\n",
              "\n",
              "    .dataframe tbody tr th {\n",
              "        vertical-align: top;\n",
              "    }\n",
              "\n",
              "    .dataframe thead th {\n",
              "        text-align: right;\n",
              "    }\n",
              "</style>\n",
              "<table border=\"1\" class=\"dataframe\">\n",
              "  <thead>\n",
              "    <tr style=\"text-align: right;\">\n",
              "      <th></th>\n",
              "      <th>sale_dollars_trans</th>\n",
              "      <th>cost_per_liter_trans</th>\n",
              "      <th>state_bottle_cost_trans</th>\n",
              "      <th>bottles_sold_trans</th>\n",
              "      <th>volume_sold_liters_trans</th>\n",
              "      <th>pack</th>\n",
              "      <th>bottle_volume_ml</th>\n",
              "      <th>liquor_category_WHISKY</th>\n",
              "    </tr>\n",
              "  </thead>\n",
              "  <tbody>\n",
              "    <tr>\n",
              "      <th>count</th>\n",
              "      <td>400000.000000</td>\n",
              "      <td>400000.000000</td>\n",
              "      <td>400000.000000</td>\n",
              "      <td>400000.000000</td>\n",
              "      <td>400000.000000</td>\n",
              "      <td>400000.000000</td>\n",
              "      <td>400000.000000</td>\n",
              "      <td>400000.000000</td>\n",
              "    </tr>\n",
              "    <tr>\n",
              "      <th>mean</th>\n",
              "      <td>4.342939</td>\n",
              "      <td>2.766402</td>\n",
              "      <td>2.090235</td>\n",
              "      <td>1.847176</td>\n",
              "      <td>1.576537</td>\n",
              "      <td>11.950140</td>\n",
              "      <td>960.109795</td>\n",
              "      <td>0.104387</td>\n",
              "    </tr>\n",
              "    <tr>\n",
              "      <th>std</th>\n",
              "      <td>1.061412</td>\n",
              "      <td>0.828823</td>\n",
              "      <td>0.707591</td>\n",
              "      <td>1.078662</td>\n",
              "      <td>1.352197</td>\n",
              "      <td>8.382596</td>\n",
              "      <td>557.811485</td>\n",
              "      <td>0.305763</td>\n",
              "    </tr>\n",
              "    <tr>\n",
              "      <th>min</th>\n",
              "      <td>0.292670</td>\n",
              "      <td>0.916291</td>\n",
              "      <td>-0.116534</td>\n",
              "      <td>0.000000</td>\n",
              "      <td>-3.912023</td>\n",
              "      <td>1.000000</td>\n",
              "      <td>25.000000</td>\n",
              "      <td>0.000000</td>\n",
              "    </tr>\n",
              "    <tr>\n",
              "      <th>25%</th>\n",
              "      <td>3.727619</td>\n",
              "      <td>2.090805</td>\n",
              "      <td>1.690096</td>\n",
              "      <td>1.098612</td>\n",
              "      <td>0.810930</td>\n",
              "      <td>6.000000</td>\n",
              "      <td>750.000000</td>\n",
              "      <td>0.000000</td>\n",
              "    </tr>\n",
              "    <tr>\n",
              "      <th>50%</th>\n",
              "      <td>4.319087</td>\n",
              "      <td>2.736221</td>\n",
              "      <td>2.111425</td>\n",
              "      <td>1.791759</td>\n",
              "      <td>2.197225</td>\n",
              "      <td>12.000000</td>\n",
              "      <td>750.000000</td>\n",
              "      <td>0.000000</td>\n",
              "    </tr>\n",
              "    <tr>\n",
              "      <th>75%</th>\n",
              "      <td>5.030046</td>\n",
              "      <td>3.097687</td>\n",
              "      <td>2.539237</td>\n",
              "      <td>2.484907</td>\n",
              "      <td>2.351375</td>\n",
              "      <td>12.000000</td>\n",
              "      <td>1750.000000</td>\n",
              "      <td>0.000000</td>\n",
              "    </tr>\n",
              "    <tr>\n",
              "      <th>max</th>\n",
              "      <td>10.823499</td>\n",
              "      <td>7.495542</td>\n",
              "      <td>5.926899</td>\n",
              "      <td>8.237479</td>\n",
              "      <td>8.797095</td>\n",
              "      <td>48.000000</td>\n",
              "      <td>6000.000000</td>\n",
              "      <td>1.000000</td>\n",
              "    </tr>\n",
              "  </tbody>\n",
              "</table>\n",
              "</div>"
            ],
            "text/plain": [
              "       sale_dollars_trans  ...  liquor_category_WHISKY\n",
              "count       400000.000000  ...           400000.000000\n",
              "mean             4.342939  ...                0.104387\n",
              "std              1.061412  ...                0.305763\n",
              "min              0.292670  ...                0.000000\n",
              "25%              3.727619  ...                0.000000\n",
              "50%              4.319087  ...                0.000000\n",
              "75%              5.030046  ...                0.000000\n",
              "max             10.823499  ...                1.000000\n",
              "\n",
              "[8 rows x 8 columns]"
            ]
          },
          "metadata": {
            "tags": []
          },
          "execution_count": 6
        }
      ]
    },
    {
      "cell_type": "code",
      "metadata": {
        "id": "3tIe-Cv1pT0G",
        "colab_type": "code",
        "colab": {
          "base_uri": "https://localhost:8080/",
          "height": 255
        },
        "outputId": "db68a5cd-ec60-41ec-bfd6-1d521d0597a6"
      },
      "source": [
        "data_final.info"
      ],
      "execution_count": 7,
      "outputs": [
        {
          "output_type": "execute_result",
          "data": {
            "text/plain": [
              "<bound method DataFrame.info of         sale_dollars_trans  ...  liquor_category_WHISKY\n",
              "0                 4.750136  ...                       0\n",
              "1                 2.574900  ...                       0\n",
              "2                 5.000585  ...                       0\n",
              "3                 6.636261  ...                       1\n",
              "4                 5.121819  ...                       0\n",
              "...                    ...  ...                     ...\n",
              "399995            4.904385  ...                       0\n",
              "399996            4.904385  ...                       0\n",
              "399997            4.904385  ...                       0\n",
              "399998            4.904385  ...                       0\n",
              "399999            4.904385  ...                       0\n",
              "\n",
              "[400000 rows x 8 columns]>"
            ]
          },
          "metadata": {
            "tags": []
          },
          "execution_count": 7
        }
      ]
    },
    {
      "cell_type": "code",
      "metadata": {
        "id": "gr6y_IhypT0K",
        "colab_type": "code",
        "colab": {
          "base_uri": "https://localhost:8080/",
          "height": 51
        },
        "outputId": "a2332224-940a-4bbd-ca32-0eb6b7fd4af8"
      },
      "source": [
        "# From the entire dataset (400k rows) take a look at what our Whiskey vs Non-Whiskey distribution looks like\n",
        "#data = data.drop(columns = ['Unnamed: 0'])\n",
        "count_not_whiskey = len(data_final[data_final['liquor_category_WHISKY']==0])\n",
        "count_whiskey = len(data_final[data_final['liquor_category_WHISKY']==1])\n",
        "pct_of_no_whiskey = count_not_whiskey/(count_not_whiskey+count_whiskey)\n",
        "print(\"Percentage of not whiskey is\", pct_of_no_whiskey*100)\n",
        "pct_of_whiskey = count_whiskey/(count_not_whiskey+count_whiskey)\n",
        "print(\"Percentage of whiskey\", pct_of_whiskey*100)"
      ],
      "execution_count": 8,
      "outputs": [
        {
          "output_type": "stream",
          "text": [
            "Percentage of not whiskey is 89.56125\n",
            "Percentage of whiskey 10.438749999999999\n"
          ],
          "name": "stdout"
        }
      ]
    },
    {
      "cell_type": "markdown",
      "metadata": {
        "colab_type": "text",
        "id": "Rw60isQ0rXD0"
      },
      "source": [
        "###Locate Features and Label\n",
        "\n",
        "Our features will be everything that isn't the liquor_category_WHISKY\n",
        "\n",
        "And our label, what we are trying to classify on, will be the liquor_category_WHISKY"
      ]
    },
    {
      "cell_type": "code",
      "metadata": {
        "id": "EmivkzDMpT0N",
        "colab_type": "code",
        "colab": {}
      },
      "source": [
        "# X will be our features\n",
        "X = data_final.loc[:, data_final.columns != 'liquor_category_WHISKY']\n",
        "\n",
        "# y will be our label, what we are trying to classify\n",
        "y = data_final.loc[:, data_final.columns == 'liquor_category_WHISKY']"
      ],
      "execution_count": 0,
      "outputs": []
    },
    {
      "cell_type": "code",
      "metadata": {
        "id": "5aiRypy1pT0P",
        "colab_type": "code",
        "colab": {
          "base_uri": "https://localhost:8080/",
          "height": 224
        },
        "outputId": "18c86817-4369-4d50-84b6-af8af1eada98"
      },
      "source": [
        "X.head()"
      ],
      "execution_count": 10,
      "outputs": [
        {
          "output_type": "execute_result",
          "data": {
            "text/html": [
              "<div>\n",
              "<style scoped>\n",
              "    .dataframe tbody tr th:only-of-type {\n",
              "        vertical-align: middle;\n",
              "    }\n",
              "\n",
              "    .dataframe tbody tr th {\n",
              "        vertical-align: top;\n",
              "    }\n",
              "\n",
              "    .dataframe thead th {\n",
              "        text-align: right;\n",
              "    }\n",
              "</style>\n",
              "<table border=\"1\" class=\"dataframe\">\n",
              "  <thead>\n",
              "    <tr style=\"text-align: right;\">\n",
              "      <th></th>\n",
              "      <th>sale_dollars_trans</th>\n",
              "      <th>cost_per_liter_trans</th>\n",
              "      <th>state_bottle_cost_trans</th>\n",
              "      <th>bottles_sold_trans</th>\n",
              "      <th>volume_sold_liters_trans</th>\n",
              "      <th>pack</th>\n",
              "      <th>bottle_volume_ml</th>\n",
              "    </tr>\n",
              "  </thead>\n",
              "  <tbody>\n",
              "    <tr>\n",
              "      <th>0</th>\n",
              "      <td>4.750136</td>\n",
              "      <td>2.735233</td>\n",
              "      <td>1.348073</td>\n",
              "      <td>2.995732</td>\n",
              "      <td>2.014903</td>\n",
              "      <td>20</td>\n",
              "      <td>375</td>\n",
              "    </tr>\n",
              "    <tr>\n",
              "      <th>1</th>\n",
              "      <td>2.574900</td>\n",
              "      <td>5.570632</td>\n",
              "      <td>2.169054</td>\n",
              "      <td>0.000000</td>\n",
              "      <td>-2.995732</td>\n",
              "      <td>8</td>\n",
              "      <td>50</td>\n",
              "    </tr>\n",
              "    <tr>\n",
              "      <th>2</th>\n",
              "      <td>5.000585</td>\n",
              "      <td>3.208825</td>\n",
              "      <td>2.803360</td>\n",
              "      <td>1.791759</td>\n",
              "      <td>1.791759</td>\n",
              "      <td>12</td>\n",
              "      <td>1000</td>\n",
              "    </tr>\n",
              "    <tr>\n",
              "      <th>3</th>\n",
              "      <td>6.636261</td>\n",
              "      <td>3.745890</td>\n",
              "      <td>3.052585</td>\n",
              "      <td>3.178054</td>\n",
              "      <td>2.890372</td>\n",
              "      <td>6</td>\n",
              "      <td>750</td>\n",
              "    </tr>\n",
              "    <tr>\n",
              "      <th>4</th>\n",
              "      <td>5.121819</td>\n",
              "      <td>2.077296</td>\n",
              "      <td>2.231089</td>\n",
              "      <td>2.484907</td>\n",
              "      <td>3.044522</td>\n",
              "      <td>6</td>\n",
              "      <td>1750</td>\n",
              "    </tr>\n",
              "  </tbody>\n",
              "</table>\n",
              "</div>"
            ],
            "text/plain": [
              "   sale_dollars_trans  cost_per_liter_trans  ...  pack  bottle_volume_ml\n",
              "0            4.750136              2.735233  ...    20               375\n",
              "1            2.574900              5.570632  ...     8                50\n",
              "2            5.000585              3.208825  ...    12              1000\n",
              "3            6.636261              3.745890  ...     6               750\n",
              "4            5.121819              2.077296  ...     6              1750\n",
              "\n",
              "[5 rows x 7 columns]"
            ]
          },
          "metadata": {
            "tags": []
          },
          "execution_count": 10
        }
      ]
    },
    {
      "cell_type": "code",
      "metadata": {
        "id": "5fR5n7oepT0U",
        "colab_type": "code",
        "colab": {
          "base_uri": "https://localhost:8080/",
          "height": 255
        },
        "outputId": "5bb20b66-6954-4b48-d349-764d9c7c2990"
      },
      "source": [
        "y.head"
      ],
      "execution_count": 11,
      "outputs": [
        {
          "output_type": "execute_result",
          "data": {
            "text/plain": [
              "<bound method NDFrame.head of         liquor_category_WHISKY\n",
              "0                            0\n",
              "1                            0\n",
              "2                            0\n",
              "3                            1\n",
              "4                            0\n",
              "...                        ...\n",
              "399995                       0\n",
              "399996                       0\n",
              "399997                       0\n",
              "399998                       0\n",
              "399999                       0\n",
              "\n",
              "[400000 rows x 1 columns]>"
            ]
          },
          "metadata": {
            "tags": []
          },
          "execution_count": 11
        }
      ]
    },
    {
      "cell_type": "markdown",
      "metadata": {
        "colab_type": "text",
        "id": "zIfgUT054dBe"
      },
      "source": [
        "## Modeling"
      ]
    },
    {
      "cell_type": "markdown",
      "metadata": {
        "colab_type": "text",
        "id": "dgWC8imwsEj2"
      },
      "source": [
        "###80/20 training/testing split\n",
        "<a id='datasplit'></a> \n",
        "\n",
        "Split our dataset into train/test with 80% of the data used for training and 20% of the data used to test the model"
      ]
    },
    {
      "cell_type": "code",
      "metadata": {
        "id": "CID8s-LbpT0Z",
        "colab_type": "code",
        "colab": {
          "base_uri": "https://localhost:8080/",
          "height": 204
        },
        "outputId": "a7df4943-8349-4d76-b269-6b5794cbee12"
      },
      "source": [
        "# Create the training/testing datasets\n",
        "\n",
        "# This works well for M1, M2, M5, M6, M7 on full dataset to have models train in decent\n",
        "# amount of time (no model takes longer than 3 mins)\n",
        "X_train, X_test, y_train, y_test = train_test_split(X, y, test_size=0.2, random_state=0)\n",
        "\n",
        "# This works well for M3, M4 (SVM models) - need a smaller train size to get model to train\n",
        "# in decent amount of time\n",
        "X_train_svc, X_test_svc, y_train_svc, y_test_svc = train_test_split(X, y, test_size=0.99, random_state=0)\n",
        "\n",
        "columns = X_train.columns\n",
        "\n",
        "print('Full dataset shape')\n",
        "print('X_train shape: ', X_train.shape)\n",
        "print('X_test shape: ', X_test.shape)\n",
        "print('Y_train shape: ', y_train.shape)\n",
        "print('Y_test shape: ', y_test.shape)\n",
        "\n",
        "print('\\nSubset of dataset for SVM models')\n",
        "print('X_train_svc shape: ', X_train_svc.shape)\n",
        "print('X_test_svc shape: ', X_test_svc.shape)\n",
        "print('Y_train_svc shape: ', y_train_svc.shape)\n",
        "print('Y_test_svc shape: ', y_test_svc.shape)"
      ],
      "execution_count": 12,
      "outputs": [
        {
          "output_type": "stream",
          "text": [
            "Full dataset shape\n",
            "X_train shape:  (320000, 7)\n",
            "X_test shape:  (80000, 7)\n",
            "Y_train shape:  (320000, 1)\n",
            "Y_test shape:  (80000, 1)\n",
            "\n",
            "Subset of dataset for SVM models\n",
            "X_train_svc shape:  (4000, 7)\n",
            "X_test_svc shape:  (396000, 7)\n",
            "Y_train_svc shape:  (4000, 1)\n",
            "Y_test_svc shape:  (396000, 1)\n"
          ],
          "name": "stdout"
        }
      ]
    },
    {
      "cell_type": "markdown",
      "metadata": {
        "colab_type": "text",
        "id": "Pxfgw169seqP"
      },
      "source": [
        "###M1-Logistic Regression Model\n",
        "<a id='m1'></a>\n",
        "Create a logistic regression model with all defaults used to the model, except for max_iter as we were seeing convergence warnings.  The default max_iter setting according to documentation is set to 100, so we increased to 500 and that prevented the warnings from showing up."
      ]
    },
    {
      "cell_type": "code",
      "metadata": {
        "id": "f5MyJmbDpT0d",
        "colab_type": "code",
        "colab": {
          "base_uri": "https://localhost:8080/",
          "height": 241
        },
        "outputId": "4d9c5730-46d8-4507-b787-a0357e68ac42"
      },
      "source": [
        "from sklearn.linear_model import LogisticRegression\n",
        "\n",
        "# all parameters not specified are set to their defaults\n",
        "# seeing message 'lbfgs failed to converge. Increase the number of iterations'\n",
        "# https://stats.stackexchange.com/questions/184017/how-to-fix-non-convergence-in-logisticregressioncv\n",
        "# increased max_iter to 500 \n",
        "#simplelogisticRegr = LogisticRegression()# class_weight = 'balanced')\n",
        "simplelogisticRegr = LogisticRegression(max_iter=500)# class_weight = 'balanced')\n",
        "\n",
        "\n",
        "# fit (train) the model\n",
        "# was seing an error about column-vector y was passed when 1d array expected\n",
        "# fix: https://stackoverflow.com/questions/34165731/a-column-vector-y-was-passed-when-a-1d-array-was-expected\n",
        "#simplelogisticRegr.fit(X_train, y_train)\n",
        "simplelogisticRegr.fit(X_train, y_train.values.ravel())\n",
        "\n",
        "coef = simplelogisticRegr.coef_[0]\n",
        "print ('Coefficients: ', '\\n', coef)\n",
        "\n",
        "classes = simplelogisticRegr.classes_[0]\n",
        "print()\n",
        "print ('Classes: ', '\\n', classes)\n",
        "\n",
        "intercept = simplelogisticRegr.intercept_[0]\n",
        "print()\n",
        "print ('Intercept: ', '\\n', intercept)\n",
        "\n",
        "params =simplelogisticRegr.get_params(deep=True)\n",
        "print()\n",
        "print ('Params: ', '\\n', params)\n"
      ],
      "execution_count": 13,
      "outputs": [
        {
          "output_type": "stream",
          "text": [
            "Coefficients:  \n",
            " [ 8.16007331e-02 -8.20911453e-01  4.47644096e+00 -1.14928131e+00\n",
            "  9.02512175e-01  9.68893944e-02 -3.71429137e-03]\n",
            "\n",
            "Classes:  \n",
            " 0\n",
            "\n",
            "Intercept:  \n",
            " -8.016332861549207\n",
            "\n",
            "Params:  \n",
            " {'C': 1.0, 'class_weight': None, 'dual': False, 'fit_intercept': True, 'intercept_scaling': 1, 'l1_ratio': None, 'max_iter': 500, 'multi_class': 'auto', 'n_jobs': None, 'penalty': 'l2', 'random_state': None, 'solver': 'lbfgs', 'tol': 0.0001, 'verbose': 0, 'warm_start': False}\n"
          ],
          "name": "stdout"
        }
      ]
    },
    {
      "cell_type": "markdown",
      "metadata": {
        "colab_type": "text",
        "id": "-wRKRHAmuFzL"
      },
      "source": [
        "#### M1-Predictions (92% full ds)\n",
        "<a id='m1_predict'></a>"
      ]
    },
    {
      "cell_type": "code",
      "metadata": {
        "id": "aiatCvdDpT0h",
        "colab_type": "code",
        "colab": {
          "base_uri": "https://localhost:8080/",
          "height": 306
        },
        "outputId": "af5c302e-c6dc-4bde-f758-14eff8b38f0c"
      },
      "source": [
        "# Do predictions\n",
        "from sklearn.metrics import classification_report, confusion_matrix\n",
        "from sklearn import metrics\n",
        "\n",
        "# Use score method to get accuracy of model\n",
        "score = simplelogisticRegr.score(X_test, y_test)\n",
        "print('Accuracy:\\n', score)\n",
        "\n",
        "# Predictions\n",
        "predictions = simplelogisticRegr.predict(X_test)\n",
        "print('\\nConfusion Matrix:\\n', confusion_matrix(y_test, predictions))\n",
        "\n",
        "# Classification Report\n",
        "\n",
        "###M1-Evaluation\n",
        "print('\\nClassification Report:\\n', classification_report(y_test, predictions))"
      ],
      "execution_count": 14,
      "outputs": [
        {
          "output_type": "stream",
          "text": [
            "Accuracy:\n",
            " 0.9194375\n",
            "\n",
            "Confusion Matrix:\n",
            " [[70559  1118]\n",
            " [ 5327  2996]]\n",
            "\n",
            "Classification Report:\n",
            "               precision    recall  f1-score   support\n",
            "\n",
            "           0       0.93      0.98      0.96     71677\n",
            "           1       0.73      0.36      0.48      8323\n",
            "\n",
            "    accuracy                           0.92     80000\n",
            "   macro avg       0.83      0.67      0.72     80000\n",
            "weighted avg       0.91      0.92      0.91     80000\n",
            "\n"
          ],
          "name": "stdout"
        }
      ]
    },
    {
      "cell_type": "markdown",
      "metadata": {
        "colab_type": "text",
        "id": "6dj-uDeWtElF"
      },
      "source": [
        "####M1-Evaluation\n",
        "We ran a \"simple\" logistic regression model using the default hyperparameters of C=1.0, no weighting of the classes and with a ridge regression penalty. \n",
        "\n",
        "As a result, our model achieved 92% accuracy which is a bit higher than the accuracy we would achieve if we were to guess randomly based on the distribution of whiskeys vs non whiskeys. From here, we can use a grid search procedure to tune our hyperparameters to improve our accuracy score. \n",
        "\n"
      ]
    },
    {
      "cell_type": "markdown",
      "metadata": {
        "colab_type": "text",
        "id": "mC7230pKVoWS"
      },
      "source": [
        "### M2-Logistic Regression Model w/ Gridsearch for Hyperparameter Tuning\n",
        "<a id='m2'></a>\n",
        "\n",
        "Find scalings for each column that make this zero mean and unit std the line of code above only looks at training data to get mean and std and we can use it to transform new feature data"
      ]
    },
    {
      "cell_type": "code",
      "metadata": {
        "id": "UmINVHHPpT0k",
        "colab_type": "code",
        "colab": {}
      },
      "source": [
        "# scale attributes by the training set\n",
        "scl_obj = StandardScaler()\n",
        "scl_obj.fit(X_train) \n",
        "\n",
        "# apply to training on full dataset\n",
        "X_train_scaled = scl_obj.transform(X_train) \n",
        "X_test_scaled = scl_obj.transform(X_test)\n",
        "\n",
        "# do scaling on the subset of data used for svm models\n",
        "scl_obj_svc = StandardScaler()\n",
        "scl_obj_svc.fit(X_train_svc) \n",
        "\n",
        "# apply to training on full dataset\n",
        "X_train_svc_scaled = scl_obj_svc.transform(X_train_svc) \n",
        "X_test_svc_scaled = scl_obj_svc.transform(X_test_svc)"
      ],
      "execution_count": 0,
      "outputs": []
    },
    {
      "cell_type": "markdown",
      "metadata": {
        "colab_type": "text",
        "id": "1fbRn1vBWo6M"
      },
      "source": [
        "Use GridSearch and CrossValidation to find the best logistic regression hyperparameter combination"
      ]
    },
    {
      "cell_type": "code",
      "metadata": {
        "id": "UKbcpssEpT0o",
        "colab_type": "code",
        "colab": {
          "base_uri": "https://localhost:8080/",
          "height": 442
        },
        "outputId": "b6e747e7-9da0-47f6-f810-48db3d94e816"
      },
      "source": [
        "#Logisitic regression 10-fold cross-validation \n",
        "\n",
        "#Divide data into test and training splits\n",
        "# full dataset w/ splits=5, test_size=.5 takes over 5 mins to get to just 196 tasks (out of 600 fits), stopped process, taking too long\n",
        "#cv = ShuffleSplit(n_splits=5, test_size=0.5, random_state=0)\n",
        "\n",
        "# full dataset w/ splits=2, test_size=.8 takes 3 mins\n",
        "cv = ShuffleSplit(n_splits=2, test_size=0.8, random_state=0)\n",
        "\n",
        "regEstimator = LogisticRegression()\n",
        "\n",
        "\n",
        "parameters = { 'penalty':['l2', 'l1', 'elasticnet']\n",
        "              ,'C': [0.001, 1, 10, 100]\n",
        "              ,'class_weight': ['balanced', 'none']\n",
        "              ,'random_state': [0]\n",
        "              ,'solver': ['lbfgs', 'saga', 'liblinear', 'newton-cg', 'sag']\n",
        "              ,'max_iter':[100]\n",
        "             }\n",
        "\n",
        "#Create a grid search object using the  \n",
        "\n",
        "regGridSearch = GridSearchCV(estimator=regEstimator\n",
        "                   , n_jobs=-1 # jobs to run in parallel\n",
        "                   , verbose=1 # low verbosity\n",
        "                   , param_grid=parameters\n",
        "                   , cv=cv # KFolds = 10\n",
        "                   , scoring='accuracy')\n",
        "\n",
        "#Perform hyperparameter search to find the best combination of parameters for our data\n",
        "regGridSearch.fit(X_train_scaled, y_train.values.ravel())"
      ],
      "execution_count": 16,
      "outputs": [
        {
          "output_type": "stream",
          "text": [
            "Fitting 2 folds for each of 120 candidates, totalling 240 fits\n"
          ],
          "name": "stdout"
        },
        {
          "output_type": "stream",
          "text": [
            "[Parallel(n_jobs=-1)]: Using backend LokyBackend with 2 concurrent workers.\n",
            "[Parallel(n_jobs=-1)]: Done  46 tasks      | elapsed:    8.9s\n",
            "[Parallel(n_jobs=-1)]: Done 196 tasks      | elapsed:  2.6min\n",
            "[Parallel(n_jobs=-1)]: Done 240 out of 240 | elapsed:  2.9min finished\n"
          ],
          "name": "stderr"
        },
        {
          "output_type": "execute_result",
          "data": {
            "text/plain": [
              "GridSearchCV(cv=ShuffleSplit(n_splits=2, random_state=0, test_size=0.8, train_size=None),\n",
              "             error_score=nan,\n",
              "             estimator=LogisticRegression(C=1.0, class_weight=None, dual=False,\n",
              "                                          fit_intercept=True,\n",
              "                                          intercept_scaling=1, l1_ratio=None,\n",
              "                                          max_iter=100, multi_class='auto',\n",
              "                                          n_jobs=None, penalty='l2',\n",
              "                                          random_state=None, solver='lbfgs',\n",
              "                                          tol=0.0001, verbose=0,\n",
              "                                          warm_start=False),\n",
              "             iid='deprecated', n_jobs=-1,\n",
              "             param_grid={'C': [0.001, 1, 10, 100],\n",
              "                         'class_weight': ['balanced', 'none'],\n",
              "                         'max_iter': [100],\n",
              "                         'penalty': ['l2', 'l1', 'elasticnet'],\n",
              "                         'random_state': [0],\n",
              "                         'solver': ['lbfgs', 'saga', 'liblinear', 'newton-cg',\n",
              "                                    'sag']},\n",
              "             pre_dispatch='2*n_jobs', refit=True, return_train_score=False,\n",
              "             scoring='accuracy', verbose=1)"
            ]
          },
          "metadata": {
            "tags": []
          },
          "execution_count": 16
        }
      ]
    },
    {
      "cell_type": "markdown",
      "metadata": {
        "colab_type": "text",
        "id": "HthK3VD2cfph"
      },
      "source": [
        "Show the best estimators from GridSearch"
      ]
    },
    {
      "cell_type": "code",
      "metadata": {
        "id": "kGyip69hpT0r",
        "colab_type": "code",
        "colab": {
          "base_uri": "https://localhost:8080/",
          "height": 102
        },
        "outputId": "546151fd-85d3-4150-81fc-d7915e16cea5"
      },
      "source": [
        "#Diplay the top model parameters\n",
        "regGridSearch.best_estimator_"
      ],
      "execution_count": 20,
      "outputs": [
        {
          "output_type": "execute_result",
          "data": {
            "text/plain": [
              "LogisticRegression(C=1, class_weight='none', dual=False, fit_intercept=True,\n",
              "                   intercept_scaling=1, l1_ratio=None, max_iter=100,\n",
              "                   multi_class='auto', n_jobs=None, penalty='l2',\n",
              "                   random_state=0, solver='saga', tol=0.0001, verbose=0,\n",
              "                   warm_start=False)"
            ]
          },
          "metadata": {
            "tags": []
          },
          "execution_count": 20
        }
      ]
    },
    {
      "cell_type": "markdown",
      "metadata": {
        "colab_type": "text",
        "id": "H_52IJqizdEh"
      },
      "source": [
        "After running our grid search, we found that the ideal model uses a C=0.001 which is different from our default model of C=1.0. Otherwise, the other parameters remained the same. \n",
        "\n",
        "\n",
        "---\n",
        "\n",
        "\n",
        "####M2-Predictions (92% full ds)\n",
        "<a id='m2_predict'></a>\n",
        "\n",
        "\n",
        "Let's see how this does with our accuracy score. "
      ]
    },
    {
      "cell_type": "code",
      "metadata": {
        "id": "V0lfUNzmpT0u",
        "colab_type": "code",
        "colab": {
          "base_uri": "https://localhost:8080/",
          "height": 306
        },
        "outputId": "329c69d2-a8da-4901-a066-a8e0c5edcff3"
      },
      "source": [
        "type(regGridSearch)\n",
        "\n",
        "gridresults = pd.DataFrame(regGridSearch.cv_results_)\n",
        "\n",
        "columns = ['param_solver','param_C', 'param_max_iter', 'class_weight', 'param_penalty', 'mean_test_score', 'rank_test_score']\n",
        "gridresults = pd.DataFrame(gridresults, columns=columns)\n",
        "\n",
        "gridresults.sort_values(by=['rank_test_score'], ascending=True).head(20)\n",
        "\n",
        "y_hat = regGridSearch.predict(X_test_scaled) # get test set precitions\n",
        "\n",
        "# now let's get the accuracy and confusion matrix for this iterations of training/testing\n",
        "acc = mt.accuracy_score(y_test,y_hat)\n",
        "print('Accuracy:\\n', acc)\n",
        "\n",
        "# Confustion matrix\n",
        "conf = mt.confusion_matrix(y_test, y_hat)\n",
        "print('\\nConfusion Matrix:\\n', conf)\n",
        "\n",
        "# Get predictions and print the classification report\n",
        "predictions2 = regGridSearch.predict(X_test)\n",
        "from sklearn.metrics import classification_report, confusion_matrix\n",
        "print('\\nClassification Report:\\n', classification_report(y_test, y_hat))"
      ],
      "execution_count": 21,
      "outputs": [
        {
          "output_type": "stream",
          "text": [
            "Accuracy:\n",
            " 0.9191875\n",
            "\n",
            "Confusion Matrix:\n",
            " [[70559  1118]\n",
            " [ 5347  2976]]\n",
            "\n",
            "Classification Report:\n",
            "               precision    recall  f1-score   support\n",
            "\n",
            "           0       0.93      0.98      0.96     71677\n",
            "           1       0.73      0.36      0.48      8323\n",
            "\n",
            "    accuracy                           0.92     80000\n",
            "   macro avg       0.83      0.67      0.72     80000\n",
            "weighted avg       0.91      0.92      0.91     80000\n",
            "\n"
          ],
          "name": "stdout"
        }
      ]
    },
    {
      "cell_type": "markdown",
      "metadata": {
        "colab_type": "text",
        "id": "k6ZiT2noqgGS"
      },
      "source": [
        "####M2-Evaluation\n",
        "After running a grid search to uncover the top performing logistic regression hyperparameter combination, we are seeing that the accuracy score is close to our simple logistic regression model, however, it did come in close to the same. \n",
        "\n",
        "The Simple Logistic Regression model was the winner with a C=1 which is less regularization than the grid search that called for a stronger regularization at C = 0.001. \n",
        "\n",
        "---\n",
        "\n",
        "\n",
        "ROC Curves and AUC in Python\n",
        "https://machinelearningmastery.com/roc-curves-and-precision-recall-curves-for-classification-in-python/\n",
        "\n",
        "Since our accuracy was better with our logistic regression model, we will use this in building an ROC curve to show how our model is performing. \n",
        "\n",
        "\n"
      ]
    },
    {
      "cell_type": "code",
      "metadata": {
        "id": "8b3wZyOYpT0w",
        "colab_type": "code",
        "colab": {}
      },
      "source": [
        "# predict probabilities\n",
        "lr_probs = simplelogisticRegr.predict_proba(X_test_scaled)\n",
        "ns_probs = [0 for _ in range(len(y_test))]\n",
        "# keep probabilities for the positive outcome only\n",
        "lr_probs = lr_probs[:, 1]\n",
        "# calculate scores\n",
        "ns_auc = roc_auc_score(y_test, ns_probs)\n",
        "lr_auc = roc_auc_score(y_test, lr_probs)\n",
        "# summarize scores\n",
        "print('No Skill: ROC AUC=%.3f' % (ns_auc))\n",
        "print('Logistic: ROC AUC=%.3f' % (lr_auc))"
      ],
      "execution_count": 0,
      "outputs": []
    },
    {
      "cell_type": "code",
      "metadata": {
        "id": "UGLTnB1apT0z",
        "colab_type": "code",
        "colab": {}
      },
      "source": [
        "# calculate roc curves\n",
        "ns_fpr, ns_tpr, _ = roc_curve(y_test, ns_probs)\n",
        "lr_fpr, lr_tpr, _ = roc_curve(y_test, lr_probs)\n",
        "\n",
        "# plot the roc curve for the model\n",
        "pyplot.plot(ns_fpr, ns_tpr, linestyle='--', label='No Skill')\n",
        "pyplot.plot(lr_fpr, lr_tpr, marker='.', label='Logistic')\n",
        "\n",
        "# axis labels\n",
        "pyplot.xlabel('False Positive Rate')\n",
        "pyplot.ylabel('True Positive Rate')\n",
        "\n",
        "# show the legend\n",
        "pyplot.legend()\n",
        "\n",
        "# show the plot\n",
        "pyplot.show()"
      ],
      "execution_count": 0,
      "outputs": []
    },
    {
      "cell_type": "markdown",
      "metadata": {
        "colab_type": "text",
        "id": "XsPBghgPsugq"
      },
      "source": [
        "Looking at our true positive rate compared to false-positive rate, with the diagonal line representing a 50% false-positive rate, we can see that our model is producing more True positives than false-positives.\n",
        "\n",
        "\n",
        "\n",
        "---\n",
        "\n",
        "Running a Precision/ Recall line plot"
      ]
    },
    {
      "cell_type": "code",
      "metadata": {
        "id": "8G6-j4NapT02",
        "colab_type": "code",
        "colab": {}
      },
      "source": [
        "ywhiskcnt = y_test.apply(pd.value_counts)\n",
        "ycnt = ywhiskcnt.loc[1:1, :]"
      ],
      "execution_count": 0,
      "outputs": []
    },
    {
      "cell_type": "code",
      "metadata": {
        "id": "hNotSCoapT04",
        "colab_type": "code",
        "colab": {}
      },
      "source": [
        "# predict probabilities\n",
        "lr_probs = simplelogisticRegr.predict_proba(X_test_scaled)\n",
        "# keep probabilities for the positive outcome only\n",
        "lr_probs = lr_probs[:, 1]\n",
        "# predict class values\n",
        "yhat = regGridSearch.predict(X_test_scaled)\n",
        "lr_precision, lr_recall, _ = precision_recall_curve(y_test, lr_probs)\n",
        "lr_f1, lr_auc = f1_score(y_test, yhat), auc(lr_recall, lr_precision)\n",
        "# summarize scores\n",
        "print('Logistic: f1=%.3f auc=%.3f' % (lr_f1, lr_auc))\n",
        "# plot the precision-recall curves\n",
        "ywhiskcnt = y_test.apply(pd.value_counts)\n",
        "ycnt = ywhiskcnt.loc[1:1, :]\n",
        "no_skill = ycnt.values[0] / len(y_test)\n",
        "#no_skill = len(y_test[y_test==1]) / len(y_test)\n",
        "no_skill\n",
        "#no_skill = 0.2\n",
        "pyplot.plot([0, 1], [no_skill, no_skill], linestyle='--', label='No Skill')\n",
        "pyplot.plot(lr_recall, lr_precision, marker='.', label='Logistic')\n",
        "# axis labels\n",
        "pyplot.xlabel('Recall')\n",
        "pyplot.ylabel('Precision')\n",
        "# show the legend\n",
        "pyplot.legend()\n",
        "# show the plot\n",
        "pyplot.show()"
      ],
      "execution_count": 0,
      "outputs": []
    },
    {
      "cell_type": "markdown",
      "metadata": {
        "colab_type": "text",
        "id": "lhJSZKDgtn08"
      },
      "source": [
        "From the precision/ recall line plot above, we can see that our model tends to lose precision as we get a higher recall, with the bottoming out of 0.5 precision and 0.2 being the point of spiking the performance. \n",
        "\n",
        "So essentially, it is saying that our model is better at predicting the correct line items that were whiskeys than correctly discerning between whiskeys and non whiskeys. "
      ]
    },
    {
      "cell_type": "markdown",
      "metadata": {
        "colab_type": "text",
        "id": "dC7CCKAznSkt"
      },
      "source": [
        "### M3-SVM Model\n",
        "<a id='m3'></a>"
      ]
    },
    {
      "cell_type": "code",
      "metadata": {
        "id": "81-lppCOpT0-",
        "colab_type": "code",
        "colab": {}
      },
      "source": [
        "%%time\n",
        "\n",
        "#possibility to scale it?\n",
        "from sklearn.svm import LinearSVC\n",
        "from sklearn import preprocessing\n",
        "X_train_svc_scaled \n",
        "X_test_svc_scaled \n",
        "#X_train = preprocessing.scale(X_train_svc)\n",
        "#X_test = preprocessing.scale(X_test_svc)\n",
        "\n",
        "# all parameters not specified are set to their defaults\n",
        "#https://stackabuse.com/implementing-svm-and-kernel-svm-with-pythons-scikit-learn/\n",
        "from sklearn.svm import SVC\n",
        "#svclassifier = SVC(kernel='poly', degree=8)\n",
        "#svclassifier = SVC(kernel='rbf')\n",
        "#svclassifier = SVC(kernel='linear', C = 1000, random_state=0)\n",
        "#svclassifier = LinearSVC(C=100)\n",
        "\n",
        "# still getting ConvergenceWarning w/ max_iter=100000 w/ full dataset\n",
        "# C=100, max_iter=100000 taking over up to an hour to run on full dataset\n",
        "# In the 80/20 training/testing split, use the smaller train set of only 1% and max_iter=10000\n",
        "# takes less than 2 mins to complete.  Keep seeing convergance warnings on values less than 100000\n",
        "# with more than 4000 rows of training data\n",
        "svclassifier = LinearSVC(C=100, max_iter=100000) \n",
        "\n",
        "# Fit (train) the model\n",
        "#model = svclassifier.fit(X_train_svc_scaled,  y_train_svc)\n",
        "model = svclassifier.fit(X_train_svc_scaled,  y_train_svc.values.ravel())\n",
        "model"
      ],
      "execution_count": 0,
      "outputs": []
    },
    {
      "cell_type": "markdown",
      "metadata": {
        "colab_type": "text",
        "id": "MVTedd2GpLtU"
      },
      "source": [
        "####M3-Predictions (92% sub ds)\n",
        "<a id='m3_predict'></a>"
      ]
    },
    {
      "cell_type": "code",
      "metadata": {
        "id": "9WTFJsJOpT1C",
        "colab_type": "code",
        "colab": {}
      },
      "source": [
        "# Returns a NumPy Array\n",
        "predictions_svc = svclassifier.predict(X_test_svc_scaled)\n",
        "from sklearn.metrics import classification_report, confusion_matrix\n",
        "\n",
        "acc = mt.accuracy_score(y_test_svc,predictions_svc)\n",
        "print(\"Accuracy:\\n\", acc )\n",
        "\n",
        "print(\"\\nConfusion matrix:\")\n",
        "print(confusion_matrix(y_test_svc, predictions_svc))\n",
        "\n",
        "print(\"\\nClassification report:\")\n",
        "print(classification_report(y_test_svc, predictions_svc))\n"
      ],
      "execution_count": 0,
      "outputs": []
    },
    {
      "cell_type": "markdown",
      "metadata": {
        "colab_type": "text",
        "id": "yRO9IorFD6A6"
      },
      "source": [
        "####M3-Evaluation\n",
        "For our Support Vector Machine, we were able to derive an 92% Accuracy with a precision of 92% and Recall of 99%. \n",
        "\n",
        "\n",
        "---\n",
        "\n",
        "\n",
        "Now, will look at the weights to determine feature importance\n",
        "\n"
      ]
    },
    {
      "cell_type": "code",
      "metadata": {
        "id": "UIo0w1w6pT1E",
        "colab_type": "code",
        "colab": {}
      },
      "source": [
        "# if using linear kernel, these make sense to look at (not otherwise, why?)\n",
        "print(svclassifier.coef_)\n",
        "weights = pd.Series(svclassifier.coef_[0],index=X.columns)\n",
        "weights.plot(kind='bar')"
      ],
      "execution_count": 0,
      "outputs": []
    },
    {
      "cell_type": "markdown",
      "metadata": {
        "colab_type": "text",
        "id": "_EsEVp7IFH1Q"
      },
      "source": [
        "Looking at the key values associated with driving the prediction classifier of whiskey vs non whiskey, we can see that the state bottle cost and bottles sold are the key factor in driving performance, followed by the sale amount of the transation which has a negative relationship to whether or not a sale was a whiskey."
      ]
    },
    {
      "cell_type": "markdown",
      "metadata": {
        "colab_type": "text",
        "id": "4wF80UyFy1DN"
      },
      "source": [
        "###M4-SVM Model w/ Hyperparameter Tuning\n",
        "<a id='m4'></a>\n",
        "\n",
        "Create a Support Vector Machine model.  Find scalings for each column that make this zero mean and standard deviation.   Will scale at the training data to get mean and standard deviation and can use it to transform new feature data"
      ]
    },
    {
      "cell_type": "code",
      "metadata": {
        "id": "PP2yWy6QpT1I",
        "colab_type": "code",
        "colab": {}
      },
      "source": [
        "from sklearn.svm import SVC\n",
        "from sklearn.preprocessing import StandardScaler\n",
        "\n",
        "# scale attributes by the training set\n",
        "scl_obj = StandardScaler()\n",
        "scl_obj.fit(X_train_svc) # find scalings for each column that make this zero mean and unit std\n",
        "# the line of code above only looks at training data to get mean and std and we can use it \n",
        "# to transform new feature data\n",
        "\n",
        "# apply to training\n",
        "X_train_svc_scaled = scl_obj.transform(X_train_svc) \n",
        "X_test_svc_scaled = scl_obj.transform(X_test_svc)\n",
        "\n",
        "# train the model just as before\n",
        "svm_clf = SVC(C=0.5, kernel='rbf', degree=3, gamma='auto') # get object\n",
        "#model3 = svm_clf.fit(X_train_scaled, y_train)  # train object\n",
        "model3 = svm_clf.fit(X_train_svc_scaled, y_train_svc.values.ravel()) \n",
        "model3"
      ],
      "execution_count": 0,
      "outputs": []
    },
    {
      "cell_type": "markdown",
      "metadata": {
        "colab_type": "text",
        "id": "kfoS-ClrP2bv"
      },
      "source": [
        "####M4-Predictions (92% sub ds)\n",
        "<a id='m4_predict'></a>"
      ]
    },
    {
      "cell_type": "code",
      "metadata": {
        "id": "FGIE-A3qpT1K",
        "colab_type": "code",
        "colab": {}
      },
      "source": [
        "# get test set precitions\n",
        "y_hat_svc = svm_clf.predict(X_test_svc_scaled) \n",
        "\n",
        "acc_svc = mt.accuracy_score(y_test_svc,y_hat_svc)\n",
        "conf_svc = mt.confusion_matrix(y_test_svc,y_hat_svc)\n",
        "print('Accuracy:\\n', acc_svc )\n",
        "\n",
        "print(\"\\nConfusion matrix:\")\n",
        "print(conf_svc)\n",
        "\n",
        "print(\"\\nClassification report:\")\n",
        "print(classification_report(y_test_svc,y_hat_svc))"
      ],
      "execution_count": 0,
      "outputs": []
    },
    {
      "cell_type": "markdown",
      "metadata": {
        "colab_type": "text",
        "id": "tWHeJoWBEkvw"
      },
      "source": [
        "####M4-Evaluation\n",
        "With SVM Model with Hyperparameter Tuning, we attain the highest accuracy score with over 92%, with the highest precision, recall and F1 Score achieved with our model. The SVM CLF will be the model we chose in our interpretation. "
      ]
    },
    {
      "cell_type": "code",
      "metadata": {
        "id": "0T_SYD0dpT1N",
        "colab_type": "code",
        "colab": {}
      },
      "source": [
        "# look at the support vectors\n",
        "print(svm_clf.support_vectors_.shape)\n",
        "print(svm_clf.support_.shape)\n",
        "print(svm_clf.n_support_ )"
      ],
      "execution_count": 0,
      "outputs": []
    },
    {
      "cell_type": "markdown",
      "metadata": {
        "colab_type": "text",
        "id": "IGMJSwdCra0Z"
      },
      "source": [
        "So the analysis here is basically telling us what the original statistics of the data looked like, and also what the statistics of the support vectors looked like. We can see that the separation in distributions is not as great as the separation for the original data. This is because the support vectors tend to be instances on the edge of the class boundaries and also instances that are classified incorrectly in the training data.\n",
        "\n",
        "You can also look at joint plots of the data and see how relationships have changed."
      ]
    },
    {
      "cell_type": "markdown",
      "metadata": {
        "colab_type": "text",
        "id": "yybaX_KjymeS"
      },
      "source": [
        "### M5-Logistic Regression w/ SGD Optimizer \n",
        "<a id='m5'></a>"
      ]
    },
    {
      "cell_type": "code",
      "metadata": {
        "id": "i3vJ4x02pT1R",
        "colab_type": "code",
        "colab": {}
      },
      "source": [
        "%%time\n",
        "\n",
        "# now divide the data into test and train using scikit learn built-ins\n",
        "# n_splits=2, test_size=0.8, random_state=0 takes only a few seconds to run\n",
        "cv = StratifiedShuffleSplit(n_splits=2, test_size=0.8, random_state=0)\n",
        "regularize_const = 0.01\n",
        "iterations = 5\n",
        "\n",
        "# use some compact notation for creating a logistic regression classifier with stochastic descent\n",
        "log_sgd = SGDClassifier(alpha=regularize_const,\n",
        "        fit_intercept=True, l1_ratio=0.0, learning_rate='optimal',\n",
        "        loss='log', n_iter_no_change=iterations, n_jobs=-1, penalty='l2')"
      ],
      "execution_count": 0,
      "outputs": []
    },
    {
      "cell_type": "markdown",
      "metadata": {
        "colab_type": "text",
        "id": "xNIK_794dr1n"
      },
      "source": [
        "####M5-Predictions (91% full ds)\n",
        "<a id='m5_predict'></a>"
      ]
    },
    {
      "cell_type": "code",
      "metadata": {
        "id": "tlr0XZK-pT1U",
        "colab_type": "code",
        "colab": {}
      },
      "source": [
        "scl = StandardScaler()\n",
        "\n",
        "for train_idx, test_idx in cv.split(X,y):\n",
        "  log_sgd.fit(scl.fit_transform(X.iloc[train_idx]),y.iloc[train_idx].values.ravel())\n",
        "  yhat2 = log_sgd.predict(scl.transform(X.iloc[test_idx]))\n",
        "    \n",
        "  conf = mt.confusion_matrix(y.iloc[test_idx],yhat2)\n",
        "  acc = mt.accuracy_score(y.iloc[test_idx],yhat2)\n",
        "\n",
        "\n",
        "print('\\nAccuracy:\\n', acc)\n",
        "print('\\nConfusion Matrix:\\n', conf)\n",
        "print('\\nClassification Report:\\n', classification_report(y.iloc[test_idx], yhat2))"
      ],
      "execution_count": 0,
      "outputs": []
    },
    {
      "cell_type": "markdown",
      "metadata": {
        "colab_type": "text",
        "id": "2MRoMK7RG1fk"
      },
      "source": [
        "####M5-Evaluation\n",
        "Of all our models, the SGD \"Simple\" model (M5) had the worst accuracy score of 90%. "
      ]
    },
    {
      "cell_type": "markdown",
      "metadata": {
        "colab_type": "text",
        "id": "Z2q8d2SfnCnQ"
      },
      "source": [
        "###M6-Logistic Regression w/ SGD Optimizer and ParameterGrid for Hyperparameter Tuning (M6)\n",
        "<a id='m6'></a>\n",
        "\n",
        "With this parameterization tuning set, we will run a hyperparameter fitting model called Parfit."
      ]
    },
    {
      "cell_type": "code",
      "metadata": {
        "id": "Od0Zul0ZpT1Y",
        "colab_type": "code",
        "colab": {}
      },
      "source": [
        "#@title\n",
        "# Install parfit package \n",
        "\n",
        "# The ! is if you're in colab\n",
        "!pip install parfit\n",
        "\n",
        "# if not running in colab\n",
        "#pip install parfit"
      ],
      "execution_count": 0,
      "outputs": []
    },
    {
      "cell_type": "code",
      "metadata": {
        "id": "HEtFRMC7pT1d",
        "colab_type": "code",
        "colab": {}
      },
      "source": [
        "from sklearn.model_selection import ParameterGrid\n",
        "from sklearn.linear_model import LogisticRegression\n",
        "from sklearn.metrics import roc_auc_score\n",
        "import parfit.parfit as pf\n",
        "\n",
        "# takes less than 2 mins to complete\n",
        "grid = {\n",
        "    'alpha': [1e-4, 1e-3, 1e-2, 1e-1, 1e0, 1e1, 1e2, 1e3], # learning rate\n",
        "   # 'n_iter': [1000], # number of epochs\n",
        "    'loss': ['log'], # logistic regression,\n",
        "    'penalty': ['l2'],\n",
        "    'n_jobs': [-1]\n",
        "}\n",
        "\n",
        "paramGrid = ParameterGrid(grid)\n",
        "\n",
        "bestModel = pf.bestFit(SGDClassifier, paramGrid,\n",
        "           X_train, y_train, X_test, y_test, \n",
        "           metric = roc_auc_score, \n",
        "           scoreLabel = \"AUC\")\n",
        "\n",
        "print(bestModel)\n",
        "\n",
        "#Perform hyperparameter search to find the best combination of parameters for our data\n"
      ],
      "execution_count": 0,
      "outputs": []
    },
    {
      "cell_type": "markdown",
      "metadata": {
        "colab_type": "text",
        "id": "l6FjXsAg7X1N"
      },
      "source": [
        "The parameter fit helped us derive a custom model for the SGD model which gave us an alpha of 0.001, with a penalty of L2 which is a ridge regression. "
      ]
    },
    {
      "cell_type": "markdown",
      "metadata": {
        "colab_type": "text",
        "id": "7thJ6lG7dA0o"
      },
      "source": [
        "####M6-Predictions (92% full ds)\n",
        "<a id='m6_predict'></a>"
      ]
    },
    {
      "cell_type": "code",
      "metadata": {
        "id": "OOT2VvohpT1h",
        "colab_type": "code",
        "colab": {}
      },
      "source": [
        "# use some compact notation for creating a logistic regression classifier with stochastic descent\n",
        "log_sgd2 = SGDClassifier(alpha=0.0001, average=False, class_weight=None,\n",
        "              early_stopping=False, epsilon=0.1, eta0=0.0, fit_intercept=True,\n",
        "              l1_ratio=0.15, learning_rate='optimal', loss='log', max_iter=1000,\n",
        "              n_iter_no_change=5, n_jobs=-1, penalty='l2', power_t=0.5,\n",
        "              random_state=None, shuffle=True, tol=0.001,\n",
        "              validation_fraction=0.1, verbose=0, warm_start=False)\n",
        "\n",
        "model2 = log_sgd2.fit(scl.fit_transform(X.iloc[train_idx]),y.iloc[train_idx])\n",
        "\n",
        "for train_idx, test_idx in cv.split(X,y):\n",
        "  log_sgd2.fit(scl.fit_transform(X.iloc[train_idx]),y.iloc[train_idx])\n",
        "  yhat = log_sgd2.predict(scl.transform(X.iloc[test_idx]))\n",
        "    \n",
        "  conf = mt.confusion_matrix(y.iloc[test_idx],yhat)\n",
        "  acc = mt.accuracy_score(y.iloc[test_idx],yhat)\n",
        "\n",
        "\n",
        "print(\"Accuracy:\\n\", acc )\n",
        "print(\"\\nConfusion matrix:\", conf)\n",
        "print(\"\\nClassification report:\\n\", classification_report(y.iloc[test_idx], yhat))"
      ],
      "execution_count": 0,
      "outputs": []
    },
    {
      "cell_type": "markdown",
      "metadata": {
        "colab_type": "text",
        "id": "C3lgvVqN0BXO"
      },
      "source": [
        "####M6-Evaluation\n",
        "After installing and running the Hyperparameter Optimization using parfit (https://towardsdatascience.com/how-to-make-sgd-classifier-perform-as-well-as-logistic-regression-using-parfit-cc10bca2d3c4), we can see that we improved upon our original Stochastic Gradient Descent Model with an accuracy score of 91.64%\n",
        "\n",
        "This SGD and the Tuned SVM model will be the ones we use moving forward. "
      ]
    },
    {
      "cell_type": "markdown",
      "metadata": {
        "colab_type": "text",
        "id": "VtIYmTob6w0E"
      },
      "source": [
        "###M7-SVM w/ SGD Optimizer"
      ]
    },
    {
      "cell_type": "code",
      "metadata": {
        "id": "VQ5sJm7opT1k",
        "colab_type": "code",
        "colab": {}
      },
      "source": [
        "%%time\n",
        "#Divide data into test and training splits\n",
        "# n_splits=2, test_size=0.8, random_state=0 takes less than a min\n",
        "cv = StratifiedShuffleSplit(n_splits=2, test_size=0.8, random_state=0) \n",
        "\n",
        "from sklearn.linear_model import SGDClassifier\n",
        "regularize_const = 0.01\n",
        "iterations = 500\n",
        "\n",
        "# use some compact notation for creating a linear SVM classifier with stochastic gradient descent\n",
        "svm_sgd = SGDClassifier(alpha=regularize_const,\n",
        "        fit_intercept=True, l1_ratio=0.0, learning_rate='optimal',\n",
        "        loss='hinge', n_iter_no_change=iterations, n_jobs=-1, penalty='l2')"
      ],
      "execution_count": 0,
      "outputs": []
    },
    {
      "cell_type": "markdown",
      "metadata": {
        "colab_type": "text",
        "id": "JCmYin_H_Iit"
      },
      "source": [
        "####M7-Predictions (90% full ds)"
      ]
    },
    {
      "cell_type": "code",
      "metadata": {
        "id": "QrXW8yd3pT1p",
        "colab_type": "code",
        "colab": {}
      },
      "source": [
        "scl = StandardScaler()\n",
        "\n",
        "for train_idx, test_idx in cv.split(X,y):\n",
        "  svm_sgd.fit(scl.fit_transform(X.iloc[train_idx]),y.iloc[train_idx].values.ravel())\n",
        "  yhat = svm_sgd.predict(scl.transform(X.iloc[test_idx]))\n",
        "    \n",
        "  conf = mt.confusion_matrix(y.iloc[test_idx],yhat)\n",
        "  acc = mt.accuracy_score(y.iloc[test_idx],yhat)\n",
        "\n",
        "print(\"Accuracy:\\n\", acc )\n",
        "print(\"\\nConfusion matrix:\\n\", conf)\n",
        "print(\"\\nClassification report:\\n\", classification_report(y.iloc[test_idx], yhat))"
      ],
      "execution_count": 0,
      "outputs": []
    },
    {
      "cell_type": "markdown",
      "metadata": {
        "colab_type": "text",
        "id": "nw-SuYBc_ML3"
      },
      "source": [
        "####M7-Evaluation\n",
        "\n",
        "Using SVM model with the Stochastic Gradient Descent with an accuracy of only 90%, which is a bit lower than what we were seeing with our other SVM models (M3 and M4)"
      ]
    },
    {
      "cell_type": "markdown",
      "metadata": {
        "colab_type": "text",
        "id": "mqIG1rKcr0E-"
      },
      "source": [
        "## Evaluation"
      ]
    },
    {
      "cell_type": "markdown",
      "metadata": {
        "colab_type": "text",
        "id": "GDyKKT0mnSmE"
      },
      "source": [
        "### Model Advantages\n",
        "\n",
        "Discuss the advantages of each model for each classification task. Does one type of model offer superior performance over another in terms of prediction accuracy? In terms of training time or efficiency? Explain in detail. \n"
      ]
    },
    {
      "cell_type": "markdown",
      "metadata": {
        "colab_type": "text",
        "id": "VKcSMao0r_E_"
      },
      "source": [
        "#### Logistic Regression Advantage\n",
        "\n",
        "* Advantages - There is less transformation needed in order to make the model return in a reasonable amount of time. Scaler transformation will increase the accuracy, but is not required for peroformance as the model performs well at scale regardless of whether the data is normalized or not. \n",
        "* Performance - There are many different setting that allow the model to have the best possible accuracy. These methods can be iterated with a grid search method. \n",
        "*  Training Time efficiency is very good at large scales and does not suffer as volume of data increases."
      ]
    },
    {
      "cell_type": "markdown",
      "metadata": {
        "colab_type": "text",
        "id": "wFV9BCRosDzl"
      },
      "source": [
        "#### Support Vector Machine Advantage\n",
        "\n",
        "* Advantages - From Tan book Chapter 5 - A classification technique that has received considerable attention is support vector machine (SVM). This technique has its roots in statistical learning theory and has shown promising empirical results in many practical applications, from handwritten digit recognition to text categorization. SVM also works very well with high-dimensional data and avoids the curse of dimensionality problem. Another unique aspect of this approach is that it represents the decision boundary using a subset of the training examples, known as the support vectors.  \n",
        " However, in order to get high accuracy scaling and high penalties must be set to achieve accuracy with unbalanced data. \n",
        "* Performance - Changing the cost to value 1000, after previously using 1, 10, and 100 the performance of prediciton accuracy improves over that of logistic regession.  In order to get a result in a similiar amount of time as logistic regression accuracy is sacrficed. \n",
        "* Training Time\n",
        "    * Slow with large data volume and features\n",
        "    * Transformation of data helps\n",
        "    * Very slow with high cost."
      ]
    },
    {
      "cell_type": "markdown",
      "metadata": {
        "colab_type": "text",
        "id": "c2h_M_QSsGkT"
      },
      "source": [
        "#### Stochastic Gradiant Descent Advantage\n",
        "\n",
        "* Advantages - The design of Stochastic Gradient Smith is set up that it only considers a single randonm point in the stochastic array, and changes weights to classify values. The advantage of running stochastic gradient descent is that it runs much quicker than a gradient descent model, which can take hours / days to run. \n",
        "* Performance - While a single stochastic gradient descent model didn't perform better than any of the previous models we ran, we were able to install and run a Parameter Fit, which acted as a grid search to help us choose the optimal hyperparameters. Doing this improved our SGD performace to 83.5% accuracy. "
      ]
    },
    {
      "cell_type": "markdown",
      "metadata": {
        "colab_type": "text",
        "id": "KWPhc_j6sKeR"
      },
      "source": [
        "#### Model Advantages Conclusion\n",
        "\n",
        "The logistic regression provides a way to quickly get to a model, though has less accuracy when compared to SVM.  SVM is very accurate while its performance degrades very quickly with large volumes of data with rows and also with a large number of features. "
      ]
    },
    {
      "cell_type": "markdown",
      "metadata": {
        "colab_type": "text",
        "id": "VX-oO4qOnSmF"
      },
      "source": [
        "###  Feature Importance\n",
        "Use the weights from logistic regression to interpret the importance of different features for the classification task. Explain your interpretation in detail. Why do you think some variables are more important? \n",
        "\n",
        "The model seems to point out that cost is the largest differentiator of the available characteristics. As you will see within the table and charts below, the “state_bottle_cost_trans” has the largest positive coefficient. This output seems reasonable since Whiskey is typically more expensive than other liquors, thus helping our model predict whether the type of liquor is Whiskey vs Non-Whiskey.\n",
        "\n",
        "Furthermore, the model is displaying a large negative coefficient for “bottles_sold_trans”, \"bottle_volume_ml\" & “cost_per_liter_trans”. In other words, the model is anticipating that as these features increase the more likely that the transaction will be associated to a Non-Whiskey purchase. This output also makes sense as well, since within the previous paragraph, we mentioned that Whiskey is typically more expensive, so because of this we would expect a customer to purchase fewer bottles.\n",
        "\n",
        "Lastly, the “sale_dollar_trans” is the last important feature that materially affects the model. With that said, as the sale dollars increases then most likely the purchase is associated to Whiskey.\n",
        "\n",
        "Note, the remaining unmentioned features such as bottle sizes are fairly standard across the different types of liquors, thus it did not improve the predictive capabilities enough to highlight accordingly\n",
        "\n",
        "Feedback - model simplelogitic\n",
        "\n",
        "30 points Feature importance\n",
        "Use the weights from logistic regression to interpret the importance of different features for the classification task in detail\n",
        "Fulfilled in Evaluation-->Feature Importance\n",
        "Why do we think some variables are more important than others\n",
        "Fulfilled in Evaluation-->Feature Importance\n"
      ]
    },
    {
      "cell_type": "code",
      "metadata": {
        "id": "Qm0f_ntgpT1x",
        "colab_type": "code",
        "colab": {
          "base_uri": "https://localhost:8080/",
          "height": 136
        },
        "outputId": "8f73f44f-cdd9-43db-e2b9-1ca9ef810126"
      },
      "source": [
        "# interpret the weights\n",
        "# iterate over the coefficients\n",
        "weights2 = simplelogisticRegr.coef_.T # take transpose to make a column vector\n",
        "variable_names = X.columns\n",
        "for coef, name in zip(weights2,variable_names):\n",
        "    print(name, 'has weight of', coef[0])\n",
        "    \n",
        "# does this look correct? "
      ],
      "execution_count": 30,
      "outputs": [
        {
          "output_type": "stream",
          "text": [
            "sale_dollars_trans has weight of 0.5263675030253608\n",
            "cost_per_liter_trans has weight of -0.852519246352646\n",
            "state_bottle_cost_trans has weight of 3.0175897713667283\n",
            "bottles_sold_trans has weight of -1.4568820686232753\n",
            "volume_sold_liters_trans has weight of 0.9356535146086102\n",
            "pack has weight of 0.810442040077024\n",
            "bottle_volume_ml has weight of -2.064447013948608\n"
          ],
          "name": "stdout"
        }
      ]
    },
    {
      "cell_type": "code",
      "metadata": {
        "id": "im9SyQgXsSXX",
        "colab_type": "code",
        "colab": {
          "base_uri": "https://localhost:8080/",
          "height": 241
        },
        "outputId": "e06e3ac7-edcd-4abf-efc2-35826ef59350"
      },
      "source": [
        "from sklearn.preprocessing import StandardScaler\n",
        "\n",
        "# we want to normalize the features based upon the mean and standard deviation of each column. \n",
        "# However, we do not want to accidentally use the testing data to find out the mean and std (this would be snooping)\n",
        "# to Make things easier, let's start by just using whatever was last stored in the variables:\n",
        "##    X_train , y_train , X_test, y_test (they were set in a for loop above)\n",
        "\n",
        "# scale attributes by the training set\n",
        "scl_obj = StandardScaler()\n",
        "scl_obj.fit(X_train) # find scalings for each column that make this zero mean and unit std\n",
        "# the line of code above only looks at training data to get mean and std and we can use it \n",
        "# to transform new feature data\n",
        "\n",
        "X_train_scaled = scl_obj.transform(X_train) # apply to training\n",
        "X_test_scaled = scl_obj.transform(X_test) # apply those means and std to the test set (without snooping at the test set values)\n",
        "\n",
        "# now lets apply this to our simple logistic regression\n",
        "\n",
        "simplelogisticRegr.fit(X_train_scaled,y_train)  # train object\n",
        "\n",
        "\n",
        "y_hat_scaled = simplelogisticRegr.predict(X_test_scaled) # get test set precitions\n",
        "\n",
        "acc = mt.accuracy_score(y_test,y_hat_scaled)\n",
        "conf = mt.confusion_matrix(y_test,y_hat_scaled)\n",
        "print('accuracy:', acc )\n",
        "print(conf )\n",
        "\n",
        "# sort these attributes and spit them out\n",
        "zip_vars = zip(simplelogisticRegr.coef_.T,variable_names) # combine attributes\n",
        "zip_vars = sorted(zip_vars)\n",
        "for coef, name in zip_vars:\n",
        "    print(name, 'has weight of', coef[0]) # now print them out"
      ],
      "execution_count": 31,
      "outputs": [
        {
          "output_type": "stream",
          "text": [
            "/usr/local/lib/python3.6/dist-packages/sklearn/utils/validation.py:760: DataConversionWarning: A column-vector y was passed when a 1d array was expected. Please change the shape of y to (n_samples, ), for example using ravel().\n",
            "  y = column_or_1d(y, warn=True)\n"
          ],
          "name": "stderr"
        },
        {
          "output_type": "stream",
          "text": [
            "accuracy: 0.9191875\n",
            "[[70559  1118]\n",
            " [ 5347  2976]]\n",
            "bottle_volume_ml has weight of -2.064447013948608\n",
            "bottles_sold_trans has weight of -1.4568820686232753\n",
            "cost_per_liter_trans has weight of -0.852519246352646\n",
            "sale_dollars_trans has weight of 0.5263675030253608\n",
            "pack has weight of 0.810442040077024\n",
            "volume_sold_liters_trans has weight of 0.9356535146086102\n",
            "state_bottle_cost_trans has weight of 3.0175897713667283\n"
          ],
          "name": "stdout"
        }
      ]
    },
    {
      "cell_type": "code",
      "metadata": {
        "id": "C9LiMoyapT1z",
        "colab_type": "code",
        "colab": {
          "base_uri": "https://localhost:8080/",
          "height": 394
        },
        "outputId": "4deaa4b0-6e2e-4b15-a6e8-3616f63d4dc3"
      },
      "source": [
        "# now let's make a pandas Series with the names and values, and plot them\n",
        "from matplotlib import pyplot as plt\n",
        "%matplotlib inline\n",
        "plt.style.use('ggplot')\n",
        "\n",
        "\n",
        "weights = pd.Series(simplelogisticRegr.coef_[0],index=variable_names)\n",
        "weights.plot(kind='bar')\n",
        "plt.show()"
      ],
      "execution_count": 32,
      "outputs": [
        {
          "output_type": "display_data",
          "data": {
            "image/png": "[encoded data removed]",
            "text/plain": [
              "<Figure size 432x288 with 1 Axes>"
            ]
          },
          "metadata": {
            "tags": []
          }
        }
      ]
    },
    {
      "cell_type": "markdown",
      "metadata": {
        "colab_type": "text",
        "id": "yVHNEFrTnSmG"
      },
      "source": [
        "### Support Vector Analysis\n",
        "Look at the chosen support vectors for the classification task. Do these provide\n",
        "any insight into the data? Explain. If you used stochastic gradient descent (and therefore did\n",
        "not explicitly solve for support vectors), try subsampling your data to train the SVC model—\n",
        "then analyze the support vectors from the subsampled dataset. "
      ]
    },
    {
      "cell_type": "code",
      "metadata": {
        "id": "Zd59vHdzpT11",
        "colab_type": "code",
        "colab": {}
      },
      "source": [
        "#view support vectors\n",
        "svm_clf.support_vectors_"
      ],
      "execution_count": 0,
      "outputs": []
    },
    {
      "cell_type": "code",
      "metadata": {
        "id": "IbfR-26SpT13",
        "colab_type": "code",
        "colab": {}
      },
      "source": [
        "# View indicies of support vectors\n",
        "svm_clf.support_"
      ],
      "execution_count": 0,
      "outputs": []
    },
    {
      "cell_type": "markdown",
      "metadata": {
        "colab_type": "text",
        "id": "qxAYjH4AWOmK"
      },
      "source": [
        "This chooses all the misclassified items as a support vectors."
      ]
    },
    {
      "cell_type": "code",
      "metadata": {
        "id": "Q7s_BR5ypT15",
        "colab_type": "code",
        "colab": {}
      },
      "source": [
        "#view number of support vectors for each class\n",
        "svm_clf.n_support_"
      ],
      "execution_count": 0,
      "outputs": []
    },
    {
      "cell_type": "markdown",
      "metadata": {
        "colab_type": "text",
        "id": "d4XKEUr0WVPU"
      },
      "source": [
        "We used 12,000 instances of Whiskey and Nonwhiskey to build our decision boundary."
      ]
    },
    {
      "cell_type": "code",
      "metadata": {
        "id": "hmhFdJABpT17",
        "colab_type": "code",
        "colab": {}
      },
      "source": [
        "# if using linear kernel, these make sense to look at (not otherwise, why?)\n",
        "print(model.coef_)\n",
        "weights3 = pd.Series(model.coef_[0],index=X_train.columns)\n",
        "weights3.plot(kind='bar')"
      ],
      "execution_count": 0,
      "outputs": []
    },
    {
      "cell_type": "markdown",
      "metadata": {
        "colab_type": "text",
        "id": "uNo5j26LKCD_"
      },
      "source": [
        "Using our SVC model weights, we can see some consistency with our earlier analysis by ssing that state bottle cost and bottles solde are the strongest vectors in driving the decision boundaries for whiskies and non whiskies. From a negative perspective, the sale dollars and cost per liter are showing a negative relationship here. \n",
        "\n",
        "Next we are going to make a stratified shuffle split by plotting our SVC models."
      ]
    },
    {
      "cell_type": "code",
      "metadata": {
        "id": "lzAW5Sb_pT19",
        "colab_type": "code",
        "colab": {}
      },
      "source": [
        "from sklearn.model_selection import StratifiedShuffleSplit\n",
        "from sklearn import metrics as mt\n",
        "\n",
        "# we want to predict the X and y data as follows:\n",
        "if 'liquor_category_WHISKY' in data_final:\n",
        "    y = data_final['liquor_category_WHISKY'].values # get the labels we want\n",
        "    del data_final['liquor_category_WHISKY'] # get rid of the class label\n",
        "    X = data_final.values # use everything else to predict!\n",
        "\n",
        "num_cv_iterations = 3\n",
        "num_instances = len(y)\n",
        "cv_object = ShuffleSplit(n_splits = num_cv_iterations, \n",
        "                            test_size = 0.20, train_size = 0.80, random_state=1)\n",
        "\n",
        "for train_indices, test_indices in cv_object.split(X,y): \n",
        "    # I will create new variables here so that it is more obvious what \n",
        "    # the code is doing (you can compact this syntax and avoid duplicating memory,\n",
        "    # but it makes this code less readable)\n",
        "    X_train = X[train_indices]\n",
        "    y_train = y[train_indices]\n",
        "    \n",
        "    X_test = X[test_indices]\n",
        "    y_test = y[test_indices]\n",
        "\n",
        "    # for the SVM models \n",
        "    X_train_svc = X[train_indices]\n",
        "    y_train_svc = y[train_indices]\n",
        "    \n",
        "    X_test_svc = X[test_indices]\n",
        "    y_test_svc = y[test_indices]"
      ],
      "execution_count": 0,
      "outputs": []
    },
    {
      "cell_type": "markdown",
      "metadata": {
        "colab_type": "text",
        "id": "zvfo-WryKiDE"
      },
      "source": [
        "Now that we established our new training and testing indicies, let's run it against our top performing SVC CLF model (the one that got 87% accuracy)."
      ]
    },
    {
      "cell_type": "code",
      "metadata": {
        "id": "g8CkNUQjpT1_",
        "colab_type": "code",
        "colab": {}
      },
      "source": [
        "# Now let's do some different analysis with the SVM and look at the instances that were chosen as support vectors\n",
        "\n",
        "# now lets look at the support for the vectors and see if we they are indicative of anything\n",
        "# grabe the rows that were selected as support vectors (these are usually instances that are hard to classify)\n",
        "\n",
        "# make a dataframe of the training data\n",
        "df_tested_on = data_final.iloc[train_indices].copy() # saved from above, the indices chosen for training\n",
        "# now get the support vectors from the trained model\n",
        "df_support = df_tested_on.iloc[svm_clf.support_,:].copy()\n",
        "#df_support['liquor_category_WHISKY'].head\n",
        "data_final2 = data_final.copy()\n",
        "df_support.loc[:,'liquor_category_WHISKY'] = y[svm_clf.support_] # add back in the 'Survived' Column to the pandas dataframe\n",
        "data_final2.loc[:,'liquor_category_WHISKY'] = y # also add it back in for the original data\n",
        "print(df_support.info())"
      ],
      "execution_count": 0,
      "outputs": []
    },
    {
      "cell_type": "markdown",
      "metadata": {
        "colab_type": "text",
        "id": "kdLxZ2S1K2i2"
      },
      "source": [
        "Doing this granted us 738 non null values within what became our testing set. Using this, we will plot out the original vs the svm distribution of our state bottle cost trans, bottles sold trans, bottle volume ml and sale dollars trans, which was shown to be our strongest performing variables indicative of Whiskeys vs Non Whiskeys."
      ]
    },
    {
      "cell_type": "code",
      "metadata": {
        "id": "DxCKXs9MpT2B",
        "colab_type": "code",
        "colab": {}
      },
      "source": [
        "# now lets see the statistics of these attributes\n",
        "from pandas.plotting import boxplot\n",
        "\n",
        "# group the original data and the support vectors\n",
        "df_grouped_support = df_support.groupby(['liquor_category_WHISKY'])\n",
        "df_grouped = data_final2.groupby(['liquor_category_WHISKY'])\n",
        "\n",
        "# plot KDE of Different variables\n",
        "vars_to_plot = ['state_bottle_cost_trans','bottles_sold_trans','bottle_volume_ml','sale_dollars_trans']\n",
        "\n",
        "for v in vars_to_plot:\n",
        "    plt.figure(figsize=(10,4))\n",
        "    # plot support vector stats\n",
        "    plt.subplot(1,2,1)\n",
        "    ax = df_grouped_support[v].plot.kde() \n",
        "    plt.legend(['Whiskey','Not Whiskey'])\n",
        "    plt.title(v+' (Instances chosen as Support Vectors)')\n",
        "    \n",
        "    # plot original distributions\n",
        "    plt.subplot(1,2,2)\n",
        "    ax = df_grouped[v].plot.kde() \n",
        "    plt.legend(['Whiskey','Not Whiskey'])\n",
        "    plt.title(v+' (Original)')"
      ],
      "execution_count": 0,
      "outputs": []
    },
    {
      "cell_type": "markdown",
      "metadata": {
        "colab_type": "text",
        "id": "Xpn_F7R6LoNC"
      },
      "source": [
        "By plotting our data density graphs next to one another, we can see the separation between distributions of the original data sets next to our support vector data on key variables, on the whiskey classifier. \n",
        "\n",
        "What we are looking for here is the value of separation between what can be classified as a whiskey vs non whiskey (blue vs red lines). Since you can see that the separation on state bottle cost and the state bottle volume is more pronounced on the support vector model, this shows that they both play the most role in the prediction of whiskey. \n",
        "\n",
        "The other two variables, bottles sold and sale dollars, don't diverge as much between the original and SVM model, they are not as strong as predictors as the other two we discussed. And this is indicated on our weights we showed previously. "
      ]
    }
  ]
}