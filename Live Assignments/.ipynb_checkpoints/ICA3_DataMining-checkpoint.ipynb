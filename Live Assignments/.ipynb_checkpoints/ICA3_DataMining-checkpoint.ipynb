{
 "cells": [
  {
   "cell_type": "code",
   "execution_count": 4,
   "metadata": {},
   "outputs": [],
   "source": [
    "from __future__ import print_function"
   ]
  },
  {
   "cell_type": "code",
   "execution_count": 5,
   "metadata": {},
   "outputs": [
    {
     "data": {
      "text/html": [
       "<link href='https://fonts.googleapis.com/css?family=Passion+One' rel='stylesheet' type='text/css'><style>div.attn { font-family: 'Helvetica Neue'; font-size: 30px; line-height: 40px; color: #FFFFFF; text-align: center; margin: 30px 0; border-width: 10px 0; border-style: solid; border-color: #5AAAAA; padding: 30px 0; background-color: #DDDDFF; }hr { border: 0; background-color: #ffffff; border-top: 1px solid black; }hr.major { border-top: 10px solid #5AAA5A; }hr.minor { border: none; background-color: #ffffff; border-top: 5px dotted #CC3333; }div.bubble { width: 65%; padding: 20px; background: #DDDDDD; border-radius: 15px; margin: 0 auto; font-style: italic; color: #f00; }em { color: #AAA; }div.c1{visibility:hidden;margin:0;height:0;}div.note{color:red;}</style>"
      ],
      "text/plain": [
       "<IPython.core.display.HTML object>"
      ]
     },
     "execution_count": 5,
     "metadata": {},
     "output_type": "execute_result"
    }
   ],
   "source": [
    "#  Ebnable HTML/CSS \n",
    "from IPython.core.display import HTML\n",
    "HTML(\"<link href='https://fonts.googleapis.com/css?family=Passion+One' rel='stylesheet' type='text/css'><style>div.attn { font-family: 'Helvetica Neue'; font-size: 30px; line-height: 40px; color: #FFFFFF; text-align: center; margin: 30px 0; border-width: 10px 0; border-style: solid; border-color: #5AAAAA; padding: 30px 0; background-color: #DDDDFF; }hr { border: 0; background-color: #ffffff; border-top: 1px solid black; }hr.major { border-top: 10px solid #5AAA5A; }hr.minor { border: none; background-color: #ffffff; border-top: 5px dotted #CC3333; }div.bubble { width: 65%; padding: 20px; background: #DDDDDD; border-radius: 15px; margin: 0 auto; font-style: italic; color: #f00; }em { color: #AAA; }div.c1{visibility:hidden;margin:0;height:0;}div.note{color:red;}</style>\")"
   ]
  },
  {
   "cell_type": "markdown",
   "metadata": {},
   "source": [
    "___\n",
    "Enter Team Member Names here (double click to edit):\n",
    "\n",
    "- Name 1:Armando Vela\n",
    "- Name 2:Daniel Clark\n",
    "- Name 3:Jeff Washbrn\n",
    "- Name 4: Joe Schueder\n",
    "\n",
    "________\n",
    "\n",
    "# In Class Assignment Three\n",
    "In the following assignment you will be asked to fill in python code and derivations for a number of different problems. Please read all instructions carefully and turn in the rendered notebook (or HTML of the rendered notebook)  before the end of class.\n",
    "\n",
    "<a id=\"top\"></a>\n",
    "## Contents\n",
    "* <a href=\"#Loading\">Loading the Data</a>\n",
    "* <a href=\"#distance\">Measuring Distances</a>\n",
    "* <a href=\"#KNN\">K-Nearest Neighbors</a>\n",
    "* <a href=\"#naive\">Naive Bayes</a>\n",
    "\n",
    "________________________________________________________________________________________________________\n",
    "<a id=\"Loading\"></a>\n",
    "<a href=\"#top\">Back to Top</a>\n",
    "## Downloading the Document Data\n",
    "Please run the following code to read in the \"20 newsgroups\" dataset from sklearn's data loading module."
   ]
  },
  {
   "cell_type": "code",
   "execution_count": 6,
   "metadata": {},
   "outputs": [
    {
     "name": "stderr",
     "output_type": "stream",
     "text": [
      "C:\\ProgramData\\Anaconda3\\envs\\ML7331\\lib\\site-packages\\sklearn\\externals\\joblib\\__init__.py:15: DeprecationWarning: sklearn.externals.joblib is deprecated in 0.21 and will be removed in 0.23. Please import this functionality directly from joblib, which can be installed with: pip install joblib. If this warning is raised when loading pickled models, you may need to re-serialize those models with scikit-learn 0.21+.\n",
      "  warnings.warn(msg, category=DeprecationWarning)\n"
     ]
    },
    {
     "name": "stdout",
     "output_type": "stream",
     "text": [
      "features shape: (11314, 130107)\n",
      "target shape: (11314,)\n",
      "range of target: 0 19\n",
      "Data type is <class 'scipy.sparse.csr.csr_matrix'> 0.1214353154362896 % of the data is non-zero\n"
     ]
    }
   ],
   "source": [
    "from sklearn.datasets import fetch_20newsgroups_vectorized\n",
    "import numpy as np\n",
    "\n",
    "\n",
    "# this takes about 30 seconds to compute, read the next section while this downloads\n",
    "ds = fetch_20newsgroups_vectorized(subset='train')\n",
    "\n",
    "# this holds the continuous feature data (which is tfidf)\n",
    "print('features shape:', ds.data.shape) # there are ~11000 instances and ~130k features per instance\n",
    "print('target shape:', ds.target.shape) \n",
    "print('range of target:', np.min(ds.target),np.max(ds.target))\n",
    "print('Data type is', type(ds.data), float(ds.data.nnz)/(ds.data.shape[0]*ds.data.shape[1])*100, '% of the data is non-zero')"
   ]
  },
  {
   "cell_type": "code",
   "execution_count": 7,
   "metadata": {},
   "outputs": [
    {
     "data": {
      "text/plain": [
       "{'data': <11314x130107 sparse matrix of type '<class 'numpy.float64'>'\n",
       " \twith 1787565 stored elements in Compressed Sparse Row format>,\n",
       " 'target': array([17,  7, 10, ..., 14, 12, 11]),\n",
       " 'target_names': ['alt.atheism',\n",
       "  'comp.graphics',\n",
       "  'comp.os.ms-windows.misc',\n",
       "  'comp.sys.ibm.pc.hardware',\n",
       "  'comp.sys.mac.hardware',\n",
       "  'comp.windows.x',\n",
       "  'misc.forsale',\n",
       "  'rec.autos',\n",
       "  'rec.motorcycles',\n",
       "  'rec.sport.baseball',\n",
       "  'rec.sport.hockey',\n",
       "  'sci.crypt',\n",
       "  'sci.electronics',\n",
       "  'sci.med',\n",
       "  'sci.space',\n",
       "  'soc.religion.christian',\n",
       "  'talk.politics.guns',\n",
       "  'talk.politics.mideast',\n",
       "  'talk.politics.misc',\n",
       "  'talk.religion.misc'],\n",
       " 'DESCR': '.. _20newsgroups_dataset:\\n\\nThe 20 newsgroups text dataset\\n------------------------------\\n\\nThe 20 newsgroups dataset comprises around 18000 newsgroups posts on\\n20 topics split in two subsets: one for training (or development)\\nand the other one for testing (or for performance evaluation). The split\\nbetween the train and test set is based upon a messages posted before\\nand after a specific date.\\n\\nThis module contains two loaders. The first one,\\n:func:`sklearn.datasets.fetch_20newsgroups`,\\nreturns a list of the raw texts that can be fed to text feature\\nextractors such as :class:`sklearn.feature_extraction.text.CountVectorizer`\\nwith custom parameters so as to extract feature vectors.\\nThe second one, :func:`sklearn.datasets.fetch_20newsgroups_vectorized`,\\nreturns ready-to-use features, i.e., it is not necessary to use a feature\\nextractor.\\n\\n**Data Set Characteristics:**\\n\\n    =================   ==========\\n    Classes                     20\\n    Samples total            18846\\n    Dimensionality               1\\n    Features                  text\\n    =================   ==========\\n\\nUsage\\n~~~~~\\n\\nThe :func:`sklearn.datasets.fetch_20newsgroups` function is a data\\nfetching / caching functions that downloads the data archive from\\nthe original `20 newsgroups website`_, extracts the archive contents\\nin the ``~/scikit_learn_data/20news_home`` folder and calls the\\n:func:`sklearn.datasets.load_files` on either the training or\\ntesting set folder, or both of them::\\n\\n  >>> from sklearn.datasets import fetch_20newsgroups\\n  >>> newsgroups_train = fetch_20newsgroups(subset=\\'train\\')\\n\\n  >>> from pprint import pprint\\n  >>> pprint(list(newsgroups_train.target_names))\\n  [\\'alt.atheism\\',\\n   \\'comp.graphics\\',\\n   \\'comp.os.ms-windows.misc\\',\\n   \\'comp.sys.ibm.pc.hardware\\',\\n   \\'comp.sys.mac.hardware\\',\\n   \\'comp.windows.x\\',\\n   \\'misc.forsale\\',\\n   \\'rec.autos\\',\\n   \\'rec.motorcycles\\',\\n   \\'rec.sport.baseball\\',\\n   \\'rec.sport.hockey\\',\\n   \\'sci.crypt\\',\\n   \\'sci.electronics\\',\\n   \\'sci.med\\',\\n   \\'sci.space\\',\\n   \\'soc.religion.christian\\',\\n   \\'talk.politics.guns\\',\\n   \\'talk.politics.mideast\\',\\n   \\'talk.politics.misc\\',\\n   \\'talk.religion.misc\\']\\n\\nThe real data lies in the ``filenames`` and ``target`` attributes. The target\\nattribute is the integer index of the category::\\n\\n  >>> newsgroups_train.filenames.shape\\n  (11314,)\\n  >>> newsgroups_train.target.shape\\n  (11314,)\\n  >>> newsgroups_train.target[:10]\\n  array([ 7,  4,  4,  1, 14, 16, 13,  3,  2,  4])\\n\\nIt is possible to load only a sub-selection of the categories by passing the\\nlist of the categories to load to the\\n:func:`sklearn.datasets.fetch_20newsgroups` function::\\n\\n  >>> cats = [\\'alt.atheism\\', \\'sci.space\\']\\n  >>> newsgroups_train = fetch_20newsgroups(subset=\\'train\\', categories=cats)\\n\\n  >>> list(newsgroups_train.target_names)\\n  [\\'alt.atheism\\', \\'sci.space\\']\\n  >>> newsgroups_train.filenames.shape\\n  (1073,)\\n  >>> newsgroups_train.target.shape\\n  (1073,)\\n  >>> newsgroups_train.target[:10]\\n  array([0, 1, 1, 1, 0, 1, 1, 0, 0, 0])\\n\\nConverting text to vectors\\n~~~~~~~~~~~~~~~~~~~~~~~~~~\\n\\nIn order to feed predictive or clustering models with the text data,\\none first need to turn the text into vectors of numerical values suitable\\nfor statistical analysis. This can be achieved with the utilities of the\\n``sklearn.feature_extraction.text`` as demonstrated in the following\\nexample that extract `TF-IDF`_ vectors of unigram tokens\\nfrom a subset of 20news::\\n\\n  >>> from sklearn.feature_extraction.text import TfidfVectorizer\\n  >>> categories = [\\'alt.atheism\\', \\'talk.religion.misc\\',\\n  ...               \\'comp.graphics\\', \\'sci.space\\']\\n  >>> newsgroups_train = fetch_20newsgroups(subset=\\'train\\',\\n  ...                                       categories=categories)\\n  >>> vectorizer = TfidfVectorizer()\\n  >>> vectors = vectorizer.fit_transform(newsgroups_train.data)\\n  >>> vectors.shape\\n  (2034, 34118)\\n\\nThe extracted TF-IDF vectors are very sparse, with an average of 159 non-zero\\ncomponents by sample in a more than 30000-dimensional space\\n(less than .5% non-zero features)::\\n\\n  >>> vectors.nnz / float(vectors.shape[0])       # doctest: +ELLIPSIS\\n  159.01327...\\n\\n:func:`sklearn.datasets.fetch_20newsgroups_vectorized` is a function which \\nreturns ready-to-use token counts features instead of file names.\\n\\n.. _`20 newsgroups website`: http://people.csail.mit.edu/jrennie/20Newsgroups/\\n.. _`TF-IDF`: https://en.wikipedia.org/wiki/Tf-idf\\n\\n\\nFiltering text for more realistic training\\n~~~~~~~~~~~~~~~~~~~~~~~~~~~~~~~~~~~~~~~~~~\\n\\nIt is easy for a classifier to overfit on particular things that appear in the\\n20 Newsgroups data, such as newsgroup headers. Many classifiers achieve very\\nhigh F-scores, but their results would not generalize to other documents that\\naren\\'t from this window of time.\\n\\nFor example, let\\'s look at the results of a multinomial Naive Bayes classifier,\\nwhich is fast to train and achieves a decent F-score::\\n\\n  >>> from sklearn.naive_bayes import MultinomialNB\\n  >>> from sklearn import metrics\\n  >>> newsgroups_test = fetch_20newsgroups(subset=\\'test\\',\\n  ...                                      categories=categories)\\n  >>> vectors_test = vectorizer.transform(newsgroups_test.data)\\n  >>> clf = MultinomialNB(alpha=.01)\\n  >>> clf.fit(vectors, newsgroups_train.target)\\n  MultinomialNB(alpha=0.01, class_prior=None, fit_prior=True)\\n\\n  >>> pred = clf.predict(vectors_test)\\n  >>> metrics.f1_score(newsgroups_test.target, pred, average=\\'macro\\')  # doctest: +ELLIPSIS\\n  0.88213...\\n\\n(The example :ref:`sphx_glr_auto_examples_text_plot_document_classification_20newsgroups.py` shuffles\\nthe training and test data, instead of segmenting by time, and in that case\\nmultinomial Naive Bayes gets a much higher F-score of 0.88. Are you suspicious\\nyet of what\\'s going on inside this classifier?)\\n\\nLet\\'s take a look at what the most informative features are:\\n\\n  >>> import numpy as np\\n  >>> def show_top10(classifier, vectorizer, categories):\\n  ...     feature_names = np.asarray(vectorizer.get_feature_names())\\n  ...     for i, category in enumerate(categories):\\n  ...         top10 = np.argsort(classifier.coef_[i])[-10:]\\n  ...         print(\"%s: %s\" % (category, \" \".join(feature_names[top10])))\\n  ...\\n  >>> show_top10(clf, vectorizer, newsgroups_train.target_names)\\n  alt.atheism: edu it and in you that is of to the\\n  comp.graphics: edu in graphics it is for and of to the\\n  sci.space: edu it that is in and space to of the\\n  talk.religion.misc: not it you in is that and to of the\\n\\n\\nYou can now see many things that these features have overfit to:\\n\\n- Almost every group is distinguished by whether headers such as\\n  ``NNTP-Posting-Host:`` and ``Distribution:`` appear more or less often.\\n- Another significant feature involves whether the sender is affiliated with\\n  a university, as indicated either by their headers or their signature.\\n- The word \"article\" is a significant feature, based on how often people quote\\n  previous posts like this: \"In article [article ID], [name] <[e-mail address]>\\n  wrote:\"\\n- Other features match the names and e-mail addresses of particular people who\\n  were posting at the time.\\n\\nWith such an abundance of clues that distinguish newsgroups, the classifiers\\nbarely have to identify topics from text at all, and they all perform at the\\nsame high level.\\n\\nFor this reason, the functions that load 20 Newsgroups data provide a\\nparameter called **remove**, telling it what kinds of information to strip out\\nof each file. **remove** should be a tuple containing any subset of\\n``(\\'headers\\', \\'footers\\', \\'quotes\\')``, telling it to remove headers, signature\\nblocks, and quotation blocks respectively.\\n\\n  >>> newsgroups_test = fetch_20newsgroups(subset=\\'test\\',\\n  ...                                      remove=(\\'headers\\', \\'footers\\', \\'quotes\\'),\\n  ...                                      categories=categories)\\n  >>> vectors_test = vectorizer.transform(newsgroups_test.data)\\n  >>> pred = clf.predict(vectors_test)\\n  >>> metrics.f1_score(pred, newsgroups_test.target, average=\\'macro\\')  # doctest: +ELLIPSIS\\n  0.77310...\\n\\nThis classifier lost over a lot of its F-score, just because we removed\\nmetadata that has little to do with topic classification.\\nIt loses even more if we also strip this metadata from the training data:\\n\\n  >>> newsgroups_train = fetch_20newsgroups(subset=\\'train\\',\\n  ...                                       remove=(\\'headers\\', \\'footers\\', \\'quotes\\'),\\n  ...                                       categories=categories)\\n  >>> vectors = vectorizer.fit_transform(newsgroups_train.data)\\n  >>> clf = MultinomialNB(alpha=.01)\\n  >>> clf.fit(vectors, newsgroups_train.target)\\n  MultinomialNB(alpha=0.01, class_prior=None, fit_prior=True)\\n\\n  >>> vectors_test = vectorizer.transform(newsgroups_test.data)\\n  >>> pred = clf.predict(vectors_test)\\n  >>> metrics.f1_score(newsgroups_test.target, pred, average=\\'macro\\')  # doctest: +ELLIPSIS\\n  0.76995...\\n\\nSome other classifiers cope better with this harder version of the task. Try\\nrunning :ref:`sphx_glr_auto_examples_model_selection_grid_search_text_feature_extraction.py` with and without\\nthe ``--filter`` option to compare the results.\\n\\n.. topic:: Recommendation\\n\\n  When evaluating text classifiers on the 20 Newsgroups data, you\\n  should strip newsgroup-related metadata. In scikit-learn, you can do this by\\n  setting ``remove=(\\'headers\\', \\'footers\\', \\'quotes\\')``. The F-score will be\\n  lower because it is more realistic.\\n\\n.. topic:: Examples\\n\\n   * :ref:`sphx_glr_auto_examples_model_selection_grid_search_text_feature_extraction.py`\\n\\n   * :ref:`sphx_glr_auto_examples_text_plot_document_classification_20newsgroups.py`\\n'}"
      ]
     },
     "execution_count": 7,
     "metadata": {},
     "output_type": "execute_result"
    }
   ],
   "source": [
    "ds"
   ]
  },
  {
   "cell_type": "markdown",
   "metadata": {},
   "source": [
    "## Understanding the Dataset\n",
    "Look at the description for the 20 newsgroups dataset at http://qwone.com/~jason/20Newsgroups/. You have just downloaded the \"vectorized\" version of the dataset, which means all the words inside the articles have gone through a transformation that binned them into 130 thousand features related to the words in them.  \n",
    "\n",
    "**Question Set 1**:\n",
    "- How many instances are in the dataset? \n",
    "- What does each instance represent? \n",
    "- How many classes are in the dataset and what does each class represent?\n",
    "- Would you expect a classifier trained on this data would generalize to documents written in the past week? Why or why not?\n",
    "- Is the data represented as a sparse or dense matrix?"
   ]
  },
  {
   "cell_type": "markdown",
   "metadata": {},
   "source": [
    "___\n",
    "Enter your answer here:\n",
    "\n",
    "Enter your answer here:\n",
    "\n",
    "*Double click to edit*\n",
    "\n",
    "1. How many instances are in the dataset?  \n",
    "    There are 11,314 instances. \n",
    "2. What does each instance represent?  \n",
    "         The 20 Newsgroups data set. The 20 Newsgroups data set is a collection of approximately 20,000 newsgroup documents,  partitioned (nearly) evenly across 20 different newsgroups. To the best of my knowledge, it was originally collected by Ken Lang, probably for his Newsweeder: Learning to filter netnews paper, though he does not explicitly mention this collection. The 20 newsgroups collection has become a popular data set for experiments in text applications of machine learning techniques, such as text classification and text clustering. \n",
    "         Each subdirectory in the bundle represents a newsgroup; each file in a subdirectory is the text of some newsgroup document that was posted to that newsgroup.   \n",
    "3. How many classes are in the dataset and what does each class represent?  Each class represents a newsgroup.  \n",
    "    There are 20 Classes.  \n",
    "    alt.atheism  \n",
    "    comp.graphics  \n",
    "    comp.os.ms-windows.misc  \n",
    "    comp.sys.ibm.pc.hardware  \n",
    "    comp.sys.mac.hardware  \n",
    "    comp.windows.x  \n",
    "    misc.forsale  \n",
    "    rec.autos  \n",
    "    rec.motorcycles  \n",
    "    rec.sport.baseball  \n",
    "    rec.sport.hockey  \n",
    "    sci.crypt  \n",
    "    sci.electronics  \n",
    "    sci.med  \n",
    "    sci.space  \n",
    "    soc.religion.christian  \n",
    "    talk.politics.guns  \n",
    "    talk.politics.mideast  \n",
    "    talk.politics.misc  \n",
    "    talk.religion.misc  \n",
    "4. Would you expect a classifier trained on this data would generalize to documents written in the past week? Why or why not?  \n",
    "    The dataset is from 1995, which is 25 years ago. Though many of the high level topics are topics that are discussed today jargon, slang and technology has changed significantly since 1995. I think it may work ok on less technological topics, but not very well at all related to technolgoy. \n",
    "5. Is the data represented as a sparse or dense matrix?  \n",
    "The ds command states that it is a sparse matrix.   \n",
    "{'data': <11314x130107 sparse matrix of type '<class 'numpy.float64'>'\n",
    " \twith 1787565 stored elements in Compressed Sparse Row format>,\n",
    "\n",
    "\n",
    "\n",
    "\n",
    "\n",
    "\n",
    "\n"
   ]
  },
  {
   "cell_type": "markdown",
   "metadata": {},
   "source": [
    "___\n",
    "<a id=\"distance\"></a>\n",
    "<a href=\"#top\">Back to Top</a>\n",
    "## Measures of Distance\n",
    "In the following block of code, we isolate three instances from the dataset. The instance \"`a`\" is from the group *computer graphics*, \"`b`\" is from from the group *recreation autos*, and \"`c`\" is from group *recreation motorcycle*. **Exercise for part 2**: Calculate the: \n",
    "- (1) Euclidean distance\n",
    "- (2) Cosine distance \n",
    "- (3) Jaccard similarity \n",
    "\n",
    "between each pair of instances using the imported functions below. Remember that the Jaccard similarity is only for binary valued vectors, so convert vectors to binary using a threshold. \n",
    "\n",
    "**Question for part 2**: Which distance seems more appropriate to use for this data? **Why**?"
   ]
  },
  {
   "cell_type": "code",
   "execution_count": 16,
   "metadata": {},
   "outputs": [
    {
     "name": "stdout",
     "output_type": "stream",
     "text": [
      "Instance A is from class comp.graphics\n",
      "Instance B is from class rec.autos\n",
      "Instance C is from class rec.motorcycles\n",
      "\n",
      "\n",
      "Euclidean Distance\n",
      " ab: 1.0985184671870858 ac: 1.1891405425398234 bc: 0.9177794226661624\n",
      "Cosine Distance\n",
      " ab: 0.6033714113755322 ac: 0.7070276149559529 bc: 0.4211595343347173\n",
      "Jaccard Dissimilarity (vectors should be boolean values)\n",
      " ab: 0.8821138211382114 ac: 0.8754716981132076 bc: 0.9087947882736156\n",
      "\n",
      "\n",
      "The most appropriate distance is...\n",
      "Cosine. It clearly delineates between topics effectively.  B and C are closest, by far, and A is about the save distance from B and C. Euclidean also works well, but not quite as good as cosine\n",
      "\n",
      "The most appropriate distance is Cosine.Because the distances generated from this method make most \n",
      " sense. Bikes and Autos are more related, and Computers are the same distance from Bikes/autos.That is visible from Cosine distance results.\n"
     ]
    }
   ],
   "source": [
    "from scipy.spatial.distance import cosine\n",
    "from scipy.spatial.distance import euclidean\n",
    "from scipy.spatial.distance import jaccard\n",
    "import numpy as np\n",
    "\n",
    "# get first instance (comp)\n",
    "idx = 550\n",
    "a = ds.data[idx].todense()\n",
    "a_class = ds.target_names[ds.target[idx]]\n",
    "print('Instance A is from class', a_class)\n",
    "\n",
    "# get second instance (autos)\n",
    "idx = 4000\n",
    "b = ds.data[idx].todense()\n",
    "b_class = ds.target_names[ds.target[idx]]\n",
    "print('Instance B is from class', b_class)\n",
    "\n",
    "# get third instance (motorcycle)\n",
    "idx = 7000\n",
    "c = ds.data[idx].todense()\n",
    "c_class = ds.target_names[ds.target[idx]]\n",
    "print('Instance C is from class', c_class)\n",
    "\n",
    "#cosine\n",
    "abcosine = cosine(a,b)\n",
    "accosine = cosine(a,c)\n",
    "bccosine = cosine(b,c)\n",
    "\n",
    "abeuc = euclidean(a,b)\n",
    "aceuc = euclidean(a,c)\n",
    "bceuc = euclidean(b,c)\n",
    "\n",
    "a1 = np.where(a > 0.5, 1, 0)\n",
    "b1 = np.where(b > 0.5, 1, 0)\n",
    "c1 = np.where(c > 0.5, 1, 0)\n",
    "\n",
    "\n",
    "\n",
    "# Enter distance comparison below for each pair of vectors:\n",
    "p = 'Placeholder'\n",
    "print('\\n\\nEuclidean Distance\\n ab:', abeuc, 'ac:', aceuc, 'bc:',bceuc)\n",
    "print(\"Cosine Distance\\n ab:\", cosine(a,b), \"ac:\", cosine(a,c), \"bc:\", cosine(b,c))\n",
    "print(\"Jaccard Dissimilarity (vectors should be boolean values)\\n ab:\", jaccard(a>0,b>0), \"ac:\", jaccard(a>0,c>0), \"bc:\", jaccard(b>0,c>0))\n",
    "print('\\n\\nThe most appropriate distance is...')\n",
    "print('Cosine. It clearly delineates between topics effectively.  B and C are closest, by far, and A is about the save distance from B and C. Euclidean also works well, but not quite as good as cosine')\n",
    "print(\"\\nThe most appropriate distance is Cosine.Because the distances generated from this method make most \\n sense. Bikes and Autos are more related, and Computers are the same distance from Bikes/autos.That is visible from Cosine distance results.\")\n",
    "#https://www.youtube.com/watch?reload=9&v=rnJgYp8ENtY&feature=youtu.be&t=16m16s "
   ]
  },
  {
   "cell_type": "markdown",
   "metadata": {},
   "source": [
    "# Hints\n",
    "https://www.dropbox.com/s/pb7l443vax585pt/ICA3_DataMining.ipynb?dl=0\n",
    "From Joseph Schueder to Everyone:  06:45 PM\n",
    "google says its from 1995\n",
    "From Jake Drew to Everyone:  07:05 PM\n",
    "from scipy.spatial.distance import cosine\n",
    "from scipy.spatial.distance import euclidean\n",
    "from scipy.spatial.distance import jaccard\n",
    "import numpy as np\n",
    "\n",
    "## get first instance (comp)\n",
    "idx = 550\n",
    "a = ds.data[idx].todense()\n",
    "a_class = ds.target_names[ds.target[idx]]\n",
    "print 'Instance A is from class', a_class\n",
    "\n",
    "## get second instance (autos)\n",
    "idx = 4000\n",
    "b = ds.data[idx].todense()\n",
    "b_class = ds.target_names[ds.target[idx]]\n",
    "print 'Instance B is from class', b_class\n",
    "\n",
    "## get third instance (motorcycle)\n",
    "idx = 7000\n",
    "c = ds.data[idx].todense()\n",
    "c_class = ds.target_names[ds.target[idx]]\n",
    "print 'Instance C is from class', c_class\n",
    "\n",
    "## Enter distance comparison below for each pair of vectors:\n",
    "print 'Euclidean Distance\\n ab:', euclidean(a,b), 'ac:', euclidean(a,c), 'bc:', euclidean(b,c)\n",
    "print 'Cosine Distance\\n ab:', cosine(a,b), 'ac:', cosine(a,c), 'bc:', cosine(b,c)\n",
    "print 'Jaccard Dissimilarity (vectors should be boolean values)\\n ab:', jaccard(a>0,b>0), 'ac:', jaccard(a>0,c>0), 'bc:', jaccard(b>0,c>0)\n",
    "\n",
    "print '\\n\\nThe most appropraite dist\n",
    "From Jake Drew to Everyone:  07:09 PM\n",
    "Hint 1\n",
    "•\tUse sklearn.model_selection and cv.split() for cross validation\n",
    "\n",
    "E3\n",
    "•\tUse a for loop to change the value n_neighbors= and print the accuracy_score(y_test,y_hat) for each value of K.\n",
    "\n",
    "Q3 \n",
    "•\tThe cost of measuring distance with truly sparse data is small--usually smaller than the cost of creating a tree. Sparse data also will not branch well in a KDTree because there are so many zeros. The number of \"zero\" comparisons will mean each tree needs to be very deep. Therefore the benefit of the KDTree is drastically reduced.\n",
    "\n",
    "E4\n",
    "•\tUse a for loop to test your different distance metrics\n",
    "o\tfor d in ['l1','l2','cosine']:\n",
    "\tclf = NearestCentroid(metric=d)  \n",
    "\t\t\n",
    "Q5.  \n",
    "•\tTotal conditionals = # of features or columns * number of classes\n",
    "•\tThere is one \"prior\" for each class.Q6 \n",
    "•\tSparse matrices are much harder to find realistic Gaussian models for because they always have a mean near zero.\n",
    "•\tFor sparse data, it is probably better (and faster) to use multinomial naive Bayes. \n",
    "o\tAn argument can also be made for Bernoulli if binarizing the feature data helps to reduce the complexity of the problem.\t \n",
    "\t\n",
    "Q7 \n",
    "•\tUse a for loop to test both classifiers.       \n",
    "o\tfor clf in [clf_mnb,clf_bnb]:\n",
    "\tclf.fit(X_train, y_train)\n",
    "•\tChange the parameter values in the code above to something like 0.001 for alpha and 0.02 for binarize.\n"
   ]
  },
  {
   "cell_type": "markdown",
   "metadata": {},
   "source": [
    "___\n",
    "# Start of Live Session Assignment\n",
    "___\n",
    "<a id=\"KNN\"></a>\n",
    "<a href=\"#top\">Back to Top</a>\n",
    "## Using scikit-learn with KNN\n",
    "Now let's use stratified cross validation with a holdout set to train a KNN model in `scikit-learn`. Use the example below to train a KNN classifier. The documentation for `KNeighborsClassifier` is here: http://scikit-learn.org/stable/modules/generated/sklearn.neighbors.KNeighborsClassifier.html  \n",
    "\n",
    "**Exercise for part 3**: Use the code below to test what value of `n_neighbors` works best for the given data. *Note: do NOT change the metric to be anything other than `'euclidean'`. Other distance functions are not optimized for the amount of data we are working with.* \n",
    "\n",
    "**Question for part 3**: What is the accuracy of the best classifier you can create for this data (by changing only the `n_neighbors` parameter)? "
   ]
  },
  {
   "cell_type": "code",
   "execution_count": 32,
   "metadata": {},
   "outputs": [
    {
     "name": "stdout",
     "output_type": "stream",
     "text": [
      "Accuracy of classifier with 1 neighbors is: 0.60\n",
      "Accuracy of classifier with 2 neighbors is: 0.56\n",
      "Accuracy of classifier with 3 neighbors is: 0.54\n",
      "Accuracy of classifier with 4 neighbors is: 0.52\n",
      "Accuracy of classifier with 5 neighbors is: 0.51\n"
     ]
    }
   ],
   "source": [
    "from sklearn.model_selection import StratifiedShuffleSplit\n",
    "from sklearn.neighbors import KNeighborsClassifier\n",
    "from sklearn.metrics import accuracy_score\n",
    "from IPython.html import widgets \n",
    "\n",
    "cv = StratifiedShuffleSplit(n_splits = 1, test_size = 0.5, train_size=0.5)\n",
    "X = ds.data\n",
    "y = ds.target\n",
    "# fill in the training and testing data and save as separate variables\n",
    "for trainidx, testidx in cv.split(X,y):\n",
    "    # note that these are sparse matrices\n",
    "    X_train = ds.data[trainidx] \n",
    "    X_test = ds.data[testidx] \n",
    "    y_train = ds.target[trainidx]\n",
    "    y_test = ds.target[testidx]\n",
    "\n",
    "# fill in your code  here to train and test\n",
    "# calculate the accuracy and print it for various values of K\n",
    "#K = 5 \n",
    "    for K in range(1,6):\n",
    "         clf = KNeighborsClassifier(n_neighbors=K, weights='uniform', metric='euclidean')\n",
    "         clf.fit(X_train,y_train)\n",
    "         yhat = clf.predict(X_test)\n",
    "#    X[train], y[train]\n",
    "         total_accuracy = accuracy_score(y_test, yhat)\n",
    "         print('Accuracy of classifier with %d neighbors is: %.2f'%(K,total_accuracy))\n",
    "#acc = 0.2 # overwrite this with the actual accuracy\n",
    "\n",
    "\n",
    "\n",
    "\n"
   ]
  },
  {
   "cell_type": "markdown",
   "metadata": {},
   "source": [
    "The best accuracy is XX with XX neighbors."
   ]
  },
  {
   "cell_type": "markdown",
   "metadata": {},
   "source": [
    "**Question for part 3**: With sparse data, does the use of a KDTree representation make sense? Why or Why not?"
   ]
  },
  {
   "cell_type": "markdown",
   "metadata": {},
   "source": [
    "Enter your answer below:\n",
    "\n",
    "No. The use of a KD Tree does not make sense when you are working with Sparse Data.  The cost of Creating a Tree is going to be much greater than that of building a tree using KNN when there is text involved and the number of classifiers. With KNN, measuring distance is relatively easy on a computer, while building a tree will be difficult to branch since it's highly binary and is going to have very many zeros. \n",
    "\n",
    "\n",
    "Per Wikipedia - In high-dimensional spaces, the curse of dimensionality causes the algorithm to need to visit many more branches than in lower-dimensional spaces. In particular, when the number of points is only slightly higher than the number of dimensions, the algorithm is only slightly better than a linear search of all of the points.\n",
    "\n",
    "https://en.wikipedia.org/wiki/K-d_tree\n",
    "\n",
    "The cost of measuring distance with truly sparse data is small--usually smaller than the cost of creating a tree. Sparse data also will not branch well in a KDTree because there are so many zeros. The number of \"zero\" comparisons will mean each tree needs to be very deep. Therefore the benefit of the KDTree is drastically reduced.\n",
    "___"
   ]
  },
  {
   "cell_type": "markdown",
   "metadata": {
    "collapsed": true
   },
   "source": [
    "_____\n",
    "## KNN extensions - Centroids\n",
    "Now lets look at a very closely related classifier to KNN, called nearest centroid. In this classifier (which is more appropriate for big data scenarios and sparse data), the training step is used to calculate the centroids for each class. These centroids are saved. Unknown attributes, at prediction time, only need to have distances calculated for each saved centroid, drastically decreasing the time required for a prediction. \n",
    "\n",
    "**Exercise for part 4**: Use the template code below to create a nearest centroid classifier. Test which metric has the best cross validated performance: Euclidean, Cosine, or Manhattan. In `scikit-learn` you can see the documentation for NearestCentroid here: \n",
    "- http://scikit-learn.org/stable/modules/generated/sklearn.neighbors.NearestCentroid.html#sklearn.neighbors.NearestCentroid\n",
    "\n",
    "and for supported distance metrics here:\n",
    "- http://scikit-learn.org/stable/modules/generated/sklearn.metrics.pairwise.distance_metrics.html#sklearn.metrics.pairwise.distance_metrics"
   ]
  },
  {
   "cell_type": "code",
   "execution_count": 46,
   "metadata": {},
   "outputs": [
    {
     "name": "stdout",
     "output_type": "stream",
     "text": [
      "l1 0.32738200459607564\n",
      "l2 0.40834364504154147\n",
      "euclidean 0.40834364504154147\n",
      "cosine 0.48559307053208417\n",
      "manhattan 0.1833127099169171\n",
      "The best distance metric is: cosine\n"
     ]
    }
   ],
   "source": [
    "import warnings\n",
    "warnings.simplefilter(\"ignore\", UserWarning)\n",
    "\n",
    "from sklearn.neighbors.nearest_centroid import NearestCentroid\n",
    "\n",
    "# the parameters for the nearest centroid metric to test are:\n",
    "#    l1, l2, and cosine (all are optimized)\n",
    "for trainidx, testidx in cv.split(X,y):\n",
    "    # note that these are sparse matrices\n",
    "    X_train = ds.data[trainidx] \n",
    "    X_test = ds.data[testidx] \n",
    "    y_train = ds.target[trainidx]\n",
    "    y_test = ds.target[testidx]\n",
    "\n",
    "# fill in your code  here to train and test\n",
    "# calculate the accuracy and print it for various values of K\n",
    "#K = 5 \n",
    "    for distance in ['l1', 'l2', 'euclidean', 'cosine', 'manhattan']:\n",
    "         clf = NearestCentroid(metric=distance)\n",
    "         clf.fit(X_train,y_train)\n",
    "         yhat = clf.predict(X_test)\n",
    "\n",
    "         total_accuracy = accuracy_score(y_test, yhat)\n",
    "         print(distance, total_accuracy)\n",
    "#acc = 0.2 # overwrite this with the actual accuracy\n",
    "        \n",
    "        \n",
    "print('The best distance metric is: cosine')"
   ]
  },
  {
   "cell_type": "markdown",
   "metadata": {},
   "source": [
    "___\n",
    "<a id=\"naive\"></a>\n",
    "<a href=\"#top\">Back to Top</a>\n",
    "## Naive Bayes Classification\n",
    "Now let's look at the use of the Naive Bayes classifier. The 20 newsgroups dataset has 20 classes and about 130,000 features per instance. Recall that the Naive Bayes classifer calculates a posterior distribution for each possible class. Each posterior distribution is a multiplication of many conditional distributions: \n",
    "\n",
    "$${\\arg \\max}_{j} \\left(p(class=j)\\prod_{i} p(attribute=i|class=j) \\right)$$\n",
    "\n",
    "where $p(class=j)$ is the prior and $p(attribute=i|class=j)$ is the conditional probability.\n",
    "\n",
    "**Question for part 5**: With this many classes and features, how many different conditional probabilities need to be parameterized? How many priors need to be parameterized?"
   ]
  },
  {
   "cell_type": "markdown",
   "metadata": {},
   "source": [
    "Enter you answer here:  \n",
    "  \n",
    "total conditionals = # of features or columns * number of classes  \n",
    "total conditionals = 20*130107  \n",
    "total conditionals = 2602140  \n",
    "How many priors need to be parameterized? one for each class or 20 that need to be parameterized.  \n"
   ]
  },
  {
   "cell_type": "code",
   "execution_count": 47,
   "metadata": {},
   "outputs": [
    {
     "data": {
      "text/plain": [
       "2602140"
      ]
     },
     "execution_count": 47,
     "metadata": {},
     "output_type": "execute_result"
    }
   ],
   "source": [
    "# Use this space for any calculations you might want to do\n",
    "20*130107"
   ]
  },
  {
   "cell_type": "markdown",
   "metadata": {},
   "source": [
    "___\n",
    "## Naive Bayes in Scikit-learn\n",
    "Scikit has several implementations of the Naive Bayes classifier: `GaussianNB`, `MultinomialNB`, and `BernoulliNB`. Look at the documentation here: http://scikit-learn.org/stable/modules/naive_bayes.html Take a look at each implementation and then answer this question: \n",
    "\n",
    "**Questions for part 6**: \n",
    "- If the instances contain mostly continuous attributes, would it be better to use Gaussian Naive Bayes, Multinomial Naive Bayes, or Bernoulli? And Why? \n",
    "- What if the data is sparse, does this change your answer? Why or Why not?"
   ]
  },
  {
   "cell_type": "markdown",
   "metadata": {},
   "source": [
    "Enter you answer here:\n",
    "If the instances contain mostly continuous attributes, would it be better to use Gaussian Naive Bayes, Multinomial Naive Bayes, or Bernoulli?   \n",
    "For continuous it would be best to use Gaussian because it would normalize the numbers. \n",
    "\n",
    "What if the data is sparse, does this change your answer? Why or Why not?  \n",
    "Sparse matrices are much harder to find realistic Gaussian models for because they always have a mean near zero.   \n",
    "For sparse data, it is probably better (and faster) to use multinomial naive Bayes.   \n",
    "An argument can also be made for Bernoulli if binarizing the feature data helps to reduce the complexity of the problem. \n",
    "\n",
    "___"
   ]
  },
  {
   "cell_type": "markdown",
   "metadata": {},
   "source": [
    "## Naive Bayes Comparison\n",
    "For the final section of this notebook let's compare the performance of Naive Bayes for document classification. Look at the parameters for `MultinomialNB`, and `BernoulliNB` (especially `alpha` and `binarize`). \n",
    "\n",
    "**Exercise for part 7**: Using the example code below, change the parameters for each classifier and see how accurate you can make the classifiers on the test set. \n",
    "\n",
    "**Question for part 7**: Why are these implementations so fast to train? What does the `'alpha'` value control in these models (*i.e.*, how does it change the parameterizations)? "
   ]
  },
  {
   "cell_type": "code",
   "execution_count": 53,
   "metadata": {},
   "outputs": [],
   "source": [
    "from sklearn.naive_bayes import MultinomialNB\n",
    "from sklearn.naive_bayes import BernoulliNB\n",
    "\n",
    "\n",
    "clf_mnb = MultinomialNB(alpha=1.0)\n",
    "clf_bnb = BernoulliNB(alpha=1.0, binarize=0.0)\n",
    "\n",
    "# fill in your code here\n",
    "# the parameters for the nearest centroid metric to test are:\n",
    "#    l1, l2, and cosine (all are optimized)\n",
    "for trainidx, testidx in cv.split(X,y):\n",
    "    # note that these are sparse matrices\n",
    "    X_train = ds.data[trainidx] \n",
    "    X_test = ds.data[testidx] \n",
    "    y_train = ds.target[trainidx]\n",
    "    y_test = ds.target[testidx]\n",
    "\n",
    "      \n",
    "    \n",
    "\n",
    "            \n",
    "\n"
   ]
  },
  {
   "cell_type": "code",
   "execution_count": 59,
   "metadata": {},
   "outputs": [
    {
     "name": "stdout",
     "output_type": "stream",
     "text": [
      "Accuracy of MultinomialNB classifier for alpha = 0.000 is: 0.865\n",
      "Accuracy of MultinomialNB classifier for alpha = 0.001 is: 0.890\n",
      "Accuracy of MultinomialNB classifier for alpha = 0.010 is: 0.882\n",
      "Accuracy of MultinomialNB classifier for alpha = 0.100 is: 0.830\n",
      "Accuracy of MultinomialNB classifier for alpha = 1.000 is: 0.690\n",
      "================================================================================\n",
      "Accuracy of BernoulliNB classifier for (alpha=0.000, binarize=0.000) is: 0.851\n",
      "Accuracy of BernoulliNB classifier for (alpha=0.000, binarize=0.002) is: 0.857\n",
      "Accuracy of BernoulliNB classifier for (alpha=0.000, binarize=0.020) is: 0.859\n",
      "Accuracy of BernoulliNB classifier for (alpha=0.000, binarize=0.040) is: 0.846\n",
      "Accuracy of BernoulliNB classifier for (alpha=0.000, binarize=0.060) is: 0.803\n",
      "Accuracy of BernoulliNB classifier for (alpha=0.000, binarize=0.080) is: 0.751\n",
      "Accuracy of BernoulliNB classifier for (alpha=0.000, binarize=0.200) is: 0.345\n",
      "================================================================================\n",
      "Accuracy of BernoulliNB classifier for (alpha=0.001, binarize=0.000) is: 0.841\n",
      "Accuracy of BernoulliNB classifier for (alpha=0.001, binarize=0.002) is: 0.846\n",
      "Accuracy of BernoulliNB classifier for (alpha=0.001, binarize=0.020) is: 0.870\n",
      "Accuracy of BernoulliNB classifier for (alpha=0.001, binarize=0.040) is: 0.864\n",
      "Accuracy of BernoulliNB classifier for (alpha=0.001, binarize=0.060) is: 0.818\n",
      "Accuracy of BernoulliNB classifier for (alpha=0.001, binarize=0.080) is: 0.765\n",
      "Accuracy of BernoulliNB classifier for (alpha=0.001, binarize=0.200) is: 0.345\n",
      "================================================================================\n",
      "Accuracy of BernoulliNB classifier for (alpha=0.010, binarize=0.000) is: 0.829\n",
      "Accuracy of BernoulliNB classifier for (alpha=0.010, binarize=0.002) is: 0.833\n",
      "Accuracy of BernoulliNB classifier for (alpha=0.010, binarize=0.020) is: 0.869\n",
      "Accuracy of BernoulliNB classifier for (alpha=0.010, binarize=0.040) is: 0.863\n",
      "Accuracy of BernoulliNB classifier for (alpha=0.010, binarize=0.060) is: 0.818\n",
      "Accuracy of BernoulliNB classifier for (alpha=0.010, binarize=0.080) is: 0.767\n",
      "Accuracy of BernoulliNB classifier for (alpha=0.010, binarize=0.200) is: 0.344\n",
      "================================================================================\n",
      "Accuracy of BernoulliNB classifier for (alpha=0.100, binarize=0.000) is: 0.785\n",
      "Accuracy of BernoulliNB classifier for (alpha=0.100, binarize=0.002) is: 0.798\n",
      "Accuracy of BernoulliNB classifier for (alpha=0.100, binarize=0.020) is: 0.852\n",
      "Accuracy of BernoulliNB classifier for (alpha=0.100, binarize=0.040) is: 0.844\n",
      "Accuracy of BernoulliNB classifier for (alpha=0.100, binarize=0.060) is: 0.781\n",
      "Accuracy of BernoulliNB classifier for (alpha=0.100, binarize=0.080) is: 0.714\n",
      "Accuracy of BernoulliNB classifier for (alpha=0.100, binarize=0.200) is: 0.295\n",
      "================================================================================\n",
      "Accuracy of BernoulliNB classifier for (alpha=1.000, binarize=0.000) is: 0.620\n",
      "Accuracy of BernoulliNB classifier for (alpha=1.000, binarize=0.002) is: 0.636\n",
      "Accuracy of BernoulliNB classifier for (alpha=1.000, binarize=0.020) is: 0.717\n",
      "Accuracy of BernoulliNB classifier for (alpha=1.000, binarize=0.040) is: 0.654\n",
      "Accuracy of BernoulliNB classifier for (alpha=1.000, binarize=0.060) is: 0.507\n",
      "Accuracy of BernoulliNB classifier for (alpha=1.000, binarize=0.080) is: 0.407\n",
      "Accuracy of BernoulliNB classifier for (alpha=1.000, binarize=0.200) is: 0.111\n"
     ]
    }
   ],
   "source": [
    "a_list = [0.0, 0.001, 0.01, 0.1, 1]\n",
    "b_list = [0.0, 0.002, 0.02, 0.04, 0.06, 0.08, 0.2]\n",
    "\n",
    "for a in a_list:\n",
    "    clf_mnb = MultinomialNB(alpha= a)\n",
    "    acc = clf_mnb.fit(X_train, y_train).score(X_test, y_test)\n",
    "    print('Accuracy of MultinomialNB classifier for alpha = %.3f is: %.3f'%(a,acc))\n",
    "    \n",
    "\n",
    "for a in a_list:\n",
    "    print ('='*80)\n",
    "    for b in b_list:\n",
    "        clf_bnb = BernoulliNB(alpha=a, binarize=b)\n",
    "        acc = clf_bnb.fit(X_train, y_train).score(X_test, y_test)\n",
    "        print(\"Accuracy of BernoulliNB classifier for (alpha=%.3f, binarize=%.3f) is: %.3f\" % (a, b, acc))\n"
   ]
  },
  {
   "cell_type": "code",
   "execution_count": 67,
   "metadata": {},
   "outputs": [
    {
     "name": "stdout",
     "output_type": "stream",
     "text": [
      "Within Bernouli's Classifier, the top binarize score was 0.020 across all the alpha selections we chose. In addition, as long as our alpha is below, 0.1, we can get a high accuracy.\n",
      "The reason they are able to perform so quickly is that the model is built on counting and dividing to create probabilities. In addition, naive bayes assumes independence which decouples the features from one another without the need to account for many weights. Also the alpha values helps to smoothen the model and reduce the impact of features that don't play a role in model performance, and reduces computation required.\n",
      "They do simple calculations of probablilities of the features.  In math terms it is just some counting and dividing.\n",
      "There is no iteration.There is no epoch.There is no optimization of a cost equation. (which can be complex - of cubic order on an average or at least of square order complexity)There is no error back-propagation.There is no operation(s) involving solving a matrix equation\n",
      "https://jakevdp.github.io/PythonDataScienceHandbook/05.05-naive-bayes.html#:~:text=Naive%20Bayes%20models%20are%20a,baseline%20for%20a%20classification%20problem.\n",
      "https://www.quora.com/Why-is-the-Naive-Bayes-algorithm-fast\n",
      "The alpha values control...Additive (Laplace/Lidstone) smoothing parameter (0 for no smoothing).\n"
     ]
    }
   ],
   "source": [
    "print(\"Within Bernouli's Classifier, the top binarize score was 0.020 across all the alpha selections we chose. In addition, as long as our alpha is below, 0.1, we can get a high accuracy.\")\n",
    "print(\"The reason they are able to perform so quickly is that the model is built on counting and dividing to create probabilities. In addition, naive bayes assumes independence which decouples the features from one another without the need to account for many weights. Also the alpha values helps to smoothen the model and reduce the impact of features that don't play a role in model performance, and reduces computation required.\")\n",
    "print(\"They do simple calculations of probablilities of the features.  In math terms it is just some counting and dividing.\")\n",
    "print(\"There is no iteration.There is no epoch.There is no optimization of a cost equation. (which can be complex - of cubic order on an average or at least of square order complexity)There is no error back-propagation.There is no operation(s) involving solving a matrix equation\")      \n",
    "print(\"https://jakevdp.github.io/PythonDataScienceHandbook/05.05-naive-bayes.html#:~:text=Naive%20Bayes%20models%20are%20a,baseline%20for%20a%20classification%20problem.\")\n",
    "print(\"https://www.quora.com/Why-is-the-Naive-Bayes-algorithm-fast\")\n",
    "print(\"The alpha values control...Additive (Laplace/Lidstone) smoothing parameter (0 for no smoothing).\")"
   ]
  },
  {
   "cell_type": "markdown",
   "metadata": {
    "collapsed": true
   },
   "source": [
    "________________________________________________________________________________________________________\n",
    "\n",
    "That's all! Please **upload your rendered notebook to blackboard** and please include **team member names** in the notebook submission."
   ]
  },
  {
   "cell_type": "code",
   "execution_count": null,
   "metadata": {
    "collapsed": true
   },
   "outputs": [],
   "source": []
  }
 ],
 "metadata": {
  "kernelspec": {
   "display_name": "Python 3.7.1 64-bit ('ML7331': conda)",
   "language": "python",
   "name": "python37164bitml7331condaf5c5c353a7fa46f5b783ad99991c2b10"
  },
  "language_info": {
   "codemirror_mode": {
    "name": "ipython",
    "version": 3
   },
   "file_extension": ".py",
   "mimetype": "text/x-python",
   "name": "python",
   "nbconvert_exporter": "python",
   "pygments_lexer": "ipython3",
   "version": "3.7.1"
  }
 },
 "nbformat": 4,
 "nbformat_minor": 1
}
